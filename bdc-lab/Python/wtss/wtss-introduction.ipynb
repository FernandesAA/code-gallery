{
 "cells": [
  {
   "cell_type": "markdown",
   "metadata": {
    "editable": true,
    "slideshow": {
     "slide_type": ""
    },
    "tags": []
   },
   "source": [
    "<img src=\"https://raw.githubusercontent.com/brazil-data-cube/code-gallery/master/img/wtss/wtss.png?raw=true\" align=\"right\" width=\"64\"/>\n",
    "\n",
    "# <span style=\"color:#336699\">Introduction to the Web Time Series Service (WTSS)</span>\n",
    "<hr style=\"border:2px solid #0077b9;\">\n",
    "\n",
    "<div style=\"text-align: left;\">\n",
    "    <a href=\"https://nbviewer.jupyter.org/github/brazil-data-cube/code-gallery/blob/master/jupyter/Python/wtss/wtss-introduction.ipynb\"><img src=\"https://raw.githubusercontent.com/jupyter/design/master/logos/Badges/nbviewer_badge.svg\" align=\"center\"/></a>\n",
    "</div>\n",
    "\n",
    "<br/>\n",
    "\n",
    "<div style=\"text-align: center;font-size: 90%;\">\n",
    "    Gilberto R. Queiroz<sup><a href=\"https://orcid.org/0000-0001-7534-0219\"><i class=\"fab fa-lg fa-orcid\" style=\"color: #a6ce39\"></i></a></sup>, Raphael Costa, Matheus Zaglia<sup><a href=\"https://orcid.org/0000-0001-6181-2158\"><i class=\"fab fa-lg fa-orcid\" style=\"color: #a6ce39\"></i></a></sup>, Abner dos Anjos, Rennan F. B. Marujo<sup><a href=\"https://orcid.org/0000-0002-0082-9498\"><i class=\"fab fa-lg fa-orcid\" style=\"color: #a6ce39\"></i></a></sup>, Felipe Menino Carlos<sup><a href=\"https://orcid.org/0000-0002-3334-4315\"><i class=\"fab fa-lg fa-orcid\" style=\"color: #a6ce39\"></i></a></sup>\n",
    "    <br/><br/>\n",
    "    Earth Observation and Geoinformatics Division, National Institute for Space Research (INPE)\n",
    "    <br/>\n",
    "    Avenida dos Astronautas, 1758, Jardim da Granja, São José dos Campos, SP 12227-010, Brazil\n",
    "    <br/><br/>\n",
    "    Contact: <a href=\"mailto:brazildatacube@inpe.br\">brazildatacube@inpe.br</a>\n",
    "    <br/><br/>\n",
    "    Last Update: June 14, 2024\n",
    "</div>\n",
    "\n",
    "<br/>\n",
    "\n",
    "<div style=\"text-align: justify;  margin-left: 25%; margin-right: 25%;\">\n",
    "<b>Abstract.</b> This Jupyter Notebook gives an overview on how to use the WTSS service to extract time series from <em>Earth Observation Data Cubes</em>.\n",
    "</div>\n",
    "\n",
    "<br/>\n",
    "<div style=\"text-align: justify;  margin-left: 25%; margin-right: 25%;font-size: 75%; border-style: solid; border-color: #0077b9; border-width: 1px; padding: 5px;\">\n",
    "    <b>This Jupyter Notebook is a supplement to the following paper:</b>\n",
    "    <div style=\"margin-left: 10px; margin-right: 10px\">\n",
    "    Vinhas, L.; Queiroz, G. R.; Ferreira, K. R.; Camara, G. <a href=\"http://www.seer.ufu.br/index.php/revistabrasileiracartografia/article/view/44004\" target=\"_blank\">Web Services for Big Earth Observation Data</a>. Revista Brasileira de Cartografia, v. 69, n. 5, 18 maio 2017.\n",
    "    </div>\n",
    "</div>"
   ]
  },
  {
   "cell_type": "markdown",
   "metadata": {},
   "source": [
    "# Introduction\n",
    "<hr style=\"border:1px solid #0077b9;\">"
   ]
  },
  {
   "cell_type": "markdown",
   "metadata": {},
   "source": [
    "The **W**eb **T**ime **S**eries **S**ervice (WTSS) is a lightweight web service for handling time series data from remote sensing imagery. Given a location and a time interval you can retrieve the according time series as a list of real values.\n",
    "\n",
    "\n",
    "In WTSS a coverage is a three dimensional array associated to spatial and temporal reference systems.\n",
    "\n",
    "WTSS is based on three operations:\n",
    "\n",
    "- ``list_coverages``: returns the list of all available coverages in the service.\n",
    "\n",
    "- ``describe_coverage``: returns the metadata of a given coverage.\n",
    "\n",
    "- ``time_series``: query the database for the list of values for a given location and time interval.\n",
    "\n",
    "This Jupyter Notebook shows how to use WTSS in Python with Brazil Data Cube data."
   ]
  },
  {
   "cell_type": "markdown",
   "metadata": {},
   "source": [
    "## Operations\n",
    "<hr style=\"border:1px solid #0077b9;\">"
   ]
  },
  {
   "cell_type": "markdown",
   "metadata": {},
   "source": [
    "This service is composed by three operations (Figure 2):\n",
    "\n",
    "<div align=\"center\">\n",
    "    <figcaption><strong>Figure 2</strong> - WTSS Operations</figcaption>\n",
    "    <img src=\"https://raw.githubusercontent.com/brazil-data-cube/code-gallery/master/img/wtss/wtss-operations.png?raw=true\" align=\"center\" width=\"768\"/>\n",
    "    <br>\n",
    "    <strong>Source</strong>: Adapted from <i>et al.</i> (2017)\n",
    "</div>\n",
    "\n",
    "- ``list_coverages``: Lists the available *coverages* names on the service;\n",
    "\n",
    "- ``describe_coverage``: recovers the metadata of a *coverage*;\n",
    "\n",
    "- ``time_series``: Extracts time series from a *coverage* given a location on time and space.\n",
    "\n",
    "> The complete description of the input and output formats of each operation are detailed in [WTSS OpenAPI 3.0 specification](https://github.com/brazil-data-cube/wtss-spec).\n",
    "\n",
    "> You can also consult the WTSS clients for [Python](https://github.com/brazil-data-cube/wtss.py) and [R](https://github.com/e-sensing/Rwtss).\n"
   ]
  },
  {
   "cell_type": "markdown",
   "metadata": {},
   "source": [
    "# Python Client API\n",
    "<hr style=\"border:1px solid #0077b9;\">"
   ]
  },
  {
   "cell_type": "markdown",
   "metadata": {},
   "source": [
    "For running the examples in this Jupyter Notebook you will need to install the [WTSS client for Python](https://github.com/brazil-data-cube/wtss.py). To install it from PyPI using `pip`, use the following command:"
   ]
  },
  {
   "cell_type": "code",
   "execution_count": 55,
   "metadata": {
    "editable": true,
    "scrolled": true,
    "slideshow": {
     "slide_type": ""
    },
    "tags": []
   },
   "outputs": [
    {
     "name": "stdout",
     "output_type": "stream",
     "text": [
      "Collecting git+https://github.com/brazil-data-cube/wtss.py@b-0.7\n",
      "  Cloning https://github.com/brazil-data-cube/wtss.py (to revision b-0.7) to /tmp/pip-req-build-t7vw3qa2\n",
      "  Running command git clone --filter=blob:none --quiet https://github.com/brazil-data-cube/wtss.py /tmp/pip-req-build-t7vw3qa2\n",
      "  Running command git checkout -b b-0.7 --track origin/b-0.7\n",
      "  Switched to a new branch 'b-0.7'\n",
      "  Branch 'b-0.7' set up to track remote branch 'b-0.7' from 'origin'.\n",
      "  Resolved https://github.com/brazil-data-cube/wtss.py to commit 9d4922827da0978e80f57f01633eebf23fb37daa\n",
      "  Preparing metadata (setup.py) ... \u001b[?25ldone\n",
      "\u001b[?25hRequirement already satisfied: Click>=7.0 in /opt/conda/envs/geospatial/lib/python3.11/site-packages (from wtss==0.7.1) (8.1.7)\n",
      "Requirement already satisfied: jsonschema>=3.2 in /opt/conda/envs/geospatial/lib/python3.11/site-packages (from wtss==0.7.1) (4.21.1)\n",
      "Requirement already satisfied: requests>=2.20 in /opt/conda/envs/geospatial/lib/python3.11/site-packages (from wtss==0.7.1) (2.31.0)\n",
      "Requirement already satisfied: Jinja2>=2.10 in /opt/conda/envs/geospatial/lib/python3.11/site-packages (from wtss==0.7.1) (3.1.3)\n",
      "Requirement already satisfied: MarkupSafe>=2.0 in /opt/conda/envs/geospatial/lib/python3.11/site-packages (from Jinja2>=2.10->wtss==0.7.1) (2.1.5)\n",
      "Requirement already satisfied: attrs>=22.2.0 in /opt/conda/envs/geospatial/lib/python3.11/site-packages (from jsonschema>=3.2->wtss==0.7.1) (23.2.0)\n",
      "Requirement already satisfied: jsonschema-specifications>=2023.03.6 in /opt/conda/envs/geospatial/lib/python3.11/site-packages (from jsonschema>=3.2->wtss==0.7.1) (2023.12.1)\n",
      "Requirement already satisfied: referencing>=0.28.4 in /opt/conda/envs/geospatial/lib/python3.11/site-packages (from jsonschema>=3.2->wtss==0.7.1) (0.35.0)\n",
      "Requirement already satisfied: rpds-py>=0.7.1 in /opt/conda/envs/geospatial/lib/python3.11/site-packages (from jsonschema>=3.2->wtss==0.7.1) (0.18.0)\n",
      "Requirement already satisfied: charset-normalizer<4,>=2 in /opt/conda/envs/geospatial/lib/python3.11/site-packages (from requests>=2.20->wtss==0.7.1) (3.3.2)\n",
      "Requirement already satisfied: idna<4,>=2.5 in /opt/conda/envs/geospatial/lib/python3.11/site-packages (from requests>=2.20->wtss==0.7.1) (3.7)\n",
      "Requirement already satisfied: urllib3<3,>=1.21.1 in /opt/conda/envs/geospatial/lib/python3.11/site-packages (from requests>=2.20->wtss==0.7.1) (2.2.1)\n",
      "Requirement already satisfied: certifi>=2017.4.17 in /opt/conda/envs/geospatial/lib/python3.11/site-packages (from requests>=2.20->wtss==0.7.1) (2024.2.2)\n"
     ]
    }
   ],
   "source": [
    "!pip install git+https://github.com/brazil-data-cube/wtss.py@b-0.7"
   ]
  },
  {
   "cell_type": "markdown",
   "metadata": {},
   "source": [
    "In order to access the funcionalities of the client API, you should import the `wtss` package, as follows:"
   ]
  },
  {
   "cell_type": "code",
   "execution_count": 56,
   "metadata": {},
   "outputs": [],
   "source": [
    "from wtss import *"
   ]
  },
  {
   "cell_type": "markdown",
   "metadata": {},
   "source": [
    "After that, you should create a `wtss` object attached to a given service:"
   ]
  },
  {
   "cell_type": "code",
   "execution_count": 57,
   "metadata": {},
   "outputs": [],
   "source": [
    "service = WTSS('https://data.inpe.br/bdc/wtss/v4/')"
   ]
  },
  {
   "cell_type": "markdown",
   "metadata": {},
   "source": [
    "The above cell will create an object named `service` that will allow us to comunicate to the given WTSS service."
   ]
  },
  {
   "cell_type": "markdown",
   "metadata": {},
   "source": [
    "<img src=\"https://raw.githubusercontent.com/brazil-data-cube/code-gallery/master/img/wtss/list-coverages.png?raw=true\" align=\"right\" width=\"220\"/>\n",
    "\n",
    "# Listing the Available Data Products\n",
    "<hr style=\"border:1px solid #0077b9;\">\n",
    "\n",
    "The object `service` allows to list the available coverages:"
   ]
  },
  {
   "cell_type": "code",
   "execution_count": 58,
   "metadata": {
    "editable": true,
    "slideshow": {
     "slide_type": ""
    },
    "tags": []
   },
   "outputs": [
    {
     "data": {
      "text/plain": [
       "['mod13q1-6.0', 'myd13q1-6.0', 'S2-16D-2']"
      ]
     },
     "execution_count": 58,
     "metadata": {},
     "output_type": "execute_result"
    }
   ],
   "source": [
    "service.coverages"
   ]
  },
  {
   "cell_type": "markdown",
   "metadata": {},
   "source": [
    "The names returned by this property can be used in subsequent operations.\n",
    "\n",
    "The complete `WTSS` class is documented [here](https://wtss.readthedocs.io/en/latest/class_wtss.html)."
   ]
  },
  {
   "cell_type": "markdown",
   "metadata": {},
   "source": [
    "<img src=\"https://raw.githubusercontent.com/brazil-data-cube/code-gallery/master/img/wtss/describe-coverage.png?raw=true\" align=\"right\" width=\"220\"/>\n",
    "\n",
    "# Retrieving the Metadata of a Data Product\n",
    "<hr style=\"border:1px solid #0077b9;\">\n",
    "\n",
    "It is possible to access the metadata of a specific coverage with the `operator[]`:"
   ]
  },
  {
   "cell_type": "code",
   "execution_count": 59,
   "metadata": {},
   "outputs": [
    {
     "data": {
      "text/html": [
       "<div>\n",
       "    <div>\n",
       "        <b>Coverage</b> S2-16D-2\n",
       "    </div>\n",
       "    <br/>\n",
       "    <div>\n",
       "        <b>Description:</b> Earth Observation Data Cube generated from Copernicus Sentinel-2/MSI Level-2A product over Brazil. This dataset is provided in Cloud Optimized GeoTIFF (COG) file format. The dataset is processed with 10 meters of spatial resolution, reprojected and cropped to BDC_SM grid Version 2 (BDC_SM V2), considering a temporal compositing function of 16 days using the Least Cloud Cover First (LCF) best pixel approach.\n",
       "    </div>\n",
       "    <br/>\n",
       "    <div>\n",
       "        <b>Attributes</b>\n",
       "    </div>\n",
       "    <div>\n",
       "        <table>\n",
       "            <tr>\n",
       "            </tr>\n",
       "            <tr>\n",
       "                <th>name</th>\n",
       "                <th>common name</th>\n",
       "                <th>description</th>\n",
       "                <th>datatype</th>\n",
       "                <th>valid range</th>\n",
       "                <th>scale</th>\n",
       "                <th>nodata</th>\n",
       "            </tr>\n",
       "            <tr>\n",
       "                <td>CLEAROB</td>\n",
       "                <td>ClearOb</td>\n",
       "                <td></td>\n",
       "                <td>uint8</td>\n",
       "                <td>{&#39;min&#39;: 1.0, &#39;max&#39;: 255.0}</td>\n",
       "                <td>1.0</td>\n",
       "                <td>0.0</td>\n",
       "            </tr><tr>\n",
       "                <td>TOTALOB</td>\n",
       "                <td>TotalOb</td>\n",
       "                <td></td>\n",
       "                <td>uint8</td>\n",
       "                <td>{&#39;min&#39;: 1.0, &#39;max&#39;: 255.0}</td>\n",
       "                <td>1.0</td>\n",
       "                <td>0.0</td>\n",
       "            </tr><tr>\n",
       "                <td>PROVENANCE</td>\n",
       "                <td>Provenance</td>\n",
       "                <td></td>\n",
       "                <td>int16</td>\n",
       "                <td>{&#39;min&#39;: 1.0, &#39;max&#39;: 366.0}</td>\n",
       "                <td>1.0</td>\n",
       "                <td>-1.0</td>\n",
       "            </tr><tr>\n",
       "                <td>SCL</td>\n",
       "                <td>quality</td>\n",
       "                <td></td>\n",
       "                <td>uint8</td>\n",
       "                <td>{&#39;min&#39;: 0.0, &#39;max&#39;: 11.0}</td>\n",
       "                <td>1.0</td>\n",
       "                <td>0.0</td>\n",
       "            </tr><tr>\n",
       "                <td>B01</td>\n",
       "                <td>coastal</td>\n",
       "                <td></td>\n",
       "                <td>uint16</td>\n",
       "                <td>{&#39;min&#39;: 0.0, &#39;max&#39;: 10000.0}</td>\n",
       "                <td>0.0001</td>\n",
       "                <td>0.0</td>\n",
       "            </tr><tr>\n",
       "                <td>B02</td>\n",
       "                <td>blue</td>\n",
       "                <td></td>\n",
       "                <td>uint16</td>\n",
       "                <td>{&#39;min&#39;: 0.0, &#39;max&#39;: 10000.0}</td>\n",
       "                <td>0.0001</td>\n",
       "                <td>0.0</td>\n",
       "            </tr><tr>\n",
       "                <td>B04</td>\n",
       "                <td>red</td>\n",
       "                <td></td>\n",
       "                <td>uint16</td>\n",
       "                <td>{&#39;min&#39;: 0.0, &#39;max&#39;: 10000.0}</td>\n",
       "                <td>0.0001</td>\n",
       "                <td>0.0</td>\n",
       "            </tr><tr>\n",
       "                <td>B05</td>\n",
       "                <td>rededge</td>\n",
       "                <td></td>\n",
       "                <td>uint16</td>\n",
       "                <td>{&#39;min&#39;: 0.0, &#39;max&#39;: 10000.0}</td>\n",
       "                <td>0.0001</td>\n",
       "                <td>0.0</td>\n",
       "            </tr><tr>\n",
       "                <td>B06</td>\n",
       "                <td>rededge</td>\n",
       "                <td></td>\n",
       "                <td>uint16</td>\n",
       "                <td>{&#39;min&#39;: 0.0, &#39;max&#39;: 10000.0}</td>\n",
       "                <td>0.0001</td>\n",
       "                <td>0.0</td>\n",
       "            </tr><tr>\n",
       "                <td>B07</td>\n",
       "                <td>rededge</td>\n",
       "                <td></td>\n",
       "                <td>uint16</td>\n",
       "                <td>{&#39;min&#39;: 0.0, &#39;max&#39;: 10000.0}</td>\n",
       "                <td>0.0001</td>\n",
       "                <td>0.0</td>\n",
       "            </tr><tr>\n",
       "                <td>B08</td>\n",
       "                <td>nir</td>\n",
       "                <td></td>\n",
       "                <td>uint16</td>\n",
       "                <td>{&#39;min&#39;: 0.0, &#39;max&#39;: 10000.0}</td>\n",
       "                <td>0.0001</td>\n",
       "                <td>0.0</td>\n",
       "            </tr><tr>\n",
       "                <td>B8A</td>\n",
       "                <td>nir08</td>\n",
       "                <td></td>\n",
       "                <td>uint16</td>\n",
       "                <td>{&#39;min&#39;: 0.0, &#39;max&#39;: 10000.0}</td>\n",
       "                <td>0.0001</td>\n",
       "                <td>0.0</td>\n",
       "            </tr><tr>\n",
       "                <td>B09</td>\n",
       "                <td>nir09</td>\n",
       "                <td></td>\n",
       "                <td>uint16</td>\n",
       "                <td>{&#39;min&#39;: 0.0, &#39;max&#39;: 10000.0}</td>\n",
       "                <td>0.0001</td>\n",
       "                <td>0.0</td>\n",
       "            </tr><tr>\n",
       "                <td>B03</td>\n",
       "                <td>green</td>\n",
       "                <td></td>\n",
       "                <td>uint16</td>\n",
       "                <td>{&#39;min&#39;: 0.0, &#39;max&#39;: 10000.0}</td>\n",
       "                <td>0.0001</td>\n",
       "                <td>0.0</td>\n",
       "            </tr><tr>\n",
       "                <td>B11</td>\n",
       "                <td>swir16</td>\n",
       "                <td></td>\n",
       "                <td>uint16</td>\n",
       "                <td>{&#39;min&#39;: 0.0, &#39;max&#39;: 10000.0}</td>\n",
       "                <td>0.0001</td>\n",
       "                <td>0.0</td>\n",
       "            </tr><tr>\n",
       "                <td>B12</td>\n",
       "                <td>swir22</td>\n",
       "                <td></td>\n",
       "                <td>uint16</td>\n",
       "                <td>{&#39;min&#39;: 0.0, &#39;max&#39;: 10000.0}</td>\n",
       "                <td>0.0001</td>\n",
       "                <td>0.0</td>\n",
       "            </tr><tr>\n",
       "                <td>EVI</td>\n",
       "                <td>evi</td>\n",
       "                <td></td>\n",
       "                <td>int16</td>\n",
       "                <td>{&#39;min&#39;: -10000.0, &#39;max&#39;: 10000.0}</td>\n",
       "                <td>0.0001</td>\n",
       "                <td>-9999.0</td>\n",
       "            </tr><tr>\n",
       "                <td>NDVI</td>\n",
       "                <td>ndvi</td>\n",
       "                <td></td>\n",
       "                <td>int16</td>\n",
       "                <td>{&#39;min&#39;: -10000.0, &#39;max&#39;: 10000.0}</td>\n",
       "                <td>0.0001</td>\n",
       "                <td>-9999.0</td>\n",
       "            </tr><tr>\n",
       "                <td>NBR</td>\n",
       "                <td>nbr</td>\n",
       "                <td></td>\n",
       "                <td>int16</td>\n",
       "                <td>{&#39;min&#39;: -10000.0, &#39;max&#39;: 10000.0}</td>\n",
       "                <td>0.0001</td>\n",
       "                <td>-9999.0</td>\n",
       "            </tr>\n",
       "        </table>\n",
       "    </div>\n",
       "    </br>\n",
       "    <div>\n",
       "        <b>Extent</b>\n",
       "    </div>\n",
       "    <div>\n",
       "        <table>\n",
       "            <tr>\n",
       "                <th>xmin</th>\n",
       "                <th>ymin</th>\n",
       "                <th>xmax</th>\n",
       "                <th>ymax</th>\n",
       "            </tr>\n",
       "             <tr>\n",
       "                 <td>-74.871069</td>\n",
       "                 <td>-34.67556459214432</td>\n",
       "                 <td>-28.006208041654325</td>\n",
       "                 <td>5.763264005526926</td>\n",
       "             </tr>\n",
       "        </table>\n",
       "    </div>\n",
       "    <br/>\n",
       "    <div>\n",
       "        <b>Timeline</b>\n",
       "    </div>\n",
       "    <div>\n",
       "        <select id=\"timeline\" size=\"10\">\n",
       "        <option value=\"{d}\">2018-01-01</option><option value=\"{d}\">2018-01-17</option><option value=\"{d}\">2018-02-02</option><option value=\"{d}\">2018-02-18</option><option value=\"{d}\">2018-03-06</option><option value=\"{d}\">2018-03-22</option><option value=\"{d}\">2018-04-07</option><option value=\"{d}\">2018-04-23</option><option value=\"{d}\">2018-05-09</option><option value=\"{d}\">2018-05-25</option><option value=\"{d}\">2018-06-10</option><option value=\"{d}\">2018-06-26</option><option value=\"{d}\">2018-07-12</option><option value=\"{d}\">2018-07-28</option><option value=\"{d}\">2018-08-13</option><option value=\"{d}\">2018-08-29</option><option value=\"{d}\">2018-09-14</option><option value=\"{d}\">2018-09-30</option><option value=\"{d}\">2018-10-16</option><option value=\"{d}\">2018-11-01</option><option value=\"{d}\">2018-11-17</option><option value=\"{d}\">2018-12-03</option><option value=\"{d}\">2018-12-19</option><option value=\"{d}\">2019-01-01</option><option value=\"{d}\">2019-01-17</option><option value=\"{d}\">2019-02-02</option><option value=\"{d}\">2019-02-18</option><option value=\"{d}\">2019-03-06</option><option value=\"{d}\">2019-03-22</option><option value=\"{d}\">2019-04-07</option><option value=\"{d}\">2019-04-23</option><option value=\"{d}\">2019-05-09</option><option value=\"{d}\">2019-05-25</option><option value=\"{d}\">2019-06-10</option><option value=\"{d}\">2019-06-26</option><option value=\"{d}\">2019-07-12</option><option value=\"{d}\">2019-07-28</option><option value=\"{d}\">2019-08-13</option><option value=\"{d}\">2019-08-29</option><option value=\"{d}\">2019-09-14</option><option value=\"{d}\">2019-09-30</option><option value=\"{d}\">2019-10-16</option><option value=\"{d}\">2019-11-01</option><option value=\"{d}\">2019-11-17</option><option value=\"{d}\">2019-12-03</option><option value=\"{d}\">2019-12-19</option><option value=\"{d}\">2020-01-01</option><option value=\"{d}\">2020-01-17</option><option value=\"{d}\">2020-02-02</option><option value=\"{d}\">2020-02-18</option><option value=\"{d}\">2020-03-05</option><option value=\"{d}\">2020-03-21</option><option value=\"{d}\">2020-04-06</option><option value=\"{d}\">2020-04-22</option><option value=\"{d}\">2020-05-08</option><option value=\"{d}\">2020-05-24</option><option value=\"{d}\">2020-06-09</option><option value=\"{d}\">2020-06-25</option><option value=\"{d}\">2020-07-11</option><option value=\"{d}\">2020-07-27</option><option value=\"{d}\">2020-08-12</option><option value=\"{d}\">2020-08-28</option><option value=\"{d}\">2020-09-13</option><option value=\"{d}\">2020-09-29</option><option value=\"{d}\">2020-10-15</option><option value=\"{d}\">2020-10-31</option><option value=\"{d}\">2020-11-16</option><option value=\"{d}\">2020-12-02</option><option value=\"{d}\">2020-12-18</option><option value=\"{d}\">2021-01-01</option><option value=\"{d}\">2021-01-17</option><option value=\"{d}\">2021-02-02</option><option value=\"{d}\">2021-02-18</option><option value=\"{d}\">2021-03-06</option><option value=\"{d}\">2021-03-22</option><option value=\"{d}\">2021-04-07</option><option value=\"{d}\">2021-04-23</option><option value=\"{d}\">2021-05-09</option><option value=\"{d}\">2021-05-25</option><option value=\"{d}\">2021-06-10</option><option value=\"{d}\">2021-06-26</option><option value=\"{d}\">2021-07-12</option><option value=\"{d}\">2021-07-28</option><option value=\"{d}\">2021-08-13</option><option value=\"{d}\">2021-08-29</option><option value=\"{d}\">2021-09-14</option><option value=\"{d}\">2021-09-30</option><option value=\"{d}\">2021-10-16</option><option value=\"{d}\">2021-11-01</option><option value=\"{d}\">2021-11-17</option><option value=\"{d}\">2021-12-03</option><option value=\"{d}\">2021-12-19</option><option value=\"{d}\">2022-01-01</option><option value=\"{d}\">2022-01-17</option><option value=\"{d}\">2022-02-02</option><option value=\"{d}\">2022-02-18</option><option value=\"{d}\">2022-03-06</option><option value=\"{d}\">2022-03-22</option><option value=\"{d}\">2022-04-07</option><option value=\"{d}\">2022-04-23</option><option value=\"{d}\">2022-05-09</option><option value=\"{d}\">2022-05-25</option><option value=\"{d}\">2022-06-10</option><option value=\"{d}\">2022-06-26</option><option value=\"{d}\">2022-07-12</option><option value=\"{d}\">2022-07-28</option><option value=\"{d}\">2022-08-13</option><option value=\"{d}\">2022-08-29</option><option value=\"{d}\">2022-09-14</option><option value=\"{d}\">2022-09-30</option><option value=\"{d}\">2022-10-16</option><option value=\"{d}\">2022-11-01</option><option value=\"{d}\">2022-11-17</option><option value=\"{d}\">2022-12-03</option><option value=\"{d}\">2022-12-19</option><option value=\"{d}\">2023-01-01</option><option value=\"{d}\">2023-01-17</option><option value=\"{d}\">2023-02-02</option><option value=\"{d}\">2023-02-18</option><option value=\"{d}\">2023-03-06</option><option value=\"{d}\">2023-03-22</option><option value=\"{d}\">2023-04-07</option><option value=\"{d}\">2023-04-23</option><option value=\"{d}\">2023-05-09</option><option value=\"{d}\">2023-05-25</option><option value=\"{d}\">2023-06-10</option><option value=\"{d}\">2023-06-26</option><option value=\"{d}\">2023-07-12</option><option value=\"{d}\">2023-07-28</option><option value=\"{d}\">2023-08-13</option><option value=\"{d}\">2023-08-29</option><option value=\"{d}\">2023-09-14</option><option value=\"{d}\">2023-09-30</option><option value=\"{d}\">2023-10-16</option><option value=\"{d}\">2024-02-18</option><option value=\"{d}\">2024-01-17</option><option value=\"{d}\">2024-01-01</option><option value=\"{d}\">2023-11-01</option><option value=\"{d}\">2023-11-17</option><option value=\"{d}\">2023-12-03</option><option value=\"{d}\">2023-12-19</option><option value=\"{d}\">2024-02-02</option><option value=\"{d}\">2024-03-05</option><option value=\"{d}\">2017-06-26</option><option value=\"{d}\">2017-01-01</option><option value=\"{d}\">2017-02-18</option><option value=\"{d}\">2017-12-03</option><option value=\"{d}\">2017-05-25</option><option value=\"{d}\">2017-08-29</option><option value=\"{d}\">2017-04-07</option><option value=\"{d}\">2017-10-16</option><option value=\"{d}\">2017-01-17</option><option value=\"{d}\">2017-09-30</option><option value=\"{d}\">2017-02-02</option><option value=\"{d}\">2017-11-17</option><option value=\"{d}\">2017-07-28</option><option value=\"{d}\">2017-12-19</option><option value=\"{d}\">2017-06-10</option><option value=\"{d}\">2017-05-09</option><option value=\"{d}\">2017-03-06</option><option value=\"{d}\">2017-04-23</option><option value=\"{d}\">2017-08-13</option><option value=\"{d}\">2017-09-14</option><option value=\"{d}\">2017-07-12</option><option value=\"{d}\">2017-11-01</option><option value=\"{d}\">2017-03-22</option><option value=\"{d}\">2024-03-21</option><option value=\"{d}\">2024-04-22</option><option value=\"{d}\">2024-04-06</option><option value=\"{d}\">2024-05-24</option><option value=\"{d}\">2024-05-08</option>\n",
       "        </select>\n",
       "    </div>\n",
       "</div>"
      ],
      "text/plain": []
     },
     "execution_count": 59,
     "metadata": {},
     "output_type": "execute_result"
    }
   ],
   "source": [
    "service['S2-16D-2']"
   ]
  },
  {
   "cell_type": "markdown",
   "metadata": {},
   "source": [
    "<div style=\"text-align: center;  margin-left: 25%; margin-right: 25%; border-style: solid; border-color: #0077b9; border-width: 1px; padding: 5px;\">\n",
    "    <b>Note:</b> In Jupyter, you can use the <em>tab key</em> for auto-completition of the coverage name.\n",
    "</div>"
   ]
  },
  {
   "cell_type": "markdown",
   "metadata": {},
   "source": [
    "The coverage metadata data includes its range in the spatial and temporal dimensions, the list of attributes associated to the cells, and its associated timeline.\n",
    "\n",
    "\n",
    "Let's inspect the metadata with more detail:"
   ]
  },
  {
   "cell_type": "code",
   "execution_count": 60,
   "metadata": {},
   "outputs": [],
   "source": [
    "coverage = service['S2-16D-2']"
   ]
  },
  {
   "cell_type": "code",
   "execution_count": 61,
   "metadata": {},
   "outputs": [
    {
     "data": {
      "text/plain": [
       "'S2-16D-2'"
      ]
     },
     "execution_count": 61,
     "metadata": {},
     "output_type": "execute_result"
    }
   ],
   "source": [
    "coverage.name"
   ]
  },
  {
   "cell_type": "code",
   "execution_count": 62,
   "metadata": {},
   "outputs": [
    {
     "data": {
      "text/plain": [
       "'Earth Observation Data Cube generated from Copernicus Sentinel-2/MSI Level-2A product over Brazil. This dataset is provided in Cloud Optimized GeoTIFF (COG) file format. The dataset is processed with 10 meters of spatial resolution, reprojected and cropped to BDC_SM grid Version 2 (BDC_SM V2), considering a temporal compositing function of 16 days using the Least Cloud Cover First (LCF) best pixel approach.'"
      ]
     },
     "execution_count": 62,
     "metadata": {},
     "output_type": "execute_result"
    }
   ],
   "source": [
    "coverage.description"
   ]
  },
  {
   "cell_type": "code",
   "execution_count": 63,
   "metadata": {
    "scrolled": true
   },
   "outputs": [
    {
     "data": {
      "text/plain": [
       "[{'name': 'CLEAROB',\n",
       "  'description': '',\n",
       "  'datatype': 'uint8',\n",
       "  'valid_range': {'min': 1.0, 'max': 255.0},\n",
       "  'common_name': 'ClearOb',\n",
       "  'scale_factor': 1.0,\n",
       "  'missing_value': 0.0},\n",
       " {'name': 'TOTALOB',\n",
       "  'description': '',\n",
       "  'datatype': 'uint8',\n",
       "  'valid_range': {'min': 1.0, 'max': 255.0},\n",
       "  'common_name': 'TotalOb',\n",
       "  'scale_factor': 1.0,\n",
       "  'missing_value': 0.0},\n",
       " {'name': 'PROVENANCE',\n",
       "  'description': '',\n",
       "  'datatype': 'int16',\n",
       "  'valid_range': {'min': 1.0, 'max': 366.0},\n",
       "  'common_name': 'Provenance',\n",
       "  'scale_factor': 1.0,\n",
       "  'missing_value': -1.0},\n",
       " {'name': 'SCL',\n",
       "  'description': '',\n",
       "  'datatype': 'uint8',\n",
       "  'valid_range': {'min': 0.0, 'max': 11.0},\n",
       "  'common_name': 'quality',\n",
       "  'scale_factor': 1.0,\n",
       "  'missing_value': 0.0},\n",
       " {'name': 'B01',\n",
       "  'description': '',\n",
       "  'datatype': 'uint16',\n",
       "  'valid_range': {'min': 0.0, 'max': 10000.0},\n",
       "  'common_name': 'coastal',\n",
       "  'scale_factor': 0.0001,\n",
       "  'missing_value': 0.0},\n",
       " {'name': 'B02',\n",
       "  'description': '',\n",
       "  'datatype': 'uint16',\n",
       "  'valid_range': {'min': 0.0, 'max': 10000.0},\n",
       "  'common_name': 'blue',\n",
       "  'scale_factor': 0.0001,\n",
       "  'missing_value': 0.0},\n",
       " {'name': 'B04',\n",
       "  'description': '',\n",
       "  'datatype': 'uint16',\n",
       "  'valid_range': {'min': 0.0, 'max': 10000.0},\n",
       "  'common_name': 'red',\n",
       "  'scale_factor': 0.0001,\n",
       "  'missing_value': 0.0},\n",
       " {'name': 'B05',\n",
       "  'description': '',\n",
       "  'datatype': 'uint16',\n",
       "  'valid_range': {'min': 0.0, 'max': 10000.0},\n",
       "  'common_name': 'rededge',\n",
       "  'scale_factor': 0.0001,\n",
       "  'missing_value': 0.0},\n",
       " {'name': 'B06',\n",
       "  'description': '',\n",
       "  'datatype': 'uint16',\n",
       "  'valid_range': {'min': 0.0, 'max': 10000.0},\n",
       "  'common_name': 'rededge',\n",
       "  'scale_factor': 0.0001,\n",
       "  'missing_value': 0.0},\n",
       " {'name': 'B07',\n",
       "  'description': '',\n",
       "  'datatype': 'uint16',\n",
       "  'valid_range': {'min': 0.0, 'max': 10000.0},\n",
       "  'common_name': 'rededge',\n",
       "  'scale_factor': 0.0001,\n",
       "  'missing_value': 0.0},\n",
       " {'name': 'B08',\n",
       "  'description': '',\n",
       "  'datatype': 'uint16',\n",
       "  'valid_range': {'min': 0.0, 'max': 10000.0},\n",
       "  'common_name': 'nir',\n",
       "  'scale_factor': 0.0001,\n",
       "  'missing_value': 0.0},\n",
       " {'name': 'B8A',\n",
       "  'description': '',\n",
       "  'datatype': 'uint16',\n",
       "  'valid_range': {'min': 0.0, 'max': 10000.0},\n",
       "  'common_name': 'nir08',\n",
       "  'scale_factor': 0.0001,\n",
       "  'missing_value': 0.0},\n",
       " {'name': 'B09',\n",
       "  'description': '',\n",
       "  'datatype': 'uint16',\n",
       "  'valid_range': {'min': 0.0, 'max': 10000.0},\n",
       "  'common_name': 'nir09',\n",
       "  'scale_factor': 0.0001,\n",
       "  'missing_value': 0.0},\n",
       " {'name': 'B03',\n",
       "  'description': '',\n",
       "  'datatype': 'uint16',\n",
       "  'valid_range': {'min': 0.0, 'max': 10000.0},\n",
       "  'common_name': 'green',\n",
       "  'scale_factor': 0.0001,\n",
       "  'missing_value': 0.0},\n",
       " {'name': 'B11',\n",
       "  'description': '',\n",
       "  'datatype': 'uint16',\n",
       "  'valid_range': {'min': 0.0, 'max': 10000.0},\n",
       "  'common_name': 'swir16',\n",
       "  'scale_factor': 0.0001,\n",
       "  'missing_value': 0.0},\n",
       " {'name': 'B12',\n",
       "  'description': '',\n",
       "  'datatype': 'uint16',\n",
       "  'valid_range': {'min': 0.0, 'max': 10000.0},\n",
       "  'common_name': 'swir22',\n",
       "  'scale_factor': 0.0001,\n",
       "  'missing_value': 0.0},\n",
       " {'name': 'EVI',\n",
       "  'description': '',\n",
       "  'datatype': 'int16',\n",
       "  'valid_range': {'min': -10000.0, 'max': 10000.0},\n",
       "  'common_name': 'evi',\n",
       "  'scale_factor': 0.0001,\n",
       "  'missing_value': -9999.0},\n",
       " {'name': 'NDVI',\n",
       "  'description': '',\n",
       "  'datatype': 'int16',\n",
       "  'valid_range': {'min': -10000.0, 'max': 10000.0},\n",
       "  'common_name': 'ndvi',\n",
       "  'scale_factor': 0.0001,\n",
       "  'missing_value': -9999.0},\n",
       " {'name': 'NBR',\n",
       "  'description': '',\n",
       "  'datatype': 'int16',\n",
       "  'valid_range': {'min': -10000.0, 'max': 10000.0},\n",
       "  'common_name': 'nbr',\n",
       "  'scale_factor': 0.0001,\n",
       "  'missing_value': -9999.0}]"
      ]
     },
     "execution_count": 63,
     "metadata": {},
     "output_type": "execute_result"
    }
   ],
   "source": [
    "coverage.attributes"
   ]
  },
  {
   "cell_type": "code",
   "execution_count": 64,
   "metadata": {},
   "outputs": [
    {
     "data": {
      "text/plain": [
       "{'x': {'name': 'col_id', 'min_idx': 1, 'max_idx': 10560},\n",
       " 'y': {'name': 'row_id', 'min_idx': 1, 'max_idx': 10560},\n",
       " 't': {'name': 'time_id', 'min_idx': 1, 'max_idx': 171}}"
      ]
     },
     "execution_count": 64,
     "metadata": {},
     "output_type": "execute_result"
    }
   ],
   "source": [
    "coverage.dimensions"
   ]
  },
  {
   "cell_type": "code",
   "execution_count": 65,
   "metadata": {},
   "outputs": [
    {
     "data": {
      "text/plain": [
       "{'xmin': -74.871069,\n",
       " 'ymin': -34.67556459214432,\n",
       " 'xmax': -28.006208041654325,\n",
       " 'ymax': 5.763264005526926}"
      ]
     },
     "execution_count": 65,
     "metadata": {},
     "output_type": "execute_result"
    }
   ],
   "source": [
    "coverage.spatial_extent"
   ]
  },
  {
   "cell_type": "code",
   "execution_count": 66,
   "metadata": {},
   "outputs": [
    {
     "name": "stdout",
     "output_type": "stream",
     "text": [
      "Interval range: [2018-01-01, 2024-05-08]\n"
     ]
    }
   ],
   "source": [
    "timeline = coverage.timeline\n",
    "\n",
    "start = timeline[0]\n",
    "end = timeline[-1]\n",
    "\n",
    "print(f'Interval range: [{start}, {end}]')"
   ]
  },
  {
   "cell_type": "markdown",
   "metadata": {},
   "source": [
    "The complete `Coverage` class is documented [here](https://wtss.readthedocs.io/en/latest/class_coverage.html)."
   ]
  },
  {
   "cell_type": "markdown",
   "metadata": {},
   "source": [
    "<img src=\"https://raw.githubusercontent.com/brazil-data-cube/code-gallery/master/img/wtss/time-series.png?raw=true\" align=\"right\" width=\"220\"/>\n",
    "\n",
    "# Retrieving the Time Series\n",
    "<hr style=\"border:1px solid #0077b9;\">\n",
    "\n",
    "In order to retrieve the time series for attributes `red` and `nir`, in the location of `latitude -12` and `longitude -54` from `January 1st, 2019` to `December 31st, 2019`, use the `ts` method:"
   ]
  },
  {
   "cell_type": "code",
   "execution_count": 67,
   "metadata": {},
   "outputs": [],
   "source": [
    "ts = coverage.ts(attributes=('B04', 'B08'),\n",
    "                 latitude=-9.41866, longitude=-61.46103,\n",
    "                 start_date='2019-01-01', end_date='2019-12-31')"
   ]
  },
  {
   "cell_type": "code",
   "execution_count": 68,
   "metadata": {},
   "outputs": [
    {
     "data": {
      "text/html": [
       "<div>\n",
       "    <div>\n",
       "        <b>Time Series</b> S2-16D-2\n",
       "    </div>\n",
       "    <br/>\n",
       "    <div>\n",
       "        <div>\n",
       "            <b>B04:</b> [312, 441, 1800, 3154, 294, 901, 333, 285, 143, 167, 129, 183, 148, 747, 745, 674, 673, 708, 415, 1083, 8071, 678, 3695]\n",
       "        </div><div>\n",
       "            <b>B08:</b> [3897, 3964, 3908, 4831, 2759, 2114, 3221, 2362, 2774, 2630, 2638, 2601, 2552, 2356, 2146, 1077, 1035, 1003, 686, 1493, 7741, 1338, 4165]\n",
       "        </div>\n",
       "    </div>\n",
       "    <br/>\n",
       "    <div>\n",
       "        <b>timeline</b>\n",
       "    </div>\n",
       "    <div>\n",
       "        <select id=\"timeline\" size=\"10\">\n",
       "        <option value=\"{d}\">2019-01-01</option><option value=\"{d}\">2019-01-17</option><option value=\"{d}\">2019-02-02</option><option value=\"{d}\">2019-02-18</option><option value=\"{d}\">2019-03-06</option><option value=\"{d}\">2019-03-22</option><option value=\"{d}\">2019-04-07</option><option value=\"{d}\">2019-04-23</option><option value=\"{d}\">2019-05-09</option><option value=\"{d}\">2019-05-25</option><option value=\"{d}\">2019-06-10</option><option value=\"{d}\">2019-06-26</option><option value=\"{d}\">2019-07-12</option><option value=\"{d}\">2019-07-28</option><option value=\"{d}\">2019-08-13</option><option value=\"{d}\">2019-08-29</option><option value=\"{d}\">2019-09-14</option><option value=\"{d}\">2019-09-30</option><option value=\"{d}\">2019-10-16</option><option value=\"{d}\">2019-11-01</option><option value=\"{d}\">2019-11-17</option><option value=\"{d}\">2019-12-03</option><option value=\"{d}\">2019-12-19</option>\n",
       "        </select>\n",
       "    </div>\n",
       "</div>"
      ],
      "text/plain": []
     },
     "execution_count": 68,
     "metadata": {},
     "output_type": "execute_result"
    }
   ],
   "source": [
    "ts"
   ]
  },
  {
   "cell_type": "markdown",
   "metadata": {},
   "source": [
    "Each time series can be accessed by the name of the attribute:"
   ]
  },
  {
   "cell_type": "code",
   "execution_count": 69,
   "metadata": {},
   "outputs": [
    {
     "data": {
      "text/plain": [
       "[312,\n",
       " 441,\n",
       " 1800,\n",
       " 3154,\n",
       " 294,\n",
       " 901,\n",
       " 333,\n",
       " 285,\n",
       " 143,\n",
       " 167,\n",
       " 129,\n",
       " 183,\n",
       " 148,\n",
       " 747,\n",
       " 745,\n",
       " 674,\n",
       " 673,\n",
       " 708,\n",
       " 415,\n",
       " 1083,\n",
       " 8071,\n",
       " 678,\n",
       " 3695]"
      ]
     },
     "execution_count": 69,
     "metadata": {},
     "output_type": "execute_result"
    }
   ],
   "source": [
    "ts.B04"
   ]
  },
  {
   "cell_type": "code",
   "execution_count": 70,
   "metadata": {},
   "outputs": [
    {
     "data": {
      "text/plain": [
       "[3897,\n",
       " 3964,\n",
       " 3908,\n",
       " 4831,\n",
       " 2759,\n",
       " 2114,\n",
       " 3221,\n",
       " 2362,\n",
       " 2774,\n",
       " 2630,\n",
       " 2638,\n",
       " 2601,\n",
       " 2552,\n",
       " 2356,\n",
       " 2146,\n",
       " 1077,\n",
       " 1035,\n",
       " 1003,\n",
       " 686,\n",
       " 1493,\n",
       " 7741,\n",
       " 1338,\n",
       " 4165]"
      ]
     },
     "execution_count": 70,
     "metadata": {},
     "output_type": "execute_result"
    }
   ],
   "source": [
    "ts.B08"
   ]
  },
  {
   "cell_type": "markdown",
   "metadata": {},
   "source": [
    "It is also possible to access the time points associated to the values:"
   ]
  },
  {
   "cell_type": "code",
   "execution_count": 71,
   "metadata": {},
   "outputs": [
    {
     "data": {
      "text/plain": [
       "['2019-01-01',\n",
       " '2019-01-17',\n",
       " '2019-02-02',\n",
       " '2019-02-18',\n",
       " '2019-03-06',\n",
       " '2019-03-22',\n",
       " '2019-04-07',\n",
       " '2019-04-23',\n",
       " '2019-05-09',\n",
       " '2019-05-25',\n",
       " '2019-06-10',\n",
       " '2019-06-26',\n",
       " '2019-07-12',\n",
       " '2019-07-28',\n",
       " '2019-08-13',\n",
       " '2019-08-29',\n",
       " '2019-09-14',\n",
       " '2019-09-30',\n",
       " '2019-10-16',\n",
       " '2019-11-01',\n",
       " '2019-11-17',\n",
       " '2019-12-03',\n",
       " '2019-12-19']"
      ]
     },
     "execution_count": 71,
     "metadata": {},
     "output_type": "execute_result"
    }
   ],
   "source": [
    "ts.timeline"
   ]
  },
  {
   "cell_type": "markdown",
   "metadata": {},
   "source": [
    "The complete `TimeSeries` class is documented [here](https://wtss.readthedocs.io/en/latest/class_timeseries.html)."
   ]
  },
  {
   "cell_type": "markdown",
   "metadata": {},
   "source": [
    "<img src=\"https://raw.githubusercontent.com/brazil-data-cube/code-gallery/master/img/wtss/visualizing-timeseries.png?raw=true\" align=\"right\" width=\"220\"/>\n",
    "\n",
    "# Visualizing the Time Series with Matplotlib\n",
    "<hr style=\"border:1px solid #0077b9;\">\n",
    "\n",
    "If you have Matplotlib and Numpy installed, it is possible to plot the time series with the `plot` method:"
   ]
  },
  {
   "cell_type": "code",
   "execution_count": 72,
   "metadata": {},
   "outputs": [
    {
     "data": {
      "image/png": "[encoded data removed]",
      "text/plain": [
       "<Figure size 640x480 with 1 Axes>"
      ]
     },
     "metadata": {},
     "output_type": "display_data"
    }
   ],
   "source": [
    "ts.plot()"
   ]
  },
  {
   "cell_type": "markdown",
   "metadata": {},
   "source": [
    "# References\n",
    "<hr style=\"border:1px solid #0077b9;\">"
   ]
  },
  {
   "cell_type": "markdown",
   "metadata": {},
   "source": [
    "- [Python Client Library for Web Time Series Service - User Guide](https://wtss.readthedocs.io/en/latest/index.html)\n",
    "\n",
    "\n",
    "- [Python Client Library for Web Time Series Service - GitHub Repository](https://github.com/brazil-data-cube/wtss.py)\n",
    "\n",
    "\n",
    "- [WTSS OpenAPI 3 Specification](https://github.com/brazil-data-cube/wtss-spec)\n",
    "\n",
    "\n",
    "- VINHAS, L.; QUEIROZ, G. R.; FERREIRA, K. R.; CÂMARA, G. [Web Services for Big Earth Observation Data](http://www.seer.ufu.br/index.php/revistabrasileiracartografia/article/view/44004). Revista Brasileira de Cartografia, v. 69, n. 5, 18 maio 2017."
   ]
  },
  {
   "cell_type": "markdown",
   "metadata": {
    "editable": true,
    "slideshow": {
     "slide_type": ""
    },
    "tags": []
   },
   "source": [
    "# See also the following Jupyter Notebooks\n",
    "<hr style=\"border:1px solid #0077b9;\">\n",
    "\n",
    "* [WTSS Examples](./wtss-examples.ipynb)"
   ]
  }
 ],
 "metadata": {
  "kernelspec": {
   "display_name": "Python (Geospatial)",
   "language": "python",
   "name": "geospatial"
  },
  "language_info": {
   "codemirror_mode": {
    "name": "ipython",
    "version": 3
   },
   "file_extension": ".py",
   "mimetype": "text/x-python",
   "name": "python",
   "nbconvert_exporter": "python",
   "pygments_lexer": "ipython3",
   "version": "3.11.6"
  }
 },
 "nbformat": 4,
 "nbformat_minor": 4
}
