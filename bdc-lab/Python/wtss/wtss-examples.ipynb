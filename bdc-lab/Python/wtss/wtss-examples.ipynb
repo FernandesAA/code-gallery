{
 "cells": [
  {
   "cell_type": "markdown",
   "metadata": {},
   "source": [
    "<img src=\"https://raw.githubusercontent.com/brazil-data-cube/code-gallery/master/img/wtss/wtss.png?raw=true\" align=\"right\" width=\"64\"/>\n",
    "\n",
    "# <span style=\"color:#336699\">Web Time Series Service (WTSS) - Examples</span>\n",
    "<hr style=\"border:2px solid #0077b9;\">\n",
    "\n",
    "<div style=\"text-align: left;\">\n",
    "    <a href=\"https://nbviewer.jupyter.org/github/brazil-data-cube/code-gallery/blob/master/jupyter/Python/wtss/wtss-examples.ipynb\"><img src=\"https://raw.githubusercontent.com/jupyter/design/master/logos/Badges/nbviewer_badge.svg\" align=\"center\"/></a>\n",
    "</div>\n",
    "\n",
    "<br/>\n",
    "\n",
    "<div style=\"text-align: center;font-size: 90%;\">\n",
    "    Rennan F. B. Marujo<sup><a href=\"https://orcid.org/0000-0002-0082-9498\"><i class=\"fab fa-lg fa-orcid\" style=\"color: #a6ce39\"></i></a></sup>, Matheus Zaglia<sup><a href=\"https://orcid.org/0000-0001-6181-2158\"><i class=\"fab fa-lg fa-orcid\" style=\"color: #a6ce39\"></i></a></sup>, Gilberto R. Queiroz<sup><a href=\"https://orcid.org/0000-0001-7534-0219\"><i class=\"fab fa-lg fa-orcid\" style=\"color: #a6ce39\"></i></a></sup>, Felipe Menino Carlos<sup><a href=\"https://orcid.org/0000-0002-3334-4315\"><i class=\"fab fa-lg fa-orcid\" style=\"color: #a6ce39\"></i></a></sup>\n",
    "    <br/><br/>\n",
    "    Earth Observation and Geoinformatics Division, National Institute for Space Research (INPE)\n",
    "    <br/>\n",
    "    Avenida dos Astronautas, 1758, Jardim da Granja, São José dos Campos, SP 12227-010, Brazil\n",
    "    <br/><br/>\n",
    "    Contact: <a href=\"mailto:brazildatacube@inpe.br\">brazildatacube@inpe.br</a>\n",
    "    <br/><br/>\n",
    "    Last Update: June 14, 2024\n",
    "</div>\n",
    "\n",
    "<br/>\n",
    "\n",
    "<div style=\"text-align: justify;  margin-left: 25%; margin-right: 25%;\">\n",
    "<b>Abstract.</b> This Jupyter Notebook gives shows how to use the WTSS service to extract time series from <em>Brazil Data Cube</em>' service and how to perform a basic time series manipulation.\n",
    "</div>\n",
    "\n",
    "<br/>\n",
    "<div style=\"text-align: justify;  margin-left: 25%; margin-right: 25%;font-size: 75%; border-style: solid; border-color: #0077b9; border-width: 1px; padding: 5px;\">\n",
    "    <b>This Jupyter Notebook is a supplement to the following paper:</b>\n",
    "    <div style=\"margin-left: 10px; margin-right: 10px\">\n",
    "    Vinhas, L.; Queiroz, G. R.; Ferreira, K. R.; Camara, G. <a href=\"http://www.seer.ufu.br/index.php/revistabrasileiracartografia/article/view/44004\" target=\"_blank\">Web Services for Big Earth Observation Data</a>. Revista Brasileira de Cartografia, v. 69, n. 5, 18 maio 2017.\n",
    "    </div>\n",
    "</div>"
   ]
  },
  {
   "cell_type": "markdown",
   "metadata": {},
   "source": [
    "# Python Client API\n",
    "<hr style=\"border:1px solid #0077b9;\">"
   ]
  },
  {
   "cell_type": "markdown",
   "metadata": {},
   "source": [
    "To run the examples that will be presented in this Jupyter Notebook, you will need to have installed the Python library [wtss.py](https://github.com/brazil-data-cube/wtss.py). Additionally, for the time series visualization and interpolation examples, you will need to have installed the libraries [NumPy](https://numpy.org/), [Pandas](https://pandas.pydata.org/), [Matplotlib](https://matplotlib.org/), [Plotly](https://plotly.com/python/), [SciPy](https://www.scipy.org/) and [Folium] (http://python-visualization.github.io/folium/).\n",
    "\n",
    "The installation of the mentioned libraries can be done with the service [Python Package Index (PyPI)](https://pypi.org/), through the command:"
   ]
  },
  {
   "cell_type": "code",
   "execution_count": 79,
   "metadata": {
    "_cell_guid": "b1076dfc-b9ad-4769-8c92-a6c4dae69d19",
    "_uuid": "8f2839f25d086af736a60e9eeb907d3b93b6e0e5",
    "editable": true,
    "slideshow": {
     "slide_type": ""
    },
    "tags": []
   },
   "outputs": [
    {
     "name": "stdout",
     "output_type": "stream",
     "text": [
      "Collecting git+https://github.com/brazil-data-cube/wtss.py@b-0.7\n",
      "  Cloning https://github.com/brazil-data-cube/wtss.py (to revision b-0.7) to /tmp/pip-req-build-xfmvaykx\n",
      "  Running command git clone --filter=blob:none --quiet https://github.com/brazil-data-cube/wtss.py /tmp/pip-req-build-xfmvaykx\n",
      "  Running command git checkout -b b-0.7 --track origin/b-0.7\n",
      "  Switched to a new branch 'b-0.7'\n",
      "  Branch 'b-0.7' set up to track remote branch 'b-0.7' from 'origin'.\n",
      "  Resolved https://github.com/brazil-data-cube/wtss.py to commit 9d4922827da0978e80f57f01633eebf23fb37daa\n",
      "  Preparing metadata (setup.py) ... \u001b[?25ldone\n",
      "\u001b[?25hRequirement already satisfied: numpy in /opt/conda/envs/geospatial/lib/python3.11/site-packages (1.26.4)\n",
      "Requirement already satisfied: pandas in /opt/conda/envs/geospatial/lib/python3.11/site-packages (2.2.2)\n",
      "Requirement already satisfied: matplotlib in /opt/conda/envs/geospatial/lib/python3.11/site-packages (3.8.4)\n",
      "Requirement already satisfied: plotly in /opt/conda/envs/geospatial/lib/python3.11/site-packages (5.19.0)\n",
      "Requirement already satisfied: scipy in /opt/conda/envs/geospatial/lib/python3.11/site-packages (1.13.0)\n",
      "Requirement already satisfied: folium in /opt/conda/envs/geospatial/lib/python3.11/site-packages (0.16.0)\n",
      "Requirement already satisfied: Click>=7.0 in /opt/conda/envs/geospatial/lib/python3.11/site-packages (from wtss==0.7.1) (8.1.7)\n",
      "Requirement already satisfied: jsonschema>=3.2 in /opt/conda/envs/geospatial/lib/python3.11/site-packages (from wtss==0.7.1) (4.21.1)\n",
      "Requirement already satisfied: requests>=2.20 in /opt/conda/envs/geospatial/lib/python3.11/site-packages (from wtss==0.7.1) (2.31.0)\n",
      "Requirement already satisfied: Jinja2>=2.10 in /opt/conda/envs/geospatial/lib/python3.11/site-packages (from wtss==0.7.1) (3.1.3)\n",
      "Requirement already satisfied: python-dateutil>=2.8.2 in /opt/conda/envs/geospatial/lib/python3.11/site-packages (from pandas) (2.9.0)\n",
      "Requirement already satisfied: pytz>=2020.1 in /opt/conda/envs/geospatial/lib/python3.11/site-packages (from pandas) (2024.1)\n",
      "Requirement already satisfied: tzdata>=2022.7 in /opt/conda/envs/geospatial/lib/python3.11/site-packages (from pandas) (2024.1)\n",
      "Requirement already satisfied: contourpy>=1.0.1 in /opt/conda/envs/geospatial/lib/python3.11/site-packages (from matplotlib) (1.2.1)\n",
      "Requirement already satisfied: cycler>=0.10 in /opt/conda/envs/geospatial/lib/python3.11/site-packages (from matplotlib) (0.12.1)\n",
      "Requirement already satisfied: fonttools>=4.22.0 in /opt/conda/envs/geospatial/lib/python3.11/site-packages (from matplotlib) (4.51.0)\n",
      "Requirement already satisfied: kiwisolver>=1.3.1 in /opt/conda/envs/geospatial/lib/python3.11/site-packages (from matplotlib) (1.4.5)\n",
      "Requirement already satisfied: packaging>=20.0 in /opt/conda/envs/geospatial/lib/python3.11/site-packages (from matplotlib) (24.0)\n",
      "Requirement already satisfied: pillow>=8 in /opt/conda/envs/geospatial/lib/python3.11/site-packages (from matplotlib) (10.0.0)\n",
      "Requirement already satisfied: pyparsing>=2.3.1 in /opt/conda/envs/geospatial/lib/python3.11/site-packages (from matplotlib) (3.1.2)\n",
      "Requirement already satisfied: tenacity>=6.2.0 in /opt/conda/envs/geospatial/lib/python3.11/site-packages (from plotly) (8.2.3)\n",
      "Requirement already satisfied: branca>=0.6.0 in /opt/conda/envs/geospatial/lib/python3.11/site-packages (from folium) (0.7.1)\n",
      "Requirement already satisfied: xyzservices in /opt/conda/envs/geospatial/lib/python3.11/site-packages (from folium) (2024.4.0)\n",
      "Requirement already satisfied: MarkupSafe>=2.0 in /opt/conda/envs/geospatial/lib/python3.11/site-packages (from Jinja2>=2.10->wtss==0.7.1) (2.1.5)\n",
      "Requirement already satisfied: attrs>=22.2.0 in /opt/conda/envs/geospatial/lib/python3.11/site-packages (from jsonschema>=3.2->wtss==0.7.1) (23.2.0)\n",
      "Requirement already satisfied: jsonschema-specifications>=2023.03.6 in /opt/conda/envs/geospatial/lib/python3.11/site-packages (from jsonschema>=3.2->wtss==0.7.1) (2023.12.1)\n",
      "Requirement already satisfied: referencing>=0.28.4 in /opt/conda/envs/geospatial/lib/python3.11/site-packages (from jsonschema>=3.2->wtss==0.7.1) (0.35.0)\n",
      "Requirement already satisfied: rpds-py>=0.7.1 in /opt/conda/envs/geospatial/lib/python3.11/site-packages (from jsonschema>=3.2->wtss==0.7.1) (0.18.0)\n",
      "Requirement already satisfied: six>=1.5 in /opt/conda/envs/geospatial/lib/python3.11/site-packages (from python-dateutil>=2.8.2->pandas) (1.16.0)\n",
      "Requirement already satisfied: charset-normalizer<4,>=2 in /opt/conda/envs/geospatial/lib/python3.11/site-packages (from requests>=2.20->wtss==0.7.1) (3.3.2)\n",
      "Requirement already satisfied: idna<4,>=2.5 in /opt/conda/envs/geospatial/lib/python3.11/site-packages (from requests>=2.20->wtss==0.7.1) (3.7)\n",
      "Requirement already satisfied: urllib3<3,>=1.21.1 in /opt/conda/envs/geospatial/lib/python3.11/site-packages (from requests>=2.20->wtss==0.7.1) (2.2.1)\n",
      "Requirement already satisfied: certifi>=2017.4.17 in /opt/conda/envs/geospatial/lib/python3.11/site-packages (from requests>=2.20->wtss==0.7.1) (2024.2.2)\n"
     ]
    }
   ],
   "source": [
    "!pip install git+https://github.com/brazil-data-cube/wtss.py@b-0.7 numpy pandas matplotlib plotly scipy folium"
   ]
  },
  {
   "cell_type": "code",
   "execution_count": 80,
   "metadata": {},
   "outputs": [
    {
     "name": "stdout",
     "output_type": "stream",
     "text": [
      "Requirement already satisfied: nbformat in /opt/conda/envs/geospatial/lib/python3.11/site-packages (5.10.4)\n",
      "Requirement already satisfied: fastjsonschema>=2.15 in /opt/conda/envs/geospatial/lib/python3.11/site-packages (from nbformat) (2.19.1)\n",
      "Requirement already satisfied: jsonschema>=2.6 in /opt/conda/envs/geospatial/lib/python3.11/site-packages (from nbformat) (4.21.1)\n",
      "Requirement already satisfied: jupyter-core!=5.0.*,>=4.12 in /opt/conda/envs/geospatial/lib/python3.11/site-packages (from nbformat) (5.7.2)\n",
      "Requirement already satisfied: traitlets>=5.1 in /opt/conda/envs/geospatial/lib/python3.11/site-packages (from nbformat) (5.14.3)\n",
      "Requirement already satisfied: attrs>=22.2.0 in /opt/conda/envs/geospatial/lib/python3.11/site-packages (from jsonschema>=2.6->nbformat) (23.2.0)\n",
      "Requirement already satisfied: jsonschema-specifications>=2023.03.6 in /opt/conda/envs/geospatial/lib/python3.11/site-packages (from jsonschema>=2.6->nbformat) (2023.12.1)\n",
      "Requirement already satisfied: referencing>=0.28.4 in /opt/conda/envs/geospatial/lib/python3.11/site-packages (from jsonschema>=2.6->nbformat) (0.35.0)\n",
      "Requirement already satisfied: rpds-py>=0.7.1 in /opt/conda/envs/geospatial/lib/python3.11/site-packages (from jsonschema>=2.6->nbformat) (0.18.0)\n",
      "Requirement already satisfied: platformdirs>=2.5 in /opt/conda/envs/geospatial/lib/python3.11/site-packages (from jupyter-core!=5.0.*,>=4.12->nbformat) (4.2.1)\n"
     ]
    }
   ],
   "source": [
    "!pip install --upgrade nbformat"
   ]
  },
  {
   "cell_type": "markdown",
   "metadata": {},
   "source": [
    "> For more information on [WTSS client for Python](https://github.com/brazil-data-cube/wtss.py), see the introductory Jupyter Notebook about [Web Time Series Service (WTSS)](./wtss-introduction.ipynb) Introduction notebook."
   ]
  },
  {
   "cell_type": "markdown",
   "metadata": {},
   "source": [
    "# Set the service and Search for time series\n",
    "<hr style=\"border:1px solid #0077b9;\">"
   ]
  },
  {
   "cell_type": "markdown",
   "metadata": {},
   "source": [
    "Import the WTSS client library:"
   ]
  },
  {
   "cell_type": "code",
   "execution_count": 81,
   "metadata": {
    "_cell_guid": "79c7e3d0-c299-4dcb-8224-4455121ee9b0",
    "_uuid": "d629ff2d2480ee46fbb7e2d37f6b5fab8052498a"
   },
   "outputs": [],
   "source": [
    "from wtss import WTSS"
   ]
  },
  {
   "cell_type": "markdown",
   "metadata": {},
   "source": [
    "Define the service to be used:"
   ]
  },
  {
   "cell_type": "code",
   "execution_count": 82,
   "metadata": {},
   "outputs": [],
   "source": [
    "service = WTSS('https://data.inpe.br/bdc/wtss/v4/')"
   ]
  },
  {
   "cell_type": "code",
   "execution_count": 83,
   "metadata": {},
   "outputs": [],
   "source": [
    "# service.coverages"
   ]
  },
  {
   "cell_type": "markdown",
   "metadata": {},
   "source": [
    "Let's access the CBERS-4/AWFI coverage using the `CB4-16D-2` product:"
   ]
  },
  {
   "cell_type": "code",
   "execution_count": 84,
   "metadata": {},
   "outputs": [
    {
     "data": {
      "text/html": [
       "<div>\n",
       "    <div>\n",
       "        <b>Coverage</b> S2-16D-2\n",
       "    </div>\n",
       "    <br/>\n",
       "    <div>\n",
       "        <b>Description:</b> Earth Observation Data Cube generated from Copernicus Sentinel-2/MSI Level-2A product over Brazil. This dataset is provided in Cloud Optimized GeoTIFF (COG) file format. The dataset is processed with 10 meters of spatial resolution, reprojected and cropped to BDC_SM grid Version 2 (BDC_SM V2), considering a temporal compositing function of 16 days using the Least Cloud Cover First (LCF) best pixel approach.\n",
       "    </div>\n",
       "    <br/>\n",
       "    <div>\n",
       "        <b>Attributes</b>\n",
       "    </div>\n",
       "    <div>\n",
       "        <table>\n",
       "            <tr>\n",
       "            </tr>\n",
       "            <tr>\n",
       "                <th>name</th>\n",
       "                <th>common name</th>\n",
       "                <th>description</th>\n",
       "                <th>datatype</th>\n",
       "                <th>valid range</th>\n",
       "                <th>scale</th>\n",
       "                <th>nodata</th>\n",
       "            </tr>\n",
       "            <tr>\n",
       "                <td>CLEAROB</td>\n",
       "                <td>ClearOb</td>\n",
       "                <td></td>\n",
       "                <td>uint8</td>\n",
       "                <td>{&#39;min&#39;: 1.0, &#39;max&#39;: 255.0}</td>\n",
       "                <td>1.0</td>\n",
       "                <td>0.0</td>\n",
       "            </tr><tr>\n",
       "                <td>TOTALOB</td>\n",
       "                <td>TotalOb</td>\n",
       "                <td></td>\n",
       "                <td>uint8</td>\n",
       "                <td>{&#39;min&#39;: 1.0, &#39;max&#39;: 255.0}</td>\n",
       "                <td>1.0</td>\n",
       "                <td>0.0</td>\n",
       "            </tr><tr>\n",
       "                <td>PROVENANCE</td>\n",
       "                <td>Provenance</td>\n",
       "                <td></td>\n",
       "                <td>int16</td>\n",
       "                <td>{&#39;min&#39;: 1.0, &#39;max&#39;: 366.0}</td>\n",
       "                <td>1.0</td>\n",
       "                <td>-1.0</td>\n",
       "            </tr><tr>\n",
       "                <td>SCL</td>\n",
       "                <td>quality</td>\n",
       "                <td></td>\n",
       "                <td>uint8</td>\n",
       "                <td>{&#39;min&#39;: 0.0, &#39;max&#39;: 11.0}</td>\n",
       "                <td>1.0</td>\n",
       "                <td>0.0</td>\n",
       "            </tr><tr>\n",
       "                <td>B01</td>\n",
       "                <td>coastal</td>\n",
       "                <td></td>\n",
       "                <td>uint16</td>\n",
       "                <td>{&#39;min&#39;: 0.0, &#39;max&#39;: 10000.0}</td>\n",
       "                <td>0.0001</td>\n",
       "                <td>0.0</td>\n",
       "            </tr><tr>\n",
       "                <td>B02</td>\n",
       "                <td>blue</td>\n",
       "                <td></td>\n",
       "                <td>uint16</td>\n",
       "                <td>{&#39;min&#39;: 0.0, &#39;max&#39;: 10000.0}</td>\n",
       "                <td>0.0001</td>\n",
       "                <td>0.0</td>\n",
       "            </tr><tr>\n",
       "                <td>B04</td>\n",
       "                <td>red</td>\n",
       "                <td></td>\n",
       "                <td>uint16</td>\n",
       "                <td>{&#39;min&#39;: 0.0, &#39;max&#39;: 10000.0}</td>\n",
       "                <td>0.0001</td>\n",
       "                <td>0.0</td>\n",
       "            </tr><tr>\n",
       "                <td>B05</td>\n",
       "                <td>rededge</td>\n",
       "                <td></td>\n",
       "                <td>uint16</td>\n",
       "                <td>{&#39;min&#39;: 0.0, &#39;max&#39;: 10000.0}</td>\n",
       "                <td>0.0001</td>\n",
       "                <td>0.0</td>\n",
       "            </tr><tr>\n",
       "                <td>B06</td>\n",
       "                <td>rededge</td>\n",
       "                <td></td>\n",
       "                <td>uint16</td>\n",
       "                <td>{&#39;min&#39;: 0.0, &#39;max&#39;: 10000.0}</td>\n",
       "                <td>0.0001</td>\n",
       "                <td>0.0</td>\n",
       "            </tr><tr>\n",
       "                <td>B07</td>\n",
       "                <td>rededge</td>\n",
       "                <td></td>\n",
       "                <td>uint16</td>\n",
       "                <td>{&#39;min&#39;: 0.0, &#39;max&#39;: 10000.0}</td>\n",
       "                <td>0.0001</td>\n",
       "                <td>0.0</td>\n",
       "            </tr><tr>\n",
       "                <td>B08</td>\n",
       "                <td>nir</td>\n",
       "                <td></td>\n",
       "                <td>uint16</td>\n",
       "                <td>{&#39;min&#39;: 0.0, &#39;max&#39;: 10000.0}</td>\n",
       "                <td>0.0001</td>\n",
       "                <td>0.0</td>\n",
       "            </tr><tr>\n",
       "                <td>B8A</td>\n",
       "                <td>nir08</td>\n",
       "                <td></td>\n",
       "                <td>uint16</td>\n",
       "                <td>{&#39;min&#39;: 0.0, &#39;max&#39;: 10000.0}</td>\n",
       "                <td>0.0001</td>\n",
       "                <td>0.0</td>\n",
       "            </tr><tr>\n",
       "                <td>B09</td>\n",
       "                <td>nir09</td>\n",
       "                <td></td>\n",
       "                <td>uint16</td>\n",
       "                <td>{&#39;min&#39;: 0.0, &#39;max&#39;: 10000.0}</td>\n",
       "                <td>0.0001</td>\n",
       "                <td>0.0</td>\n",
       "            </tr><tr>\n",
       "                <td>B03</td>\n",
       "                <td>green</td>\n",
       "                <td></td>\n",
       "                <td>uint16</td>\n",
       "                <td>{&#39;min&#39;: 0.0, &#39;max&#39;: 10000.0}</td>\n",
       "                <td>0.0001</td>\n",
       "                <td>0.0</td>\n",
       "            </tr><tr>\n",
       "                <td>B11</td>\n",
       "                <td>swir16</td>\n",
       "                <td></td>\n",
       "                <td>uint16</td>\n",
       "                <td>{&#39;min&#39;: 0.0, &#39;max&#39;: 10000.0}</td>\n",
       "                <td>0.0001</td>\n",
       "                <td>0.0</td>\n",
       "            </tr><tr>\n",
       "                <td>B12</td>\n",
       "                <td>swir22</td>\n",
       "                <td></td>\n",
       "                <td>uint16</td>\n",
       "                <td>{&#39;min&#39;: 0.0, &#39;max&#39;: 10000.0}</td>\n",
       "                <td>0.0001</td>\n",
       "                <td>0.0</td>\n",
       "            </tr><tr>\n",
       "                <td>EVI</td>\n",
       "                <td>evi</td>\n",
       "                <td></td>\n",
       "                <td>int16</td>\n",
       "                <td>{&#39;min&#39;: -10000.0, &#39;max&#39;: 10000.0}</td>\n",
       "                <td>0.0001</td>\n",
       "                <td>-9999.0</td>\n",
       "            </tr><tr>\n",
       "                <td>NDVI</td>\n",
       "                <td>ndvi</td>\n",
       "                <td></td>\n",
       "                <td>int16</td>\n",
       "                <td>{&#39;min&#39;: -10000.0, &#39;max&#39;: 10000.0}</td>\n",
       "                <td>0.0001</td>\n",
       "                <td>-9999.0</td>\n",
       "            </tr><tr>\n",
       "                <td>NBR</td>\n",
       "                <td>nbr</td>\n",
       "                <td></td>\n",
       "                <td>int16</td>\n",
       "                <td>{&#39;min&#39;: -10000.0, &#39;max&#39;: 10000.0}</td>\n",
       "                <td>0.0001</td>\n",
       "                <td>-9999.0</td>\n",
       "            </tr>\n",
       "        </table>\n",
       "    </div>\n",
       "    </br>\n",
       "    <div>\n",
       "        <b>Extent</b>\n",
       "    </div>\n",
       "    <div>\n",
       "        <table>\n",
       "            <tr>\n",
       "                <th>xmin</th>\n",
       "                <th>ymin</th>\n",
       "                <th>xmax</th>\n",
       "                <th>ymax</th>\n",
       "            </tr>\n",
       "             <tr>\n",
       "                 <td>-74.871069</td>\n",
       "                 <td>-34.67556459214432</td>\n",
       "                 <td>-28.006208041654325</td>\n",
       "                 <td>5.763264005526926</td>\n",
       "             </tr>\n",
       "        </table>\n",
       "    </div>\n",
       "    <br/>\n",
       "    <div>\n",
       "        <b>Timeline</b>\n",
       "    </div>\n",
       "    <div>\n",
       "        <select id=\"timeline\" size=\"10\">\n",
       "        <option value=\"{d}\">2018-01-01</option><option value=\"{d}\">2018-01-17</option><option value=\"{d}\">2018-02-02</option><option value=\"{d}\">2018-02-18</option><option value=\"{d}\">2018-03-06</option><option value=\"{d}\">2018-03-22</option><option value=\"{d}\">2018-04-07</option><option value=\"{d}\">2018-04-23</option><option value=\"{d}\">2018-05-09</option><option value=\"{d}\">2018-05-25</option><option value=\"{d}\">2018-06-10</option><option value=\"{d}\">2018-06-26</option><option value=\"{d}\">2018-07-12</option><option value=\"{d}\">2018-07-28</option><option value=\"{d}\">2018-08-13</option><option value=\"{d}\">2018-08-29</option><option value=\"{d}\">2018-09-14</option><option value=\"{d}\">2018-09-30</option><option value=\"{d}\">2018-10-16</option><option value=\"{d}\">2018-11-01</option><option value=\"{d}\">2018-11-17</option><option value=\"{d}\">2018-12-03</option><option value=\"{d}\">2018-12-19</option><option value=\"{d}\">2019-01-01</option><option value=\"{d}\">2019-01-17</option><option value=\"{d}\">2019-02-02</option><option value=\"{d}\">2019-02-18</option><option value=\"{d}\">2019-03-06</option><option value=\"{d}\">2019-03-22</option><option value=\"{d}\">2019-04-07</option><option value=\"{d}\">2019-04-23</option><option value=\"{d}\">2019-05-09</option><option value=\"{d}\">2019-05-25</option><option value=\"{d}\">2019-06-10</option><option value=\"{d}\">2019-06-26</option><option value=\"{d}\">2019-07-12</option><option value=\"{d}\">2019-07-28</option><option value=\"{d}\">2019-08-13</option><option value=\"{d}\">2019-08-29</option><option value=\"{d}\">2019-09-14</option><option value=\"{d}\">2019-09-30</option><option value=\"{d}\">2019-10-16</option><option value=\"{d}\">2019-11-01</option><option value=\"{d}\">2019-11-17</option><option value=\"{d}\">2019-12-03</option><option value=\"{d}\">2019-12-19</option><option value=\"{d}\">2020-01-01</option><option value=\"{d}\">2020-01-17</option><option value=\"{d}\">2020-02-02</option><option value=\"{d}\">2020-02-18</option><option value=\"{d}\">2020-03-05</option><option value=\"{d}\">2020-03-21</option><option value=\"{d}\">2020-04-06</option><option value=\"{d}\">2020-04-22</option><option value=\"{d}\">2020-05-08</option><option value=\"{d}\">2020-05-24</option><option value=\"{d}\">2020-06-09</option><option value=\"{d}\">2020-06-25</option><option value=\"{d}\">2020-07-11</option><option value=\"{d}\">2020-07-27</option><option value=\"{d}\">2020-08-12</option><option value=\"{d}\">2020-08-28</option><option value=\"{d}\">2020-09-13</option><option value=\"{d}\">2020-09-29</option><option value=\"{d}\">2020-10-15</option><option value=\"{d}\">2020-10-31</option><option value=\"{d}\">2020-11-16</option><option value=\"{d}\">2020-12-02</option><option value=\"{d}\">2020-12-18</option><option value=\"{d}\">2021-01-01</option><option value=\"{d}\">2021-01-17</option><option value=\"{d}\">2021-02-02</option><option value=\"{d}\">2021-02-18</option><option value=\"{d}\">2021-03-06</option><option value=\"{d}\">2021-03-22</option><option value=\"{d}\">2021-04-07</option><option value=\"{d}\">2021-04-23</option><option value=\"{d}\">2021-05-09</option><option value=\"{d}\">2021-05-25</option><option value=\"{d}\">2021-06-10</option><option value=\"{d}\">2021-06-26</option><option value=\"{d}\">2021-07-12</option><option value=\"{d}\">2021-07-28</option><option value=\"{d}\">2021-08-13</option><option value=\"{d}\">2021-08-29</option><option value=\"{d}\">2021-09-14</option><option value=\"{d}\">2021-09-30</option><option value=\"{d}\">2021-10-16</option><option value=\"{d}\">2021-11-01</option><option value=\"{d}\">2021-11-17</option><option value=\"{d}\">2021-12-03</option><option value=\"{d}\">2021-12-19</option><option value=\"{d}\">2022-01-01</option><option value=\"{d}\">2022-01-17</option><option value=\"{d}\">2022-02-02</option><option value=\"{d}\">2022-02-18</option><option value=\"{d}\">2022-03-06</option><option value=\"{d}\">2022-03-22</option><option value=\"{d}\">2022-04-07</option><option value=\"{d}\">2022-04-23</option><option value=\"{d}\">2022-05-09</option><option value=\"{d}\">2022-05-25</option><option value=\"{d}\">2022-06-10</option><option value=\"{d}\">2022-06-26</option><option value=\"{d}\">2022-07-12</option><option value=\"{d}\">2022-07-28</option><option value=\"{d}\">2022-08-13</option><option value=\"{d}\">2022-08-29</option><option value=\"{d}\">2022-09-14</option><option value=\"{d}\">2022-09-30</option><option value=\"{d}\">2022-10-16</option><option value=\"{d}\">2022-11-01</option><option value=\"{d}\">2022-11-17</option><option value=\"{d}\">2022-12-03</option><option value=\"{d}\">2022-12-19</option><option value=\"{d}\">2023-01-01</option><option value=\"{d}\">2023-01-17</option><option value=\"{d}\">2023-02-02</option><option value=\"{d}\">2023-02-18</option><option value=\"{d}\">2023-03-06</option><option value=\"{d}\">2023-03-22</option><option value=\"{d}\">2023-04-07</option><option value=\"{d}\">2023-04-23</option><option value=\"{d}\">2023-05-09</option><option value=\"{d}\">2023-05-25</option><option value=\"{d}\">2023-06-10</option><option value=\"{d}\">2023-06-26</option><option value=\"{d}\">2023-07-12</option><option value=\"{d}\">2023-07-28</option><option value=\"{d}\">2023-08-13</option><option value=\"{d}\">2023-08-29</option><option value=\"{d}\">2023-09-14</option><option value=\"{d}\">2023-09-30</option><option value=\"{d}\">2023-10-16</option><option value=\"{d}\">2024-02-18</option><option value=\"{d}\">2024-01-17</option><option value=\"{d}\">2024-01-01</option><option value=\"{d}\">2023-11-01</option><option value=\"{d}\">2023-11-17</option><option value=\"{d}\">2023-12-03</option><option value=\"{d}\">2023-12-19</option><option value=\"{d}\">2024-02-02</option><option value=\"{d}\">2024-03-05</option><option value=\"{d}\">2017-06-26</option><option value=\"{d}\">2017-01-01</option><option value=\"{d}\">2017-02-18</option><option value=\"{d}\">2017-12-03</option><option value=\"{d}\">2017-05-25</option><option value=\"{d}\">2017-08-29</option><option value=\"{d}\">2017-04-07</option><option value=\"{d}\">2017-10-16</option><option value=\"{d}\">2017-01-17</option><option value=\"{d}\">2017-09-30</option><option value=\"{d}\">2017-02-02</option><option value=\"{d}\">2017-11-17</option><option value=\"{d}\">2017-07-28</option><option value=\"{d}\">2017-12-19</option><option value=\"{d}\">2017-06-10</option><option value=\"{d}\">2017-05-09</option><option value=\"{d}\">2017-03-06</option><option value=\"{d}\">2017-04-23</option><option value=\"{d}\">2017-08-13</option><option value=\"{d}\">2017-09-14</option><option value=\"{d}\">2017-07-12</option><option value=\"{d}\">2017-11-01</option><option value=\"{d}\">2017-03-22</option><option value=\"{d}\">2024-03-21</option><option value=\"{d}\">2024-04-22</option><option value=\"{d}\">2024-04-06</option><option value=\"{d}\">2024-05-24</option><option value=\"{d}\">2024-05-08</option>\n",
       "        </select>\n",
       "    </div>\n",
       "</div>"
      ],
      "text/plain": []
     },
     "execution_count": 84,
     "metadata": {},
     "output_type": "execute_result"
    }
   ],
   "source": [
    "s2_coverage = service['S2-16D-2']\n",
    "s2_coverage"
   ]
  },
  {
   "cell_type": "markdown",
   "metadata": {},
   "source": [
    "Sentinel-2 spectral bands 04 and 08 correspond to the red and near-infrared (NIR) wavelength regions, respectivelly:"
   ]
  },
  {
   "cell_type": "code",
   "execution_count": 85,
   "metadata": {},
   "outputs": [],
   "source": [
    "red_band = 'B04'\n",
    "nir_band = 'B08'"
   ]
  },
  {
   "cell_type": "markdown",
   "metadata": {},
   "source": [
    "Let's retrieve the time series for data product `S2-16D-2`, in the location of `latitude -16.817` and `longitude -52.079` from January 1st, 2019 to December 31st, 2019, using the `ts` method:"
   ]
  },
  {
   "cell_type": "code",
   "execution_count": 86,
   "metadata": {
    "editable": true,
    "slideshow": {
     "slide_type": ""
    },
    "tags": []
   },
   "outputs": [],
   "source": [
    "time_series = s2_coverage.ts(attributes=(red_band, nir_band),\n",
    "                                 latitude=-9.41866, \n",
    "                                 longitude=-61.46103,\n",
    "                                 start_date=\"2019-01-01\",\n",
    "                                 end_date=\"2019-12-31\")"
   ]
  },
  {
   "cell_type": "markdown",
   "metadata": {},
   "source": [
    "# Plot the Time Series\n",
    "<hr style=\"border:1px solid #0077b9;\">"
   ]
  },
  {
   "cell_type": "markdown",
   "metadata": {},
   "source": [
    "**Static Visualization**\n",
    "\n",
    "Once with the time series, one can visualize it using the `plot` method:"
   ]
  },
  {
   "cell_type": "code",
   "execution_count": 87,
   "metadata": {},
   "outputs": [
    {
     "data": {
      "image/png": "[encoded data removed]",
      "text/plain": [
       "<Figure size 640x480 with 1 Axes>"
      ]
     },
     "metadata": {},
     "output_type": "display_data"
    }
   ],
   "source": [
    "time_series.plot()"
   ]
  },
  {
   "cell_type": "markdown",
   "metadata": {},
   "source": [
    "**Interactive Visualization**\n",
    "\n",
    "Another way to visualize the time series is through interactive graphics, which allow dinamically explore the time series patterns.\n",
    "\n",
    "To do that, we will use the [Plotly](https://plotly.com/python/) and [Pandas](https://pandas.pydata.org/) libraries, which can be imported as:"
   ]
  },
  {
   "cell_type": "code",
   "execution_count": 88,
   "metadata": {},
   "outputs": [],
   "source": [
    "import pandas as pd\n",
    "import plotly.express as px"
   ]
  },
  {
   "cell_type": "markdown",
   "metadata": {},
   "source": [
    "Let's create a `pandas.DataFrame` containing the temporal attributes for `B04` and `B08`:"
   ]
  },
  {
   "cell_type": "code",
   "execution_count": 89,
   "metadata": {},
   "outputs": [
    {
     "data": {
      "text/html": [
       "<div>\n",
       "<style scoped>\n",
       "    .dataframe tbody tr th:only-of-type {\n",
       "        vertical-align: middle;\n",
       "    }\n",
       "\n",
       "    .dataframe tbody tr th {\n",
       "        vertical-align: top;\n",
       "    }\n",
       "\n",
       "    .dataframe thead th {\n",
       "        text-align: right;\n",
       "    }\n",
       "</style>\n",
       "<table border=\"1\" class=\"dataframe\">\n",
       "  <thead>\n",
       "    <tr style=\"text-align: right;\">\n",
       "      <th></th>\n",
       "      <th>B04</th>\n",
       "      <th>B08</th>\n",
       "    </tr>\n",
       "  </thead>\n",
       "  <tbody>\n",
       "    <tr>\n",
       "      <th>2019-01-01</th>\n",
       "      <td>312</td>\n",
       "      <td>3897</td>\n",
       "    </tr>\n",
       "    <tr>\n",
       "      <th>2019-01-17</th>\n",
       "      <td>441</td>\n",
       "      <td>3964</td>\n",
       "    </tr>\n",
       "    <tr>\n",
       "      <th>2019-02-02</th>\n",
       "      <td>1800</td>\n",
       "      <td>3908</td>\n",
       "    </tr>\n",
       "    <tr>\n",
       "      <th>2019-02-18</th>\n",
       "      <td>3154</td>\n",
       "      <td>4831</td>\n",
       "    </tr>\n",
       "    <tr>\n",
       "      <th>2019-03-06</th>\n",
       "      <td>294</td>\n",
       "      <td>2759</td>\n",
       "    </tr>\n",
       "    <tr>\n",
       "      <th>2019-03-22</th>\n",
       "      <td>901</td>\n",
       "      <td>2114</td>\n",
       "    </tr>\n",
       "    <tr>\n",
       "      <th>2019-04-07</th>\n",
       "      <td>333</td>\n",
       "      <td>3221</td>\n",
       "    </tr>\n",
       "    <tr>\n",
       "      <th>2019-04-23</th>\n",
       "      <td>285</td>\n",
       "      <td>2362</td>\n",
       "    </tr>\n",
       "    <tr>\n",
       "      <th>2019-05-09</th>\n",
       "      <td>143</td>\n",
       "      <td>2774</td>\n",
       "    </tr>\n",
       "    <tr>\n",
       "      <th>2019-05-25</th>\n",
       "      <td>167</td>\n",
       "      <td>2630</td>\n",
       "    </tr>\n",
       "    <tr>\n",
       "      <th>2019-06-10</th>\n",
       "      <td>129</td>\n",
       "      <td>2638</td>\n",
       "    </tr>\n",
       "    <tr>\n",
       "      <th>2019-06-26</th>\n",
       "      <td>183</td>\n",
       "      <td>2601</td>\n",
       "    </tr>\n",
       "    <tr>\n",
       "      <th>2019-07-12</th>\n",
       "      <td>148</td>\n",
       "      <td>2552</td>\n",
       "    </tr>\n",
       "    <tr>\n",
       "      <th>2019-07-28</th>\n",
       "      <td>747</td>\n",
       "      <td>2356</td>\n",
       "    </tr>\n",
       "    <tr>\n",
       "      <th>2019-08-13</th>\n",
       "      <td>745</td>\n",
       "      <td>2146</td>\n",
       "    </tr>\n",
       "    <tr>\n",
       "      <th>2019-08-29</th>\n",
       "      <td>674</td>\n",
       "      <td>1077</td>\n",
       "    </tr>\n",
       "    <tr>\n",
       "      <th>2019-09-14</th>\n",
       "      <td>673</td>\n",
       "      <td>1035</td>\n",
       "    </tr>\n",
       "    <tr>\n",
       "      <th>2019-09-30</th>\n",
       "      <td>708</td>\n",
       "      <td>1003</td>\n",
       "    </tr>\n",
       "    <tr>\n",
       "      <th>2019-10-16</th>\n",
       "      <td>415</td>\n",
       "      <td>686</td>\n",
       "    </tr>\n",
       "    <tr>\n",
       "      <th>2019-11-01</th>\n",
       "      <td>1083</td>\n",
       "      <td>1493</td>\n",
       "    </tr>\n",
       "    <tr>\n",
       "      <th>2019-11-17</th>\n",
       "      <td>8071</td>\n",
       "      <td>7741</td>\n",
       "    </tr>\n",
       "    <tr>\n",
       "      <th>2019-12-03</th>\n",
       "      <td>678</td>\n",
       "      <td>1338</td>\n",
       "    </tr>\n",
       "    <tr>\n",
       "      <th>2019-12-19</th>\n",
       "      <td>3695</td>\n",
       "      <td>4165</td>\n",
       "    </tr>\n",
       "  </tbody>\n",
       "</table>\n",
       "</div>"
      ],
      "text/plain": [
       "             B04   B08\n",
       "2019-01-01   312  3897\n",
       "2019-01-17   441  3964\n",
       "2019-02-02  1800  3908\n",
       "2019-02-18  3154  4831\n",
       "2019-03-06   294  2759\n",
       "2019-03-22   901  2114\n",
       "2019-04-07   333  3221\n",
       "2019-04-23   285  2362\n",
       "2019-05-09   143  2774\n",
       "2019-05-25   167  2630\n",
       "2019-06-10   129  2638\n",
       "2019-06-26   183  2601\n",
       "2019-07-12   148  2552\n",
       "2019-07-28   747  2356\n",
       "2019-08-13   745  2146\n",
       "2019-08-29   674  1077\n",
       "2019-09-14   673  1035\n",
       "2019-09-30   708  1003\n",
       "2019-10-16   415   686\n",
       "2019-11-01  1083  1493\n",
       "2019-11-17  8071  7741\n",
       "2019-12-03   678  1338\n",
       "2019-12-19  3695  4165"
      ]
     },
     "execution_count": 89,
     "metadata": {},
     "output_type": "execute_result"
    }
   ],
   "source": [
    "s2_df = pd.DataFrame({ 'B04': time_series.B04, 'B08': time_series.B08 }, \n",
    "                        index = pd.to_datetime(time_series.timeline))\n",
    "\n",
    "s2_df"
   ]
  },
  {
   "cell_type": "markdown",
   "metadata": {},
   "source": [
    "Now we can use the `pandas.DataFrame` to create an interactive graphic:"
   ]
  },
  {
   "cell_type": "code",
   "execution_count": 90,
   "metadata": {
    "editable": true,
    "slideshow": {
     "slide_type": ""
    },
    "tags": []
   },
   "outputs": [
    {
     "data": {
      "application/vnd.plotly.v1+json": {
       "config": {
        "plotlyServerURL": "https://plot.ly"
       },
       "data": [
        {
         "hovertemplate": "variable=B04<br>Date=%{x}<br>Spectral Reflectance (scaled)=%{y}<extra></extra>",
         "legendgroup": "B04",
         "line": {
          "color": "#636efa",
          "dash": "solid"
         },
         "marker": {
          "symbol": "circle"
         },
         "mode": "lines",
         "name": "B04",
         "orientation": "v",
         "showlegend": true,
         "type": "scatter",
         "x": [
          "2019-01-01T00:00:00",
          "2019-01-17T00:00:00",
          "2019-02-02T00:00:00",
          "2019-02-18T00:00:00",
          "2019-03-06T00:00:00",
          "2019-03-22T00:00:00",
          "2019-04-07T00:00:00",
          "2019-04-23T00:00:00",
          "2019-05-09T00:00:00",
          "2019-05-25T00:00:00",
          "2019-06-10T00:00:00",
          "2019-06-26T00:00:00",
          "2019-07-12T00:00:00",
          "2019-07-28T00:00:00",
          "2019-08-13T00:00:00",
          "2019-08-29T00:00:00",
          "2019-09-14T00:00:00",
          "2019-09-30T00:00:00",
          "2019-10-16T00:00:00",
          "2019-11-01T00:00:00",
          "2019-11-17T00:00:00",
          "2019-12-03T00:00:00",
          "2019-12-19T00:00:00"
         ],
         "xaxis": "x",
         "y": [
          312,
          441,
          1800,
          3154,
          294,
          901,
          333,
          285,
          143,
          167,
          129,
          183,
          148,
          747,
          745,
          674,
          673,
          708,
          415,
          1083,
          8071,
          678,
          3695
         ],
         "yaxis": "y"
        },
        {
         "hovertemplate": "variable=B08<br>Date=%{x}<br>Spectral Reflectance (scaled)=%{y}<extra></extra>",
         "legendgroup": "B08",
         "line": {
          "color": "#EF553B",
          "dash": "solid"
         },
         "marker": {
          "symbol": "circle"
         },
         "mode": "lines",
         "name": "B08",
         "orientation": "v",
         "showlegend": true,
         "type": "scatter",
         "x": [
          "2019-01-01T00:00:00",
          "2019-01-17T00:00:00",
          "2019-02-02T00:00:00",
          "2019-02-18T00:00:00",
          "2019-03-06T00:00:00",
          "2019-03-22T00:00:00",
          "2019-04-07T00:00:00",
          "2019-04-23T00:00:00",
          "2019-05-09T00:00:00",
          "2019-05-25T00:00:00",
          "2019-06-10T00:00:00",
          "2019-06-26T00:00:00",
          "2019-07-12T00:00:00",
          "2019-07-28T00:00:00",
          "2019-08-13T00:00:00",
          "2019-08-29T00:00:00",
          "2019-09-14T00:00:00",
          "2019-09-30T00:00:00",
          "2019-10-16T00:00:00",
          "2019-11-01T00:00:00",
          "2019-11-17T00:00:00",
          "2019-12-03T00:00:00",
          "2019-12-19T00:00:00"
         ],
         "xaxis": "x",
         "y": [
          3897,
          3964,
          3908,
          4831,
          2759,
          2114,
          3221,
          2362,
          2774,
          2630,
          2638,
          2601,
          2552,
          2356,
          2146,
          1077,
          1035,
          1003,
          686,
          1493,
          7741,
          1338,
          4165
         ],
         "yaxis": "y"
        }
       ],
       "layout": {
        "autosize": true,
        "legend": {
         "title": {
          "text": "variable"
         },
         "tracegroupgap": 0
        },
        "template": {
         "data": {
          "bar": [
           {
            "error_x": {
             "color": "#2a3f5f"
            },
            "error_y": {
             "color": "#2a3f5f"
            },
            "marker": {
             "line": {
              "color": "#E5ECF6",
              "width": 0.5
             },
             "pattern": {
              "fillmode": "overlay",
              "size": 10,
              "solidity": 0.2
             }
            },
            "type": "bar"
           }
          ],
          "barpolar": [
           {
            "marker": {
             "line": {
              "color": "#E5ECF6",
              "width": 0.5
             },
             "pattern": {
              "fillmode": "overlay",
              "size": 10,
              "solidity": 0.2
             }
            },
            "type": "barpolar"
           }
          ],
          "carpet": [
           {
            "aaxis": {
             "endlinecolor": "#2a3f5f",
             "gridcolor": "white",
             "linecolor": "white",
             "minorgridcolor": "white",
             "startlinecolor": "#2a3f5f"
            },
            "baxis": {
             "endlinecolor": "#2a3f5f",
             "gridcolor": "white",
             "linecolor": "white",
             "minorgridcolor": "white",
             "startlinecolor": "#2a3f5f"
            },
            "type": "carpet"
           }
          ],
          "choropleth": [
           {
            "colorbar": {
             "outlinewidth": 0,
             "ticks": ""
            },
            "type": "choropleth"
           }
          ],
          "contour": [
           {
            "colorbar": {
             "outlinewidth": 0,
             "ticks": ""
            },
            "colorscale": [
             [
              0,
              "#0d0887"
             ],
             [
              0.1111111111111111,
              "#46039f"
             ],
             [
              0.2222222222222222,
              "#7201a8"
             ],
             [
              0.3333333333333333,
              "#9c179e"
             ],
             [
              0.4444444444444444,
              "#bd3786"
             ],
             [
              0.5555555555555556,
              "#d8576b"
             ],
             [
              0.6666666666666666,
              "#ed7953"
             ],
             [
              0.7777777777777778,
              "#fb9f3a"
             ],
             [
              0.8888888888888888,
              "#fdca26"
             ],
             [
              1,
              "#f0f921"
             ]
            ],
            "type": "contour"
           }
          ],
          "contourcarpet": [
           {
            "colorbar": {
             "outlinewidth": 0,
             "ticks": ""
            },
            "type": "contourcarpet"
           }
          ],
          "heatmap": [
           {
            "colorbar": {
             "outlinewidth": 0,
             "ticks": ""
            },
            "colorscale": [
             [
              0,
              "#0d0887"
             ],
             [
              0.1111111111111111,
              "#46039f"
             ],
             [
              0.2222222222222222,
              "#7201a8"
             ],
             [
              0.3333333333333333,
              "#9c179e"
             ],
             [
              0.4444444444444444,
              "#bd3786"
             ],
             [
              0.5555555555555556,
              "#d8576b"
             ],
             [
              0.6666666666666666,
              "#ed7953"
             ],
             [
              0.7777777777777778,
              "#fb9f3a"
             ],
             [
              0.8888888888888888,
              "#fdca26"
             ],
             [
              1,
              "#f0f921"
             ]
            ],
            "type": "heatmap"
           }
          ],
          "heatmapgl": [
           {
            "colorbar": {
             "outlinewidth": 0,
             "ticks": ""
            },
            "colorscale": [
             [
              0,
              "#0d0887"
             ],
             [
              0.1111111111111111,
              "#46039f"
             ],
             [
              0.2222222222222222,
              "#7201a8"
             ],
             [
              0.3333333333333333,
              "#9c179e"
             ],
             [
              0.4444444444444444,
              "#bd3786"
             ],
             [
              0.5555555555555556,
              "#d8576b"
             ],
             [
              0.6666666666666666,
              "#ed7953"
             ],
             [
              0.7777777777777778,
              "#fb9f3a"
             ],
             [
              0.8888888888888888,
              "#fdca26"
             ],
             [
              1,
              "#f0f921"
             ]
            ],
            "type": "heatmapgl"
           }
          ],
          "histogram": [
           {
            "marker": {
             "pattern": {
              "fillmode": "overlay",
              "size": 10,
              "solidity": 0.2
             }
            },
            "type": "histogram"
           }
          ],
          "histogram2d": [
           {
            "colorbar": {
             "outlinewidth": 0,
             "ticks": ""
            },
            "colorscale": [
             [
              0,
              "#0d0887"
             ],
             [
              0.1111111111111111,
              "#46039f"
             ],
             [
              0.2222222222222222,
              "#7201a8"
             ],
             [
              0.3333333333333333,
              "#9c179e"
             ],
             [
              0.4444444444444444,
              "#bd3786"
             ],
             [
              0.5555555555555556,
              "#d8576b"
             ],
             [
              0.6666666666666666,
              "#ed7953"
             ],
             [
              0.7777777777777778,
              "#fb9f3a"
             ],
             [
              0.8888888888888888,
              "#fdca26"
             ],
             [
              1,
              "#f0f921"
             ]
            ],
            "type": "histogram2d"
           }
          ],
          "histogram2dcontour": [
           {
            "colorbar": {
             "outlinewidth": 0,
             "ticks": ""
            },
            "colorscale": [
             [
              0,
              "#0d0887"
             ],
             [
              0.1111111111111111,
              "#46039f"
             ],
             [
              0.2222222222222222,
              "#7201a8"
             ],
             [
              0.3333333333333333,
              "#9c179e"
             ],
             [
              0.4444444444444444,
              "#bd3786"
             ],
             [
              0.5555555555555556,
              "#d8576b"
             ],
             [
              0.6666666666666666,
              "#ed7953"
             ],
             [
              0.7777777777777778,
              "#fb9f3a"
             ],
             [
              0.8888888888888888,
              "#fdca26"
             ],
             [
              1,
              "#f0f921"
             ]
            ],
            "type": "histogram2dcontour"
           }
          ],
          "mesh3d": [
           {
            "colorbar": {
             "outlinewidth": 0,
             "ticks": ""
            },
            "type": "mesh3d"
           }
          ],
          "parcoords": [
           {
            "line": {
             "colorbar": {
              "outlinewidth": 0,
              "ticks": ""
             }
            },
            "type": "parcoords"
           }
          ],
          "pie": [
           {
            "automargin": true,
            "type": "pie"
           }
          ],
          "scatter": [
           {
            "fillpattern": {
             "fillmode": "overlay",
             "size": 10,
             "solidity": 0.2
            },
            "type": "scatter"
           }
          ],
          "scatter3d": [
           {
            "line": {
             "colorbar": {
              "outlinewidth": 0,
              "ticks": ""
             }
            },
            "marker": {
             "colorbar": {
              "outlinewidth": 0,
              "ticks": ""
             }
            },
            "type": "scatter3d"
           }
          ],
          "scattercarpet": [
           {
            "marker": {
             "colorbar": {
              "outlinewidth": 0,
              "ticks": ""
             }
            },
            "type": "scattercarpet"
           }
          ],
          "scattergeo": [
           {
            "marker": {
             "colorbar": {
              "outlinewidth": 0,
              "ticks": ""
             }
            },
            "type": "scattergeo"
           }
          ],
          "scattergl": [
           {
            "marker": {
             "colorbar": {
              "outlinewidth": 0,
              "ticks": ""
             }
            },
            "type": "scattergl"
           }
          ],
          "scattermapbox": [
           {
            "marker": {
             "colorbar": {
              "outlinewidth": 0,
              "ticks": ""
             }
            },
            "type": "scattermapbox"
           }
          ],
          "scatterpolar": [
           {
            "marker": {
             "colorbar": {
              "outlinewidth": 0,
              "ticks": ""
             }
            },
            "type": "scatterpolar"
           }
          ],
          "scatterpolargl": [
           {
            "marker": {
             "colorbar": {
              "outlinewidth": 0,
              "ticks": ""
             }
            },
            "type": "scatterpolargl"
           }
          ],
          "scatterternary": [
           {
            "marker": {
             "colorbar": {
              "outlinewidth": 0,
              "ticks": ""
             }
            },
            "type": "scatterternary"
           }
          ],
          "surface": [
           {
            "colorbar": {
             "outlinewidth": 0,
             "ticks": ""
            },
            "colorscale": [
             [
              0,
              "#0d0887"
             ],
             [
              0.1111111111111111,
              "#46039f"
             ],
             [
              0.2222222222222222,
              "#7201a8"
             ],
             [
              0.3333333333333333,
              "#9c179e"
             ],
             [
              0.4444444444444444,
              "#bd3786"
             ],
             [
              0.5555555555555556,
              "#d8576b"
             ],
             [
              0.6666666666666666,
              "#ed7953"
             ],
             [
              0.7777777777777778,
              "#fb9f3a"
             ],
             [
              0.8888888888888888,
              "#fdca26"
             ],
             [
              1,
              "#f0f921"
             ]
            ],
            "type": "surface"
           }
          ],
          "table": [
           {
            "cells": {
             "fill": {
              "color": "#EBF0F8"
             },
             "line": {
              "color": "white"
             }
            },
            "header": {
             "fill": {
              "color": "#C8D4E3"
             },
             "line": {
              "color": "white"
             }
            },
            "type": "table"
           }
          ]
         },
         "layout": {
          "annotationdefaults": {
           "arrowcolor": "#2a3f5f",
           "arrowhead": 0,
           "arrowwidth": 1
          },
          "autotypenumbers": "strict",
          "coloraxis": {
           "colorbar": {
            "outlinewidth": 0,
            "ticks": ""
           }
          },
          "colorscale": {
           "diverging": [
            [
             0,
             "#8e0152"
            ],
            [
             0.1,
             "#c51b7d"
            ],
            [
             0.2,
             "#de77ae"
            ],
            [
             0.3,
             "#f1b6da"
            ],
            [
             0.4,
             "#fde0ef"
            ],
            [
             0.5,
             "#f7f7f7"
            ],
            [
             0.6,
             "#e6f5d0"
            ],
            [
             0.7,
             "#b8e186"
            ],
            [
             0.8,
             "#7fbc41"
            ],
            [
             0.9,
             "#4d9221"
            ],
            [
             1,
             "#276419"
            ]
           ],
           "sequential": [
            [
             0,
             "#0d0887"
            ],
            [
             0.1111111111111111,
             "#46039f"
            ],
            [
             0.2222222222222222,
             "#7201a8"
            ],
            [
             0.3333333333333333,
             "#9c179e"
            ],
            [
             0.4444444444444444,
             "#bd3786"
            ],
            [
             0.5555555555555556,
             "#d8576b"
            ],
            [
             0.6666666666666666,
             "#ed7953"
            ],
            [
             0.7777777777777778,
             "#fb9f3a"
            ],
            [
             0.8888888888888888,
             "#fdca26"
            ],
            [
             1,
             "#f0f921"
            ]
           ],
           "sequentialminus": [
            [
             0,
             "#0d0887"
            ],
            [
             0.1111111111111111,
             "#46039f"
            ],
            [
             0.2222222222222222,
             "#7201a8"
            ],
            [
             0.3333333333333333,
             "#9c179e"
            ],
            [
             0.4444444444444444,
             "#bd3786"
            ],
            [
             0.5555555555555556,
             "#d8576b"
            ],
            [
             0.6666666666666666,
             "#ed7953"
            ],
            [
             0.7777777777777778,
             "#fb9f3a"
            ],
            [
             0.8888888888888888,
             "#fdca26"
            ],
            [
             1,
             "#f0f921"
            ]
           ]
          },
          "colorway": [
           "#636efa",
           "#EF553B",
           "#00cc96",
           "#ab63fa",
           "#FFA15A",
           "#19d3f3",
           "#FF6692",
           "#B6E880",
           "#FF97FF",
           "#FECB52"
          ],
          "font": {
           "color": "#2a3f5f"
          },
          "geo": {
           "bgcolor": "white",
           "lakecolor": "white",
           "landcolor": "#E5ECF6",
           "showlakes": true,
           "showland": true,
           "subunitcolor": "white"
          },
          "hoverlabel": {
           "align": "left"
          },
          "hovermode": "closest",
          "mapbox": {
           "style": "light"
          },
          "paper_bgcolor": "white",
          "plot_bgcolor": "#E5ECF6",
          "polar": {
           "angularaxis": {
            "gridcolor": "white",
            "linecolor": "white",
            "ticks": ""
           },
           "bgcolor": "#E5ECF6",
           "radialaxis": {
            "gridcolor": "white",
            "linecolor": "white",
            "ticks": ""
           }
          },
          "scene": {
           "xaxis": {
            "backgroundcolor": "#E5ECF6",
            "gridcolor": "white",
            "gridwidth": 2,
            "linecolor": "white",
            "showbackground": true,
            "ticks": "",
            "zerolinecolor": "white"
           },
           "yaxis": {
            "backgroundcolor": "#E5ECF6",
            "gridcolor": "white",
            "gridwidth": 2,
            "linecolor": "white",
            "showbackground": true,
            "ticks": "",
            "zerolinecolor": "white"
           },
           "zaxis": {
            "backgroundcolor": "#E5ECF6",
            "gridcolor": "white",
            "gridwidth": 2,
            "linecolor": "white",
            "showbackground": true,
            "ticks": "",
            "zerolinecolor": "white"
           }
          },
          "shapedefaults": {
           "line": {
            "color": "#2a3f5f"
           }
          },
          "ternary": {
           "aaxis": {
            "gridcolor": "white",
            "linecolor": "white",
            "ticks": ""
           },
           "baxis": {
            "gridcolor": "white",
            "linecolor": "white",
            "ticks": ""
           },
           "bgcolor": "#E5ECF6",
           "caxis": {
            "gridcolor": "white",
            "linecolor": "white",
            "ticks": ""
           }
          },
          "title": {
           "x": 0.05
          },
          "xaxis": {
           "automargin": true,
           "gridcolor": "white",
           "linecolor": "white",
           "ticks": "",
           "title": {
            "standoff": 15
           },
           "zerolinecolor": "white",
           "zerolinewidth": 2
          },
          "yaxis": {
           "automargin": true,
           "gridcolor": "white",
           "linecolor": "white",
           "ticks": "",
           "title": {
            "standoff": 15
           },
           "zerolinecolor": "white",
           "zerolinewidth": 2
          }
         }
        },
        "title": {
         "text": "Sentinel-2/MSI (B04 and B08)"
        },
        "xaxis": {
         "anchor": "y",
         "autorange": true,
         "domain": [
          0,
          1
         ],
         "range": [
          "2019-01-01",
          "2019-12-19"
         ],
         "rangeslider": {
          "autorange": true,
          "range": [
           "2019-01-01",
           "2019-12-19"
          ],
          "visible": true,
          "yaxis": {
           "_template": null,
           "rangemode": "match"
          }
         },
         "title": {
          "text": "Date"
         },
         "type": "date"
        },
        "yaxis": {
         "anchor": "x",
         "autorange": true,
         "domain": [
          0,
          1
         ],
         "range": [
          -312.2222222222223,
          8512.222222222223
         ],
         "title": {
          "text": "Spectral Reflectance (scaled)"
         },
         "type": "linear"
        }
       }
      },
      "text/html": [
       "<div>                            <div id=\"2e5ec7e3-71d5-410e-aa1f-e77eaa74d2d8\" class=\"plotly-graph-div\" style=\"height:525px; width:100%;\"></div>            <script type=\"text/javascript\">                require([\"plotly\"], function(Plotly) {                    window.PLOTLYENV=window.PLOTLYENV || {};                                    if (document.getElementById(\"2e5ec7e3-71d5-410e-aa1f-e77eaa74d2d8\")) {                    Plotly.newPlot(                        \"2e5ec7e3-71d5-410e-aa1f-e77eaa74d2d8\",                        [{\"hovertemplate\":\"variable=B04\\u003cbr\\u003eDate=%{x}\\u003cbr\\u003eSpectral Reflectance (scaled)=%{y}\\u003cextra\\u003e\\u003c\\u002fextra\\u003e\",\"legendgroup\":\"B04\",\"line\":{\"color\":\"#636efa\",\"dash\":\"solid\"},\"marker\":{\"symbol\":\"circle\"},\"mode\":\"lines\",\"name\":\"B04\",\"orientation\":\"v\",\"showlegend\":true,\"x\":[\"2019-01-01T00:00:00\",\"2019-01-17T00:00:00\",\"2019-02-02T00:00:00\",\"2019-02-18T00:00:00\",\"2019-03-06T00:00:00\",\"2019-03-22T00:00:00\",\"2019-04-07T00:00:00\",\"2019-04-23T00:00:00\",\"2019-05-09T00:00:00\",\"2019-05-25T00:00:00\",\"2019-06-10T00:00:00\",\"2019-06-26T00:00:00\",\"2019-07-12T00:00:00\",\"2019-07-28T00:00:00\",\"2019-08-13T00:00:00\",\"2019-08-29T00:00:00\",\"2019-09-14T00:00:00\",\"2019-09-30T00:00:00\",\"2019-10-16T00:00:00\",\"2019-11-01T00:00:00\",\"2019-11-17T00:00:00\",\"2019-12-03T00:00:00\",\"2019-12-19T00:00:00\"],\"xaxis\":\"x\",\"y\":[312,441,1800,3154,294,901,333,285,143,167,129,183,148,747,745,674,673,708,415,1083,8071,678,3695],\"yaxis\":\"y\",\"type\":\"scatter\"},{\"hovertemplate\":\"variable=B08\\u003cbr\\u003eDate=%{x}\\u003cbr\\u003eSpectral Reflectance (scaled)=%{y}\\u003cextra\\u003e\\u003c\\u002fextra\\u003e\",\"legendgroup\":\"B08\",\"line\":{\"color\":\"#EF553B\",\"dash\":\"solid\"},\"marker\":{\"symbol\":\"circle\"},\"mode\":\"lines\",\"name\":\"B08\",\"orientation\":\"v\",\"showlegend\":true,\"x\":[\"2019-01-01T00:00:00\",\"2019-01-17T00:00:00\",\"2019-02-02T00:00:00\",\"2019-02-18T00:00:00\",\"2019-03-06T00:00:00\",\"2019-03-22T00:00:00\",\"2019-04-07T00:00:00\",\"2019-04-23T00:00:00\",\"2019-05-09T00:00:00\",\"2019-05-25T00:00:00\",\"2019-06-10T00:00:00\",\"2019-06-26T00:00:00\",\"2019-07-12T00:00:00\",\"2019-07-28T00:00:00\",\"2019-08-13T00:00:00\",\"2019-08-29T00:00:00\",\"2019-09-14T00:00:00\",\"2019-09-30T00:00:00\",\"2019-10-16T00:00:00\",\"2019-11-01T00:00:00\",\"2019-11-17T00:00:00\",\"2019-12-03T00:00:00\",\"2019-12-19T00:00:00\"],\"xaxis\":\"x\",\"y\":[3897,3964,3908,4831,2759,2114,3221,2362,2774,2630,2638,2601,2552,2356,2146,1077,1035,1003,686,1493,7741,1338,4165],\"yaxis\":\"y\",\"type\":\"scatter\"}],                        {\"template\":{\"data\":{\"histogram2dcontour\":[{\"type\":\"histogram2dcontour\",\"colorbar\":{\"outlinewidth\":0,\"ticks\":\"\"},\"colorscale\":[[0.0,\"#0d0887\"],[0.1111111111111111,\"#46039f\"],[0.2222222222222222,\"#7201a8\"],[0.3333333333333333,\"#9c179e\"],[0.4444444444444444,\"#bd3786\"],[0.5555555555555556,\"#d8576b\"],[0.6666666666666666,\"#ed7953\"],[0.7777777777777778,\"#fb9f3a\"],[0.8888888888888888,\"#fdca26\"],[1.0,\"#f0f921\"]]}],\"choropleth\":[{\"type\":\"choropleth\",\"colorbar\":{\"outlinewidth\":0,\"ticks\":\"\"}}],\"histogram2d\":[{\"type\":\"histogram2d\",\"colorbar\":{\"outlinewidth\":0,\"ticks\":\"\"},\"colorscale\":[[0.0,\"#0d0887\"],[0.1111111111111111,\"#46039f\"],[0.2222222222222222,\"#7201a8\"],[0.3333333333333333,\"#9c179e\"],[0.4444444444444444,\"#bd3786\"],[0.5555555555555556,\"#d8576b\"],[0.6666666666666666,\"#ed7953\"],[0.7777777777777778,\"#fb9f3a\"],[0.8888888888888888,\"#fdca26\"],[1.0,\"#f0f921\"]]}],\"heatmap\":[{\"type\":\"heatmap\",\"colorbar\":{\"outlinewidth\":0,\"ticks\":\"\"},\"colorscale\":[[0.0,\"#0d0887\"],[0.1111111111111111,\"#46039f\"],[0.2222222222222222,\"#7201a8\"],[0.3333333333333333,\"#9c179e\"],[0.4444444444444444,\"#bd3786\"],[0.5555555555555556,\"#d8576b\"],[0.6666666666666666,\"#ed7953\"],[0.7777777777777778,\"#fb9f3a\"],[0.8888888888888888,\"#fdca26\"],[1.0,\"#f0f921\"]]}],\"heatmapgl\":[{\"type\":\"heatmapgl\",\"colorbar\":{\"outlinewidth\":0,\"ticks\":\"\"},\"colorscale\":[[0.0,\"#0d0887\"],[0.1111111111111111,\"#46039f\"],[0.2222222222222222,\"#7201a8\"],[0.3333333333333333,\"#9c179e\"],[0.4444444444444444,\"#bd3786\"],[0.5555555555555556,\"#d8576b\"],[0.6666666666666666,\"#ed7953\"],[0.7777777777777778,\"#fb9f3a\"],[0.8888888888888888,\"#fdca26\"],[1.0,\"#f0f921\"]]}],\"contourcarpet\":[{\"type\":\"contourcarpet\",\"colorbar\":{\"outlinewidth\":0,\"ticks\":\"\"}}],\"contour\":[{\"type\":\"contour\",\"colorbar\":{\"outlinewidth\":0,\"ticks\":\"\"},\"colorscale\":[[0.0,\"#0d0887\"],[0.1111111111111111,\"#46039f\"],[0.2222222222222222,\"#7201a8\"],[0.3333333333333333,\"#9c179e\"],[0.4444444444444444,\"#bd3786\"],[0.5555555555555556,\"#d8576b\"],[0.6666666666666666,\"#ed7953\"],[0.7777777777777778,\"#fb9f3a\"],[0.8888888888888888,\"#fdca26\"],[1.0,\"#f0f921\"]]}],\"surface\":[{\"type\":\"surface\",\"colorbar\":{\"outlinewidth\":0,\"ticks\":\"\"},\"colorscale\":[[0.0,\"#0d0887\"],[0.1111111111111111,\"#46039f\"],[0.2222222222222222,\"#7201a8\"],[0.3333333333333333,\"#9c179e\"],[0.4444444444444444,\"#bd3786\"],[0.5555555555555556,\"#d8576b\"],[0.6666666666666666,\"#ed7953\"],[0.7777777777777778,\"#fb9f3a\"],[0.8888888888888888,\"#fdca26\"],[1.0,\"#f0f921\"]]}],\"mesh3d\":[{\"type\":\"mesh3d\",\"colorbar\":{\"outlinewidth\":0,\"ticks\":\"\"}}],\"scatter\":[{\"fillpattern\":{\"fillmode\":\"overlay\",\"size\":10,\"solidity\":0.2},\"type\":\"scatter\"}],\"parcoords\":[{\"type\":\"parcoords\",\"line\":{\"colorbar\":{\"outlinewidth\":0,\"ticks\":\"\"}}}],\"scatterpolargl\":[{\"type\":\"scatterpolargl\",\"marker\":{\"colorbar\":{\"outlinewidth\":0,\"ticks\":\"\"}}}],\"bar\":[{\"error_x\":{\"color\":\"#2a3f5f\"},\"error_y\":{\"color\":\"#2a3f5f\"},\"marker\":{\"line\":{\"color\":\"#E5ECF6\",\"width\":0.5},\"pattern\":{\"fillmode\":\"overlay\",\"size\":10,\"solidity\":0.2}},\"type\":\"bar\"}],\"scattergeo\":[{\"type\":\"scattergeo\",\"marker\":{\"colorbar\":{\"outlinewidth\":0,\"ticks\":\"\"}}}],\"scatterpolar\":[{\"type\":\"scatterpolar\",\"marker\":{\"colorbar\":{\"outlinewidth\":0,\"ticks\":\"\"}}}],\"histogram\":[{\"marker\":{\"pattern\":{\"fillmode\":\"overlay\",\"size\":10,\"solidity\":0.2}},\"type\":\"histogram\"}],\"scattergl\":[{\"type\":\"scattergl\",\"marker\":{\"colorbar\":{\"outlinewidth\":0,\"ticks\":\"\"}}}],\"scatter3d\":[{\"type\":\"scatter3d\",\"line\":{\"colorbar\":{\"outlinewidth\":0,\"ticks\":\"\"}},\"marker\":{\"colorbar\":{\"outlinewidth\":0,\"ticks\":\"\"}}}],\"scattermapbox\":[{\"type\":\"scattermapbox\",\"marker\":{\"colorbar\":{\"outlinewidth\":0,\"ticks\":\"\"}}}],\"scatterternary\":[{\"type\":\"scatterternary\",\"marker\":{\"colorbar\":{\"outlinewidth\":0,\"ticks\":\"\"}}}],\"scattercarpet\":[{\"type\":\"scattercarpet\",\"marker\":{\"colorbar\":{\"outlinewidth\":0,\"ticks\":\"\"}}}],\"carpet\":[{\"aaxis\":{\"endlinecolor\":\"#2a3f5f\",\"gridcolor\":\"white\",\"linecolor\":\"white\",\"minorgridcolor\":\"white\",\"startlinecolor\":\"#2a3f5f\"},\"baxis\":{\"endlinecolor\":\"#2a3f5f\",\"gridcolor\":\"white\",\"linecolor\":\"white\",\"minorgridcolor\":\"white\",\"startlinecolor\":\"#2a3f5f\"},\"type\":\"carpet\"}],\"table\":[{\"cells\":{\"fill\":{\"color\":\"#EBF0F8\"},\"line\":{\"color\":\"white\"}},\"header\":{\"fill\":{\"color\":\"#C8D4E3\"},\"line\":{\"color\":\"white\"}},\"type\":\"table\"}],\"barpolar\":[{\"marker\":{\"line\":{\"color\":\"#E5ECF6\",\"width\":0.5},\"pattern\":{\"fillmode\":\"overlay\",\"size\":10,\"solidity\":0.2}},\"type\":\"barpolar\"}],\"pie\":[{\"automargin\":true,\"type\":\"pie\"}]},\"layout\":{\"autotypenumbers\":\"strict\",\"colorway\":[\"#636efa\",\"#EF553B\",\"#00cc96\",\"#ab63fa\",\"#FFA15A\",\"#19d3f3\",\"#FF6692\",\"#B6E880\",\"#FF97FF\",\"#FECB52\"],\"font\":{\"color\":\"#2a3f5f\"},\"hovermode\":\"closest\",\"hoverlabel\":{\"align\":\"left\"},\"paper_bgcolor\":\"white\",\"plot_bgcolor\":\"#E5ECF6\",\"polar\":{\"bgcolor\":\"#E5ECF6\",\"angularaxis\":{\"gridcolor\":\"white\",\"linecolor\":\"white\",\"ticks\":\"\"},\"radialaxis\":{\"gridcolor\":\"white\",\"linecolor\":\"white\",\"ticks\":\"\"}},\"ternary\":{\"bgcolor\":\"#E5ECF6\",\"aaxis\":{\"gridcolor\":\"white\",\"linecolor\":\"white\",\"ticks\":\"\"},\"baxis\":{\"gridcolor\":\"white\",\"linecolor\":\"white\",\"ticks\":\"\"},\"caxis\":{\"gridcolor\":\"white\",\"linecolor\":\"white\",\"ticks\":\"\"}},\"coloraxis\":{\"colorbar\":{\"outlinewidth\":0,\"ticks\":\"\"}},\"colorscale\":{\"sequential\":[[0.0,\"#0d0887\"],[0.1111111111111111,\"#46039f\"],[0.2222222222222222,\"#7201a8\"],[0.3333333333333333,\"#9c179e\"],[0.4444444444444444,\"#bd3786\"],[0.5555555555555556,\"#d8576b\"],[0.6666666666666666,\"#ed7953\"],[0.7777777777777778,\"#fb9f3a\"],[0.8888888888888888,\"#fdca26\"],[1.0,\"#f0f921\"]],\"sequentialminus\":[[0.0,\"#0d0887\"],[0.1111111111111111,\"#46039f\"],[0.2222222222222222,\"#7201a8\"],[0.3333333333333333,\"#9c179e\"],[0.4444444444444444,\"#bd3786\"],[0.5555555555555556,\"#d8576b\"],[0.6666666666666666,\"#ed7953\"],[0.7777777777777778,\"#fb9f3a\"],[0.8888888888888888,\"#fdca26\"],[1.0,\"#f0f921\"]],\"diverging\":[[0,\"#8e0152\"],[0.1,\"#c51b7d\"],[0.2,\"#de77ae\"],[0.3,\"#f1b6da\"],[0.4,\"#fde0ef\"],[0.5,\"#f7f7f7\"],[0.6,\"#e6f5d0\"],[0.7,\"#b8e186\"],[0.8,\"#7fbc41\"],[0.9,\"#4d9221\"],[1,\"#276419\"]]},\"xaxis\":{\"gridcolor\":\"white\",\"linecolor\":\"white\",\"ticks\":\"\",\"title\":{\"standoff\":15},\"zerolinecolor\":\"white\",\"automargin\":true,\"zerolinewidth\":2},\"yaxis\":{\"gridcolor\":\"white\",\"linecolor\":\"white\",\"ticks\":\"\",\"title\":{\"standoff\":15},\"zerolinecolor\":\"white\",\"automargin\":true,\"zerolinewidth\":2},\"scene\":{\"xaxis\":{\"backgroundcolor\":\"#E5ECF6\",\"gridcolor\":\"white\",\"linecolor\":\"white\",\"showbackground\":true,\"ticks\":\"\",\"zerolinecolor\":\"white\",\"gridwidth\":2},\"yaxis\":{\"backgroundcolor\":\"#E5ECF6\",\"gridcolor\":\"white\",\"linecolor\":\"white\",\"showbackground\":true,\"ticks\":\"\",\"zerolinecolor\":\"white\",\"gridwidth\":2},\"zaxis\":{\"backgroundcolor\":\"#E5ECF6\",\"gridcolor\":\"white\",\"linecolor\":\"white\",\"showbackground\":true,\"ticks\":\"\",\"zerolinecolor\":\"white\",\"gridwidth\":2}},\"shapedefaults\":{\"line\":{\"color\":\"#2a3f5f\"}},\"annotationdefaults\":{\"arrowcolor\":\"#2a3f5f\",\"arrowhead\":0,\"arrowwidth\":1},\"geo\":{\"bgcolor\":\"white\",\"landcolor\":\"#E5ECF6\",\"subunitcolor\":\"white\",\"showland\":true,\"showlakes\":true,\"lakecolor\":\"white\"},\"title\":{\"x\":0.05},\"mapbox\":{\"style\":\"light\"}}},\"xaxis\":{\"anchor\":\"y\",\"domain\":[0.0,1.0],\"title\":{\"text\":\"Date\"},\"rangeslider\":{\"visible\":true}},\"yaxis\":{\"anchor\":\"x\",\"domain\":[0.0,1.0],\"title\":{\"text\":\"Spectral Reflectance (scaled)\"}},\"legend\":{\"title\":{\"text\":\"variable\"},\"tracegroupgap\":0},\"title\":{\"text\":\"Sentinel-2\\u002fMSI (B04 and B08)\"}},                        {\"responsive\": true}                    ).then(function(){\n",
       "                            \n",
       "var gd = document.getElementById('2e5ec7e3-71d5-410e-aa1f-e77eaa74d2d8');\n",
       "var x = new MutationObserver(function (mutations, observer) {{\n",
       "        var display = window.getComputedStyle(gd).display;\n",
       "        if (!display || display === 'none') {{\n",
       "            console.log([gd, 'removed!']);\n",
       "            Plotly.purge(gd);\n",
       "            observer.disconnect();\n",
       "        }}\n",
       "}});\n",
       "\n",
       "// Listen for the removal of the full notebook cells\n",
       "var notebookContainer = gd.closest('#notebook-container');\n",
       "if (notebookContainer) {{\n",
       "    x.observe(notebookContainer, {childList: true});\n",
       "}}\n",
       "\n",
       "// Listen for the clearing of the current output cell\n",
       "var outputEl = gd.closest('.output');\n",
       "if (outputEl) {{\n",
       "    x.observe(outputEl, {childList: true});\n",
       "}}\n",
       "\n",
       "                        })                };                });            </script>        </div>"
      ]
     },
     "metadata": {},
     "output_type": "display_data"
    }
   ],
   "source": [
    "fig = px.line(s2_df, x=s2_df.index, y=['B04', 'B08'], title='Sentinel-2/MSI (B04 and B08)', labels={\n",
    "    'index': 'Date',\n",
    "    'value': 'Spectral Reflectance (scaled)'\n",
    "})\n",
    "\n",
    "fig.update_xaxes(rangeslider_visible=True)\n",
    "fig.show()"
   ]
  },
  {
   "cell_type": "markdown",
   "metadata": {},
   "source": [
    "# Removing clouds from Time Series\n",
    "<hr style=\"border:1px solid #0077b9;\">\n",
    "\n",
    "When we work with satellite image time series there are external influences that can bring noise to the values of the series, distorting them. A common example of noise is the observation of clouds, which change the spectral behavior of targets, making them often unidentifiable. In Figure 1, images from the Sentinel-2/MSI sensor satellite of the `20LKP` tile are shown, where it is possible to observe that, for the same region, in close dates, the presence of clouds.\n",
    "\n",
    "<div align=\"center\">\n",
    "    <figcaption><strong>Figure 1</strong> - Imagens Sentinel-2/MSI (Tile 20LKP) com influência de Nuvem</figcaption>\n",
    "    <img src=\"https://raw.githubusercontent.com/brazil-data-cube/code-gallery/master/img/wtss/sentinel-2-clouds.png?raw=true\" align=\"center\" width=\"620rem\"/>\n",
    "    <br>\n",
    "    <strong>Fonte</strong>: Simoes <i>et al.</i> (2021)\n",
    "</div>\n",
    "\n",
    "In the context of satellite image time series, a possible approach for the treatment of this type of noise is to replace the time series points that have cloud influence by interpolated values.\n",
    "\n",
    "For this, it is necessary to have data available to identify the influence of the cloud at each point in the time series. When considering the BDC data products, this approach is possible since the data cubes are produced with masks that identify, *pixel* to *pixel*, the cloud influence on the images.\n",
    "\n",
    "Therefore, in this second example, we will use the cloud mask provided in the BDC data products, together with the linear interpolation technique, to remove the cloud influence from the time series."
   ]
  },
  {
   "cell_type": "markdown",
   "metadata": {},
   "source": [
    "To start, first lets look at the `S2-16D-2` *Coverage* metadata:"
   ]
  },
  {
   "cell_type": "code",
   "execution_count": 91,
   "metadata": {},
   "outputs": [
    {
     "data": {
      "text/html": [
       "<div>\n",
       "    <div>\n",
       "        <b>Coverage</b> S2-16D-2\n",
       "    </div>\n",
       "    <br/>\n",
       "    <div>\n",
       "        <b>Description:</b> Earth Observation Data Cube generated from Copernicus Sentinel-2/MSI Level-2A product over Brazil. This dataset is provided in Cloud Optimized GeoTIFF (COG) file format. The dataset is processed with 10 meters of spatial resolution, reprojected and cropped to BDC_SM grid Version 2 (BDC_SM V2), considering a temporal compositing function of 16 days using the Least Cloud Cover First (LCF) best pixel approach.\n",
       "    </div>\n",
       "    <br/>\n",
       "    <div>\n",
       "        <b>Attributes</b>\n",
       "    </div>\n",
       "    <div>\n",
       "        <table>\n",
       "            <tr>\n",
       "            </tr>\n",
       "            <tr>\n",
       "                <th>name</th>\n",
       "                <th>common name</th>\n",
       "                <th>description</th>\n",
       "                <th>datatype</th>\n",
       "                <th>valid range</th>\n",
       "                <th>scale</th>\n",
       "                <th>nodata</th>\n",
       "            </tr>\n",
       "            <tr>\n",
       "                <td>CLEAROB</td>\n",
       "                <td>ClearOb</td>\n",
       "                <td></td>\n",
       "                <td>uint8</td>\n",
       "                <td>{&#39;min&#39;: 1.0, &#39;max&#39;: 255.0}</td>\n",
       "                <td>1.0</td>\n",
       "                <td>0.0</td>\n",
       "            </tr><tr>\n",
       "                <td>TOTALOB</td>\n",
       "                <td>TotalOb</td>\n",
       "                <td></td>\n",
       "                <td>uint8</td>\n",
       "                <td>{&#39;min&#39;: 1.0, &#39;max&#39;: 255.0}</td>\n",
       "                <td>1.0</td>\n",
       "                <td>0.0</td>\n",
       "            </tr><tr>\n",
       "                <td>PROVENANCE</td>\n",
       "                <td>Provenance</td>\n",
       "                <td></td>\n",
       "                <td>int16</td>\n",
       "                <td>{&#39;min&#39;: 1.0, &#39;max&#39;: 366.0}</td>\n",
       "                <td>1.0</td>\n",
       "                <td>-1.0</td>\n",
       "            </tr><tr>\n",
       "                <td>SCL</td>\n",
       "                <td>quality</td>\n",
       "                <td></td>\n",
       "                <td>uint8</td>\n",
       "                <td>{&#39;min&#39;: 0.0, &#39;max&#39;: 11.0}</td>\n",
       "                <td>1.0</td>\n",
       "                <td>0.0</td>\n",
       "            </tr><tr>\n",
       "                <td>B01</td>\n",
       "                <td>coastal</td>\n",
       "                <td></td>\n",
       "                <td>uint16</td>\n",
       "                <td>{&#39;min&#39;: 0.0, &#39;max&#39;: 10000.0}</td>\n",
       "                <td>0.0001</td>\n",
       "                <td>0.0</td>\n",
       "            </tr><tr>\n",
       "                <td>B02</td>\n",
       "                <td>blue</td>\n",
       "                <td></td>\n",
       "                <td>uint16</td>\n",
       "                <td>{&#39;min&#39;: 0.0, &#39;max&#39;: 10000.0}</td>\n",
       "                <td>0.0001</td>\n",
       "                <td>0.0</td>\n",
       "            </tr><tr>\n",
       "                <td>B04</td>\n",
       "                <td>red</td>\n",
       "                <td></td>\n",
       "                <td>uint16</td>\n",
       "                <td>{&#39;min&#39;: 0.0, &#39;max&#39;: 10000.0}</td>\n",
       "                <td>0.0001</td>\n",
       "                <td>0.0</td>\n",
       "            </tr><tr>\n",
       "                <td>B05</td>\n",
       "                <td>rededge</td>\n",
       "                <td></td>\n",
       "                <td>uint16</td>\n",
       "                <td>{&#39;min&#39;: 0.0, &#39;max&#39;: 10000.0}</td>\n",
       "                <td>0.0001</td>\n",
       "                <td>0.0</td>\n",
       "            </tr><tr>\n",
       "                <td>B06</td>\n",
       "                <td>rededge</td>\n",
       "                <td></td>\n",
       "                <td>uint16</td>\n",
       "                <td>{&#39;min&#39;: 0.0, &#39;max&#39;: 10000.0}</td>\n",
       "                <td>0.0001</td>\n",
       "                <td>0.0</td>\n",
       "            </tr><tr>\n",
       "                <td>B07</td>\n",
       "                <td>rededge</td>\n",
       "                <td></td>\n",
       "                <td>uint16</td>\n",
       "                <td>{&#39;min&#39;: 0.0, &#39;max&#39;: 10000.0}</td>\n",
       "                <td>0.0001</td>\n",
       "                <td>0.0</td>\n",
       "            </tr><tr>\n",
       "                <td>B08</td>\n",
       "                <td>nir</td>\n",
       "                <td></td>\n",
       "                <td>uint16</td>\n",
       "                <td>{&#39;min&#39;: 0.0, &#39;max&#39;: 10000.0}</td>\n",
       "                <td>0.0001</td>\n",
       "                <td>0.0</td>\n",
       "            </tr><tr>\n",
       "                <td>B8A</td>\n",
       "                <td>nir08</td>\n",
       "                <td></td>\n",
       "                <td>uint16</td>\n",
       "                <td>{&#39;min&#39;: 0.0, &#39;max&#39;: 10000.0}</td>\n",
       "                <td>0.0001</td>\n",
       "                <td>0.0</td>\n",
       "            </tr><tr>\n",
       "                <td>B09</td>\n",
       "                <td>nir09</td>\n",
       "                <td></td>\n",
       "                <td>uint16</td>\n",
       "                <td>{&#39;min&#39;: 0.0, &#39;max&#39;: 10000.0}</td>\n",
       "                <td>0.0001</td>\n",
       "                <td>0.0</td>\n",
       "            </tr><tr>\n",
       "                <td>B03</td>\n",
       "                <td>green</td>\n",
       "                <td></td>\n",
       "                <td>uint16</td>\n",
       "                <td>{&#39;min&#39;: 0.0, &#39;max&#39;: 10000.0}</td>\n",
       "                <td>0.0001</td>\n",
       "                <td>0.0</td>\n",
       "            </tr><tr>\n",
       "                <td>B11</td>\n",
       "                <td>swir16</td>\n",
       "                <td></td>\n",
       "                <td>uint16</td>\n",
       "                <td>{&#39;min&#39;: 0.0, &#39;max&#39;: 10000.0}</td>\n",
       "                <td>0.0001</td>\n",
       "                <td>0.0</td>\n",
       "            </tr><tr>\n",
       "                <td>B12</td>\n",
       "                <td>swir22</td>\n",
       "                <td></td>\n",
       "                <td>uint16</td>\n",
       "                <td>{&#39;min&#39;: 0.0, &#39;max&#39;: 10000.0}</td>\n",
       "                <td>0.0001</td>\n",
       "                <td>0.0</td>\n",
       "            </tr><tr>\n",
       "                <td>EVI</td>\n",
       "                <td>evi</td>\n",
       "                <td></td>\n",
       "                <td>int16</td>\n",
       "                <td>{&#39;min&#39;: -10000.0, &#39;max&#39;: 10000.0}</td>\n",
       "                <td>0.0001</td>\n",
       "                <td>-9999.0</td>\n",
       "            </tr><tr>\n",
       "                <td>NDVI</td>\n",
       "                <td>ndvi</td>\n",
       "                <td></td>\n",
       "                <td>int16</td>\n",
       "                <td>{&#39;min&#39;: -10000.0, &#39;max&#39;: 10000.0}</td>\n",
       "                <td>0.0001</td>\n",
       "                <td>-9999.0</td>\n",
       "            </tr><tr>\n",
       "                <td>NBR</td>\n",
       "                <td>nbr</td>\n",
       "                <td></td>\n",
       "                <td>int16</td>\n",
       "                <td>{&#39;min&#39;: -10000.0, &#39;max&#39;: 10000.0}</td>\n",
       "                <td>0.0001</td>\n",
       "                <td>-9999.0</td>\n",
       "            </tr>\n",
       "        </table>\n",
       "    </div>\n",
       "    </br>\n",
       "    <div>\n",
       "        <b>Extent</b>\n",
       "    </div>\n",
       "    <div>\n",
       "        <table>\n",
       "            <tr>\n",
       "                <th>xmin</th>\n",
       "                <th>ymin</th>\n",
       "                <th>xmax</th>\n",
       "                <th>ymax</th>\n",
       "            </tr>\n",
       "             <tr>\n",
       "                 <td>-74.871069</td>\n",
       "                 <td>-34.67556459214432</td>\n",
       "                 <td>-28.006208041654325</td>\n",
       "                 <td>5.763264005526926</td>\n",
       "             </tr>\n",
       "        </table>\n",
       "    </div>\n",
       "    <br/>\n",
       "    <div>\n",
       "        <b>Timeline</b>\n",
       "    </div>\n",
       "    <div>\n",
       "        <select id=\"timeline\" size=\"10\">\n",
       "        <option value=\"{d}\">2018-01-01</option><option value=\"{d}\">2018-01-17</option><option value=\"{d}\">2018-02-02</option><option value=\"{d}\">2018-02-18</option><option value=\"{d}\">2018-03-06</option><option value=\"{d}\">2018-03-22</option><option value=\"{d}\">2018-04-07</option><option value=\"{d}\">2018-04-23</option><option value=\"{d}\">2018-05-09</option><option value=\"{d}\">2018-05-25</option><option value=\"{d}\">2018-06-10</option><option value=\"{d}\">2018-06-26</option><option value=\"{d}\">2018-07-12</option><option value=\"{d}\">2018-07-28</option><option value=\"{d}\">2018-08-13</option><option value=\"{d}\">2018-08-29</option><option value=\"{d}\">2018-09-14</option><option value=\"{d}\">2018-09-30</option><option value=\"{d}\">2018-10-16</option><option value=\"{d}\">2018-11-01</option><option value=\"{d}\">2018-11-17</option><option value=\"{d}\">2018-12-03</option><option value=\"{d}\">2018-12-19</option><option value=\"{d}\">2019-01-01</option><option value=\"{d}\">2019-01-17</option><option value=\"{d}\">2019-02-02</option><option value=\"{d}\">2019-02-18</option><option value=\"{d}\">2019-03-06</option><option value=\"{d}\">2019-03-22</option><option value=\"{d}\">2019-04-07</option><option value=\"{d}\">2019-04-23</option><option value=\"{d}\">2019-05-09</option><option value=\"{d}\">2019-05-25</option><option value=\"{d}\">2019-06-10</option><option value=\"{d}\">2019-06-26</option><option value=\"{d}\">2019-07-12</option><option value=\"{d}\">2019-07-28</option><option value=\"{d}\">2019-08-13</option><option value=\"{d}\">2019-08-29</option><option value=\"{d}\">2019-09-14</option><option value=\"{d}\">2019-09-30</option><option value=\"{d}\">2019-10-16</option><option value=\"{d}\">2019-11-01</option><option value=\"{d}\">2019-11-17</option><option value=\"{d}\">2019-12-03</option><option value=\"{d}\">2019-12-19</option><option value=\"{d}\">2020-01-01</option><option value=\"{d}\">2020-01-17</option><option value=\"{d}\">2020-02-02</option><option value=\"{d}\">2020-02-18</option><option value=\"{d}\">2020-03-05</option><option value=\"{d}\">2020-03-21</option><option value=\"{d}\">2020-04-06</option><option value=\"{d}\">2020-04-22</option><option value=\"{d}\">2020-05-08</option><option value=\"{d}\">2020-05-24</option><option value=\"{d}\">2020-06-09</option><option value=\"{d}\">2020-06-25</option><option value=\"{d}\">2020-07-11</option><option value=\"{d}\">2020-07-27</option><option value=\"{d}\">2020-08-12</option><option value=\"{d}\">2020-08-28</option><option value=\"{d}\">2020-09-13</option><option value=\"{d}\">2020-09-29</option><option value=\"{d}\">2020-10-15</option><option value=\"{d}\">2020-10-31</option><option value=\"{d}\">2020-11-16</option><option value=\"{d}\">2020-12-02</option><option value=\"{d}\">2020-12-18</option><option value=\"{d}\">2021-01-01</option><option value=\"{d}\">2021-01-17</option><option value=\"{d}\">2021-02-02</option><option value=\"{d}\">2021-02-18</option><option value=\"{d}\">2021-03-06</option><option value=\"{d}\">2021-03-22</option><option value=\"{d}\">2021-04-07</option><option value=\"{d}\">2021-04-23</option><option value=\"{d}\">2021-05-09</option><option value=\"{d}\">2021-05-25</option><option value=\"{d}\">2021-06-10</option><option value=\"{d}\">2021-06-26</option><option value=\"{d}\">2021-07-12</option><option value=\"{d}\">2021-07-28</option><option value=\"{d}\">2021-08-13</option><option value=\"{d}\">2021-08-29</option><option value=\"{d}\">2021-09-14</option><option value=\"{d}\">2021-09-30</option><option value=\"{d}\">2021-10-16</option><option value=\"{d}\">2021-11-01</option><option value=\"{d}\">2021-11-17</option><option value=\"{d}\">2021-12-03</option><option value=\"{d}\">2021-12-19</option><option value=\"{d}\">2022-01-01</option><option value=\"{d}\">2022-01-17</option><option value=\"{d}\">2022-02-02</option><option value=\"{d}\">2022-02-18</option><option value=\"{d}\">2022-03-06</option><option value=\"{d}\">2022-03-22</option><option value=\"{d}\">2022-04-07</option><option value=\"{d}\">2022-04-23</option><option value=\"{d}\">2022-05-09</option><option value=\"{d}\">2022-05-25</option><option value=\"{d}\">2022-06-10</option><option value=\"{d}\">2022-06-26</option><option value=\"{d}\">2022-07-12</option><option value=\"{d}\">2022-07-28</option><option value=\"{d}\">2022-08-13</option><option value=\"{d}\">2022-08-29</option><option value=\"{d}\">2022-09-14</option><option value=\"{d}\">2022-09-30</option><option value=\"{d}\">2022-10-16</option><option value=\"{d}\">2022-11-01</option><option value=\"{d}\">2022-11-17</option><option value=\"{d}\">2022-12-03</option><option value=\"{d}\">2022-12-19</option><option value=\"{d}\">2023-01-01</option><option value=\"{d}\">2023-01-17</option><option value=\"{d}\">2023-02-02</option><option value=\"{d}\">2023-02-18</option><option value=\"{d}\">2023-03-06</option><option value=\"{d}\">2023-03-22</option><option value=\"{d}\">2023-04-07</option><option value=\"{d}\">2023-04-23</option><option value=\"{d}\">2023-05-09</option><option value=\"{d}\">2023-05-25</option><option value=\"{d}\">2023-06-10</option><option value=\"{d}\">2023-06-26</option><option value=\"{d}\">2023-07-12</option><option value=\"{d}\">2023-07-28</option><option value=\"{d}\">2023-08-13</option><option value=\"{d}\">2023-08-29</option><option value=\"{d}\">2023-09-14</option><option value=\"{d}\">2023-09-30</option><option value=\"{d}\">2023-10-16</option><option value=\"{d}\">2024-02-18</option><option value=\"{d}\">2024-01-17</option><option value=\"{d}\">2024-01-01</option><option value=\"{d}\">2023-11-01</option><option value=\"{d}\">2023-11-17</option><option value=\"{d}\">2023-12-03</option><option value=\"{d}\">2023-12-19</option><option value=\"{d}\">2024-02-02</option><option value=\"{d}\">2024-03-05</option><option value=\"{d}\">2017-06-26</option><option value=\"{d}\">2017-01-01</option><option value=\"{d}\">2017-02-18</option><option value=\"{d}\">2017-12-03</option><option value=\"{d}\">2017-05-25</option><option value=\"{d}\">2017-08-29</option><option value=\"{d}\">2017-04-07</option><option value=\"{d}\">2017-10-16</option><option value=\"{d}\">2017-01-17</option><option value=\"{d}\">2017-09-30</option><option value=\"{d}\">2017-02-02</option><option value=\"{d}\">2017-11-17</option><option value=\"{d}\">2017-07-28</option><option value=\"{d}\">2017-12-19</option><option value=\"{d}\">2017-06-10</option><option value=\"{d}\">2017-05-09</option><option value=\"{d}\">2017-03-06</option><option value=\"{d}\">2017-04-23</option><option value=\"{d}\">2017-08-13</option><option value=\"{d}\">2017-09-14</option><option value=\"{d}\">2017-07-12</option><option value=\"{d}\">2017-11-01</option><option value=\"{d}\">2017-03-22</option><option value=\"{d}\">2024-03-21</option><option value=\"{d}\">2024-04-22</option><option value=\"{d}\">2024-04-06</option><option value=\"{d}\">2024-05-24</option><option value=\"{d}\">2024-05-08</option>\n",
       "        </select>\n",
       "    </div>\n",
       "</div>"
      ],
      "text/plain": []
     },
     "execution_count": 91,
     "metadata": {},
     "output_type": "execute_result"
    }
   ],
   "source": [
    "s2_coverage"
   ]
  },
  {
   "cell_type": "markdown",
   "metadata": {},
   "source": [
    "In this metadata, we can see the attribute `SCL`, which stands for \"Scene Classification Layer\" and uses the following values:\n",
    "\n",
    "- `0`: no data;\n",
    "- `1`: saturated or defective;\n",
    "- `2`: dark area pixels;\n",
    "- `3`: cloud shadow;\n",
    "- `4`: vegetation;\n",
    "- `5`: not vegetated;\n",
    "- `6`: water;\n",
    "- `7`: unclassified;\n",
    "- `8`: cloud medium probability;\n",
    "- `9`: cloud high probability;\n",
    "- `10`: thin cirrus;\n",
    "- `11`: snow;\n",
    "\n",
    "Let's retrieve the time series, for the location `latitude -12.0`, `longitude -53.989` from `January 1, 2019` to `December 31, 2019`."
   ]
  },
  {
   "cell_type": "code",
   "execution_count": 92,
   "metadata": {},
   "outputs": [
    {
     "data": {
      "text/html": [
       "<div>\n",
       "    <div>\n",
       "        <b>Time Series</b> S2-16D-2\n",
       "    </div>\n",
       "    <br/>\n",
       "    <div>\n",
       "        <div>\n",
       "            <b>SCL:</b> [4, 10, 4, 10, 4, 4, 4, 4, 4, 4, 4, 4, 4, 4, 4, 4, 4, 8, 4, 4, 9, 4, 4]\n",
       "        </div>\n",
       "    </div>\n",
       "    <br/>\n",
       "    <div>\n",
       "        <b>timeline</b>\n",
       "    </div>\n",
       "    <div>\n",
       "        <select id=\"timeline\" size=\"10\">\n",
       "        <option value=\"{d}\">2019-01-01</option><option value=\"{d}\">2019-01-17</option><option value=\"{d}\">2019-02-02</option><option value=\"{d}\">2019-02-18</option><option value=\"{d}\">2019-03-06</option><option value=\"{d}\">2019-03-22</option><option value=\"{d}\">2019-04-07</option><option value=\"{d}\">2019-04-23</option><option value=\"{d}\">2019-05-09</option><option value=\"{d}\">2019-05-25</option><option value=\"{d}\">2019-06-10</option><option value=\"{d}\">2019-06-26</option><option value=\"{d}\">2019-07-12</option><option value=\"{d}\">2019-07-28</option><option value=\"{d}\">2019-08-13</option><option value=\"{d}\">2019-08-29</option><option value=\"{d}\">2019-09-14</option><option value=\"{d}\">2019-09-30</option><option value=\"{d}\">2019-10-16</option><option value=\"{d}\">2019-11-01</option><option value=\"{d}\">2019-11-17</option><option value=\"{d}\">2019-12-03</option><option value=\"{d}\">2019-12-19</option>\n",
       "        </select>\n",
       "    </div>\n",
       "</div>"
      ],
      "text/plain": []
     },
     "execution_count": 92,
     "metadata": {},
     "output_type": "execute_result"
    }
   ],
   "source": [
    "s2_timeseries_scl = s2_coverage.ts(\n",
    "\n",
    "    attributes = ('SCL'),\n",
    "\n",
    "    latitude = -12.0,\n",
    "    longitude = -53.989,\n",
    "\n",
    "    start_date = \"2019-01-01\",\n",
    "    end_date = \"2019-12-31\"\n",
    ")\n",
    "\n",
    "s2_timeseries_scl"
   ]
  },
  {
   "cell_type": "markdown",
   "metadata": {},
   "source": [
    "Let's preview the returned values. To make the visualization simpler, let's remove the values that are duplicated:"
   ]
  },
  {
   "cell_type": "code",
   "execution_count": 93,
   "metadata": {},
   "outputs": [
    {
     "data": {
      "text/plain": [
       "{4, 8, 9, 10}"
      ]
     },
     "execution_count": 93,
     "metadata": {},
     "output_type": "execute_result"
    }
   ],
   "source": [
    "set(s2_timeseries_scl.values('SCL'))"
   ]
  },
  {
   "cell_type": "markdown",
   "metadata": {},
   "source": [
    "Note that, among the values returned, there are *pixels* that have values `8`, `9` or `10`. This indicates that certain values have cloud and may be removed.\n",
    "\n",
    "To present the example of interpolation, let's make use of the `NDVI` attribute. So, first let's do a new time series extraction, considering now both attributes, `NDVI` and `SCL`:"
   ]
  },
  {
   "cell_type": "code",
   "execution_count": 94,
   "metadata": {},
   "outputs": [],
   "source": [
    "s2_timeseries = s2_coverage.ts(\n",
    "\n",
    "    attributes = ('NDVI', 'SCL'),\n",
    "\n",
    "    latitude = -12.0,\n",
    "    longitude = -53.989,\n",
    "\n",
    "    start_date = \"2017-01-01\",\n",
    "    end_date = \"2019-12-31\"\n",
    "\n",
    ")"
   ]
  },
  {
   "cell_type": "markdown",
   "metadata": {},
   "source": [
    "Let's perform this operation step by step. So, first let's retrieve the timeline from the extracted time series and then transform them into `datetime` type objects. This can be done with the command below:\n",
    "\n",
    "<div style=\"text-align: center; margin-left: 25%; margin-right: 25%; border-style: solid; border-color: #0077b9; border-width: 1px; padding: 5px;\">\n",
    "    <b>Tip:</b> The timeline to <em>datetime</em> conversion operation is necessary since, although the <em>cb4_timeseries.timeline</em> attribute stores a list of dates, in Python, the values in this list are just text and are not interpreted by the language as valid dates. This can make it difficult to manipulate this data, especially when considering aggregations and temporal selections of the data using the <em>Pandas</em> library.\n",
    "</div>"
   ]
  },
  {
   "cell_type": "code",
   "execution_count": 95,
   "metadata": {},
   "outputs": [
    {
     "data": {
      "text/plain": [
       "DatetimeIndex(['2017-01-01', '2017-01-17', '2017-02-02', '2017-02-18',\n",
       "               '2017-03-06', '2017-03-22', '2017-04-07', '2017-04-23',\n",
       "               '2017-05-09', '2017-05-25', '2017-06-10', '2017-06-26',\n",
       "               '2017-07-12', '2017-07-28', '2017-08-13', '2017-08-29',\n",
       "               '2017-09-14', '2017-09-30', '2017-10-16', '2017-11-01',\n",
       "               '2017-11-17', '2017-12-03', '2017-12-19', '2018-01-01',\n",
       "               '2018-01-17', '2018-02-02', '2018-02-18', '2018-03-06',\n",
       "               '2018-03-22', '2018-04-07', '2018-04-23', '2018-05-09',\n",
       "               '2018-05-25', '2018-06-10', '2018-06-26', '2018-07-12',\n",
       "               '2018-07-28', '2018-08-13', '2018-08-29', '2018-09-14',\n",
       "               '2018-09-30', '2018-10-16', '2018-11-01', '2018-11-17',\n",
       "               '2018-12-03', '2018-12-19', '2019-01-01', '2019-01-17',\n",
       "               '2019-02-02', '2019-02-18', '2019-03-06', '2019-03-22',\n",
       "               '2019-04-07', '2019-04-23', '2019-05-09', '2019-05-25',\n",
       "               '2019-06-10', '2019-06-26', '2019-07-12', '2019-07-28',\n",
       "               '2019-08-13', '2019-08-29', '2019-09-14', '2019-09-30',\n",
       "               '2019-10-16', '2019-11-01', '2019-11-17', '2019-12-03',\n",
       "               '2019-12-19'],\n",
       "              dtype='datetime64[ns]', freq=None)"
      ]
     },
     "execution_count": 95,
     "metadata": {},
     "output_type": "execute_result"
    }
   ],
   "source": [
    "ndvi_timeline = pd.to_datetime(s2_timeseries.timeline)\n",
    "ndvi_timeline"
   ]
  },
  {
   "cell_type": "markdown",
   "metadata": {},
   "source": [
    "Now, let's store the values of the `NDVI` and `SCL` attributes of the extracted time series in a `numpy.array`. This will be done to facilitate the manipulation of this data."
   ]
  },
  {
   "cell_type": "code",
   "execution_count": 96,
   "metadata": {},
   "outputs": [
    {
     "data": {
      "text/plain": [
       "array([ 4,  4,  0,  0,  7,  0,  0,  4,  0,  0,  0,  0,  4,  0,  4,  4,  7,\n",
       "       10,  4,  8,  9,  9,  4,  7,  4,  9,  4,  7,  9,  4,  4,  4,  4,  4,\n",
       "        4,  4,  4,  4,  4,  4,  4,  4,  4,  9,  4,  4,  4, 10,  4, 10,  4,\n",
       "        4,  4,  4,  4,  4,  4,  4,  4,  4,  4,  4,  4,  8,  4,  4,  9,  4,\n",
       "        4])"
      ]
     },
     "execution_count": 96,
     "metadata": {},
     "output_type": "execute_result"
    }
   ],
   "source": [
    "import numpy as np\n",
    "\n",
    "ndvi_data = np.array(s2_timeseries.NDVI)\n",
    "ndvi_data\n",
    "\n",
    "scl_data = np.array(s2_timeseries.SCL)\n",
    "scl_data"
   ]
  },
  {
   "cell_type": "markdown",
   "metadata": {},
   "source": [
    "Now, we need to adopt some strategy to make the values that have cloud influence be marked as `nan` in the dataset.\n",
    "\n",
    "As the values of both attributes are stored in a `numpy.array`, we can then use the features of [numpy](https://numpy.org/), to manipulate this data.\n",
    "\n",
    "Considering this, we are going to adopt a strategy in which we will apply a transformation to the `SCL` data, so that every position in the array that represents cloud influence will be converted to `nan`, while the other values will be converted to `1`. With this approach, we will be able to multiply the array resulting from the transformation, with the data of other attributes, which will make the positions with cloud influence become `nan` as well.\n",
    "\n",
    "To be clear, let's perform this operation. First, with the code below, let's convert the values of `SCL`"
   ]
  },
  {
   "cell_type": "code",
   "execution_count": 97,
   "metadata": {},
   "outputs": [],
   "source": [
    "scl_values_to_not_mask = [4, 5, 6]"
   ]
  },
  {
   "cell_type": "code",
   "execution_count": 98,
   "metadata": {},
   "outputs": [
    {
     "data": {
      "text/plain": [
       "array([ 1.,  1., nan, nan, nan, nan, nan,  1., nan, nan, nan, nan,  1.,\n",
       "       nan,  1.,  1., nan, nan,  1., nan, nan, nan,  1., nan,  1., nan,\n",
       "        1., nan, nan,  1.,  1.,  1.,  1.,  1.,  1.,  1.,  1.,  1.,  1.,\n",
       "        1.,  1.,  1.,  1., nan,  1.,  1.,  1., nan,  1., nan,  1.,  1.,\n",
       "        1.,  1.,  1.,  1.,  1.,  1.,  1.,  1.,  1.,  1.,  1., nan,  1.,\n",
       "        1., nan,  1.,  1.])"
      ]
     },
     "execution_count": 98,
     "metadata": {},
     "output_type": "execute_result"
    }
   ],
   "source": [
    "scl_data = np.where(np.isin(scl_data, scl_values_to_not_mask), 1, np.nan)\n",
    "scl_data"
   ]
  },
  {
   "cell_type": "markdown",
   "metadata": {},
   "source": [
    "Note that now, there are some `nan` values in the `SCL` array, while all others are equal to `1`. By multiplying this mask array, with the `NDVI` array, we have the following effect:"
   ]
  },
  {
   "cell_type": "code",
   "execution_count": 99,
   "metadata": {},
   "outputs": [
    {
     "data": {
      "text/plain": [
       "array([7957., 6637.,   nan,   nan,   nan,   nan,   nan, 8613.,   nan,\n",
       "         nan,   nan,   nan, 8651.,   nan, 8268., 7976.,   nan,   nan,\n",
       "       7973.,   nan,   nan,   nan, 7588.,   nan, 8064.,   nan, 8017.,\n",
       "         nan,   nan, 8322., 8494., 8240., 8308., 8369., 8310., 8423.,\n",
       "       8422., 8588., 8451., 5865., 8138., 8238., 7986.,   nan, 8693.,\n",
       "       8555., 8464.,   nan, 7108.,   nan, 8290., 7880., 8434., 8504.,\n",
       "       8310., 8433., 8360., 8274., 8572., 8672., 8548., 8144., 8027.,\n",
       "         nan, 7957., 8228.,   nan, 6223., 7615.])"
      ]
     },
     "execution_count": 99,
     "metadata": {},
     "output_type": "execute_result"
    }
   ],
   "source": [
    "ndvi_data * scl_data"
   ]
  },
  {
   "cell_type": "markdown",
   "metadata": {},
   "source": [
    "Note that among the values of `NDVI` in the time series, some values were transformed into `nan`. Now, we can perform the interpolation of our time series.\n",
    "\n",
    "For that, we're going to put this data inside a `pandas.DataFrame`. As we only have one data attribute, `NDVI`, let's multiply it with the mask array and store it in a column of the `DataFrame`, named `data`. The index (Name of the lines of the `DataFrame`), will be each of the dates of the timeline (Converted to datetime in the previous step).\n",
    "\n",
    "The command below creates the `DataFrame` with the specified characteristics:"
   ]
  },
  {
   "cell_type": "code",
   "execution_count": 100,
   "metadata": {},
   "outputs": [
    {
     "data": {
      "text/html": [
       "<div>\n",
       "<style scoped>\n",
       "    .dataframe tbody tr th:only-of-type {\n",
       "        vertical-align: middle;\n",
       "    }\n",
       "\n",
       "    .dataframe tbody tr th {\n",
       "        vertical-align: top;\n",
       "    }\n",
       "\n",
       "    .dataframe thead th {\n",
       "        text-align: right;\n",
       "    }\n",
       "</style>\n",
       "<table border=\"1\" class=\"dataframe\">\n",
       "  <thead>\n",
       "    <tr style=\"text-align: right;\">\n",
       "      <th></th>\n",
       "      <th>data</th>\n",
       "    </tr>\n",
       "  </thead>\n",
       "  <tbody>\n",
       "    <tr>\n",
       "      <th>2017-01-01</th>\n",
       "      <td>7957.0</td>\n",
       "    </tr>\n",
       "    <tr>\n",
       "      <th>2017-01-17</th>\n",
       "      <td>6637.0</td>\n",
       "    </tr>\n",
       "    <tr>\n",
       "      <th>2017-02-02</th>\n",
       "      <td>NaN</td>\n",
       "    </tr>\n",
       "    <tr>\n",
       "      <th>2017-02-18</th>\n",
       "      <td>NaN</td>\n",
       "    </tr>\n",
       "    <tr>\n",
       "      <th>2017-03-06</th>\n",
       "      <td>NaN</td>\n",
       "    </tr>\n",
       "    <tr>\n",
       "      <th>...</th>\n",
       "      <td>...</td>\n",
       "    </tr>\n",
       "    <tr>\n",
       "      <th>2019-10-16</th>\n",
       "      <td>7957.0</td>\n",
       "    </tr>\n",
       "    <tr>\n",
       "      <th>2019-11-01</th>\n",
       "      <td>8228.0</td>\n",
       "    </tr>\n",
       "    <tr>\n",
       "      <th>2019-11-17</th>\n",
       "      <td>NaN</td>\n",
       "    </tr>\n",
       "    <tr>\n",
       "      <th>2019-12-03</th>\n",
       "      <td>6223.0</td>\n",
       "    </tr>\n",
       "    <tr>\n",
       "      <th>2019-12-19</th>\n",
       "      <td>7615.0</td>\n",
       "    </tr>\n",
       "  </tbody>\n",
       "</table>\n",
       "<p>69 rows × 1 columns</p>\n",
       "</div>"
      ],
      "text/plain": [
       "              data\n",
       "2017-01-01  7957.0\n",
       "2017-01-17  6637.0\n",
       "2017-02-02     NaN\n",
       "2017-02-18     NaN\n",
       "2017-03-06     NaN\n",
       "...            ...\n",
       "2019-10-16  7957.0\n",
       "2019-11-01  8228.0\n",
       "2019-11-17     NaN\n",
       "2019-12-03  6223.0\n",
       "2019-12-19  7615.0\n",
       "\n",
       "[69 rows x 1 columns]"
      ]
     },
     "execution_count": 100,
     "metadata": {},
     "output_type": "execute_result"
    }
   ],
   "source": [
    "ndvi_masked_data = pd.DataFrame({ 'data': ndvi_data * scl_data }, index = pd.to_datetime(ndvi_timeline))\n",
    "ndvi_masked_data"
   ]
  },
  {
   "cell_type": "markdown",
   "metadata": {},
   "source": [
    "If we look in the `DataFrame` for the lines that have `na` values, we should find some of them:"
   ]
  },
  {
   "cell_type": "code",
   "execution_count": 101,
   "metadata": {},
   "outputs": [
    {
     "data": {
      "text/html": [
       "<div>\n",
       "<style scoped>\n",
       "    .dataframe tbody tr th:only-of-type {\n",
       "        vertical-align: middle;\n",
       "    }\n",
       "\n",
       "    .dataframe tbody tr th {\n",
       "        vertical-align: top;\n",
       "    }\n",
       "\n",
       "    .dataframe thead th {\n",
       "        text-align: right;\n",
       "    }\n",
       "</style>\n",
       "<table border=\"1\" class=\"dataframe\">\n",
       "  <thead>\n",
       "    <tr style=\"text-align: right;\">\n",
       "      <th></th>\n",
       "      <th>data</th>\n",
       "    </tr>\n",
       "  </thead>\n",
       "  <tbody>\n",
       "    <tr>\n",
       "      <th>2017-02-02</th>\n",
       "      <td>NaN</td>\n",
       "    </tr>\n",
       "    <tr>\n",
       "      <th>2017-02-18</th>\n",
       "      <td>NaN</td>\n",
       "    </tr>\n",
       "    <tr>\n",
       "      <th>2017-03-06</th>\n",
       "      <td>NaN</td>\n",
       "    </tr>\n",
       "    <tr>\n",
       "      <th>2017-03-22</th>\n",
       "      <td>NaN</td>\n",
       "    </tr>\n",
       "    <tr>\n",
       "      <th>2017-04-07</th>\n",
       "      <td>NaN</td>\n",
       "    </tr>\n",
       "    <tr>\n",
       "      <th>2017-05-09</th>\n",
       "      <td>NaN</td>\n",
       "    </tr>\n",
       "    <tr>\n",
       "      <th>2017-05-25</th>\n",
       "      <td>NaN</td>\n",
       "    </tr>\n",
       "    <tr>\n",
       "      <th>2017-06-10</th>\n",
       "      <td>NaN</td>\n",
       "    </tr>\n",
       "    <tr>\n",
       "      <th>2017-06-26</th>\n",
       "      <td>NaN</td>\n",
       "    </tr>\n",
       "    <tr>\n",
       "      <th>2017-07-28</th>\n",
       "      <td>NaN</td>\n",
       "    </tr>\n",
       "    <tr>\n",
       "      <th>2017-09-14</th>\n",
       "      <td>NaN</td>\n",
       "    </tr>\n",
       "    <tr>\n",
       "      <th>2017-09-30</th>\n",
       "      <td>NaN</td>\n",
       "    </tr>\n",
       "    <tr>\n",
       "      <th>2017-11-01</th>\n",
       "      <td>NaN</td>\n",
       "    </tr>\n",
       "    <tr>\n",
       "      <th>2017-11-17</th>\n",
       "      <td>NaN</td>\n",
       "    </tr>\n",
       "    <tr>\n",
       "      <th>2017-12-03</th>\n",
       "      <td>NaN</td>\n",
       "    </tr>\n",
       "    <tr>\n",
       "      <th>2018-01-01</th>\n",
       "      <td>NaN</td>\n",
       "    </tr>\n",
       "    <tr>\n",
       "      <th>2018-02-02</th>\n",
       "      <td>NaN</td>\n",
       "    </tr>\n",
       "    <tr>\n",
       "      <th>2018-03-06</th>\n",
       "      <td>NaN</td>\n",
       "    </tr>\n",
       "    <tr>\n",
       "      <th>2018-03-22</th>\n",
       "      <td>NaN</td>\n",
       "    </tr>\n",
       "    <tr>\n",
       "      <th>2018-11-17</th>\n",
       "      <td>NaN</td>\n",
       "    </tr>\n",
       "    <tr>\n",
       "      <th>2019-01-17</th>\n",
       "      <td>NaN</td>\n",
       "    </tr>\n",
       "    <tr>\n",
       "      <th>2019-02-18</th>\n",
       "      <td>NaN</td>\n",
       "    </tr>\n",
       "    <tr>\n",
       "      <th>2019-09-30</th>\n",
       "      <td>NaN</td>\n",
       "    </tr>\n",
       "    <tr>\n",
       "      <th>2019-11-17</th>\n",
       "      <td>NaN</td>\n",
       "    </tr>\n",
       "  </tbody>\n",
       "</table>\n",
       "</div>"
      ],
      "text/plain": [
       "            data\n",
       "2017-02-02   NaN\n",
       "2017-02-18   NaN\n",
       "2017-03-06   NaN\n",
       "2017-03-22   NaN\n",
       "2017-04-07   NaN\n",
       "2017-05-09   NaN\n",
       "2017-05-25   NaN\n",
       "2017-06-10   NaN\n",
       "2017-06-26   NaN\n",
       "2017-07-28   NaN\n",
       "2017-09-14   NaN\n",
       "2017-09-30   NaN\n",
       "2017-11-01   NaN\n",
       "2017-11-17   NaN\n",
       "2017-12-03   NaN\n",
       "2018-01-01   NaN\n",
       "2018-02-02   NaN\n",
       "2018-03-06   NaN\n",
       "2018-03-22   NaN\n",
       "2018-11-17   NaN\n",
       "2019-01-17   NaN\n",
       "2019-02-18   NaN\n",
       "2019-09-30   NaN\n",
       "2019-11-17   NaN"
      ]
     },
     "execution_count": 101,
     "metadata": {},
     "output_type": "execute_result"
    }
   ],
   "source": [
    "ndvi_masked_data[ndvi_masked_data['data'].isna()]"
   ]
  },
  {
   "cell_type": "markdown",
   "metadata": {},
   "source": [
    "Now, using the `interpolate` method, available in `pandas.DataFrame`, let's interpolate our data:"
   ]
  },
  {
   "cell_type": "code",
   "execution_count": 102,
   "metadata": {},
   "outputs": [
    {
     "data": {
      "text/html": [
       "<div>\n",
       "<style scoped>\n",
       "    .dataframe tbody tr th:only-of-type {\n",
       "        vertical-align: middle;\n",
       "    }\n",
       "\n",
       "    .dataframe tbody tr th {\n",
       "        vertical-align: top;\n",
       "    }\n",
       "\n",
       "    .dataframe thead th {\n",
       "        text-align: right;\n",
       "    }\n",
       "</style>\n",
       "<table border=\"1\" class=\"dataframe\">\n",
       "  <thead>\n",
       "    <tr style=\"text-align: right;\">\n",
       "      <th></th>\n",
       "      <th>data</th>\n",
       "    </tr>\n",
       "  </thead>\n",
       "  <tbody>\n",
       "    <tr>\n",
       "      <th>2017-01-01</th>\n",
       "      <td>7957.000000</td>\n",
       "    </tr>\n",
       "    <tr>\n",
       "      <th>2017-01-17</th>\n",
       "      <td>6637.000000</td>\n",
       "    </tr>\n",
       "    <tr>\n",
       "      <th>2017-02-02</th>\n",
       "      <td>6966.333333</td>\n",
       "    </tr>\n",
       "    <tr>\n",
       "      <th>2017-02-18</th>\n",
       "      <td>7295.666667</td>\n",
       "    </tr>\n",
       "    <tr>\n",
       "      <th>2017-03-06</th>\n",
       "      <td>7625.000000</td>\n",
       "    </tr>\n",
       "    <tr>\n",
       "      <th>...</th>\n",
       "      <td>...</td>\n",
       "    </tr>\n",
       "    <tr>\n",
       "      <th>2019-10-16</th>\n",
       "      <td>7957.000000</td>\n",
       "    </tr>\n",
       "    <tr>\n",
       "      <th>2019-11-01</th>\n",
       "      <td>8228.000000</td>\n",
       "    </tr>\n",
       "    <tr>\n",
       "      <th>2019-11-17</th>\n",
       "      <td>7225.500000</td>\n",
       "    </tr>\n",
       "    <tr>\n",
       "      <th>2019-12-03</th>\n",
       "      <td>6223.000000</td>\n",
       "    </tr>\n",
       "    <tr>\n",
       "      <th>2019-12-19</th>\n",
       "      <td>7615.000000</td>\n",
       "    </tr>\n",
       "  </tbody>\n",
       "</table>\n",
       "<p>69 rows × 1 columns</p>\n",
       "</div>"
      ],
      "text/plain": [
       "                   data\n",
       "2017-01-01  7957.000000\n",
       "2017-01-17  6637.000000\n",
       "2017-02-02  6966.333333\n",
       "2017-02-18  7295.666667\n",
       "2017-03-06  7625.000000\n",
       "...                 ...\n",
       "2019-10-16  7957.000000\n",
       "2019-11-01  8228.000000\n",
       "2019-11-17  7225.500000\n",
       "2019-12-03  6223.000000\n",
       "2019-12-19  7615.000000\n",
       "\n",
       "[69 rows x 1 columns]"
      ]
     },
     "execution_count": 102,
     "metadata": {},
     "output_type": "execute_result"
    }
   ],
   "source": [
    "ndvi_masked_data_interpolated = ndvi_masked_data.interpolate()\n",
    "ndvi_masked_data_interpolated"
   ]
  },
  {
   "cell_type": "markdown",
   "metadata": {},
   "source": [
    "The interpolation result was saved in the `ndvi_masked_data_interpolated` variable. When querying this variable for the existence of `nan` values, no value should be returned:"
   ]
  },
  {
   "cell_type": "code",
   "execution_count": 103,
   "metadata": {},
   "outputs": [
    {
     "data": {
      "text/html": [
       "<div>\n",
       "<style scoped>\n",
       "    .dataframe tbody tr th:only-of-type {\n",
       "        vertical-align: middle;\n",
       "    }\n",
       "\n",
       "    .dataframe tbody tr th {\n",
       "        vertical-align: top;\n",
       "    }\n",
       "\n",
       "    .dataframe thead th {\n",
       "        text-align: right;\n",
       "    }\n",
       "</style>\n",
       "<table border=\"1\" class=\"dataframe\">\n",
       "  <thead>\n",
       "    <tr style=\"text-align: right;\">\n",
       "      <th></th>\n",
       "      <th>data</th>\n",
       "    </tr>\n",
       "  </thead>\n",
       "  <tbody>\n",
       "  </tbody>\n",
       "</table>\n",
       "</div>"
      ],
      "text/plain": [
       "Empty DataFrame\n",
       "Columns: [data]\n",
       "Index: []"
      ]
     },
     "execution_count": 103,
     "metadata": {},
     "output_type": "execute_result"
    }
   ],
   "source": [
    "ndvi_masked_data_interpolated[ndvi_masked_data_interpolated['data'].isna()]"
   ]
  },
  {
   "cell_type": "markdown",
   "metadata": {},
   "source": [
    "Done! We interpolate our data. To visualize the result of this operation and the difference caused by this change in the series, below, let's visualize the original series and the interpolated series.\n",
    "\n",
    "As the [Matplotlib](https://matplotlib.org/) library will be used in this view, it must be imported. This can be done with the code below:"
   ]
  },
  {
   "cell_type": "code",
   "execution_count": 104,
   "metadata": {},
   "outputs": [],
   "source": [
    "import matplotlib.pyplot as plt"
   ]
  },
  {
   "cell_type": "markdown",
   "metadata": {},
   "source": [
    "We can then compare time series"
   ]
  },
  {
   "cell_type": "code",
   "execution_count": 105,
   "metadata": {},
   "outputs": [
    {
     "data": {
      "image/png": "[encoded data removed]",
      "text/plain": [
       "<Figure size 768x576 with 1 Axes>"
      ]
     },
     "metadata": {},
     "output_type": "display_data"
    }
   ],
   "source": [
    "plt.figure(dpi = 120)\n",
    "\n",
    "plt.plot(ndvi_data, color='gray', linestyle='dashed', label = 'Original')\n",
    "plt.plot(ndvi_masked_data_interpolated['data'].values, color='blue', label = 'Interpolated')\n",
    "\n",
    "plt.title('Comparison of Time Series with and without interpolation')\n",
    "plt.legend()\n",
    "plt.grid(True)\n",
    "plt.show()"
   ]
  },
  {
   "cell_type": "markdown",
   "metadata": {},
   "source": [
    "## Time series smoothing\n",
    "<hr style=\"border:1px solid #0077b9;\">\n",
    "\n",
    "In addition to cloud noise, there are many other factors that can influence the time series values ​​of Remote Sensing images. For these cases, a solution can be to apply filters to smooth the time series.\n",
    "\n",
    "There are several smoothing algorithms that can be used, in this example the smoothing of the time series will be presented using the `Savitzky Golay` filter. The time series used in this example will be the same interpolated in the previous step.\n",
    "\n",
    "For the example, the `Savitzky Golay` filter implemented in the library [SciPy](https://www.scipy.org/) will be used. Importing the filter function can be done as follows:"
   ]
  },
  {
   "cell_type": "code",
   "execution_count": 106,
   "metadata": {},
   "outputs": [],
   "source": [
    "from scipy.signal import savgol_filter"
   ]
  },
  {
   "cell_type": "markdown",
   "metadata": {},
   "source": [
    "With the filter function imported, let's apply it to the interpolated data:"
   ]
  },
  {
   "cell_type": "code",
   "execution_count": 107,
   "metadata": {},
   "outputs": [],
   "source": [
    "median_smoothed = savgol_filter(ndvi_masked_data_interpolated['data'], window_length = 9, polyorder = 2)"
   ]
  },
  {
   "cell_type": "markdown",
   "metadata": {},
   "source": [
    "<div style=\"text-align: center; margin-left: 25%; margin-right: 25%; border-style: solid; border-color: #0077b9; border-width: 1px; padding: 5px;\">\n",
    "    <b>Note:</b> The <em>Savitz Golay</em> algorithm uses <b>window_length</b> and the <b>polynomial order</b> used as parameters. You can change these values ​​to see the impacts on the smoothing of the series. Additionally, if you are more interested in time series smoothing, it is recommended to read <a href=\"https://e-sensing.github.io/sitsbook/working-with-time-series.html#filtering -techniques-for-time-series\" target=\"_blank\"> \"Section 3.5 - Filtering techniques for time series\" of the <em>sits</em></a> user manual\n",
    "</div>"
   ]
  },
  {
   "cell_type": "markdown",
   "metadata": {},
   "source": [
    "To compare the results, in the same way as for the interpolation, let's create a plot that allows us to visualize the changes:"
   ]
  },
  {
   "cell_type": "code",
   "execution_count": 108,
   "metadata": {},
   "outputs": [
    {
     "data": {
      "image/png": "[encoded data removed]",
      "text/plain": [
       "<Figure size 768x576 with 1 Axes>"
      ]
     },
     "metadata": {},
     "output_type": "display_data"
    }
   ],
   "source": [
    "plt.figure(dpi = 120)\n",
    "\n",
    "plt.plot(ndvi_masked_data_interpolated['data'].values, color='gray', linestyle='dashed', label = 'Interpolated')\n",
    "plt.plot(median_smoothed, color='blue', label = 'Interpolated and smoothed')\n",
    "\n",
    "plt.title('Comparison of Time Series with and without interpolation')\n",
    "plt.legend()\n",
    "plt.grid(True)\n",
    "plt.show()"
   ]
  },
  {
   "cell_type": "markdown",
   "metadata": {},
   "source": [
    "# Calculate Median Time Series\n",
    "<hr style=\"border:1px solid #0077b9;\">"
   ]
  },
  {
   "cell_type": "markdown",
   "metadata": {},
   "source": [
    "So far, all examples have made use of time series varying only in the number of attributes. Thus, in this example, a set of time series will be used in order to extract a median time series.\n",
    "\n",
    "The first thing to do then, is to determine the points that will be used. In this case, for the extraction of time series, we will generate points in an agricultural region in the state of Mato Grosso. These points will be generated considering the following criteria:\n",
    "\n",
    "- Longitude: Fixed at the value `-53,989`;\n",
    "- Latitude: Variable from `-16.9000` to `-16.9075` at a rate of `-0.0015`.\n",
    "\n",
    "This will generate five points. These will be used to extract time series from the previously selected *Coverage*, considering data from `January 1, 2017` to `December 31, 2019`. Only the NDVI vegetation index attribute will be used.\n",
    "\n",
    "Let's start with generating the points, which can be done with the code below:"
   ]
  },
  {
   "cell_type": "code",
   "execution_count": 109,
   "metadata": {},
   "outputs": [],
   "source": [
    "longitude = -53.989  # Fixado\n",
    "locations = []  # variável\n",
    "\n",
    "for latitude in np.arange(-16.9000,-16.9075,-0.0015):\n",
    "    locations.append(( latitude, longitude ))"
   ]
  },
  {
   "cell_type": "markdown",
   "metadata": {},
   "source": [
    "At the end of the operation, we have a set of locations stored in the `locations` variable:"
   ]
  },
  {
   "cell_type": "code",
   "execution_count": 110,
   "metadata": {},
   "outputs": [
    {
     "data": {
      "text/plain": [
       "[(-16.9, -53.989),\n",
       " (-16.9015, -53.989),\n",
       " (-16.903, -53.989),\n",
       " (-16.9045, -53.989),\n",
       " (-16.906, -53.989),\n",
       " (-16.9075, -53.989)]"
      ]
     },
     "execution_count": 110,
     "metadata": {},
     "output_type": "execute_result"
    }
   ],
   "source": [
    "locations"
   ]
  },
  {
   "cell_type": "markdown",
   "metadata": {},
   "source": [
    "To more clearly present the region from which the time series will be collected, let's place the generated points on an interactive map:"
   ]
  },
  {
   "cell_type": "code",
   "execution_count": 111,
   "metadata": {},
   "outputs": [],
   "source": [
    "import folium"
   ]
  },
  {
   "cell_type": "markdown",
   "metadata": {},
   "source": [
    "Creating the map:"
   ]
  },
  {
   "cell_type": "code",
   "execution_count": 112,
   "metadata": {},
   "outputs": [],
   "source": [
    "m = folium.Map(\n",
    "    location = [-16.9, -53.989],\n",
    "    zoom_start = 15,\n",
    ")\n",
    "\n",
    "tile = folium.TileLayer(\n",
    "        tiles = 'https://server.arcgisonline.com/ArcGIS/rest/services/World_Imagery/MapServer/tile/{z}/{y}/{x}',\n",
    "        attr = 'Esri',\n",
    "        name = 'Esri Satellite',\n",
    "        overlay = False,\n",
    "        control = True\n",
    "       ).add_to(m)"
   ]
  },
  {
   "cell_type": "markdown",
   "metadata": {},
   "source": [
    "Finally, let's add the points to the map and then do the visualization:"
   ]
  },
  {
   "cell_type": "code",
   "execution_count": 113,
   "metadata": {},
   "outputs": [
    {
     "data": {
      "text/html": [
       "<div style=\"width:100%;\"><div style=\"position:relative;width:100%;height:0;padding-bottom:60%;\"><span style=\"color:#565656\">Make this Notebook Trusted to load map: File -> Trust Notebook</span><iframe srcdoc=\"&lt;!DOCTYPE html&gt;\n",
       "&lt;html&gt;\n",
       "&lt;head&gt;\n",
       "    \n",
       "    &lt;meta http-equiv=&quot;content-type&quot; content=&quot;text/html; charset=UTF-8&quot; /&gt;\n",
       "    \n",
       "        &lt;script&gt;\n",
       "            L_NO_TOUCH = false;\n",
       "            L_DISABLE_3D = false;\n",
       "        &lt;/script&gt;\n",
       "    \n",
       "    &lt;style&gt;html, body {width: 100%;height: 100%;margin: 0;padding: 0;}&lt;/style&gt;\n",
       "    &lt;style&gt;#map {position:absolute;top:0;bottom:0;right:0;left:0;}&lt;/style&gt;\n",
       "    &lt;script src=&quot;https://cdn.jsdelivr.net/npm/leaflet@1.9.3/dist/leaflet.js&quot;&gt;&lt;/script&gt;\n",
       "    &lt;script src=&quot;https://code.jquery.com/jquery-3.7.1.min.js&quot;&gt;&lt;/script&gt;\n",
       "    &lt;script src=&quot;https://cdn.jsdelivr.net/npm/bootstrap@5.2.2/dist/js/bootstrap.bundle.min.js&quot;&gt;&lt;/script&gt;\n",
       "    &lt;script src=&quot;https://cdnjs.cloudflare.com/ajax/libs/Leaflet.awesome-markers/2.0.2/leaflet.awesome-markers.js&quot;&gt;&lt;/script&gt;\n",
       "    &lt;link rel=&quot;stylesheet&quot; href=&quot;https://cdn.jsdelivr.net/npm/leaflet@1.9.3/dist/leaflet.css&quot;/&gt;\n",
       "    &lt;link rel=&quot;stylesheet&quot; href=&quot;https://cdn.jsdelivr.net/npm/bootstrap@5.2.2/dist/css/bootstrap.min.css&quot;/&gt;\n",
       "    &lt;link rel=&quot;stylesheet&quot; href=&quot;https://netdna.bootstrapcdn.com/bootstrap/3.0.0/css/bootstrap.min.css&quot;/&gt;\n",
       "    &lt;link rel=&quot;stylesheet&quot; href=&quot;https://cdn.jsdelivr.net/npm/@fortawesome/fontawesome-free@6.2.0/css/all.min.css&quot;/&gt;\n",
       "    &lt;link rel=&quot;stylesheet&quot; href=&quot;https://cdnjs.cloudflare.com/ajax/libs/Leaflet.awesome-markers/2.0.2/leaflet.awesome-markers.css&quot;/&gt;\n",
       "    &lt;link rel=&quot;stylesheet&quot; href=&quot;https://cdn.jsdelivr.net/gh/python-visualization/folium/folium/templates/leaflet.awesome.rotate.min.css&quot;/&gt;\n",
       "    \n",
       "            &lt;meta name=&quot;viewport&quot; content=&quot;width=device-width,\n",
       "                initial-scale=1.0, maximum-scale=1.0, user-scalable=no&quot; /&gt;\n",
       "            &lt;style&gt;\n",
       "                #map_450fc54d1a0e74caaa286ef6a8389c0c {\n",
       "                    position: relative;\n",
       "                    width: 100.0%;\n",
       "                    height: 100.0%;\n",
       "                    left: 0.0%;\n",
       "                    top: 0.0%;\n",
       "                }\n",
       "                .leaflet-container { font-size: 1rem; }\n",
       "            &lt;/style&gt;\n",
       "        \n",
       "&lt;/head&gt;\n",
       "&lt;body&gt;\n",
       "    \n",
       "    \n",
       "            &lt;div class=&quot;folium-map&quot; id=&quot;map_450fc54d1a0e74caaa286ef6a8389c0c&quot; &gt;&lt;/div&gt;\n",
       "        \n",
       "&lt;/body&gt;\n",
       "&lt;script&gt;\n",
       "    \n",
       "    \n",
       "            var map_450fc54d1a0e74caaa286ef6a8389c0c = L.map(\n",
       "                &quot;map_450fc54d1a0e74caaa286ef6a8389c0c&quot;,\n",
       "                {\n",
       "                    center: [-16.9, -53.989],\n",
       "                    crs: L.CRS.EPSG3857,\n",
       "                    zoom: 15,\n",
       "                    zoomControl: true,\n",
       "                    preferCanvas: false,\n",
       "                }\n",
       "            );\n",
       "\n",
       "            \n",
       "\n",
       "        \n",
       "    \n",
       "            var tile_layer_52027c4ee9bf58e8457db9573d60d2a3 = L.tileLayer(\n",
       "                &quot;https://tile.openstreetmap.org/{z}/{x}/{y}.png&quot;,\n",
       "                {&quot;attribution&quot;: &quot;\\u0026copy; \\u003ca href=\\&quot;https://www.openstreetmap.org/copyright\\&quot;\\u003eOpenStreetMap\\u003c/a\\u003e contributors&quot;, &quot;detectRetina&quot;: false, &quot;maxNativeZoom&quot;: 19, &quot;maxZoom&quot;: 19, &quot;minZoom&quot;: 0, &quot;noWrap&quot;: false, &quot;opacity&quot;: 1, &quot;subdomains&quot;: &quot;abc&quot;, &quot;tms&quot;: false}\n",
       "            );\n",
       "        \n",
       "    \n",
       "            tile_layer_52027c4ee9bf58e8457db9573d60d2a3.addTo(map_450fc54d1a0e74caaa286ef6a8389c0c);\n",
       "        \n",
       "    \n",
       "            var tile_layer_e96ec71426a35d23ef887f2f6c4ced9f = L.tileLayer(\n",
       "                &quot;https://server.arcgisonline.com/ArcGIS/rest/services/World_Imagery/MapServer/tile/{z}/{y}/{x}&quot;,\n",
       "                {&quot;attribution&quot;: &quot;Esri&quot;, &quot;detectRetina&quot;: false, &quot;maxNativeZoom&quot;: 18, &quot;maxZoom&quot;: 18, &quot;minZoom&quot;: 0, &quot;noWrap&quot;: false, &quot;opacity&quot;: 1, &quot;subdomains&quot;: &quot;abc&quot;, &quot;tms&quot;: false}\n",
       "            );\n",
       "        \n",
       "    \n",
       "            tile_layer_e96ec71426a35d23ef887f2f6c4ced9f.addTo(map_450fc54d1a0e74caaa286ef6a8389c0c);\n",
       "        \n",
       "    \n",
       "            var circle_2a92f9421aae03e87caa46a967003e02 = L.circle(\n",
       "                [-16.9, -53.989],\n",
       "                {&quot;bubblingMouseEvents&quot;: true, &quot;color&quot;: &quot;orange&quot;, &quot;dashArray&quot;: null, &quot;dashOffset&quot;: null, &quot;fill&quot;: true, &quot;fillColor&quot;: &quot;orange&quot;, &quot;fillOpacity&quot;: 0.2, &quot;fillRule&quot;: &quot;evenodd&quot;, &quot;lineCap&quot;: &quot;round&quot;, &quot;lineJoin&quot;: &quot;round&quot;, &quot;opacity&quot;: 1.0, &quot;radius&quot;: 50, &quot;stroke&quot;: true, &quot;weight&quot;: 3}\n",
       "            ).addTo(map_450fc54d1a0e74caaa286ef6a8389c0c);\n",
       "        \n",
       "    \n",
       "            var circle_d4bc816da729e877555ef5d70a84ccf0 = L.circle(\n",
       "                [-16.9015, -53.989],\n",
       "                {&quot;bubblingMouseEvents&quot;: true, &quot;color&quot;: &quot;orange&quot;, &quot;dashArray&quot;: null, &quot;dashOffset&quot;: null, &quot;fill&quot;: true, &quot;fillColor&quot;: &quot;orange&quot;, &quot;fillOpacity&quot;: 0.2, &quot;fillRule&quot;: &quot;evenodd&quot;, &quot;lineCap&quot;: &quot;round&quot;, &quot;lineJoin&quot;: &quot;round&quot;, &quot;opacity&quot;: 1.0, &quot;radius&quot;: 50, &quot;stroke&quot;: true, &quot;weight&quot;: 3}\n",
       "            ).addTo(map_450fc54d1a0e74caaa286ef6a8389c0c);\n",
       "        \n",
       "    \n",
       "            var circle_b7b4cf19984d8e41a845e116bf49bfd8 = L.circle(\n",
       "                [-16.903, -53.989],\n",
       "                {&quot;bubblingMouseEvents&quot;: true, &quot;color&quot;: &quot;orange&quot;, &quot;dashArray&quot;: null, &quot;dashOffset&quot;: null, &quot;fill&quot;: true, &quot;fillColor&quot;: &quot;orange&quot;, &quot;fillOpacity&quot;: 0.2, &quot;fillRule&quot;: &quot;evenodd&quot;, &quot;lineCap&quot;: &quot;round&quot;, &quot;lineJoin&quot;: &quot;round&quot;, &quot;opacity&quot;: 1.0, &quot;radius&quot;: 50, &quot;stroke&quot;: true, &quot;weight&quot;: 3}\n",
       "            ).addTo(map_450fc54d1a0e74caaa286ef6a8389c0c);\n",
       "        \n",
       "    \n",
       "            var circle_9abd7f536647eb5644cefcd291858945 = L.circle(\n",
       "                [-16.9045, -53.989],\n",
       "                {&quot;bubblingMouseEvents&quot;: true, &quot;color&quot;: &quot;orange&quot;, &quot;dashArray&quot;: null, &quot;dashOffset&quot;: null, &quot;fill&quot;: true, &quot;fillColor&quot;: &quot;orange&quot;, &quot;fillOpacity&quot;: 0.2, &quot;fillRule&quot;: &quot;evenodd&quot;, &quot;lineCap&quot;: &quot;round&quot;, &quot;lineJoin&quot;: &quot;round&quot;, &quot;opacity&quot;: 1.0, &quot;radius&quot;: 50, &quot;stroke&quot;: true, &quot;weight&quot;: 3}\n",
       "            ).addTo(map_450fc54d1a0e74caaa286ef6a8389c0c);\n",
       "        \n",
       "    \n",
       "            var circle_5a0c1cebdf2cb2034c41b839e5e0dbca = L.circle(\n",
       "                [-16.906, -53.989],\n",
       "                {&quot;bubblingMouseEvents&quot;: true, &quot;color&quot;: &quot;orange&quot;, &quot;dashArray&quot;: null, &quot;dashOffset&quot;: null, &quot;fill&quot;: true, &quot;fillColor&quot;: &quot;orange&quot;, &quot;fillOpacity&quot;: 0.2, &quot;fillRule&quot;: &quot;evenodd&quot;, &quot;lineCap&quot;: &quot;round&quot;, &quot;lineJoin&quot;: &quot;round&quot;, &quot;opacity&quot;: 1.0, &quot;radius&quot;: 50, &quot;stroke&quot;: true, &quot;weight&quot;: 3}\n",
       "            ).addTo(map_450fc54d1a0e74caaa286ef6a8389c0c);\n",
       "        \n",
       "    \n",
       "            var circle_7d88c61922d9baf74349b11dc3ce05e8 = L.circle(\n",
       "                [-16.9075, -53.989],\n",
       "                {&quot;bubblingMouseEvents&quot;: true, &quot;color&quot;: &quot;orange&quot;, &quot;dashArray&quot;: null, &quot;dashOffset&quot;: null, &quot;fill&quot;: true, &quot;fillColor&quot;: &quot;orange&quot;, &quot;fillOpacity&quot;: 0.2, &quot;fillRule&quot;: &quot;evenodd&quot;, &quot;lineCap&quot;: &quot;round&quot;, &quot;lineJoin&quot;: &quot;round&quot;, &quot;opacity&quot;: 1.0, &quot;radius&quot;: 50, &quot;stroke&quot;: true, &quot;weight&quot;: 3}\n",
       "            ).addTo(map_450fc54d1a0e74caaa286ef6a8389c0c);\n",
       "        \n",
       "&lt;/script&gt;\n",
       "&lt;/html&gt;\" style=\"position:absolute;width:100%;height:100%;left:0;top:0;border:none !important;\" allowfullscreen webkitallowfullscreen mozallowfullscreen></iframe></div></div>"
      ],
      "text/plain": [
       "<folium.folium.Map at 0x7f2130f145d0>"
      ]
     },
     "execution_count": 113,
     "metadata": {},
     "output_type": "execute_result"
    }
   ],
   "source": [
    "for location in locations:\n",
    "    folium.Circle(\n",
    "        fill=True,  # Preenchimento\n",
    "        color = 'orange',  # Cor\n",
    "        location=location,  # Localização\n",
    "    ).add_to(m)\n",
    "\n",
    "m"
   ]
  },
  {
   "cell_type": "markdown",
   "metadata": {},
   "source": [
    "Now, let's extract the time series from each of these points."
   ]
  },
  {
   "cell_type": "code",
   "execution_count": 114,
   "metadata": {},
   "outputs": [],
   "source": [
    "agriculture_time_series = []\n",
    "\n",
    "for location in locations:\n",
    "    latitude, longitude = location\n",
    "\n",
    "    time_series = s2_coverage.ts(attributes=('NDVI'),\n",
    "                                     latitude=float(latitude), longitude=float(longitude),\n",
    "                                     start_date=\"2017-01-01\", end_date=\"2019-12-31\")\n",
    "\n",
    "    agriculture_time_series.append(time_series.values('NDVI'))"
   ]
  },
  {
   "cell_type": "markdown",
   "metadata": {},
   "source": [
    "As we had 6 points, we must have saved 6 time series. Let's check it out by looking at the number of elements in the `agriculture_time_series` list. This can be done with the `len` function, as shown in the command below:"
   ]
  },
  {
   "cell_type": "code",
   "execution_count": 115,
   "metadata": {},
   "outputs": [
    {
     "data": {
      "text/plain": [
       "6"
      ]
     },
     "execution_count": 115,
     "metadata": {},
     "output_type": "execute_result"
    }
   ],
   "source": [
    "len(agriculture_time_series)"
   ]
  },
  {
   "cell_type": "markdown",
   "metadata": {},
   "source": [
    "Now, using the `median` function from the [NumPy](https://numpy.org/) library, let's calculate the median value for each point in the time series:\n",
    "\n",
    "<div style=\"text-align: center; margin-left: 25%; margin-right: 25%; border-style: solid; border-color: #0077b9; border-width: 1px; padding: 5px;\">\n",
    "    <b>Tip:</b> The operation <em>median</em> will use the parameter <em>axis=0</em> so that the median is calculated considering a set of points in each instant of time, so that the median of each instant of time is the median value of 5 values ​​(One of each point).\n",
    "</div>"
   ]
  },
  {
   "cell_type": "code",
   "execution_count": 116,
   "metadata": {},
   "outputs": [
    {
     "data": {
      "text/plain": [
       "array([ 2902. ,  2823. ,  3195.5,  6988. ,  3622. ,   539. , 10000. ,\n",
       "        9228.5,  8383. ,  8619.5,  6587.5,  4660.5,  3873. ,  3467.5,\n",
       "        2610.5,  2864. ,  3083.5,  3135. ,  2670. ,  3471. ,  5076.5,\n",
       "        8062. ,  2300.5,   -19. ,  8551. ,  5928.5,  1496. ,  6810.5,\n",
       "        7017.5,  9299. ,  9219. ,  9093.5,  8460.5,  6710.5,  5499. ,\n",
       "        3157. ,  2428. ,  2250.5,  2197.5,   628.5,  2222. ,  3729. ,\n",
       "        8698. ,   737. ,  5708.5,  3662. ,  2254. ,  2933.5,  5424. ,\n",
       "        6443. ,  7622.5,  9129. ,  9230.5,  9203. ,  9027. ,  8027. ,\n",
       "        6065. ,  3609. ,  3433. ,  3383.5,  3246. ,  2688.5,  2822. ,\n",
       "        3259. ,  4637. ,  2116.5,  9094. ,  9219.5,  9304. ])"
      ]
     },
     "execution_count": 116,
     "metadata": {},
     "output_type": "execute_result"
    }
   ],
   "source": [
    "median = np.median(agriculture_time_series, axis = 0)\n",
    "median"
   ]
  },
  {
   "cell_type": "markdown",
   "metadata": {},
   "source": [
    "Now, let's visualize each of the original time series and compare them to the median:"
   ]
  },
  {
   "cell_type": "code",
   "execution_count": 117,
   "metadata": {},
   "outputs": [
    {
     "data": {
      "image/png": "[encoded data removed]",
      "text/plain": [
       "<Figure size 768x576 with 1 Axes>"
      ]
     },
     "metadata": {},
     "output_type": "display_data"
    }
   ],
   "source": [
    "plt.figure(dpi = 120)\n",
    "\n",
    "#\n",
    "# Criando plot das séries temporais originais\n",
    "#\n",
    "for i in range(len(agriculture_time_series)):\n",
    "    plt.plot(agriculture_time_series[i], color = 'grey', alpha = .2)\n",
    "\n",
    "plt.plot(median, color='blue', linewidth = 1)\n",
    "\n",
    "plt.grid(True)\n",
    "plt.show()"
   ]
  },
  {
   "cell_type": "markdown",
   "metadata": {},
   "source": [
    "# References\n",
    "<hr style=\"border:1px solid #0077b9;\">\n",
    "\n",
    "- [Python Client Library for Web Time Series Service - User Guide](https://wtss.readthedocs.io/en/latest/index.html)\n",
    "\n",
    "\n",
    "- [Python Client Library for Web Time Series Service - GitHub Repository](https://github.com/brazil-data-cube/wtss.py)\n",
    "\n",
    "\n",
    "- [WTSS OpenAPI 3 Specification](https://github.com/brazil-data-cube/wtss-spec)\n",
    "\n",
    "\n",
    "- VINHAS, L.; QUEIROZ, G. R.; FERREIRA, K. R.; CÂMARA, G. [Web Services for Big Earth Observation Data](http://www.seer.ufu.br/index.php/revistabrasileiracartografia/article/view/44004). Revista Brasileira de Cartografia, v. 69, n. 5, 18 maio 2017.\n",
    "\n",
    "- Simoes, R., Camara, G., Souza, F., Santos, L., Andrade, P. R., Peletier, C., Carvalho, A., Ferreira, K., Queiroz, G., & Maus, V. (2021). sits: Data Analysis and Machine Learning on Earth Observation Data Cubes with Satellite Image Time Series. Online."
   ]
  },
  {
   "cell_type": "markdown",
   "metadata": {
    "editable": true,
    "slideshow": {
     "slide_type": ""
    },
    "tags": []
   },
   "source": [
    "# See also the following Jupyter Notebooks\n",
    "<hr style=\"border:1px solid #0077b9;\">\n",
    "\n",
    "* [Introduction to the Web Time Series Service (WTSS)](./wtss-introduction.ipynb)"
   ]
  }
 ],
 "metadata": {
  "kernelspec": {
   "display_name": "Python (Geospatial)",
   "language": "python",
   "name": "geospatial"
  },
  "language_info": {
   "codemirror_mode": {
    "name": "ipython",
    "version": 3
   },
   "file_extension": ".py",
   "mimetype": "text/x-python",
   "name": "python",
   "nbconvert_exporter": "python",
   "pygments_lexer": "ipython3",
   "version": "3.11.6"
  }
 },
 "nbformat": 4,
 "nbformat_minor": 4
}
