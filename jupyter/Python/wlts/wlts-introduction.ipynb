{
 "cells": [
  {
   "cell_type": "markdown",
   "metadata": {},
   "source": [
    "<img src=\"../../../img/logo-bdc.png\" align=\"right\" width=\"64\"/>\n",
    "\n",
    "# <span style=\"color:#336699\"> Web Land Trajectory Service (WLTS)</span>\n",
    "<hr style=\"border:2px solid #0077b9;\">\n",
    "\n",
    "<div style=text-align: left;>\n",
    "    <a href=\"https://nbviewer.jupyter.org/github/brazil-data-cube/code-gallery/blob/master/jupyter/Python/wlts/wlts-introduction.ipynb\"><img src=\"https://raw.githubusercontent.com/jupyter/design/master/logos/Badges/nbviewer_badge.svg\" align=\"center\"/></a>\n",
    "</div>\n",
    "\n",
    "<br/>\n",
    "\n",
    "<div style=\"text-align: center;font-size: 90%;\">\n",
    "    Fabiana Zioti<sup><a href=\"https://orcid.org/0000-0002-7305-6043\"><i class=\"fab fa-lg fa-orcid\" style=\"color: #a6ce39\"></i></a></sup>, Felipe Menino Carlos<sup><a href=\"https://orcid.org/0000-0002-3334-4315\"><i class=\"fab fa-lg fa-orcid\" style=\"color: #a6ce39\"></i></a></sup>, Gilberto R. Queiroz<sup><a href=\"https://orcid.org/0000-0001-7534-0219\"><i class=\"fab fa-lg fa-orcid\" style=\"color: #a6ce39\"></i></a></sup>\n",
    "    <br/><br/>\n",
    "    Earth Observation and Geoinformatics Division, National Institute for Space Research (INPE)\n",
    "    <br/>\n",
    "    Avenida dos Astronautas, 1758, Jardim da Granja, São José dos Campos, SP 12227-010, Brazil\n",
    "    <br/><br/>\n",
    "    Contact: <a href=\"mailto:brazildatacube@inpe.br\">brazildatacube@inpe.br</a>\n",
    "    <br/><br/>\n",
    "    Last Update: March 24, 2021\n",
    "</div>\n",
    "\n",
    "<br/>\n",
    "\n",
    "<div style=\"text-align: center;  margin-left: 25%; margin-right: 25%;\">\n",
    "<b>Abstract.</b> This Jupyter Notebook gives an overview on how to use the WLTS service to discover and access the land use and cover trajectory from data from well-known projects include PRODES, DETER, TerraClass, MapBiomas and others.\n",
    "</div>    \n",
    "\n",
    "<br/>\n"
   ]
  },
  {
   "cell_type": "markdown",
   "metadata": {},
   "source": [
    "# Introduction\n",
    "<hr style=\"border:1px solid #0077b9;\">"
   ]
  },
  {
   "cell_type": "markdown",
   "metadata": {},
   "source": [
    "**W**eb **L**and **T**rajectory **S**ervice (WLTS) is a service that aims to facilitate the access to various land use and cover data collections through a tailored API. WLTS brings the concept of Land Use and Cover Trajectories as a high level abstraction. Given a location and a time interval you can retrieve the trajectory of the these various data collections.\n",
    "\n",
    "The Figure below presents an example of representation of land use and cover trajectories extracted from classified images ordered temporally:\n",
    "\n",
    "\n",
    "<center>\n",
    "    <img src=\"../../../img/wlts/trajectory_def.png\" width=\"600\" />,\n",
    "    <br/>\n",
    "    <b>Figure 1</b> - Land use and cover Trajectory.\n",
    "</center>\n",
    "\n",
    "WLTS define  ``Collections``, ``Class`` and ``Trajectory`` as:\n",
    "\n",
    "- **Collections**: refers to the data set of a specific source (datasource), whether the set is made up of a vectorial or matrix structure (raster). A Collection has a time interval delimited by time (tmin, tmax). In this way, each Collection has an associated time attribute, which is aligned according to the time granularity of each project that makes the Collection available.\n",
    "\n",
    "- **Class**: It is the label associated with a data, which corresponds to the specific types of land use or cover, defined by the data source classification system. A Collection consists of a set of Class.\n",
    "\n",
    "- **Trajectory**: Given a spatial location (x, y), a trajectory is represented by a set of observations that contains the land use and land cover class, the name of collection and time associated with an x, y location in space.\n",
    "\n",
    "WLTS is based on three operations:\n",
    "\n",
    "- ``list_collections``: returns the list of collections available in the service.\n",
    "\n",
    "- ``describe_collection``: returns the metadata of a given data collection.\n",
    "\n",
    "- ``trajectory``: returns the land use and cover trajectory from the collections given a location in space. The property result contains the feature identifier information, class, time, and the collection associated to the data item.\n",
    "\n",
    "This Jupyter Notebook shows how to use Python Client Library for Web Land Trajectory Service."
   ]
  },
  {
   "cell_type": "markdown",
   "metadata": {},
   "source": [
    "# 1. Python Client API\n",
    "<hr style=\"border:1px solid #0077b9;\">"
   ]
  },
  {
   "cell_type": "markdown",
   "metadata": {},
   "source": [
    "For running the examples in this Jupyter Notebook you will need to install the [WLTS client for Python](https://github.com/brazil-data-cube/wlts.py). In order to access the funcionalities of the client API, you should import the wlts package, as follows:"
   ]
  },
  {
   "cell_type": "code",
   "execution_count": 1,
   "metadata": {},
   "outputs": [],
   "source": [
    "import wlts"
   ]
  },
  {
   "cell_type": "markdown",
   "metadata": {},
   "source": [
    "After that, you can check the installed version of WLTS client package:"
   ]
  },
  {
   "cell_type": "code",
   "execution_count": 2,
   "metadata": {
    "scrolled": true
   },
   "outputs": [
    {
     "data": {
      "text/plain": [
       "'0.4.0-0'"
      ]
     },
     "execution_count": 2,
     "metadata": {},
     "output_type": "execute_result"
    }
   ],
   "source": [
    "wlts.__version__"
   ]
  },
  {
   "cell_type": "markdown",
   "metadata": {},
   "source": [
    "WLTS is a client-server service. On the server-side, the data is stored, which is accessible through each of the API operations, described earlier. On the client-side (what this tutorial covers), you can use the operations and consume the data. In this tutorial, we will use the Python client to access the data. We need to define the URL where the WLTS server is operating. The code below defines the URL of the WLTS server. You should create a wlts object attached to a given service:"
   ]
  },
  {
   "cell_type": "code",
   "execution_count": 3,
   "metadata": {},
   "outputs": [],
   "source": [
    "service = wlts.WLTS('https://brazildatacube.dpi.inpe.br/wlts')"
   ]
  },
  {
   "cell_type": "markdown",
   "metadata": {},
   "source": [
    "The above cell will create an object named service that will allow us to comunicate to the given WLTS service."
   ]
  },
  {
   "cell_type": "markdown",
   "metadata": {},
   "source": [
    "# 2. Listing the Available Collections\n",
    "<hr style=\"border:1px solid #0077b9;\">"
   ]
  },
  {
   "cell_type": "markdown",
   "metadata": {},
   "source": [
    "In WLTS, datasets that aggregate features from different classification systems, which various projects can generate, are represented through collections. Thus, the first operation presented is list_collections. This operation returns the list of all data collections that are available in the WLTS. In the  wlts client for Python, this operation is used via the ``list_collections`` function. The object service allows to list the available collections:"
   ]
  },
  {
   "cell_type": "code",
   "execution_count": 4,
   "metadata": {},
   "outputs": [
    {
     "data": {
      "text/plain": [
       "['terraclass_amazonia',\n",
       " 'deter_amazonia_legal',\n",
       " 'deter_cerrado',\n",
       " 'prodes_cerrado',\n",
       " 'prodes_amazonia_legal',\n",
       " 'lapig_cerrado_pasture',\n",
       " 'ibge_cobertura_uso_terra',\n",
       " 'mapbiomas5_amazonia',\n",
       " 'mapbiomas5_cerrado',\n",
       " 'mapbiomas5_caatinga',\n",
       " 'mapbiomas5_mata_atlantica',\n",
       " 'mapbiomas5_pampa',\n",
       " 'mapbiomas5_pantanal']"
      ]
     },
     "execution_count": 4,
     "metadata": {},
     "output_type": "execute_result"
    }
   ],
   "source": [
    "service.collections"
   ]
  },
  {
   "cell_type": "markdown",
   "metadata": {},
   "source": [
    "The names returned can be used in subsequent operations."
   ]
  },
  {
   "cell_type": "markdown",
   "metadata": {},
   "source": [
    "# 3. Retrieving the Metadata of a collection\n",
    "<hr style=\"border:1px solid #0077b9;\">\n"
   ]
  },
  {
   "cell_type": "markdown",
   "metadata": {},
   "source": [
    "Each collection is associated with a set of metadata that describes it. In WLTS a, there is the ``describe_collection`` operation, which allows the retrieval of this information. It is possible to access the metadata of a specific collection with the `operator[]`:"
   ]
  },
  {
   "cell_type": "markdown",
   "metadata": {},
   "source": [
    "> The example below retrieves the metadata from the collection named prodes_cerrado"
   ]
  },
  {
   "cell_type": "code",
   "execution_count": 5,
   "metadata": {},
   "outputs": [
    {
     "data": {
      "text/plain": [
       "{'classification_system': {'classification_system_id': '17',\n",
       "  'classification_system_name': 'PRODES_Cerrado',\n",
       "  'type': 'Self'},\n",
       " 'collection_type': 'Feature',\n",
       " 'description': 'PRODES Cerrado que consiste no mapeamento do desmatamento para toda extensão do Cerrado',\n",
       " 'detail': 'Assim, o Brasil se viu encorajado a estruturar um sistema oficial de monitoramento sistemático do desmatamento para esta região. Neste contexto, o Instituto Nacional de Pesquisas Espaciais (INPE) está divulgando os resultados do projeto PRODES Cerrado que consiste no mapeamento do desmatamento para toda extensão do Cerrado de 2000 a 2018. Por meio do projeto foi construída uma séria histórica bienal da remoção antrópica da vegetação natural para o período de 2000 a 2012 e anual para os anos de 2013 a 2018. Mais informações: http://cerrado.obt.inpe.br/',\n",
       " 'name': 'prodes_cerrado',\n",
       " 'period': {'end_date': '2019', 'start_date': '2000'},\n",
       " 'resolution_unit': {'unit': 'YEAR', 'value': '1'},\n",
       " 'spatial_extent': {'xmax': -24.6851196289062,\n",
       "  'xmin': -60.0939559936523,\n",
       "  'ymax': -2.32670903205872,\n",
       "  'ymin': -41.5224685668945}}"
      ]
     },
     "execution_count": 5,
     "metadata": {},
     "output_type": "execute_result"
    }
   ],
   "source": [
    "service['prodes_cerrado']"
   ]
  },
  {
   "cell_type": "markdown",
   "metadata": {},
   "source": [
    "# 4. Retrieving the Trajectory\n",
    "<hr style=\"border:1px solid #0077b9;\">"
   ]
  },
  {
   "cell_type": "markdown",
   "metadata": {},
   "source": [
    "In WLTS, since a collection is associated with a dataset with time variation, it is possible to retrieve the land use and land cover trajectory of a given point. The figure below illustrates this process."
   ]
  },
  {
   "cell_type": "markdown",
   "metadata": {},
   "source": [
    "<center>\n",
    "    <img src=\"../../../img/wlts/traj1.png\" width=\"750\" />,\n",
    "    <br/>\n",
    "    <b>Figure 2</b> - WLTS trajectory extraction.\n",
    "</center>"
   ]
  },
  {
   "cell_type": "markdown",
   "metadata": {},
   "source": [
    "In order to retrieve the trajectory in the location of `latitude -12.0` and `longitude -54.0` use the `tj` method:"
   ]
  },
  {
   "cell_type": "code",
   "execution_count": 6,
   "metadata": {},
   "outputs": [],
   "source": [
    "tj = service.tj(latitude=-12.0, longitude=-54.0, collections='mapbiomas5_amazonia')"
   ]
  },
  {
   "cell_type": "markdown",
   "metadata": {},
   "source": [
    "> The CRS of the requests is EPSG:4326"
   ]
  },
  {
   "cell_type": "markdown",
   "metadata": {},
   "source": [
    "WLTS allows more than one collection to be accessed at the same time for the same point. By doing this, a trajectory for each project will be extracted. This way of operation is illustrated by the figure below."
   ]
  },
  {
   "cell_type": "markdown",
   "metadata": {},
   "source": [
    "<center>\n",
    "    <img src=\"../../../img/wlts/traj2.png\" width=\"750\" />,\n",
    "    <br/>\n",
    "    <b>Figure 3</b> - WLTS trajectory extraction using multiple collections.\n",
    "</center>"
   ]
  },
  {
   "cell_type": "markdown",
   "metadata": {},
   "source": [
    "The names are entered in the collections parameter and must be separated by a comma. As an example, the code below retrieves the trajectories considering the collections ``mapbiomas5_amazonia`` and ``terraclass_amazonia.``"
   ]
  },
  {
   "cell_type": "code",
   "execution_count": 12,
   "metadata": {},
   "outputs": [],
   "source": [
    "tj_multiples = service.tj(latitude=-12.0, longitude=-54.0, collections='mapbiomas5_amazonia,terraclass_amazonia')"
   ]
  },
  {
   "cell_type": "markdown",
   "metadata": {},
   "source": [
    "# 5. Visualizing the Trajectory with Pandas\n",
    "<hr style=\"border:1px solid #0077b9;\">"
   ]
  },
  {
   "cell_type": "markdown",
   "metadata": {},
   "source": [
    "If you have Pandas installed, it is possible to plot the trajectory with the `df` method:"
   ]
  },
  {
   "cell_type": "code",
   "execution_count": 7,
   "metadata": {},
   "outputs": [],
   "source": [
    "import pandas as pd"
   ]
  },
  {
   "cell_type": "code",
   "execution_count": 8,
   "metadata": {},
   "outputs": [
    {
     "data": {
      "text/html": [
       "<div>\n",
       "<style scoped>\n",
       "    .dataframe tbody tr th:only-of-type {\n",
       "        vertical-align: middle;\n",
       "    }\n",
       "\n",
       "    .dataframe tbody tr th {\n",
       "        vertical-align: top;\n",
       "    }\n",
       "\n",
       "    .dataframe thead th {\n",
       "        text-align: right;\n",
       "    }\n",
       "</style>\n",
       "<table border=\"1\" class=\"dataframe\">\n",
       "  <thead>\n",
       "    <tr style=\"text-align: right;\">\n",
       "      <th></th>\n",
       "      <th>class</th>\n",
       "      <th>collection</th>\n",
       "      <th>date</th>\n",
       "    </tr>\n",
       "  </thead>\n",
       "  <tbody>\n",
       "    <tr>\n",
       "      <th>0</th>\n",
       "      <td>Formação Florestal</td>\n",
       "      <td>mapbiomas5_amazonia</td>\n",
       "      <td>2000</td>\n",
       "    </tr>\n",
       "    <tr>\n",
       "      <th>1</th>\n",
       "      <td>Formação Florestal</td>\n",
       "      <td>mapbiomas5_amazonia</td>\n",
       "      <td>2001</td>\n",
       "    </tr>\n",
       "    <tr>\n",
       "      <th>2</th>\n",
       "      <td>Formação Florestal</td>\n",
       "      <td>mapbiomas5_amazonia</td>\n",
       "      <td>2002</td>\n",
       "    </tr>\n",
       "    <tr>\n",
       "      <th>3</th>\n",
       "      <td>Formação Florestal</td>\n",
       "      <td>mapbiomas5_amazonia</td>\n",
       "      <td>2003</td>\n",
       "    </tr>\n",
       "    <tr>\n",
       "      <th>4</th>\n",
       "      <td>Formação Florestal</td>\n",
       "      <td>mapbiomas5_amazonia</td>\n",
       "      <td>2004</td>\n",
       "    </tr>\n",
       "    <tr>\n",
       "      <th>5</th>\n",
       "      <td>Formação Florestal</td>\n",
       "      <td>mapbiomas5_amazonia</td>\n",
       "      <td>2005</td>\n",
       "    </tr>\n",
       "    <tr>\n",
       "      <th>6</th>\n",
       "      <td>Formação Florestal</td>\n",
       "      <td>mapbiomas5_amazonia</td>\n",
       "      <td>2006</td>\n",
       "    </tr>\n",
       "    <tr>\n",
       "      <th>7</th>\n",
       "      <td>Formação Florestal</td>\n",
       "      <td>mapbiomas5_amazonia</td>\n",
       "      <td>2007</td>\n",
       "    </tr>\n",
       "    <tr>\n",
       "      <th>8</th>\n",
       "      <td>Formação Florestal</td>\n",
       "      <td>mapbiomas5_amazonia</td>\n",
       "      <td>2008</td>\n",
       "    </tr>\n",
       "    <tr>\n",
       "      <th>9</th>\n",
       "      <td>Formação Florestal</td>\n",
       "      <td>mapbiomas5_amazonia</td>\n",
       "      <td>2009</td>\n",
       "    </tr>\n",
       "    <tr>\n",
       "      <th>10</th>\n",
       "      <td>Formação Florestal</td>\n",
       "      <td>mapbiomas5_amazonia</td>\n",
       "      <td>2010</td>\n",
       "    </tr>\n",
       "    <tr>\n",
       "      <th>11</th>\n",
       "      <td>Formação Florestal</td>\n",
       "      <td>mapbiomas5_amazonia</td>\n",
       "      <td>2011</td>\n",
       "    </tr>\n",
       "    <tr>\n",
       "      <th>12</th>\n",
       "      <td>Formação Florestal</td>\n",
       "      <td>mapbiomas5_amazonia</td>\n",
       "      <td>2012</td>\n",
       "    </tr>\n",
       "    <tr>\n",
       "      <th>13</th>\n",
       "      <td>Formação Florestal</td>\n",
       "      <td>mapbiomas5_amazonia</td>\n",
       "      <td>2013</td>\n",
       "    </tr>\n",
       "    <tr>\n",
       "      <th>14</th>\n",
       "      <td>Formação Florestal</td>\n",
       "      <td>mapbiomas5_amazonia</td>\n",
       "      <td>2014</td>\n",
       "    </tr>\n",
       "    <tr>\n",
       "      <th>15</th>\n",
       "      <td>Formação Florestal</td>\n",
       "      <td>mapbiomas5_amazonia</td>\n",
       "      <td>2015</td>\n",
       "    </tr>\n",
       "    <tr>\n",
       "      <th>16</th>\n",
       "      <td>Formação Florestal</td>\n",
       "      <td>mapbiomas5_amazonia</td>\n",
       "      <td>2016</td>\n",
       "    </tr>\n",
       "    <tr>\n",
       "      <th>17</th>\n",
       "      <td>Formação Florestal</td>\n",
       "      <td>mapbiomas5_amazonia</td>\n",
       "      <td>2017</td>\n",
       "    </tr>\n",
       "    <tr>\n",
       "      <th>18</th>\n",
       "      <td>Formação Florestal</td>\n",
       "      <td>mapbiomas5_amazonia</td>\n",
       "      <td>2018</td>\n",
       "    </tr>\n",
       "    <tr>\n",
       "      <th>19</th>\n",
       "      <td>Formação Florestal</td>\n",
       "      <td>mapbiomas5_amazonia</td>\n",
       "      <td>2019</td>\n",
       "    </tr>\n",
       "  </tbody>\n",
       "</table>\n",
       "</div>"
      ],
      "text/plain": [
       "                 class           collection  date\n",
       "0   Formação Florestal  mapbiomas5_amazonia  2000\n",
       "1   Formação Florestal  mapbiomas5_amazonia  2001\n",
       "2   Formação Florestal  mapbiomas5_amazonia  2002\n",
       "3   Formação Florestal  mapbiomas5_amazonia  2003\n",
       "4   Formação Florestal  mapbiomas5_amazonia  2004\n",
       "5   Formação Florestal  mapbiomas5_amazonia  2005\n",
       "6   Formação Florestal  mapbiomas5_amazonia  2006\n",
       "7   Formação Florestal  mapbiomas5_amazonia  2007\n",
       "8   Formação Florestal  mapbiomas5_amazonia  2008\n",
       "9   Formação Florestal  mapbiomas5_amazonia  2009\n",
       "10  Formação Florestal  mapbiomas5_amazonia  2010\n",
       "11  Formação Florestal  mapbiomas5_amazonia  2011\n",
       "12  Formação Florestal  mapbiomas5_amazonia  2012\n",
       "13  Formação Florestal  mapbiomas5_amazonia  2013\n",
       "14  Formação Florestal  mapbiomas5_amazonia  2014\n",
       "15  Formação Florestal  mapbiomas5_amazonia  2015\n",
       "16  Formação Florestal  mapbiomas5_amazonia  2016\n",
       "17  Formação Florestal  mapbiomas5_amazonia  2017\n",
       "18  Formação Florestal  mapbiomas5_amazonia  2018\n",
       "19  Formação Florestal  mapbiomas5_amazonia  2019"
      ]
     },
     "execution_count": 8,
     "metadata": {},
     "output_type": "execute_result"
    }
   ],
   "source": [
    "tj.df()"
   ]
  },
  {
   "cell_type": "code",
   "execution_count": 9,
   "metadata": {},
   "outputs": [
    {
     "data": {
      "text/html": [
       "<div>\n",
       "<style scoped>\n",
       "    .dataframe tbody tr th:only-of-type {\n",
       "        vertical-align: middle;\n",
       "    }\n",
       "\n",
       "    .dataframe tbody tr th {\n",
       "        vertical-align: top;\n",
       "    }\n",
       "\n",
       "    .dataframe thead th {\n",
       "        text-align: right;\n",
       "    }\n",
       "</style>\n",
       "<table border=\"1\" class=\"dataframe\">\n",
       "  <thead>\n",
       "    <tr style=\"text-align: right;\">\n",
       "      <th></th>\n",
       "      <th>class</th>\n",
       "      <th>collection</th>\n",
       "      <th>date</th>\n",
       "    </tr>\n",
       "  </thead>\n",
       "  <tbody>\n",
       "    <tr>\n",
       "      <th>0</th>\n",
       "      <td>Rio, Lago e Oceano</td>\n",
       "      <td>mapbiomas5_amazonia</td>\n",
       "      <td>2000</td>\n",
       "    </tr>\n",
       "    <tr>\n",
       "      <th>1</th>\n",
       "      <td>Rio, Lago e Oceano</td>\n",
       "      <td>mapbiomas5_amazonia</td>\n",
       "      <td>2001</td>\n",
       "    </tr>\n",
       "    <tr>\n",
       "      <th>2</th>\n",
       "      <td>Rio, Lago e Oceano</td>\n",
       "      <td>mapbiomas5_amazonia</td>\n",
       "      <td>2002</td>\n",
       "    </tr>\n",
       "    <tr>\n",
       "      <th>3</th>\n",
       "      <td>Rio, Lago e Oceano</td>\n",
       "      <td>mapbiomas5_amazonia</td>\n",
       "      <td>2003</td>\n",
       "    </tr>\n",
       "    <tr>\n",
       "      <th>4</th>\n",
       "      <td>Rio, Lago e Oceano</td>\n",
       "      <td>mapbiomas5_amazonia</td>\n",
       "      <td>2004</td>\n",
       "    </tr>\n",
       "    <tr>\n",
       "      <th>5</th>\n",
       "      <td>Rio, Lago e Oceano</td>\n",
       "      <td>mapbiomas5_amazonia</td>\n",
       "      <td>2005</td>\n",
       "    </tr>\n",
       "    <tr>\n",
       "      <th>6</th>\n",
       "      <td>Rio, Lago e Oceano</td>\n",
       "      <td>mapbiomas5_amazonia</td>\n",
       "      <td>2006</td>\n",
       "    </tr>\n",
       "    <tr>\n",
       "      <th>7</th>\n",
       "      <td>Rio, Lago e Oceano</td>\n",
       "      <td>mapbiomas5_amazonia</td>\n",
       "      <td>2007</td>\n",
       "    </tr>\n",
       "    <tr>\n",
       "      <th>8</th>\n",
       "      <td>Rio, Lago e Oceano</td>\n",
       "      <td>mapbiomas5_amazonia</td>\n",
       "      <td>2008</td>\n",
       "    </tr>\n",
       "    <tr>\n",
       "      <th>9</th>\n",
       "      <td>Rio, Lago e Oceano</td>\n",
       "      <td>mapbiomas5_amazonia</td>\n",
       "      <td>2009</td>\n",
       "    </tr>\n",
       "    <tr>\n",
       "      <th>10</th>\n",
       "      <td>Rio, Lago e Oceano</td>\n",
       "      <td>mapbiomas5_amazonia</td>\n",
       "      <td>2010</td>\n",
       "    </tr>\n",
       "    <tr>\n",
       "      <th>11</th>\n",
       "      <td>Rio, Lago e Oceano</td>\n",
       "      <td>mapbiomas5_amazonia</td>\n",
       "      <td>2011</td>\n",
       "    </tr>\n",
       "    <tr>\n",
       "      <th>12</th>\n",
       "      <td>Rio, Lago e Oceano</td>\n",
       "      <td>mapbiomas5_amazonia</td>\n",
       "      <td>2012</td>\n",
       "    </tr>\n",
       "    <tr>\n",
       "      <th>13</th>\n",
       "      <td>Rio, Lago e Oceano</td>\n",
       "      <td>mapbiomas5_amazonia</td>\n",
       "      <td>2013</td>\n",
       "    </tr>\n",
       "    <tr>\n",
       "      <th>14</th>\n",
       "      <td>Rio, Lago e Oceano</td>\n",
       "      <td>mapbiomas5_amazonia</td>\n",
       "      <td>2014</td>\n",
       "    </tr>\n",
       "    <tr>\n",
       "      <th>15</th>\n",
       "      <td>Rio, Lago e Oceano</td>\n",
       "      <td>mapbiomas5_amazonia</td>\n",
       "      <td>2015</td>\n",
       "    </tr>\n",
       "    <tr>\n",
       "      <th>16</th>\n",
       "      <td>Rio, Lago e Oceano</td>\n",
       "      <td>mapbiomas5_amazonia</td>\n",
       "      <td>2016</td>\n",
       "    </tr>\n",
       "    <tr>\n",
       "      <th>17</th>\n",
       "      <td>Rio, Lago e Oceano</td>\n",
       "      <td>mapbiomas5_amazonia</td>\n",
       "      <td>2017</td>\n",
       "    </tr>\n",
       "    <tr>\n",
       "      <th>18</th>\n",
       "      <td>Rio, Lago e Oceano</td>\n",
       "      <td>mapbiomas5_amazonia</td>\n",
       "      <td>2018</td>\n",
       "    </tr>\n",
       "    <tr>\n",
       "      <th>19</th>\n",
       "      <td>Rio, Lago e Oceano</td>\n",
       "      <td>mapbiomas5_amazonia</td>\n",
       "      <td>2019</td>\n",
       "    </tr>\n",
       "  </tbody>\n",
       "</table>\n",
       "</div>"
      ],
      "text/plain": [
       "                 class           collection  date\n",
       "0   Rio, Lago e Oceano  mapbiomas5_amazonia  2000\n",
       "1   Rio, Lago e Oceano  mapbiomas5_amazonia  2001\n",
       "2   Rio, Lago e Oceano  mapbiomas5_amazonia  2002\n",
       "3   Rio, Lago e Oceano  mapbiomas5_amazonia  2003\n",
       "4   Rio, Lago e Oceano  mapbiomas5_amazonia  2004\n",
       "5   Rio, Lago e Oceano  mapbiomas5_amazonia  2005\n",
       "6   Rio, Lago e Oceano  mapbiomas5_amazonia  2006\n",
       "7   Rio, Lago e Oceano  mapbiomas5_amazonia  2007\n",
       "8   Rio, Lago e Oceano  mapbiomas5_amazonia  2008\n",
       "9   Rio, Lago e Oceano  mapbiomas5_amazonia  2009\n",
       "10  Rio, Lago e Oceano  mapbiomas5_amazonia  2010\n",
       "11  Rio, Lago e Oceano  mapbiomas5_amazonia  2011\n",
       "12  Rio, Lago e Oceano  mapbiomas5_amazonia  2012\n",
       "13  Rio, Lago e Oceano  mapbiomas5_amazonia  2013\n",
       "14  Rio, Lago e Oceano  mapbiomas5_amazonia  2014\n",
       "15  Rio, Lago e Oceano  mapbiomas5_amazonia  2015\n",
       "16  Rio, Lago e Oceano  mapbiomas5_amazonia  2016\n",
       "17  Rio, Lago e Oceano  mapbiomas5_amazonia  2017\n",
       "18  Rio, Lago e Oceano  mapbiomas5_amazonia  2018\n",
       "19  Rio, Lago e Oceano  mapbiomas5_amazonia  2019"
      ]
     },
     "execution_count": 9,
     "metadata": {},
     "output_type": "execute_result"
    }
   ],
   "source": [
    "trajectory_two = service.tj(latitude=-4.090, longitude=-63.353, collections='mapbiomas5_amazonia')\n",
    "\n",
    "trajectory_two.df()"
   ]
  },
  {
   "cell_type": "code",
   "execution_count": 10,
   "metadata": {},
   "outputs": [
    {
     "data": {
      "text/html": [
       "<div>\n",
       "<style scoped>\n",
       "    .dataframe tbody tr th:only-of-type {\n",
       "        vertical-align: middle;\n",
       "    }\n",
       "\n",
       "    .dataframe tbody tr th {\n",
       "        vertical-align: top;\n",
       "    }\n",
       "\n",
       "    .dataframe thead th {\n",
       "        text-align: right;\n",
       "    }\n",
       "</style>\n",
       "<table border=\"1\" class=\"dataframe\">\n",
       "  <thead>\n",
       "    <tr style=\"text-align: right;\">\n",
       "      <th></th>\n",
       "      <th>class</th>\n",
       "      <th>collection</th>\n",
       "      <th>date</th>\n",
       "    </tr>\n",
       "  </thead>\n",
       "  <tbody>\n",
       "    <tr>\n",
       "      <th>0</th>\n",
       "      <td>Pastagem</td>\n",
       "      <td>mapbiomas5_amazonia</td>\n",
       "      <td>2000</td>\n",
       "    </tr>\n",
       "    <tr>\n",
       "      <th>1</th>\n",
       "      <td>Pastagem</td>\n",
       "      <td>mapbiomas5_amazonia</td>\n",
       "      <td>2001</td>\n",
       "    </tr>\n",
       "    <tr>\n",
       "      <th>2</th>\n",
       "      <td>Pastagem</td>\n",
       "      <td>mapbiomas5_amazonia</td>\n",
       "      <td>2002</td>\n",
       "    </tr>\n",
       "    <tr>\n",
       "      <th>3</th>\n",
       "      <td>Pastagem</td>\n",
       "      <td>mapbiomas5_amazonia</td>\n",
       "      <td>2003</td>\n",
       "    </tr>\n",
       "    <tr>\n",
       "      <th>4</th>\n",
       "      <td>Pastagem</td>\n",
       "      <td>mapbiomas5_amazonia</td>\n",
       "      <td>2004</td>\n",
       "    </tr>\n",
       "    <tr>\n",
       "      <th>5</th>\n",
       "      <td>Pastagem</td>\n",
       "      <td>mapbiomas5_amazonia</td>\n",
       "      <td>2005</td>\n",
       "    </tr>\n",
       "    <tr>\n",
       "      <th>6</th>\n",
       "      <td>Pastagem</td>\n",
       "      <td>mapbiomas5_amazonia</td>\n",
       "      <td>2006</td>\n",
       "    </tr>\n",
       "    <tr>\n",
       "      <th>7</th>\n",
       "      <td>Pastagem</td>\n",
       "      <td>mapbiomas5_amazonia</td>\n",
       "      <td>2007</td>\n",
       "    </tr>\n",
       "    <tr>\n",
       "      <th>8</th>\n",
       "      <td>Pastagem</td>\n",
       "      <td>mapbiomas5_amazonia</td>\n",
       "      <td>2008</td>\n",
       "    </tr>\n",
       "    <tr>\n",
       "      <th>9</th>\n",
       "      <td>Pastagem</td>\n",
       "      <td>mapbiomas5_amazonia</td>\n",
       "      <td>2009</td>\n",
       "    </tr>\n",
       "    <tr>\n",
       "      <th>10</th>\n",
       "      <td>Pastagem</td>\n",
       "      <td>mapbiomas5_amazonia</td>\n",
       "      <td>2010</td>\n",
       "    </tr>\n",
       "    <tr>\n",
       "      <th>11</th>\n",
       "      <td>Pastagem</td>\n",
       "      <td>mapbiomas5_amazonia</td>\n",
       "      <td>2011</td>\n",
       "    </tr>\n",
       "    <tr>\n",
       "      <th>12</th>\n",
       "      <td>Pastagem</td>\n",
       "      <td>mapbiomas5_amazonia</td>\n",
       "      <td>2012</td>\n",
       "    </tr>\n",
       "    <tr>\n",
       "      <th>13</th>\n",
       "      <td>Pastagem</td>\n",
       "      <td>mapbiomas5_amazonia</td>\n",
       "      <td>2013</td>\n",
       "    </tr>\n",
       "    <tr>\n",
       "      <th>14</th>\n",
       "      <td>Pastagem</td>\n",
       "      <td>mapbiomas5_amazonia</td>\n",
       "      <td>2014</td>\n",
       "    </tr>\n",
       "    <tr>\n",
       "      <th>15</th>\n",
       "      <td>Pastagem</td>\n",
       "      <td>mapbiomas5_amazonia</td>\n",
       "      <td>2015</td>\n",
       "    </tr>\n",
       "    <tr>\n",
       "      <th>16</th>\n",
       "      <td>Outras Lavouras Temporárias</td>\n",
       "      <td>mapbiomas5_amazonia</td>\n",
       "      <td>2016</td>\n",
       "    </tr>\n",
       "    <tr>\n",
       "      <th>17</th>\n",
       "      <td>Soja</td>\n",
       "      <td>mapbiomas5_amazonia</td>\n",
       "      <td>2017</td>\n",
       "    </tr>\n",
       "    <tr>\n",
       "      <th>18</th>\n",
       "      <td>Soja</td>\n",
       "      <td>mapbiomas5_amazonia</td>\n",
       "      <td>2018</td>\n",
       "    </tr>\n",
       "    <tr>\n",
       "      <th>19</th>\n",
       "      <td>Soja</td>\n",
       "      <td>mapbiomas5_amazonia</td>\n",
       "      <td>2019</td>\n",
       "    </tr>\n",
       "  </tbody>\n",
       "</table>\n",
       "</div>"
      ],
      "text/plain": [
       "                          class           collection  date\n",
       "0                      Pastagem  mapbiomas5_amazonia  2000\n",
       "1                      Pastagem  mapbiomas5_amazonia  2001\n",
       "2                      Pastagem  mapbiomas5_amazonia  2002\n",
       "3                      Pastagem  mapbiomas5_amazonia  2003\n",
       "4                      Pastagem  mapbiomas5_amazonia  2004\n",
       "5                      Pastagem  mapbiomas5_amazonia  2005\n",
       "6                      Pastagem  mapbiomas5_amazonia  2006\n",
       "7                      Pastagem  mapbiomas5_amazonia  2007\n",
       "8                      Pastagem  mapbiomas5_amazonia  2008\n",
       "9                      Pastagem  mapbiomas5_amazonia  2009\n",
       "10                     Pastagem  mapbiomas5_amazonia  2010\n",
       "11                     Pastagem  mapbiomas5_amazonia  2011\n",
       "12                     Pastagem  mapbiomas5_amazonia  2012\n",
       "13                     Pastagem  mapbiomas5_amazonia  2013\n",
       "14                     Pastagem  mapbiomas5_amazonia  2014\n",
       "15                     Pastagem  mapbiomas5_amazonia  2015\n",
       "16  Outras Lavouras Temporárias  mapbiomas5_amazonia  2016\n",
       "17                         Soja  mapbiomas5_amazonia  2017\n",
       "18                         Soja  mapbiomas5_amazonia  2018\n",
       "19                         Soja  mapbiomas5_amazonia  2019"
      ]
     },
     "execution_count": 10,
     "metadata": {},
     "output_type": "execute_result"
    }
   ],
   "source": [
    "trajectory_three = service.tj(latitude=-10.710, longitude=-55.612, collections='mapbiomas5_amazonia')\n",
    "\n",
    "trajectory_three.df()"
   ]
  },
  {
   "cell_type": "markdown",
   "metadata": {},
   "source": [
    "# 6. References\n",
    "<hr style=\"border:1px solid #0077b9;\">"
   ]
  },
  {
   "cell_type": "markdown",
   "metadata": {},
   "source": [
    "- [Python Client Library for Web Land Trajectory Service - User Guide](https://wtss.readthedocs.io/en/latest/index.html)\n",
    "\n",
    "\n",
    "- [Python Client Library for Web Land Trajectory Service - GitHub Repository](https://github.com/brazil-data-cube/wlts.py)\n",
    "\n",
    "\n",
    "- [WLTS OpenAPI 3 Specification](https://github.com/brazil-data-cube/wlts-spec)\n",
    "\n",
    "\n",
    "- [WLTS Server](https://github.com/brazil-data-cube/wlts)"
   ]
  }
 ],
 "metadata": {
  "celltoolbar": "Raw Cell Format",
  "kernelspec": {
   "display_name": "Python 3",
   "language": "python",
   "name": "python3"
  },
  "language_info": {
   "codemirror_mode": {
    "name": "ipython",
    "version": 3
   },
   "file_extension": ".py",
   "mimetype": "text/x-python",
   "name": "python",
   "nbconvert_exporter": "python",
   "pygments_lexer": "ipython3",
   "version": "3.7.10"
  }
 },
 "nbformat": 4,
 "nbformat_minor": 4
}
