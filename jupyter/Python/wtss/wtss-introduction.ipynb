{
 "cells": [
  {
   "cell_type": "markdown",
   "metadata": {},
   "source": [
    "<img src=\"../../../img/logo-bdc.png\" align=\"right\" width=\"64\"/>\n",
    "\n",
    "# <span style=\"color:#336699\"> Web Time Series Service (WTSS)</span>\n",
    "<hr style=\"border:2px solid #0077b9;\">\n",
    "\n",
    "<div style=\"text-align: left;\">\n",
    "    <a href=\"https://nbviewer.jupyter.org/github/brazil-data-cube/code-gallery/blob/master/jupyter/Python/wtss/wtss-introduction.ipynb\"><img src=\"https://raw.githubusercontent.com/jupyter/design/master/logos/Badges/nbviewer_badge.svg\" align=\"center\"/></a>\n",
    "</div>\n",
    "\n",
    "<br/>\n",
    "\n",
    "<div style=\"text-align: center;font-size: 90%;\">\n",
    "    Gilberto R. Queiroz<sup>* <a href=\"https://orcid.org/0000-0001-7534-0219\"><i class=\"fab fa-lg fa-orcid\" style=\"color: #a6ce39\"></i></a></sup>, Karine R. Ferreira <sup><a href=\"https://orcid.org/0000-0003-2656-5504\"><i class=\"fab fa-lg fa-orcid\" style=\"color: #a6ce39\"></i></a></sup>, Lubia Vinhas <sup> <a href=\"https://orcid.org/0000-0003-1104-3607\"><i class=\"fab fa-lg fa-orcid\" style=\"color: #a6ce39\"></i></a></sup>,<br/>\n",
    "    Raphael Costa, Matheus Zaglia, Abner dos Anjos\n",
    "    <br/><br/>\n",
    "    Earth Observation and Geoinformatics Division, National Institute for Space Research (INPE)\n",
    "    <br/>\n",
    "    Avenida dos Astronautas, 1758, Jardim da Granja, São José dos Campos, SP 12227-010, Brazil\n",
    "    <br/><br/>\n",
    "    <sup>*</sup> Author to whom correspondence should be addressed.\n",
    "    <br/><br/>\n",
    "    Last Update: February 24, 2021\n",
    "</div>\n",
    "\n",
    "<br/>\n",
    "\n",
    "<div style=\"text-align: center;  margin-left: 25%; margin-right: 25%;\">\n",
    "<b>Abstract.</b> This Jupyter Notebook gives an overview on how to use the WTSS service to extract time series from <em>Earth Observation Data Cubes</em>.\n",
    "</div>    \n",
    "\n",
    "<br/>\n",
    "<div style=\"text-align: justify;  margin-left: 25%; margin-right: 25%;font-size: 75%; border-style: solid; border-color: #0077b9; border-width: 1px; padding: 5px;\">\n",
    "    <b>This Jupyter Notebook is a supplement to the following paper:</b>\n",
    "    <div style=\"margin-left: 10px; margin-right: 10px\">\n",
    "    Vinhas, L.; Queiroz, G. R.; Ferreira, K. R.; Camara, G. <a href=\"http://www.seer.ufu.br/index.php/revistabrasileiracartografia/article/view/44004\" target=\"_blank\">Web Services for Big Earth Observation Data</a>. Revista Brasileira de Cartografia, v. 69, n. 5, 18 maio 2017.\n",
    "    </div>\n",
    "</div>"
   ]
  },
  {
   "cell_type": "markdown",
   "metadata": {},
   "source": [
    "# Introduction\n",
    "<hr style=\"border:1px solid #0077b9;\">"
   ]
  },
  {
   "cell_type": "markdown",
   "metadata": {},
   "source": [
    "The **W**eb **T**ime **S**eries **S**ervice (WTSS) is a lightweight web service for handling time series data from remote sensing imagery. Given a location and a time interval you can retrieve the according time series as a list of real values.\n",
    "\n",
    "\n",
    "In WTSS a coverage is a three dimensional array associated to spatial and temporal reference systems (Figure 1)."
   ]
  },
  {
   "cell_type": "markdown",
   "metadata": {},
   "source": [
    "<img src=\"../../../img/image-time-series.png\" width=\"240\" />\n",
    "<br/>\n",
    "<b>Figura 1</b> - A coverage as a three dimensional array."
   ]
  },
  {
   "cell_type": "markdown",
   "metadata": {},
   "source": [
    "WTSS is based on three operations:\n",
    "\n",
    "- ``list_coverages``: returns the list of all available coverages in the service.\n",
    "\n",
    "- ``describe_coverage``: returns the metadata of a given coverage.\n",
    "\n",
    "- ``time_series``: query the database for the list of values for a given location and time interval.\n",
    "\n",
    "This Jupyter Notebook shows how to use WTSS in Python with Brazil Data Cube data."
   ]
  },
  {
   "cell_type": "markdown",
   "metadata": {},
   "source": [
    "# Python Client API\n",
    "<hr style=\"border:1px solid #0077b9;\">"
   ]
  },
  {
   "cell_type": "markdown",
   "metadata": {},
   "source": [
    "For running the examples in this Jupyter Notebook you will need to install the [WTSS client for Python](https://github.com/brazil-data-cube/wtss.py). To install it from PyPI using pip, use the following command:"
   ]
  },
  {
   "cell_type": "code",
   "execution_count": null,
   "metadata": {},
   "outputs": [],
   "source": [
    "!pip install wtss[matplotlib]"
   ]
  },
  {
   "cell_type": "markdown",
   "metadata": {},
   "source": [
    "In order to access the funcionalities of the client API, you should import the wtss package, as follows:"
   ]
  },
  {
   "cell_type": "code",
   "execution_count": 1,
   "metadata": {},
   "outputs": [],
   "source": [
    "from wtss import *"
   ]
  },
  {
   "cell_type": "markdown",
   "metadata": {},
   "source": [
    "After that, you should create a wtss object attached to a given service:"
   ]
  },
  {
   "cell_type": "code",
   "execution_count": 2,
   "metadata": {},
   "outputs": [],
   "source": [
    "service = WTSS('https://brazildatacube.dpi.inpe.br/esensing/')"
   ]
  },
  {
   "cell_type": "markdown",
   "metadata": {},
   "source": [
    "The above cell will create an object named `service` that will allow us to comunicate to the given WTSS service."
   ]
  },
  {
   "cell_type": "markdown",
   "metadata": {},
   "source": [
    "# Listing the Available Data Products\n",
    "<hr style=\"border:1px solid #0077b9;\">"
   ]
  },
  {
   "cell_type": "markdown",
   "metadata": {},
   "source": [
    "The object `service` allows to list the available coverages:"
   ]
  },
  {
   "cell_type": "code",
   "execution_count": 3,
   "metadata": {},
   "outputs": [
    {
     "data": {
      "text/plain": [
       "['MOD13Q1', 'MOD13Q1_M']"
      ]
     },
     "execution_count": 3,
     "metadata": {},
     "output_type": "execute_result"
    }
   ],
   "source": [
    "service.coverages"
   ]
  },
  {
   "cell_type": "markdown",
   "metadata": {},
   "source": [
    "The names returned by property can be used in subsequent operations.\n",
    "\n",
    "The complete `WTSS` class is documented [here](https://wtss.readthedocs.io/en/latest/class_wtss.html)."
   ]
  },
  {
   "cell_type": "markdown",
   "metadata": {},
   "source": [
    "# Retrieving the Metadata of a Data Product\n",
    "<hr style=\"border:1px solid #0077b9;\">"
   ]
  },
  {
   "cell_type": "markdown",
   "metadata": {},
   "source": [
    "It is possible to access the metadata of a specific coverage with the `operator[]`:"
   ]
  },
  {
   "cell_type": "code",
   "execution_count": 4,
   "metadata": {},
   "outputs": [
    {
     "data": {
      "text/html": [
       "<div>\n",
       "    <div>\n",
       "        <b>Coverage</b> MOD13Q1\n",
       "    </div>\n",
       "    </br>\n",
       "    <div>\n",
       "        <b>Description</b> Vegetation Indices 16-Day L3 Global 250m\n",
       "    </div>\n",
       "    </br>\n",
       "    <div>\n",
       "        <b>Attributes</b>\n",
       "    </div>\n",
       "    <div>\n",
       "        <table>\n",
       "            <tr>\n",
       "            </tr>\n",
       "            <tr>\n",
       "                <th>name</th>\n",
       "                <th>description</th>\n",
       "                <th>datatype</th>\n",
       "                <th>valid range</th>\n",
       "                <th>scale</th>\n",
       "                <th>nodata</th>\n",
       "            </tr>\n",
       "            <tr>\n",
       "    <td>mir</td>\n",
       "    <td>250m 16 days MIR reflectance (Surface Reflectance Band 7)</td>\n",
       "    <td>int16</td>\n",
       "    <td>{'min': 0.0, 'max': 10000.0}</td>\n",
       "    <td>0.0001</td>\n",
       "    <td>-1000.0</td>\n",
       "</tr><tr>\n",
       "    <td>blue</td>\n",
       "    <td>250m 16 days blue reflectance (Surface Reflectance Band 3)</td>\n",
       "    <td>int16</td>\n",
       "    <td>{'min': 0.0, 'max': 10000.0}</td>\n",
       "    <td>0.0001</td>\n",
       "    <td>-1000.0</td>\n",
       "</tr><tr>\n",
       "    <td>nir</td>\n",
       "    <td>250m 16 days NIR reflectance (Surface Reflectance Band 2)</td>\n",
       "    <td>int16</td>\n",
       "    <td>{'min': 0.0, 'max': 10000.0}</td>\n",
       "    <td>0.0001</td>\n",
       "    <td>-1000.0</td>\n",
       "</tr><tr>\n",
       "    <td>red</td>\n",
       "    <td>250m 16 days red reflectance (Surface Reflectance Band 1)</td>\n",
       "    <td>int16</td>\n",
       "    <td>{'min': 0.0, 'max': 10000.0}</td>\n",
       "    <td>0.0001</td>\n",
       "    <td>-1000.0</td>\n",
       "</tr><tr>\n",
       "    <td>evi</td>\n",
       "    <td>250m 16 days EVI (16 day EVI average)</td>\n",
       "    <td>int16</td>\n",
       "    <td>{'min': -2000.0, 'max': 10000.0}</td>\n",
       "    <td>0.0001</td>\n",
       "    <td>-3000.0</td>\n",
       "</tr><tr>\n",
       "    <td>ndvi</td>\n",
       "    <td>250m 16 days NDVI (16 day NDVI average)</td>\n",
       "    <td>int16</td>\n",
       "    <td>{'min': -2000.0, 'max': 10000.0}</td>\n",
       "    <td>0.0001</td>\n",
       "    <td>-3000.0</td>\n",
       "</tr>\n",
       "        </table>      \n",
       "    </div>\n",
       "    </br>\n",
       "    <div>\n",
       "        <b>Extent</b>\n",
       "    </div>\n",
       "    <div>\n",
       "        <table>\n",
       "            <tr>\n",
       "                <th>xmin</th>\n",
       "                <th>ymin</th>\n",
       "                <th>xmax</th>\n",
       "                <th>ymax</th>\n",
       "            </tr>\n",
       "             <tr>\n",
       "                 <td>-81.2341289433377</td>\n",
       "                 <td>-39.9999999964109</td>\n",
       "                 <td>-29.9999999973059</td>\n",
       "                 <td colspan=\"3\">9.99999999910497</td>\n",
       "             </tr>\n",
       "        </table>\n",
       "    </div>\n",
       "    </br>\n",
       "    <div>\n",
       "        <b>Timeline</b>\n",
       "    </div>\n",
       "    <div>\n",
       "        <select id=\"timeline\" size=\"10\">\n",
       "<option value=\"2000-02-18\">2000-02-18</option><option value=\"2000-03-05\">2000-03-05</option><option value=\"2000-03-21\">2000-03-21</option><option value=\"2000-04-06\">2000-04-06</option><option value=\"2000-04-22\">2000-04-22</option><option value=\"2000-05-08\">2000-05-08</option><option value=\"2000-05-24\">2000-05-24</option><option value=\"2000-06-09\">2000-06-09</option><option value=\"2000-06-25\">2000-06-25</option><option value=\"2000-07-11\">2000-07-11</option><option value=\"2000-07-27\">2000-07-27</option><option value=\"2000-08-12\">2000-08-12</option><option value=\"2000-08-28\">2000-08-28</option><option value=\"2000-09-13\">2000-09-13</option><option value=\"2000-09-29\">2000-09-29</option><option value=\"2000-10-15\">2000-10-15</option><option value=\"2000-10-31\">2000-10-31</option><option value=\"2000-11-16\">2000-11-16</option><option value=\"2000-12-02\">2000-12-02</option><option value=\"2000-12-18\">2000-12-18</option><option value=\"2001-01-01\">2001-01-01</option><option value=\"2001-01-17\">2001-01-17</option><option value=\"2001-02-02\">2001-02-02</option><option value=\"2001-02-18\">2001-02-18</option><option value=\"2001-03-06\">2001-03-06</option><option value=\"2001-03-22\">2001-03-22</option><option value=\"2001-04-07\">2001-04-07</option><option value=\"2001-04-23\">2001-04-23</option><option value=\"2001-05-09\">2001-05-09</option><option value=\"2001-05-25\">2001-05-25</option><option value=\"2001-06-10\">2001-06-10</option><option value=\"2001-06-26\">2001-06-26</option><option value=\"2001-07-12\">2001-07-12</option><option value=\"2001-07-28\">2001-07-28</option><option value=\"2001-08-13\">2001-08-13</option><option value=\"2001-08-29\">2001-08-29</option><option value=\"2001-09-14\">2001-09-14</option><option value=\"2001-09-30\">2001-09-30</option><option value=\"2001-10-16\">2001-10-16</option><option value=\"2001-11-01\">2001-11-01</option><option value=\"2001-11-17\">2001-11-17</option><option value=\"2001-12-03\">2001-12-03</option><option value=\"2001-12-19\">2001-12-19</option><option value=\"2002-01-01\">2002-01-01</option><option value=\"2002-01-17\">2002-01-17</option><option value=\"2002-02-02\">2002-02-02</option><option value=\"2002-02-18\">2002-02-18</option><option value=\"2002-03-06\">2002-03-06</option><option value=\"2002-03-22\">2002-03-22</option><option value=\"2002-04-07\">2002-04-07</option><option value=\"2002-04-23\">2002-04-23</option><option value=\"2002-05-09\">2002-05-09</option><option value=\"2002-05-25\">2002-05-25</option><option value=\"2002-06-10\">2002-06-10</option><option value=\"2002-06-26\">2002-06-26</option><option value=\"2002-07-12\">2002-07-12</option><option value=\"2002-07-28\">2002-07-28</option><option value=\"2002-08-13\">2002-08-13</option><option value=\"2002-08-29\">2002-08-29</option><option value=\"2002-09-14\">2002-09-14</option><option value=\"2002-09-30\">2002-09-30</option><option value=\"2002-10-16\">2002-10-16</option><option value=\"2002-11-01\">2002-11-01</option><option value=\"2002-11-17\">2002-11-17</option><option value=\"2002-12-03\">2002-12-03</option><option value=\"2002-12-19\">2002-12-19</option><option value=\"2003-01-01\">2003-01-01</option><option value=\"2003-01-17\">2003-01-17</option><option value=\"2003-02-02\">2003-02-02</option><option value=\"2003-02-18\">2003-02-18</option><option value=\"2003-03-06\">2003-03-06</option><option value=\"2003-03-22\">2003-03-22</option><option value=\"2003-04-07\">2003-04-07</option><option value=\"2003-04-23\">2003-04-23</option><option value=\"2003-05-09\">2003-05-09</option><option value=\"2003-05-25\">2003-05-25</option><option value=\"2003-06-10\">2003-06-10</option><option value=\"2003-06-26\">2003-06-26</option><option value=\"2003-07-12\">2003-07-12</option><option value=\"2003-07-28\">2003-07-28</option><option value=\"2003-08-13\">2003-08-13</option><option value=\"2003-08-29\">2003-08-29</option><option value=\"2003-09-14\">2003-09-14</option><option value=\"2003-09-30\">2003-09-30</option><option value=\"2003-10-16\">2003-10-16</option><option value=\"2003-11-01\">2003-11-01</option><option value=\"2003-11-17\">2003-11-17</option><option value=\"2003-12-03\">2003-12-03</option><option value=\"2003-12-19\">2003-12-19</option><option value=\"2004-01-01\">2004-01-01</option><option value=\"2004-01-17\">2004-01-17</option><option value=\"2004-02-02\">2004-02-02</option><option value=\"2004-02-18\">2004-02-18</option><option value=\"2004-03-05\">2004-03-05</option><option value=\"2004-03-21\">2004-03-21</option><option value=\"2004-04-06\">2004-04-06</option><option value=\"2004-04-22\">2004-04-22</option><option value=\"2004-05-08\">2004-05-08</option><option value=\"2004-05-24\">2004-05-24</option><option value=\"2004-06-09\">2004-06-09</option><option value=\"2004-06-25\">2004-06-25</option><option value=\"2004-07-11\">2004-07-11</option><option value=\"2004-07-27\">2004-07-27</option><option value=\"2004-08-12\">2004-08-12</option><option value=\"2004-08-28\">2004-08-28</option><option value=\"2004-09-13\">2004-09-13</option><option value=\"2004-09-29\">2004-09-29</option><option value=\"2004-10-15\">2004-10-15</option><option value=\"2004-10-31\">2004-10-31</option><option value=\"2004-11-16\">2004-11-16</option><option value=\"2004-12-02\">2004-12-02</option><option value=\"2004-12-18\">2004-12-18</option><option value=\"2005-01-01\">2005-01-01</option><option value=\"2005-01-17\">2005-01-17</option><option value=\"2005-02-02\">2005-02-02</option><option value=\"2005-02-18\">2005-02-18</option><option value=\"2005-03-06\">2005-03-06</option><option value=\"2005-03-22\">2005-03-22</option><option value=\"2005-04-07\">2005-04-07</option><option value=\"2005-04-23\">2005-04-23</option><option value=\"2005-05-09\">2005-05-09</option><option value=\"2005-05-25\">2005-05-25</option><option value=\"2005-06-10\">2005-06-10</option><option value=\"2005-06-26\">2005-06-26</option><option value=\"2005-07-12\">2005-07-12</option><option value=\"2005-07-28\">2005-07-28</option><option value=\"2005-08-13\">2005-08-13</option><option value=\"2005-08-29\">2005-08-29</option><option value=\"2005-09-14\">2005-09-14</option><option value=\"2005-09-30\">2005-09-30</option><option value=\"2005-10-16\">2005-10-16</option><option value=\"2005-11-01\">2005-11-01</option><option value=\"2005-11-17\">2005-11-17</option><option value=\"2005-12-03\">2005-12-03</option><option value=\"2005-12-19\">2005-12-19</option><option value=\"2006-01-01\">2006-01-01</option><option value=\"2006-01-17\">2006-01-17</option><option value=\"2006-02-02\">2006-02-02</option><option value=\"2006-02-18\">2006-02-18</option><option value=\"2006-03-06\">2006-03-06</option><option value=\"2006-03-22\">2006-03-22</option><option value=\"2006-04-07\">2006-04-07</option><option value=\"2006-04-23\">2006-04-23</option><option value=\"2006-05-09\">2006-05-09</option><option value=\"2006-05-25\">2006-05-25</option><option value=\"2006-06-10\">2006-06-10</option><option value=\"2006-06-26\">2006-06-26</option><option value=\"2006-07-12\">2006-07-12</option><option value=\"2006-07-28\">2006-07-28</option><option value=\"2006-08-13\">2006-08-13</option><option value=\"2006-08-29\">2006-08-29</option><option value=\"2006-09-14\">2006-09-14</option><option value=\"2006-09-30\">2006-09-30</option><option value=\"2006-10-16\">2006-10-16</option><option value=\"2006-11-01\">2006-11-01</option><option value=\"2006-11-17\">2006-11-17</option><option value=\"2006-12-03\">2006-12-03</option><option value=\"2006-12-19\">2006-12-19</option><option value=\"2007-01-01\">2007-01-01</option><option value=\"2007-01-17\">2007-01-17</option><option value=\"2007-02-02\">2007-02-02</option><option value=\"2007-02-18\">2007-02-18</option><option value=\"2007-03-06\">2007-03-06</option><option value=\"2007-03-22\">2007-03-22</option><option value=\"2007-04-07\">2007-04-07</option><option value=\"2007-04-23\">2007-04-23</option><option value=\"2007-05-09\">2007-05-09</option><option value=\"2007-05-25\">2007-05-25</option><option value=\"2007-06-10\">2007-06-10</option><option value=\"2007-06-26\">2007-06-26</option><option value=\"2007-07-12\">2007-07-12</option><option value=\"2007-07-28\">2007-07-28</option><option value=\"2007-08-13\">2007-08-13</option><option value=\"2007-08-29\">2007-08-29</option><option value=\"2007-09-14\">2007-09-14</option><option value=\"2007-09-30\">2007-09-30</option><option value=\"2007-10-16\">2007-10-16</option><option value=\"2007-11-01\">2007-11-01</option><option value=\"2007-11-17\">2007-11-17</option><option value=\"2007-12-03\">2007-12-03</option><option value=\"2007-12-19\">2007-12-19</option><option value=\"2008-01-01\">2008-01-01</option><option value=\"2008-01-17\">2008-01-17</option><option value=\"2008-02-02\">2008-02-02</option><option value=\"2008-02-18\">2008-02-18</option><option value=\"2008-03-05\">2008-03-05</option><option value=\"2008-03-21\">2008-03-21</option><option value=\"2008-04-06\">2008-04-06</option><option value=\"2008-04-22\">2008-04-22</option><option value=\"2008-05-08\">2008-05-08</option><option value=\"2008-05-24\">2008-05-24</option><option value=\"2008-06-09\">2008-06-09</option><option value=\"2008-06-25\">2008-06-25</option><option value=\"2008-07-11\">2008-07-11</option><option value=\"2008-07-27\">2008-07-27</option><option value=\"2008-08-12\">2008-08-12</option><option value=\"2008-08-28\">2008-08-28</option><option value=\"2008-09-13\">2008-09-13</option><option value=\"2008-09-29\">2008-09-29</option><option value=\"2008-10-15\">2008-10-15</option><option value=\"2008-10-31\">2008-10-31</option><option value=\"2008-11-16\">2008-11-16</option><option value=\"2008-12-02\">2008-12-02</option><option value=\"2008-12-18\">2008-12-18</option><option value=\"2009-01-01\">2009-01-01</option><option value=\"2009-01-17\">2009-01-17</option><option value=\"2009-02-02\">2009-02-02</option><option value=\"2009-02-18\">2009-02-18</option><option value=\"2009-03-06\">2009-03-06</option><option value=\"2009-03-22\">2009-03-22</option><option value=\"2009-04-07\">2009-04-07</option><option value=\"2009-04-23\">2009-04-23</option><option value=\"2009-05-09\">2009-05-09</option><option value=\"2009-05-25\">2009-05-25</option><option value=\"2009-06-10\">2009-06-10</option><option value=\"2009-06-26\">2009-06-26</option><option value=\"2009-07-12\">2009-07-12</option><option value=\"2009-07-28\">2009-07-28</option><option value=\"2009-08-13\">2009-08-13</option><option value=\"2009-08-29\">2009-08-29</option><option value=\"2009-09-14\">2009-09-14</option><option value=\"2009-09-30\">2009-09-30</option><option value=\"2009-10-16\">2009-10-16</option><option value=\"2009-11-01\">2009-11-01</option><option value=\"2009-11-17\">2009-11-17</option><option value=\"2009-12-03\">2009-12-03</option><option value=\"2009-12-19\">2009-12-19</option><option value=\"2010-01-01\">2010-01-01</option><option value=\"2010-01-17\">2010-01-17</option><option value=\"2010-02-02\">2010-02-02</option><option value=\"2010-02-18\">2010-02-18</option><option value=\"2010-03-06\">2010-03-06</option><option value=\"2010-03-22\">2010-03-22</option><option value=\"2010-04-07\">2010-04-07</option><option value=\"2010-04-23\">2010-04-23</option><option value=\"2010-05-09\">2010-05-09</option><option value=\"2010-05-25\">2010-05-25</option><option value=\"2010-06-10\">2010-06-10</option><option value=\"2010-06-26\">2010-06-26</option><option value=\"2010-07-12\">2010-07-12</option><option value=\"2010-07-28\">2010-07-28</option><option value=\"2010-08-13\">2010-08-13</option><option value=\"2010-08-29\">2010-08-29</option><option value=\"2010-09-14\">2010-09-14</option><option value=\"2010-09-30\">2010-09-30</option><option value=\"2010-10-16\">2010-10-16</option><option value=\"2010-11-01\">2010-11-01</option><option value=\"2010-11-17\">2010-11-17</option><option value=\"2010-12-03\">2010-12-03</option><option value=\"2010-12-19\">2010-12-19</option><option value=\"2011-01-01\">2011-01-01</option><option value=\"2011-01-17\">2011-01-17</option><option value=\"2011-02-02\">2011-02-02</option><option value=\"2011-02-18\">2011-02-18</option><option value=\"2011-03-06\">2011-03-06</option><option value=\"2011-03-22\">2011-03-22</option><option value=\"2011-04-07\">2011-04-07</option><option value=\"2011-04-23\">2011-04-23</option><option value=\"2011-05-09\">2011-05-09</option><option value=\"2011-05-25\">2011-05-25</option><option value=\"2011-06-10\">2011-06-10</option><option value=\"2011-06-26\">2011-06-26</option><option value=\"2011-07-12\">2011-07-12</option><option value=\"2011-07-28\">2011-07-28</option><option value=\"2011-08-13\">2011-08-13</option><option value=\"2011-08-29\">2011-08-29</option><option value=\"2011-09-14\">2011-09-14</option><option value=\"2011-09-30\">2011-09-30</option><option value=\"2011-10-16\">2011-10-16</option><option value=\"2011-11-01\">2011-11-01</option><option value=\"2011-11-17\">2011-11-17</option><option value=\"2011-12-03\">2011-12-03</option><option value=\"2011-12-19\">2011-12-19</option><option value=\"2012-01-01\">2012-01-01</option><option value=\"2012-01-17\">2012-01-17</option><option value=\"2012-02-02\">2012-02-02</option><option value=\"2012-02-18\">2012-02-18</option><option value=\"2012-03-05\">2012-03-05</option><option value=\"2012-03-21\">2012-03-21</option><option value=\"2012-04-06\">2012-04-06</option><option value=\"2012-04-22\">2012-04-22</option><option value=\"2012-05-08\">2012-05-08</option><option value=\"2012-05-24\">2012-05-24</option><option value=\"2012-06-09\">2012-06-09</option><option value=\"2012-06-25\">2012-06-25</option><option value=\"2012-07-11\">2012-07-11</option><option value=\"2012-07-27\">2012-07-27</option><option value=\"2012-08-12\">2012-08-12</option><option value=\"2012-08-28\">2012-08-28</option><option value=\"2012-09-13\">2012-09-13</option><option value=\"2012-09-29\">2012-09-29</option><option value=\"2012-10-15\">2012-10-15</option><option value=\"2012-10-31\">2012-10-31</option><option value=\"2012-11-16\">2012-11-16</option><option value=\"2012-12-02\">2012-12-02</option><option value=\"2012-12-18\">2012-12-18</option><option value=\"2013-01-01\">2013-01-01</option><option value=\"2013-01-17\">2013-01-17</option><option value=\"2013-02-02\">2013-02-02</option><option value=\"2013-02-18\">2013-02-18</option><option value=\"2013-03-06\">2013-03-06</option><option value=\"2013-03-22\">2013-03-22</option><option value=\"2013-04-07\">2013-04-07</option><option value=\"2013-04-23\">2013-04-23</option><option value=\"2013-05-09\">2013-05-09</option><option value=\"2013-05-25\">2013-05-25</option><option value=\"2013-06-10\">2013-06-10</option><option value=\"2013-06-26\">2013-06-26</option><option value=\"2013-07-12\">2013-07-12</option><option value=\"2013-07-28\">2013-07-28</option><option value=\"2013-08-13\">2013-08-13</option><option value=\"2013-08-29\">2013-08-29</option><option value=\"2013-09-14\">2013-09-14</option><option value=\"2013-09-30\">2013-09-30</option><option value=\"2013-10-16\">2013-10-16</option><option value=\"2013-11-01\">2013-11-01</option><option value=\"2013-11-17\">2013-11-17</option><option value=\"2013-12-03\">2013-12-03</option><option value=\"2013-12-19\">2013-12-19</option><option value=\"2014-01-01\">2014-01-01</option><option value=\"2014-01-17\">2014-01-17</option><option value=\"2014-02-02\">2014-02-02</option><option value=\"2014-02-18\">2014-02-18</option><option value=\"2014-03-06\">2014-03-06</option><option value=\"2014-03-22\">2014-03-22</option><option value=\"2014-04-07\">2014-04-07</option><option value=\"2014-04-23\">2014-04-23</option><option value=\"2014-05-09\">2014-05-09</option><option value=\"2014-05-25\">2014-05-25</option><option value=\"2014-06-10\">2014-06-10</option><option value=\"2014-06-26\">2014-06-26</option><option value=\"2014-07-12\">2014-07-12</option><option value=\"2014-07-28\">2014-07-28</option><option value=\"2014-08-13\">2014-08-13</option><option value=\"2014-08-29\">2014-08-29</option><option value=\"2014-09-14\">2014-09-14</option><option value=\"2014-09-30\">2014-09-30</option><option value=\"2014-10-16\">2014-10-16</option><option value=\"2014-11-01\">2014-11-01</option><option value=\"2014-11-17\">2014-11-17</option><option value=\"2014-12-03\">2014-12-03</option><option value=\"2014-12-19\">2014-12-19</option><option value=\"2015-01-01\">2015-01-01</option><option value=\"2015-01-17\">2015-01-17</option><option value=\"2015-02-02\">2015-02-02</option><option value=\"2015-02-18\">2015-02-18</option><option value=\"2015-03-06\">2015-03-06</option><option value=\"2015-03-22\">2015-03-22</option><option value=\"2015-04-07\">2015-04-07</option><option value=\"2015-04-23\">2015-04-23</option><option value=\"2015-05-09\">2015-05-09</option><option value=\"2015-05-25\">2015-05-25</option><option value=\"2015-06-10\">2015-06-10</option><option value=\"2015-06-26\">2015-06-26</option><option value=\"2015-07-12\">2015-07-12</option><option value=\"2015-07-28\">2015-07-28</option><option value=\"2015-08-13\">2015-08-13</option><option value=\"2015-08-29\">2015-08-29</option><option value=\"2015-09-14\">2015-09-14</option><option value=\"2015-09-30\">2015-09-30</option><option value=\"2015-10-16\">2015-10-16</option><option value=\"2015-11-01\">2015-11-01</option><option value=\"2015-11-17\">2015-11-17</option><option value=\"2015-12-03\">2015-12-03</option><option value=\"2015-12-19\">2015-12-19</option><option value=\"2016-01-01\">2016-01-01</option><option value=\"2016-01-17\">2016-01-17</option><option value=\"2016-02-02\">2016-02-02</option><option value=\"2016-02-18\">2016-02-18</option><option value=\"2016-03-05\">2016-03-05</option><option value=\"2016-03-21\">2016-03-21</option><option value=\"2016-04-06\">2016-04-06</option><option value=\"2016-04-22\">2016-04-22</option><option value=\"2016-05-08\">2016-05-08</option><option value=\"2016-05-24\">2016-05-24</option><option value=\"2016-06-09\">2016-06-09</option><option value=\"2016-06-25\">2016-06-25</option><option value=\"2016-07-11\">2016-07-11</option><option value=\"2016-07-27\">2016-07-27</option><option value=\"2016-08-12\">2016-08-12</option><option value=\"2016-08-28\">2016-08-28</option><option value=\"2016-09-13\">2016-09-13</option><option value=\"2016-09-29\">2016-09-29</option><option value=\"2016-10-15\">2016-10-15</option><option value=\"2016-10-31\">2016-10-31</option><option value=\"2016-11-16\">2016-11-16</option><option value=\"2016-12-02\">2016-12-02</option><option value=\"2016-12-18\">2016-12-18</option><option value=\"2017-01-01\">2017-01-01</option><option value=\"2017-01-17\">2017-01-17</option><option value=\"2017-02-02\">2017-02-02</option><option value=\"2017-02-18\">2017-02-18</option><option value=\"2017-03-06\">2017-03-06</option><option value=\"2017-03-22\">2017-03-22</option><option value=\"2017-04-07\">2017-04-07</option><option value=\"2017-04-23\">2017-04-23</option><option value=\"2017-05-09\">2017-05-09</option><option value=\"2017-05-25\">2017-05-25</option><option value=\"2017-06-10\">2017-06-10</option><option value=\"2017-06-26\">2017-06-26</option><option value=\"2017-07-12\">2017-07-12</option><option value=\"2017-07-28\">2017-07-28</option><option value=\"2017-08-13\">2017-08-13</option><option value=\"2017-08-29\">2017-08-29</option><option value=\"2017-09-14\">2017-09-14</option><option value=\"2017-09-30\">2017-09-30</option><option value=\"2017-10-16\">2017-10-16</option><option value=\"2017-11-01\">2017-11-01</option><option value=\"2017-11-17\">2017-11-17</option><option value=\"2017-12-03\">2017-12-03</option><option value=\"2017-12-19\">2017-12-19</option><option value=\"2018-01-01\">2018-01-01</option><option value=\"2018-01-17\">2018-01-17</option><option value=\"2018-02-02\">2018-02-02</option><option value=\"2018-02-18\">2018-02-18</option><option value=\"2018-03-06\">2018-03-06</option><option value=\"2018-03-22\">2018-03-22</option><option value=\"2018-04-07\">2018-04-07</option><option value=\"2018-04-23\">2018-04-23</option><option value=\"2018-05-09\">2018-05-09</option><option value=\"2018-05-25\">2018-05-25</option><option value=\"2018-06-10\">2018-06-10</option><option value=\"2018-06-26\">2018-06-26</option><option value=\"2018-07-12\">2018-07-12</option><option value=\"2018-07-28\">2018-07-28</option><option value=\"2018-08-13\">2018-08-13</option><option value=\"2018-08-29\">2018-08-29</option><option value=\"2018-09-14\">2018-09-14</option><option value=\"2018-09-30\">2018-09-30</option><option value=\"2018-10-16\">2018-10-16</option><option value=\"2018-11-01\">2018-11-01</option><option value=\"2018-11-17\">2018-11-17</option><option value=\"2018-12-03\">2018-12-03</option><option value=\"2018-12-19\">2018-12-19</option><option value=\"2019-01-01\">2019-01-01</option><option value=\"2019-01-17\">2019-01-17</option><option value=\"2019-02-02\">2019-02-02</option><option value=\"2019-02-18\">2019-02-18</option><option value=\"2019-03-06\">2019-03-06</option><option value=\"2019-03-22\">2019-03-22</option><option value=\"2019-04-07\">2019-04-07</option><option value=\"2019-04-23\">2019-04-23</option><option value=\"2019-05-09\">2019-05-09</option><option value=\"2019-05-25\">2019-05-25</option><option value=\"2019-06-10\">2019-06-10</option><option value=\"2019-06-26\">2019-06-26</option><option value=\"2019-07-12\">2019-07-12</option><option value=\"2019-07-28\">2019-07-28</option><option value=\"2019-08-13\">2019-08-13</option><option value=\"2019-08-29\">2019-08-29</option><option value=\"2019-09-14\">2019-09-14</option><option value=\"2019-09-30\">2019-09-30</option></select>\n",
       "    </div>    \n",
       "</div>"
      ],
      "text/plain": []
     },
     "execution_count": 4,
     "metadata": {},
     "output_type": "execute_result"
    }
   ],
   "source": [
    "service['MOD13Q1']"
   ]
  },
  {
   "cell_type": "markdown",
   "metadata": {},
   "source": [
    "or:"
   ]
  },
  {
   "cell_type": "code",
   "execution_count": null,
   "metadata": {},
   "outputs": [],
   "source": [
    "service.MOD13Q1"
   ]
  },
  {
   "cell_type": "markdown",
   "metadata": {},
   "source": [
    "The coverage metadata includes its range in the spatial and temporal dimensions, the list of attributes associated to the cells, and the timeline.\n",
    "\n",
    "\n",
    "Let's inspect the metadata with more detail:"
   ]
  },
  {
   "cell_type": "code",
   "execution_count": 6,
   "metadata": {},
   "outputs": [],
   "source": [
    "coverage = service['MOD13Q1']"
   ]
  },
  {
   "cell_type": "code",
   "execution_count": 7,
   "metadata": {},
   "outputs": [
    {
     "data": {
      "text/plain": [
       "'MOD13Q1'"
      ]
     },
     "execution_count": 7,
     "metadata": {},
     "output_type": "execute_result"
    }
   ],
   "source": [
    "coverage.name"
   ]
  },
  {
   "cell_type": "code",
   "execution_count": 8,
   "metadata": {},
   "outputs": [
    {
     "data": {
      "text/plain": [
       "'Vegetation Indices 16-Day L3 Global 250m'"
      ]
     },
     "execution_count": 8,
     "metadata": {},
     "output_type": "execute_result"
    }
   ],
   "source": [
    "coverage.description"
   ]
  },
  {
   "cell_type": "code",
   "execution_count": null,
   "metadata": {},
   "outputs": [],
   "source": [
    "coverage.attributes"
   ]
  },
  {
   "cell_type": "code",
   "execution_count": null,
   "metadata": {},
   "outputs": [],
   "source": [
    "coverage.dimensions"
   ]
  },
  {
   "cell_type": "code",
   "execution_count": null,
   "metadata": {},
   "outputs": [],
   "source": [
    "coverage.spatial_extent"
   ]
  },
  {
   "cell_type": "code",
   "execution_count": 10,
   "metadata": {},
   "outputs": [
    {
     "name": "stdout",
     "output_type": "stream",
     "text": [
      "Interval range: [2000-02-18, 2019-09-30]\n"
     ]
    }
   ],
   "source": [
    "timeline = coverage.timeline\n",
    "\n",
    "start = timeline[0]\n",
    "end = timeline[-1]\n",
    "\n",
    "print(f'Interval range: [{start}, {end}]')"
   ]
  },
  {
   "cell_type": "markdown",
   "metadata": {},
   "source": [
    "The complete `Coverage` class is documented [here](https://wtss.readthedocs.io/en/latest/class_coverage.html)."
   ]
  },
  {
   "cell_type": "markdown",
   "metadata": {},
   "source": [
    "# Retrieving the Time Series\n",
    "<hr style=\"border:1px solid #0077b9;\">"
   ]
  },
  {
   "cell_type": "markdown",
   "metadata": {},
   "source": [
    "In order to retrieve the time series for attributes `red` and `nir`, in the location of `latitude -12` and `longitude -54` from `January 1st, 2001` to `December 31st, 2001`, use the `ts` method:"
   ]
  },
  {
   "cell_type": "code",
   "execution_count": 11,
   "metadata": {},
   "outputs": [],
   "source": [
    "ts = coverage.ts(attributes=('red', 'nir'),\n",
    "                 latitude=-12.0, longitude=-54.0,\n",
    "                 start_date='2001-01-01', end_date='2001-12-31')"
   ]
  },
  {
   "cell_type": "markdown",
   "metadata": {},
   "source": [
    "Each time series can be accessed by the name of the attribute:"
   ]
  },
  {
   "cell_type": "code",
   "execution_count": 12,
   "metadata": {},
   "outputs": [
    {
     "data": {
      "text/plain": [
       "[236.0,\n",
       " 289.0,\n",
       " 268.0,\n",
       " 374.0,\n",
       " 484.0,\n",
       " 243.0,\n",
       " 280.0,\n",
       " 199.0,\n",
       " 211.0,\n",
       " 184.0,\n",
       " 200.0,\n",
       " 227.0,\n",
       " 224.0,\n",
       " 226.0,\n",
       " 245.0,\n",
       " 253.0,\n",
       " 267.0,\n",
       " 176.0,\n",
       " 263.0,\n",
       " 389.0,\n",
       " 1872.0,\n",
       " 494.0,\n",
       " 1349.0]"
      ]
     },
     "execution_count": 12,
     "metadata": {},
     "output_type": "execute_result"
    }
   ],
   "source": [
    "ts.red"
   ]
  },
  {
   "cell_type": "code",
   "execution_count": null,
   "metadata": {},
   "outputs": [],
   "source": [
    "ts.nir"
   ]
  },
  {
   "cell_type": "markdown",
   "metadata": {},
   "source": [
    "It is also possible to access the time points associated to the values:"
   ]
  },
  {
   "cell_type": "code",
   "execution_count": 13,
   "metadata": {},
   "outputs": [
    {
     "data": {
      "text/plain": [
       "['2001-01-01',\n",
       " '2001-01-17',\n",
       " '2001-02-02',\n",
       " '2001-02-18',\n",
       " '2001-03-06',\n",
       " '2001-03-22',\n",
       " '2001-04-07',\n",
       " '2001-04-23',\n",
       " '2001-05-09',\n",
       " '2001-05-25',\n",
       " '2001-06-10',\n",
       " '2001-06-26',\n",
       " '2001-07-12',\n",
       " '2001-07-28',\n",
       " '2001-08-13',\n",
       " '2001-08-29',\n",
       " '2001-09-14',\n",
       " '2001-09-30',\n",
       " '2001-10-16',\n",
       " '2001-11-01',\n",
       " '2001-11-17',\n",
       " '2001-12-03',\n",
       " '2001-12-19']"
      ]
     },
     "execution_count": 13,
     "metadata": {},
     "output_type": "execute_result"
    }
   ],
   "source": [
    "ts.timeline"
   ]
  },
  {
   "cell_type": "markdown",
   "metadata": {},
   "source": [
    "The complete `TimeSeries` class is documented [here](https://wtss.readthedocs.io/en/latest/class_timeseries.html)."
   ]
  },
  {
   "cell_type": "markdown",
   "metadata": {},
   "source": [
    "# Visualizing the Time Series with Matplotlib\n",
    "<hr style=\"border:1px solid #0077b9;\">"
   ]
  },
  {
   "cell_type": "markdown",
   "metadata": {},
   "source": [
    "If you have Matplotlib and Numpy installed, it is possible to plot the time series with the `plot` method:"
   ]
  },
  {
   "cell_type": "code",
   "execution_count": 14,
   "metadata": {},
   "outputs": [
    {
     "data": {
      "image/png": "[encoded data removed]",
      "text/plain": [
       "<Figure size 432x288 with 1 Axes>"
      ]
     },
     "metadata": {
      "needs_background": "light"
     },
     "output_type": "display_data"
    }
   ],
   "source": [
    "ts.plot()"
   ]
  },
  {
   "cell_type": "markdown",
   "metadata": {},
   "source": [
    "# References\n",
    "<hr style=\"border:1px solid #0077b9;\">"
   ]
  },
  {
   "cell_type": "markdown",
   "metadata": {},
   "source": [
    "- [Python Client Library for Web Time Series Service - User Guide](https://wtss.readthedocs.io/en/latest/index.html)\n",
    "\n",
    "\n",
    "- [Python Client Library for Web Time Series Service - GitHub Repository](https://github.com/brazil-data-cube/wtss.py)\n",
    "\n",
    "\n",
    "- [WTSS OpenAPI 3 Specification](https://github.com/brazil-data-cube/wtss-spec)\n",
    "\n",
    "\n",
    "- [WTSS Server](https://github.com/brazil-data-cube/wtss)\n",
    "\n",
    "\n",
    "- VINHAS, L.; QUEIROZ, G. R.; FERREIRA, K. R.; CÂMARA, G. [Web Services for Big Earth Observation Data](http://www.seer.ufu.br/index.php/revistabrasileiracartografia/article/view/44004). Revista Brasileira de Cartografia, v. 69, n. 5, 18 maio 2017."
   ]
  },
  {
   "cell_type": "markdown",
   "metadata": {},
   "source": [
    "# See also the following Jupyter Notebooks\n",
    "<hr style=\"border:1px solid #0077b9;\">\n",
    "\n",
    "* [WTSS Examples](./wtss-examples.ipynb)"
   ]
  }
 ],
 "metadata": {
  "kernelspec": {
   "display_name": "Python (Geospatial)",
   "language": "python",
   "name": "geospatial"
  },
  "language_info": {
   "codemirror_mode": {
    "name": "ipython",
    "version": 3
   },
   "file_extension": ".py",
   "mimetype": "text/x-python",
   "name": "python",
   "nbconvert_exporter": "python",
   "pygments_lexer": "ipython3",
   "version": "3.8.8"
  }
 },
 "nbformat": 4,
 "nbformat_minor": 4
}
