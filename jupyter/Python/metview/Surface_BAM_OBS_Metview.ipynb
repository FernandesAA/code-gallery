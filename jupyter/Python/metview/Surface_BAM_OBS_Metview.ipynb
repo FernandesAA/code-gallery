{
 "cells": [
  {
   "cell_type": "code",
   "execution_count": 1,
   "id": "bda5b67b-d1a7-492d-ad0a-07cd20b44279",
   "metadata": {
    "editable": true,
    "slideshow": {
     "slide_type": ""
    },
    "tags": []
   },
   "outputs": [],
   "source": [
    "import metview as mv\n",
    "import numpy as np\n",
    "import matplotlib.pyplot as plt"
   ]
  },
  {
   "cell_type": "code",
   "execution_count": 2,
   "id": "d4b9817d-c983-4fd1-a45c-fc70dc64e5aa",
   "metadata": {},
   "outputs": [
    {
     "data": {
      "text/html": [
       "  \n",
       "                <table>\n",
       "                <tr><th>parameter</th><th>typeOfLevel</th><th>level</th><th>date</th><th>time</th><th>step</th><th>number</th><th>paramId</th><th>class</th><th>stream</th><th>type</th><th>experimentVersionNumber</th></tr>\n",
       "                <tr><th style='text-align: right;'>2t</th><td style='text-align: left;'>heightAboveGround</td><td style='text-align: left;'>2</td><td style='text-align: left;'>20250215</td><td style='text-align: left;'>0</td><td style='text-align: left;'>0</td><td style='text-align: left;'>None</td><td style='text-align: left;'>167</td><td style='text-align: left;'>None</td><td style='text-align: left;'>None</td><td style='text-align: left;'>None</td><td style='text-align: left;'>None</td></tr><tr><th style='text-align: right;'>gh</th><td style='text-align: left;'>isobaricInhPa</td><td style='text-align: left;'>3,10,...</td><td style='text-align: left;'>20250215</td><td style='text-align: left;'>0</td><td style='text-align: left;'>0</td><td style='text-align: left;'>None</td><td style='text-align: left;'>156</td><td style='text-align: left;'>None</td><td style='text-align: left;'>None</td><td style='text-align: left;'>None</td><td style='text-align: left;'>None</td></tr><tr><th style='text-align: right;'>lsm</th><td style='text-align: left;'>surface</td><td style='text-align: left;'>0</td><td style='text-align: left;'>20250215</td><td style='text-align: left;'>0</td><td style='text-align: left;'>0</td><td style='text-align: left;'>None</td><td style='text-align: left;'>172</td><td style='text-align: left;'>None</td><td style='text-align: left;'>None</td><td style='text-align: left;'>None</td><td style='text-align: left;'>None</td></tr><tr><th style='text-align: right;'>orog</th><td style='text-align: left;'>surface</td><td style='text-align: left;'>0</td><td style='text-align: left;'>20250215</td><td style='text-align: left;'>0</td><td style='text-align: left;'>0</td><td style='text-align: left;'>None</td><td style='text-align: left;'>228002</td><td style='text-align: left;'>None</td><td style='text-align: left;'>None</td><td style='text-align: left;'>None</td><td style='text-align: left;'>None</td></tr><tr><th style='text-align: right;'>prmsl</th><td style='text-align: left;'>surface</td><td style='text-align: left;'>0</td><td style='text-align: left;'>20250215</td><td style='text-align: left;'>0</td><td style='text-align: left;'>0</td><td style='text-align: left;'>None</td><td style='text-align: left;'>260074</td><td style='text-align: left;'>None</td><td style='text-align: left;'>None</td><td style='text-align: left;'>None</td><td style='text-align: left;'>None</td></tr><tr><th style='text-align: right;'>pwat</th><td style='text-align: left;'>surface</td><td style='text-align: left;'>0</td><td style='text-align: left;'>20250215</td><td style='text-align: left;'>0</td><td style='text-align: left;'>0</td><td style='text-align: left;'>None</td><td style='text-align: left;'>3054</td><td style='text-align: left;'>None</td><td style='text-align: left;'>None</td><td style='text-align: left;'>None</td><td style='text-align: left;'>None</td></tr><tr><th style='text-align: right;'>r</th><td style='text-align: left;'>surface<br>isobaricInhPa<br></td><td style='text-align: left;'>0<br>3,10,...<br></td><td style='text-align: left;'>20250215</td><td style='text-align: left;'>0</td><td style='text-align: left;'>0</td><td style='text-align: left;'>None</td><td style='text-align: left;'>157</td><td style='text-align: left;'>None</td><td style='text-align: left;'>None</td><td style='text-align: left;'>None</td><td style='text-align: left;'>None</td></tr><tr><th style='text-align: right;'>sp</th><td style='text-align: left;'>surface</td><td style='text-align: left;'>0</td><td style='text-align: left;'>20250215</td><td style='text-align: left;'>0</td><td style='text-align: left;'>0</td><td style='text-align: left;'>None</td><td style='text-align: left;'>134</td><td style='text-align: left;'>None</td><td style='text-align: left;'>None</td><td style='text-align: left;'>None</td><td style='text-align: left;'>None</td></tr><tr><th style='text-align: right;'>t</th><td style='text-align: left;'>surface<br>isobaricInhPa<br></td><td style='text-align: left;'>0<br>3,10,...<br></td><td style='text-align: left;'>20250215</td><td style='text-align: left;'>0</td><td style='text-align: left;'>0</td><td style='text-align: left;'>None</td><td style='text-align: left;'>130</td><td style='text-align: left;'>None</td><td style='text-align: left;'>None</td><td style='text-align: left;'>None</td><td style='text-align: left;'>None</td></tr><tr><th style='text-align: right;'>u</th><td style='text-align: left;'>surface<br>isobaricInhPa<br></td><td style='text-align: left;'>0<br>3,10,...<br></td><td style='text-align: left;'>20250215</td><td style='text-align: left;'>0</td><td style='text-align: left;'>0</td><td style='text-align: left;'>None</td><td style='text-align: left;'>131</td><td style='text-align: left;'>None</td><td style='text-align: left;'>None</td><td style='text-align: left;'>None</td><td style='text-align: left;'>None</td></tr><tr><th style='text-align: right;'>v</th><td style='text-align: left;'>surface<br>isobaricInhPa<br></td><td style='text-align: left;'>0<br>3,10,...<br></td><td style='text-align: left;'>20250215</td><td style='text-align: left;'>0</td><td style='text-align: left;'>0</td><td style='text-align: left;'>None</td><td style='text-align: left;'>132</td><td style='text-align: left;'>None</td><td style='text-align: left;'>None</td><td style='text-align: left;'>None</td><td style='text-align: left;'>None</td></tr><tr><th style='text-align: right;'>w</th><td style='text-align: left;'>isobaricInhPa</td><td style='text-align: left;'>3,10,...</td><td style='text-align: left;'>20250215</td><td style='text-align: left;'>0</td><td style='text-align: left;'>0</td><td style='text-align: left;'>None</td><td style='text-align: left;'>135</td><td style='text-align: left;'>None</td><td style='text-align: left;'>None</td><td style='text-align: left;'>None</td><td style='text-align: left;'>None</td></tr>\n",
       "                </table>"
      ],
      "text/plain": [
       "<IPython.core.display.HTML object>"
      ]
     },
     "execution_count": 2,
     "metadata": {},
     "output_type": "execute_result"
    }
   ],
   "source": [
    "import time\n",
    "\n",
    "anl_date=\"2025021500\"\n",
    "\n",
    "# create from GRIB file\n",
    "fs = mv.read(\"/home/jovyan/Metview/Dados/bam/GPOSNMC\"+anl_date+anl_date+\"P.grib2\")\n",
    "fs.describe()\n"
   ]
  },
  {
   "cell_type": "code",
   "execution_count": 3,
   "id": "1c35655a-52ca-4dae-9e16-573d718506b2",
   "metadata": {},
   "outputs": [],
   "source": [
    "\n",
    "prmsl = fs.select(shortName=\"prmsl\")\n",
    "hgt1000 = fs.select(shortName=\"gh\", level=1000)\n",
    "hgt500 = fs.select(shortName=\"gh\", level=500)\n"
   ]
  },
  {
   "cell_type": "code",
   "execution_count": 4,
   "id": "5be8bf0b-bb58-44be-b5d2-d582dcdb8ac7",
   "metadata": {},
   "outputs": [],
   "source": [
    "\n",
    "synop = mv.read(\"/home/jovyan/Metview/Dados/bufr/\"+anl_date+\"00_synop.bufr\")\n",
    "metar = mv.read(\"/home/jovyan/Metview/Dados/bufr/\"+anl_date+\"00_metar.bufr\")\n"
   ]
  },
  {
   "cell_type": "code",
   "execution_count": 5,
   "id": "28d90c0b-914e-4b07-9ecf-1a0f2a6b1fe2",
   "metadata": {},
   "outputs": [],
   "source": [
    "\n",
    "#prmsl.plot()\n",
    "\n",
    "area = [-60,-120,20,0] # S,W,N,E\n",
    "AMS = mv.geoview(\n",
    "    map_area_definition = \"corners\",\n",
    "    area                = area,\n",
    "    coastlines = mv.mcoast(\n",
    "        map_coastline_land_shade        = \"on\",\n",
    "        map_coastline_land_shade_colour = \"#eeeeee\",\n",
    "        map_grid_latitude_increment     = 10,\n",
    "        map_grid_longitude_increment    = 10)\n",
    "    )\n",
    "\n",
    "auto_style = mv.mcont(contour_automatic_setting = \"ecmwf\")\n",
    "\n",
    "obs_grid = mv.mobs (\n",
    "        obs_colour                     = \" black\",\n",
    "        obs_size                       = 0.2,\n",
    "        obs_ring_size                  = 0.025,\n",
    "        obs_station_ring               = \"off\"\n",
    "        )\n",
    "\n",
    "prmsl_grid = mv.mcont(\n",
    "    legend                         = \"on\",\n",
    "    contour_line_colour            = \"charcoal\",\n",
    "    contour_highlight_colour       = \"charcoal\",\n",
    "    contour_highlight              = \"on\",\n",
    "    contour_level_selection_type   = \"interval\",\n",
    "    contour_interval               = 4,\n",
    "    contour_label_height           = 0.6,\n",
    "    contour_shade                  = \"off\",\n",
    "    contour_shade_method           = \"area_fill\",\n",
    "    contour_shade_max_level_colour = \"red\",\n",
    "    contour_shade_min_level_colour = \"green\",\n",
    "    contour_shade_colour_direction = \"clockwise\"\n",
    "            )\n",
    "\n",
    "thck_grid = mv.mcont(\n",
    "    legend                         = \"on\",\n",
    "    contour_line_colour            = \"charcoal\",\n",
    "    contour_highlight_colour       = \"charcoal\",\n",
    "    contour_highlight_style        = \"dash\",\n",
    "    contour_highlight              = \"on\",\n",
    "    contour_line_style             = \"dash\",\n",
    "    contour_level_selection_type   = \"interval\",\n",
    "    contour_interval               = 40,\n",
    "        contour_label_height           = 0.6,\n",
    "    contour_shade                  = \"off\",\n",
    "    contour_shade_method           = \"area_fill\",\n",
    "    contour_shade_max_level_colour = \"red\",\n",
    "    contour_shade_min_level_colour = \"green\",\n",
    "    contour_shade_colour_direction = \"clockwise\"\n",
    "            )\n",
    "\n",
    "text_grid = mv.mtext(\n",
    "    text_font_size                 = 1\n",
    "        )\n",
    "\n",
    "thck = hgt500 - hgt1000\n",
    "mv.setoutput(mv.png_output(output_width=1000, output_name=\"/home/jovyan/Metview/superficie_BAM_\"+anl_date))\n",
    "mv.plot(AMS,\n",
    "        prmsl, prmsl_grid,\n",
    "                 synop, obs_grid,\n",
    "                 metar, obs_grid,\n",
    "                 thck, thck_grid\n",
    "                )"
   ]
  },
  {
   "cell_type": "code",
   "execution_count": 6,
   "id": "b38bd711-7c84-4eeb-9459-9d770e22ea31",
   "metadata": {
    "editable": true,
    "slideshow": {
     "slide_type": ""
    },
    "tags": []
   },
   "outputs": [
    {
     "data": {
      "application/vnd.jupyter.widget-view+json": {
       "model_id": "f71dd49a1a2443fe8719a3616a96b07c",
       "version_major": 2,
       "version_minor": 0
      },
      "text/plain": [
       "Image(value=b'', layout=\"Layout(visibility='hidden')\")"
      ]
     },
     "metadata": {},
     "output_type": "display_data"
    },
    {
     "data": {
      "application/vnd.jupyter.widget-view+json": {
       "model_id": "371b10ce78a64dd9997f7d0b2874fa8c",
       "version_major": 2,
       "version_minor": 0
      },
      "text/plain": [
       "Label(value='Generating plots....')"
      ]
     },
     "metadata": {},
     "output_type": "display_data"
    }
   ],
   "source": [
    "mv.setoutput(\"jupyter\")\n",
    "    \n",
    "mv.plot(AMS,\n",
    "        prmsl, prmsl_grid,\n",
    "                 synop, obs_grid,\n",
    "                 metar, obs_grid,\n",
    "                 thck, thck_grid\n",
    "                )"
   ]
  }
 ],
 "metadata": {
  "kernelspec": {
   "display_name": "Python (Geospatial)",
   "language": "python",
   "name": "geospatial"
  },
  "language_info": {
   "codemirror_mode": {
    "name": "ipython",
    "version": 3
   },
   "file_extension": ".py",
   "mimetype": "text/x-python",
   "name": "python",
   "nbconvert_exporter": "python",
   "pygments_lexer": "ipython3",
   "version": "3.11.6"
  }
 },
 "nbformat": 4,
 "nbformat_minor": 5
}
