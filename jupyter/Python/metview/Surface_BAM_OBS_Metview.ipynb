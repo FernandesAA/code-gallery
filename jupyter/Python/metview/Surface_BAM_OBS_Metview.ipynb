{
 "cells": [
  {
   "cell_type": "code",
   "execution_count": 1,
   "id": "bda5b67b-d1a7-492d-ad0a-07cd20b44279",
   "metadata": {
    "editable": true,
    "execution": {
     "iopub.execute_input": "2025-02-21T13:59:13.403752Z",
     "iopub.status.busy": "2025-02-21T13:59:13.403339Z",
     "iopub.status.idle": "2025-02-21T13:59:15.572447Z",
     "shell.execute_reply": "2025-02-21T13:59:15.570984Z",
     "shell.execute_reply.started": "2025-02-21T13:59:13.403713Z"
    },
    "slideshow": {
     "slide_type": ""
    },
    "tags": []
   },
   "outputs": [],
   "source": [
    "import metview as mv\n",
    "import numpy as np\n",
    "import matplotlib.pyplot as plt"
   ]
  },
  {
   "cell_type": "code",
   "execution_count": 15,
   "id": "d4b9817d-c983-4fd1-a45c-fc70dc64e5aa",
   "metadata": {
    "execution": {
     "iopub.execute_input": "2025-02-21T14:02:22.081355Z",
     "iopub.status.busy": "2025-02-21T14:02:22.080108Z",
     "iopub.status.idle": "2025-02-21T14:02:26.833504Z",
     "shell.execute_reply": "2025-02-21T14:02:26.832234Z",
     "shell.execute_reply.started": "2025-02-21T14:02:22.081282Z"
    }
   },
   "outputs": [
    {
     "name": "stdout",
     "output_type": "stream",
     "text": [
      "Python - INFO   - 20250221.140226 - Cannot open file /NOHOME/System/Preferences/General (No such file or directory )\n",
      "\n"
     ]
    },
    {
     "data": {
      "text/html": [
       "  \n",
       "                <table>\n",
       "                <tr><th>parameter</th><th>typeOfLevel</th><th>level</th><th>date</th><th>time</th><th>step</th><th>number</th><th>paramId</th><th>class</th><th>stream</th><th>type</th><th>experimentVersionNumber</th></tr>\n",
       "                <tr><th style='text-align: right;'>2t</th><td style='text-align: left;'>heightAboveGround</td><td style='text-align: left;'>2</td><td style='text-align: left;'>20250215</td><td style='text-align: left;'>0</td><td style='text-align: left;'>0</td><td style='text-align: left;'>None</td><td style='text-align: left;'>167</td><td style='text-align: left;'>None</td><td style='text-align: left;'>None</td><td style='text-align: left;'>None</td><td style='text-align: left;'>None</td></tr><tr><th style='text-align: right;'>gh</th><td style='text-align: left;'>isobaricInhPa</td><td style='text-align: left;'>3,10,...</td><td style='text-align: left;'>20250215</td><td style='text-align: left;'>0</td><td style='text-align: left;'>0</td><td style='text-align: left;'>None</td><td style='text-align: left;'>156</td><td style='text-align: left;'>None</td><td style='text-align: left;'>None</td><td style='text-align: left;'>None</td><td style='text-align: left;'>None</td></tr><tr><th style='text-align: right;'>lsm</th><td style='text-align: left;'>surface</td><td style='text-align: left;'>0</td><td style='text-align: left;'>20250215</td><td style='text-align: left;'>0</td><td style='text-align: left;'>0</td><td style='text-align: left;'>None</td><td style='text-align: left;'>172</td><td style='text-align: left;'>None</td><td style='text-align: left;'>None</td><td style='text-align: left;'>None</td><td style='text-align: left;'>None</td></tr><tr><th style='text-align: right;'>orog</th><td style='text-align: left;'>surface</td><td style='text-align: left;'>0</td><td style='text-align: left;'>20250215</td><td style='text-align: left;'>0</td><td style='text-align: left;'>0</td><td style='text-align: left;'>None</td><td style='text-align: left;'>228002</td><td style='text-align: left;'>None</td><td style='text-align: left;'>None</td><td style='text-align: left;'>None</td><td style='text-align: left;'>None</td></tr><tr><th style='text-align: right;'>prmsl</th><td style='text-align: left;'>surface</td><td style='text-align: left;'>0</td><td style='text-align: left;'>20250215</td><td style='text-align: left;'>0</td><td style='text-align: left;'>0</td><td style='text-align: left;'>None</td><td style='text-align: left;'>260074</td><td style='text-align: left;'>None</td><td style='text-align: left;'>None</td><td style='text-align: left;'>None</td><td style='text-align: left;'>None</td></tr><tr><th style='text-align: right;'>pwat</th><td style='text-align: left;'>surface</td><td style='text-align: left;'>0</td><td style='text-align: left;'>20250215</td><td style='text-align: left;'>0</td><td style='text-align: left;'>0</td><td style='text-align: left;'>None</td><td style='text-align: left;'>3054</td><td style='text-align: left;'>None</td><td style='text-align: left;'>None</td><td style='text-align: left;'>None</td><td style='text-align: left;'>None</td></tr><tr><th style='text-align: right;'>r</th><td style='text-align: left;'>surface<br>isobaricInhPa<br></td><td style='text-align: left;'>0<br>3,10,...<br></td><td style='text-align: left;'>20250215</td><td style='text-align: left;'>0</td><td style='text-align: left;'>0</td><td style='text-align: left;'>None</td><td style='text-align: left;'>157</td><td style='text-align: left;'>None</td><td style='text-align: left;'>None</td><td style='text-align: left;'>None</td><td style='text-align: left;'>None</td></tr><tr><th style='text-align: right;'>sp</th><td style='text-align: left;'>surface</td><td style='text-align: left;'>0</td><td style='text-align: left;'>20250215</td><td style='text-align: left;'>0</td><td style='text-align: left;'>0</td><td style='text-align: left;'>None</td><td style='text-align: left;'>134</td><td style='text-align: left;'>None</td><td style='text-align: left;'>None</td><td style='text-align: left;'>None</td><td style='text-align: left;'>None</td></tr><tr><th style='text-align: right;'>t</th><td style='text-align: left;'>surface<br>isobaricInhPa<br></td><td style='text-align: left;'>0<br>3,10,...<br></td><td style='text-align: left;'>20250215</td><td style='text-align: left;'>0</td><td style='text-align: left;'>0</td><td style='text-align: left;'>None</td><td style='text-align: left;'>130</td><td style='text-align: left;'>None</td><td style='text-align: left;'>None</td><td style='text-align: left;'>None</td><td style='text-align: left;'>None</td></tr><tr><th style='text-align: right;'>u</th><td style='text-align: left;'>surface<br>isobaricInhPa<br></td><td style='text-align: left;'>0<br>3,10,...<br></td><td style='text-align: left;'>20250215</td><td style='text-align: left;'>0</td><td style='text-align: left;'>0</td><td style='text-align: left;'>None</td><td style='text-align: left;'>131</td><td style='text-align: left;'>None</td><td style='text-align: left;'>None</td><td style='text-align: left;'>None</td><td style='text-align: left;'>None</td></tr><tr><th style='text-align: right;'>v</th><td style='text-align: left;'>surface<br>isobaricInhPa<br></td><td style='text-align: left;'>0<br>3,10,...<br></td><td style='text-align: left;'>20250215</td><td style='text-align: left;'>0</td><td style='text-align: left;'>0</td><td style='text-align: left;'>None</td><td style='text-align: left;'>132</td><td style='text-align: left;'>None</td><td style='text-align: left;'>None</td><td style='text-align: left;'>None</td><td style='text-align: left;'>None</td></tr><tr><th style='text-align: right;'>w</th><td style='text-align: left;'>isobaricInhPa</td><td style='text-align: left;'>3,10,...</td><td style='text-align: left;'>20250215</td><td style='text-align: left;'>0</td><td style='text-align: left;'>0</td><td style='text-align: left;'>None</td><td style='text-align: left;'>135</td><td style='text-align: left;'>None</td><td style='text-align: left;'>None</td><td style='text-align: left;'>None</td><td style='text-align: left;'>None</td></tr>\n",
       "                </table>"
      ],
      "text/plain": [
       "<IPython.core.display.HTML object>"
      ]
     },
     "execution_count": 15,
     "metadata": {},
     "output_type": "execute_result"
    }
   ],
   "source": [
    "# import time\n",
    "\n",
    "# anl_date=\"2025021500\"\n",
    "\n",
    "# # create from GRIB file\n",
    "# fs = mv.read(\"/home/jovyan/Metview/Dados/bam/GPOSNMC\"+anl_date+anl_date+\"P.grib2\")\n",
    "# fs.describe()\n",
    "\n",
    "import time\n",
    "\n",
    "anl_date=\"2025021500\"\n",
    "\n",
    "# create from GRIB file\n",
    "fs = mv.download(url=\"https://ftp.cptec.inpe.br/modelos/tempo/BAM/TQ0666L064/recortes/pos/2025/02/15/00/GPOSNMC\"+anl_date+anl_date+\"P.grib2\")\n",
    "fs.describe()"
   ]
  },
  {
   "cell_type": "code",
   "execution_count": 16,
   "id": "1c35655a-52ca-4dae-9e16-573d718506b2",
   "metadata": {
    "execution": {
     "iopub.execute_input": "2025-02-21T14:02:29.801537Z",
     "iopub.status.busy": "2025-02-21T14:02:29.800853Z",
     "iopub.status.idle": "2025-02-21T14:02:29.833003Z",
     "shell.execute_reply": "2025-02-21T14:02:29.831598Z",
     "shell.execute_reply.started": "2025-02-21T14:02:29.801483Z"
    }
   },
   "outputs": [],
   "source": [
    "\n",
    "prmsl = fs.select(shortName=\"prmsl\")\n",
    "hgt1000 = fs.select(shortName=\"gh\", level=1000)\n",
    "hgt500 = fs.select(shortName=\"gh\", level=500)\n"
   ]
  },
  {
   "cell_type": "code",
   "execution_count": 17,
   "id": "5be8bf0b-bb58-44be-b5d2-d582dcdb8ac7",
   "metadata": {
    "execution": {
     "iopub.execute_input": "2025-02-21T14:02:31.179602Z",
     "iopub.status.busy": "2025-02-21T14:02:31.178900Z",
     "iopub.status.idle": "2025-02-21T14:02:31.370999Z",
     "shell.execute_reply": "2025-02-21T14:02:31.369399Z",
     "shell.execute_reply.started": "2025-02-21T14:02:31.179548Z"
    }
   },
   "outputs": [
    {
     "name": "stdout",
     "output_type": "stream",
     "text": [
      "Python - INFO   - 20250221.140231 - Cannot open file /NOHOME/System/Preferences/General (No such file or directory )\n",
      "\n",
      "https://ftp.cptec.inpe.br/modelos/tempo/CRNG/techtalk/bufr/\n",
      "Python - INFO   - 20250221.140231 - Cannot open file /NOHOME/System/Preferences/General (No such file or directory )\n",
      "\n"
     ]
    }
   ],
   "source": [
    "synop = mv.download(url = \"https://ftp.cptec.inpe.br/modelos/tempo/CRNG/techtalk/bufr/\"+anl_date+\"00_synop.bufr\")\n",
    "metar = mv.download(url = \"https://ftp.cptec.inpe.br/modelos/tempo/CRNG/techtalk/bufr/\"+anl_date+\"00_metar.bufr\")\n",
    "\n",
    "print (\"https://ftp.cptec.inpe.br/modelos/tempo/CRNG/techtalk/bufr/\")"
   ]
  },
  {
   "cell_type": "code",
   "execution_count": 19,
   "id": "28d90c0b-914e-4b07-9ecf-1a0f2a6b1fe2",
   "metadata": {
    "execution": {
     "iopub.execute_input": "2025-02-21T14:02:44.555286Z",
     "iopub.status.busy": "2025-02-21T14:02:44.554622Z",
     "iopub.status.idle": "2025-02-21T14:02:46.017980Z",
     "shell.execute_reply": "2025-02-21T14:02:46.016463Z",
     "shell.execute_reply.started": "2025-02-21T14:02:44.555232Z"
    }
   },
   "outputs": [],
   "source": [
    "\n",
    "#prmsl.plot()\n",
    "\n",
    "area = [-60,-120,20,0] # S,W,N,E\n",
    "AMS = mv.geoview(\n",
    "    map_area_definition = \"corners\",\n",
    "    area                = area,\n",
    "    coastlines = mv.mcoast(\n",
    "        map_coastline_land_shade        = \"on\",\n",
    "        map_coastline_land_shade_colour = \"#eeeeee\",\n",
    "        map_grid_latitude_increment     = 10,\n",
    "        map_grid_longitude_increment    = 10)\n",
    "    )\n",
    "\n",
    "auto_style = mv.mcont(contour_automatic_setting = \"ecmwf\")\n",
    "\n",
    "obs_grid = mv.mobs (\n",
    "        obs_colour                     = \" black\",\n",
    "        obs_size                       = 0.2,\n",
    "        obs_ring_size                  = 0.025,\n",
    "        obs_station_ring               = \"off\"\n",
    "        )\n",
    "\n",
    "prmsl_grid = mv.mcont(\n",
    "    legend                         = \"on\",\n",
    "    contour_line_colour            = \"charcoal\",\n",
    "    contour_highlight_colour       = \"charcoal\",\n",
    "    contour_highlight              = \"on\",\n",
    "    contour_level_selection_type   = \"interval\",\n",
    "    contour_interval               = 4,\n",
    "    contour_label_height           = 0.6,\n",
    "    contour_shade                  = \"off\",\n",
    "    contour_shade_method           = \"area_fill\",\n",
    "    contour_shade_max_level_colour = \"red\",\n",
    "    contour_shade_min_level_colour = \"green\",\n",
    "    contour_shade_colour_direction = \"clockwise\"\n",
    "            )\n",
    "\n",
    "thck_grid = mv.mcont(\n",
    "    legend                         = \"on\",\n",
    "    contour_line_colour            = \"charcoal\",\n",
    "    contour_highlight_colour       = \"charcoal\",\n",
    "    contour_highlight_style        = \"dash\",\n",
    "    contour_highlight              = \"on\",\n",
    "    contour_line_style             = \"dash\",\n",
    "    contour_level_selection_type   = \"interval\",\n",
    "    contour_interval               = 40,\n",
    "        contour_label_height           = 0.6,\n",
    "    contour_shade                  = \"off\",\n",
    "    contour_shade_method           = \"area_fill\",\n",
    "    contour_shade_max_level_colour = \"red\",\n",
    "    contour_shade_min_level_colour = \"green\",\n",
    "    contour_shade_colour_direction = \"clockwise\"\n",
    "            )\n",
    "\n",
    "text_grid = mv.mtext(\n",
    "    text_font_size                 = 1\n",
    "        )\n",
    "\n",
    "thck = hgt500 - hgt1000\n",
    "mv.setoutput(mv.png_output(output_width=1000, output_name=\"/home/jovyan/Metview/superficie_BAM_\"+anl_date))\n",
    "mv.plot(AMS,\n",
    "        prmsl, prmsl_grid,\n",
    "                 synop, obs_grid,\n",
    "                 metar, obs_grid,\n",
    "                 thck, thck_grid\n",
    "                )"
   ]
  },
  {
   "cell_type": "code",
   "execution_count": 20,
   "id": "b38bd711-7c84-4eeb-9459-9d770e22ea31",
   "metadata": {
    "editable": true,
    "execution": {
     "iopub.execute_input": "2025-02-21T14:02:51.692854Z",
     "iopub.status.busy": "2025-02-21T14:02:51.692156Z",
     "iopub.status.idle": "2025-02-21T14:02:52.923160Z",
     "shell.execute_reply": "2025-02-21T14:02:52.921751Z",
     "shell.execute_reply.started": "2025-02-21T14:02:51.692803Z"
    },
    "slideshow": {
     "slide_type": ""
    },
    "tags": []
   },
   "outputs": [
    {
     "data": {
      "application/vnd.jupyter.widget-view+json": {
       "model_id": "9ebab458f99a44bc9bd691fa0d07a3e1",
       "version_major": 2,
       "version_minor": 0
      },
      "text/plain": [
       "Image(value=b'', layout=\"Layout(visibility='hidden')\")"
      ]
     },
     "metadata": {},
     "output_type": "display_data"
    },
    {
     "data": {
      "application/vnd.jupyter.widget-view+json": {
       "model_id": "7e9c44fe4d3e4da3b356f32a26ba9018",
       "version_major": 2,
       "version_minor": 0
      },
      "text/plain": [
       "Label(value='Generating plots....')"
      ]
     },
     "metadata": {},
     "output_type": "display_data"
    }
   ],
   "source": [
    "mv.setoutput(\"jupyter\")\n",
    "    \n",
    "mv.plot(AMS,\n",
    "        prmsl, prmsl_grid,\n",
    "                 synop, obs_grid,\n",
    "                 metar, obs_grid,\n",
    "                 thck, thck_grid\n",
    "                )"
   ]
  },
  {
   "cell_type": "code",
   "execution_count": null,
   "id": "b9ad894e-b6aa-4bc0-b666-02e6e37dc363",
   "metadata": {},
   "outputs": [],
   "source": []
  }
 ],
 "metadata": {
  "kernelspec": {
   "display_name": "Python (Geospatial)",
   "language": "python",
   "name": "geospatial"
  },
  "language_info": {
   "codemirror_mode": {
    "name": "ipython",
    "version": 3
   },
   "file_extension": ".py",
   "mimetype": "text/x-python",
   "name": "python",
   "nbconvert_exporter": "python",
   "pygments_lexer": "ipython3",
   "version": "3.11.6"
  }
 },
 "nbformat": 4,
 "nbformat_minor": 5
}
