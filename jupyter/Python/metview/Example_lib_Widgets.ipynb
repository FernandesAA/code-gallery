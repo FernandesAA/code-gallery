{
 "cells": [
  {
   "cell_type": "code",
   "execution_count": 1,
   "id": "d7f0a284",
   "metadata": {},
   "outputs": [],
   "source": [
    "#conda create -n cptec python=3.10\n",
    "\n",
    "#conda activate cptec\n",
    "#conda install -c conda-forge xarray matplotlib pycurl cfgrib netcdf4 pynio xarray matplotlib pycurl cfgrib netcdf4 pynio dask\n",
    "#conda install -c anaconda ipykernel"
   ]
  },
  {
   "cell_type": "code",
   "execution_count": 2,
   "id": "3048d811",
   "metadata": {},
   "outputs": [],
   "source": [
    "# Import para os modelos disponiveis\n",
    "# CPTEC_BAM, CPTEC_WRF, CPTEC_ETA, CPTEC_GFS\n",
    "\n",
    "import cptecmodel.CPTEC_WRF as WRF\n",
    "import cptecmodel.CPTEC_Widgets as WID"
   ]
  },
  {
   "cell_type": "code",
   "execution_count": 3,
   "id": "784331be",
   "metadata": {},
   "outputs": [
    {
     "name": "stdout",
     "output_type": "stream",
     "text": [
      "\n",
      "#### US National Weather Service - NCEP (WMC) (ams_07km) #####\n",
      "\n",
      "Forecast data available for reading between 20250211 and 20250221.\n",
      "\n",
      "Surface variables: t2m, u10m, v10m, slp, psfc, precip\n",
      "                   terrain, sbcape, sbcin, pw.\n",
      "Level variables:   t, u, v, rh, g, omega.\n",
      "\n",
      "levels (hPa): 1000 975 950 925 900 875 850 825 800 775 750 700 650\n",
      "              600 550 500 450 400 350 300 250 200 150 100 50.\n",
      "\n",
      "Frequency: hourly frequency [0,1,2,...,22,23].\n",
      "\n"
     ]
    }
   ],
   "source": [
    "# Durante a inicialização do construtor informações sobre os dados são exibidas\n",
    "# Entre elas informações de variaveis, niveis e frequência disponiveis para consulta\n",
    "\n",
    "wrf = WRF.model()"
   ]
  },
  {
   "cell_type": "code",
   "execution_count": 4,
   "id": "c38a9f18",
   "metadata": {},
   "outputs": [
    {
     "data": {
      "application/vnd.jupyter.widget-view+json": {
       "model_id": "da27e7bcbf6d4c8284612f5f34a1943e",
       "version_major": 2,
       "version_minor": 0
      },
      "text/plain": [
       "Tab(children=(HBox(children=(VBox(children=(RadioButtons(description='Datas', options=(Timestamp('2025-02-21 0…"
      ]
     },
     "metadata": {},
     "output_type": "display_data"
    },
    {
     "data": {
      "text/plain": [
       "<cptecmodel.CPTEC_Widgets.show_menu at 0x7f6b73180ad0>"
      ]
     },
     "execution_count": 4,
     "metadata": {},
     "output_type": "execute_result"
    }
   ],
   "source": [
    "# Chamada da Interface Widget\n",
    "WID.show_menu(wrf)"
   ]
  },
  {
   "cell_type": "code",
   "execution_count": 9,
   "id": "b263b557",
   "metadata": {},
   "outputs": [
    {
     "name": "stdout",
     "output_type": "stream",
     "text": [
      "-rw-r--r-- 1 jovyan users 185428771 Feb 21 01:06 output.csv\n",
      "-57.90137,269.32605,850.0,84.0,86.0,88.0,91.0,90.0,90.0,90.0,88.0,87.0,85.0,83.0,82.0,80.0,80.0,80.0,80.0,82.0,84.0,86.0,86.0,86.0,85.0,87.0,88.0,89.0\n"
     ]
    }
   ],
   "source": [
    "!ls -ltr *csv\n",
    "!head -2 output.csv | tail -1"
   ]
  }
 ],
 "metadata": {
  "kernelspec": {
   "display_name": "Python 3 (ipykernel)",
   "language": "python",
   "name": "python3"
  },
  "language_info": {
   "codemirror_mode": {
    "name": "ipython",
    "version": 3
   },
   "file_extension": ".py",
   "mimetype": "text/x-python",
   "name": "python",
   "nbconvert_exporter": "python",
   "pygments_lexer": "ipython3",
   "version": "3.11.6"
  }
 },
 "nbformat": 4,
 "nbformat_minor": 5
}
