{
 "cells": [
  {
   "cell_type": "code",
   "execution_count": 1,
   "id": "d7f0a284",
   "metadata": {},
   "outputs": [],
   "source": [
    "#conda create -n cptec python=3.10\n",
    "\n",
    "#conda activate cptec\n",
    "#conda install -c conda-forge xarray matplotlib pycurl cfgrib netcdf4 pynio xarray matplotlib pycurl cfgrib netcdf4 pynio dask\n",
    "#conda install -c anaconda ipykernel"
   ]
  },
  {
   "cell_type": "code",
   "execution_count": 6,
   "id": "3048d811",
   "metadata": {
    "execution": {
     "iopub.execute_input": "2025-02-21T13:49:39.343654Z",
     "iopub.status.busy": "2025-02-21T13:49:39.342971Z",
     "iopub.status.idle": "2025-02-21T13:49:39.351235Z",
     "shell.execute_reply": "2025-02-21T13:49:39.349623Z",
     "shell.execute_reply.started": "2025-02-21T13:49:39.343597Z"
    }
   },
   "outputs": [],
   "source": [
    "# Import para os modelos disponiveis\n",
    "# CPTEC_BAM, CPTEC_WRF, CPTEC_ETA, CPTEC_GFS\n",
    "\n",
    "import cptecmodel.CPTEC_WRF as WRF\n",
    "import cptecmodel.CPTEC_Widgets as WID"
   ]
  },
  {
   "cell_type": "code",
   "execution_count": 7,
   "id": "784331be",
   "metadata": {
    "execution": {
     "iopub.execute_input": "2025-02-21T13:49:40.454201Z",
     "iopub.status.busy": "2025-02-21T13:49:40.453558Z",
     "iopub.status.idle": "2025-02-21T13:49:40.465091Z",
     "shell.execute_reply": "2025-02-21T13:49:40.463594Z",
     "shell.execute_reply.started": "2025-02-21T13:49:40.454149Z"
    }
   },
   "outputs": [
    {
     "name": "stdout",
     "output_type": "stream",
     "text": [
      "\n",
      "#### US National Weather Service - NCEP (WMC) (ams_07km) #####\n",
      "\n",
      "Forecast data available for reading between 20250211 and 20250221.\n",
      "\n",
      "Surface variables: t2m, u10m, v10m, slp, psfc, precip\n",
      "                   terrain, sbcape, sbcin, pw.\n",
      "Level variables:   t, u, v, rh, g, omega.\n",
      "\n",
      "levels (hPa): 1000 975 950 925 900 875 850 825 800 775 750 700 650\n",
      "              600 550 500 450 400 350 300 250 200 150 100 50.\n",
      "\n",
      "Frequency: hourly frequency [0,1,2,...,22,23].\n",
      "\n"
     ]
    }
   ],
   "source": [
    "# Durante a inicialização do construtor informações sobre os dados são exibidas\n",
    "# Entre elas informações de variaveis, niveis e frequência disponiveis para consulta\n",
    "\n",
    "wrf = WRF.model()"
   ]
  },
  {
   "cell_type": "code",
   "execution_count": 8,
   "id": "c38a9f18",
   "metadata": {
    "execution": {
     "iopub.execute_input": "2025-02-21T13:49:43.455258Z",
     "iopub.status.busy": "2025-02-21T13:49:43.454608Z",
     "iopub.status.idle": "2025-02-21T13:49:43.574847Z",
     "shell.execute_reply": "2025-02-21T13:49:43.573771Z",
     "shell.execute_reply.started": "2025-02-21T13:49:43.455207Z"
    }
   },
   "outputs": [
    {
     "data": {
      "application/vnd.jupyter.widget-view+json": {
       "model_id": "5ffd02dee35e4303a4e5cb4579ef6d68",
       "version_major": 2,
       "version_minor": 0
      },
      "text/plain": [
       "Tab(children=(HBox(children=(VBox(children=(RadioButtons(description='Datas', options=(Timestamp('2025-02-21 0…"
      ]
     },
     "metadata": {},
     "output_type": "display_data"
    },
    {
     "data": {
      "text/plain": [
       "<cptecmodel.CPTEC_Widgets.show_menu at 0x7fa5a8aec050>"
      ]
     },
     "execution_count": 8,
     "metadata": {},
     "output_type": "execute_result"
    }
   ],
   "source": [
    "# Chamada da Interface Widget\n",
    "WID.show_menu(wrf)"
   ]
  },
  {
   "cell_type": "code",
   "execution_count": 10,
   "id": "b263b557",
   "metadata": {
    "execution": {
     "iopub.execute_input": "2025-02-21T13:55:42.820550Z",
     "iopub.status.busy": "2025-02-21T13:55:42.819834Z",
     "iopub.status.idle": "2025-02-21T13:55:43.417089Z",
     "shell.execute_reply": "2025-02-21T13:55:43.414685Z",
     "shell.execute_reply.started": "2025-02-21T13:55:42.820495Z"
    }
   },
   "outputs": [
    {
     "name": "stdout",
     "output_type": "stream",
     "text": [
      "-rw-r--r-- 1 jovyan users 285 Feb 21 13:55 output.csv\n",
      "latitude,longitude,level,2025-02-21 00:00:00,2025-02-21 01:00:00,2025-02-21 02:00:00,2025-02-21 03:00:00,2025-02-21 04:00:00,2025-02-21 05:00:00,2025-02-21 06:00:00,2025-02-21 07:00:00,2025-02-21 08:00:00\n",
      "-28.01136999999988,269.32605,875.0,90.0,91.0,89.0,91.0,90.0,92.0,91.0,91.0,91.0\n"
     ]
    }
   ],
   "source": [
    "!ls -ltr *csv\n",
    "!head -2 output.csv | tail -10"
   ]
  },
  {
   "cell_type": "code",
   "execution_count": null,
   "id": "0135a16a-6541-4ee8-9e35-653d05d78102",
   "metadata": {},
   "outputs": [],
   "source": []
  }
 ],
 "metadata": {
  "kernelspec": {
   "display_name": "Python 3 (ipykernel)",
   "language": "python",
   "name": "python3"
  },
  "language_info": {
   "codemirror_mode": {
    "name": "ipython",
    "version": 3
   },
   "file_extension": ".py",
   "mimetype": "text/x-python",
   "name": "python",
   "nbconvert_exporter": "python",
   "pygments_lexer": "ipython3",
   "version": "3.11.6"
  }
 },
 "nbformat": 4,
 "nbformat_minor": 5
}
