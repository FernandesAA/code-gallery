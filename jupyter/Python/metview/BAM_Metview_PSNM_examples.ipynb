{
 "cells": [
  {
   "cell_type": "code",
   "execution_count": 47,
   "id": "1c969d2a-a062-42a3-b866-43bf1d6e1ce6",
   "metadata": {},
   "outputs": [],
   "source": [
    "import metview as mv\n",
    "\n",
    "def build_layout():\n",
    "    \n",
    "    #PageDescription\n",
    "    \n",
    "    _Geographical_View_ = mv.geoview(\n",
    "        map_projection=\"cylindrical\",\n",
    "        map_area_definition=\"corners\",\n",
    "        area=[-52.8595, -83.045, 13.982, -20.0063]\n",
    "        )\n",
    "    \n",
    "    _Page_ = mv.plot_page(\n",
    "        top=0,\n",
    "        bottom=100,\n",
    "        left=0,\n",
    "        right=100,\n",
    "        view=_Geographical_View_\n",
    "        )\n",
    "    \n",
    "    # SuperPage description\n",
    "    \n",
    "    dw = mv.plot_superpage(\n",
    "        layout_size=\"A4\",\n",
    "        layout_orientation=\"LANDSCAPE\",\n",
    "        custom_width=29.7,\n",
    "        custom_height=21.0,\n",
    "        pages=[_Page_]\n",
    "        )\n",
    "    return dw\n"
   ]
  },
  {
   "cell_type": "code",
   "execution_count": 15,
   "id": "ee26a34f-50d1-456b-87a2-bf66a6e007ed",
   "metadata": {},
   "outputs": [],
   "source": [
    "bam_url = 'https://ftp.cptec.inpe.br/modelos/tempo/BAM/TQ0666L064/recortes/pos/2025/02/19/00/GPOSNMC20250219002025021900P.grib2'"
   ]
  },
  {
   "cell_type": "code",
   "execution_count": 16,
   "id": "66b86f0d-1be2-4967-a968-157d7313171e",
   "metadata": {},
   "outputs": [],
   "source": [
    "fs = mv.download(url=bam_url)"
   ]
  },
  {
   "cell_type": "code",
   "execution_count": 17,
   "id": "13d1a517-0916-4ac0-9a5d-b7c527a7b2db",
   "metadata": {},
   "outputs": [
    {
     "data": {
      "text/html": [
       "  \n",
       "                <table>\n",
       "                <tr><th>parameter</th><th>typeOfLevel</th><th>level</th><th>date</th><th>time</th><th>step</th><th>number</th><th>paramId</th><th>class</th><th>stream</th><th>type</th><th>experimentVersionNumber</th></tr>\n",
       "                <tr><th style='text-align: right;'>2t</th><td style='text-align: left;'>heightAboveGround</td><td style='text-align: left;'>2</td><td style='text-align: left;'>20250219</td><td style='text-align: left;'>0</td><td style='text-align: left;'>0</td><td style='text-align: left;'>None</td><td style='text-align: left;'>167</td><td style='text-align: left;'>None</td><td style='text-align: left;'>None</td><td style='text-align: left;'>None</td><td style='text-align: left;'>None</td></tr><tr><th style='text-align: right;'>gh</th><td style='text-align: left;'>isobaricInhPa</td><td style='text-align: left;'>3,10,...</td><td style='text-align: left;'>20250219</td><td style='text-align: left;'>0</td><td style='text-align: left;'>0</td><td style='text-align: left;'>None</td><td style='text-align: left;'>156</td><td style='text-align: left;'>None</td><td style='text-align: left;'>None</td><td style='text-align: left;'>None</td><td style='text-align: left;'>None</td></tr><tr><th style='text-align: right;'>lsm</th><td style='text-align: left;'>surface</td><td style='text-align: left;'>0</td><td style='text-align: left;'>20250219</td><td style='text-align: left;'>0</td><td style='text-align: left;'>0</td><td style='text-align: left;'>None</td><td style='text-align: left;'>172</td><td style='text-align: left;'>None</td><td style='text-align: left;'>None</td><td style='text-align: left;'>None</td><td style='text-align: left;'>None</td></tr><tr><th style='text-align: right;'>orog</th><td style='text-align: left;'>surface</td><td style='text-align: left;'>0</td><td style='text-align: left;'>20250219</td><td style='text-align: left;'>0</td><td style='text-align: left;'>0</td><td style='text-align: left;'>None</td><td style='text-align: left;'>228002</td><td style='text-align: left;'>None</td><td style='text-align: left;'>None</td><td style='text-align: left;'>None</td><td style='text-align: left;'>None</td></tr><tr><th style='text-align: right;'>prmsl</th><td style='text-align: left;'>surface</td><td style='text-align: left;'>0</td><td style='text-align: left;'>20250219</td><td style='text-align: left;'>0</td><td style='text-align: left;'>0</td><td style='text-align: left;'>None</td><td style='text-align: left;'>260074</td><td style='text-align: left;'>None</td><td style='text-align: left;'>None</td><td style='text-align: left;'>None</td><td style='text-align: left;'>None</td></tr><tr><th style='text-align: right;'>pwat</th><td style='text-align: left;'>surface</td><td style='text-align: left;'>0</td><td style='text-align: left;'>20250219</td><td style='text-align: left;'>0</td><td style='text-align: left;'>0</td><td style='text-align: left;'>None</td><td style='text-align: left;'>3054</td><td style='text-align: left;'>None</td><td style='text-align: left;'>None</td><td style='text-align: left;'>None</td><td style='text-align: left;'>None</td></tr><tr><th style='text-align: right;'>r</th><td style='text-align: left;'>surface<br>isobaricInhPa<br></td><td style='text-align: left;'>0<br>3,10,...<br></td><td style='text-align: left;'>20250219</td><td style='text-align: left;'>0</td><td style='text-align: left;'>0</td><td style='text-align: left;'>None</td><td style='text-align: left;'>157</td><td style='text-align: left;'>None</td><td style='text-align: left;'>None</td><td style='text-align: left;'>None</td><td style='text-align: left;'>None</td></tr><tr><th style='text-align: right;'>sp</th><td style='text-align: left;'>surface</td><td style='text-align: left;'>0</td><td style='text-align: left;'>20250219</td><td style='text-align: left;'>0</td><td style='text-align: left;'>0</td><td style='text-align: left;'>None</td><td style='text-align: left;'>134</td><td style='text-align: left;'>None</td><td style='text-align: left;'>None</td><td style='text-align: left;'>None</td><td style='text-align: left;'>None</td></tr><tr><th style='text-align: right;'>t</th><td style='text-align: left;'>surface<br>isobaricInhPa<br></td><td style='text-align: left;'>0<br>3,10,...<br></td><td style='text-align: left;'>20250219</td><td style='text-align: left;'>0</td><td style='text-align: left;'>0</td><td style='text-align: left;'>None</td><td style='text-align: left;'>130</td><td style='text-align: left;'>None</td><td style='text-align: left;'>None</td><td style='text-align: left;'>None</td><td style='text-align: left;'>None</td></tr><tr><th style='text-align: right;'>u</th><td style='text-align: left;'>surface<br>isobaricInhPa<br></td><td style='text-align: left;'>0<br>3,10,...<br></td><td style='text-align: left;'>20250219</td><td style='text-align: left;'>0</td><td style='text-align: left;'>0</td><td style='text-align: left;'>None</td><td style='text-align: left;'>131</td><td style='text-align: left;'>None</td><td style='text-align: left;'>None</td><td style='text-align: left;'>None</td><td style='text-align: left;'>None</td></tr><tr><th style='text-align: right;'>v</th><td style='text-align: left;'>surface<br>isobaricInhPa<br></td><td style='text-align: left;'>0<br>3,10,...<br></td><td style='text-align: left;'>20250219</td><td style='text-align: left;'>0</td><td style='text-align: left;'>0</td><td style='text-align: left;'>None</td><td style='text-align: left;'>132</td><td style='text-align: left;'>None</td><td style='text-align: left;'>None</td><td style='text-align: left;'>None</td><td style='text-align: left;'>None</td></tr><tr><th style='text-align: right;'>w</th><td style='text-align: left;'>isobaricInhPa</td><td style='text-align: left;'>3,10,...</td><td style='text-align: left;'>20250219</td><td style='text-align: left;'>0</td><td style='text-align: left;'>0</td><td style='text-align: left;'>None</td><td style='text-align: left;'>135</td><td style='text-align: left;'>None</td><td style='text-align: left;'>None</td><td style='text-align: left;'>None</td><td style='text-align: left;'>None</td></tr>\n",
       "                </table>"
      ],
      "text/plain": [
       "<IPython.core.display.HTML object>"
      ]
     },
     "execution_count": 17,
     "metadata": {},
     "output_type": "execute_result"
    }
   ],
   "source": [
    "fs.describe()"
   ]
  },
  {
   "cell_type": "code",
   "execution_count": 26,
   "id": "62a7bab4-eeaf-4822-91a7-bea8a301c9d9",
   "metadata": {},
   "outputs": [
    {
     "data": {
      "text/html": [
       "  \n",
       "                <table>\n",
       "                <tr><th>parameter</th><th>typeOfLevel</th><th>level</th><th>date</th><th>time</th><th>step</th><th>number</th><th>paramId</th><th>class</th><th>stream</th><th>type</th><th>experimentVersionNumber</th></tr>\n",
       "                <tr><th style='text-align: right;'>prmsl</th><td style='text-align: left;'>surface</td><td style='text-align: left;'>0</td><td style='text-align: left;'>20250219</td><td style='text-align: left;'>0</td><td style='text-align: left;'>0</td><td style='text-align: left;'>None</td><td style='text-align: left;'>260074</td><td style='text-align: left;'>None</td><td style='text-align: left;'>None</td><td style='text-align: left;'>None</td><td style='text-align: left;'>None</td></tr>\n",
       "                </table>"
      ],
      "text/plain": [
       "<IPython.core.display.HTML object>"
      ]
     },
     "execution_count": 26,
     "metadata": {},
     "output_type": "execute_result"
    }
   ],
   "source": [
    "fs['prmsl'].describe()"
   ]
  },
  {
   "cell_type": "code",
   "execution_count": 28,
   "id": "6546fcf8-f549-4d60-8bc2-727490f6eaf7",
   "metadata": {},
   "outputs": [
    {
     "data": {
      "text/plain": [
       "1009.9919555671383"
      ]
     },
     "execution_count": 28,
     "metadata": {},
     "output_type": "execute_result"
    }
   ],
   "source": [
    "fs['prmsl'].values().mean()"
   ]
  },
  {
   "cell_type": "code",
   "execution_count": 27,
   "id": "a08200d1-f5f5-4ddb-83ef-c33dcabab75e",
   "metadata": {},
   "outputs": [
    {
     "data": {
      "text/plain": [
       "1009.9919555671383"
      ]
     },
     "execution_count": 27,
     "metadata": {},
     "output_type": "execute_result"
    }
   ],
   "source": [
    "PSNM = mv.read(\n",
    "    paramId=260074,\n",
    "    data=fs\n",
    "    )\n",
    "PSNM.values().mean()"
   ]
  },
  {
   "cell_type": "code",
   "execution_count": 29,
   "id": "9d7b0031-4545-4dc4-9180-8857604c2328",
   "metadata": {},
   "outputs": [],
   "source": [
    "mv.setoutput(\"jupyter\")"
   ]
  },
  {
   "cell_type": "code",
   "execution_count": 30,
   "id": "c4956d11-2dbe-4563-8905-c38b91c28057",
   "metadata": {},
   "outputs": [
    {
     "data": {
      "application/vnd.jupyter.widget-view+json": {
       "model_id": "12a907df7e9649b3810e26f3d46c30c3",
       "version_major": 2,
       "version_minor": 0
      },
      "text/plain": [
       "Image(value=b'', layout=\"Layout(visibility='hidden')\")"
      ]
     },
     "metadata": {},
     "output_type": "display_data"
    },
    {
     "data": {
      "application/vnd.jupyter.widget-view+json": {
       "model_id": "160f573abc7b4cc585ba85ad8a754f58",
       "version_major": 2,
       "version_minor": 0
      },
      "text/plain": [
       "Label(value='Generating plots....')"
      ]
     },
     "metadata": {},
     "output_type": "display_data"
    }
   ],
   "source": [
    "mv.plot(PSNM)"
   ]
  },
  {
   "cell_type": "code",
   "execution_count": 38,
   "id": "9580227c-ae94-4310-8436-01d5fe941ae9",
   "metadata": {},
   "outputs": [],
   "source": [
    "contour = mv.mcont(\n",
    "    legend=\"ON\",\n",
    "    contour=\"ON\",\n",
    "    contour_shade=\"ON\",\n",
    "    contour_shade_method=\"AREA_FILL\",\n",
    "    contour_shade_max_level_colour=\"RED\",\n",
    "    contour_shade_min_level_colour=\"BLUE\",\n",
    "    contour_shade_colour_direction=\"CLOCKWISE\"\n",
    "    )\n",
    "\n",
    "contour2 = mv.mcont(\n",
    "    legend=\"OFF\",\n",
    "    contour=\"ON\",\n",
    "    contour_shade=\"OFF\",\n",
    "    contour_shade_max_level_colour=\"BLACK\",\n",
    "    contour_shade_min_level_colour=\"BLACK\",\n",
    "    )\n"
   ]
  },
  {
   "cell_type": "code",
   "execution_count": 41,
   "id": "3c407f98-0199-48d1-8ca0-361d1ff445a2",
   "metadata": {},
   "outputs": [
    {
     "data": {
      "application/vnd.jupyter.widget-view+json": {
       "model_id": "541cfce3459342648dfe6909d83df6c1",
       "version_major": 2,
       "version_minor": 0
      },
      "text/plain": [
       "Image(value=b'', layout=\"Layout(visibility='hidden')\")"
      ]
     },
     "metadata": {},
     "output_type": "display_data"
    },
    {
     "data": {
      "application/vnd.jupyter.widget-view+json": {
       "model_id": "3eb33beb017a4c44be5207133a7db303",
       "version_major": 2,
       "version_minor": 0
      },
      "text/plain": [
       "Label(value='Generating plots....')"
      ]
     },
     "metadata": {},
     "output_type": "display_data"
    }
   ],
   "source": [
    "mv.plot(PSNM, contour,\n",
    "        PSNM, contour2)"
   ]
  },
  {
   "cell_type": "code",
   "execution_count": 57,
   "id": "a211884d-b24a-4995-85d8-4195c780487f",
   "metadata": {},
   "outputs": [],
   "source": [
    "area = [-60,-120,20,0] # S,W,N,E\n",
    "AMS = mv.geoview(\n",
    "    map_area_definition = \"corners\",\n",
    "    area                = area,\n",
    "    coastlines = mv.mcoast(\n",
    "        map_coastline_land_shade        = \"on\",\n",
    "        map_coastline_land_shade_colour = \"#eeeeee\",\n",
    "        map_grid_latitude_increment     = 10,\n",
    "        map_grid_longitude_increment    = 10)\n",
    "    )\n"
   ]
  },
  {
   "cell_type": "code",
   "execution_count": 58,
   "id": "49bdaec7-3aa2-487b-b727-ece0cc191800",
   "metadata": {},
   "outputs": [
    {
     "data": {
      "application/vnd.jupyter.widget-view+json": {
       "model_id": "8016fc6f46ac4a409800791ccbbafadc",
       "version_major": 2,
       "version_minor": 0
      },
      "text/plain": [
       "Image(value=b'', layout=\"Layout(visibility='hidden')\")"
      ]
     },
     "metadata": {},
     "output_type": "display_data"
    },
    {
     "data": {
      "application/vnd.jupyter.widget-view+json": {
       "model_id": "3809cd2846c146ae845b085a3f2a2ee6",
       "version_major": 2,
       "version_minor": 0
      },
      "text/plain": [
       "Label(value='Generating plots....')"
      ]
     },
     "metadata": {},
     "output_type": "display_data"
    }
   ],
   "source": [
    "mv.plot(AMS,\n",
    "        PSNM, contour)"
   ]
  },
  {
   "cell_type": "code",
   "execution_count": 73,
   "id": "4b4c8dfc-c8e1-4feb-9f6f-c2699f219186",
   "metadata": {},
   "outputs": [
    {
     "data": {
      "application/vnd.jupyter.widget-view+json": {
       "model_id": "de4162f97b634d2493ec3dffa31ca736",
       "version_major": 2,
       "version_minor": 0
      },
      "text/plain": [
       "Image(value=b'', layout=\"Layout(visibility='hidden')\")"
      ]
     },
     "metadata": {},
     "output_type": "display_data"
    },
    {
     "data": {
      "application/vnd.jupyter.widget-view+json": {
       "model_id": "8d9250231cca4d408384db1eb2bcce47",
       "version_major": 2,
       "version_minor": 0
      },
      "text/plain": [
       "Label(value='Generating plots....')"
      ]
     },
     "metadata": {},
     "output_type": "display_data"
    }
   ],
   "source": [
    "text = mv.mtext(\n",
    "    text_line_1 = \"Pressão Reduzida ao Nível do Mar - ANL: 2025/02/19 00Z\",\n",
    "    text_font_size = 0.8,\n",
    "    text_colour = \"black\"\n",
    ")\n",
    "axis = mv.maxis(\n",
    "    axis_title_height = 1,\n",
    "    axis_tick_label_height = 2.\n",
    ")\n",
    "dw = build_layout()\n",
    "\n",
    "mv.plot(dw[0], \n",
    "        text, \n",
    "        axis,\n",
    "        PSNM, contour)"
   ]
  },
  {
   "cell_type": "code",
   "execution_count": null,
   "id": "928f0aa0-ef32-4695-b01d-4bf389bbc10f",
   "metadata": {},
   "outputs": [],
   "source": []
  }
 ],
 "metadata": {
  "kernelspec": {
   "display_name": "Python (Geospatial)",
   "language": "python",
   "name": "geospatial"
  },
  "language_info": {
   "codemirror_mode": {
    "name": "ipython",
    "version": 3
   },
   "file_extension": ".py",
   "mimetype": "text/x-python",
   "name": "python",
   "nbconvert_exporter": "python",
   "pygments_lexer": "ipython3",
   "version": "3.11.6"
  }
 },
 "nbformat": 4,
 "nbformat_minor": 5
}
