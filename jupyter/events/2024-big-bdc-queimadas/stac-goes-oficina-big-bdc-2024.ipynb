{
 "cells": [
  {
   "cell_type": "markdown",
   "metadata": {
    "id": "g1IGOwiFeIHP"
   },
   "source": [
    "<img src=\"https://data.inpe.br/big/web/wp-content/uploads/2024/05/logo-BIG-INPE.svg\" align=\"right\" width=\"100\"/>>\n",
    "\n",
    "# <span style=\"color:#336699\">Processamento de Imagens GOES-16 utilizando STAC e Python</span>\n",
    "<hr style=\"border:2px solid #0077b9;\">\n",
    "\n",
    "<div style=\"text-align: left;\">\n",
    "    <a href=\"https://nbviewer.jupyter.org/github/brazil-data-cube/code-gallery/blob/master/jupyter/Python/stac/stac-introduction.ipynb\"><img src=\"https://raw.githubusercontent.com/jupyter/design/master/logos/Badges/nbviewer_badge.svg\" align=\"center\"/></a>\n",
    "</div>\n",
    "\n",
    "<br/>\n",
    "\n",
    "<div style=\"text-align: center;font-size: 90%;\">\n",
    "    Douglas Uba<sup><a href=\"https://orcid.org/0000-0002-9414-7198\"><i class=\"fab fa-lg fa-orcid\" style=\"color: #a6ce39\"></i></a></sup>    <br/><br/>\n",
    "    DISSM -  Divisão de Satélites e Sensores Meteorológicos\n",
    "    <br/>\n",
    "    CGCT - Coordenação-Geral de Ciências da Terra\n",
    "    <br/>\n",
    "    INPE - Instituto Nacional de Pesquisas Espaciais, Brasil.\n",
    "    <br/>\n",
    "    Contato: <a href=\"mailto:douglas.uba@inpe.br\">douglas.uba@inpe.br</a>\n",
    "    <br/><br/>\n",
    "    Última Atualização: 02 de Dezembro de 2024\n",
    "</div>\n",
    "\n",
    "<br/>\n",
    "\n",
    "<div style=\"text-align: justify;  margin-left: 25%; margin-right: 25%;\">\n",
    "<b>Resumo</b> Este Jupyter Notebook fornece uma visão geral sobre como usar o serviço STAC para descobrir e acessar imagens do satélite GOES-16, em conjunto com exemplos de processamento e visualização dos dados</em>. Especificamente, os exemplos estão direcionados as aplicações para detecção e monitoramento de queimadas.</div>"
   ]
  },
  {
   "cell_type": "markdown",
   "metadata": {
    "id": "iJzFUQcAeIHS"
   },
   "source": [
    "# 🛰️ Introdução\n",
    "<hr style=\"border:1px solid #0077b9;\">\n",
    "\n",
    "Os satélites da série **GOES** (*Geostationary Operational Environmental Satellite*) são <b><span style=\"color: teal\">satélites geoestacionários</span></b>  que possuem enorme relevância no <b><span style=\"color: teal\">monitoramento meteorológico e ambiental</span></b>. A primeira missão GOES foi lançada em 1975 pelos Estados Unidos e desde então, a série tem evoluído em termos de capacidades tecnológicas, com novas gerações de satélites sendo lançadas para substituir os anteriores e ampliar o escopo das missões.\n",
    "\n",
    "Com o lançamento do <b><span style=\"color: blue\">GOES-16</span></b> (da série GOES-R) em **2016,** uma nova era de monitoramento ambiental teve início. Este satélite oferece uma cobertura detalhada da América do Sul, com capacidade para fornecer imagens em alta resolução temporal, com novas imagens a cada  <b><span style=\"color: greblueen\">10 minutos</span></b> no modo  *full-disk*, com  <b><span style=\"color: blue\">resolução espacial de 500m a 2km</span></b>, dependendo do canal espectral, sendo <b><span style=\"color: blue\">16 canais</span></b> no total.</br>\n",
    "\n",
    "<div style=\"text-align: justify;  margin-left: 15%; margin-right: 15%; border-style: solid; border-color: #0077b9; border-width: 1px; padding: 5px;\">\n",
    "    <b>Nota:</b> Setor full-disk refere-se ao imageamento de um Polo a outro da Terra, dentro dos limites de longitude estabelecidos pela posição do satélite geoestacionário.\n",
    "</div><br/>\n",
    "\n",
    "O <b><span style=\"color: navy\">INPE</span></b> possui destaque na utilização e disseminação das imagens obtidas pelos satélites **GOES**. A  <b><span style=\"color: navy\">Divisão de Satélites e Sensores Meteorológicos</span></b>, têm recebido, armazenado e processado os dados desses satélites com o objetivo principal de atender as necessidades locais, oferecendo suporte indispensável às previsões de tempo e ao monitoramento de fenômenos meteorológicos diversos no Brasil e América do Sul."
   ]
  },
  {
   "cell_type": "markdown",
   "metadata": {
    "id": "3SvYYarweIHS"
   },
   "source": [
    "## 🛰️ GOES/ABI - Canais Espectrais\n",
    "\n",
    "A tabela abaixo apresenta as características principais do imageador ABI (*Advanced Baseline Imager*) que integra os satélites da Série GOES-R.\n",
    "\n",
    "| Canal | Comprimento de Onda (μm) | Nome Comum | Principais Aplicações | Resolução Espacial (km) |\n",
    "|-------|--------------------------|------------|----------------------|-------------------------|\n",
    "| 01 | 0.47 | Azul (Blue) | Detecção de aerossóis, qualidade do ar, vegetação | 1 |\n",
    "| 02 | 0.64 | Vermelho (Red) | Mapeamento de nuvens, limites terrestres, vegetação | 0.5 |\n",
    "| 03 | 0.86 | Próximo ao Infravermelho (Near-IR) | Detecção de neve/gelo, características da superfície terrestre | 1 |\n",
    "| 04 | 1.37 | Cirrus | Detecção de nuvens cirrus, vapor de água na alta atmosfera | 2 |\n",
    "| 05 | 1.6 | Infravermelho Próximo (Near-IR) | Distinguir gelo e água em nuvens, propriedades de nuvens | 1 |\n",
    "| 06 | 2.2 | Infravermelho de Ondas Curtas (SWIR) | Detecção de umidade de vegetação, características do solo | 2 |\n",
    "| 07 | 3.9 | Infravermelho de Ondas Curtas (SWIR) | Detecção de incêndios, temperatura de nuvens | 2 |\n",
    "| 08 | 6.2 | Vapor de Água | Umidade atmosférica, movimento de sistemas meteorológicos | 2 |\n",
    "| 09 | 7.3 | Vapor de Água | Umidade atmosférica em diferentes altitudes | 2 |\n",
    "| 10 | 7.6 | Vapor de Água | Movimentos de massas de ar, sistemas meteorológicos | 2 |\n",
    "| 11 | 8.4 | Infravermelho (IR) | Temperatura do topo das nuvens, identificação de sistemas | 2 |\n",
    "| 12 | 9.7 | Infravermelho (IR) | Temperatura atmosférica, identificação de sistemas | 2 |\n",
    "| 13 | 10.3 | Infravermelho (IR) | Temperatura do topo das nuvens, identificação de sistemas | 2 |\n",
    "| 14 | 11.2 | Infravermelho (IR) | Temperatura da superfície terrestre e marítima | 2 |\n",
    "| 15 | 12.3 | Infravermelho (IR) | Temperatura atmosférica, características de nuvens | 2 |\n",
    "| 16 | 13.3 | Infravermelho (IR) | Alturas de nuvens, temperatura atmosférica | 2 |\n",
    "\n",
    "### Observações\n",
    "\n",
    "- Os canais 1-6 são no espectro visível e infravermelho próximo\n",
    "- Os canais 7-16 são no espectro infravermelho\n",
    "- Resolução espacial varia de 0.5 a 2 km na cobertura da série GOES-R\n",
    "- Cada canal tem características específicas para diferentes análises atmosféricas e terrestres\n",
    "- Fonte: [GOES-R - ABI Bands Quick Information Guides](https://www.goes-r.gov/mission/ABI-bands-quick-info.html)"
   ]
  },
  {
   "cell_type": "markdown",
   "metadata": {
    "id": "DHarx2RyeIHS"
   },
   "source": [
    "## 🌎 Exemplo de Visualização Interativa de Imagens GOES-16\n",
    "<hr style=\"border:1px solid #0077b9;\">"
   ]
  },
  {
   "cell_type": "markdown",
   "metadata": {
    "id": "XhQRBt7CeIHS"
   },
   "source": [
    "**Fonte:** DSAT - Aplicação para visualização interativa dos dados recebidos pela estação GOES-R do INPE - www.cptec.inpe.br/dsat"
   ]
  },
  {
   "cell_type": "code",
   "execution_count": null,
   "metadata": {
    "id": "t_XpdKeBeIHT",
    "scrolled": true
   },
   "outputs": [],
   "source": [
    "from IPython.display import IFrame\n",
    "IFrame('https://www.cptec.inpe.br/dsat/?product=true_color_ch13_dsa&product_opacity=1&zoom=2&options=false',\n",
    "    width=800, height=800)"
   ]
  },
  {
   "cell_type": "markdown",
   "metadata": {
    "id": "9rrp90qNeIHT"
   },
   "source": [
    "## 🖥️ Visualização vs. Processamento\n",
    "<hr style=\"border:1px solid #0077b9;\">"
   ]
  },
  {
   "cell_type": "markdown",
   "metadata": {
    "id": "CYyXL4-3eIHT"
   },
   "source": [
    "Aplicações para visualização interativa, como o **DSAT**, permitem que especialistas monitorem fenômenos meteorológicos em **tempo quase real**, oferecendo uma interface focada na interpretação visual das imagens, auxiliando em tomadas de decisão rápidas e no acompanhamento contínuo de eventos de interesse, como tempestades e queimadas, por exemplo.\n",
    "\n",
    "Por outro lado, o uso do [**S**patio**T**emporal **A**sset **C**atalog (STAC)](https://stacspec.org/), em conjunto com plataformas de processamento (*e.g.* BDC Lab) expande significativamente as possibilidades ao permitir que usuários consultem e acessem os **dados brutos** gerados pelo <b><span style=\"color: blue\">GOES-16</span></b> de modo eficiente. Isso possibilita o **desenvolvimento de aplicações personalizadas** que vão além da simples visualização, como exemplo:\n",
    "\n",
    "- Extração de métricas específicas a partir de imagens;\n",
    "- Integração dos dados com outros sistemas ou bases geoespaciais;\n",
    "- Detecção e modelagem de padrões temporais e espaciais em grande escala, dentre outros.\n",
    "\n",
    "Neste notebook, exploramos como o **STAC** pode ser utilizado para acessar e processar os dados do <b><span style=\"color: blue\">GOES-16</span></b> de maneira prática e eficiente, permitindo, por exemplo, análises detalhadas no contexto do monitoramento de queimadas."
   ]
  },
  {
   "cell_type": "markdown",
   "metadata": {
    "id": "Pfzn4QIheIHU"
   },
   "source": [
    "<img src=\"https://raw.githubusercontent.com/brazil-data-cube/code-gallery/master/img/stac/stac.png?raw=true\" align=\"right\" width=\"66\"/>\n",
    "\n",
    "# STAC\n",
    "<hr style=\"border:1px solid #0077b9;\">"
   ]
  },
  {
   "cell_type": "markdown",
   "metadata": {
    "id": "yZn7b78KPQDG"
   },
   "source": [
    "[**S**patio**T**emporal **A**sset **C**atalog (STAC)](https://stacspec.org/) organiza o acesso à dados geoespaciais, como imagens de satélites, utilizando 3 conceitos principais:  `Collection`, `Item` e `Assets`.\n",
    "\n",
    "- `Collection`: agrupa dados similares, como um conjunto de imagens obtidas de um mesmo sensor ou satélite ao longo do tempo, oferecendo informações gerais sobre a origem e características desses dados;\n",
    "\n",
    "- `Item`: representa uma unidade de dados específica, como imagens correspondentes a um local ou momento exatos, com\n",
    "metadados espaciais, temporais e espectrais;\n",
    "\n",
    "- `Asset`: são os arquivos associados ao `Item`, podendo incluir diferentes formatos, resoluções, variáveis, dados auxiliares, dentre outros aspectos.\n",
    "\n",
    "O padrão facilita o acesso à esses arquivos de modo padronizado, tornando-o uma escolha eficiente para catalogação e permitindo sua interoperabilidade em diversos sistemas, além de oferecer consultas espaço-temporais otimizadas. Por último, no mais alto nível, o conceito `Catalog` agrupa diversas `Collections. O diagrama representado na imagem abaixo ilustra os conceitos do modelo de dados STAC:\n",
    "\n",
    "<center>\n",
    "<img src=\"https://raw.githubusercontent.com/brazil-data-cube/code-gallery/master/img/stac/stac-concept.png\" width=\"480\">\n",
    "</center>"
   ]
  },
  {
   "cell_type": "markdown",
   "metadata": {
    "id": "IqTcaC7PeIHV"
   },
   "source": [
    "<img src=\"https://data.inpe.br/big/web/wp-content/uploads/2024/05/logo-BIG-INPE.svg\" align=\"right\" width=\"128\"/>\n",
    "\n",
    "\n",
    "## 📚 Coleções GOES na BIG\n",
    "<hr style=\"border:1px solid #0077b9;\">"
   ]
  },
  {
   "cell_type": "markdown",
   "metadata": {
    "id": "qVMiod6feIHV"
   },
   "source": [
    "Atualmente, duas `Collections` de imagens **GOES** estão disponíveis no **Catálago Integrado de Imagens da BIG**, acessível em https://data.inpe.br.\n",
    "- 📙 `GOES13-L3-IMAGER`: possui imagens do satélite <b><span style=\"color: red\">GOES-13</span></b> que foram adquiridas no período de 25/11/2011 - 03:00 PM UTC até 08/01/2018 - 03:00 PM UTC. Link: [GOES13-L3-IMAGER](https://data.inpe.br/stac/browser/collections/GOES13-L3-IMAGER-1);\n",
    "- 📘 `GOES16-L2-CMI`: possui imagens do satélite <b><span style=\"color: blue\">GOES-16</span></b> que foram adquiridas desde 26/04/2017 - 12:45 PM UTC até o presente. Como este satélite está operacional, o processo de catalogação acontece para cada novo conjunto de imagens recebidas, mantendo o catálogo sempre atualizado com as informações mais recentemente disponíveis. Link: [GOES16-L2-CM](https://data.inpe.br/stac/browser/collections/GOES16-L2-CMI-1)\n",
    "\n",
    "<div style=\"text-align: justify;  margin-left: 15%; margin-right: 15%; border-style: solid; border-color: #0077b9; border-width: 1px; padding: 5px;\">\n",
    "    <b>Nota:</b> Especificamente neste notebook, será explorada apenas a coleção GOES16-L2-CMI.\n",
    "</div>\n",
    "\n",
    "<div style=\"text-align: justify;  margin-left: 15%; margin-right: 15%; border-style: solid; border-color: #0077b9; border-width: 1px; padding: 5px;\">\n",
    "    <b>Nota:</b> Os arquivos  - <b>Assets</b> -  da coleção GOES16-L2-CMI estão no formato NetCDF, com as informações completas e originais que foram produzidas pela estação de recepção GOES-R do INPE. Para cada banda espectral - 16 no total - está relacionado 1 arquivo NetCDF com a matriz de pixels com valores medidos pelo sensor ABI/GOES-16.\n",
    "</div>\n",
    "\n",
    "<div style=\"text-align: justify;  margin-left: 15%; margin-right: 15%; border-style: solid; border-color: #0077b9; border-width: 1px; padding: 5px;\">\n",
    "    <b>Nota:</b> As unidades dos valores medidos são (L2): Temperatura de Brilho (Kelvin) para os canais IR e Refletância (%) para os canais VIS.\n",
    "</div>\n",
    "\n",
    "<div style=\"text-align: justify;  margin-left: 15%; margin-right: 15%; border-style: solid; border-color: #0077b9; border-width: 1px; padding: 5px;\">\n",
    "    <b>Nota:</b> Para a coleção GOES16-L2-CMI, a catalogação das imagens antes do ano de 2019 está em processamento.\n",
    "</div>\n",
    "\n",
    "<div style=\"text-align: justify;  margin-left: 15%; margin-right: 15%; border-style: solid; border-color: #0077b9; border-width: 1px; padding: 5px;\">\n",
    "    <b>Nota:</b> Importante informar que podem haver arquivos faltantes, devido a falhas do satélite, ou na transmissão, recepção, processamento ou armazenamento dos dados.\n",
    "</div>\n",
    "\n",
    "<div style=\"text-align: justify;  margin-left: 15%; margin-right: 15%; border-style: solid; border-color: #0077b9; border-width: 1px; padding: 5px;\">\n",
    "    <b>Nota:</b> Para ambas as coleções, optou-se por estabelecer cada observação (i.e. scan) do satélite geoestacionário como um Item específico.\n",
    "</div>\n",
    "\n",
    "<br/>\n",
    "\n",
    "Optou-se inicialmente pela catalogação das imagens desses dois satélites (GOES-13 e GOES-16). O primeiro por possuir um histórico amplo e relativamente recente de imagens (2011 até 2018), enquanto o segundo é atualmente o satélite em operação (também conhecido como GOES-Leste), com a melhor capacidade de observação do território brasileiro, países vizinhos e oceanos adjacentes."
   ]
  },
  {
   "cell_type": "markdown",
   "metadata": {
    "id": "F0QB_3meeIHV"
   },
   "source": [
    "## 👩🏽‍💻 STAC Client API\n",
    "<hr style=\"border:1px solid #0077b9;\">\n",
    "\n",
    "Para execução dos exemplos deste Jupyter Notebook, será instalado o pacote [pystac-client](https://pystac-client.readthedocs.io/en/latest/)."
   ]
  },
  {
   "cell_type": "code",
   "execution_count": null,
   "metadata": {
    "id": "-rtR7Bs6eIHV"
   },
   "outputs": [],
   "source": [
    "!pip install pystac-client"
   ]
  },
  {
   "cell_type": "markdown",
   "metadata": {
    "id": "TEISnpnHeIHV"
   },
   "source": [
    "Para acessar as funcionalidades, importa-se o pacote `pystac_client`:"
   ]
  },
  {
   "cell_type": "code",
   "execution_count": null,
   "metadata": {
    "id": "Nbh1DWTaPQDY"
   },
   "outputs": [],
   "source": [
    "import pystac_client\n",
    "pystac_client.__version__"
   ]
  },
  {
   "cell_type": "markdown",
   "metadata": {
    "id": "s1CO5y9qeIHW"
   },
   "source": [
    "Em seguida, realiza-se a conexão com o serviço STAC BDC/BIG:"
   ]
  },
  {
   "cell_type": "code",
   "execution_count": null,
   "metadata": {
    "id": "hPInUTjeeIHW"
   },
   "outputs": [],
   "source": [
    "service = pystac_client.Client.open(\n",
    "    'https://data.inpe.br/bdc/stac/v1/'\n",
    ")\n",
    "service"
   ]
  },
  {
   "cell_type": "markdown",
   "metadata": {
    "id": "CIeP_LfSgPgh"
   },
   "source": [
    "# ⚙️ Processamento\n",
    "<hr style=\"border:1px solid #0077b9;\">"
   ]
  },
  {
   "cell_type": "markdown",
   "metadata": {
    "id": "J-bD5NZAeIHW"
   },
   "source": [
    "## 🔍 Recuperando Imagens GOES-16 mais recentes\n",
    "<hr style=\"border:1px solid #0077b9;\">"
   ]
  },
  {
   "cell_type": "markdown",
   "metadata": {
    "id": "mXYOR_q8eIHW"
   },
   "source": [
    "Vamos utilizar o serviço STAC para recuperar as **imagens mais recentes catalogadas** do satélite <b><span style=\"color: blue\">GOES-16</span></b>.\n",
    "\n",
    "A partir do método `search`, definimos o nome da coleção (`collections=['GOES16-L2-CMI-1']`).\n",
    "\n",
    "Também utilizamos o parâmetro `sortby` para ordenarmos os itens que serão recuperados de acordo com a data de aquisição.\n"
   ]
  },
  {
   "cell_type": "code",
   "execution_count": null,
   "metadata": {
    "id": "3IKREEUpPQDg"
   },
   "outputs": [],
   "source": [
    "# Search GOES-16 Items order by date time. The goal is to get the most recent item in the collection.\n",
    "item_search = service.search(\n",
    "    collections=['GOES16-L2-CMI-1'],\n",
    "    sortby=[{\n",
    "        'field': 'properties.datetime',\n",
    "        'direction': 'desc'\n",
    "    }]\n",
    ")"
   ]
  },
  {
   "cell_type": "markdown",
   "metadata": {
    "id": "IrkJeOkleIHW"
   },
   "source": [
    "Inicialmente, verificamos quantos `Items` no total foram encontrados."
   ]
  },
  {
   "cell_type": "code",
   "execution_count": null,
   "metadata": {
    "id": "PGbKyW-LeIHW"
   },
   "outputs": [],
   "source": [
    "# Number of found items\n",
    "item_search.matched()"
   ]
  },
  {
   "cell_type": "markdown",
   "metadata": {
    "id": "BYxRkAYxeIHX"
   },
   "source": [
    "**Curiosidade:** O satélite <b><span style=\"color: blue\">GOES-16</span></b> possui uma alta resolução temporal (*i.e.* novas imagens a cada 10 minutos).\n",
    "\n",
    "Considerando que idealmente cada `Item` possui 16 `Assets` (quantidade concordante com o número de canais espectrais dos sensor imageador ABI), vamos estimar:\n",
    "\n",
    "- Até o momento, quantas imagens GOES-16 temos catalogadas?"
   ]
  },
  {
   "cell_type": "code",
   "execution_count": null,
   "metadata": {
    "id": "xi1ai-VMeIHX"
   },
   "outputs": [],
   "source": [
    "# Estimate total number of catalogued GOES-16 images\n",
    "item_search.matched() * 16 # ==> aprox. 4.7M"
   ]
  },
  {
   "cell_type": "markdown",
   "metadata": {
    "id": "mwc09fryeIHX"
   },
   "source": [
    "Estamos interessados nas imagens mais recentes. Como ordenamos por data, basta analisarmos o **primeiro item** da lista.\n",
    "\n",
    "Cada `Item` possui uma série de propriedades e atributos descritivos."
   ]
  },
  {
   "cell_type": "code",
   "execution_count": null,
   "metadata": {
    "id": "drKuLBpBeIHX"
   },
   "outputs": [],
   "source": [
    "# Get first item. i.e. the most recent item in the collection\n",
    "item = next(item_search.items(), None)\n",
    "item"
   ]
  },
  {
   "cell_type": "markdown",
   "metadata": {
    "id": "GDAMbJ0zeIHX"
   },
   "source": [
    "Verificando a data de aquisição dessas imagens, temos:"
   ]
  },
  {
   "cell_type": "code",
   "execution_count": null,
   "metadata": {
    "id": "hLxnRaeJeIHX"
   },
   "outputs": [],
   "source": [
    "# Let's see datetime attribute\n",
    "item.properties['datetime']"
   ]
  },
  {
   "cell_type": "markdown",
   "metadata": {
    "id": "LZFCZfNreIHX"
   },
   "source": [
    "Em aplicações de monitoramento, é muito importante que os dados sejam disponibilizados no **menor tempo possível** para a realização dos processamentos e análises.\n",
    "\n",
    "<div style=\"text-align: justify;  margin-left: 0%; margin-right: 15%; border-style: solid; border-color: #0077b9; border-width: 1px; padding: 5px;\">\n",
    "    <b>Pergunta:</b> Qual o atraso atual das nossas imagens catalogadas em relação ao \"agora\"?\n",
    "</div>"
   ]
  },
  {
   "cell_type": "code",
   "execution_count": null,
   "metadata": {
    "id": "fUgQSANSeIHX"
   },
   "outputs": [],
   "source": [
    "# Compute delay\n",
    "from datetime import datetime\n",
    "print('Now:', datetime.utcnow())\n",
    "print('Image:', datetime.strptime(item.properties['datetime'], '%Y-%m-%dT%H:%M:%SZ'))\n",
    "delay = datetime.utcnow() - datetime.strptime(item.properties['datetime'], '%Y-%m-%dT%H:%M:%SZ')\n",
    "print('Delay', delay)"
   ]
  },
  {
   "cell_type": "markdown",
   "metadata": {
    "id": "loPuzInFeIHY"
   },
   "source": [
    "## 🖥️ Leitura de Imagem com netCDF4\n",
    "<hr style=\"border:1px solid #0077b9;\">"
   ]
  },
  {
   "cell_type": "markdown",
   "metadata": {
    "id": "B1EqNIPseIHY"
   },
   "source": [
    "As imagens do GOES-16 são fornecidas no formato [**Network Common Data Form (NetCDF)**](https://www.unidata.ucar.edu/software/netcdf/), amplamente utilizado para armazenar dados científicos multidimensionais, como variáveis climáticas e ambientais.\n",
    "\n",
    "Nesta seção, utilizaremos a biblioteca `netCDF4` para ler os dados do Canal 13 (`Asset B13`), correspondente ao comprimento de onda de **10.3 µm**.\n",
    "\n",
    "O exemplo a seguir demonstra como abrir e visualizar informações básicas do arquivo netCDF.\n"
   ]
  },
  {
   "cell_type": "code",
   "execution_count": null,
   "metadata": {
    "id": "QH6G0lLHeIHY"
   },
   "outputs": [],
   "source": [
    "!pip install netCDF4"
   ]
  },
  {
   "cell_type": "code",
   "execution_count": null,
   "metadata": {
    "id": "vzEmt3LDeIHY"
   },
   "outputs": [],
   "source": [
    "from netCDF4 import Dataset\n",
    "ir = Dataset(item.assets['B13'].href + '#mode=bytes')"
   ]
  },
  {
   "cell_type": "markdown",
   "metadata": {
    "id": "MJ9ESvlQeIHZ"
   },
   "source": [
    "Verificando os metadados e o conteúdo do arquivo de imagem."
   ]
  },
  {
   "cell_type": "code",
   "execution_count": null,
   "metadata": {
    "id": "tdB9Wru4eIHZ"
   },
   "outputs": [],
   "source": [
    "ir"
   ]
  },
  {
   "cell_type": "markdown",
   "metadata": {
    "id": "_lIWeg6QeIHZ"
   },
   "source": [
    "\n",
    "\n",
    "<div style=\"text-align: justify;  margin-left: 15%; margin-right: 25%; border-style: solid; border-color: #0077b9; border-width: 1px; padding: 5px;\">\n",
    "    <b>Nota:</b> Além dos diversos metadados, a matriz de pixels com os valores medidos para determinado canal espectral pode ser acessada a partir da variável chamada <b>CMI</b> (sigla para Cloud and Moisture Imagery).\n",
    "</div>"
   ]
  },
  {
   "cell_type": "markdown",
   "metadata": {
    "id": "Oq6pbTBGeIHZ"
   },
   "source": [
    "## 📈 Plot Básico\n",
    "<hr style=\"border:1px solid #0077b9;\">"
   ]
  },
  {
   "cell_type": "markdown",
   "metadata": {
    "id": "kV5DLTL5eIHf"
   },
   "source": [
    "Usaremos o suporte fornecido pelo pacote `matplotlib` para visualizarmos, neste momento, de modo básico, a imagem <b><span style=\"color: blue\">GOES-16</span></b>, Canal 13.\n",
    "\n",
    "Primeiro, realizamos a leitura da matriz de pixels a partir da variável `CMI`:"
   ]
  },
  {
   "cell_type": "code",
   "execution_count": null,
   "metadata": {
    "id": "hz1J6n35eIHg"
   },
   "outputs": [],
   "source": [
    "pixels = ir.variables['CMI'][:]"
   ]
  },
  {
   "cell_type": "markdown",
   "metadata": {
    "id": "6zgKc85EeIHg"
   },
   "source": [
    "Neste caso, `pixels` é um `NumPy Array` de dimensão (m x m)."
   ]
  },
  {
   "cell_type": "code",
   "execution_count": null,
   "metadata": {
    "id": "uwHWPKvNeIHg"
   },
   "outputs": [],
   "source": [
    "print(pixels)\n",
    "pixels.shape"
   ]
  },
  {
   "cell_type": "markdown",
   "metadata": {
    "id": "40PtWO4leIHg"
   },
   "source": [
    "Visualizamos o resultado com o método `imshow`:"
   ]
  },
  {
   "cell_type": "code",
   "execution_count": null,
   "metadata": {
    "id": "5BUDbGLseIHg"
   },
   "outputs": [],
   "source": [
    "from matplotlib import pyplot as plt\n",
    "plt.imshow(pixels, cmap='Greys')\n",
    "plt.colorbar()\n",
    "plt.title('GOES-16 - B13 - 10.3 µm | Date: {}'.format(item.properties['datetime']))\n",
    "# Literalmente, um \"Hello, World!\" 🤓"
   ]
  },
  {
   "cell_type": "markdown",
   "metadata": {
    "id": "OGtRswPGeIHh"
   },
   "source": [
    "## 🗺️ Plot Georreferenciado\n",
    "<hr style=\"border:1px solid #0077b9;\">"
   ]
  },
  {
   "cell_type": "markdown",
   "metadata": {
    "id": "3JdgBlxEeIHh"
   },
   "source": [
    "Utilizando o suporte fornecido pelo pacote [Cartopy](https://scitools.org.uk/cartopy/docs/latest), vamos agora realizar a visualização da imagem de modo geolocalizado (*i.e.* visualização do tipo mapa).\n",
    "\n",
    "<div style=\"text-align: justify;  margin-left: 15%; margin-right: 15%; border-style: solid; border-color: #0077b9; border-width: 1px; padding: 5px;\">\n",
    "    <b>Nota:</b> Cartopy é uma biblioteca Python para tratar do mapeamento geoespacial e projeções cartográficas. Ele permite criar mapas, sobrepor dados geográficos e projetar informações espaciais, dentre outras operações. É ideal para visualizar dados satelitais, como os do GOES-16, de modo georreferenciado. Para mais informações, visite o site oficial: <a href=\"https://scitools.org.uk/cartopy/docs/latest/\">Cartopy</a>.\n",
    "</div>"
   ]
  },
  {
   "cell_type": "markdown",
   "metadata": {
    "id": "dW-1huk-eIHh"
   },
   "source": [
    "Para isso, precisamos primeiro definir a projeção original do satélite GOES-16 para a aquisição das imagens, chamada de [**Geostationary Satellite View**](https://proj4.org/en/9.3/operations/projections/geos.html#geostationary-satellite-view).\n",
    "\n",
    "Exemplo de representação da projeção geoestacionária utilizando uma string `proj4`:\n",
    "\n",
    "-  `proj=geos +h=35785831.0 +lon_0=<value>`, em que `<value>` é a posição de longitude do satélite geoestacionário."
   ]
  },
  {
   "cell_type": "markdown",
   "metadata": {
    "id": "xvjy731AeIHh"
   },
   "source": [
    "Utilizamos a classe `ccrs.Geostationary` para representar a projeção, obtendo alguns atributos, como a posição em longitude do satélite e sua altura, a partir dos metadados do arquivo netCDF."
   ]
  },
  {
   "cell_type": "code",
   "execution_count": null,
   "metadata": {
    "id": "Vu_ZQfageIHh"
   },
   "outputs": [],
   "source": [
    "import cartopy\n",
    "import cartopy.crs as ccrs\n",
    "\n",
    "# Define GOES-16 Original Projection\n",
    "G16_PROJECTION = ccrs.Geostationary(\n",
    "    central_longitude=ir.variables['goes_imager_projection'].longitude_of_projection_origin,\n",
    "    satellite_height=ir.variables['goes_imager_projection'].perspective_point_height,\n",
    "    globe=ccrs.Globe(ellipse='GRS80'),\n",
    "    sweep_axis='x'\n",
    ")\n",
    "\n",
    "G16_PROJECTION"
   ]
  },
  {
   "cell_type": "markdown",
   "metadata": {
    "id": "8QjxVvqDeIHi"
   },
   "source": [
    "Definimos também a extensão espacial total dessa projeção, `G16_FDISK_EXTENT`."
   ]
  },
  {
   "cell_type": "code",
   "execution_count": null,
   "metadata": {
    "id": "Ewkii1S6eIHi"
   },
   "outputs": [],
   "source": [
    "# Define GOES-16 Full-Disk area extent\n",
    "G16_FDISK_EXTENT = (\n",
    "    G16_PROJECTION._x_limits[0],\n",
    "    G16_PROJECTION._x_limits[1],\n",
    "    G16_PROJECTION._y_limits[0],\n",
    "    G16_PROJECTION._y_limits[1]\n",
    ")"
   ]
  },
  {
   "cell_type": "markdown",
   "metadata": {
    "id": "88OjOS_HeIHi"
   },
   "source": [
    "Criamos um método auxiliar, chamado `create_map`, para construir uma visualização do tipo mapa, utilizando o suporte fornecido pelo `matplotlib` e `cartopy`. Os parâmetros definem a dimensão em pixels do mapa - `dim`, além da projeção espacial desejada - `proj`.\n"
   ]
  },
  {
   "cell_type": "code",
   "execution_count": null,
   "metadata": {
    "id": "yEcpgaXGeIHi"
   },
   "outputs": [],
   "source": [
    "def create_map(dim, proj):\n",
    "    dpi = 96.0\n",
    "    fig = plt.figure(figsize=((dim[1]/float(dpi)), (dim[0]/float(dpi))),\n",
    "        frameon=False, facecolor='none', dpi=dpi)\n",
    "    ax = fig.add_axes([0, 0, 1, 1], projection=proj)\n",
    "    return fig, ax"
   ]
  },
  {
   "cell_type": "markdown",
   "metadata": {
    "id": "l0lZqR-2eIHi"
   },
   "source": [
    "Assim, podemos agora visualizar a imagem GOES-16 - Canal 13 de modo georreferenciado, na projeção original de aquisição."
   ]
  },
  {
   "cell_type": "code",
   "execution_count": null,
   "metadata": {
    "id": "WOj4EMrQeIHj"
   },
   "outputs": [],
   "source": [
    "fig, ax = create_map((1024, 1024), proj=G16_PROJECTION)\n",
    "ax.imshow(ir.variables['CMI'], origin='upper', cmap='Greys', extent=G16_FDISK_EXTENT)\n",
    "ax.add_feature(cartopy.feature.BORDERS, edgecolor='white', linewidth=1.0)\n",
    "ax.coastlines(color='white', linewidth=1.0)\n",
    "plt.title('GOES-16 - B13 - 10.3 µm | Date: {}'.format(item.properties['datetime']))"
   ]
  },
  {
   "cell_type": "markdown",
   "metadata": {
    "id": "H2GKahhceIHj"
   },
   "source": [
    "Temos uma matriz de pixels (`Numpy Array`). Quais operações podemos fazer? 🤔💡"
   ]
  },
  {
   "cell_type": "code",
   "execution_count": null,
   "metadata": {
    "id": "DEUtNuW4eIHj"
   },
   "outputs": [],
   "source": [
    "import numpy as np\n",
    "\n",
    "# \"Detect\" clouds\n",
    "clouds = np.ma.masked_where(pixels >= 250.0, pixels) # ~ -23°C\n",
    "\n",
    "fig, ax = create_map((1024, 1024), proj=G16_PROJECTION)\n",
    "ax.stock_img()\n",
    "ax.imshow(clouds, origin='upper', cmap='Greys', vmin=190.0, vmax=300.0, extent=G16_FDISK_EXTENT)\n",
    "ax.add_feature(cartopy.feature.BORDERS, edgecolor='white', linewidth=1.0)\n",
    "ax.coastlines(color='white', linewidth=1.0)\n",
    "plt.title('GOES-16 - B13 - 10.3 µm | Date: {}'.format(item.properties['datetime']))"
   ]
  },
  {
   "cell_type": "code",
   "execution_count": null,
   "metadata": {
    "id": "xonu6OgEeIHj"
   },
   "outputs": [],
   "source": [
    "# Let´s see \"Queimadas\" Applications\n",
    "ir.close()"
   ]
  },
  {
   "cell_type": "markdown",
   "metadata": {
    "id": "umZx3N6seIHj"
   },
   "source": [
    "# 🔥 \"Dia do Fogo - SP\"\n",
    "<hr style=\"border:1px solid #0077b9;\">"
   ]
  },
  {
   "cell_type": "markdown",
   "metadata": {
    "id": "uI90CoueeIHk"
   },
   "source": [
    "O **\"Dia do Fogo em São Paulo\"**, foi um evento ocorrido em **23 de agosto de 2024**. Foi marcado por um aumento significativo na concentração de focos de calor no Estado, resultado de queimadas intensas, em diferentes regiões, que evoluíram em conjunto, em um período de poucas horas (13-19h UTC).\n",
    "\n",
    "📰 [Dia do Fogo SP](https://www.google.com/search?sca_esv=8f5d8c7e0081b1d2&rlz=1C1FCXM_pt-PTBR994BR994&q=dia+do+fogo+sp&tbm=nws&source=lnms&fbs=AEQNm0AuaLfhdrtx2b9ODfK0pnmi046uB92frSWoVskpBryHTpm4Flwlr5cHTE9P1oWvlAZ_BMzBfkHx_sz6KVHYmpoBgg_r2U_G8VRtklQCu_dWWjcOucNh5nM4o1m1i2GqXHmOPZWc3KnoK2vnkM1e72_pWpwdw-vJnJvGiT1hVDcJHgJrQqNDw9wy12nTLeMWHJwEx8CL5L3av-B6eG9gxDWVdQuA-g&sa=X&sqi=2&ved=2ahUKEwjPub702PqJAxVVp5UCHS9_BbYQ0pQJegQIERAB&biw=1280&bih=551&dpr=1.5')\n",
    "\n",
    "Nesta seção, vamos explorar as imagens desse dia, com a utilização do **Canal 07 - 3.9 µm**. Este canal espectral é amplamente utilizado para a **detecção de focos de calor**, pois é sensível à radiação termal emitida por altas temperaturas. *i.e.* apesar da aplicação principal ser a observação de nuvens, o canal está centrado em um região do espectro eletromagnético em que os focos de calor emitem o máximo de radiação , o que provoca a saturação das medidas, permitindo a detecção dos focos."
   ]
  },
  {
   "cell_type": "markdown",
   "metadata": {
    "id": "IMGRCg9NeIHk"
   },
   "source": [
    "## 🔍 Recuperando as Imagens do dia 23/08/2024 - [13-19h UTC]\n",
    "<hr style=\"border:1px solid #0077b9;\">"
   ]
  },
  {
   "cell_type": "markdown",
   "metadata": {
    "id": "2R7xY92FeIHk"
   },
   "source": [
    "Novamente, utilizando o serviço STAC e a partir do método `search`, faremos a recuperação de `Items` da coleção `GOES16-L2-CMI-1`. Agora, vamos utilizar o parâmetro `datetime` para **restringir o período temporal de interesse**: `2024-08-23T13:00:00Z/2024-08-23T19:00:00Z`. Também ordenamos por data, porém, de modo ascendente, de modo seguir a evolução temporal natural dos eventos."
   ]
  },
  {
   "cell_type": "code",
   "execution_count": null,
   "metadata": {
    "id": "ajLH8UNgeIHk"
   },
   "outputs": [],
   "source": [
    "# Search GOES-16 Items by date time. \"Dia do Fogo - SP\", 23/08/2024 [13-19 UTC]\n",
    "item_search = service.search(\n",
    "    collections=['GOES16-L2-CMI-1'],\n",
    "    datetime='2024-08-23T13:00:00Z/2024-08-23T19:00:00Z', # <== desired date\n",
    "    sortby=[{\n",
    "        'field': 'properties.datetime',\n",
    "        'direction': 'asc' # <== ascendant order\n",
    "    }]\n",
    ")"
   ]
  },
  {
   "cell_type": "markdown",
   "metadata": {
    "id": "3kgbvS7QeIHl"
   },
   "source": [
    "Verificando o número de `Items` recuperados no período (*i.e.* 6 horas), temos no total 37 itens."
   ]
  },
  {
   "cell_type": "code",
   "execution_count": null,
   "metadata": {
    "id": "MPXnkqqbeIHl"
   },
   "outputs": [],
   "source": [
    "item_search.matched()"
   ]
  },
  {
   "cell_type": "markdown",
   "metadata": {
    "id": "6eIIkUyGeIHl"
   },
   "source": [
    "<div style=\"text-align: justify;  margin-left: 15%; margin-right: 15%; border-style: solid; border-color: #0077b9; border-width: 1px; padding: 5px;\">\n",
    "    <b>Nota:</b> Ou seja, temos 6 scans por hora (com intervalo de 10 minutos entre cada scan).<br/>6 horas x 6 scans/hora = 36 Items, + 1 Item das 19h = 37 Items. 🤓\n",
    "</div>"
   ]
  },
  {
   "cell_type": "markdown",
   "metadata": {
    "id": "yQuKh_vweIHl"
   },
   "source": [
    "Na sequência, construímos uma lista com todos os `Items` que foram recuperados:"
   ]
  },
  {
   "cell_type": "code",
   "execution_count": null,
   "metadata": {
    "id": "6PriZyvVeIHl"
   },
   "outputs": [],
   "source": [
    "items = list(item_search.items())"
   ]
  },
  {
   "cell_type": "markdown",
   "metadata": {
    "id": "jOCzTIOfeIHm"
   },
   "source": [
    "Para cada `Item`, temos a imagem (`Asset`) de interesse (`B07`), que usaremos para as análises dos focos de calor.\n",
    "\n",
    "Vamos verificar algumas propriedades desse canal espectral:"
   ]
  },
  {
   "cell_type": "code",
   "execution_count": null,
   "metadata": {
    "id": "PQzlPl9teIHm"
   },
   "outputs": [],
   "source": [
    "items[0].properties['B07']"
   ]
  },
  {
   "cell_type": "code",
   "execution_count": null,
   "metadata": {
    "id": "J1OTP4sOeIHm"
   },
   "outputs": [],
   "source": [
    "for item in items:\n",
    "    print(item.properties['datetime'], '->', item.assets['B07'].href)"
   ]
  },
  {
   "cell_type": "markdown",
   "metadata": {
    "id": "ugQysGsHeIHn"
   },
   "source": [
    "## 🗺️ Método Avançado para Visualização das Imagens\n",
    "<hr style=\"border:1px solid #0077b9;\">"
   ]
  },
  {
   "cell_type": "markdown",
   "metadata": {
    "id": "I4gwkCdgeIHn"
   },
   "source": [
    "De modo a facilitar as próximas análises, definimos aqui um método denominado `visualize`.\n",
    "\n",
    "Este método tem a capacidade de realizar a visualização geolocalizada de um dado `Item`, em conjunto com uma série de parâmetros de configuração, que incluem por exemplo:\n",
    "- área de intresse a ser visualizada - `view_extent`;\n",
    "- valores `min` e `max`, utilizados para normalização dos valores da imagem (*i.e.* contraste);\n",
    "- definição de um mapa de cores - `cmap` (*i.e.* legenda);\n",
    "- informações textuais que auxiliam a interpretação e leitura do mapa - `label`, `product_name`;\n",
    "- uma *flag* - `celsius` - para conversão dos valores de temperatura da unidade Kelvin para Celsius, dentre outros."
   ]
  },
  {
   "cell_type": "code",
   "execution_count": null,
   "metadata": {
    "id": "hbiHbDmueIHn"
   },
   "outputs": [],
   "source": [
    "from cartopy.feature import NaturalEarthFeature\n",
    "from cartopy.mpl.gridliner import LONGITUDE_FORMATTER, LATITUDE_FORMATTER\n",
    "from matplotlib.colors import LinearSegmentedColormap, Normalize\n",
    "\n",
    "# Function to visualize the given item + band or product\n",
    "def visualize(item, band, proj=G16_PROJECTION, image_extent=G16_FDISK_EXTENT,\n",
    "              view_extent=None, map_size=(1024, 1024), array=None, vmin=190.0, vmax=327.0,\n",
    "              cmap='Greys', label='Brightness Temperature (K)', product_name='', celsius=False):\n",
    "    # Create plot\n",
    "    fig, ax = create_map(map_size, proj)\n",
    "\n",
    "    # Define geographic area to visualize, if requested\n",
    "    if view_extent:\n",
    "        ax.set_extent([view_extent[0], view_extent[2], view_extent[1], view_extent[3]], crs=ccrs.Geodetic())\n",
    "\n",
    "    # Colormap scale\n",
    "    norm = Normalize(vmin=vmin, vmax=vmax)\n",
    "\n",
    "    # Get pixels\n",
    "    pixels = array\n",
    "    if pixels is None:\n",
    "        # Open GOES-16 asset and extract data\n",
    "        image = Dataset(item.assets[band].href + '#mode=bytes')\n",
    "        pixels = image.variables['CMI'][:]\n",
    "\n",
    "    # Convert to Celsius, if requested\n",
    "    if celsius:\n",
    "        pixels = pixels - 273.15\n",
    "        label = 'Celsius (°C)'\n",
    "\n",
    "    if array is None:\n",
    "        image_mp = ax.imshow(pixels, origin='upper',\n",
    "            cmap=cmap, norm=norm, extent=image_extent)\n",
    "        image.close()\n",
    "    else:\n",
    "        # Plot the given array\n",
    "        image_mp = ax.imshow(pixels, origin='upper', cmap=cmap,\n",
    "            extent=[image_extent[0], image_extent[2], image_extent[1], image_extent[3]],\n",
    "            vmin=vmin, vmax=vmax, transform=ccrs.PlateCarree())\n",
    "\n",
    "    # Add references\n",
    "    ax.add_feature(cartopy.feature.BORDERS, edgecolor='white', linewidth=1.0)\n",
    "    ax.coastlines(color='white', linewidth=1.0)\n",
    "    states = NaturalEarthFeature(category='cultural', scale='50m', facecolor='none', name='admin_1_states_provinces_lines')\n",
    "    ax.add_feature(states, edgecolor='gray')\n",
    "\n",
    "    # Add lat/lon grid\n",
    "    gl = ax.gridlines(linestyle='--', draw_labels=True, alpha=0.5)\n",
    "    gl.xlabels_top = False\n",
    "    gl.ylabels_right = False\n",
    "    gl.xformatter = LONGITUDE_FORMATTER\n",
    "    gl.yformatter = LATITUDE_FORMATTER\n",
    "\n",
    "    # Setup colorbar\n",
    "    if label is not None:\n",
    "        fig.colorbar(image_mp, orientation='horizontal', pad=0.025, label=label)\n",
    "\n",
    "    # Adjust title\n",
    "    if band is not None:\n",
    "        plt.title('GOES-16 - {} | {} um | Date: {}'.format(\n",
    "            band,\n",
    "            item.assets[band].extra_fields['eo:bands'][0]['center_wavelength'],\n",
    "            item.properties['datetime'])\n",
    "        )\n",
    "    else:\n",
    "        plt.title('GOES-16 - {} | Date: {}'.format(product_name, item.properties['datetime']))\n",
    "\n",
    "    return fig, ax, image_mp"
   ]
  },
  {
   "cell_type": "markdown",
   "metadata": {
    "id": "9b-m6F4GeIHo"
   },
   "source": [
    "Utilizamos então o método `visualize` para produzir um mapa com o primeiro `Item` da lista (*i.e.* imagem 13h UTC):"
   ]
  },
  {
   "cell_type": "code",
   "execution_count": null,
   "metadata": {
    "id": "2jdTzG4WeIHo"
   },
   "outputs": [],
   "source": [
    "# Visualize first item - datetime [13:00 UTC]\n",
    "visualize(items[0], 'B07')"
   ]
  },
  {
   "cell_type": "markdown",
   "metadata": {
    "id": "UChHuDZleIHo"
   },
   "source": [
    "## 🗺️ Visualização Detalhada do Estado de São Paulo\n",
    "<hr style=\"border:1px solid #0077b9;\">"
   ]
  },
  {
   "cell_type": "markdown",
   "metadata": {
    "id": "uOJYyXXReIHo"
   },
   "source": [
    "Perceba que no resultado acima, estamos representando a imagem em sua totalidade de área coberta (*full-disk*).\n",
    "\n",
    "De modo a possibilitar uma **visualização detalhada** do Estado de São Paulo, Brasil, vamos definir uma região geográfica (`LAT_LONG_WGS84_SP_EXTENT`) que abrange esse território.\n",
    "\n",
    "Trata-se de uma lista com 4 valores de longitude e latitude, representado o canto inferior esquerdo e o canto superior direito da região."
   ]
  },
  {
   "cell_type": "code",
   "execution_count": null,
   "metadata": {
    "id": "WA5GVVfXeIHp"
   },
   "outputs": [],
   "source": [
    "# Define SP State Area (llx, lly, urx, ury)\n",
    "LAT_LONG_WGS84_SP_EXTENT = [-54.00, -26.00, -43.00, -19.00]"
   ]
  },
  {
   "cell_type": "markdown",
   "metadata": {
    "id": "86CU-ckoeIHp"
   },
   "source": [
    "Desse modo, utilizamos novamente o método `visualize`, porém, destacando agora a região do Estado de São Paulo a partir do parâmetro `view_extent`. Além disso, para tornar mais fácil a intepretação, vamos converter (`celsius=True`) os valores de temperatura de Kelvin (K) para graus Celsius (°C), unidade que estamos mais habituados. Delimitamos também os valores da escala para -80°C e 50°C."
   ]
  },
  {
   "cell_type": "code",
   "execution_count": null,
   "metadata": {
    "id": "rdNONtOGeIHp"
   },
   "outputs": [],
   "source": [
    "# Visualize first item datetime [13:00 UTC] with SP detailed\n",
    "visualize(items[0], 'B07', view_extent=LAT_LONG_WGS84_SP_EXTENT, vmin=-80.0, vmax=50.0, celsius=True)"
   ]
  },
  {
   "cell_type": "markdown",
   "metadata": {
    "id": "RrUuIEFweIHq"
   },
   "source": [
    "Neste horário (13h UTC), os primeiros focos de calor começam a ser observados no Estado de São Paulo.\n",
    "\n",
    "Porém, os parâmetros utilizados para definição da escala de cores não estão tão adequados de modo a destacar esses locais. Sendo assim, vamos inicialmente alterar o valor `vmin` para 20°C e analisar o resultado."
   ]
  },
  {
   "cell_type": "code",
   "execution_count": null,
   "metadata": {
    "id": "s507nMWdeIHq"
   },
   "outputs": [],
   "source": [
    "# Visualize first item datetime [13:00 UTC] with SP detailed\n",
    "visualize(items[0], 'B07', view_extent=LAT_LONG_WGS84_SP_EXTENT, vmin=20.0, vmax=50.0, celsius=True)"
   ]
  },
  {
   "cell_type": "markdown",
   "metadata": {
    "id": "JPYw9KnoeIHq"
   },
   "source": [
    "Do mesmo modo, vamos agora visualizar o último `Item` da lista  - 19h UTC."
   ]
  },
  {
   "cell_type": "code",
   "execution_count": null,
   "metadata": {
    "id": "tL9boSeueIHq"
   },
   "outputs": [],
   "source": [
    "# Visualize last item datetime [19:00 UTC] with SP detailed\n",
    "visualize(items[-1], 'B07', view_extent=LAT_LONG_WGS84_SP_EXTENT, vmin=20.0, vmax=50.0, celsius=True)"
   ]
  },
  {
   "cell_type": "markdown",
   "metadata": {
    "id": "90-dntMaeIHr"
   },
   "source": [
    "## 🎨 Definição de um Mapa de Cores\n",
    "<hr style=\"border:1px solid #0077b9;\">"
   ]
  },
  {
   "cell_type": "markdown",
   "metadata": {
    "id": "TGnEZr68eIHr"
   },
   "source": [
    "Nesta seção, vamos construir um mapa de cores mais adequado de modo a destacar os focos de calor presentes na imagem. Definimos o método `fire_colormap`, capaz de construir o mapa de cores para nossas análises. Utilizamos o suporte fornecido pelo `matplotlib` - `LinearSegmentedColormap`."
   ]
  },
  {
   "cell_type": "code",
   "execution_count": null,
   "metadata": {
    "id": "whg4UWT_eIHr"
   },
   "outputs": [],
   "source": [
    "import numpy as np\n",
    "from matplotlib.colors import LinearSegmentedColormap\n",
    "\n",
    "vmin, vmax = -80.0, 130.0 # Celsius\n",
    "threshold = 50.0 # Celsius\n",
    "\n",
    "def fire_colormap():\n",
    "    greys = plt.colormaps['Greys']\n",
    "    reds = LinearSegmentedColormap.from_list('RedsYellow', [\"#800000\", \"#ff4500\", \"#ffff00\"])\n",
    "\n",
    "    n_greys = int((threshold - vmin) / (vmax - vmin) * 256)\n",
    "    n_reds = 256 - n_greys\n",
    "\n",
    "    colors = np.vstack((greys(np.linspace(0, 1, n_greys)),\n",
    "        reds(np.linspace(0, 1, n_reds))))\n",
    "\n",
    "    return LinearSegmentedColormap.from_list('CombinedMap', colors)"
   ]
  },
  {
   "cell_type": "markdown",
   "metadata": {
    "id": "6EOR5iedeIHr"
   },
   "source": [
    "Em resumo, o mapa de cores construído por `fire_colormap()` representa:\n",
    "- valores de -80°C até 50°C utilizando uma escala de cinza, indo do branco até o preto;\n",
    "- valores > 50°C, com uma sequência de cores indo do <span style=\"color:red;background:#DDDDDD\">vermelho</span> até o <span style=\"color:yellow;background:gray\">amarelo</span>, com saturação em 130°C."
   ]
  },
  {
   "cell_type": "code",
   "execution_count": null,
   "metadata": {
    "id": "Hsz-4sQ3eIHs"
   },
   "outputs": [],
   "source": [
    "import matplotlib.pyplot as plt\n",
    "import numpy as np\n",
    "from matplotlib.colors import LinearSegmentedColormap\n",
    "\n",
    "# Show fire-colormap\n",
    "data = np.linspace(vmin, vmax, 256).reshape(1, -1)\n",
    "plt.figure(figsize=(8, 1))\n",
    "plt.imshow(data, aspect='auto', vmin=vmin, vmax=vmax, cmap=fire_colormap(), extent=[vmin, vmax, 0, 1])\n",
    "plt.title('Fire Colormap')"
   ]
  },
  {
   "cell_type": "markdown",
   "metadata": {
    "id": "9UIBXl_oeIHs"
   },
   "source": [
    "Visualizando novamente o último `Item` da lista (19h UTC), agora com o uso desse mapa de cores."
   ]
  },
  {
   "cell_type": "code",
   "execution_count": null,
   "metadata": {
    "id": "cZ7X1jM5eIHs"
   },
   "outputs": [],
   "source": [
    "# Visualize first item datetime [13:00 UTC] with SP detailed\n",
    "visualize(items[-1], 'B07', view_extent=LAT_LONG_WGS84_SP_EXTENT,\n",
    "  cmap=fire_colormap(), vmin=vmin, vmax=vmax, celsius=True)"
   ]
  },
  {
   "cell_type": "markdown",
   "metadata": {
    "id": "_BUAJY-yeIHs"
   },
   "source": [
    "## 🎞️ Animação das Imagens\n",
    "<hr style=\"border:1px solid #0077b9;\">"
   ]
  },
  {
   "cell_type": "markdown",
   "metadata": {
    "id": "cbS8_bd_eIHt"
   },
   "source": [
    "Uma das características mais interessantes dos dados <b><span style=\"color: blue\">GOES-16</span></b> é a **alta resolução temporal**, possível devido a órbita geoestacionária do satélite. Com isso, podemos acompanhar a evolução de fenômenos de interesse na escala de minutos. *i.e.* neste caso, mais especificamente, com intervalos de 10 minutos.\n",
    "\n",
    "Nesta seção, vamos produzir uma animação do período que estamos analisando - 13h até 19h UTC - e observar a evolução dos focos de calor. Utilizaremos novamente o suporte fornecido pelo pacote `matpotlib`, em específico o sub-módulo `animation`. Vamos também utilizar a função `visualize`, definida neste `Jupyter Notebook`."
   ]
  },
  {
   "cell_type": "code",
   "execution_count": null,
   "metadata": {
    "id": "g4xlJfeIeIHt"
   },
   "outputs": [],
   "source": [
    "import matplotlib.animation as animation\n",
    "\n",
    "from matplotlib import rc\n",
    "rc('animation', html='jshtml')\n",
    "\n",
    "# Clear plots\n",
    "plt.clf()\n",
    "\n",
    "# Define band\n",
    "band = 'B07'\n",
    "\n",
    "# Plot first image\n",
    "fig, ax, im_animation = visualize(\n",
    "    items[0], band,\n",
    "    view_extent=LAT_LONG_WGS84_SP_EXTENT,\n",
    "    map_size=(1024, 1024),\n",
    "    cmap=fire_colormap(),\n",
    "    vmin=vmin,\n",
    "    vmax=vmax,\n",
    "    celsius=True\n",
    ")\n",
    "plt.close()\n",
    "\n",
    "# Function that will be used for each image (i.e. update frame)\n",
    "def updatefig(i):\n",
    "    # Get current item\n",
    "    item = items[i]\n",
    "\n",
    "    # User feedback\n",
    "    print('{} - Plotting {}'.format(i, item.properties['datetime']))\n",
    "\n",
    "    # Already plotted\n",
    "    if i == 0:\n",
    "        return\n",
    "\n",
    "    # Update title\n",
    "    ax.set_title('GOES-16 - {} | {} um | Date: {}'.format(\n",
    "        band,\n",
    "        item.assets[band].extra_fields['eo:bands'][0]['center_wavelength'],\n",
    "        item.properties['datetime'])\n",
    "    )\n",
    "\n",
    "    # Open GOES-16 new asset and update image\n",
    "    image = Dataset(item.assets[band].href + '#mode=bytes')\n",
    "    im_animation.set_array(image.variables['CMI'][:] - 273.15)\n",
    "    image.close()\n",
    "\n",
    "anim = animation.FuncAnimation(fig, updatefig,\n",
    "    frames=len(items), blit=False, repeat=True)\n",
    "\n",
    "anim"
   ]
  },
  {
   "cell_type": "markdown",
   "metadata": {
    "id": "DG0BiLkbeIHt"
   },
   "source": [
    "## 🏁 Remapeamento para Grade Regular\n",
    "<hr style=\"border:1px solid #0077b9;\">"
   ]
  },
  {
   "cell_type": "markdown",
   "metadata": {
    "id": "87nqZA8seIHt"
   },
   "source": [
    "Uma operação bastante comum no processamento de imagens GOES é o **remapeamento** dos pixels da projeção original de aquisição (*i.e.* projeção geoestacionária) para uma grade espaço-temporal regular, como por exemplo, uma grade no Sistema de Referência Espacial (SRS) EPSG:4326, com coordenadas geográficas.\n",
    "\n",
    "Com essa operação, temos a opção de trabalhar com a imagem em uma área geográfica menor e em um grade uniforme, considerando a dimensão dos pixels. Isto pode ser uma vantagem, porém, deve ser avaliado de modo específico para o tipo de análise que se deseja realizar. Operações de remapeamento podem gerar distorções de área, por exemplo.\n",
    "\n",
    "Esta seção apresenta um método capaz de remapear os dados GOES. Definimos uma funcão chamada `remap`, que faz uso da biblioteca GDAL para realizar a transformação de projeção.\n",
    "\n",
    "<div style=\"text-align: justify;  margin-left: 15%; margin-right: 15%; border-style: solid; border-color: #0077b9; border-width: 1px; padding: 5px;\">\n",
    "    <b>Nota:</b> A GDAL é uma biblioteca de código aberto para leitura, escrita e processamento de dados geoespaciais em formatos raster e vetorial, como GeoTIFF e shapefiles. Oferece ferramentas para reprojeção, conversão de formatos, mosaico, corte , cálculo de estatísticas, dentre outras. Escrita em C++, possui uma API que pode ser utilizada em Python.\n",
    "</div>\n",
    "\n",
    "Em resumo, a função aplica as transformações necessárias, retornando ao final um `Numpy Array` de dimensões (m x n), representando os pixels no novo SRS."
   ]
  },
  {
   "cell_type": "code",
   "execution_count": null,
   "metadata": {
    "id": "YM3lIX6MeIHt"
   },
   "outputs": [],
   "source": [
    "from osgeo import gdal, osr\n",
    "import numpy as np\n",
    "\n",
    "# Define KM_PER_DEGREE (Earth's circumference/360.0 = ~ 111km)\n",
    "KM_PER_DEGREE = 40075.16/360.0\n",
    "\n",
    "def getGeoT(extent, nlines, ncols):\n",
    "    resx = (extent[2] - extent[0]) / ncols\n",
    "    resy = (extent[3] - extent[1]) / nlines\n",
    "    return [extent[0], resx, 0, extent[3] , 0, -resy]\n",
    "\n",
    "def getScaleOffset(path, var='CMI'):\n",
    "    nc = Dataset(path + '#mode=bytes', mode='r')\n",
    "    scale = nc.variables[var].scale_factor\n",
    "    offset = nc.variables[var].add_offset\n",
    "    nc.close()\n",
    "    return scale, offset\n",
    "\n",
    "def getFillValue(path, var='CMI'):\n",
    "    nc = Dataset(path + '#mode=bytes', mode='r')\n",
    "    value = nc.variables[var]._FillValue\n",
    "    nc.close()\n",
    "    return value\n",
    "\n",
    "def getProj(path):\n",
    "    # Open GOES-16 netCDF file\n",
    "    nc = Dataset(path + '#mode=bytes', mode='r')\n",
    "    # Get GOES-R ABI fixed grid projection\n",
    "    proj = nc['goes_imager_projection']\n",
    "    # Extract parameters\n",
    "    h = proj.perspective_point_height\n",
    "    a = proj.semi_major_axis\n",
    "    b = proj.semi_minor_axis\n",
    "    inv = 1.0 / proj.inverse_flattening\n",
    "    lat0 = proj.latitude_of_projection_origin\n",
    "    lon0 = proj.longitude_of_projection_origin\n",
    "    sweep = proj.sweep_angle_axis\n",
    "    # Build proj4 string\n",
    "    proj4 = ('+proj=geos +h={} +a={} +b={} +f={} +lat_0={} +lon_0={} +sweep={} +no_defs').format(h, a, b, inv, lat0, lon0, sweep)\n",
    "    # Create projection object\n",
    "    proj = osr.SpatialReference()\n",
    "    proj.ImportFromProj4(proj4)\n",
    "    # Close GOES-16 netCDF file\n",
    "    nc.close()\n",
    "    return proj\n",
    "\n",
    "def getProjExtent(path):\n",
    "    nc = Dataset(path + '#mode=bytes', mode='r')\n",
    "    H = nc['goes_imager_projection'].perspective_point_height\n",
    "    llx = nc.variables['x_image_bounds'][0] * H\n",
    "    lly = nc.variables['y_image_bounds'][1] * H\n",
    "    urx = nc.variables['x_image_bounds'][1] * H\n",
    "    ury = nc.variables['y_image_bounds'][0] * H\n",
    "    nc.close()\n",
    "    return [llx, lly, urx, ury]\n",
    "\n",
    "def remap(path, extent, resolution, targetPrj, progress=None, var='CMI'):\n",
    "    # Read scale/offset from file\n",
    "    scale, offset = getScaleOffset(path, var)\n",
    "\n",
    "    # GOES spatial reference system\n",
    "    sourcePrj = getProj(path)\n",
    "\n",
    "    # Extract GOES projection extent\n",
    "    goesProjExtent = getProjExtent(path)\n",
    "\n",
    "    # Fill value\n",
    "    fillValue = getFillValue(path, var)\n",
    "\n",
    "    # Get total extent, if necessary\n",
    "    if extent is None:\n",
    "        extent = getGeoExtent(path)\n",
    "\n",
    "    # Read image using netCDF4\n",
    "    nc = Dataset(path + '#mode=bytes', mode='r')\n",
    "    data = nc.variables['CMI'][:]\n",
    "    nc.close()\n",
    "\n",
    "    # Get memory driver\n",
    "    memDriver = gdal.GetDriverByName('MEM')\n",
    "\n",
    "    # Dimensions\n",
    "    nlines = data.shape[0]\n",
    "    ncols = data.shape[1]\n",
    "\n",
    "    # Create GOES data in memory using GDAL\n",
    "    raw = memDriver.Create('goes', ncols, nlines, 1, gdal.GDT_Float32)\n",
    "\n",
    "    # Setup projection and geo-transformation\n",
    "    raw.SetProjection(sourcePrj.ExportToWkt())\n",
    "    raw.SetGeoTransform(getGeoT(goesProjExtent, nlines, ncols))\n",
    "    raw.GetRasterBand(1).SetNoDataValue(float(fillValue))\n",
    "    raw.GetRasterBand(1).Fill(float(fillValue))\n",
    "    raw.GetRasterBand(1).WriteArray(data)\n",
    "\n",
    "    # Compute grid dimension\n",
    "    sizex = int(((extent[2] - extent[0]) * KM_PER_DEGREE)/resolution)\n",
    "    sizey = int(((extent[3] - extent[1]) * KM_PER_DEGREE)/resolution)\n",
    "\n",
    "    # Output data type and fill-value\n",
    "    type = gdal.GDT_Float32\n",
    "\n",
    "    # Create grid\n",
    "    grid = memDriver.Create('grid', sizex, sizey, 1, type)\n",
    "    grid.GetRasterBand(1).SetNoDataValue(float(fillValue))\n",
    "    grid.GetRasterBand(1).Fill(float(fillValue))\n",
    "\n",
    "    # Setup projection and geo-transformation\n",
    "    grid.SetProjection(targetPrj.ExportToWkt())\n",
    "    grid.SetGeoTransform(getGeoT(extent, grid.RasterYSize, grid.RasterXSize))\n",
    "\n",
    "    # Perform the projection/resampling\n",
    "    gdal.ReprojectImage(raw, grid, sourcePrj.ExportToWkt(), targetPrj.ExportToWkt(), \\\n",
    "                        gdal.GRA_NearestNeighbour, options=['NUM_THREADS=ALL_CPUS'], \\\n",
    "                        callback=progress)\n",
    "\n",
    "    # Result\n",
    "    data = grid.ReadAsArray()\n",
    "\n",
    "    # Close all\n",
    "    raw = None\n",
    "    grid = None\n",
    "\n",
    "    return data"
   ]
  },
  {
   "cell_type": "markdown",
   "metadata": {
    "id": "ak54Wkh6eIHu"
   },
   "source": [
    "Definimos aqui o SRS EPSG:4326, a partir de uma string `proj4`."
   ]
  },
  {
   "cell_type": "code",
   "execution_count": null,
   "metadata": {
    "id": "elv22IhxeIHu"
   },
   "outputs": [],
   "source": [
    "# Define Lat/Lon WSG84 Spatial Reference System (EPSG:4326)\n",
    "LAT_LON_WGS84 = osr.SpatialReference()\n",
    "LAT_LON_WGS84.ImportFromProj4('+proj=longlat +ellps=WGS84 +datum=WGS84 +no_defs')\n",
    "LAT_LON_WGS84"
   ]
  },
  {
   "cell_type": "markdown",
   "metadata": {
    "id": "VGbgxXgUeIHu"
   },
   "source": [
    "Em seguida, fazemos o remapeamento de cada imagem que estamos analisando.\n",
    "\n",
    "Utilizamos a área do Estado de São Paulo (`LAT_LONG_WGS84_SP_EXTENT`), com uma resolução espacial de grade de 2km.\n",
    "\n",
    "O processamento é realizado para cada `Item` e os resultados finais armazenados em uma lista."
   ]
  },
  {
   "cell_type": "code",
   "execution_count": null,
   "metadata": {
    "id": "DYEonkzNeIHu"
   },
   "outputs": [],
   "source": [
    "b07_remapped = []\n",
    "for item in items:\n",
    "    print('Remapping {}'.format(item.properties['datetime']))\n",
    "    b07_remapped.append(remap(item.assets['B07'].href, LAT_LONG_WGS84_SP_EXTENT, 2.0, LAT_LON_WGS84))"
   ]
  },
  {
   "cell_type": "markdown",
   "metadata": {
    "id": "Nc8ihuzseIHv"
   },
   "source": [
    "Visualizando o resultado do remapeamento para o primeiro `Item`:"
   ]
  },
  {
   "cell_type": "code",
   "execution_count": null,
   "metadata": {
    "id": "kfHfLQwueIHv"
   },
   "outputs": [],
   "source": [
    "plt.imshow(b07_remapped[0], cmap='Greys', vmin=190.0, vmax=327.0)\n",
    "plt.colorbar(orientation='horizontal')"
   ]
  },
  {
   "cell_type": "markdown",
   "metadata": {
    "id": "CRIjsopQeIHv"
   },
   "source": [
    "Do mesmo modo, podemos utilizar o método `visualize` para obter uma representação do tipo mapa, agora utilizando a grade regular:"
   ]
  },
  {
   "cell_type": "code",
   "execution_count": null,
   "metadata": {
    "id": "g2JWgXA2eIHv"
   },
   "outputs": [],
   "source": [
    "visualize(items[0], 'B07',\n",
    "    proj=ccrs.PlateCarree(),\n",
    "    image_extent=LAT_LONG_WGS84_SP_EXTENT,\n",
    "    view_extent=LAT_LONG_WGS84_SP_EXTENT,\n",
    "    array=b07_remapped[0],\n",
    "    cmap=fire_colormap(),\n",
    "    vmin=vmin, vmax=vmax,\n",
    "    celsius=True\n",
    ")"
   ]
  },
  {
   "cell_type": "markdown",
   "metadata": {
    "id": "PXaUQxGKeIHv"
   },
   "source": [
    "Vamos gerar a mesma animação para o período analisado, agora utilizando as imagens remapeadas em EPSG:4326:"
   ]
  },
  {
   "cell_type": "code",
   "execution_count": null,
   "metadata": {
    "id": "VoNeODdjeIHw"
   },
   "outputs": [],
   "source": [
    "import matplotlib.animation as animation\n",
    "\n",
    "from matplotlib import rc\n",
    "rc('animation', html='jshtml')\n",
    "\n",
    "# Clear plots\n",
    "plt.clf()\n",
    "\n",
    "# Define band\n",
    "band = 'B07'\n",
    "\n",
    "fig, ax, im_animation = visualize(\n",
    "    items[0], band,\n",
    "    proj=ccrs.PlateCarree(),\n",
    "    image_extent=LAT_LONG_WGS84_SP_EXTENT,\n",
    "    view_extent=LAT_LONG_WGS84_SP_EXTENT,\n",
    "    array=b07_remapped[0],\n",
    "    cmap=fire_colormap(), vmin=vmin, vmax=vmax, celsius=True\n",
    ")\n",
    "plt.close()\n",
    "\n",
    "def updatefig(i):\n",
    "    # Get current item\n",
    "    item = items[i]\n",
    "\n",
    "    # User feedback\n",
    "    print('{} - Plotting {}'.format(i, item.properties['datetime']))\n",
    "\n",
    "    # Already plotted\n",
    "    if i == 0:\n",
    "        return\n",
    "\n",
    "    # Update title\n",
    "    ax.set_title('GOES-16 - {} | {} um | Date: {}'.format(\n",
    "        band,\n",
    "        item.assets[band].extra_fields['eo:bands'][0]['center_wavelength'],\n",
    "        item.properties['datetime'])\n",
    "    )\n",
    "\n",
    "    # Update data array\n",
    "    im_animation.set_array(b07_remapped[i] - 273.15)\n",
    "\n",
    "anim = animation.FuncAnimation(fig, updatefig,\n",
    "    frames=len(items), blit=False, repeat=True)\n",
    "\n",
    "anim"
   ]
  },
  {
   "cell_type": "markdown",
   "metadata": {
    "id": "NwQp3cZteIHw"
   },
   "source": [
    "## 🌐 Extração de Feições\n",
    "<hr style=\"border:1px solid #0077b9;\">"
   ]
  },
  {
   "cell_type": "markdown",
   "metadata": {
    "id": "JHL0INpGeIHw"
   },
   "source": [
    "Nesta seção, vamos trabalhar outro tipo de representação para os dados espaciais que estamos analisando. Faremos a extração vetorial dos focos de calor; *i.e.* partimos da representação **raster** para representação **vetor**.\n",
    "\n",
    "O processo de extração de feições vetoriais a partir de imagens de satélite, como as fornecidas pelo canal 7 (3.9 µm) do sensor ABI do GOES-16, é uma importante ferramenta na área da Geoinformática. Neste contexto, nos permite identificar focos de calor de maneira eficiente e aplicar outros métodos e técnicas. Basicamente, esta operação vai compreender 3 etapas principais:\n",
    "\n",
    "1. **Limiarização**:\n",
    "   Os dados brutos do canal termal são analisados com base em um valor de limiar, geralmente em unidades de temperatura (Kelvin), para destacar regiões que correspondem a potenciais focos de calor. *Background vs. Foreground*;\n",
    "\n",
    "2. **Rotulação**:\n",
    "   Após a identificação das áreas de interesse, é realizado um processo de rotulação para agrupar pixels conectados que pertencem ao mesmo foco. Isso facilita a distinção entre diferentes focos de calor em uma única imagem;\n",
    "\n",
    "3. **Vetorização**:\n",
    "   As regiões rotuladas são transformadas em objetos vetoriais, como polígonos, utilizando suas coordenadas espaciais. Esses objetos podem ser armazenados em formatos geoespaciais padrão, como GeoJSON ou shapefiles, permitindo a integração com Sistemas de Informação Geográfica (SIG), por exemplo.\n",
    "\n",
    "Com os dados em formato vetorial, é possível realizar análises mais detalhadas, como o cálculo da área dos focos de calor ou a determinação de modo mais prático da distribuição espacial. Podemos utilizar operadores topológicos, operadores de conjunto, dentre outros."
   ]
  },
  {
   "cell_type": "markdown",
   "metadata": {
    "id": "-4n4QwVQeIHw"
   },
   "source": [
    "### 🖥️ Método para Extração de Feições e Vetorização\n",
    "<hr style=\"border:1px solid #0077b9;\">"
   ]
  },
  {
   "cell_type": "markdown",
   "metadata": {
    "id": "DZM8wcuMeIHx"
   },
   "source": [
    "Definimos um método chamado `detect_fire`, responsável por realizar as etapas descritas acima. Este método recebe como parâmetros a imagem que será analisada e um limiar de temperatura, além de um parâmetro opcional que pode ser utilizado para restringir a área mínima das feições que serão detectadas. Estamos utilizando o suporte fornecido pela biblioteca `OGR` e também o pacote `scipy`.\n",
    "\n",
    "<div style=\"text-align: justify;  margin-left: 15%; margin-right: 15%; border-style: solid; border-color: #0077b9; border-width: 1px; padding: 5px;\">\n",
    "    <b>Nota:</b> A OGR, parte da biblioteca GDAL, é usada para manipulação de dados vetoriais geoespaciais, permitindo leitura, escrita e transformação de formatos como Shapefile e GeoJSON.\n",
    "</div>\n",
    "\n",
    "<div style=\"text-align: justify;  margin-left: 15%; margin-right: 15%; border-style: solid; border-color: #0077b9; border-width: 1px; padding: 5px;\">\n",
    "    <b>Nota:</b> O SciPy é uma biblioteca Python para computação científica, oferecendo ferramentas para análise de dados, processamento de imagens e outras aplicações matemáticas.\n",
    "</div>"
   ]
  },
  {
   "cell_type": "code",
   "execution_count": null,
   "metadata": {
    "id": "UijHsoQdeIHx"
   },
   "outputs": [],
   "source": [
    "from osgeo import gdal, gdal_array, ogr\n",
    "from scipy import ndimage\n",
    "\n",
    "def array2raster(array, extent, srs=LAT_LON_WGS84, nodata=0.0):\n",
    "    # Get array dimension and data type\n",
    "    nlines = array.shape[0]\n",
    "    ncols = array.shape[1]\n",
    "    type = gdal_array.NumericTypeCodeToGDALTypeCode(array.dtype)\n",
    "\n",
    "    # Create GDAL raster\n",
    "    driver = gdal.GetDriverByName('MEM')\n",
    "    raster = driver.Create('', ncols, nlines, 1, type)\n",
    "    raster.SetGeoTransform(getGeoT(extent, nlines, ncols))\n",
    "\n",
    "    # Adjust band and write\n",
    "    band = raster.GetRasterBand(1)\n",
    "    band.SetNoDataValue(nodata)\n",
    "    band.WriteArray(array)\n",
    "\n",
    "    # Adjust SRS\n",
    "    if srs is not None:\n",
    "        raster.SetProjection(srs.ExportToWkt())\n",
    "\n",
    "    band.FlushCache()\n",
    "\n",
    "    return raster\n",
    "\n",
    "def detect_fire(image, temperature, minArea=None):\n",
    "    # Thresholding\n",
    "    pixels = np.copy(image)\n",
    "    pixels[pixels < temperature] = 0\n",
    "\n",
    "    # Find connected components\n",
    "    labeled, nObjects = ndimage.label(pixels)\n",
    "\n",
    "    # Create Gdal dataset with labeled result in order to apply polygonize operation\n",
    "    objects_pixels = array2raster(labeled, LAT_LONG_WGS84_SP_EXTENT)\n",
    "\n",
    "    # Create layer in memory\n",
    "    driver = ogr.GetDriverByName('MEMORY')\n",
    "    ds = driver.CreateDataSource('hot_spots')\n",
    "    layer = ds.CreateLayer('geom', srs=None)\n",
    "\n",
    "    # Get first band\n",
    "    band = objects_pixels.GetRasterBand(1)\n",
    "\n",
    "    # Poligonize using GDAL method\n",
    "    gdal.Polygonize(band, band.GetMaskBand(), layer, -1, options=['8CONNECTED=8'], callback=None)\n",
    "\n",
    "    polygons = []\n",
    "\n",
    "    for feature in layer:\n",
    "        # Get polygon representation (detail: using Buffer(0) to fix self-intersections)\n",
    "        p = feature.GetGeometryRef().Buffer(0)\n",
    "        # Verify minimum area\n",
    "        if minArea is None:\n",
    "            polygons.append(p)\n",
    "        elif p.GetArea() > minArea:\n",
    "            polygons.append(p)\n",
    "\n",
    "    return polygons"
   ]
  },
  {
   "cell_type": "markdown",
   "metadata": {
    "id": "I0F8qg4ceIHx"
   },
   "source": [
    "Na sequência, podemos utilizar o método `detect_fire` para os `Items` que estamos analisando.\n",
    "\n",
    "Abaixo, fazemos a detecção para a última imagem - 19h UTC - e exibimos o WKT (*Well-known Text*) de uma **geometria**."
   ]
  },
  {
   "cell_type": "code",
   "execution_count": null,
   "metadata": {
    "id": "bOPB0OzKeIHx"
   },
   "outputs": [],
   "source": [
    "fire_threshold = 323.15 # Kelvin = 50C\n",
    "hot_spots = detect_fire(b07_remapped[-1], temperature=fire_threshold)\n",
    "print(hot_spots[0].ExportToWkt())"
   ]
  },
  {
   "cell_type": "markdown",
   "metadata": {
    "id": "Bfpg_pr5eIHy"
   },
   "source": [
    "### 🗺️ Visualizando Feições Vetoriais\n",
    "<hr style=\"border:1px solid #0077b9;\">"
   ]
  },
  {
   "cell_type": "markdown",
   "metadata": {
    "id": "v8ls5vZzeIHy"
   },
   "source": [
    "Faremos uma pequeno aprimoramento no método `visualize` de modo permitir a visualização de feições vetoriais em conjunto com dados de imagem. Em resumo, adicionamos um parâmetro opcional - `polygons = []` - que indica uma lista de objetos vetoriais que serão exibidos."
   ]
  },
  {
   "cell_type": "code",
   "execution_count": null,
   "metadata": {
    "id": "fEMPvDZfeIHy"
   },
   "outputs": [],
   "source": [
    "from cartopy.feature import NaturalEarthFeature\n",
    "from cartopy.mpl.gridliner import LONGITUDE_FORMATTER, LATITUDE_FORMATTER\n",
    "from matplotlib.colors import LinearSegmentedColormap, Normalize\n",
    "from matplotlib.patches import Polygon\n",
    "\n",
    "def extract_coordinates(polygon):\n",
    "    '''\n",
    "    This method extract the coordinates of polygon to two python lists.\n",
    "    '''\n",
    "    lats, lons = [], []\n",
    "    points = polygon.GetGeometryRef(0).GetPoints()\n",
    "    for p in points:\n",
    "        lons.append(p[0]); lats.append(p[1])\n",
    "    return lats, lons\n",
    "\n",
    "# Function to visualize the given item + band or product + polygons\n",
    "def visualize(item, band, proj=G16_PROJECTION, image_extent=G16_FDISK_EXTENT,\n",
    "              view_extent=None, map_size=(1024, 1024), array=None, vmin=190.0, vmax=327.0,\n",
    "              cmap='Greys', label='Brightness Temperature (K)', product_name='', polygons=[]):\n",
    "    # Create plot\n",
    "    fig, ax = create_map(map_size, proj)\n",
    "\n",
    "    # Define geographic area to visualize, if requested\n",
    "    if view_extent:\n",
    "        ax.set_extent([view_extent[0], view_extent[2], view_extent[1], view_extent[3]], crs=ccrs.Geodetic())\n",
    "\n",
    "    # Colormap scale\n",
    "    norm = Normalize(vmin=vmin, vmax=vmax)\n",
    "\n",
    "    if array is None:\n",
    "        # Open GOES-16 asset and plot image\n",
    "        image = Dataset(item.assets[band].href + '#mode=bytes')\n",
    "        image_mp = ax.imshow(image.variables['CMI'], origin='upper',\n",
    "            cmap=cmap, norm=norm, vmin=vmin, vmax=vmax, extent=image_extent)\n",
    "        image.close()\n",
    "    else:\n",
    "        # Plot the given array\n",
    "        image_mp = ax.imshow(array, origin='upper', cmap=cmap, norm=norm,\n",
    "            extent=[image_extent[0], image_extent[2], image_extent[1], image_extent[3]],\n",
    "            transform=ccrs.PlateCarree())\n",
    "\n",
    "    # Add references\n",
    "    ax.add_feature(cartopy.feature.BORDERS, edgecolor='white', linewidth=1.0)\n",
    "    ax.coastlines(color='white', linewidth=1.0)\n",
    "    states = NaturalEarthFeature(category='cultural', scale='50m', facecolor='none', name='admin_1_states_provinces_lines')\n",
    "    ax.add_feature(states, edgecolor='gray')\n",
    "\n",
    "    # Add lat/lon grid\n",
    "    gl = ax.gridlines(linestyle='--', draw_labels=True, alpha=0.5)\n",
    "    gl.xlabels_top = False\n",
    "    gl.ylabels_right = False\n",
    "    gl.xformatter = LONGITUDE_FORMATTER\n",
    "    gl.yformatter = LATITUDE_FORMATTER\n",
    "\n",
    "    # Setup colorbar\n",
    "    if label is not None:\n",
    "        fig.colorbar(image_mp, orientation='horizontal', pad=0.025, label=label)\n",
    "\n",
    "    # Adjust title\n",
    "    if band is not None:\n",
    "        plt.title('GOES-16 - {} | {} um | Date: {}'.format(\n",
    "            band,\n",
    "            item.assets[band].extra_fields['eo:bands'][0]['center_wavelength'],\n",
    "            item.properties['datetime'])\n",
    "        )\n",
    "    else:\n",
    "        plt.title('GOES-16 - {} | Date: {}'.format(product_name, item.properties['datetime']))\n",
    "\n",
    "    for p in polygons:\n",
    "        # Extract lat/lon\n",
    "        lats, lons = extract_coordinates(p)\n",
    "        xy = list(zip(lons, lats))\n",
    "        # Plot vector object\n",
    "        poly = Polygon(xy, facecolor='none', lw=2.0, edgecolor='red', alpha=1.0)\n",
    "        plt.gca().add_patch(poly)\n",
    "\n",
    "    return fig, ax, image_mp"
   ]
  },
  {
   "cell_type": "markdown",
   "metadata": {
    "id": "F7GaIDwkeIHz"
   },
   "source": [
    "Visualizando o resultado da detecção e extração vetorial dos focos de calor (> 50°C):"
   ]
  },
  {
   "cell_type": "code",
   "execution_count": null,
   "metadata": {
    "id": "aqqtea8HeIHz"
   },
   "outputs": [],
   "source": [
    "visualize(items[-1], band='B07',\n",
    "    proj=ccrs.PlateCarree(),\n",
    "    image_extent=LAT_LONG_WGS84_SP_EXTENT,\n",
    "    view_extent=LAT_LONG_WGS84_SP_EXTENT,\n",
    "    cmap='Greys', vmin=190.0, vmax=325.0,\n",
    "    array=b07_remapped[-1],\n",
    "    polygons=hot_spots\n",
    ")"
   ]
  },
  {
   "cell_type": "markdown",
   "metadata": {
    "id": "tTjpnlOFeIHz"
   },
   "source": [
    "Visualizando com mais detalhes os polígonos gerados:"
   ]
  },
  {
   "cell_type": "code",
   "execution_count": null,
   "metadata": {
    "id": "QTRu_ZyeeIHz"
   },
   "outputs": [],
   "source": [
    "# Search polygon with Maximum Area\n",
    "max_area_polygon, max_area = None, 0.0\n",
    "for polygon in hot_spots:\n",
    "    if polygon.GetArea() > max_area:\n",
    "        max_area_polygon = polygon\n",
    "        max_area = polygon.GetArea()\n",
    "\n",
    "# Adjust view_extent in order to highlight max polygon area\n",
    "max_extent = max_area_polygon.GetEnvelope()\n",
    "max_extent = [max_extent[0] - 0.8, max_extent[2] - 0.8,\n",
    "    max_extent[1] + 0.8, max_extent[3] + 0.8]\n",
    "\n",
    "visualize(items[-1], band='B07',\n",
    "    proj=ccrs.PlateCarree(),\n",
    "    image_extent=LAT_LONG_WGS84_SP_EXTENT,\n",
    "    view_extent=max_extent,\n",
    "    cmap='Greys', vmin=190.0, vmax=325.0,\n",
    "    array=b07_remapped[-1],\n",
    "    polygons=hot_spots\n",
    ")"
   ]
  },
  {
   "cell_type": "markdown",
   "metadata": {
    "id": "jDSgOn-feIH0"
   },
   "source": [
    "### 📐 Cálculo de Área Total dos Focos de Calor\n",
    "<hr style=\"border:1px solid #0077b9;\">"
   ]
  },
  {
   "cell_type": "markdown",
   "metadata": {
    "id": "nW4NrzIAeIH0"
   },
   "source": [
    "Vamos estimar a evolução da área representada pelo focos de calor.\n",
    "\n",
    "Neste caso, primeiro utilizamos o método `detect_fire` para cada `Item` que estamos analisando."
   ]
  },
  {
   "cell_type": "code",
   "execution_count": null,
   "metadata": {
    "id": "as8x9p3ueIH0"
   },
   "outputs": [],
   "source": [
    "hot_spots = {}\n",
    "for item, image in zip(items, b07_remapped):\n",
    "    hot_spots[item.properties['datetime']] = detect_fire(image, temperature=fire_threshold)"
   ]
  },
  {
   "cell_type": "markdown",
   "metadata": {
    "id": "oDy5ZjrJeIH1"
   },
   "source": [
    "Em seguida, calculamos, **para cada instante de tempo**, a área total dos focos de calor detectados."
   ]
  },
  {
   "cell_type": "code",
   "execution_count": null,
   "metadata": {
    "id": "9Y3PrDkpeIH1"
   },
   "outputs": [],
   "source": [
    "times, areas = [], []\n",
    "for time in hot_spots:\n",
    "    total_area = 0.0\n",
    "    for polygon in hot_spots[time]:\n",
    "        total_area = total_area + polygon.GetArea()\n",
    "    areas.append(total_area * KM_PER_DEGREE * KM_PER_DEGREE)\n",
    "    times.append(time)"
   ]
  },
  {
   "cell_type": "markdown",
   "metadata": {
    "id": "O1E1EKeieIH1"
   },
   "source": [
    "<div style=\"text-align: justify;  margin-left: 15%; margin-right: 15%; border-style: solid; border-color: #0077b9; border-width: 1px; padding: 5px;\">\n",
    "    ❗ <b>Importante:</b> Estamos fazendo uma aproximação bastante simples, convertendo a área em graus (unidade de medida do SRS EPSG:4326) para kilômetros (km). Existem métodos mais precisos e adequados para realizar esse cálculo, porém, para fins didáticos, essa aproximação é considerada suficiente.\n",
    "\n",
    "</div>"
   ]
  },
  {
   "cell_type": "markdown",
   "metadata": {
    "id": "9ZjjcZYMeIH1"
   },
   "source": [
    "Por último, visualizamos a análise da área total dos focos de calor com auxílio dos pacotes `pandas` e `seaborn`:"
   ]
  },
  {
   "cell_type": "code",
   "execution_count": null,
   "metadata": {
    "id": "ChmLn-R6eIH1"
   },
   "outputs": [],
   "source": [
    "import seaborn as sns\n",
    "import pandas as pd\n",
    "from matplotlib.dates import DateFormatter\n",
    "\n",
    "sns.set_theme()\n",
    "\n",
    "date_format = '%H:%M'\n",
    "plt.gca().xaxis.set_major_formatter(DateFormatter(date_format))\n",
    "\n",
    "df = pd.DataFrame({'Date': pd.to_datetime(times, format='ISO8601'), 'Area': areas})\n",
    "plot = sns.lineplot(x='Date', y='Area', color='b', data=df)\n",
    "plt.title('Área Total (km2) - Focos de Calor - 23/08/2024')\n",
    "df"
   ]
  },
  {
   "cell_type": "markdown",
   "metadata": {
    "id": "nVPbSpSreIH1"
   },
   "source": [
    "# 📖 Referências\n",
    "<hr style=\"border:1px solid #0077b9;\">"
   ]
  },
  {
   "cell_type": "markdown",
   "metadata": {
    "id": "UYdqAKCreIH2"
   },
   "source": [
    "- [Spatio Temporal Asset Catalog Specification](https://stacspec.org/)\n",
    "\n",
    "- [Python Client Library for STAC Service](https://pystac-client.readthedocs.io/en/latest/)\n",
    "\n",
    "- [DSAT](https://www.cptec.inpe.br/dsat)\n",
    "\n",
    "- [GOES-R Mission](https://www.goes-r.gov/)\n",
    "\n",
    "- [GOES-R - ABI Bands Quick Information Guides](https://www.goes-r.gov/mission/ABI-bands-quick-info.html)\n",
    "\n",
    "- [GOES-R Series Product Definition and Users’ Guide](https://www.goes-r.gov/users/docs/PUG-L2+-vol5.pdf)\n",
    "\n",
    "- [Beginner’s Guide to GOES-R Series Data](https://www.goes-r.gov/downloads/resources/documents/Beginners_Guide_to_GOES-R_Series_Data.pdf)\n",
    "\n",
    "- [BIG/INPE](https://data.inpe.br/big/web/)\n",
    "\n",
    "- [Brazil Data Cube - BDC](https://data.inpe.br/bdc/web/)"
   ]
  }
 ],
 "metadata": {
  "colab": {
   "provenance": []
  },
  "kernelspec": {
   "display_name": "Python (Geospatial)",
   "language": "python",
   "name": "geospatial"
  },
  "language_info": {
   "codemirror_mode": {
    "name": "ipython",
    "version": 3
   },
   "file_extension": ".py",
   "mimetype": "text/x-python",
   "name": "python",
   "nbconvert_exporter": "python",
   "pygments_lexer": "ipython3",
   "version": "3.11.6"
  }
 },
 "nbformat": 4,
 "nbformat_minor": 0
}
