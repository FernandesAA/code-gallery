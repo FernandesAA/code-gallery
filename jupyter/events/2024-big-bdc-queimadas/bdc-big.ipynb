{
 "cells": [
  {
   "cell_type": "markdown",
   "id": "a336dca9-a481-4b93-bb18-95c6cac754b2",
   "metadata": {},
   "source": [
    "<img src=\"https://raw.githubusercontent.com/brazil-data-cube/code-gallery/master/img/logo-bdc.png\" align=\"right\" width=\"64\"/>\n",
    "\n",
    "# <span style=\"color:#336699\">Acesso e Visualização de Imagens de Sensoriamento Remoto</span>\n",
    "<hr style=\"border:2px solid #0077b9;\">\n",
    "\n",
    "<div style=\"text-align: left;\">\n",
    "    <a href=\"https://nbviewer.jupyter.org/github/brazil-data-cube/code-gallery/blob/master/jupyter/Python/stac/stac-introduction.ipynb\"><img src=\"https://raw.githubusercontent.com/jupyter/design/master/logos/Badges/nbviewer_badge.svg\" align=\"center\"/></a>\n",
    "</div>\n",
    "\n",
    "<br/>\n",
    "\n",
    "<div style=\"text-align: center;font-size: 90%;\">\n",
    "    Gilberto Ribeiro de Queiroz<sup><a href=\"https://orcid.org/0000-0001-7534-0219\"><i class=\"fab fa-lg fa-orcid\" style=\"color: #a6ce39\"></i></a></sup>, Karine Reis Ferreira<sup><a href=\"https://orcid.org/0000-0003-2656-5504\"><i class=\"fab fa-lg fa-orcid\" style=\"color: #a6ce39\"></i></a></sup>, Marcos Adami<sup><a href=\"https://orcid.org/0000-0003-4247-4477\"><i class=\"fab fa-lg fa-orcid\" style=\"color: #a6ce39\"></i></a></sup>, Thales Sehn Körting<sup><a href=\"https://orcid.org/0000-0002-0876-0501\"><i class=\"fab fa-lg fa-orcid\" style=\"color: #a6ce39\"></i></a></sup>\n",
    "    <br/><br/>\n",
    "    Earth Observation and Geoinformatics Division, National Institute for Space Research (INPE)\n",
    "    <br/>\n",
    "    Avenida dos Astronautas, 1758, Jardim da Granja, São José dos Campos, SP 12227-010, Brazil\n",
    "    <br/><br/>\n",
    "    Contact: <a href=\"mailto:bdc.team@inpe.br\">bdc.team@inpe.br</a>\n",
    "    <br/><br/>\n",
    "    Última Atualização: 08 de Dezembro de 2023\n",
    "</div>\n",
    "\n",
    "<br/>\n",
    "\n",
    "<div style=\"text-align: justify;  margin-left: 25%; margin-right: 25%;\">\n",
    "    <b>Resumo.</b> Na <em>Plataforma Brazil Data Cube</em> as coleções de imagens e cubos de dados podem ser consultadas e visualizadas através de uma interface gráfica com o usuário denominada <a href=\"https://brazildatacube.dpi.inpe.br/portal/explore\" target=\"_blank\">Data Cube Explorer</a>, ou através de interfaces de programação de aplicações (API) baseadas em diversos serviços web, como o <a href=\"https://stacspec.org/\" target=\"_blank\">SpatioTemporal Asset Catalog (STAC)</a>, <a href=\"https://wiki.osgeo.org/wiki/Tile_Map_Service_Specification\" target=\"_blank\">Tile Map Service (TMS)</a>, e <a href=\"http://www.seer.ufu.br/index.php/revistabrasileiracartografia/article/view/44004\" target=\"_blank\">Web Time Series Service (WTSS)</a>, entre outros. Este Jupyter Notebook apresenta uma visão geral do uso desses serviços para descoberta, acesso e visualização aos produtos de dados de sensoriamento remoto com base nas tecnologias da <em>Plataforma Brazil Data Cube</em>.\n",
    "</div>\n",
    "\n",
    "<br/>\n",
    "<div style=\"text-align: justify;  margin-left: 25%; margin-right: 25%;font-size: 75%; border-style: solid; border-color: #0077b9; border-width: 1px; padding: 5px;\">\n",
    "    <b>Esse Jupyter Notebook é um suplemento ao seguinte artigo:</b>\n",
    "    <div style=\"margin-left: 10px; margin-right: 10px\">\n",
    "    Ferreira, K.R.; Queiroz, G.R.; Vinhas, L.; Marujo, R.F.B.; Simoes, R.E.O.; Picoli, M.C.A.; Camara, G.; Cartaxo, R.; Gomes, V.C.F.; Santos, L.A.; Sanchez, A.H.; Arcanjo, J.S.; Fronza, J.G.; Noronha, C.A.; Costa, R.W.; Zaglia, M.C.; Zioti, F.; Korting, T.S.; Soares, A.R.; Chaves, M.E.D.; Fonseca, L.M.G. <a href=\"https://doi.org/10.3390/rs12244033\" target=\"_blank\">Earth Observation Data Cubes for Brazil: Requirements, Methodology and Products</a>. Remote Sens. 2020, 12, 4033.\n",
    "    </div>\n",
    "</div>"
   ]
  },
  {
   "cell_type": "markdown",
   "id": "3739af9e-e682-4a09-a246-d6b9476919de",
   "metadata": {},
   "source": [
    "<img src=\"https://raw.githubusercontent.com/brazil-data-cube/code-gallery/master/img/stac/stac.png?raw=true\" align=\"right\" width=\"66\"/>\n",
    "\n",
    "# Catálogo de Coleções de Imagem de Sensoriamento Remoto\n",
    "<hr style=\"border:1px solid #0077b9;\">"
   ]
  },
  {
   "cell_type": "markdown",
   "id": "dca0f1fa-6949-4e8c-a40f-9a854650383a",
   "metadata": {},
   "source": [
    "Os produtos de imagem da Plataforma Brazil Data Cube são disponibilizados na forma de arquivos otimizados para *cloud*, os denominados **C**loud **O**ptimized **G**eoTIFF (**COG**). Este formato permite que as aplicações possam utilizar as imagens através da Web com o melhor compromisso possível (pirâmide de multi-resolução e *tiles*).\n",
    "\n",
    "\n",
    "Esses produtos de dados podem ser consultados utilizando uma interface de programação de aplicações baseada no padrão aberto [**S**patio**T**emporal **A**sset **C**atalog (STAC)](https://stacspec.org/). Esta especificação, criada por diversas organizações e especialistas do setor geoespacial, é baseada nos conceitos apresentados no diagrama abaixo:\n",
    "\n",
    "<center>\n",
    "<img src=\"https://raw.githubusercontent.com/brazil-data-cube/code-gallery/master/img/stac/stac-concept.png\" width=\"480\" />\n",
    "<br/>\n",
    "<b>Figure 1</b> - STAC model.\n",
    "</center>\n",
    "\n",
    "Onde:\n",
    "\n",
    "- **Catalog**: É um tipo de objeto que fornece uma estrutura para vincular vários itens ou coleções STAC juntos ou mesmo outros catálogos. Na figura acima, o catálogo é composto de três coleções: Landsat/OLI, CBERS4/WFI e Sentinel-2/MSI.\n",
    "\n",
    "- **Collection:** É uma especialização do catálogo que permite incluir informações adicionais sobre uma determinada coleção espaço-temporal. Uma coleção pode conter informações como o conjunto de bandas espectrais disponíveis das imagens, a extensão geográfica ou área de cobertura das imagens, o período de tempo que compreende a coleção, entre outras informações. Em geral, através da coleção chegamos aos itens dessa coleção.\n",
    "\n",
    "- **Item**: Corresponde à unidade atômica de metadados, fornecendo links para os *assets* associados. Um `Item` é descrito através da notação GeoJSON, como uma feição (*feature*) contendo atributos específicos como a coleção a que ele pertence, propriedades temporais, links para os *assets* e coleções ou catálogos associados. Na figura acima, um `Item` equivale a uma cena do satélite de um determinado instante de tempo.\n",
    "\n",
    "- **Asset**: Um *asset* é qualquer recurso geoespacial, como um arquivo de imagem ou arquivo vetorial, contendo informações sobre a Terra, em um determinado espaço e tempo.\n",
    "\n",
    "\n",
    "A especificação conceitual do STAC permite dois tipos de implementações:\n",
    "\n",
    "- **STAC estático:** Baseada em um conjunto de documentos JSON ligados que podem ser facilmente navegados. Ex: [CBERS na AWS](https://cbers-stac-1-0-0.s3.amazonaws.com/CBERS4/catalog.json).\n",
    "\n",
    "- **STAC dinâmico:** Baseada em uma API RESTful, de modo que a navegação é realizada através de uma API de serviço web que permite realizar consultas utilizando uma linguagem padrão para acessar subconjuntos do catálogo. Ex: [BDC-STAC](https://data.inpe.br/bdc/stac/v1/)."
   ]
  },
  {
   "cell_type": "markdown",
   "id": "cc37866f-d0cb-4b40-a667-127663796c80",
   "metadata": {},
   "source": [
    "<img src=\"https://raw.githubusercontent.com/brazil-data-cube/code-gallery/master/img/stac/stac.png?raw=true\" align=\"right\" width=\"66\"/>\n",
    "\n",
    "# Base de Informações Georreferenciadas (BIG)\n",
    "<hr style=\"border:1px solid #0077b9;\">\n",
    "\n",
    "\n",
    "Como parte do aperfeiçoamento dos produtos e serviços disponibilizados pelo INPE à sociedade, o novo portal https://data.inpe.br/ faz parte da modernização da infraestrutura de serviços para acesso às imagens de satélites do acervo do instituto. Esse portal foi criado com o intuito de facilitar a pesquisa e obtenção das imagens disponibilizadas gratuitamente. Esse novo serviço tem como base protocolos modernos de compartilhamento de dados, adequados ao uso em ambientes de ciência de dados e computação em nuvem. Essa iniciativa é ancorada dentro do **Programa Base de Informações Georreferenciadas (BIG)** do INPE. \n",
    "\n",
    "\n",
    "Os produtos de dados e tecnologias do **Brazil Data Cube (BDC)**, originalmente disponíveis no endereço https://brazildatacube.dpi.inpe.br, estão sendo migrados para o novo endereço https://data.inpe.br, na infraestrutura do centro de dados do INPE. Dessa forma, é importante saber que os endereços dos serguintes recursos:\n",
    "\n",
    "- **Novo endereço do catálogo STAC:** https://data.inpe.br/bdc/stac/v1. Nesse novo endereço você encontrará não somente as coleções e cubos CBERS, Landsat e Sentinel-2 disponibilizados originalmente pelo BDC, mas também produtos disponibilizados por outra áreas e projetos do INPE, como dados GOES, CBERS4A WPM, Sentinel-1 GRD, Sentinel-3/OLCI - Level-1B Full Resolution.\n",
    "  \n",
    "  \n",
    "- **Antigo endereço do catáogo STAC:** https://brazildatacube.dpi.inpe.br/stac/. Nesse endereço ainda é possível acessar parcialmente cubos e coleções CBERS, Landsat e Sentinel-2."
   ]
  },
  {
   "cell_type": "markdown",
   "id": "fff4c5ff-0cda-412e-a600-7c8a13dfdb0e",
   "metadata": {},
   "source": [
    "# Cliente STAC no Python\n",
    "<hr style=\"border:1px solid #0077b9;\">"
   ]
  },
  {
   "cell_type": "markdown",
   "id": "8dee3756-d9a0-4eac-b47c-06e2f4dfcce9",
   "metadata": {},
   "source": [
    "Para demonstrar o acesso aos produtos de dados do Brazil Data Cube, iremos utilizar uma bibloteca de software livre para Python denominada [PySTAC Client](https://pystac-client.readthedocs.io/en/stable/) (`pystac-client`). Uma vez instalada essa biblioteca, podemos carregar suas funcionalidades através do comando `import`, como mostrado abaixo:"
   ]
  },
  {
   "cell_type": "code",
   "execution_count": null,
   "id": "1e2e30d5-19cb-4df7-971c-a2fd0194f3fc",
   "metadata": {
    "tags": []
   },
   "outputs": [],
   "source": [
    "import pystac_client"
   ]
  },
  {
   "cell_type": "markdown",
   "id": "bdff46d1-42f2-4e09-a13e-23dc3f86e762",
   "metadata": {},
   "source": [
    "Em geral, diversas bibliotecas do ecossistema Python possui uma constante especial para informar a versão da biblioteca carregada. Abaixo, apresentamos a versão carregada  da biblioteca `pystac-client`:"
   ]
  },
  {
   "cell_type": "code",
   "execution_count": null,
   "id": "97fc1843-1b86-49ed-86ac-5b9eabdfc79c",
   "metadata": {
    "tags": []
   },
   "outputs": [],
   "source": [
    "pystac_client.__version__"
   ]
  },
  {
   "cell_type": "markdown",
   "id": "41645461-fccc-44b3-935d-9b6fbcf1df27",
   "metadata": {},
   "source": [
    "<img src=\"https://raw.githubusercontent.com/brazil-data-cube/code-gallery/master/img/stac/stac-catalog.png?raw=true\" align=\"right\" width=\"300\"/>\n",
    "\n",
    "# Descobrindo as Coleções de Imagem de Sensoriamento Remoto\n",
    "<hr style=\"border:1px solid #0077b9;\">\n",
    "\n",
    "O código abaixo cria uma instância do catálogo a partir de uma consulta ao serviço web do Brazil Data Cube:"
   ]
  },
  {
   "cell_type": "code",
   "execution_count": null,
   "id": "574dd4cc-03fd-4d22-b25a-93220ca93ff0",
   "metadata": {
    "tags": []
   },
   "outputs": [],
   "source": [
    "catalogo = pystac_client.Client.open(\"https://data.inpe.br/bdc/stac/v1/\")\n",
    "catalogo"
   ]
  },
  {
   "cell_type": "markdown",
   "id": "ea7f0f12-0bb2-494f-ac3b-1ad1b632dd4b",
   "metadata": {},
   "source": [
    "Para listar as coleções contidas no catálogo, podemos fazer:"
   ]
  },
  {
   "cell_type": "code",
   "execution_count": null,
   "id": "e04af659-3983-4b5a-996b-80321d9766cf",
   "metadata": {
    "tags": []
   },
   "outputs": [],
   "source": [
    "for colecao in catalogo.get_collections():\n",
    "    print(f\"{colecao.id}: {colecao.title}\", end=\"\\n\"*2)"
   ]
  },
  {
   "cell_type": "markdown",
   "id": "804e65b8-5059-4720-879a-8bfbb2df5094",
   "metadata": {
    "tags": []
   },
   "source": [
    "## Recuperando os Metadados de uma Coleção\n",
    "<hr style=\"border:1px solid #0077b9;\">"
   ]
  },
  {
   "cell_type": "code",
   "execution_count": null,
   "id": "8cfa797e-c67a-4a9e-98b3-1c5c41ee2460",
   "metadata": {
    "tags": []
   },
   "outputs": [],
   "source": [
    "sentinel2_cog = catalogo.get_collection(\"S2_L2A-1\")\n",
    "sentinel2_cog"
   ]
  },
  {
   "cell_type": "markdown",
   "id": "ed49cee5-e95e-4d9d-b987-1809d06a72d3",
   "metadata": {},
   "source": [
    "<img src=\"https://raw.githubusercontent.com/brazil-data-cube/code-gallery/master/img/stac/stac-item.png?raw=true\" align=\"right\" width=\"300\"/>\n",
    "\n",
    "# Recuperando os Items de uma Coleção\n",
    "<hr style=\"border:1px solid #0077b9;\">"
   ]
  },
  {
   "cell_type": "markdown",
   "id": "06fc4471-88e4-4a2a-aad8-783da0bd88f5",
   "metadata": {},
   "source": [
    "Podemos atravessar todo o catálogo utilizando o método `get_items`:"
   ]
  },
  {
   "cell_type": "code",
   "execution_count": null,
   "id": "106d0574-63f6-4ac0-ba0e-3324c1de1acb",
   "metadata": {
    "tags": []
   },
   "outputs": [],
   "source": [
    "item = next(sentinel2_cog.get_items())\n",
    "item    "
   ]
  },
  {
   "cell_type": "markdown",
   "id": "6036b3ca-9da4-46bd-92b1-f9d46a5de671",
   "metadata": {},
   "source": [
    "Podemos também utilizar outros critérios para filtrar os itens desejados:"
   ]
  },
  {
   "cell_type": "code",
   "execution_count": null,
   "id": "2a963892-94fb-457c-a338-27f067a9ed3a",
   "metadata": {
    "tags": []
   },
   "outputs": [],
   "source": [
    "import shapely"
   ]
  },
  {
   "cell_type": "code",
   "execution_count": null,
   "id": "1816cc8f-9309-4bd5-b36b-101959e6869b",
   "metadata": {
    "tags": []
   },
   "outputs": [],
   "source": [
    "regiao_interesse = shapely.geometry.shape({\n",
    "    \"type\" : \"Polygon\",\n",
    "    \"coordinates\": [ [ [ -53.707185, -25.982165 ], [ -53.701279, -25.981671 ], [ -53.701226, -25.982534 ], [ -53.701223, -25.982851 ], [ -53.701178, -25.983263 ], [ -53.701166, -25.983461 ], [ -53.701467, -25.983484 ], [ -53.702046, -25.983563 ], [ -53.702395, -25.983655 ], [ -53.702642, -25.983879 ], [ -53.702728, -25.984049 ], [ -53.702658, -25.984324 ], [ -53.702674, -25.984555 ], [ -53.702695, -25.984989 ], [ -53.705439, -25.985231 ], [ -53.705852, -25.98415 ], [ -53.706373, -25.984243 ], [ -53.706667, -25.983614 ], [ -53.706982, -25.983248 ], [ -53.707187, -25.983043 ], [ -53.707684, -25.983026 ], [ -53.707727, -25.982583 ], [ -53.707144, -25.982453 ], [ -53.707185, -25.982165 ] ] ]\n",
    "})\n",
    "\n",
    "regiao_interesse"
   ]
  },
  {
   "cell_type": "markdown",
   "id": "6b55f3c6-ffe0-4f50-b160-ecfb88f84514",
   "metadata": {},
   "source": [
    "Para visualizarmos esse polígono sobre um mapa de referência, é possível utilizar as bibliotecas `ipyleaflet` e `ipywidgets`."
   ]
  },
  {
   "cell_type": "code",
   "execution_count": null,
   "id": "bbe883bd-3e32-4697-8cc4-d7552a259d91",
   "metadata": {
    "tags": []
   },
   "outputs": [],
   "source": [
    "# Área de exibição de camadas (mapa) e mapas base (basemaps)\n",
    "from ipyleaflet import Map, basemaps\n",
    "\n",
    "# Controles sobre o mapa\n",
    "from ipyleaflet import FullScreenControl, LayersControl, ScaleControl, SplitMapControl\n",
    "\n",
    "# Tipos de Camadas\n",
    "from ipyleaflet import GeoJSON, TileLayer\n",
    "\n",
    "# Layout\n",
    "from ipywidgets import Layout"
   ]
  },
  {
   "cell_type": "markdown",
   "id": "6eabdc43-010f-492a-9470-7af67c982336",
   "metadata": {},
   "source": [
    "Uma vez importados os tipos de dados dessas bibliotecas, podemos criar um objeto para representar uma camada de apresentação com base no polígono da região de interesse."
   ]
  },
  {
   "cell_type": "code",
   "execution_count": null,
   "id": "96cb999f-baef-43fc-9942-b8437431720a",
   "metadata": {
    "tags": []
   },
   "outputs": [],
   "source": [
    "camada_regiao_interesse = GeoJSON(\n",
    "    name=\"Região de Interesse\",\n",
    "    data=shapely.geometry.mapping(regiao_interesse),\n",
    "    style={ 'color': 'SteelBlue', 'opacity': 1, 'fillOpacity': 0.1, 'weight': 5 },\n",
    "    hover_style={ 'color': 'IndianRed', 'opacity': 1, 'fillOpacity': 0.1, 'weight': 5 }\n",
    ")"
   ]
  },
  {
   "cell_type": "code",
   "execution_count": null,
   "id": "59954f0a-f933-4f23-ae88-3e38fe5e706d",
   "metadata": {
    "tags": []
   },
   "outputs": [],
   "source": [
    "mapa = Map(zoom=16, scroll_wheel_zoom=True, layout=Layout(width='80%', height='500px'))\n",
    "\n",
    "mapa.add(camada_regiao_interesse)\n",
    "\n",
    "mapa.add(LayersControl(position='topright'))\n",
    "mapa.add(FullScreenControl())\n",
    "mapa.add(ScaleControl(position='bottomleft'))\n",
    "\n",
    "mapa.fit_bounds([[regiao_interesse.bounds[1], regiao_interesse.bounds[0]], [regiao_interesse.bounds[3], regiao_interesse.bounds[2]]])\n",
    "\n",
    "display(mapa)"
   ]
  },
  {
   "cell_type": "markdown",
   "id": "662cd255-e734-4531-85a9-4917f5a41f56",
   "metadata": {},
   "source": [
    "Agora, vamos recuperar os itens disponíveis na coleção `Sentinel-2/MSI - Level-2A - Cloud Optimized GeoTIFF` (identificador `S2_L2A-1`) para a **região de interesse** no período de **01 de janeiro de 2022** a **08 de dezembro de 2023**. Para isso, será utilizado o método de busca `search` do objeto `catalogo`. Este método irá utilizar o *endpoint* `/search` do serviço STAC do BDC, como mostrado abaixo:"
   ]
  },
  {
   "cell_type": "code",
   "execution_count": null,
   "id": "a48d2272-75fd-437d-8198-e055aea68e75",
   "metadata": {
    "tags": []
   },
   "outputs": [],
   "source": [
    "item_search = catalogo.search(\n",
    "    collections=['S2_L2A-1'],\n",
    "    datetime='2022-05-01/2022-09-01',\n",
    "    intersects=shapely.geometry.mapping(regiao_interesse),\n",
    "    # query={\n",
    "    #     \"eo:cloud_cover\": {\n",
    "    #         \"lt\": 10.0\n",
    "    #     }\n",
    "    # }    \n",
    ")"
   ]
  },
  {
   "cell_type": "markdown",
   "id": "67d448fb-8901-4bc0-beac-b96917a2a7e7",
   "metadata": {},
   "source": [
    "O número de itens encontrados pode ser verificado através do método `matched()`:"
   ]
  },
  {
   "cell_type": "code",
   "execution_count": null,
   "id": "bb3db0e9-76dd-453b-a154-01d0efb13305",
   "metadata": {
    "tags": []
   },
   "outputs": [],
   "source": [
    "item_search.matched()"
   ]
  },
  {
   "cell_type": "markdown",
   "id": "6b57243f-fcb9-4b03-951f-96705e81f494",
   "metadata": {},
   "source": [
    "Podemos atravessar o conjunto de itens retornados com o uso do método `items()`. No exemplo, abaixo, são apresentados os cinco primeiros itens (ou cenas) disponíveis: "
   ]
  },
  {
   "cell_type": "code",
   "execution_count": null,
   "id": "5b44af37-38df-4779-9e03-50ffca8b0149",
   "metadata": {
    "tags": []
   },
   "outputs": [],
   "source": [
    "import itertools\n",
    "\n",
    "for item in itertools.islice(item_search.items(), 5):\n",
    "    print(f\"{item.id}\")\n",
    "    print(f\"\\t{item.properties['datetime']}\")\n",
    "    print(f\"\\t{item.properties['eo:cloud_cover']}\")  \n",
    "    print(f\"\\t{item.assets['PVI'].href}\")  "
   ]
  },
  {
   "cell_type": "markdown",
   "id": "7406222f-140e-4d70-9210-1d727b447c57",
   "metadata": {},
   "source": [
    "<img src=\"https://raw.githubusercontent.com/brazil-data-cube/code-gallery/master/img/stac/stac-asset.png?raw=true\" align=\"right\" width=\"300\"/>\n",
    "\n",
    "# Acessando os Assets de um Item\n",
    "<hr style=\"border:1px solid #0077b9;\">"
   ]
  },
  {
   "cell_type": "markdown",
   "id": "44761cf3-aa6f-4d82-84ce-ba2ab5aaf79c",
   "metadata": {
    "tags": []
   },
   "source": [
    "Vamos trabalhar com os *assets* de um *item*:"
   ]
  },
  {
   "cell_type": "code",
   "execution_count": null,
   "id": "1e9ba3bd-a6c5-4a91-9826-4129749f5582",
   "metadata": {
    "tags": []
   },
   "outputs": [],
   "source": [
    "item = next(item_search.items())\n",
    "item"
   ]
  },
  {
   "cell_type": "code",
   "execution_count": null,
   "id": "0a8218bc-6222-4bf2-b9be-cb590b815538",
   "metadata": {
    "tags": []
   },
   "outputs": [],
   "source": [
    "for k in item.assets.keys():\n",
    "    print(k)"
   ]
  },
  {
   "cell_type": "markdown",
   "id": "6fa3de56-1954-4f6c-9be2-1e6fb8843441",
   "metadata": {},
   "source": [
    "Para iterar em todos os *assets*:"
   ]
  },
  {
   "cell_type": "code",
   "execution_count": null,
   "id": "a45b77ce-977d-4cf9-911d-dd9c24cd2df7",
   "metadata": {
    "tags": []
   },
   "outputs": [],
   "source": [
    "for asset in item.assets.values():\n",
    "    print(asset)"
   ]
  },
  {
   "cell_type": "markdown",
   "id": "50df51d2-645d-468b-be36-34f3d73d5802",
   "metadata": {},
   "source": [
    "# Usando a Biblioteca RasterIO para Manipular Imagens\n",
    "<hr style=\"border:1px solid #0077b9;\">"
   ]
  },
  {
   "cell_type": "code",
   "execution_count": null,
   "id": "8330f807-2e60-453c-af82-a2979699f974",
   "metadata": {
    "tags": []
   },
   "outputs": [],
   "source": [
    "import rasterio"
   ]
  },
  {
   "cell_type": "code",
   "execution_count": null,
   "id": "a0c56b2e-0470-4cac-9694-17f8cfa36df1",
   "metadata": {
    "tags": []
   },
   "outputs": [],
   "source": [
    "item = next(item_search.items())\n",
    "item"
   ]
  },
  {
   "cell_type": "code",
   "execution_count": null,
   "id": "0e8c2061-7fc0-4082-8705-3cb4089ad434",
   "metadata": {
    "tags": []
   },
   "outputs": [],
   "source": [
    "asset_banda4 = item.assets['B04']\n",
    "asset_banda4"
   ]
  },
  {
   "cell_type": "code",
   "execution_count": null,
   "id": "935b32e5-fd4f-47e9-b764-f6a0e5a87df2",
   "metadata": {
    "tags": []
   },
   "outputs": [],
   "source": [
    "with rasterio.open(asset_banda4.href) as banda:\n",
    "    banda4 = banda.read(1)"
   ]
  },
  {
   "cell_type": "code",
   "execution_count": null,
   "id": "9789a018-83ed-4735-8814-e819d0e47191",
   "metadata": {
    "tags": []
   },
   "outputs": [],
   "source": [
    "banda4"
   ]
  },
  {
   "cell_type": "code",
   "execution_count": null,
   "id": "0e075861-239b-424a-8a22-ac08a7626394",
   "metadata": {
    "tags": []
   },
   "outputs": [],
   "source": [
    "banda4.shape"
   ]
  },
  {
   "cell_type": "code",
   "execution_count": null,
   "id": "18eea0f1-30cc-4b28-9931-5a080b9d7a5d",
   "metadata": {
    "tags": []
   },
   "outputs": [],
   "source": [
    "%matplotlib inline\n",
    "from matplotlib import pyplot as plt"
   ]
  },
  {
   "cell_type": "code",
   "execution_count": null,
   "id": "03e7633c-5a8a-48f3-8f84-6c4bf8a43f49",
   "metadata": {
    "tags": []
   },
   "outputs": [],
   "source": [
    "fig, ax1 = plt.subplots(1,1, figsize=(24, 8))\n",
    "ax1.imshow(banda4, cmap='gray')"
   ]
  },
  {
   "cell_type": "code",
   "execution_count": null,
   "id": "4c386a2d-cb2d-4178-9728-864548b6b56f",
   "metadata": {
    "tags": []
   },
   "outputs": [],
   "source": [
    "from rasterio.windows import Window"
   ]
  },
  {
   "cell_type": "code",
   "execution_count": null,
   "id": "552d6cd8-6210-4d2d-92bd-691474887508",
   "metadata": {
    "tags": []
   },
   "outputs": [],
   "source": [
    "window = Window(0, 0, 500, 500)"
   ]
  },
  {
   "cell_type": "code",
   "execution_count": null,
   "id": "a01b47fe-e575-4c8a-a8d8-4f50e47adf3d",
   "metadata": {
    "tags": []
   },
   "outputs": [],
   "source": [
    "asset_banda3 = item.assets['B03']\n",
    "asset_banda3"
   ]
  },
  {
   "cell_type": "code",
   "execution_count": null,
   "id": "28527004-22f9-4574-ace8-54e4407894e6",
   "metadata": {
    "tags": []
   },
   "outputs": [],
   "source": [
    "asset_banda2 = item.assets['B02']\n",
    "asset_banda2"
   ]
  },
  {
   "cell_type": "code",
   "execution_count": null,
   "id": "87de1870-ed17-44a9-af70-9ae36a5ff7ef",
   "metadata": {
    "tags": []
   },
   "outputs": [],
   "source": [
    "with rasterio.open(asset_banda4.href) as raster:\n",
    "    banda4 = raster.read(1, window=window)"
   ]
  },
  {
   "cell_type": "code",
   "execution_count": null,
   "id": "cf39d812-675b-410a-b2c2-dab91a649a49",
   "metadata": {
    "tags": []
   },
   "outputs": [],
   "source": [
    "with rasterio.open(asset_banda3.href) as raster:\n",
    "    banda3 = raster.read(1, window=window)"
   ]
  },
  {
   "cell_type": "code",
   "execution_count": null,
   "id": "c75c5bcb-2c80-49af-a9f0-cd983c0bdaa1",
   "metadata": {
    "tags": []
   },
   "outputs": [],
   "source": [
    "with rasterio.open(asset_banda2.href) as raster:\n",
    "    banda2 = raster.read(1, window=window)"
   ]
  },
  {
   "cell_type": "code",
   "execution_count": null,
   "id": "25d253c6-a8b5-4521-a47d-cd1c35ec089e",
   "metadata": {
    "tags": []
   },
   "outputs": [],
   "source": [
    "banda4.shape"
   ]
  },
  {
   "cell_type": "code",
   "execution_count": null,
   "id": "a8a17da9-ee39-4862-9200-f8033e5432c0",
   "metadata": {
    "tags": []
   },
   "outputs": [],
   "source": [
    "banda3.shape"
   ]
  },
  {
   "cell_type": "code",
   "execution_count": null,
   "id": "c7bc0bae-67b2-445b-9bcf-1e77d028211f",
   "metadata": {
    "tags": []
   },
   "outputs": [],
   "source": [
    "banda2.shape"
   ]
  },
  {
   "cell_type": "code",
   "execution_count": null,
   "id": "651d8e85-b44c-43af-bec3-93b86a8cef2e",
   "metadata": {
    "tags": []
   },
   "outputs": [],
   "source": [
    "fig, (ax1, ax2, ax3) = plt.subplots(1,3, figsize=(12, 4))\n",
    "ax1.imshow(banda4, cmap='gray')\n",
    "ax2.imshow(banda3, cmap='gray')\n",
    "ax3.imshow(banda2, cmap='gray')"
   ]
  },
  {
   "cell_type": "code",
   "execution_count": null,
   "id": "59d2bc3e-ce4e-488d-8455-c66614b398eb",
   "metadata": {
    "tags": []
   },
   "outputs": [],
   "source": [
    "import numpy"
   ]
  },
  {
   "cell_type": "code",
   "execution_count": null,
   "id": "607ccaea-ba19-4522-acf5-daac20b60d45",
   "metadata": {
    "tags": []
   },
   "outputs": [],
   "source": [
    "def normalize(array):\n",
    "    \"\"\"Normalizes numpy arrays into scale 0.0 - 1.0\"\"\"\n",
    "    array_min, array_max = array.min(), array.max()\n",
    "    return ((array - array_min)/(array_max - array_min))"
   ]
  },
  {
   "cell_type": "code",
   "execution_count": null,
   "id": "47712b06-1be7-4c23-a4c6-2afba87b0f1c",
   "metadata": {
    "tags": []
   },
   "outputs": [],
   "source": [
    "rgb = numpy.dstack((normalize(banda4), normalize(banda3), normalize(banda2)))\n",
    "plt.imshow(rgb)"
   ]
  },
  {
   "cell_type": "markdown",
   "id": "484f359d-65fb-4fd8-a1a3-5481b8887757",
   "metadata": {},
   "source": [
    "<img src=\"https://raw.githubusercontent.com/brazil-data-cube/code-gallery/master/img/stac/stac-asset.png?raw=true\" align=\"right\" width=\"300\"/>\n",
    "\n",
    "# Visualização das Imagens com o Serviço TMS\n",
    "<hr style=\"border:1px solid #0077b9;\">\n",
    "\n",
    "A coleção `Sentinel-2/MSI - Level-2A - Cloud Optimized GeoTIFF` possui um tipo de *asset* que fornece uma imagem baseada na composição colorida das bandas 4 (*red*), 3 (*green*) e 2 (*blue*) do sensor MSI abordo dos satélites Sentinel 2A e 2B. Vamos verificar os *assets* de um item qualquer retornado na busca:"
   ]
  },
  {
   "cell_type": "code",
   "execution_count": null,
   "id": "8dd08ae8-d46d-4ad2-b8cd-2dd43ac5e07f",
   "metadata": {
    "tags": []
   },
   "outputs": [],
   "source": [
    "items = item_search.item_collection()\n",
    "item = items[2]\n",
    "assets = item.assets\n",
    "assets"
   ]
  },
  {
   "cell_type": "code",
   "execution_count": null,
   "id": "2d3a79a3-5fff-41d7-95a2-aae47b116ae0",
   "metadata": {
    "tags": []
   },
   "outputs": [],
   "source": [
    "tci_url = assets[\"TCI\"].href\n",
    "\n",
    "tci_url"
   ]
  },
  {
   "cell_type": "code",
   "execution_count": null,
   "id": "6387dc4d-ced6-4912-92ff-48741eb0694c",
   "metadata": {
    "tags": []
   },
   "outputs": [],
   "source": [
    "camada_item_1 = TileLayer(\n",
    "    name=item.id,\n",
    "    url=\"https://data.inpe.br/bdc/tms/tiles/WebMercatorQuad/{z}/{x}/{y}\" + f\"?url={tci_url}\"\n",
    ")"
   ]
  },
  {
   "cell_type": "code",
   "execution_count": null,
   "id": "fcd7136e-d84d-4dc2-8606-67a06a6f660a",
   "metadata": {
    "tags": []
   },
   "outputs": [],
   "source": [
    "mapa_tms = Map(zoom=16, scroll_wheel_zoom=True, layout=Layout(width='80%', height='500px'))\n",
    "\n",
    "mapa_tms.add(camada_item_1)\n",
    "mapa_tms.add(camada_regiao_interesse)\n",
    "\n",
    "mapa_tms.add(LayersControl(position='topright'))\n",
    "mapa_tms.add(FullScreenControl())\n",
    "mapa_tms.add(ScaleControl(position='bottomleft'))\n",
    "\n",
    "mapa_tms.fit_bounds([[regiao_interesse.bounds[1], regiao_interesse.bounds[0]], [regiao_interesse.bounds[3], regiao_interesse.bounds[2]]])\n",
    "\n",
    "display(mapa_tms)"
   ]
  },
  {
   "cell_type": "code",
   "execution_count": null,
   "id": "3060ecc7-cf40-487d-afb6-dcaffdb07159",
   "metadata": {
    "tags": []
   },
   "outputs": [],
   "source": [
    "camada_item_2 = TileLayer(\n",
    "    name=items[2].id,\n",
    "    url=\"https://data.inpe.br/bdc/tms/tiles/WebMercatorQuad/{z}/{x}/{y}\" + f\"?url={items[2].assets['TCI'].href}\"\n",
    ")\n",
    "\n",
    "camada_item_25 = TileLayer(\n",
    "    name=items[25].id,\n",
    "    url=\"https://data.inpe.br/bdc/tms/tiles/WebMercatorQuad/{z}/{x}/{y}\" + f\"?url={items[25].assets['TCI'].href}\"\n",
    ")\n",
    "\n",
    "\n",
    "mapa_comp = Map(zoom=18, scroll_wheel_zoom=True, layout=Layout(width='80%', height='500px'))\n",
    "\n",
    "mapa_comp.add(camada_regiao_interesse)\n",
    "\n",
    "control = SplitMapControl(left_layer=camada_item_25, right_layer=camada_item_2)\n",
    "\n",
    "mapa_comp.add(control)\n",
    "\n",
    "\n",
    "mapa_comp.add(LayersControl(position='topright'))\n",
    "mapa_comp.add(FullScreenControl())\n",
    "mapa_comp.add(ScaleControl(position='bottomleft'))\n",
    "\n",
    "mapa_comp.fit_bounds([[regiao_interesse.bounds[1], regiao_interesse.bounds[0]], [regiao_interesse.bounds[3], regiao_interesse.bounds[2]]])\n",
    "\n",
    "display(mapa_comp)"
   ]
  }
 ],
 "metadata": {
  "kernelspec": {
   "display_name": "Python (Geospatial)",
   "language": "python",
   "name": "geospatial"
  },
  "language_info": {
   "codemirror_mode": {
    "name": "ipython",
    "version": 3
   },
   "file_extension": ".py",
   "mimetype": "text/x-python",
   "name": "python",
   "nbconvert_exporter": "python",
   "pygments_lexer": "ipython3",
   "version": "3.11.6"
  }
 },
 "nbformat": 4,
 "nbformat_minor": 5
}
