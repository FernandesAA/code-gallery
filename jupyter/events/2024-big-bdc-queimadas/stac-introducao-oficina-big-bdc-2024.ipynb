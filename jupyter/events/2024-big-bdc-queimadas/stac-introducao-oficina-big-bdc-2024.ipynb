{
 "cells": [
  {
   "cell_type": "markdown",
   "metadata": {
    "id": "mDfBxippkmQa"
   },
   "source": [
    "<img src=\"https://raw.githubusercontent.com/brazil-data-cube/code-gallery/master/img/logo-bdc.png\" align=\"right\" width=\"64\"/>\n",
    "\n",
    "# <span style=\"color:#336699\">Brazil Data Cube Platform: Earth Observation data cubes and satellite image time series analysis</span>\n",
    "<hr style=\"border:2px solid #0077b9;\">\n",
    "\n",
    "<br/>\n",
    "\n",
    "<div style=\"text-align: center;font-size: 90%;\">\n",
    "    Karine R. Ferreira, Gilberto R. Queiroz, Baggio L. C. Silva, Fabiana Ziotti, Raphael W. Costa, Rennan F. B. Marujo, Gabriel Sansigolo\n",
    "    <br/><br/>\n",
    "    Earth Observation and Geoinformatics Division, National Institute for Space Research (INPE)\n",
    "    <br/>\n",
    "    Avenida dos Astronautas, 1758, Jardim da Granja, São José dos Campos, SP 12227-010, Brazil\n",
    "    <br/><br/>\n",
    "    Last Update: Nov 21, 2024\n",
    "</div>\n",
    "\n",
    "<br/>\n",
    "\n",
    "<div style=\"text-align: justify;  margin-left: 25%; margin-right: 25%;\">\n",
    "<b>Abstract.</b> This Jupyter Notebook gives an overview on how to use the STAC service to discover and access the data products from the <em>Brazil Data Cube</em>.\n",
    "</div>"
   ]
  },
  {
   "cell_type": "markdown",
   "metadata": {
    "id": "LebxhudhkmQf"
   },
   "source": [
    "<img src=\"https://raw.githubusercontent.com/brazil-data-cube/code-gallery/master/img/stac/stac.png?raw=true\" align=\"right\" width=\"66\"/>\n",
    "\n",
    "# **S**patio**T**emporal **A**sset **C**atalog (STAC)\n",
    "<hr style=\"border:1px solid #0077b9;\">"
   ]
  },
  {
   "cell_type": "markdown",
   "metadata": {
    "id": "yZn7b78KPQDG"
   },
   "source": [
    "The [**S**patio**T**emporal **A**sset **C**atalog (STAC)](https://stacspec.org/) is a specification created through the colaboration of several organizations intended to increase satellite image search interoperability.\n",
    "\n",
    "The diagram depicted in the picture contains the most important concepts behind the STAC data model:\n",
    "\n",
    "<center>\n",
    "<img src=\"https://raw.githubusercontent.com/brazil-data-cube/code-gallery/master/img/stac/stac-concept.png\" width=\"480\" />\n",
    "<br/>\n",
    "STAC model.\n",
    "</center>\n",
    "\n",
    "The description of the concepts below are adapted from the [STAC Specification](https://github.com/radiantearth/stac-spec):\n",
    "\n",
    "- **Item**: a `STAC Item` is the atomic unit of metadata in STAC, providing links to the actual `assets` (including thumbnails) that they represent. It is a `GeoJSON Feature` with additional fields for things like time, links to related entities and mainly to the assets. According to the specification, this is the atomic unit that describes the data to be discovered in a `STAC Catalog` or `Collection`.\n",
    "\n",
    "- **Asset**: a `spatiotemporal asset` is any file that represents information about the earth captured in a certain space and time.\n",
    "\n",
    "\n",
    "- **Catalog**: provides a structure to link various `STAC Items` together or even to other `STAC Catalogs` or `Collections`.\n",
    "\n",
    "\n",
    "- **Collection:** is a specialization of the `Catalog` that allows additional information about a spatio-temporal collection of data."
   ]
  },
  {
   "cell_type": "markdown",
   "metadata": {
    "id": "hvLOjeOtkmQg"
   },
   "source": [
    "STAC Client API\n",
    "<hr style=\"border:1px solid #0077b9;\">\n",
    "\n",
    "For running the examples in this Jupyter Notebook you will need to install the [pystac-client](https://pystac-client.readthedocs.io/en/latest/). To install it from PyPI using `pip`, use the following command:"
   ]
  },
  {
   "cell_type": "code",
   "execution_count": null,
   "metadata": {
    "colab": {
     "base_uri": "https://localhost:8080/"
    },
    "id": "YNOgCEuxkmQh",
    "outputId": "5d804045-02e3-4f56-ad1e-174ca8646cea"
   },
   "outputs": [],
   "source": [
    "#!pip install pystac-client"
   ]
  },
  {
   "cell_type": "code",
   "execution_count": null,
   "metadata": {
    "colab": {
     "base_uri": "https://localhost:8080/"
    },
    "id": "RhG89dwJPQDM",
    "outputId": "6bb77c40-9dd7-4b5f-8875-18889e341278"
   },
   "outputs": [],
   "source": [
    "#!pip install shapely tqdm"
   ]
  },
  {
   "cell_type": "markdown",
   "metadata": {
    "id": "ikBncksbkmQi"
   },
   "source": [
    "In order to access the funcionalities of the client API, you should import the `stac` package, as follows:"
   ]
  },
  {
   "cell_type": "code",
   "execution_count": null,
   "metadata": {
    "id": "Nbh1DWTaPQDY"
   },
   "outputs": [],
   "source": [
    "import pystac_client"
   ]
  },
  {
   "cell_type": "markdown",
   "metadata": {
    "id": "o5LicjUHkmQk"
   },
   "source": [
    "Then, create a `STAC` object attached to the Brazil Data Cube' STAC service:"
   ]
  },
  {
   "cell_type": "code",
   "execution_count": null,
   "metadata": {
    "id": "DlODPqhtkmQk"
   },
   "outputs": [],
   "source": [
    "service = pystac_client.Client.open('https://data.inpe.br/bdc/stac/v1/')"
   ]
  },
  {
   "cell_type": "markdown",
   "metadata": {
    "id": "jlsjmWuvkmQk"
   },
   "source": [
    "Listing the Available Data Products\n",
    "<hr style=\"border:1px solid #0077b9;\">"
   ]
  },
  {
   "cell_type": "markdown",
   "metadata": {
    "id": "tdmH2H7VkmQl"
   },
   "source": [
    "In the Jupyter environment, the `STAC` object will list the available image and data cube collections from the service:"
   ]
  },
  {
   "cell_type": "code",
   "execution_count": null,
   "metadata": {
    "colab": {
     "base_uri": "https://localhost:8080/"
    },
    "id": "3IKREEUpPQDg",
    "outputId": "7a345524-cf8c-4e04-84cd-4d7d0a13f48b"
   },
   "outputs": [],
   "source": [
    "for collection in service.get_collections():\n",
    "    print(collection)"
   ]
  },
  {
   "cell_type": "markdown",
   "metadata": {
    "id": "0yiuPB2YkmQl"
   },
   "source": [
    "<img src=\"https://raw.githubusercontent.com/brazil-data-cube/code-gallery/master/img/stac/stac-catalog.png?raw=true\" align=\"right\" width=\"300\"/>\n",
    "\n",
    "Retrieving the Metadata of a Collection\n",
    "<hr style=\"border:1px solid #0077b9;\">\n",
    "\n",
    "The `collection` method returns information about a given image or data cube collection identified by its name. In this example we are retrieving information about the datacube collection `S2-16D-2`:"
   ]
  },
  {
   "cell_type": "code",
   "execution_count": null,
   "metadata": {
    "colab": {
     "base_uri": "https://localhost:8080/",
     "height": 442
    },
    "id": "dA0RhGdSPQDn",
    "outputId": "5b711132-dfb6-4bad-cf71-4fb3a3bf2e01"
   },
   "outputs": [],
   "source": [
    "collection = service.get_collection('S2-16D-2')\n",
    "collection"
   ]
  },
  {
   "cell_type": "markdown",
   "metadata": {
    "id": "OoajiPikkmQm"
   },
   "source": [
    "<img src=\"https://raw.githubusercontent.com/brazil-data-cube/code-gallery/master/img/stac/stac-item.png?raw=true\" align=\"right\" width=\"300\"/>\n",
    "\n",
    "Retrieving Items\n",
    "<hr style=\"border:1px solid #0077b9;\">\n",
    "\n",
    "The `get_items` method returns the items of a given collection:"
   ]
  },
  {
   "cell_type": "code",
   "execution_count": null,
   "metadata": {
    "id": "sycz0XtI3dJN"
   },
   "outputs": [],
   "source": [
    "import folium"
   ]
  },
  {
   "cell_type": "code",
   "execution_count": null,
   "metadata": {
    "id": "S-jp_ReN3vgY"
   },
   "outputs": [],
   "source": [
    "bbox = [-52.3625, -6.43, -52.3575, -6.425]"
   ]
  },
  {
   "cell_type": "code",
   "execution_count": null,
   "metadata": {
    "colab": {
     "base_uri": "https://localhost:8080/",
     "height": 778
    },
    "id": "DBeMmM-A3txx",
    "outputId": "2e6c0062-3929-4533-fb00-6e1a422632ad"
   },
   "outputs": [],
   "source": [
    "f = folium.Figure(width=1000, height=300) # Restrict figure size\n",
    "\n",
    "# Create a folium map centered around the geographic area of interest\n",
    "folium_map = folium.Map(location=[-6.41, -52.35], zoom_start=13)\n",
    "\n",
    "folium.Rectangle(\n",
    "    bounds=[[bbox[1],bbox[0]],[bbox[3],bbox[2]]],\n",
    "    color=\"blue\",\n",
    "    weight=2,\n",
    "    fill=True,\n",
    "    fill_color=\"blue\",\n",
    "    fill_opacity=0.2\n",
    ").add_to(folium_map)\n",
    "\n",
    "folium_map"
   ]
  },
  {
   "cell_type": "markdown",
   "metadata": {
    "id": "jLfQlYLzkmQm"
   },
   "source": [
    "In order to support filtering rules through the specification of a rectangle (`bbox`) or a date and time (`datatime`) criterias, use the `Client.search(**kwargs)`:"
   ]
  },
  {
   "cell_type": "code",
   "execution_count": null,
   "metadata": {
    "colab": {
     "base_uri": "https://localhost:8080/"
    },
    "id": "6hCWnHXePQDt",
    "outputId": "dcf3ce57-6fe6-41a9-f347-335b5032dd5d"
   },
   "outputs": [],
   "source": [
    "item_search = service.search(bbox=bbox,\n",
    "                             datetime='2020-01-01/2020-12-31',\n",
    "                             collections=['S2-16D-2'])\n",
    "item_search"
   ]
  },
  {
   "cell_type": "markdown",
   "metadata": {
    "id": "3ZOgKrVgkmQn"
   },
   "source": [
    "The method `.search(**kwargs)` returns a `ItemSearch` representation which has handy methods to identify the matched results. For example, to check the number of items matched, use `.matched()`:"
   ]
  },
  {
   "cell_type": "code",
   "execution_count": null,
   "metadata": {
    "colab": {
     "base_uri": "https://localhost:8080/"
    },
    "id": "TKpjaaFjkmQn",
    "outputId": "4029fa95-8915-4f07-d58d-9f2ab830178e"
   },
   "outputs": [],
   "source": [
    "item_search.matched()"
   ]
  },
  {
   "cell_type": "markdown",
   "metadata": {
    "id": "s36z4MrxkmQn"
   },
   "source": [
    "To iterate over the matched result, use `.get_items()` to traverse the list of items:"
   ]
  },
  {
   "cell_type": "code",
   "execution_count": null,
   "metadata": {
    "colab": {
     "base_uri": "https://localhost:8080/"
    },
    "id": "6mwctoR0kmQn",
    "outputId": "5586f0b1-fdfb-4355-8e2f-5490e8b0bd65"
   },
   "outputs": [],
   "source": [
    "for item in item_search.items():\n",
    "    print(item)"
   ]
  },
  {
   "cell_type": "code",
   "execution_count": null,
   "metadata": {
    "colab": {
     "base_uri": "https://localhost:8080/"
    },
    "id": "mfBl6AsU5nDe",
    "outputId": "d6d56214-57cb-4d34-c19c-9e89a4443bf1"
   },
   "outputs": [],
   "source": [
    "items = list(item_search.items())\n",
    "items"
   ]
  },
  {
   "cell_type": "markdown",
   "metadata": {
    "id": "BgtiHNedkmQo"
   },
   "source": [
    "<img src=\"https://raw.githubusercontent.com/brazil-data-cube/code-gallery/master/img/stac/stac-asset.png?raw=true\" align=\"right\" width=\"300\"/>\n",
    "\n",
    "Assets\n",
    "<hr style=\"border:1px solid #0077b9;\">\n",
    "\n",
    "The assets with the links to the images, thumbnails or specific metadata files, can be accessed through the property `assets` (from a given item):"
   ]
  },
  {
   "cell_type": "code",
   "execution_count": null,
   "metadata": {
    "colab": {
     "base_uri": "https://localhost:8080/"
    },
    "id": "TyimexxXPQD1",
    "outputId": "bc4a9fd1-2c36-4ed4-f96c-ed70456321af"
   },
   "outputs": [],
   "source": [
    "assets = item.assets #Last item of the loop\n",
    "assets"
   ]
  },
  {
   "cell_type": "markdown",
   "metadata": {
    "id": "7D4g3AO6kmQo"
   },
   "source": [
    "Then, from the assets it is possible to traverse or access individual elements:"
   ]
  },
  {
   "cell_type": "markdown",
   "metadata": {
    "id": "gki8J5cqkmQp"
   },
   "source": [
    "The metadata related to the Sentinel-2/MSI blue band is available under the dictionary key `B02`:"
   ]
  },
  {
   "cell_type": "code",
   "execution_count": null,
   "metadata": {
    "colab": {
     "base_uri": "https://localhost:8080/",
     "height": 181
    },
    "id": "2TifKb4ikmQp",
    "outputId": "1f2ec957-20ea-43e6-a3e7-a92fbf83cdae"
   },
   "outputs": [],
   "source": [
    "blue_asset = assets['B02']\n",
    "blue_asset"
   ]
  },
  {
   "cell_type": "markdown",
   "metadata": {
    "id": "Hb76OEoWkmQp"
   },
   "source": [
    "To iterate in the item's assets, use the following pattern:"
   ]
  },
  {
   "cell_type": "code",
   "execution_count": null,
   "metadata": {
    "colab": {
     "base_uri": "https://localhost:8080/"
    },
    "id": "oSQHq_HEkmQp",
    "outputId": "5736a883-21b1-4a80-a346-6458eb4c8ff7"
   },
   "outputs": [],
   "source": [
    "for asset in assets.values():\n",
    "    print(asset)"
   ]
  },
  {
   "cell_type": "markdown",
   "metadata": {
    "id": "yudqYLHMkmQ4"
   },
   "source": [
    "Retrieving Image Files\n",
    "<hr style=\"border:1px solid #0077b9;\">"
   ]
  },
  {
   "cell_type": "markdown",
   "metadata": {
    "id": "v9Msl6F_kmQ5"
   },
   "source": [
    "Note that the URL for a given asset can be retrieved by the property `href`:"
   ]
  },
  {
   "cell_type": "code",
   "execution_count": null,
   "metadata": {
    "colab": {
     "base_uri": "https://localhost:8080/",
     "height": 36
    },
    "id": "lxsQCCcHkmQ5",
    "outputId": "f1aa40af-4f66-4daa-f53d-11b67ed0b0a0"
   },
   "outputs": [],
   "source": [
    "blue_asset.href"
   ]
  },
  {
   "cell_type": "code",
   "execution_count": null,
   "metadata": {
    "colab": {
     "base_uri": "https://localhost:8080/"
    },
    "id": "EQrgXwXP2OX4",
    "outputId": "8b31b7e4-edb8-4cb9-bc89-fac014d55865"
   },
   "outputs": [],
   "source": [
    "#!pip install rasterio"
   ]
  },
  {
   "cell_type": "code",
   "execution_count": null,
   "metadata": {
    "id": "k3OSDTZ0oFhU"
   },
   "outputs": [],
   "source": [
    "%matplotlib inline\n",
    "\n",
    "import numpy as np\n",
    "import rasterio\n",
    "from matplotlib import pyplot as plt\n",
    "from pyproj import Transformer\n",
    "from pyproj.crs import CRS\n",
    "from rasterio.windows import bounds, from_bounds, Window"
   ]
  },
  {
   "cell_type": "markdown",
   "metadata": {
    "id": "uI2VEBOBoMOg"
   },
   "source": [
    "DataCubes generated by Brazil Data Cube use an Alber Equal Areas Projection ([see here](https://brazil-data-cube.github.io/specifications/bdc-projection.html)).\n",
    "\n",
    "Here we define some auxiliar functions to help in this Jupyter Notebook.\n",
    "\n",
    "- `normalize`: Normalizes image values (for visualization).\n",
    "\n",
    "- `read_img`: Reads an image using window.\n",
    "\n",
    "- `read_bdcimg_using_window_from_4326`: Reads parts (windows) of a BDC image using coordinates from EPSG 4326."
   ]
  },
  {
   "cell_type": "code",
   "execution_count": null,
   "metadata": {
    "id": "crxdyPPCrJyp"
   },
   "outputs": [],
   "source": [
    "def normalize(array):\n",
    "    \"\"\"Normalizes numpy arrays into scale 0.0 - 1.0\"\"\"\n",
    "    array_min, array_max = array.min(), array.max()\n",
    "    return ((array - array_min)/(array_max - array_min))\n",
    "\n",
    "def read_img(uri: str, window: Window = None, masked: bool = True):\n",
    "    \"\"\"Read raster window as numpy.ma.masked_array.\"\"\"\n",
    "    with rasterio.open(uri) as src:\n",
    "        return src.read(1, window=window, masked=masked)\n",
    "\n",
    "def read_bdcimg_using_window_from_4326(uri: str, bbox, transformer):\n",
    "    \"\"\"Read raster window as numpy using EPSG:4326 to crop the window.\"\"\"\n",
    "    x1, y1, x2, y2 = bbox\n",
    "    x1_reproj, y1_reproj = transformer.transform(x1, y1)\n",
    "    x2_reproj, y2_reproj = transformer.transform(x2, y2)\n",
    "    with rasterio.open(uri) as src:\n",
    "        window = from_bounds(x1_reproj, y1_reproj, x2_reproj, y2_reproj, src.transform)\n",
    "        rst = src.read(1, window=window)\n",
    "        window_transform = src.window_transform(window)\n",
    "        # window_bounds = bounds(window, src.transform)\n",
    "    return rst, window_transform"
   ]
  },
  {
   "cell_type": "markdown",
   "metadata": {
    "id": "RCZHcxBblxVd"
   },
   "source": [
    "Now let's suppose we don't want to use the entire image, only a part of it.\n",
    "\n",
    "So we define a bounding box of the area of interest in order to open and visualize the RGB bands."
   ]
  },
  {
   "cell_type": "code",
   "execution_count": null,
   "metadata": {
    "id": "d6zOtHsrshsv"
   },
   "outputs": [],
   "source": [
    "window_bbox = [-52.4, -6.5, -52.3, -6.4]"
   ]
  },
  {
   "cell_type": "code",
   "execution_count": null,
   "metadata": {
    "id": "87nABQza5ezd"
   },
   "outputs": [],
   "source": [
    "# Create the transformer\n",
    "crs = rasterio.open(assets['B02'].href).crs\n",
    "in_proj = CRS.from_epsg(4326)\n",
    "out_proj = CRS.from_user_input(crs)\n",
    "transformer = Transformer.from_crs(in_proj, out_proj, always_xy=True)"
   ]
  },
  {
   "cell_type": "code",
   "execution_count": null,
   "metadata": {
    "colab": {
     "base_uri": "https://localhost:8080/",
     "height": 360
    },
    "id": "yXkrwOI2DBNP",
    "outputId": "9ccee89d-54d8-4403-c161-4b0e6ed3f132"
   },
   "outputs": [],
   "source": [
    "b02_image, window_transform = read_bdcimg_using_window_from_4326(items[7].assets['B02'].href, window_bbox, transformer)\n",
    "b03_image, _ = read_bdcimg_using_window_from_4326(items[7].assets['B03'].href, window_bbox, transformer)\n",
    "b04_image, _ = read_bdcimg_using_window_from_4326(items[7].assets['B04'].href, window_bbox, transformer)\n",
    "\n",
    "fig, (ax1, ax2, ax3) = plt.subplots(1, 3, figsize=(12, 4))\n",
    "ax1.imshow(b02_image, cmap='gray')\n",
    "ax2.imshow(b03_image, cmap='gray')\n",
    "ax3.imshow(b04_image, cmap='gray')"
   ]
  },
  {
   "cell_type": "code",
   "execution_count": null,
   "metadata": {
    "colab": {
     "base_uri": "https://localhost:8080/",
     "height": 453
    },
    "id": "SqW94gNKBGUt",
    "outputId": "70f29265-4fbe-480c-99b3-697ea8729dcb"
   },
   "outputs": [],
   "source": [
    "rgb_normalized_stack = np.dstack((normalize(b04_image), normalize(b03_image), normalize(b02_image)))\n",
    "plt.imshow(rgb_normalized_stack)"
   ]
  },
  {
   "cell_type": "markdown",
   "metadata": {
    "id": "cJ5sOd5JRnbW"
   },
   "source": [
    "-----"
   ]
  },
  {
   "cell_type": "markdown",
   "metadata": {
    "id": "BPevNVEHaX9s"
   },
   "source": [
    "# Exemplo caso de uso\n",
    "<hr style=\"border:1px solid #0077b9;\">"
   ]
  },
  {
   "cell_type": "markdown",
   "metadata": {
    "id": "ZWPvoDm78T8_"
   },
   "source": [
    "Agora vamos fazer alguns exemplos abrindo imagens de diferentes datas, calculando uma média e calculando o índice Temperature Condition Index (TCI).\n",
    "\n",
    "\n",
    "Formula : TCI = 100 * (BTmax - BT) / (BTmax – BTmin) (Kogan, 1995)\n",
    "\n"
   ]
  },
  {
   "cell_type": "markdown",
   "metadata": {
    "id": "H3JyFc4xaljs"
   },
   "source": [
    "Primeiramente vamos definir uma área, a qual utilizaremos para buscar dados."
   ]
  },
  {
   "cell_type": "code",
   "execution_count": null,
   "metadata": {
    "colab": {
     "base_uri": "https://localhost:8080/",
     "height": 778
    },
    "id": "aEoXn8aSDa25",
    "outputId": "5cff03d3-fb41-4a22-89c2-d7ef9b6ae470"
   },
   "outputs": [],
   "source": [
    "bbox = [-58, -12, -57, -11]\n",
    "\n",
    "f = folium.Figure(width=1000, height=300) # Restrict figure size\n",
    "\n",
    "# Create a folium map centered around the geographic area of interest\n",
    "folium_map = folium.Map(location=[-11.5, -57.5], zoom_start=6)\n",
    "\n",
    "folium.Rectangle(\n",
    "    bounds=[[bbox[1],bbox[0]],[bbox[3],bbox[2]]],\n",
    "    color=\"blue\",\n",
    "    weight=2,\n",
    "    fill=True,\n",
    "    fill_color=\"blue\",\n",
    "    fill_opacity=0.2\n",
    ").add_to(folium_map)\n",
    "\n",
    "folium_map"
   ]
  },
  {
   "cell_type": "markdown",
   "metadata": {
    "id": "hAqnmABoarew"
   },
   "source": [
    "Vamos usar o STAC para procurar dados da coleção `mod11a2-6.1`:"
   ]
  },
  {
   "cell_type": "code",
   "execution_count": null,
   "metadata": {
    "colab": {
     "base_uri": "https://localhost:8080/"
    },
    "id": "SOgCsrxGDa26",
    "outputId": "7eb45c46-57b8-48d1-e552-90f99a3395a3"
   },
   "outputs": [],
   "source": [
    "item_search = service.search(bbox=bbox,\n",
    "                             datetime='2020-01-01/2023-12-31',\n",
    "                             collections=['mod11a2-6.1'])\n",
    "item_search"
   ]
  },
  {
   "cell_type": "code",
   "execution_count": null,
   "metadata": {
    "colab": {
     "base_uri": "https://localhost:8080/"
    },
    "id": "R32rARQbLACu",
    "outputId": "2ebb6fa4-8c97-4972-9e5b-c56078ee5705"
   },
   "outputs": [],
   "source": [
    "item_search.matched()"
   ]
  },
  {
   "cell_type": "code",
   "execution_count": null,
   "metadata": {
    "colab": {
     "base_uri": "https://localhost:8080/"
    },
    "id": "PfT_0Qv6LACv",
    "outputId": "c3c5a5ac-174b-49bb-f481-be61168c7043"
   },
   "outputs": [],
   "source": [
    "items = list(item_search.items())\n",
    "items"
   ]
  },
  {
   "cell_type": "markdown",
   "metadata": {
    "id": "_Y-ZXKOhNek0"
   },
   "source": [
    "Vamos criar um dicionário, que tem como chave uma string contendo o dia do ano (de 1 a 366) e que agrupa os items dos diversos anos referentes a esse dia."
   ]
  },
  {
   "cell_type": "code",
   "execution_count": null,
   "metadata": {
    "colab": {
     "base_uri": "https://localhost:8080/"
    },
    "id": "Tik5ukqTL1MB",
    "outputId": "cb39e1bc-66d6-4bce-a994-a889baacc620"
   },
   "outputs": [],
   "source": [
    "items_day_of_the_year = {}\n",
    "for item in items:\n",
    "    day = item.id.split(\".\")[1][5:]\n",
    "    if day not in items_day_of_the_year:\n",
    "        items_day_of_the_year[day] = []\n",
    "    items_day_of_the_year[day].append(item)\n",
    "items_day_of_the_year['001']"
   ]
  },
  {
   "cell_type": "code",
   "execution_count": null,
   "metadata": {
    "colab": {
     "base_uri": "https://localhost:8080/"
    },
    "id": "esfa7WndPmkM",
    "outputId": "11d4e994-ab05-4ad0-e69b-e386511c82e9"
   },
   "outputs": [],
   "source": [
    "items_day_of_the_year['001'][0].assets"
   ]
  },
  {
   "cell_type": "markdown",
   "metadata": {
    "id": "BI28biOvMgz1"
   },
   "source": [
    "<table border=\"1\" class=\"dataframe\">\n",
    "  <thead>\n",
    "    <tr style=\"text-align: right;\">\n",
    "      <th>SDS Name</th>\n",
    "      <th>Description</th>\n",
    "      <th>Units</th>\n",
    "      <th>Data Type</th>\n",
    "      <th>Fill Value</th>\n",
    "      <th>No Data Value</th>\n",
    "      <th>Valid Range</th>\n",
    "      <th>Scale Factor</th>\n",
    "      <th>Offset</th>\n",
    "    </tr>\n",
    "  </thead>\n",
    "  <tbody>\n",
    "    <tr>\n",
    "      <td>QC_Day</td>\n",
    "      <td>Daytime LST Quality Indicators</td>\n",
    "      <td>Bit Field</td>\n",
    "      <td>8-bit unsigned integer</td>\n",
    "      <td>N/A</td>\n",
    "      <td>N/A</td>\n",
    "      <td>0 to 255</td>\n",
    "      <td>N/A</td>\n",
    "      <td>N/A</td>\n",
    "    </tr>\n",
    "    <tr>\n",
    "      <td>Emis_31</td>\n",
    "      <td>Band 31 emissivity</td>\n",
    "      <td>N/A</td>\n",
    "      <td>8-bit unsigned integer</td>\n",
    "      <td>0</td>\n",
    "      <td>N/A</td>\n",
    "      <td>1 to 255</td>\n",
    "      <td>0.002</td>\n",
    "      <td>0.49</td>\n",
    "    </tr>\n",
    "  </tbody>\n",
    "</table>"
   ]
  },
  {
   "cell_type": "code",
   "execution_count": null,
   "metadata": {
    "colab": {
     "base_uri": "https://localhost:8080/",
     "height": 321
    },
    "id": "gFByBxEdrXcL",
    "outputId": "7753a227-cc4e-41fa-bd75-f1acef13c0a1"
   },
   "outputs": [],
   "source": [
    "num_images = len(items_day_of_the_year['001'])  # Numero total de imagens a serem plotadas\n",
    "fig, axes = plt.subplots(1, num_images, figsize=(4 * num_images, 4))  # Cria figura\n",
    "\n",
    "for ax, item in zip(axes, items_day_of_the_year['001']):\n",
    "    image = read_img(item.assets['Emis_31'].href)\n",
    "    ax.imshow(image)\n",
    "    ax.axis('off')  # Remove valores nos eixos para maior clareza no plot\n",
    "    ax.set_title(item.id, fontsize=8, loc='left')\n",
    "plt.show()"
   ]
  },
  {
   "cell_type": "code",
   "execution_count": null,
   "metadata": {
    "colab": {
     "base_uri": "https://localhost:8080/",
     "height": 530
    },
    "id": "6F8-o-hpPX9W",
    "outputId": "cd6a4621-29cd-4303-ce4c-fbc2eef20070"
   },
   "outputs": [],
   "source": [
    "band = 'Emis_31'\n",
    "Emis_31_sum = None\n",
    "num_items = len(items_day_of_the_year['001'])\n",
    "\n",
    "for idx, item in enumerate(items_day_of_the_year['001']):\n",
    "    image = read_img(item.assets[band].href)  # Lê a imagem\n",
    "    if Emis_31_sum is None:\n",
    "        Emis_31_sum = np.zeros_like(image, dtype=np.float64)  # Inicializa com zeros\n",
    "    Emis_31_sum += image\n",
    "Emis_31_avg = Emis_31_sum / num_items\n",
    "\n",
    "\n",
    "plt.figure(figsize=(8, 6))\n",
    "plt.imshow(Emis_31_avg, cmap='viridis')\n",
    "plt.colorbar(label=f\"Média de {band}\")\n",
    "plt.title(f\"Média da Banda {band}\")\n",
    "plt.axis('off') # Remove eixos para clareza\n",
    "plt.show()\n",
    "\n",
    "### WARNING! ESSA MÉDIA FOI FEITA INCLUSIVE COM PIXELS DE NUVENS! ###"
   ]
  },
  {
   "cell_type": "markdown",
   "metadata": {
    "id": "rBJdyhWzwCST"
   },
   "source": [
    "Calculo TCI:"
   ]
  },
  {
   "cell_type": "code",
   "execution_count": null,
   "metadata": {
    "id": "pjiN5_OgSsJX"
   },
   "outputs": [],
   "source": [
    "def calculate_tci(bt, bt_max, bt_min):\n",
    "    bt = bt.astype(float)\n",
    "    bt_max = bt_max.astype(float)\n",
    "    bt_min = bt_min.astype(float)\n",
    "\n",
    "    denominator = bt_max - bt_min\n",
    "    denominator[denominator == 0] = np.nan  # Define como NaN se o denominador for zero\n",
    "\n",
    "    tci = 100 * (bt_max - bt) / denominator # Equação TCI\n",
    "\n",
    "    return tci\n",
    "\n",
    "\n",
    "def obtain_max(items, band):\n",
    "    max = None\n",
    "    for idx, item in enumerate(items):\n",
    "        image = read_img(item.assets[band].href) # Lê a imagem\n",
    "        if max is None:\n",
    "            max = image # Inicializa\n",
    "            continue\n",
    "        max = np.maximum(max, image)\n",
    "    return max\n",
    "\n",
    "\n",
    "def obtain_min(items, band):\n",
    "    min = None\n",
    "    for idx, item in enumerate(items):\n",
    "        image = read_img(item.assets[band].href) # Lê a imagem\n",
    "        if min is None:\n",
    "            min = image # Inicializa\n",
    "            continue\n",
    "        min = np.minimum(min, image)\n",
    "    return min"
   ]
  },
  {
   "cell_type": "code",
   "execution_count": null,
   "metadata": {
    "colab": {
     "base_uri": "https://localhost:8080/",
     "height": 529
    },
    "id": "OwXSJu3eTHDl",
    "outputId": "965672d4-03ed-4a8e-a663-48f728c5c7e3"
   },
   "outputs": [],
   "source": [
    "bt_max = obtain_max(items_day_of_the_year['001'], band)\n",
    "bt_min = obtain_min(items_day_of_the_year['001'], band)\n",
    "my_image = read_img(items_day_of_the_year['001'][0].assets[band].href)\n",
    "tci = calculate_tci(my_image, bt_max, bt_min)\n",
    "\n",
    "plt.figure(figsize=(8, 6))\n",
    "plt.imshow(tci, cmap='viridis')\n",
    "plt.colorbar(label=f\"Índice TCI\")\n",
    "plt.title(f\"Índice TCI\")\n",
    "plt.axis('off') # Remove eixos para clareza\n",
    "plt.show()"
   ]
  },
  {
   "cell_type": "code",
   "execution_count": null,
   "metadata": {
    "id": "OB5OUOc_WLUv"
   },
   "outputs": [],
   "source": []
  }
 ],
 "metadata": {
  "colab": {
   "provenance": [],
   "toc_visible": true
  },
  "kernelspec": {
   "display_name": "Python 3 (ipykernel)",
   "language": "python",
   "name": "python3"
  },
  "language_info": {
   "codemirror_mode": {
    "name": "ipython",
    "version": 3
   },
   "file_extension": ".py",
   "mimetype": "text/x-python",
   "name": "python",
   "nbconvert_exporter": "python",
   "pygments_lexer": "ipython3",
   "version": "3.11.6"
  }
 },
 "nbformat": 4,
 "nbformat_minor": 4
}
