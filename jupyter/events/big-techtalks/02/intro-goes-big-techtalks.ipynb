{
 "cells": [
  {
   "cell_type": "markdown",
   "metadata": {
    "id": "g1IGOwiFeIHP"
   },
   "source": [
    "<img src=\"https://data.inpe.br/big/web/wp-content/uploads/2024/05/logo-BIG-INPE.svg\" align=\"right\" width=\"128\"/>\n",
    "\n",
    "# <span style=\"color:#336699\">Processamento de Imagens GOES utilizando STAC e Python</span>\n",
    "<hr style=\"border:2px solid #0077b9;\">\n",
    "\n",
    "<div style=\"text-align: left;\">\n",
    "    <a href=\"https://nbviewer.jupyter.org/github/brazil-data-cube/code-gallery/blob/master/jupyter/Python/stac/stac-introduction.ipynb\"><img src=\"https://raw.githubusercontent.com/jupyter/design/master/logos/Badges/nbviewer_badge.svg\" align=\"center\"/></a>\n",
    "</div>\n",
    "\n",
    "<br/>\n",
    "\n",
    "<div style=\"text-align: center;font-size: 90%;\">\n",
    "    Douglas Uba<sup><a href=\"https://orcid.org/0000-0002-9414-7198\"><i class=\"fab fa-lg fa-orcid\" style=\"color: #a6ce39\"></i></a></sup> e Diego Rodrigo Moitinho de Souza <br/><br/>\n",
    "    DISSM -  Divisão de Satélites e Sensores Meteorológicos\n",
    "    <br/>\n",
    "    CGCT - Coordenação-Geral de Ciências da Terra\n",
    "    <br/>\n",
    "    INPE - Instituto Nacional de Pesquisas Espaciais, Brasil.\n",
    "    <br/>\n",
    "    Contato: <a href=\"mailto:douglas.uba@inpe.br\">douglas.uba@inpe.br</a> <a href=\"mailto:diego.souza@inpe.br\">diego.souza@inpe.br</a>\n",
    "    <br/><br/>\n",
    "    Última Atualização: 19 de Março de 2025\n",
    "</div>\n",
    "\n",
    "<br/>\n",
    "\n",
    "<div style=\"text-align: justify;  margin-left: 25%; margin-right: 25%;\">\n",
    "<b>Resumo</b> Este Jupyter Notebook fornece uma visão geral sobre como usar o serviço STAC para descobrir e acessar imagens dos satélites GOES, em conjunto com exemplos básicos de processamento e visualização dos dados. Mais especificamente, serão utilizadas imagens dos satélites GOES-16 e GOES-13.</em></div>"
   ]
  },
  {
   "cell_type": "markdown",
   "metadata": {
    "id": "iJzFUQcAeIHS"
   },
   "source": [
    "# 🛰️ Introdução\n",
    "<hr style=\"border:1px solid #0077b9;\">\n",
    "\n",
    "Os satélites da série **GOES** (*Geostationary Operational Environmental Satellite*) são <b><span style=\"color: teal\">satélites geoestacionários</span></b>  que possuem enorme relevância no <b><span style=\"color: teal\">monitoramento meteorológico e ambiental</span></b>. A primeira missão GOES foi lançada em 1975 pelos Estados Unidos e desde então, a série tem evoluído em termos de capacidades tecnológicas, com novas gerações de satélites sendo lançadas para substituir os anteriores e ampliar o escopo das missões.\n",
    "\n",
    "O <b><span style=\"color: navy\">INPE</span></b> possui destaque na utilização e disseminação das imagens obtidas pelos satélites GOES. A  <b><span style=\"color: navy\">DISSM - Divisão de Satélites e Sensores Meteorológicos</span></b>, têm recebido, armazenado e processado os dados desses satélites com o objetivo principal de atender as necessidades locais, oferecendo suporte indispensável às previsões de tempo e ao monitoramento de fenômenos meteorológicos diversos no Brasil e América do Sul.\n",
    "\n",
    "* O satélite **GOES-13** foi fundamental no monitoramento meteorológico da América do Sul durante quase uma década. Lançado em 2006, ele foi reposicionado em 2010 para cobrir a região do Atlântico Sul, oferecendo imagens importantes para previsões do tempo e acompanhamento de eventos atmosféricos sobre o Brasil e países vizinhos. Este satélite era equipado com um imageador que possuía **5 canais espectrais** (um visível - VIS, e quatro infravermelhos - IR), capaz de obter novas imagens modo *full-disk* a cada **30 minutos**, com **resolução espacial de 1 a 4km**, dependendo do canal espectral;\n",
    "\n",
    "* Com o lançamento do **GOES-16** (da série GOES-R) em 2016, uma nova era de monitoramento ambiental teve início. Este satélite oferece uma cobertura detalhada da América do Sul, com capacidade para fornecer imagens em alta resolução temporal, com novas imagens a cada **10 minutos** no modo  *full-disk*, com  **resolução espacial de 500m a 2km**, dependendo do canal espectral, sendo **16 canais** no total.</br>\n",
    "\n",
    "<div style=\"text-align: justify;  margin-left: 15%; margin-right: 15%; border-style: solid; border-color: #0077b9; border-width: 1px; padding: 5px;\">\n",
    "    <b>Nota:</b> Setor <i>full-disk</i> refere-se ao imageamento de um Polo a outro da Terra, dentro dos limites de longitude estabelecidos pela posição do satélite geoestacionário.\n",
    "</div><br/>"
   ]
  },
  {
   "cell_type": "markdown",
   "metadata": {
    "id": "PFg9LSPcgIzd"
   },
   "source": [
    "## 🛰️ GOES-13/Imager - Canais Espectrais\n",
    "\n",
    "A tabela abaixo apresenta as principais características do **sensor Imager** a bordo do satélite **GOES-13**.\n",
    "\n",
    "O Imager foi amplamente utilizado para monitoramento meteorológico e ambiental na América do Sul, Caribe e Estados Unidos.\n",
    "\n",
    "| Canal | Comprimento de Onda (μm) | Nome Comum | Principais Aplicações | Resolução Espacial (km) |\n",
    "|-------|--------------------------|------------|----------------------|-------------------------|\n",
    "| 01 | 0.65 | Vermelho (Red) | Mapeamento de nuvens, limites terrestres, vegetação | 1 |\n",
    "| 02 | 3.9 | Infravermelho de Ondas Curtas (SWIR) | Detecção de incêndios, temperatura de nuvens | 4 |\n",
    "| 03 | 6.7 | Vapor de Água | Umidade atmosférica, circulação de sistemas meteorológicos | 4 |\n",
    "| 04 | 10.7 | Infravermelho (IR) | Temperatura do topo das nuvens, sistemas convectivos | 4 |\n",
    "| 05 | 12.0 | Infravermelho(IR) | Características de nuvens, gelo/água em nuvens | 4 |\n",
    "\n",
    "### Observações\n",
    "\n",
    "- O sensor **Imager** do GOES-13 possui **5 canais**, sendo **1 no visível** e **4 no infravermelho**.\n",
    "- Resolução espacial de **1 km** (visível) e **4 km** (infravermelho).\n",
    "- Cada canal apresenta aplicações específicas em análises meteorológicas e ambientais.\n",
    "- O GOES-13 foi amplamente utilizado em operações meteorológicas antes da chegada do GOES-16.\n",
    "\n",
    "Fonte: [NOAA OSCAR - GOES Imager](https://space.oscar.wmo.int/instruments/view/imager_goes_12_15)\n"
   ]
  },
  {
   "cell_type": "markdown",
   "metadata": {
    "id": "3SvYYarweIHS"
   },
   "source": [
    "## 🛰️ GOES-16/ABI - Canais Espectrais\n",
    "\n",
    "A tabela abaixo apresenta as características principais do imageador **ABI** (*Advanced Baseline Imager*) que integra os satélites da Série GOES-R, que inclui o GOES-16.\n",
    "\n",
    "| Canal | Comprimento de Onda (μm) | Nome Comum | Principais Aplicações | Resolução Espacial (km) |\n",
    "|-------|--------------------------|------------|----------------------|-------------------------|\n",
    "| 01 | 0.47 | Azul (Blue) | Detecção de aerossóis, qualidade do ar, vegetação | 1 |\n",
    "| 02 | 0.64 | Vermelho (Red) | Mapeamento de nuvens, limites terrestres, vegetação | 0.5 |\n",
    "| 03 | 0.86 | Próximo ao Infravermelho (Near-IR) | Detecção de neve/gelo, características da superfície terrestre | 1 |\n",
    "| 04 | 1.37 | Cirrus | Detecção de nuvens cirrus, vapor de água na alta atmosfera | 2 |\n",
    "| 05 | 1.6 | Infravermelho Próximo (Near-IR) | Distinguir gelo e água em nuvens, propriedades de nuvens | 1 |\n",
    "| 06 | 2.2 | Infravermelho de Ondas Curtas (SWIR) | Detecção de umidade de vegetação, características do solo | 2 |\n",
    "| 07 | 3.9 | Infravermelho de Ondas Curtas (SWIR) | Detecção de incêndios, temperatura de nuvens | 2 |\n",
    "| 08 | 6.2 | Vapor de Água | Umidade atmosférica, movimento de sistemas meteorológicos | 2 |\n",
    "| 09 | 7.3 | Vapor de Água | Umidade atmosférica em diferentes altitudes | 2 |\n",
    "| 10 | 7.6 | Vapor de Água | Movimentos de massas de ar, sistemas meteorológicos | 2 |\n",
    "| 11 | 8.4 | Infravermelho (IR) | Temperatura do topo das nuvens, identificação de sistemas | 2 |\n",
    "| 12 | 9.7 | Infravermelho (IR) | Temperatura atmosférica, identificação de sistemas | 2 |\n",
    "| 13 | 10.3 | Infravermelho (IR) | Temperatura do topo das nuvens, identificação de sistemas | 2 |\n",
    "| 14 | 11.2 | Infravermelho (IR) | Temperatura da superfície terrestre e marítima | 2 |\n",
    "| 15 | 12.3 | Infravermelho (IR) | Temperatura atmosférica, características de nuvens | 2 |\n",
    "| 16 | 13.3 | Infravermelho (IR) | Alturas de nuvens, temperatura atmosférica | 2 |\n",
    "\n",
    "### Observações\n",
    "\n",
    "- Os canais 1-6 são no espectro visível e infravermelho próximo\n",
    "- Os canais 7-16 são no espectro infravermelho\n",
    "- Resolução espacial varia de 0.5 a 2 km na cobertura da série GOES-R\n",
    "- Cada canal tem características específicas para diferentes análises atmosféricas e terrestres\n",
    "- Fonte: [GOES-R - ABI Bands Quick Information Guides](https://www.goes-r.gov/mission/ABI-bands-quick-info.html)"
   ]
  },
  {
   "cell_type": "markdown",
   "metadata": {
    "id": "DHarx2RyeIHS"
   },
   "source": [
    "## 🌎 Exemplo de Visualização Interativa de Imagens GOES-16\n",
    "<hr style=\"border:1px solid #0077b9;\">"
   ]
  },
  {
   "cell_type": "markdown",
   "metadata": {
    "id": "XhQRBt7CeIHS"
   },
   "source": [
    "**Fonte:** <a href=\"www.cptec.inpe.br/dsat\">DSAT</a> - Aplicação para visualização interativa dos dados recebidos pela estação GOES-R do INPE."
   ]
  },
  {
   "cell_type": "code",
   "execution_count": null,
   "metadata": {
    "id": "t_XpdKeBeIHT",
    "scrolled": true
   },
   "outputs": [],
   "source": [
    "from IPython.display import IFrame\n",
    "IFrame('https://www.cptec.inpe.br/dsat/?product=true_color_ch13_dsa&product_opacity=1&zoom=2&options=false',\n",
    "    width=800, height=800)"
   ]
  },
  {
   "cell_type": "markdown",
   "metadata": {
    "id": "9rrp90qNeIHT"
   },
   "source": [
    "## 🖥️ Visualização vs. Processamento\n",
    "<hr style=\"border:1px solid #0077b9;\">"
   ]
  },
  {
   "cell_type": "markdown",
   "metadata": {
    "id": "CYyXL4-3eIHT"
   },
   "source": [
    "Aplicações para visualização interativa, como o **DSAT**, permitem que especialistas monitorem fenômenos meteorológicos em **tempo quase real**, oferecendo uma interface focada na interpretação visual das imagens, auxiliando em tomadas de decisão rápidas e no acompanhamento contínuo de eventos de interesse, como tempestades e queimadas, por exemplo.\n",
    "\n",
    "Por outro lado, o uso de plataformas de processamento como o [BDC-Lab](https://data.inpe.br/bdc/lab/), em conjunto com o padrão [**S**patio**T**emporal **A**sset **C**atalog (STAC)](https://stacspec.org/), expande significativamente as possibilidades ao permitir que usuários consultem e acessem os **dados brutos** gerados pelo <b><span style=\"color: blue\">GOES-16</span></b> de modo eficiente. Isso possibilita o **desenvolvimento de aplicações personalizadas** que vão além da simples visualização, como exemplo:\n",
    "\n",
    "- Extração de métricas específicas a partir de imagens;\n",
    "- Integração dos dados com outros sistemas ou bases geoespaciais;\n",
    "- Detecção e modelagem de padrões temporais e espaciais em grande escala, dentre outros.\n",
    "\n",
    "Neste notebook, exploramos como o **STAC** pode ser utilizado para acessar e processar imagens **GOES** de maneira prática e eficiente, permitindo, por exemplo, análises mais detalhadas no contexto de aplicações de monitoramento ambiental.\n",
    "\n",
    "<div style=\"text-align: justify;  margin-left: 15%; margin-right: 15%; border-style: solid; border-color: #0077b9; border-width: 1px; padding: 5px;\">\n",
    "    <b>Nota:</b> Será explorada primeiramente a coleção do satélite GOES-16 e em seguida do GOES-13.\n",
    "</div><br/>"
   ]
  },
  {
   "cell_type": "markdown",
   "metadata": {
    "id": "Pfzn4QIheIHU"
   },
   "source": [
    "<img src=\"https://raw.githubusercontent.com/brazil-data-cube/code-gallery/master/img/stac/stac.png?raw=true\" align=\"right\" width=\"66\"/>\n",
    "\n",
    "# STAC\n",
    "<hr style=\"border:1px solid #0077b9;\">"
   ]
  },
  {
   "cell_type": "markdown",
   "metadata": {
    "id": "yZn7b78KPQDG"
   },
   "source": [
    "[**S**patio**T**emporal **A**sset **C**atalog (STAC)](https://stacspec.org/) organiza o acesso à dados geoespaciais, como imagens de satélites, utilizando 3 conceitos principais:  `Collection`, `Item` e `Assets`.\n",
    "\n",
    "- `Collection`: agrupa dados similares, como um conjunto de imagens obtidas de um mesmo sensor ou satélite ao longo do tempo, oferecendo informações gerais sobre a origem e características desses dados;\n",
    "\n",
    "- `Item`: representa uma unidade de dados específica, como imagens correspondentes a um local ou momento exatos, com\n",
    "metadados espaciais, temporais e espectrais;\n",
    "\n",
    "- `Asset`: são os arquivos associados ao `Item`, podendo incluir diferentes formatos, resoluções, variáveis, dados auxiliares, dentre outros aspectos.\n",
    "\n",
    "O padrão facilita o acesso à esses arquivos de modo padronizado, tornando-o uma escolha eficiente para catalogação e permitindo sua interoperabilidade em diversos sistemas, além de oferecer consultas espaço-temporais otimizadas. Por último, no mais alto nível, o conceito `Catalog` agrupa diversas `Collections`. O diagrama representado na imagem abaixo ilustra os conceitos do modelo de dados STAC:\n",
    "\n",
    "<center>\n",
    "<img src=\"https://raw.githubusercontent.com/brazil-data-cube/code-gallery/master/img/stac/stac-concept.png\" width=\"480\">\n",
    "</center>"
   ]
  },
  {
   "cell_type": "markdown",
   "metadata": {
    "id": "IqTcaC7PeIHV"
   },
   "source": [
    "<img src=\"https://data.inpe.br/big/web/wp-content/uploads/2024/05/logo-BIG-INPE.svg\" align=\"right\" width=\"128\"/>\n",
    "\n",
    "## 📚 Coleções GOES na BIG\n",
    "<hr style=\"border:1px solid #0077b9;\">"
   ]
  },
  {
   "cell_type": "markdown",
   "metadata": {
    "id": "qVMiod6feIHV"
   },
   "source": [
    "Atualmente, duas `Collections` de imagens **GOES** estão disponíveis no **Catálago Integrado de Imagens da BIG**, acessível em https://data.inpe.br.\n",
    "- 📙 `GOES13-L3-IMAGER`: possui imagens do satélite GOES-13 que foram adquiridas no período de 25/11/2011 - 03:00 PM UTC até 08/01/2018 - 03:00 PM UTC. Link: [GOES13-L3-IMAGER](https://data.inpe.br/stac/browser/collections/GOES13-L3-IMAGER-1);\n",
    "- 📘 `GOES16-L2-CMI`: possui imagens do satélite GOES-16 que foram adquiridas desde 26/04/2017 - 12:45 PM UTC até o presente. Como este satélite está operacional, o processo de catalogação acontece para cada novo conjunto de imagens recebidas, mantendo o catálogo sempre atualizado com as informações mais recentemente disponíveis. Link: [GOES16-L2-CM](https://data.inpe.br/stac/browser/collections/GOES16-L2-CMI-1)\n",
    "\n",
    "\n",
    "<div style=\"text-align: justify;  margin-left: 15%; margin-right: 15%; border-style: solid; border-color: #0077b9; border-width: 1px; padding: 5px;\">\n",
    "    <b>Nota:</b> Os arquivos  - <b>Assets</b> -  da coleção <b>GOES13-L3-IMAGER</b> estão em formato binário, pós-processados. O processamento compreendeu o remapeamento dos pixels, da projeção original de aquisição (i.e. projeção geostacionária), do modo <i>full-disk</i>, para uma grade geográfica espaço-temporal uniforme (EPSG:4326), de resolução espacial 0,04 graus. A área geográfica utilizada neste processo foi escolhida de modo a destacar o Brasil, América do Sul, América Central e oceanos adjacentes.\n",
    "</div>\n",
    "\n",
    "<div style=\"text-align: justify;  margin-left: 15%; margin-right: 15%; border-style: solid; border-color: #0077b9; border-width: 1px; padding: 5px;\">\n",
    "    <b>Nota:</b> Os arquivos  - <b>Assets</b> -  da coleção <b>GOES16-L2-CMI</b> estão no formato NetCDF, com as informações completas e originais que foram produzidas pela estação de recepção GOES-R do INPE. Para cada banda espectral - 16 no total - está relacionado 1 arquivo NetCDF com a matriz de pixels com valores medidos pelo sensor ABI/GOES-16.\n",
    "</div>\n",
    "\n",
    "<div style=\"text-align: justify;  margin-left: 15%; margin-right: 15%; border-style: solid; border-color: #0077b9; border-width: 1px; padding: 5px;\">\n",
    "    <b>Nota:</b> As unidades dos valores medidos são: Temperatura de Brilho (Kelvin) para os canais IR e Refletância (%) para os canais VIS.\n",
    "</div>\n",
    "\n",
    "<div style=\"text-align: justify;  margin-left: 15%; margin-right: 15%; border-style: solid; border-color: #0077b9; border-width: 1px; padding: 5px;\">\n",
    "    <b>Nota:</b> Para a coleção <b>GOES16-L2-CMI</b>, a catalogação das imagens antes do ano de 2019 está em processamento.\n",
    "</div>\n",
    "\n",
    "<div style=\"text-align: justify;  margin-left: 15%; margin-right: 15%; border-style: solid; border-color: #0077b9; border-width: 1px; padding: 5px;\">\n",
    "    <b>Nota:</b> Importante informar que podem haver arquivos faltantes, devido a falhas do satélite, ou na transmissão, recepção, processamento ou armazenamento dos dados.\n",
    "</div>\n",
    "\n",
    "<div style=\"text-align: justify;  margin-left: 15%; margin-right: 15%; border-style: solid; border-color: #0077b9; border-width: 1px; padding: 5px;\">\n",
    "    <b>Nota:</b> Para ambas as coleções, optou-se por estabelecer cada observação (<i>i.e.</i> scan) do satélite geoestacionário como um Item específico.\n",
    "</div>\n",
    "\n",
    "<br/>\n",
    "\n",
    "Optou-se inicialmente pela catalogação das imagens desses dois satélites (GOES-13 e GOES-16). O primeiro por possuir um histórico amplo e relativamente recente de imagens (2011 até 2018), enquanto o segundo é atualmente o satélite em operação (também conhecido como GOES-Leste), com a melhor capacidade de observação do território brasileiro, países vizinhos e oceanos adjacentes."
   ]
  },
  {
   "cell_type": "markdown",
   "metadata": {
    "id": "F0QB_3meeIHV"
   },
   "source": [
    "## 👩🏽‍💻 STAC Client API\n",
    "<hr style=\"border:1px solid #0077b9;\">\n",
    "\n",
    "Para execução dos exemplos deste Jupyter Notebook, será instalado o pacote [pystac-client](https://pystac-client.readthedocs.io/en/latest/)."
   ]
  },
  {
   "cell_type": "code",
   "execution_count": null,
   "metadata": {
    "id": "-rtR7Bs6eIHV"
   },
   "outputs": [],
   "source": [
    "# Não necessário no ambiente do BDC-Lab\n",
    "#!pip install pystac-client"
   ]
  },
  {
   "cell_type": "markdown",
   "metadata": {
    "id": "TEISnpnHeIHV"
   },
   "source": [
    "Para acessar as funcionalidades, importa-se o pacote `pystac_client`:"
   ]
  },
  {
   "cell_type": "code",
   "execution_count": null,
   "metadata": {
    "id": "Nbh1DWTaPQDY"
   },
   "outputs": [],
   "source": [
    "import pystac_client\n",
    "pystac_client.__version__"
   ]
  },
  {
   "cell_type": "markdown",
   "metadata": {
    "id": "s1CO5y9qeIHW"
   },
   "source": [
    "Em seguida, realiza-se a conexão com o serviço STAC BDC/BIG:"
   ]
  },
  {
   "cell_type": "code",
   "execution_count": null,
   "metadata": {
    "id": "hPInUTjeeIHW"
   },
   "outputs": [],
   "source": [
    "service = pystac_client.Client.open(\n",
    "    'https://data.inpe.br/bdc/stac/v1/'\n",
    ")\n",
    "service"
   ]
  },
  {
   "cell_type": "code",
   "execution_count": null,
   "metadata": {
    "id": "hjjL0BC8l3u5"
   },
   "outputs": [],
   "source": [
    "collections = list(service.get_collections())\n",
    "print(f'Number of collections: {len(collections)}')\n",
    "print('Collections IDs:')\n",
    "for collection in collections:\n",
    "    print(f'🛰️🌎\\033[94m{collection.id}') if collection.id.find('GOES') != -1 else print (f'\\033[0m{collection.id}')"
   ]
  },
  {
   "cell_type": "markdown",
   "metadata": {
    "id": "CIeP_LfSgPgh"
   },
   "source": [
    "# ⚙️ GOES-16\n",
    "<hr style=\"border:1px solid #0077b9;\">"
   ]
  },
  {
   "cell_type": "markdown",
   "metadata": {
    "id": "J-bD5NZAeIHW"
   },
   "source": [
    "## 🔍 Recuperando Imagens GOES-16 mais recentes\n",
    "<hr style=\"border:1px solid #0077b9;\">"
   ]
  },
  {
   "cell_type": "markdown",
   "metadata": {
    "id": "mXYOR_q8eIHW"
   },
   "source": [
    "Vamos utilizar o serviço STAC para recuperar as **imagens mais recentes catalogadas** do satélite GOES-16.\n",
    "\n",
    "A partir do método `search`, definimos o nome da coleção (`collections=['GOES16-L2-CMI-1']`).\n",
    "\n",
    "Também utilizamos o parâmetro `sortby` para ordenarmos os itens que serão recuperados de acordo com a data de aquisição.\n"
   ]
  },
  {
   "cell_type": "code",
   "execution_count": null,
   "metadata": {
    "id": "3IKREEUpPQDg"
   },
   "outputs": [],
   "source": [
    "# Search GOES-16 Items order by date time. The goal is to get the most recent item in the collection.\n",
    "item_search = service.search(\n",
    "    collections=['GOES16-L2-CMI-1'],\n",
    "    sortby=[{\n",
    "        'field': 'properties.datetime',\n",
    "        'direction': 'desc'\n",
    "    }]\n",
    ")"
   ]
  },
  {
   "cell_type": "markdown",
   "metadata": {
    "id": "IrkJeOkleIHW"
   },
   "source": [
    "Inicialmente, verificamos quantos `Items` no total foram encontrados."
   ]
  },
  {
   "cell_type": "code",
   "execution_count": null,
   "metadata": {
    "id": "PGbKyW-LeIHW"
   },
   "outputs": [],
   "source": [
    "# Number of found items\n",
    "item_search.matched()"
   ]
  },
  {
   "cell_type": "markdown",
   "metadata": {
    "id": "BYxRkAYxeIHX"
   },
   "source": [
    "**Curiosidade:** O satélite GOES-16 possui uma alta resolução temporal (*i.e.* novas imagens a cada 10 minutos).\n",
    "\n",
    "Considerando que idealmente cada `Item` possui 16 `Assets` (quantidade concordante com o número de canais espectrais dos sensor imageador ABI), vamos estimar:\n",
    "\n",
    "- Até o momento, quantas imagens GOES-16 temos catalogadas?"
   ]
  },
  {
   "cell_type": "code",
   "execution_count": null,
   "metadata": {
    "id": "xi1ai-VMeIHX"
   },
   "outputs": [],
   "source": [
    "# Estimate total number of catalogued GOES-16 images\n",
    "item_search.matched() * 16"
   ]
  },
  {
   "cell_type": "markdown",
   "metadata": {
    "id": "mwc09fryeIHX"
   },
   "source": [
    "Estamos interessados nas imagens mais recentes. Como ordenamos por data, basta analisarmos o **primeiro item** da lista.\n",
    "\n",
    "Cada `Item` possui uma série de propriedades e atributos descritivos."
   ]
  },
  {
   "cell_type": "code",
   "execution_count": null,
   "metadata": {
    "id": "drKuLBpBeIHX"
   },
   "outputs": [],
   "source": [
    "# Get first item. i.e. the most recent item in the collection\n",
    "item = next(item_search.items(), None)\n",
    "item"
   ]
  },
  {
   "cell_type": "markdown",
   "metadata": {
    "id": "GDAMbJ0zeIHX"
   },
   "source": [
    "Verificando a data de aquisição dessas imagens, temos:"
   ]
  },
  {
   "cell_type": "code",
   "execution_count": null,
   "metadata": {
    "id": "hLxnRaeJeIHX"
   },
   "outputs": [],
   "source": [
    "# Let's see datetime attribute\n",
    "item.properties['datetime']"
   ]
  },
  {
   "cell_type": "markdown",
   "metadata": {
    "id": "loPuzInFeIHY"
   },
   "source": [
    "## 🖥️ Leitura de Imagem com netCDF4\n",
    "<hr style=\"border:1px solid #0077b9;\">"
   ]
  },
  {
   "cell_type": "markdown",
   "metadata": {
    "id": "B1EqNIPseIHY"
   },
   "source": [
    "As imagens do GOES-16 são fornecidas no formato [**Network Common Data Form (NetCDF)**](https://www.unidata.ucar.edu/software/netcdf/), amplamente utilizado para armazenar dados científicos multidimensionais, como variáveis climáticas e ambientais. Nesta seção, utilizaremos a biblioteca `netCDF4` para ler os dados do Canal 13 (`Asset B13`), correspondente ao comprimento de onda de **10.3 µm**.\n",
    "\n",
    "O exemplo a seguir demonstra como abrir e visualizar informações básicas do arquivo netCDF.\n"
   ]
  },
  {
   "cell_type": "code",
   "execution_count": null,
   "metadata": {
    "id": "QH6G0lLHeIHY"
   },
   "outputs": [],
   "source": [
    "# Não necessário no ambiente do BDC-Lab\n",
    "#!pip install netCDF4"
   ]
  },
  {
   "cell_type": "code",
   "execution_count": null,
   "metadata": {
    "id": "vzEmt3LDeIHY"
   },
   "outputs": [],
   "source": [
    "from netCDF4 import Dataset\n",
    "ir = Dataset(item.assets['B13'].href + '#mode=bytes')"
   ]
  },
  {
   "cell_type": "markdown",
   "metadata": {
    "id": "MJ9ESvlQeIHZ"
   },
   "source": [
    "Verificando os metadados e o conteúdo do arquivo de imagem."
   ]
  },
  {
   "cell_type": "code",
   "execution_count": null,
   "metadata": {
    "id": "tdB9Wru4eIHZ"
   },
   "outputs": [],
   "source": [
    "ir"
   ]
  },
  {
   "cell_type": "markdown",
   "metadata": {
    "id": "_lIWeg6QeIHZ"
   },
   "source": [
    "\n",
    "\n",
    "<div style=\"text-align: justify;  margin-left: 15%; margin-right: 25%; border-style: solid; border-color: #0077b9; border-width: 1px; padding: 5px;\">\n",
    "    <b>Nota:</b> Além dos diversos metadados, a matriz de pixels com os valores medidos para determinado canal espectral pode ser acessada a partir da variável chamada <b>CMI</b> (sigla para <i>Cloud and Moisture Imagery</i>).\n",
    "</div>"
   ]
  },
  {
   "cell_type": "markdown",
   "metadata": {
    "id": "4q7GVP5UYGqg"
   },
   "source": [
    "Vamos verificar as características da variável **CMI**. Além de diversos metadados, temos os valores de \"fator de refletância\" para as bandas visíveis e \"temperatura de brilho\" para os canais infravermelhos; *i.e.* a matriz de pixels da imagem:"
   ]
  },
  {
   "cell_type": "code",
   "execution_count": null,
   "metadata": {
    "id": "0d1YPYClY6oj"
   },
   "outputs": [],
   "source": [
    "# Reading a specific variable\n",
    "ir.variables['CMI']"
   ]
  },
  {
   "cell_type": "markdown",
   "metadata": {
    "id": "n1sju_95ZFId"
   },
   "source": [
    "Note que para este caso em particular (Banda 13 - 10.3 µm - 2 km de resolução espacial) temos uma imagem com 5424 linhas x 5424 colunas (`current shape = (5424, 5424)`). Observa-se também que a unidade de pixel para este canal em particular é Kelvin (`units: K`).\n",
    "\n",
    "🤔❓ Quais outros valores importantes podemos encontrar?\n",
    "\n",
    "<div style=\"text-align: justify;  margin-left: 15%; margin-right: 25%; border-style: solid; border-color: #0077b9; border-width: 1px; padding: 5px;\">\n",
    "    <b>Nota:</b> Para bandas de 1 km de resolução espacial, temos o dobro de linhas e colunas (10848 x 10848) e para 0.5 km são 4 vezes mais (21696 x 21696).\n",
    "</div>\n",
    "\n",
    "<div style=\"text-align: justify;  margin-left: 15%; margin-right: 25%; border-style: solid; border-color: #0077b9; border-width: 1px; padding: 5px;\">\n",
    "    <b>Nota:</b> Um plot da banda de 0.5 km requer uma boa quantidade de memória.\n",
    "</div><br>\n",
    "\n",
    "Em seguida, vamos acessar e processar os valores da variável **CMI** e produzir um plot básico."
   ]
  },
  {
   "cell_type": "markdown",
   "metadata": {
    "id": "Oq6pbTBGeIHZ"
   },
   "source": [
    "## 📈 Plot Básico\n",
    "<hr style=\"border:1px solid #0077b9;\">"
   ]
  },
  {
   "cell_type": "markdown",
   "metadata": {
    "id": "kV5DLTL5eIHf"
   },
   "source": [
    "Usaremos o suporte fornecido pelo pacote `matplotlib` para visualizarmos, neste momento, de modo básico, a imagem GOES-16 - Canal 13."
   ]
  },
  {
   "cell_type": "code",
   "execution_count": null,
   "metadata": {
    "id": "x-_gQFR5gl-o"
   },
   "outputs": [],
   "source": [
    "# Não necessário no ambiente do BDC-Lab\n",
    "#!pip install matplotlib"
   ]
  },
  {
   "cell_type": "code",
   "execution_count": null,
   "metadata": {},
   "outputs": [],
   "source": [
    "import matplotlib.pyplot as plt"
   ]
  },
  {
   "cell_type": "markdown",
   "metadata": {},
   "source": [
    "Obtemos a matriz de pixels da imagem:"
   ]
  },
  {
   "cell_type": "code",
   "execution_count": null,
   "metadata": {
    "id": "hz1J6n35eIHg"
   },
   "outputs": [],
   "source": [
    "pixels = ir.variables['CMI'][:]"
   ]
  },
  {
   "cell_type": "markdown",
   "metadata": {
    "id": "6zgKc85EeIHg"
   },
   "source": [
    "Neste caso, `pixels` é um `NumPy Array` de dimensão (m x m)."
   ]
  },
  {
   "cell_type": "code",
   "execution_count": null,
   "metadata": {
    "id": "uwHWPKvNeIHg"
   },
   "outputs": [],
   "source": [
    "print(type(pixels))\n",
    "pixels.shape"
   ]
  },
  {
   "cell_type": "markdown",
   "metadata": {
    "id": "40PtWO4leIHg"
   },
   "source": [
    "Visualizamos a imagem com o método `imshow` e alguns parâmetros:\n",
    "\n",
    "- `pixels`: a matriz de valores que desejamos visualizar;\n",
    "\n",
    "- `vmin` e `vmax`: os valores mínimos e máximos da paleta de cores (*colormap*). Você pode ajustar estes valores de acordo com a sua preferência;\n",
    "\n",
    "- `cmap`: a paleta de cores a ser utilizada. Acesse o seguinte link para verificar as paletas de cores padrão `matplotlib`: https://matplotlib.org/stable/tutorials/colors/colormaps.html. Aqui, utilizamos a escala de cinza chamada **\"Greys\"** (*i.e.* branco para valores baixos de temperatura de brilho (BT) e preto para valores altos de temperatura de brilho).\n",
    "\n",
    "Defne-se também o tamanho do plot (em polegadas) que será produzido."
   ]
  },
  {
   "cell_type": "code",
   "execution_count": null,
   "metadata": {
    "id": "5BUDbGLseIHg"
   },
   "outputs": [],
   "source": [
    "# Choose the plot size (width x height, in inches)\n",
    "plt.figure(figsize=(10,10))\n",
    "\n",
    "# Plot the image\n",
    "plt.imshow(pixels, vmin=190.0, vmax=327.0, cmap='Greys')\n",
    "\n",
    "# Literalmente, um \"Hello, World!\" 🛰️🌎🤓"
   ]
  },
  {
   "cell_type": "markdown",
   "metadata": {
    "id": "s-_iurs7fqaa"
   },
   "source": [
    "Podemos melhorar um pouco este resultado, adicionando algumas decorações.\n",
    "\n",
    "Um título informativo, com a data e hora de aquisição da imagem, além de uma barra de cores indicando o significado dos valores exibidos (*i.e.* legenda)."
   ]
  },
  {
   "cell_type": "code",
   "execution_count": null,
   "metadata": {
    "id": "sPtL44Qqgouh"
   },
   "outputs": [],
   "source": [
    "# Choose the plot size (width x height, in inches)\n",
    "plt.figure(figsize=(10,10))\n",
    "\n",
    "# Plot the image\n",
    "plt.imshow(pixels, vmin=190.0, vmax=327.0, cmap='Greys')\n",
    "\n",
    "# Add colorbar\n",
    "plt.colorbar(label='Brightness Temperatures (K)', extend='both', orientation='horizontal', pad=0.05, shrink=0.75)\n",
    "\n",
    "# Add a title (one on the left and one on the right)\n",
    "plt.title('GOES-16 Band 13 (10.3 µm) - {}'.format(item.properties['datetime']), fontweight='bold', fontsize=10, loc='left')\n",
    "plt.title('BIG TechTalks - INPE', fontsize=10, loc='right')"
   ]
  },
  {
   "cell_type": "markdown",
   "metadata": {
    "id": "OGtRswPGeIHh"
   },
   "source": [
    "## 🗺️ Plot Georreferenciado\n",
    "<hr style=\"border:1px solid #0077b9;\">"
   ]
  },
  {
   "cell_type": "markdown",
   "metadata": {
    "id": "3JdgBlxEeIHh"
   },
   "source": [
    "Utilizando o suporte fornecido pelo pacote [Cartopy](https://scitools.org.uk/cartopy/docs/latest), vamos agora realizar a visualização da imagem de modo geolocalizado (*i.e.* visualização do tipo mapa).\n",
    "\n",
    "<div style=\"text-align: justify;  margin-left: 15%; margin-right: 15%; border-style: solid; border-color: #0077b9; border-width: 1px; padding: 5px;\">\n",
    "    <b>Nota:</b> Cartopy é uma biblioteca Python para tratar do mapeamento geoespacial e projeções cartográficas. Ele permite criar mapas, sobrepor dados geográficos e projetar informações espaciais, dentre outras operações. É ideal para visualizar dados satelitais, como os do GOES-16, de modo georreferenciado. Para mais informações, visite o site oficial: <a href=\"https://scitools.org.uk/cartopy/docs/latest/\">Cartopy</a>.\n",
    "</div>"
   ]
  },
  {
   "cell_type": "code",
   "execution_count": null,
   "metadata": {
    "id": "EHoWDi77jCOa"
   },
   "outputs": [],
   "source": [
    "# Não necessário no ambiente do BDC-Lab\n",
    "#!pip install cartopy"
   ]
  },
  {
   "cell_type": "code",
   "execution_count": null,
   "metadata": {
    "id": "OFJr6qnyjG_V"
   },
   "outputs": [],
   "source": [
    "import cartopy"
   ]
  },
  {
   "cell_type": "markdown",
   "metadata": {
    "id": "dW-1huk-eIHh"
   },
   "source": [
    "Para isso, precisamos primeiro definir a projeção original do satélite GOES-16 para a aquisição das imagens, chamada de [**Geostationary Satellite View**](https://proj4.org/en/9.3/operations/projections/geos.html#geostationary-satellite-view).\n",
    "\n",
    "Exemplo de representação da projeção geoestacionária utilizando uma string `proj4`:\n",
    "\n",
    "-  `proj=geos +h=35785831.0 +lon_0=<value>`, em que `<value>` é a posição de longitude do satélite geoestacionário."
   ]
  },
  {
   "cell_type": "markdown",
   "metadata": {
    "id": "xvjy731AeIHh"
   },
   "source": [
    "Utilizamos a classe `ccrs.Geostationary` para representar a projeção, obtendo alguns atributos, como a posição em longitude do satélite e sua altura, a partir dos metadados do arquivo netCDF."
   ]
  },
  {
   "cell_type": "code",
   "execution_count": null,
   "metadata": {
    "id": "Vu_ZQfageIHh"
   },
   "outputs": [],
   "source": [
    "import cartopy.crs as ccrs\n",
    "\n",
    "# Define GOES-16 Original Projection\n",
    "G16_PROJECTION = ccrs.Geostationary(\n",
    "    central_longitude=ir.variables['goes_imager_projection'].longitude_of_projection_origin,\n",
    "    satellite_height=ir.variables['goes_imager_projection'].perspective_point_height,\n",
    "    globe=ccrs.Globe(ellipse='GRS80'),\n",
    "    sweep_axis='x'\n",
    ")\n",
    "\n",
    "G16_PROJECTION"
   ]
  },
  {
   "cell_type": "markdown",
   "metadata": {
    "id": "8QjxVvqDeIHi"
   },
   "source": [
    "Definimos também a extensão espacial total dessa projeção, `G16_FDISK_EXTENT`."
   ]
  },
  {
   "cell_type": "code",
   "execution_count": null,
   "metadata": {
    "id": "Ewkii1S6eIHi"
   },
   "outputs": [],
   "source": [
    "# Define GOES-16 Full-Disk area extent\n",
    "G16_FDISK_EXTENT = (G16_PROJECTION._x_limits[0], G16_PROJECTION._x_limits[1],\n",
    "    G16_PROJECTION._y_limits[0], G16_PROJECTION._y_limits[1]\n",
    ")\n",
    "G16_FDISK_EXTENT"
   ]
  },
  {
   "cell_type": "markdown",
   "metadata": {
    "id": "88OjOS_HeIHi"
   },
   "source": [
    "Criamos um método auxiliar, chamado `create_map`, para construir uma visualização do tipo mapa, utilizando o suporte fornecido pelo `matplotlib` e `cartopy`. Os parâmetros definem a dimensão em pixels do mapa - `dim`, além da projeção espacial desejada - `proj`.\n"
   ]
  },
  {
   "cell_type": "code",
   "execution_count": null,
   "metadata": {
    "id": "yEcpgaXGeIHi"
   },
   "outputs": [],
   "source": [
    "def create_map(dim, proj):\n",
    "    dpi = 96.0\n",
    "    fig = plt.figure(figsize=((dim[1]/float(dpi)), (dim[0]/float(dpi))),\n",
    "        frameon=False, facecolor='none', dpi=dpi)\n",
    "    ax = fig.add_axes([0, 0, 1, 1], projection=proj)\n",
    "    return fig, ax"
   ]
  },
  {
   "cell_type": "markdown",
   "metadata": {
    "id": "l0lZqR-2eIHi"
   },
   "source": [
    "Assim, podemos agora visualizar a imagem GOES-16 - Canal 13 de modo georreferenciado, na projeção original de aquisição."
   ]
  },
  {
   "cell_type": "code",
   "execution_count": null,
   "metadata": {
    "id": "WOj4EMrQeIHj"
   },
   "outputs": [],
   "source": [
    "fig, ax = create_map((1024, 1024), proj=G16_PROJECTION)\n",
    "ax.imshow(ir.variables['CMI'], origin='upper', cmap='Greys', extent=G16_FDISK_EXTENT)\n",
    "ax.add_feature(cartopy.feature.BORDERS, edgecolor='white', linewidth=1.0)\n",
    "ax.coastlines(color='white', linewidth=1.0)\n",
    "plt.title('GOES-16 Band 13 (10.3 µm) - {}'.format(item.properties['datetime']), fontweight='bold', fontsize=10, loc='left')\n",
    "plt.title('BIG TechTalks - INPE', fontsize=10, loc='right')"
   ]
  },
  {
   "cell_type": "markdown",
   "metadata": {
    "id": "H2GKahhceIHj"
   },
   "source": [
    "Temos uma matriz de pixels (`Numpy Array`). Quais operações podemos fazer? 🤔💡"
   ]
  },
  {
   "cell_type": "code",
   "execution_count": null,
   "metadata": {
    "id": "DEUtNuW4eIHj"
   },
   "outputs": [],
   "source": [
    "import numpy as np\n",
    "\n",
    "# \"Detect\" clouds\n",
    "clouds = np.ma.masked_where(pixels >= 250.0, pixels) # ~ -23°C\n",
    "\n",
    "fig, ax = create_map((1024, 1024), proj=G16_PROJECTION)\n",
    "ax.stock_img()\n",
    "ax.imshow(clouds, origin='upper', cmap='Greys', vmin=190.0, vmax=300.0, extent=G16_FDISK_EXTENT)\n",
    "ax.add_feature(cartopy.feature.BORDERS, edgecolor='white', linewidth=1.0)\n",
    "ax.coastlines(color='white', linewidth=1.0)\n",
    "plt.title('GOES-16 Band 13 (10.3 µm) - {}'.format(item.properties['datetime']), fontweight='bold', fontsize=10, loc='left')\n",
    "plt.title('BIG TechTalks - INPE', fontsize=10, loc='right')"
   ]
  },
  {
   "cell_type": "code",
   "execution_count": null,
   "metadata": {
    "id": "xonu6OgEeIHj"
   },
   "outputs": [],
   "source": [
    "# Close file\n",
    "ir.close()"
   ]
  },
  {
   "cell_type": "markdown",
   "metadata": {
    "id": "fmdnqZRR3JGw"
   },
   "source": [
    "# ⚙️ GOES-13\n",
    "<hr style=\"border:1px solid #0077b9;\">"
   ]
  },
  {
   "cell_type": "markdown",
   "metadata": {
    "id": "Ae9JkTRUorhF"
   },
   "source": [
    "## 🔍 Recuperando Imagens GOES-13\n",
    "<hr style=\"border:1px solid #0077b9;\">"
   ]
  },
  {
   "cell_type": "markdown",
   "metadata": {
    "id": "DrIxmVLLoyU7"
   },
   "source": [
    "Do mesmo modo, utilizando o STAC e a partir do método `search`, faremos a recuperação de `Items`, porém, da coleção GOES-13 (`GOES13-L3-IMAGER-1`). Vamos utilizar agora o parâmetro `datetime` para restringir o período temporal de interesse: `2015-04-01 00:00 UTC / 2015-04-01 17:00 UTC`. Também ordenamos por data, porém, de modo ascendente, de modo seguir a evolução temporal natural das imagens."
   ]
  },
  {
   "cell_type": "code",
   "execution_count": null,
   "metadata": {
    "id": "lVnRNzZzp287"
   },
   "outputs": [],
   "source": [
    "# Search GOES-13 Items by date time. 01/04/2015 [08-17h UTC]\n",
    "item_search = service.search(\n",
    "    collections=['GOES13-L3-IMAGER-1'],\n",
    "    datetime='2015-04-01T08:00:00Z/2015-04-01T17:00:00Z', # <== desired date\n",
    "    sortby=[{\n",
    "        'field': 'properties.datetime',\n",
    "        'direction': 'asc' # <== ascendant order\n",
    "    }]\n",
    ")"
   ]
  },
  {
   "cell_type": "markdown",
   "metadata": {
    "id": "VQwjvrCmqX51"
   },
   "source": [
    "Verificando o número de `Items` recuperados no período:"
   ]
  },
  {
   "cell_type": "code",
   "execution_count": null,
   "metadata": {
    "id": "1zXC8Iz3qRe2"
   },
   "outputs": [],
   "source": [
    "item_search.matched()"
   ]
  },
  {
   "cell_type": "markdown",
   "metadata": {
    "id": "fbhytR-GqnJy"
   },
   "source": [
    "Na sequência, construímos uma lista com todos os `Items` que foram recuperados:"
   ]
  },
  {
   "cell_type": "code",
   "execution_count": null,
   "metadata": {
    "id": "FVW9Xzq-qr7W"
   },
   "outputs": [],
   "source": [
    "items = list(item_search.items())"
   ]
  },
  {
   "cell_type": "markdown",
   "metadata": {
    "id": "oDB6az0JqzSc"
   },
   "source": [
    "Analisando o primeiro `Item` da lista:"
   ]
  },
  {
   "cell_type": "code",
   "execution_count": null,
   "metadata": {
    "id": "63uM8UiQq21g"
   },
   "outputs": [],
   "source": [
    "items[0]"
   ]
  },
  {
   "cell_type": "markdown",
   "metadata": {
    "id": "NpD0eSvCqrY_"
   },
   "source": [
    "Para cada `Item`, temos uma série de `Assets`. Vamos trabalhar com banda `B04` - 10.7 µm\tInfravermelho (IR)."
   ]
  },
  {
   "cell_type": "code",
   "execution_count": null,
   "metadata": {
    "id": "jWQjYRB_rgSn"
   },
   "outputs": [],
   "source": [
    "for item in items:\n",
    "    print(item.properties['datetime'], '->', item.assets['B04'].href)"
   ]
  },
  {
   "cell_type": "markdown",
   "metadata": {
    "id": "4dpdS9ers3Jo"
   },
   "source": [
    "## 🖥️ Leitura de Imagem Binária\n",
    "<hr style=\"border:1px solid #0077b9;\">"
   ]
  },
  {
   "cell_type": "markdown",
   "metadata": {
    "id": "ey_54gfds3Jq"
   },
   "source": [
    "Lembre-se: as imagens do GOES-13 estão catalogadas pós-processadas, em formato binário. Nesta seção, faremos a leitura das imagens a partir da definição de uma função para manipulação dos `Assets`."
   ]
  },
  {
   "cell_type": "markdown",
   "metadata": {
    "id": "TpbX7m_EuIqA"
   },
   "source": [
    "Primeiro, definimos algumas informações básicas sobre as imagens GOES-13:"
   ]
  },
  {
   "cell_type": "code",
   "execution_count": null,
   "metadata": {
    "id": "C_xqMdnTuOI5"
   },
   "outputs": [],
   "source": [
    "import numpy as np\n",
    "\n",
    "# Data informations from GOES13/IMAGER\n",
    "G13_INFO = {\n",
    "    'ncols': 1870,\n",
    "    'nlines': 1714,\n",
    "    'resolution': 0.04,\n",
    "    'extent': [-100, -56.04, -100 + (1870 * 0.04), -56.05 + (1714 * 0.04)],\n",
    "    'data_type': np.int16\n",
    "}"
   ]
  },
  {
   "cell_type": "markdown",
   "metadata": {
    "id": "2x2ubdWtuuz6"
   },
   "source": [
    "Definimos a funcão `read`, capaz de realizar a leitura dos `Assets` presentes na coleção `GOES13-IMAGER-L3`.\n",
    "\n",
    "O valores dos pixels são lidos e o retorno é um `NumPy Array` de dimensão (m x n):"
   ]
  },
  {
   "cell_type": "code",
   "execution_count": null,
   "metadata": {},
   "outputs": [],
   "source": [
    "import os\n",
    "import gzip\n",
    "import numpy as np\n",
    "import requests\n",
    "from io import BytesIO\n",
    "\n",
    "def read(path, nlines=G13_INFO['nlines'], ncols=G13_INFO['ncols'], dtype=G13_INFO['data_type']):\n",
    "    isRemote = path.startswith(('http://', 'https://'))\n",
    "    isGz = path.endswith('.gz')\n",
    "    fileObj = BytesIO(requests.get(path).content) if isRemote else open(path, 'rb')\n",
    "    with (gzip.GzipFile(fileobj=fileObj) if isGz else fileObj) as f:\n",
    "        array = np.frombuffer(f.read(), dtype=dtype)\n",
    "    return array.reshape((nlines, ncols))/100.0"
   ]
  },
  {
   "cell_type": "markdown",
   "metadata": {
    "id": "vb4_b6GBvLN0"
   },
   "source": [
    "Fazemos a leitura da primeira imagem e verificamos o resultado:"
   ]
  },
  {
   "cell_type": "code",
   "execution_count": null,
   "metadata": {},
   "outputs": [],
   "source": [
    "# Desired band\n",
    "band = 'B04'\n",
    "\n",
    "pixels = read(items[0].assets[band].href)\n",
    "print(type(pixels))\n",
    "pixels.shape"
   ]
  },
  {
   "cell_type": "markdown",
   "metadata": {
    "id": "YfJoblYWnMQG"
   },
   "source": [
    "## 📈 Plot Básico\n",
    "<hr style=\"border:1px solid #0077b9;\">"
   ]
  },
  {
   "cell_type": "markdown",
   "metadata": {
    "id": "57YAtL-OnWXt"
   },
   "source": [
    "Utilizaremos novamente o suporte fornecido pelo `matplotlib` para visualizarmos a imagem GOES-13, assim como foi feito com a imagem GOES-16."
   ]
  },
  {
   "cell_type": "code",
   "execution_count": null,
   "metadata": {
    "id": "H5eHtXGTwK00"
   },
   "outputs": [],
   "source": [
    "# Choose the plot size (width x height, in inches)\n",
    "plt.figure(figsize=(10,10))\n",
    "\n",
    "# Plot the image\n",
    "plt.imshow(pixels, vmin=190.0, vmax=327.0, cmap='Greys')\n",
    "\n",
    "# Add colorbar\n",
    "plt.colorbar(label='Brightness Temperatures (K)', extend='both', orientation='horizontal', pad=0.05, shrink=0.75)\n",
    "\n",
    "# Add a title (one on the left and one on the right)\n",
    "plt.title('GOES-13 Band 04 (10.7 µm) - {}'.format(items[0].properties['datetime']), fontweight='bold', fontsize=10, loc='left')\n",
    "plt.title('BIG TechTalks - INPE', fontsize=10, loc='right')"
   ]
  },
  {
   "cell_type": "markdown",
   "metadata": {
    "id": "UK7-k7o-snCm"
   },
   "source": [
    "Antes de dar continuidade, vamos realizar a leitura de todas as imagens que recuperamos. Os resultados serão armazenados em uma lista chamada `images`.  \n",
    "\n",
    "Note que cada elemento dessa lista é uma matriz (m x n), ou seja, a imagem em determinado instante de tempo."
   ]
  },
  {
   "cell_type": "code",
   "execution_count": null,
   "metadata": {
    "id": "AaHAmGn9yC9p"
   },
   "outputs": [],
   "source": [
    "# Read all-data\n",
    "images = []\n",
    "for item in items:\n",
    "  images.append(read(item.assets[band].href))"
   ]
  },
  {
   "cell_type": "markdown",
   "metadata": {
    "id": "rvz5MXhVz2Gv"
   },
   "source": [
    "## 🗺️ Plot Georreferenciado\n",
    "<hr style=\"border:1px solid #0077b9;\">"
   ]
  },
  {
   "cell_type": "markdown",
   "metadata": {
    "id": "K3Qnx3PCn1tS"
   },
   "source": [
    "Utilizando o suporte fornecido pelo pacote `Cartopy`, vamos novamente realizar a visualização da imagem de modo geolocalizado (*i.e.* visualização do tipo mapa).\n",
    "\n",
    "Neste caso, faremos uso da função `create_map`, definida anteriormente.\n",
    "\n",
    "A diferença principal aqui é a projeção de visualização. Para as imagens catalogadas GOES-13, temos os dados no sistema `EPSG:4326`, *i.e.* representados em coordenadas geográficas (latitude e longitude) com uma distribuição retangular em graus, sobre o datum `WGS84`. No `Cartopy`, o equivalente é definido em [`ccrs.PlateCarree`](https://scitools.org.uk/cartopy/docs/latest/reference/projections.html)."
   ]
  },
  {
   "cell_type": "markdown",
   "metadata": {
    "id": "tUoKWQVYr1fy"
   },
   "source": [
    "Primeiro, definimos uma função bem simples apenas para conversão do `extent` de `(llx, lly, urx, ury)` para os padrões utilizados pelo `Cartopy`, *i.e.* `(llx, urx, lly, ury)`."
   ]
  },
  {
   "cell_type": "code",
   "execution_count": null,
   "metadata": {
    "id": "LQ31vt731KSu"
   },
   "outputs": [],
   "source": [
    "def extent2cartopy(extent):\n",
    "  return [extent[0], extent[2], extent[1], extent[3]]"
   ]
  },
  {
   "cell_type": "markdown",
   "metadata": {
    "id": "5yBE2xQtsSsj"
   },
   "source": [
    "Em seguida, visualizamos a imagem georreferenciada. Note a utilização de `proj=ccrs.PlateCarree()` na criação do mapa."
   ]
  },
  {
   "cell_type": "code",
   "execution_count": null,
   "metadata": {
    "id": "YWCK0C7vz-jf"
   },
   "outputs": [],
   "source": [
    "fig, ax = create_map((1024, 1024), proj=ccrs.PlateCarree())\n",
    "ax.imshow(images[0], origin='upper', cmap='Greys', extent=extent2cartopy(G13_INFO['extent']))\n",
    "ax.add_feature(cartopy.feature.BORDERS, edgecolor='white', linewidth=1.0)\n",
    "ax.coastlines(color='white', linewidth=1.0)\n",
    "plt.title('GOES-13 Band 04 (10.7 µm) - {}'.format(items[0].properties['datetime']), fontweight='bold', fontsize=10, loc='left')\n",
    "plt.title('BIG TechTalks - INPE', fontsize=10, loc='right')"
   ]
  },
  {
   "cell_type": "markdown",
   "metadata": {
    "id": "WPWFZfmVtvcY"
   },
   "source": [
    "## 🎞️ Animação das Imagens\n",
    "<hr style=\"border:1px solid #0077b9;\">"
   ]
  },
  {
   "cell_type": "markdown",
   "metadata": {
    "id": "xpA1VJQ3t2r2"
   },
   "source": [
    "Uma das características mais interessantes das imagens geoestacionárias é a **alta resolução temporal**, possível devido a órbita do satélite. Com isso, podemos acompanhar a evolução de fenômenos de interesse na escala de minutos.\n",
    "\n",
    "Nesta seção, vamos produzir uma animação do período que estamos analisando para o GOES-13 e observar a evolução das nuvens. Utilizaremos novamente o suporte fornecido pelo pacote `matpotlib`, em específico o sub-módulo `animation`.\n",
    "\n",
    "Em resumo, realizamos o plot de cada imagem definida na lista `images`."
   ]
  },
  {
   "cell_type": "code",
   "execution_count": null,
   "metadata": {
    "id": "HAl704_F2A8d"
   },
   "outputs": [],
   "source": [
    "import matplotlib.pyplot as plt\n",
    "import matplotlib.animation as animation\n",
    "\n",
    "from matplotlib import rc\n",
    "rc('animation', html='jshtml')\n",
    "\n",
    "fig, ax = create_map((800, 800), proj=ccrs.PlateCarree())\n",
    "plt.close()\n",
    "\n",
    "im = ax.imshow(images[0], origin='upper', vmin=190.0, vmax=327.0,\n",
    "  cmap='Greys', extent=extent2cartopy(G13_INFO['extent']), animated=True)\n",
    "ax.add_feature(cartopy.feature.BORDERS, edgecolor='white', linewidth=1.0)\n",
    "ax.coastlines(color='white', linewidth=1.0)\n",
    "ax.set_title('GOES-13 Band 04 (10.7 µm) - {}'.format(items[0].properties['datetime']), fontweight='bold', fontsize=10, loc='left')\n",
    "ax.set_title('BIG TechTalks - INPE', fontsize=10, loc='right')\n",
    "\n",
    "def updatefig(i):\n",
    "    print('Plotting {}'.format(items[i].properties['datetime']))\n",
    "    ax.set_title('GOES-13 Band 04 (10.7 µm) - {}'.format(items[i].properties['datetime']), fontweight='bold', fontsize=10, loc='left')\n",
    "    im.set_array(images[i])\n",
    "    return im,\n",
    "\n",
    "anim = animation.FuncAnimation(fig, updatefig, frames=len(images), blit=True, repeat=True)\n",
    "anim"
   ]
  },
  {
   "cell_type": "markdown",
   "metadata": {
    "id": "EfEwFLsX4Clg"
   },
   "source": [
    "# 🎁 Bônus!\n",
    "<hr style=\"border:1px solid #0077b9;\">"
   ]
  },
  {
   "cell_type": "markdown",
   "metadata": {
    "id": "cuL1R-IBw6o0"
   },
   "source": [
    "Ao longo deste Jupyter Notebook, realizamos o fluxo completo de trabalho com imagens do satélite **GOES**, desde a consulta ao catálogo **STAC** do INPE, passando pela recuperação de `Assets` (imagens brutas), chegando no processamento e visualização dessas imagens com Python.\n",
    "\n",
    "Utilizamos o pacote `matplotlib` para análises gráficas e `NumPy` para manipulação direta dos dados matriciais. O ponto central dessa abordagem é que, uma vez que a imagem foi carregada como uma matriz `NumPy` (ou seja, um array de valores de pixels), as possibilidades de aplicação se tornam praticamente ilimitadas."
   ]
  },
  {
   "cell_type": "markdown",
   "metadata": {
    "id": "glHRX0ZwyNOt"
   },
   "source": [
    "💡 O que isso significa na prática?\n",
    "\n",
    "Com um array `NumPy` em mãos, obtido a partir das imagens GOES, podemos:\n",
    "\n",
    "* Aplicar mascaramento dos dados (*e.g.*: filtros de nuvem ou thresholds de temperatura);\n",
    "* Calcular estatísticas (*e.g.*: médias, desvios, histogramas);\n",
    "* Gerar produtos derivados (*e.g.*: realce de contraste, composições coloridas, detecção de padrões, etc.);\n",
    "* Integrar com outras bibliotecas do ecossistema Python para análises geoespaciais, *Machine Learning*, visualização interativa, dentre outras."
   ]
  },
  {
   "cell_type": "markdown",
   "metadata": {
    "id": "dwF_fHa8x7EJ"
   },
   "source": [
    " 🤓 Como bônus, vamos sair da visualização estática e explorar um exemplo usando `Folium`, uma biblioteca Python que facilita a criação de mapas interativos, com base no `Leaflet`. Conseguimos sobrepor, por exemplo, nossa imagem GOES-13 em um mapa dinâmico, navegável e com suporte a zoom e movimentação livre."
   ]
  },
  {
   "cell_type": "code",
   "execution_count": null,
   "metadata": {
    "id": "OwZ8a5zj4Eup"
   },
   "outputs": [],
   "source": [
    "# Não necessário no ambiente do BDC-Lab\n",
    "#!pip install folium"
   ]
  },
  {
   "cell_type": "code",
   "execution_count": null,
   "metadata": {
    "id": "FYcaq1C-4PNK"
   },
   "outputs": [],
   "source": [
    "def extent2folium(extent):\n",
    "  return [[extent[1], extent[0]], [extent[3], extent[2]]]"
   ]
  },
  {
   "cell_type": "code",
   "execution_count": null,
   "metadata": {
    "id": "4jJdexes4I9b",
    "scrolled": true
   },
   "outputs": [],
   "source": [
    "import folium\n",
    "import branca.colormap as cm\n",
    "\n",
    "map = folium.Map([-20, -45.0], zoom_start=3)\n",
    "\n",
    "folium.raster_layers.ImageOverlay(\n",
    "    image=images[0],\n",
    "    bounds=extent2folium(G13_INFO['extent']),\n",
    "    mercator_project=True,\n",
    "    colormap=cm.linear.Greys_07.scale(190.0, 320.0),\n",
    "    opacity=0.8\n",
    ").add_to(map)\n",
    "\n",
    "map"
   ]
  },
  {
   "cell_type": "markdown",
   "metadata": {
    "id": "nVPbSpSreIH1"
   },
   "source": [
    "# 📖 Referências\n",
    "<hr style=\"border:1px solid #0077b9;\">"
   ]
  },
  {
   "cell_type": "markdown",
   "metadata": {
    "id": "UYdqAKCreIH2"
   },
   "source": [
    "- [Spatio Temporal Asset Catalog Specification](https://stacspec.org/)\n",
    "\n",
    "- [Python Client Library for STAC Service](https://pystac-client.readthedocs.io/en/latest/)\n",
    "\n",
    "- [DSAT](https://www.cptec.inpe.br/dsat)\n",
    "\n",
    "- [GOES-R Mission](https://www.goes-r.gov/)\n",
    "\n",
    "- [GOES-R - ABI Bands Quick Information Guides](https://www.goes-r.gov/mission/ABI-bands-quick-info.html)\n",
    "\n",
    "- [GOES-R Series Product Definition and Users’ Guide](https://www.goes-r.gov/users/docs/PUG-L2+-vol5.pdf)\n",
    "\n",
    "- [Beginner’s Guide to GOES-R Series Data](https://www.goes-r.gov/downloads/resources/documents/Beginners_Guide_to_GOES-R_Series_Data.pdf)\n",
    "\n",
    "- [BIG/INPE](https://data.inpe.br/big/web/)\n",
    "\n",
    "- [Brazil Data Cube - BDC](https://data.inpe.br/bdc/web/)"
   ]
  }
 ],
 "metadata": {
  "colab": {
   "provenance": [],
   "toc_visible": true
  },
  "kernelspec": {
   "display_name": "Python (Geospatial)",
   "language": "python",
   "name": "geospatial"
  },
  "language_info": {
   "codemirror_mode": {
    "name": "ipython",
    "version": 3
   },
   "file_extension": ".py",
   "mimetype": "text/x-python",
   "name": "python",
   "nbconvert_exporter": "python",
   "pygments_lexer": "ipython3",
   "version": "3.11.6"
  }
 },
 "nbformat": 4,
 "nbformat_minor": 4
}
