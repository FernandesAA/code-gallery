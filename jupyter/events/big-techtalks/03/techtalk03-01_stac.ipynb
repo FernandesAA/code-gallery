{
  "cells": [
    {
      "cell_type": "markdown",
      "metadata": {
        "id": "mDfBxippkmQa"
      },
      "source": [
        "<img src=\"https://raw.githubusercontent.com/brazil-data-cube/code-gallery/master/img/logo-bdc.png\" align=\"right\" width=\"64\"/>\n",
        "\n",
        "# <span style=\"color:#336699\">3º BIG TechTalks - Acesso, Visualização e Processamento de Imagens Sentinel-2 utilizando Python - Spatio Temporal Asset Catalog (STAC)</span>\n",
        "<hr style=\"border:2px solid #0077b9;\">\n",
        "\n",
        "<br/>\n",
        "\n",
        "<div style=\"text-align: center;font-size: 90%;\">\n",
        "    Rennan F. B. Marujo<sup><a href=\"https://orcid.org/0000-0002-0082-9498\"><i class=\"fab fa-lg fa-orcid\" style=\"color: #a6ce39\"></i></a></sup> e Gilberto R. Queiroz<sup><a href=\"https://orcid.org/0000-0001-7534-0219\"><i class=\"fab fa-lg fa-orcid\" style=\"color: #a6ce39\"></i></a></sup>\n",
        "    <br/><br/>\n",
        "    Divisão de Observação da Terra e Geoinformática, Instituto Nacional de Pesquisas Espaciais (INPE)\n",
        "    <br/>\n",
        "    Avenida dos Astronautas, 1758, Jardim da Granja, São José dos Campos, SP 12227-010, Brazil\n",
        "    <br/><br/>\n",
        "    Contato: <a href=\"mailto:rennan.marujo@inpe.br\">rennan.marujo@inpe.br</a>\n",
        "    <br/><br/>\n",
        "    Ultíma Atualização: 24 de Abril de 2025\n",
        "</div>\n",
        "\n",
        "<br/>\n",
        "\n",
        "<div style=\"text-align: justify;  margin-left: 25%; margin-right: 25%;\">\n",
        "<b>Resumo.</b> Este Jupyter Notebook é parte do 3º BIG TechTalks - Acesso, Visualização e Processamento de Imagens Sentinel-2 utilizando Python. Nos últimos anos, o padrão aberto SpatioTemporal Asset Catalog (STAC) tem sido utilizado por diversas iniciativas para indexar os grandes acervos de imagens de sensoriamento remoto. Desta forma, as coleções disponíveis nesses acervos podem ser consultadas e acessadas através de uma interface de programação de aplicações (API). Este Jupyter Notebook apresenta uma visão geral de como utilizar este serviço na linguagem Python para descoberta e acesso aos produtos de dados de sensoriamento remoto disponíveis no catálogo do INPE.\n",
        "</div>"
      ]
    },
    {
      "cell_type": "markdown",
      "metadata": {
        "id": "yudqYLHMkmQ4"
      },
      "source": [
        "# Abrindo um shapefile e definindo uma area de estudo\n",
        "<hr style=\"border:1px solid #0077b9;\">"
      ]
    },
    {
      "cell_type": "markdown",
      "metadata": {
        "id": "v9Msl6F_kmQ5"
      },
      "source": [
        "Neste exemplo vamos usar o arquivo `LEM_dataset_small.shp`. Para isso, será usada a biblioteca GeoPandas. Vamos abrir esse arquivo e extrair a informação de geometria."
      ]
    },
    {
      "cell_type": "code",
      "execution_count": null,
      "metadata": {},
      "outputs": [],
      "source": [
        "# !pip install folium"
      ]
    },
    {
      "cell_type": "code",
      "execution_count": null,
      "metadata": {},
      "outputs": [],
      "source": [
        "# !pip install geopandas"
      ]
    },
    {
      "cell_type": "code",
      "execution_count": null,
      "metadata": {
        "id": "lxsQCCcHkmQ5"
      },
      "outputs": [],
      "source": [
        "import folium\n",
        "import geopandas as gpd"
      ]
    },
    {
      "cell_type": "markdown",
      "metadata": {
        "id": "mvJGXpGHmjcZ"
      },
      "source": [
        "Podemos abrir um .shp diretamente ou um .zip contendo um .shp da seguinte forma:"
      ]
    },
    {
      "cell_type": "code",
      "execution_count": null,
      "metadata": {
        "id": "EZJXnUEXmh2m"
      },
      "outputs": [],
      "source": [
        "# zipfile = \"LEM_dataset_small.zip\"\n",
        "# samples_df = gpd.read_file(zipfile)\n",
        "# samples_df.head()"
      ]
    },
    {
      "cell_type": "markdown",
      "metadata": {
        "id": "1OjKskT5mutH"
      },
      "source": [
        "Ou podemos abrir um .shp armazenado online da seguinte forma:"
      ]
    },
    {
      "cell_type": "code",
      "execution_count": null,
      "metadata": {
        "colab": {
          "base_uri": "https://localhost:8080/",
          "height": 770
        },
        "id": "yQt1cRpOmt4h",
        "outputId": "e94991e6-eff8-406a-fe35-dc4643981152"
      },
      "outputs": [],
      "source": [
        "import io\n",
        "import os\n",
        "import requests\n",
        "import tempfile\n",
        "import zipfile\n",
        "\n",
        "zipfile_url = \"https://github.com/brazil-data-cube/code-gallery/raw/master/jupyter/Data/2025-sbsr/LEM_dataset_small.zip\"\n",
        "response = requests.get(zipfile_url)\n",
        "with tempfile.TemporaryDirectory() as tmpdir:\n",
        "    with zipfile.ZipFile(io.BytesIO(response.content)) as z:\n",
        "        z.extractall(tmpdir)\n",
        "\n",
        "        shp_file = [f for f in os.listdir(tmpdir) if f.endswith('.shp')][0]\n",
        "        shp_path = os.path.join(tmpdir, shp_file)\n",
        "\n",
        "        my_shp = gpd.read_file(shp_path)\n",
        "\n",
        "        geometry_union = my_shp.geometry.union_all()\n",
        "        bbox = geometry_union.bounds\n",
        "        centroide = geometry_union.centroid\n",
        "my_shp.head(3)"
      ]
    },
    {
      "cell_type": "markdown",
      "metadata": {
        "id": "A1TZcgdSl_FJ"
      },
      "source": [
        "Vamos vizualizar onde encontra-se essa área:"
      ]
    },
    {
      "cell_type": "code",
      "execution_count": null,
      "metadata": {
        "colab": {
          "base_uri": "https://localhost:8080/",
          "height": 321
        },
        "id": "swvWa6qem-P7",
        "outputId": "8d80410c-caf9-4bcd-ee2c-9073d81746e8"
      },
      "outputs": [],
      "source": [
        "f = folium.Figure(width=1000, height=300)\n",
        "\n",
        "centroide = my_shp.geometry.union_all().centroid\n",
        "m = folium.Map(location=[centroide.y, centroide.x],\n",
        "               zoom_start=11,\n",
        "               tiles=\"https://server.arcgisonline.com/ArcGIS/rest/services/World_Imagery/MapServer/tile/{z}/{y}/{x}\",\n",
        "               attr=\"Esri World Imagery\"\n",
        ").add_to(f)\n",
        "\n",
        "folium.GeoJson(my_shp).add_to(m)\n",
        "\n",
        "m"
      ]
    },
    {
      "cell_type": "markdown",
      "metadata": {
        "id": "aSyHSnp0eAoI"
      },
      "source": [
        "Podemos inclusive visualizar o bbox dessa area:"
      ]
    },
    {
      "cell_type": "code",
      "execution_count": null,
      "metadata": {
        "colab": {
          "base_uri": "https://localhost:8080/",
          "height": 321
        },
        "id": "jggVxPQqd7rL",
        "outputId": "6e65c4e7-1dc6-4a17-c9a4-5423fce746ff"
      },
      "outputs": [],
      "source": [
        "folium.Rectangle(\n",
        "    bounds=[[bbox[1], bbox[0]], [bbox[3], bbox[2]]],  # [[min_lat, min_lon], [max_lat, max_lon]]\n",
        "    color=\"#ff0000\",\n",
        "    fill=True,\n",
        "    fill_opacity=0,\n",
        "    tooltip=f\"BBox: {bbox}\"\n",
        ").add_to(m)\n",
        "\n",
        "m"
      ]
    },
    {
      "cell_type": "markdown",
      "metadata": {
        "id": "MzNZqA8xrQzN"
      },
      "source": [
        "# 1. Buscar imagens\n",
        "\n",
        "---\n"
      ]
    },
    {
      "cell_type": "markdown",
      "metadata": {
        "id": "SxkTnMHjDOfY"
      },
      "source": [
        "Vamos começar buscando as imagens que utilizaremos.\n",
        "\n",
        "Para isso utilizaremos o serviço SpatioTemporal Asset Catalog (STAC) por meio de um client na linguagem de programação Python."
      ]
    },
    {
      "cell_type": "markdown",
      "metadata": {
        "id": "LebxhudhkmQf"
      },
      "source": [
        "<img src=\"https://raw.githubusercontent.com/brazil-data-cube/code-gallery/master/img/stac/stac.png?raw=true\" align=\"right\" width=\"66\"/>\n",
        "\n",
        "## Catálogo de Coleções de Imagem de Sensoriamento Remoto: **S**patio**T**emporal **A**sset **C**atalog (STAC)\n",
        "<hr style=\"border:1px solid #0077b9;\">"
      ]
    },
    {
      "cell_type": "markdown",
      "metadata": {
        "id": "yZn7b78KPQDG"
      },
      "source": [
        "Boa parte dos produtos de imagem disponibilizados no [catálogo de imagens do INPE](https://data.inpe.br/stac/browser/?.language=en) são disponibilizados de maneira aberta na forma de arquivos otimizados para *cloud*, o denominado formato **C**loud **O**ptimized **G**eoTIFF (**COG**). Este formato permite que as aplicações possam utilizar as imagens através da Web com o melhor compromisso possível, incluindo o uso de pirâmide de multi-resolução para aplicações de visualização ou até mesmo a recuperação parcial de porções de uma imagem.\n",
        "\n",
        "\n",
        "Esses produtos de dados podem ser consultados utilizando uma interface de programação de aplicações baseada no padrão aberto [**S**patio**T**emporal **A**sset **C**atalog (STAC)](https://stacspec.org/). Esta especificação, criada por organizações e especialistas do setor geoespacial, é baseada nos conceitos apresentados no diagrama abaixo:\n",
        "\n",
        "<center>\n",
        "<img src=\"https://raw.githubusercontent.com/brazil-data-cube/code-gallery/master/img/stac/stac-concept.png\" width=\"480\" />\n",
        "<br/>\n",
        "Modelo de funcionamento do STAC.\n",
        "</center>\n",
        "\n",
        "Em que:\n",
        "\n",
        "- **Catalog**: É um tipo de objeto que fornece uma estrutura para vincular vários itens ou coleções STAC juntos ou mesmo outros catálogos. Na figura acima, o catálogo é composto de três coleções: Landsat/OLI, CBERS4/WFI e Sentinel-2/MSI.\n",
        "\n",
        "- **Collection:** É uma especialização do catálogo que permite incluir informações adicionais sobre uma determinada coleção espaço-temporal. Uma coleção pode conter informações como o conjunto de bandas espectrais disponíveis das imagens, a extensão geográfica ou área de cobertura das imagens, o período de tempo que compreende a coleção, entre outras informações. Em geral, através da coleção chegamos aos itens dessa coleção.\n",
        "\n",
        "- **Item**: Corresponde à unidade atômica de metadados, fornecendo *links* para os *assets* associados. Um *Item* é descrito através da notação GeoJSON, como uma feição (*feature*) contendo atributos específicos como a coleção a que ele pertence, propriedades temporais, *links* para os *assets* e coleções ou catálogos associados. Na figura acima, um `Item` equivale a uma cena obtida por um satélite em um determinado instante de tempo.\n",
        "\n",
        "- **Asset**: Um *asset* é qualquer recurso geoespacial, como um arquivo de imagem ou arquivo vetorial, contendo informações sobre a supefície da Terra, em um determinado espaço e tempo.\n",
        "\n",
        "\n",
        "A especificação conceitual do STAC permite dois tipos de implementações:\n",
        "\n",
        "- **STAC estático:** Baseada em um conjunto de documentos JSON ligados que podem ser facilmente navegados. Ex: [CBERS na AWS](https://cbers-stac-1-0-0.s3.amazonaws.com/CBERS4/catalog.json).\n",
        "\n",
        "- **STAC dinâmico:** Baseada em uma API RESTful, de modo que a navegação é realizada através de uma API de serviço web que permite realizar consultas utilizando uma linguagem padrão para acessar subconjuntos do catálogo. Ex: [BDC-STAC](https://data.inpe.br/bdc/stac/v1).\n",
        "\n",
        "\n",
        "<br/>\n",
        "<div style=\"text-align: justify;  margin-left: 25%; margin-right: 25%;font-size: 75%; border-style: solid; border-color: #0077b9; border-width: 1px; padding: 5px;\">\n",
        "    <b>Nota:</b> Como parte do aperfeiçoamento dos produtos e serviços disponibilizados pelo INPE à sociedade, encontra-se em desenvolvimento o novo portal <a href=\"https://data.inpe.br/\">https://data.inpe.br/</a>, que faz parte da modernização da infraestrutura de serviços para acesso às imagens de satélites do acervo do instituto. Esse portal foi criado com o intuito de facilitar a pesquisa e obtenção das imagens disponibilizadas gratuitamente. Esse novo serviço tem como base as tecnologias desenvolvidas no projeto Brazil Data Cube, e está ancorado dentro do Programa Base de Informações Georreferenciadas (BIG) do INPE. Para navegar pelas coleções disponibilizadas no serviço STAC do INPE, utilize a instância do [STAC Browser](https://data.inpe.br/stac/browser/).\n",
        "</div>"
      ]
    },
    {
      "cell_type": "markdown",
      "metadata": {
        "id": "hvLOjeOtkmQg"
      },
      "source": [
        "Cliente STAC no Python\n",
        "<hr style=\"border:1px solid #0077b9;\">\n",
        "\n",
        "Para demonstrar o acesso aos produtos de dados do Brazil Data Cube, iremos utilizar uma bibloteca de software livre para Python denominada [PySTAC Client](https://pystac-client.readthedocs.io/en/stable/) (`pystac-client`).\n",
        "\n",
        "Para instalar essa biblioteca no ambiente Jupyter, pode ser utilizado o comando `pip install`:"
      ]
    },
    {
      "cell_type": "code",
      "execution_count": null,
      "metadata": {
        "colab": {
          "base_uri": "https://localhost:8080/"
        },
        "id": "YNOgCEuxkmQh",
        "outputId": "e31296f3-3825-4265-a7aa-5fac659bbd31"
      },
      "outputs": [],
      "source": [
        "# !pip install pystac-client"
      ]
    },
    {
      "cell_type": "markdown",
      "metadata": {
        "id": "ikBncksbkmQi"
      },
      "source": [
        "Uma vez instalada a biblioteca `pystac-client`, podemos carregar suas funcionalidades através do comando `import`, como mostrado abaixo:"
      ]
    },
    {
      "cell_type": "code",
      "execution_count": null,
      "metadata": {
        "id": "Nbh1DWTaPQDY"
      },
      "outputs": [],
      "source": [
        "import pystac_client"
      ]
    },
    {
      "cell_type": "markdown",
      "metadata": {
        "id": "kQiBrq5FiF-k"
      },
      "source": [
        "Em geral, uma biblioteca do ecossistema Python possui uma constante especial para informar a versão da biblioteca carregada. Abaixo, apresentamos a versão carregada  da biblioteca `pystac-client`:"
      ]
    },
    {
      "cell_type": "code",
      "execution_count": null,
      "metadata": {
        "colab": {
          "base_uri": "https://localhost:8080/",
          "height": 36
        },
        "id": "thhsSwetiHsR",
        "outputId": "02e12bad-7d64-4123-a51f-e6f9268720e5"
      },
      "outputs": [],
      "source": [
        "pystac_client.__version__"
      ]
    },
    {
      "cell_type": "markdown",
      "metadata": {
        "id": "p_FFdpzXiRXm"
      },
      "source": [
        "<img src=\"https://raw.githubusercontent.com/brazil-data-cube/code-gallery/master/img/stac/stac-catalog.png?raw=true\" align=\"right\" width=\"300\"/>\n",
        "\n",
        "## Descobrindo as Coleções em um Catálogo STAC\n",
        "<hr style=\"border:1px solid #0077b9;\">\n",
        "\n",
        "O endereço do serviço STAC do BDC é https://data.inpe.br/bdc/stac/v1/. Para descobir as coleções disponíveis no catálogo central desse serviço,\n",
        "podemos utilizar a classe `Client` do pacote `pystac_client`.\n",
        "\n",
        "Essa classe possui um método denominado `open` que permite informar a URL do serviço STAC a ser utilizado. Assim que chamado, esse método realiza uma consulta ao serviço STAC, recuperando as informações do catálogo central."
      ]
    },
    {
      "cell_type": "code",
      "execution_count": null,
      "metadata": {
        "colab": {
          "base_uri": "https://localhost:8080/",
          "height": 148
        },
        "id": "DlODPqhtkmQk",
        "outputId": "d335450d-53fe-4d3d-cfe7-7977ef887654"
      },
      "outputs": [],
      "source": [
        "catalogo = pystac_client.Client.open('https://data.inpe.br/bdc/stac/v1/')\n",
        "catalogo"
      ]
    },
    {
      "cell_type": "markdown",
      "metadata": {
        "id": "0z-L5rFEik6M"
      },
      "source": [
        "O objeto retornado possui atributos como `id`, `title` e `description`:"
      ]
    },
    {
      "cell_type": "code",
      "execution_count": null,
      "metadata": {
        "colab": {
          "base_uri": "https://localhost:8080/",
          "height": 36
        },
        "id": "qYjU6AXZinDo",
        "outputId": "f35f31ba-288a-4fc2-ebdb-930173648a36"
      },
      "outputs": [],
      "source": [
        "catalogo.id"
      ]
    },
    {
      "cell_type": "code",
      "execution_count": null,
      "metadata": {
        "colab": {
          "base_uri": "https://localhost:8080/",
          "height": 36
        },
        "id": "wA1GMCFBinK9",
        "outputId": "1d40d425-4bd8-4d5b-bc74-00ca0cc79878"
      },
      "outputs": [],
      "source": [
        "catalogo.title"
      ]
    },
    {
      "cell_type": "code",
      "execution_count": null,
      "metadata": {
        "colab": {
          "base_uri": "https://localhost:8080/",
          "height": 54
        },
        "id": "a3rkwVMAinRX",
        "outputId": "0dbf2a1a-12bb-46b9-eb6a-c628859508d2"
      },
      "outputs": [],
      "source": [
        "catalogo.description"
      ]
    },
    {
      "cell_type": "markdown",
      "metadata": {
        "id": "NCpWcvaFit-m"
      },
      "source": [
        "Um catálogo também contém propriedades como:\n",
        "\n",
        "- `links`: Lista de endereços para todas as coleções disponíveis no catálogo.\n",
        "\n",
        "- `conformsTo`: Lista das capacidades do serviço. No caso acima, a classe de conformidade `item-search` especifica que o serviço do BDC é capaz de realizar a busca de itens percorrendo todas as coleções.\n",
        "\n",
        "O método `get_collections` permite iterar por todas as coleções existentes no catálogo."
      ]
    },
    {
      "cell_type": "code",
      "execution_count": null,
      "metadata": {
        "colab": {
          "base_uri": "https://localhost:8080/"
        },
        "id": "xJ2rtQVeiyWK",
        "outputId": "31c0f371-d02f-4947-8174-f1561a8dcbb9"
      },
      "outputs": [],
      "source": [
        "for colecao in catalogo.get_collections():\n",
        "    print(f\"{colecao.id}: {colecao.title}\", end=\"\\n\"*2)"
      ]
    },
    {
      "cell_type": "code",
      "execution_count": null,
      "metadata": {
        "colab": {
          "base_uri": "https://localhost:8080/",
          "height": 393
        },
        "id": "O3IUxJpoi3eE",
        "outputId": "c9d77ed4-a706-47ba-b0ef-20bede7a43b1"
      },
      "outputs": [],
      "source": [
        "sentinel2 = catalogo.get_collection(\"S2_L2A-1\")\n",
        "sentinel2"
      ]
    },
    {
      "cell_type": "markdown",
      "metadata": {
        "id": "RpWt1MIci9-F"
      },
      "source": [
        "Na saída acima, destaca-se os seguintes metadados:\n",
        "\n",
        "- Identificador, título e descrição da coleção, nas chaves `id`, `title` e `description`, respectivamente.\n",
        "\n",
        "- A cobertura espacial das imagens dessa coleção, na chave `extent -> spatial -> bbox`.\n",
        "\n",
        "- A disponibilidade temporal de imagens, na chave `extent -> temporal -> interval`.\n",
        "\n",
        "- As bandas disponíveis na coleção, na chave `properties -> eo:bands`"
      ]
    },
    {
      "cell_type": "markdown",
      "metadata": {
        "id": "0yiuPB2YkmQl"
      },
      "source": [
        "<img src=\"https://raw.githubusercontent.com/brazil-data-cube/code-gallery/master/img/stac/stac-catalog.png?raw=true\" align=\"right\" width=\"300\"/>\n",
        "\n",
        "### Recuperando os Items de uma Coleção\n",
        "<hr style=\"border:1px solid #0077b9;\">\n",
        "\n",
        "O método `get_items` permite atravessar o conjunto de itens de uma coleção. O trecho de código abaixo mostra como percorrer os 20 primeiros itens da coleção `sentinel2`:"
      ]
    },
    {
      "cell_type": "code",
      "execution_count": null,
      "metadata": {
        "colab": {
          "base_uri": "https://localhost:8080/"
        },
        "id": "sycz0XtI3dJN",
        "outputId": "d319bfb4-3063-4ec3-89d9-5f6823d4a4ae"
      },
      "outputs": [],
      "source": [
        "import itertools\n",
        "\n",
        "for item in itertools.islice(sentinel2.get_items(), 20):\n",
        "    print(f\"{item.id}\")"
      ]
    },
    {
      "cell_type": "markdown",
      "metadata": {
        "id": "Appsl6U1jmEy"
      },
      "source": [
        "Um *item* possui propriedades como:\n",
        "\n",
        "- Identificador do item dentro da coleção, que pode ser obtido na chave `id`.\n",
        "\n",
        "- O *footprint* da imagem, na chave `geometry`.\n",
        "\n",
        "- Retângulo envolvente da cena, na chave `bbox`.\n",
        "\n",
        "- Propriedades como porcentagem de cobertura de nuvem na cena, na chave `properties -> eo:cloud_cover`, e a data associada com a passagem da imagem, chave `properties -> datetime`.\n",
        "\n",
        "- O conjunto de *assets*, isto é, dos arquivos que compõem de fato o *item*. Nessa chave teremos\n",
        "\n",
        "A célula de código abaixo irá apresentar todas as propriedades do último *item* acessado no código anterior:"
      ]
    },
    {
      "cell_type": "markdown",
      "metadata": {
        "id": "9S8WJUtbjtH2"
      },
      "source": [
        "### Selecionando imagens por região de interesse e intervalo de datas\n",
        "<hr style=\"border:1px solid #0077b9;\">"
      ]
    },
    {
      "cell_type": "markdown",
      "metadata": {
        "id": "o7lzDGukjvFq"
      },
      "source": [
        "Embora o método `get_items` permita recuperar (ou atravessar) todos os itens de uma coleção, esse método não é muito útil na prática pois quase sempre desejamos pesquisar imagens em um acervo utilizando algum tipo de critério para selecionar essas imagens, como um certo período, uma certa regiao de interesse e o limite de cobertura de nuvem aceitável.\n",
        "\n",
        "O método `search` de uma catálogo pode ser utilizado para realizar uma busca mais refinada. Os principais parâmetros desse método são:\n",
        "\n",
        "- `collections`: Lista com o nome de uma ou mais coleções às quais a busca será limitada. Também podemos passar objetos do tipo coleção. Se omitido esse parâmetro, todas as coleções serão consideradas.\n",
        "\n",
        "- `bbox`: Retângulo de interesse da busca. (Parâmetro opcional)\n",
        "\n",
        "- `datetime`: Podemos utilizar uma data específica ou um intervalo de datas. Essas datas devem ser expressas de acordo com a [RFC-3339](https://datatracker.ietf.org/doc/html/rfc3339). (Parâmetro opcional)\n",
        "\n",
        "- `limit`: Recomendação passada ao serviço para que ele use este número como a quantidade de itens na paginação dos resultados. (Parâmetro opcional)\n",
        "\n",
        "- `intersects`: Uma geometria usada para definir a região de interesse. Deve ser representada como um GeoJSON na forma de uma string ou dicionário ou um objeto que implemente a propriedade `__geo_interface__`. (Parâmetro opcional)\n",
        "\n",
        "A célula de código abaixo mostra como selecionar todos os itens da coleção `sentinel2` para uma dada região e período de tempo, com uma sugestão de paginação de 100 itens e buscando por imagens com cobertura de nuvens menor do que 10%."
      ]
    },
    {
      "cell_type": "code",
      "execution_count": null,
      "metadata": {
        "id": "6hCWnHXePQDt",
        "scrolled": false
      },
      "outputs": [],
      "source": [
        "item_search = catalogo.search(\n",
        "    collections=[sentinel2],\n",
        "    bbox=bbox,\n",
        "    datetime='2024-01-01/2025-03-21',\n",
        "    query = {\n",
        "      \"eo:cloud_cover\": {\n",
        "          \"lt\" : 10\n",
        "      }\n",
        "    },\n",
        "    limit = 100\n",
        ")"
      ]
    },
    {
      "cell_type": "markdown",
      "metadata": {
        "id": "aqvuJR35KNht"
      },
      "source": [
        "O número de itens encontrados pode ser verificado através do método `matched()`:"
      ]
    },
    {
      "cell_type": "code",
      "execution_count": null,
      "metadata": {
        "colab": {
          "base_uri": "https://localhost:8080/"
        },
        "id": "mgl_3sJBKLd-",
        "outputId": "79b8bab6-d39d-49b2-d651-b45b90c3c3cd"
      },
      "outputs": [],
      "source": [
        "item_search.matched()"
      ]
    },
    {
      "cell_type": "markdown",
      "metadata": {
        "id": "YfLD0qGQKadu"
      },
      "source": [
        "Vamos fazer essa mesma busca sem considerar o percentual de nuvens, para obter todas as imagens disponíveis para a nossa area:"
      ]
    },
    {
      "cell_type": "code",
      "execution_count": null,
      "metadata": {
        "id": "w4eUj8fmKHzo"
      },
      "outputs": [],
      "source": [
        "item_search = catalogo.search(\n",
        "    collections=[sentinel2],\n",
        "    bbox=bbox,\n",
        "    datetime='2024-01-01/2025-03-21',\n",
        "    limit = 100\n",
        ")"
      ]
    },
    {
      "cell_type": "markdown",
      "metadata": {
        "id": "3ZOgKrVgkmQn"
      },
      "source": [
        "Podemos observar que temos um total maior de imagens:"
      ]
    },
    {
      "cell_type": "code",
      "execution_count": null,
      "metadata": {
        "colab": {
          "base_uri": "https://localhost:8080/"
        },
        "id": "TKpjaaFjkmQn",
        "outputId": "ed897a71-2a88-49a6-8b27-6ae1ca2e0e7a"
      },
      "outputs": [],
      "source": [
        "item_search.matched()"
      ]
    },
    {
      "cell_type": "markdown",
      "metadata": {
        "id": "s36z4MrxkmQn"
      },
      "source": [
        "Para atravesar o conjunto de itens retornados pela busca, podemos utilizar o método `items()`."
      ]
    },
    {
      "cell_type": "code",
      "execution_count": null,
      "metadata": {
        "colab": {
          "base_uri": "https://localhost:8080/"
        },
        "id": "6mwctoR0kmQn",
        "outputId": "e483cf00-96ca-4341-a381-7b60b759ffa6"
      },
      "outputs": [],
      "source": [
        "for i, item in enumerate(item_search.items()):\n",
        "    print(i, item.id, sep='\\t')"
      ]
    },
    {
      "cell_type": "markdown",
      "metadata": {
        "id": "sr8M1a14kCC1"
      },
      "source": [
        "Outra opção é utilizar a estrutura de dados listas para essa verificação:"
      ]
    },
    {
      "cell_type": "code",
      "execution_count": null,
      "metadata": {
        "colab": {
          "base_uri": "https://localhost:8080/"
        },
        "id": "mfBl6AsU5nDe",
        "outputId": "b881aabd-3b74-4477-b59f-8e7510dfc56e"
      },
      "outputs": [],
      "source": [
        "items_list = list(item_search.items())\n",
        "items_list"
      ]
    },
    {
      "cell_type": "markdown",
      "metadata": {
        "id": "BgtiHNedkmQo"
      },
      "source": [
        "<img src=\"https://raw.githubusercontent.com/brazil-data-cube/code-gallery/master/img/stac/stac-asset.png?raw=true\" align=\"right\" width=\"300\"/>\n",
        "\n",
        "Assets\n",
        "<hr style=\"border:1px solid #0077b9;\">\n",
        "\n",
        "A partir de um *item*, podemos recuperar todos os *assets* associados. Os *assets* basicamente trazem a informação da URL onde o arquivo associado encontra-se.\n",
        "\n",
        "Partindo dos itens da coleção `sentinel2` selecionados anteriormente, vamos construir um objeto do tipo `FeatureCollection` contendo todos esses itens."
      ]
    },
    {
      "cell_type": "code",
      "execution_count": null,
      "metadata": {
        "colab": {
          "base_uri": "https://localhost:8080/",
          "height": 1000
        },
        "id": "TyimexxXPQD1",
        "outputId": "27b566f0-03ba-4d23-b06f-a380323b751c"
      },
      "outputs": [],
      "source": [
        "items = item_search.item_collection()\n",
        "items"
      ]
    },
    {
      "cell_type": "markdown",
      "metadata": {
        "id": "7D4g3AO6kmQo"
      },
      "source": [
        "Tomando o primeiro item dessa coleção como referência:"
      ]
    },
    {
      "cell_type": "code",
      "execution_count": null,
      "metadata": {
        "colab": {
          "base_uri": "https://localhost:8080/",
          "height": 181
        },
        "id": "w2xGZqf1lVWK",
        "outputId": "f7b31c6b-5ccc-44a5-aef1-da0f73d53d9c"
      },
      "outputs": [],
      "source": [
        "item = items[0]\n",
        "item"
      ]
    },
    {
      "cell_type": "markdown",
      "metadata": {
        "id": "gki8J5cqkmQp"
      },
      "source": [
        "podemos observar que a chave `assets` contém informações que nos levam de fato ao arquivo de imagem das bandas espectrais e de metadados:"
      ]
    },
    {
      "cell_type": "code",
      "execution_count": null,
      "metadata": {
        "colab": {
          "base_uri": "https://localhost:8080/"
        },
        "id": "2TifKb4ikmQp",
        "outputId": "083134d1-8eb0-4322-fc00-b2df89093d2a"
      },
      "outputs": [],
      "source": [
        "item.assets"
      ]
    },
    {
      "cell_type": "markdown",
      "metadata": {
        "id": "dorRYiR6lg4B"
      },
      "source": [
        "Vamos acessar o *asset* associado à banda do vermelho no visível:"
      ]
    },
    {
      "cell_type": "code",
      "execution_count": null,
      "metadata": {
        "colab": {
          "base_uri": "https://localhost:8080/",
          "height": 181
        },
        "id": "uCdqHN94ljMR",
        "outputId": "caa8c259-6af8-45d5-9cdd-26b56aceb627"
      },
      "outputs": [],
      "source": [
        "B04 = item.assets['B04']\n",
        "B04"
      ]
    },
    {
      "cell_type": "code",
      "execution_count": null,
      "metadata": {
        "colab": {
          "base_uri": "https://localhost:8080/",
          "height": 36
        },
        "id": "eI0Qn0eHHes-",
        "outputId": "172c092c-2962-41df-d52a-f270d14413df"
      },
      "outputs": [],
      "source": [
        "B04.href"
      ]
    },
    {
      "cell_type": "markdown",
      "metadata": {
        "id": "W95gbU4CrpEc"
      },
      "source": [
        "# 2. Visualizar (Cor verdadeira e Falsa Cor)\n",
        "\n",
        "---\n"
      ]
    },
    {
      "cell_type": "markdown",
      "metadata": {
        "id": "x3oDw6uQqzcg"
      },
      "source": [
        "Para recuperar a matrix de pixels da imagem indicada no atributo `href` do *asset* será utilizada a biblioteca `rasterio`."
      ]
    },
    {
      "cell_type": "code",
      "execution_count": null,
      "metadata": {
        "colab": {
          "base_uri": "https://localhost:8080/"
        },
        "id": "EQrgXwXP2OX4",
        "outputId": "5d652467-fbd2-40b4-d816-85d608bb7aa2"
      },
      "outputs": [],
      "source": [
        "# !pip install rasterio"
      ]
    },
    {
      "cell_type": "markdown",
      "metadata": {
        "id": "s9NA41g6evWA"
      },
      "source": [
        "Vamos fazer a visualização desse dado.\n",
        "\n",
        "OBS: Pode demorar um pouco a depender da conexão com a internet, pois estamos obtendo uma banda inteira da imagem."
      ]
    },
    {
      "cell_type": "code",
      "execution_count": null,
      "metadata": {
        "colab": {
          "base_uri": "https://localhost:8080/",
          "height": 435
        },
        "id": "pONCovZ7Hez4",
        "outputId": "f43669a8-fb01-48c9-ff2a-86fdb3eb0031"
      },
      "outputs": [],
      "source": [
        "import rasterio\n",
        "from matplotlib import pyplot as plt\n",
        "\n",
        "with rasterio.open(B04.href) as src:\n",
        "    band = src.read(1)\n",
        "\n",
        "plt.imshow(band, cmap='gray')\n",
        "plt.show()"
      ]
    },
    {
      "cell_type": "markdown",
      "metadata": {
        "id": "6BurF5ndnKHK"
      },
      "source": [
        "Outra busca que podemos realizar no catálogo consiste em usar o `intersects`:"
      ]
    },
    {
      "cell_type": "code",
      "execution_count": null,
      "metadata": {
        "id": "pJgDbsWGnMtP"
      },
      "outputs": [],
      "source": [
        "item_search = catalogo.search(\n",
        "    collections = [sentinel2],\n",
        "    intersects = geometry_union,\n",
        "    datetime = '2024-01-01/2025-03-21',\n",
        "    limit = 100\n",
        ")"
      ]
    },
    {
      "cell_type": "code",
      "execution_count": null,
      "metadata": {
        "colab": {
          "base_uri": "https://localhost:8080/"
        },
        "id": "GGvI5VdFnPiq",
        "outputId": "78f9aad9-1263-4c73-931e-7533314ce6b3"
      },
      "outputs": [],
      "source": [
        "item_search.matched()"
      ]
    },
    {
      "cell_type": "markdown",
      "metadata": {
        "id": "fbTDGCx3nSdI"
      },
      "source": [
        "De posse do resultado da pesquisa, podemos gerar uma coleção de feições para facilitar a manipulação do resultado:"
      ]
    },
    {
      "cell_type": "code",
      "execution_count": null,
      "metadata": {
        "colab": {
          "base_uri": "https://localhost:8080/",
          "height": 50
        },
        "id": "NAdjVc1znUE8",
        "outputId": "19b7bb9a-86d0-45b1-f508-0d00d9561df1"
      },
      "outputs": [],
      "source": [
        "items = item_search.item_collection()\n",
        "items"
      ]
    },
    {
      "cell_type": "markdown",
      "metadata": {
        "id": "wnrfkG79nXCa"
      },
      "source": [
        "## Recuperando parte de uma imagem correspondente a uma região\n",
        "<hr style=\"border:1px solid #0077b9;\">"
      ]
    },
    {
      "cell_type": "markdown",
      "metadata": {
        "id": "1NBbNqSfKVH1"
      },
      "source": [
        "Vamos definir algumas funções auxiliares para nos ajudar nesse Jupyter Notebook.\n",
        "\n",
        "- `read_img`: Lê uma imagem usando Window.\n",
        "\n",
        "- `normalize`: Normaliza, para visualização, o valor de imagens.\n"
      ]
    },
    {
      "cell_type": "code",
      "execution_count": null,
      "metadata": {
        "id": "2GtyzESzKUhQ"
      },
      "outputs": [],
      "source": [
        "import numpy as np\n",
        "from rasterio.crs import CRS\n",
        "from rasterio.warp import transform\n",
        "from rasterio.windows import from_bounds\n",
        "\n",
        "def read(uri: str, bbox: list, masked: bool = True, crs: str = None):\n",
        "    \"\"\"Read raster window as numpy.ma.masked_array.\"\"\"\n",
        "    source_crs = CRS.from_string('EPSG:4326')\n",
        "    if crs:\n",
        "        source_crs = CRS.from_string(crs)\n",
        "\n",
        "    # Expects the bounding box has 4 values\n",
        "    w, s, e, n = bbox\n",
        "\n",
        "    with rasterio.open(uri) as dataset:\n",
        "        transformer = transform(source_crs, dataset.crs, [w, e], [s, n])\n",
        "        window = from_bounds(transformer[0][0], transformer[1][0],\n",
        "                             transformer[0][1], transformer[1][1], dataset.transform)\n",
        "        return dataset.read(1, window=window, masked=masked)\n",
        "\n",
        "def normalize(array):\n",
        "    \"\"\"Normalizes numpy arrays into scale 0.0 - 1.0\"\"\"\n",
        "    array_min, array_max = array.min(), array.max()\n",
        "    return ((array - array_min)/(array_max - array_min))"
      ]
    },
    {
      "cell_type": "code",
      "execution_count": null,
      "metadata": {
        "colab": {
          "base_uri": "https://localhost:8080/"
        },
        "id": "OpJ_znFLqvux",
        "outputId": "a90e9438-a5d9-479d-94d7-2e26e90f6b93"
      },
      "outputs": [],
      "source": [
        "assets = items[0].assets\n",
        "assets"
      ]
    },
    {
      "cell_type": "markdown",
      "metadata": {
        "id": "eEffunR3fQrp"
      },
      "source": [
        "Vamos armazenar a url dos assets das bandas azul, verde, vermelho e infra-vermelho próximo."
      ]
    },
    {
      "cell_type": "code",
      "execution_count": null,
      "metadata": {
        "colab": {
          "base_uri": "https://localhost:8080/",
          "height": 36
        },
        "id": "HBEOrmvPqxl5",
        "outputId": "9b44c20f-9a77-42f3-9649-3a2e2c32aaa1"
      },
      "outputs": [],
      "source": [
        "blue_asset = assets['B02']\n",
        "green_asset = assets['B03']\n",
        "red_asset = assets['B04']\n",
        "nir_asset = assets['B08']\n",
        "\n",
        "blue_asset.href"
      ]
    },
    {
      "cell_type": "markdown",
      "metadata": {
        "id": "5koen4jTgMfC"
      },
      "source": [
        "Agora podemos usar o *Window* para abrir somente um pedaço da imagem"
      ]
    },
    {
      "cell_type": "code",
      "execution_count": null,
      "metadata": {
        "colab": {
          "base_uri": "https://localhost:8080/"
        },
        "id": "GGYF7Mo7E9TC",
        "outputId": "feaec12a-d0ec-42ef-be11-7e80a5601ea2"
      },
      "outputs": [],
      "source": [
        "b02_image = read(items[7].assets['B02'].href, bbox=bbox)\n",
        "b03_image = read(items[7].assets['B03'].href, bbox=bbox)\n",
        "b04_image = read(items[7].assets['B04'].href, bbox=bbox)\n",
        "b08_image = read(items[7].assets['B08'].href, bbox=bbox)"
      ]
    },
    {
      "cell_type": "markdown",
      "metadata": {
        "id": "ZE8cRR6GgSEC"
      },
      "source": [
        "Assim podemos visualizar as 4 imagens carregadas:"
      ]
    },
    {
      "cell_type": "code",
      "execution_count": null,
      "metadata": {
        "colab": {
          "base_uri": "https://localhost:8080/",
          "height": 320
        },
        "id": "IVxYZVsoNiqg",
        "outputId": "a1e9aefd-42fd-4196-eedf-9d7b3b4934ad"
      },
      "outputs": [],
      "source": [
        "fig, (ax1, ax2, ax3, ax4) = plt.subplots(1, 4, figsize=(12, 4))\n",
        "ax1.imshow(b02_image, cmap='gray')\n",
        "ax1.set_title(\"Banda 2 (Azul)\")\n",
        "ax2.imshow(b03_image, cmap='gray')\n",
        "ax2.set_title(\"Banda 3 (Verde)\")\n",
        "ax3.imshow(b04_image, cmap='gray')\n",
        "ax3.set_title(\"Banda 4 (Vermelho)\")\n",
        "ax4.imshow(b08_image, cmap='gray')\n",
        "ax4.set_title(\"Banda 8 (Infra-vermelho Próximo)\")"
      ]
    },
    {
      "cell_type": "markdown",
      "metadata": {
        "id": "ZU1ED2l0NwvB"
      },
      "source": [
        "Podemos fazer um stack e visualizar a *Cor Verdadeira*:"
      ]
    },
    {
      "cell_type": "code",
      "execution_count": null,
      "metadata": {
        "colab": {
          "base_uri": "https://localhost:8080/",
          "height": 453
        },
        "id": "zdhEGpuFNtpJ",
        "outputId": "a6eac168-94e2-497e-814a-c02e2db6f44d"
      },
      "outputs": [],
      "source": [
        "rgb_normalized_stack = np.dstack((normalize(b04_image), normalize(b03_image), normalize(b02_image)))\n",
        "plt.imshow(rgb_normalized_stack)"
      ]
    },
    {
      "cell_type": "markdown",
      "metadata": {
        "id": "nmqpocUZNviz"
      },
      "source": [
        "Bem como compor uma *Falsa Cor*"
      ]
    },
    {
      "cell_type": "code",
      "execution_count": null,
      "metadata": {
        "colab": {
          "base_uri": "https://localhost:8080/",
          "height": 453
        },
        "id": "xDvDQVz8Nuwu",
        "outputId": "e5e3db2e-69d2-4896-dc99-08ce25ea2909"
      },
      "outputs": [],
      "source": [
        "rgb_normalized_stack = np.dstack((normalize(b08_image), normalize(b04_image), normalize(b03_image)))\n",
        "plt.imshow(rgb_normalized_stack)"
      ]
    }
  ],
  "metadata": {
    "colab": {
      "provenance": []
    },
    "kernelspec": {
      "display_name": "Python 3",
      "name": "python3"
    },
    "language_info": {
      "name": "python"
    }
  },
  "nbformat": 4,
  "nbformat_minor": 0
}
