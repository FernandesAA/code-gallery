{
  "cells": [
    {
      "cell_type": "markdown",
      "metadata": {
        "id": "AwyXxl3aFQex"
      },
      "source": [
        "<img src=\"https://raw.githubusercontent.com/brazil-data-cube/code-gallery/master/img/logo-bdc.png\" align=\"right\" width=\"64\"/>\n",
        "\n",
        "# <span style=\"color:#336699\">3º BIG TechTalks - Acesso, Visualização e Processamento de Imagens Sentinel-2 utilizando Python - Web Time Series Service (WTSS)</span>\n",
        "<hr style=\"border:2px solid #0077b9;\">\n",
        "\n",
        "<br/>\n",
        "\n",
        "<div style=\"text-align: center;font-size: 90%;\">\n",
        "    Rennan F. B. Marujo e Gilberto R. Queiroz\n",
        "    <br/><br/>\n",
        "    Divisão de Observação da Terra e Geoinformática, Instituto Nacional de Pesquisas Espaciais (INPE)\n",
        "    <br/>\n",
        "    Avenida dos Astronautas, 1758, Jardim da Granja, São José dos Campos, SP 12227-010, Brazil\n",
        "    <br/><br/>\n",
        "    Contato: <a href=\"mailto:rennan.marujo@inpe.br\">rennan.marujo@inpe.br</a>\n",
        "    <br/><br/>\n",
        "    Ultíma Atualização: 24 de Abril de 2025\n",
        "</div>\n",
        "\n",
        "<br/>\n",
        "\n",
        "<div style=\"text-align: justify;  margin-left: 25%; margin-right: 25%;\">\n",
        "<b>Resumo.</b> Este Jupyter Notebook é parte do 3º BIG TechTalks - Acesso, Visualização e Processamento de Imagens Sentinel-2 utilizando Python. Este Jupyter Notebook apresenta uma visão geral de como utilizar o serviço Web Time Series Service (WTSS) na linguagem Python para extrair séries temporais de produtos de dados de sensoriamento remoto disponíveis no catálogo do INPE.\n",
        "</div>"
      ]
    },
    {
      "cell_type": "markdown",
      "metadata": {
        "id": "KeFyguBFjiGD"
      },
      "source": [
        "## <span style=\"color:#336699\">Introdução ao Web Times Series Service (WTSS)<hr style=\"border:1px solid #0077b9;\">"
      ]
    },
    {
      "cell_type": "markdown",
      "metadata": {
        "id": "yxY8GPkYjgRu"
      },
      "source": [
        "O **W**eb **T**ime **S**eries **S**ervice ou **WTSS** é um serviço web voltado para extração de séries temporais a partir de imagens de sensoriamento remoto organizadas na forma de cubos de dados. Dada uma localização ou região do espaço geográfico e um intervalo de tempo, a API deste serviço permite que os clientes requisitem as séries temporais para os produtos de dados do [Brazil Data Cube](https://data.inpe.br/bdc/web/) (Figura 1). Esse serviço pode ser utilizado a partir de um pacote construído para linguagem de programação [Python](https://github.com/brazil-data-cube/wtss.py), ou pode ser usado diretamente em interfaces gráficas com o usuário, por meio de [plugin do QGIS](https://github.com/brazil-data-cube/wtss-qgis) ou de componente gráfico de aplicações como o [Data Cube Explorer](https://data.inpe.br/bdc/explorer/) e [TerraCollect](https://data.inpe.br/bdc/terracollect/).\n",
        "\n",
        "<center>\n",
        "    <img src=\"https://geo-credito-rural.github.io/_images/overview.png\" width=\"80%\" />\n",
        "    <br/>\n",
        "    <b>Figura 1</b> - Visão geral do serviço WTSS.\n",
        "</center>\n",
        "\n",
        "\n",
        "<br/><br/>\n",
        "\n",
        "\n",
        "O WTSS é baseado em três operações (Figura 2):\n",
        "- `list_coverages`: Retorna a lista de produtos de dados, isto é, cubos de dados, disponíveis no serviço para consulta.\n",
        "\n",
        "- `describe_coverage`: Retorna metadados básicos de um determinado cubo de dados.\n",
        "\n",
        "- `time_series`: Consulta a lista de valores associadas a uma dada localização ou região do espaço geográfico e um intervalo de tempo.\n",
        "\n",
        "\n",
        "**Nota:** O projeto original do WTSS utilizava a nomenclatura de *coverage* para se referir aos produtos de dados regulares no espaço e no tempo, como é o caso dos cubos de dados do Brazil Data Cube.\n",
        "\n",
        "\n",
        "<br/><br/>\n",
        "\n",
        "\n",
        "<center>    \n",
        "    <img src=\"https://raw.githubusercontent.com/brazil-data-cube/code-gallery/master/img/wtss/wtss-operations.png?raw=true\" align=\"center\" width=\"768\"/>\n",
        "    <br/>\n",
        "    <b>Figura 2</b> - Operações do Serviço WTSS.\n",
        "    <br/>\n",
        "    <b>Fonte</b>: Galeria de Código do Brazil Data Cube.\n",
        "</center>\n",
        "\n",
        "\n",
        "<br/><br/>\n",
        "\n",
        "\n",
        "O pacote para a linguagem Python fornece abstrações próprias para utilização dessas operações."
      ]
    },
    {
      "cell_type": "markdown",
      "metadata": {
        "id": "7fg40HS-j3ww"
      },
      "source": [
        "## Cliente WTSS no Python\n",
        "<hr style=\"border:1px solid #0077b9;\">\n",
        "\n",
        "<br/>\n",
        "\n",
        "Para demonstrar o acesso aos produtos de dados do Brazil Data Cube, iremos utilizar uma bibloteca de software livre para Python denominada [wtss.py](https://github.com/brazil-data-cube/wtss.py) (`wtss`).\n",
        "\n",
        "Para instalar essa biblioteca no ambiente Jupyter, pode ser utilizado o seguinte comando `pip install`:"
      ]
    },
    {
      "cell_type": "code",
      "execution_count": null,
      "metadata": {
        "colab": {
          "base_uri": "https://localhost:8080/"
        },
        "id": "PaqWFJ0Vj4RN",
        "outputId": "70eae3ce-9ec0-42a8-ff73-1cbb0596b83a"
      },
      "outputs": [],
      "source": [
        "!pip install wtss==2.0.0a3"
      ]
    },
    {
      "cell_type": "markdown",
      "metadata": {
        "id": "t3TXb81wJnTl"
      },
      "source": [
        "Uma vez instalada a biblioteca `wtss`, podemos carregar suas funcionalidades através do comando `import`, como mostrado abaixo:"
      ]
    },
    {
      "cell_type": "code",
      "execution_count": null,
      "metadata": {
        "id": "0cZGbFthJoMx"
      },
      "outputs": [],
      "source": [
        "import wtss"
      ]
    },
    {
      "cell_type": "markdown",
      "metadata": {
        "id": "s9b3N_QPJqU_"
      },
      "source": [
        "Em geral, uma biblioteca do ecossistema Python possui uma constante especial para informar a versão da biblioteca carregada. Abaixo, apresentamos a versão carregada  da biblioteca `wtss`:"
      ]
    },
    {
      "cell_type": "code",
      "execution_count": null,
      "metadata": {
        "colab": {
          "base_uri": "https://localhost:8080/",
          "height": 36
        },
        "id": "z_WvLRG0JsDP",
        "outputId": "952a2a1c-2794-4345-b224-48d9014a9d13"
      },
      "outputs": [],
      "source": [
        "wtss.__version__"
      ]
    },
    {
      "cell_type": "markdown",
      "metadata": {
        "id": "XZFqb5mXkGqX"
      },
      "source": [
        "<img src=\"https://raw.githubusercontent.com/brazil-data-cube/code-gallery/master/img/wtss/list-coverages.png?raw=true\" align=\"right\" width=\"220\"/>\n",
        "\n",
        "## Verificando os Produtos de Dados Disponíveis no Serviço\n",
        "<hr style=\"border:1px solid #0077b9;\">\n",
        "\n",
        "<br/><br/>\n",
        "\n",
        "O endereço do serviço WTSS do BDC é https://data.inpe.br/bdc/wtss/v4/. Para descobrir os cubos de dados disponíveis para acesso nesse serviço,\n",
        "é possível utilizar a classe `WTSS` do pacote `wtss`. Ao criar um objeto dessa classe, devemos informar a URL do serviço:"
      ]
    },
    {
      "cell_type": "code",
      "execution_count": null,
      "metadata": {
        "id": "yQS7_bRikFtM"
      },
      "outputs": [],
      "source": [
        "servico = wtss.WTSS('https://data.inpe.br/bdc/wtss/v4/')"
      ]
    },
    {
      "cell_type": "markdown",
      "metadata": {
        "id": "EaE244D3KQwC"
      },
      "source": [
        "O WTSS utiliza a terminologia de **coverages** para se referir aos cubos de dados do Brazil Data Cube. A propriedade `coverages` retorna uma lista com os identificadores dos cubos de dados, isto é, das *coverages*, que podem ser consultadas pelo serviço:"
      ]
    },
    {
      "cell_type": "code",
      "execution_count": null,
      "metadata": {
        "colab": {
          "base_uri": "https://localhost:8080/"
        },
        "id": "prEx0zLfkbwS",
        "outputId": "796fe3ed-77ce-4dfa-d0e5-836b6b0e8d13"
      },
      "outputs": [],
      "source": [
        "servico.coverages"
      ]
    },
    {
      "cell_type": "markdown",
      "metadata": {
        "id": "J-RV3wbmKV5a"
      },
      "source": [
        "Repare que os identificadores retornados pela propriedade `coverages` são os mesmos usados no catálogo STAC. Seus significados podem ser consultados no [Data Cube Explorer](https://data.inpe.br/bdc/explorer/), ou no [STAC Browser](https://data.inpe.br/stac/browser/) ou diretamente no [serviço STAC](https://data.inpe.br/bdc/stac/).\n",
        "\n",
        "**Observação:** A documentação da classe `WTSS` pode ser vista [aqui](https://wtss.readthedocs.io/en/latest/class_wtss.html)."
      ]
    },
    {
      "cell_type": "markdown",
      "metadata": {
        "id": "bXB1-sp_KZd5"
      },
      "source": [
        "<img src=\"https://raw.githubusercontent.com/brazil-data-cube/code-gallery/master/img/wtss/describe-coverage.png?raw=true\" align=\"right\" width=\"220\"/>\n",
        "\n",
        "## Recuperando os Metadados de um Produto\n",
        "<hr style=\"border:1px solid #0077b9;\">\n",
        "\n",
        "<br/>\n",
        "\n",
        "Os identificadores retornados pela propriedade `coverages` podem ser utilizados nas operações seguintes do serviço, tanto para recuperação de metadados quanto da série temporal. O operador `[]` em um objeto `WTSS` permite acessar o metadado de um cubo de dados específico. Por exemplo, vamos considerar o cubo de dados Sentinel-2, com resolução espacial de 10 metros e composição temporal de 16 dias. Este produto é identificado na lista anterior como `S2-16D-2`. Vamos recuperar seus metadados no serviço WTSS:"
      ]
    },
    {
      "cell_type": "code",
      "execution_count": null,
      "metadata": {
        "colab": {
          "base_uri": "https://localhost:8080/",
          "height": 834
        },
        "id": "Gle6hSNqKhXO",
        "outputId": "994c6cc1-ba69-47a9-aa86-dfc0cd344a66"
      },
      "outputs": [],
      "source": [
        "s2 = servico['S2-16D-2']\n",
        "s2"
      ]
    },
    {
      "cell_type": "markdown",
      "metadata": {
        "id": "veXxAX8kKkUF"
      },
      "source": [
        "Os metadados acima são um subconjunto dos metadados disponíveis no STAC e incluem:\n",
        "\n",
        "- nome do cubo de dados"
      ]
    },
    {
      "cell_type": "code",
      "execution_count": null,
      "metadata": {
        "colab": {
          "base_uri": "https://localhost:8080/",
          "height": 36
        },
        "id": "bIdzZv6qKk8c",
        "outputId": "c81fe1a1-6bc1-420d-c757-f285605d8b0b"
      },
      "outputs": [],
      "source": [
        "s2.name"
      ]
    },
    {
      "cell_type": "markdown",
      "metadata": {
        "id": "3jID0wR4KnJ7"
      },
      "source": [
        "- descrição:"
      ]
    },
    {
      "cell_type": "code",
      "execution_count": null,
      "metadata": {
        "colab": {
          "base_uri": "https://localhost:8080/",
          "height": 72
        },
        "id": "LE8gjyiDKnhk",
        "outputId": "448fb695-55f1-493b-fb85-d2c8cda3eb2f"
      },
      "outputs": [],
      "source": [
        "s2.description"
      ]
    },
    {
      "cell_type": "markdown",
      "metadata": {
        "id": "u1zA8tilKqKC"
      },
      "source": [
        "- Atributos (bandas ou índices espectrais):"
      ]
    },
    {
      "cell_type": "code",
      "execution_count": null,
      "metadata": {
        "colab": {
          "base_uri": "https://localhost:8080/"
        },
        "id": "AIk_iHJ1KrM4",
        "outputId": "0b6ed007-1227-408e-ae0d-c7e84f20e08d"
      },
      "outputs": [],
      "source": [
        "s2.attributes"
      ]
    },
    {
      "cell_type": "markdown",
      "metadata": {
        "id": "kQnuQermKshs"
      },
      "source": [
        "- Retângulo envolvente da base de imagens do cubo de dados, representado como uma geometria do tipo `Polygon` da bibloteca `Shapely`."
      ]
    },
    {
      "cell_type": "code",
      "execution_count": null,
      "metadata": {
        "colab": {
          "base_uri": "https://localhost:8080/",
          "height": 121
        },
        "id": "dCuW_LgGKtxR",
        "outputId": "9069e3a1-60cd-4466-9b4e-d1e6c87464a9"
      },
      "outputs": [],
      "source": [
        "s2.spatial_extent"
      ]
    },
    {
      "cell_type": "markdown",
      "metadata": {
        "id": "STWQbKh_Kvfd"
      },
      "source": [
        "- Instantes de tempo das obervações disponíveis no cubo."
      ]
    },
    {
      "cell_type": "code",
      "execution_count": null,
      "metadata": {
        "colab": {
          "base_uri": "https://localhost:8080/"
        },
        "id": "Wa0JHsnhKv4O",
        "outputId": "30387317-2f13-4e54-c186-8069fc48815c"
      },
      "outputs": [],
      "source": [
        "timeline = s2.timeline\n",
        "\n",
        "ultima_data_disponivel = timeline[0]\n",
        "primeira_data_disponivel = timeline[-1]\n",
        "\n",
        "print(f'Intervalo: [{primeira_data_disponivel}, {ultima_data_disponivel}]')"
      ]
    },
    {
      "cell_type": "markdown",
      "metadata": {
        "id": "IA8jqxcwKyOc"
      },
      "source": [
        "**Observação:** A documentação da classe `Coverage` pode ser vista [aqui](https://wtss.readthedocs.io/en/latest/class_coverage.html)."
      ]
    },
    {
      "cell_type": "markdown",
      "metadata": {
        "id": "M4-oYUbZkgmN"
      },
      "source": [
        "<img src=\"https://raw.githubusercontent.com/brazil-data-cube/code-gallery/master/img/wtss/time-series.png?raw=true\" align=\"right\" width=\"220\"/>\n",
        "\n",
        "## Recuperando a Série Temporal\n",
        "<hr style=\"border:1px solid #0077b9;\">\n",
        "\n",
        "<br/><br/>\n",
        "\n",
        "O método `ts` de um objeto `Coverage` permite recuperar a série temporal para uma dada localização ou região e conjunto de atributos. Vamos considerar o `cubo_s2` obtido anteriormente e recuperar as séries temporais para os atributos `NDVI` e `B08` (banda do infravermelho próximo ou NIR) na localização de latitude `-12.32800` e longitude `-45.90710` entre 01 de Janeiro de 2022 e 31 de Dezembro de 2023:"
      ]
    },
    {
      "cell_type": "code",
      "execution_count": null,
      "metadata": {
        "id": "VlwsOqxhAoef"
      },
      "outputs": [],
      "source": [
        "lat, lon = -12.32800, -45.90710"
      ]
    },
    {
      "cell_type": "code",
      "execution_count": null,
      "metadata": {
        "colab": {
          "base_uri": "https://localhost:8080/",
          "height": 321
        },
        "id": "aj577E9MApm1",
        "outputId": "5b676893-364e-4154-c4fe-a3a06b722d18"
      },
      "outputs": [],
      "source": [
        "import folium\n",
        "\n",
        "f = folium.Figure(width=1000, height=300)\n",
        "\n",
        "m = folium.Map(location=[lat, lon],\n",
        "               zoom_start=11,\n",
        "               tiles=\"https://server.arcgisonline.com/ArcGIS/rest/services/World_Imagery/MapServer/tile/{z}/{y}/{x}\",\n",
        "               attr=\"Esri World Imagery\"\n",
        ").add_to(f)\n",
        "\n",
        "folium.Marker(\n",
        "    [lat, lon],\n",
        "    popup=\"Pto\",\n",
        ").add_to(m)\n",
        "\n",
        "m"
      ]
    },
    {
      "cell_type": "code",
      "execution_count": null,
      "metadata": {
        "colab": {
          "base_uri": "https://localhost:8080/"
        },
        "id": "vnYtZOE4K2hr",
        "outputId": "6a724dc0-e90c-4028-d6ec-1dfc2d589704"
      },
      "outputs": [],
      "source": [
        "ts_search = s2.ts(attributes=('NDVI', 'B08'),\n",
        "                  latitude=lat,\n",
        "                  longitude=lon,\n",
        "                  start_date='2022-01-01',\n",
        "                  end_date='2025-03-21')\n",
        "ts_search"
      ]
    },
    {
      "cell_type": "markdown",
      "metadata": {
        "id": "Z5krtv0NK4Qg"
      },
      "source": [
        "A propriedade `ts` permite recuperar um objeto representando as séries temporais:"
      ]
    },
    {
      "cell_type": "code",
      "execution_count": null,
      "metadata": {
        "colab": {
          "base_uri": "https://localhost:8080/",
          "height": 538
        },
        "id": "ebGH9qG_L3df",
        "outputId": "045db843-49b9-4e82-d51e-3906278bc162"
      },
      "outputs": [],
      "source": [
        "ts = ts_search.ts\n",
        "ts"
      ]
    },
    {
      "cell_type": "markdown",
      "metadata": {
        "id": "PbU2jhTVK8EH"
      },
      "source": [
        "O objeto retornado `ts_search` (`TimeSeriesSearch`) possui métodos para recuperação da série temporal e para sua visualização:"
      ]
    },
    {
      "cell_type": "code",
      "execution_count": null,
      "metadata": {
        "colab": {
          "base_uri": "https://localhost:8080/",
          "height": 867
        },
        "id": "ABbiQBfVK9Ta",
        "outputId": "98f466d3-bd9a-4085-b1b6-c0fef3464ffb"
      },
      "outputs": [],
      "source": [
        "ts_search.plot()"
      ]
    },
    {
      "cell_type": "markdown",
      "metadata": {
        "id": "ImBIu-8QK_X5"
      },
      "source": [
        "O eixo do tempo, com os valores de datas, pode ser acessado com a propriedade `timeline`:"
      ]
    },
    {
      "cell_type": "code",
      "execution_count": null,
      "metadata": {
        "colab": {
          "base_uri": "https://localhost:8080/"
        },
        "id": "pYjKt7d_LAoX",
        "outputId": "3d9ab187-b00f-476d-d97b-8a838e39785d"
      },
      "outputs": [],
      "source": [
        "ts.timeline"
      ]
    },
    {
      "cell_type": "markdown",
      "metadata": {
        "id": "AR59Pu4ULCHf"
      },
      "source": [
        "Os nomes dos atributos recuperados nas séries pode ser acessados pela propriedade `attributes`:"
      ]
    },
    {
      "cell_type": "code",
      "execution_count": null,
      "metadata": {
        "colab": {
          "base_uri": "https://localhost:8080/"
        },
        "id": "tgBDbg7cLDjq",
        "outputId": "5ba58484-eb39-4f8a-90e4-b03899660b40"
      },
      "outputs": [],
      "source": [
        "ts.attributes"
      ]
    },
    {
      "cell_type": "markdown",
      "metadata": {
        "id": "fd6M2WQoLEsf"
      },
      "source": [
        "E os valores da série para cada atributo podem ser recuperados pelo método `values`:"
      ]
    },
    {
      "cell_type": "code",
      "execution_count": null,
      "metadata": {
        "colab": {
          "base_uri": "https://localhost:8080/"
        },
        "id": "2ibc2E5HLHGt",
        "outputId": "bcee845d-521e-48fb-ffa7-1fff31112942"
      },
      "outputs": [],
      "source": [
        "ts.values('NDVI')[0]"
      ]
    },
    {
      "cell_type": "markdown",
      "metadata": {
        "id": "43ts2FtKLNMy"
      },
      "source": [
        "## Filtragem ou Remoção de Ruídos\n",
        "<hr style=\"border:1px solid #0077b9;\">\n",
        "\n",
        "<br/><br/>\n",
        "\n",
        "A biblioteca `scipy` se baseia na biblioteca `NumPy` e fornece funções adicionais para várias operações matemáticas e científicas, incluindo processamento de sinais e filtragem, dentre outras. Abaixo, são listados alguns módulos e funcionalidades que o SciPy oferece:\n",
        "\n",
        "- Álgebra Linear (scipy.linalg).\n",
        "\n",
        "- Otimização (scipy.optimize).\n",
        "\n",
        "- Integração e EDOs (scipy.integrate).\n",
        "\n",
        "- Interpolação (scipy.interpolate).\n",
        "\n",
        "- Transformadas (scipy.fft).\n",
        "\n",
        "- Estatísticas (scipy.stats).\n",
        "\n",
        "- Processamento de Sinais (scipy.signal): Funções para processamento de sinais, incluindo filtros e análise de sistemas. Na filtragem abaixo iremos utilizar o módulo `scipy.signal` para aplicar o filtro **Savitzky–Golay** sobre as séries temporais obtidas."
      ]
    },
    {
      "cell_type": "code",
      "execution_count": null,
      "metadata": {
        "id": "rGnNrE1BLOoJ"
      },
      "outputs": [],
      "source": [
        "from scipy.signal import savgol_filter\n",
        "import matplotlib.pyplot as plt\n",
        "import numpy as np"
      ]
    },
    {
      "cell_type": "code",
      "execution_count": null,
      "metadata": {
        "colab": {
          "base_uri": "https://localhost:8080/"
        },
        "id": "vnE14nuWLQJI",
        "outputId": "86b3794b-e9a1-4921-f299-884d89bb5b20"
      },
      "outputs": [],
      "source": [
        "window_size = 10\n",
        "\n",
        "poly_order = 5\n",
        "\n",
        "ndvi_smooth = savgol_filter(ts.values('NDVI'), window_size, poly_order)\n",
        "ndvi_smooth.T.shape"
      ]
    },
    {
      "cell_type": "code",
      "execution_count": null,
      "metadata": {
        "colab": {
          "base_uri": "https://localhost:8080/"
        },
        "id": "1crnfmQkLRf5",
        "outputId": "d17af0d9-31e7-4a40-c607-4d62c1708556"
      },
      "outputs": [],
      "source": [
        "np.linspace(0, len(ts.timeline), num=23, endpoint=True)"
      ]
    },
    {
      "cell_type": "code",
      "execution_count": null,
      "metadata": {
        "colab": {
          "base_uri": "https://localhost:8080/",
          "height": 444
        },
        "id": "OYDaphAlLS_E",
        "outputId": "a8343c27-2ea5-460f-c3fb-064509301c2b"
      },
      "outputs": [],
      "source": [
        "fig = plt.figure( figsize=plt.figaspect(0.3) )\n",
        "\n",
        "plt.xlabel('Data')\n",
        "plt.ylabel('NDVI')\n",
        "\n",
        "plt.xticks(np.linspace(0, len(ts.timeline) - 1, num=23, endpoint=True))\n",
        "\n",
        "plt.plot(ts.timeline, ts.values('NDVI')[0], color=\"blue\", linewidth=1.0, label='NDVI')\n",
        "\n",
        "plt.plot(ts.timeline, ndvi_smooth.T, color=\"red\", linewidth=1.0, label='NDVI Suavizado')\n",
        "\n",
        "plt.grid(visible=True, color='gray', linestyle='--', linewidth=0.5)\n",
        "\n",
        "plt.legend()\n",
        "\n",
        "fig.autofmt_xdate()\n",
        "\n",
        "plt.show()"
      ]
    },
    {
      "cell_type": "markdown",
      "metadata": {},
      "source": [
        "## Recuperando a Série Temporal de uma área\n",
        "<hr style=\"border:1px solid #0077b9;\">\n",
        "\n",
        "<br/><br/>\n",
        "\n",
        "Nesta seção vamos apresentar as séries temporais associadas à área inteira.\n",
        "primeiramente, vamos selecionar um unico poligono do nosso .shp inicial e visualiza-lo:"
      ]
    },
    {
      "cell_type": "code",
      "execution_count": null,
      "metadata": {
        "id": "_nLSIu3dJEMi"
      },
      "outputs": [],
      "source": [
        "import geopandas as gpd\n",
        "import io\n",
        "import os\n",
        "import requests\n",
        "import shapely\n",
        "import tempfile\n",
        "import warnings\n",
        "import zipfile\n",
        "\n",
        "zipfile_url = \"https://github.com/brazil-data-cube/code-gallery/raw/master/jupyter/Data/2025-sbsr/LEM_dataset_small.zip\"\n",
        "response = requests.get(zipfile_url)\n",
        "with tempfile.TemporaryDirectory() as tmpdir:\n",
        "    with zipfile.ZipFile(io.BytesIO(response.content)) as z:\n",
        "        z.extractall(tmpdir)\n",
        "\n",
        "        shp_file = [f for f in os.listdir(tmpdir) if f.endswith('.shp')][0]\n",
        "        shp_path = os.path.join(tmpdir, shp_file)\n",
        "\n",
        "        my_shp = gpd.read_file(shp_path)\n",
        "\n",
        "        warnings.filterwarnings(\"ignore\")\n",
        "        geometry_union = my_shp.geometry.union_all()\n",
        "        bbox = geometry_union.bounds\n",
        "        centroide = geometry_union.centroid\n",
        "\n",
        "polygon = my_shp.iloc[22]\n",
        "geometry = polygon.geometry\n",
        "centroide = geometry.centroid\n",
        "warnings.filterwarnings(\"default\")"
      ]
    },
    {
      "cell_type": "code",
      "execution_count": null,
      "metadata": {},
      "outputs": [],
      "source": [
        "m = folium.Map(\n",
        "    location=[centroide.y, centroide.x],\n",
        "    zoom_start=13,\n",
        ")\n",
        "\n",
        "folium.GeoJson(geometry).add_to(m)\n",
        "\n",
        "m"
      ]
    },
    {
      "cell_type": "markdown",
      "metadata": {},
      "source": [
        "Finalmente, vamos recuperar as séries temporais da area apresentada no mapa acima, por meio do client Python do serviço WTSS:"
      ]
    },
    {
      "cell_type": "code",
      "execution_count": null,
      "metadata": {},
      "outputs": [],
      "source": [
        "ts_search = s2.ts(attributes=('NDVI', 'B08'),\n",
        "                       geom=geometry,\n",
        "                       start_date='2024-01-01', end_date='2025-03-21')\n",
        "ts_search"
      ]
    },
    {
      "cell_type": "code",
      "execution_count": null,
      "metadata": {},
      "outputs": [],
      "source": [
        "ts_search.plot()"
      ]
    }
  ],
  "metadata": {
    "colab": {
      "provenance": []
    },
    "kernelspec": {
      "display_name": "Python 3",
      "name": "python3"
    },
    "language_info": {
      "name": "python"
    }
  },
  "nbformat": 4,
  "nbformat_minor": 0
}
