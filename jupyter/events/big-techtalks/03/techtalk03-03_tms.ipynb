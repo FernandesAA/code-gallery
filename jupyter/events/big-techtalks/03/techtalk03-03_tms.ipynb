{
  "cells": [
    {
      "cell_type": "markdown",
      "metadata": {
        "id": "56afb6e2",
        "papermill": {
          "duration": 0.012629,
          "end_time": "2024-08-22T01:45:39.927913",
          "exception": false,
          "start_time": "2024-08-22T01:45:39.915284",
          "status": "completed"
        },
        "tags": []
      },
      "source": [
        "# <span style=\"color:#336699\">3º BIG TechTalks - Acesso, Visualização e Processamento de Imagens Sentinel-2 utilizando Python - Usando o serviço Tile Map Service (TMS) para visualização de imagens</span>\n",
        "<hr style=\"border:2px solid #0077b9;\">\n",
        "\n",
        "<br/>\n",
        "\n",
        "<div style=\"text-align: center;font-size: 90%;\">\n",
        "    Gilberto Ribeiro de Queiroz<sup><a href=\"https://orcid.org/0000-0001-7534-0219\"><i class=\"fab fa-lg fa-orcid\" style=\"color: #a6ce39\"></i></a></sup>, Karine Reis Ferreira<sup><a href=\"https://orcid.org/0000-0003-2656-5504\"><i class=\"fab fa-lg fa-orcid\" style=\"color: #a6ce39\"></i></a></sup>, Marcos Adami<sup><a href=\"https://orcid.org/0000-0003-4247-4477\"><i class=\"fab fa-lg fa-orcid\" style=\"color: #a6ce39\"></i></a></sup>, Thales Sehn Körting<sup><a href=\"https://orcid.org/0000-0002-0876-0501\"><i class=\"fab fa-lg fa-orcid\" style=\"color: #a6ce39\"></i></a></sup>, Rennan de Freitas Bezerra Marujo<sup><a href=\"https://orcid.org/0000-0002-0082-9498\"><i class=\"fab fa-lg fa-orcid\" style=\"color: #a6ce39\"></i></a></sup>\n",
        "    <br/><br/>\n",
        "    Divisão de Observação da Terra e Geoinformática, Instituto Nacional de Pesquisas Espaciais (INPE)\n",
        "    <br/>\n",
        "    Avenida dos Astronautas, 1758, Jardim da Granja, São José dos Campos, SP 12227-010, Brazil\n",
        "    <br/><br/>\n",
        "    Contato: <a href=\"rennan.marujo@inpe.br/\">rennan.marujo@inpe.br</a>\n",
        "    <br/><br/>\n",
        "    Última Atualização: 24 de Abril de 2025\n",
        "</div>\n",
        "\n",
        "<br/>\n",
        "\n",
        "<div style=\"text-align: justify;  margin-left: 25%; margin-right: 25%;\">\n",
        "    <b>Resumo.</b> Este Jupyter Notebook é parte do 3º BIG TechTalks - Acesso, Visualização e Processamento de Imagens Sentinel-2 utilizando Python. Na <em>Plataforma Brazil Data Cube</em> as coleções de imagens e cubos de dados podem ser consultadas e visualizadas através de uma interface gráfica com o usuário denominada <a href=\"https://data.inpe.br/bdc/explorer/explore\" target=\"_blank\">Data Cube Explorer</a> ou através de interfaces de programação de aplicações (API) baseadas em diversos serviços web, como o <a href=\"https://stacspec.org/\" target=\"_blank\">SpatioTemporal Asset Catalog (STAC)</a> e <a href=\"https://wiki.osgeo.org/wiki/Tile_Map_Service_Specification\" target=\"_blank\">Tile Map Service (TMS)</a>, entre outros. Este Jupyter Notebook apresenta uma visão geral do uso integrado do serviços TMS para visualização dos produtos de dados de sensoriamento remoto com base nas tecnologias da <em>Plataforma Brazil Data Cube</em>.\n",
        "</div>"
      ]
    },
    {
      "cell_type": "markdown",
      "metadata": {
        "id": "b6faa7b6",
        "papermill": {
          "duration": 0.011316,
          "end_time": "2024-08-22T01:45:39.952435",
          "exception": false,
          "start_time": "2024-08-22T01:45:39.941119",
          "status": "completed"
        },
        "tags": []
      },
      "source": [
        "# Preparação do Ambiente\n",
        "<hr style=\"border:1px solid #0077b9;\">"
      ]
    },
    {
      "cell_type": "markdown",
      "metadata": {
        "id": "a2001103",
        "papermill": {
          "duration": 0.0114,
          "end_time": "2024-08-22T01:45:39.975312",
          "exception": false,
          "start_time": "2024-08-22T01:45:39.963912",
          "status": "completed"
        },
        "tags": []
      },
      "source": [
        "Assim como fizemos no Jupyter Notebook do STAC vamos carregar um shapefile e alguns items da coleção Sentinel-2."
      ]
    },
    {
      "cell_type": "markdown",
      "metadata": {
        "id": "sI8tcHbQxwHD"
      },
      "source": [
        "Caso não tenha o Client STAC instalado em seu ambiente execute:"
      ]
    },
    {
      "cell_type": "code",
      "execution_count": null,
      "metadata": {
        "colab": {
          "base_uri": "https://localhost:8080/"
        },
        "execution": {
          "iopub.execute_input": "2024-08-22T01:45:40.001037Z",
          "iopub.status.busy": "2024-08-22T01:45:40.000455Z",
          "iopub.status.idle": "2024-08-22T01:45:59.688172Z",
          "shell.execute_reply": "2024-08-22T01:45:59.686673Z"
        },
        "id": "934ba6be",
        "outputId": "16d91f9a-fdb3-422e-9313-dbb48a3c5fbb",
        "papermill": {
          "duration": 19.70398,
          "end_time": "2024-08-22T01:45:59.691274",
          "exception": false,
          "start_time": "2024-08-22T01:45:39.987294",
          "status": "completed"
        },
        "tags": []
      },
      "outputs": [],
      "source": [
        "# !pip install pystac-client"
      ]
    },
    {
      "cell_type": "markdown",
      "metadata": {
        "id": "4ff6b689",
        "papermill": {
          "duration": 0.168034,
          "end_time": "2024-08-22T01:46:07.143300",
          "exception": false,
          "start_time": "2024-08-22T01:46:06.975266",
          "status": "completed"
        },
        "tags": []
      },
      "source": [
        "Para visualizarmos o polígono da gleba sobre um mapa de referência, é possível utilizar as bibliotecas `ipyleaflet` e `ipywidgets`."
      ]
    },
    {
      "cell_type": "code",
      "execution_count": null,
      "metadata": {
        "execution": {
          "iopub.execute_input": "2024-08-22T01:46:07.480025Z",
          "iopub.status.busy": "2024-08-22T01:46:07.479549Z",
          "iopub.status.idle": "2024-08-22T01:46:07.772616Z",
          "shell.execute_reply": "2024-08-22T01:46:07.771576Z"
        },
        "id": "d41f19e3",
        "papermill": {
          "duration": 0.466623,
          "end_time": "2024-08-22T01:46:07.775316",
          "exception": false,
          "start_time": "2024-08-22T01:46:07.308693",
          "status": "completed"
        },
        "tags": []
      },
      "outputs": [],
      "source": [
        "# Área de exibição de camadas (mapa) e mapas base (basemaps)\n",
        "from ipyleaflet import Map, basemaps, basemap_to_tiles\n",
        "\n",
        "# Controles sobre o mapa\n",
        "from ipyleaflet import FullScreenControl, LayersControl, ScaleControl, SplitMapControl, WidgetControl\n",
        "\n",
        "# Tipos de Camadas\n",
        "from ipyleaflet import GeoJSON, TileLayer\n",
        "\n",
        "# Layout\n",
        "from ipywidgets import IntSlider, Layout"
      ]
    },
    {
      "cell_type": "markdown",
      "metadata": {
        "id": "U0RDQia9yAYC"
      },
      "source": [
        "Vamos ler um shapefile e mostra-lo num mapa leaflet:"
      ]
    },
    {
      "cell_type": "code",
      "execution_count": null,
      "metadata": {
        "colab": {
          "base_uri": "https://localhost:8080/",
          "height": 496,
          "referenced_widgets": [
            "0c38fa32ab5d40799794bbb929b03028",
            "0b770c535d89412cb1581e5546ba32d7",
            "c812290958cd4aa1b6f91f7d01389e4f",
            "058923f0e1b5400f96efef28eeecf03c",
            "0e9c64d3942b47c083e93dd28fa0950e",
            "0e334db19b0248738480d261c11e1c8c",
            "4126d52c9616435f94927951cc6b7059",
            "0d27e181ac8b42af968a53b790925159",
            "243e1567c6f448de91a341127ea90626"
          ]
        },
        "id": "tOdnAWFjLUXI",
        "outputId": "6ef0b307-5711-4fce-d6d6-553a3814882d"
      },
      "outputs": [],
      "source": [
        "import geopandas as gpd\n",
        "import io\n",
        "import os\n",
        "import requests\n",
        "import tempfile\n",
        "import warnings\n",
        "import zipfile\n",
        "\n",
        "from ipyleaflet import GeoData\n",
        "\n",
        "zipfile_url = \"https://github.com/brazil-data-cube/code-gallery/raw/master/jupyter/Data/2025-sbsr/LEM_dataset_small.zip\"\n",
        "response = requests.get(zipfile_url)\n",
        "with tempfile.TemporaryDirectory() as tmpdir:\n",
        "    with zipfile.ZipFile(io.BytesIO(response.content)) as z:\n",
        "        z.extractall(tmpdir)\n",
        "\n",
        "        shp_file = [f for f in os.listdir(tmpdir) if f.endswith('.shp')][0]\n",
        "        shp_path = os.path.join(tmpdir, shp_file)\n",
        "\n",
        "        my_shp = gpd.read_file(shp_path)\n",
        "\n",
        "        warnings.filterwarnings(\"ignore\")\n",
        "        geometry_union = my_shp.geometry.union_all()\n",
        "        bbox = geometry_union.bounds\n",
        "        centroide = geometry_union.centroid\n",
        "\n",
        "centro = [my_shp.geometry.centroid.y.mean(), my_shp.geometry.centroid.x.mean()]\n",
        "warnings.filterwarnings(\"default\")\n",
        "\n",
        "m = Map(center=centro, zoom=11)\n",
        "\n",
        "geodata = GeoData(\n",
        "    geo_dataframe=my_shp,\n",
        "    style={\n",
        "        'color': 'blue',\n",
        "        'fillColor': 'green',\n",
        "        'opacity': 0.8,\n",
        "        'weight': 1.5,\n",
        "        'fillOpacity': 0.2\n",
        "    },\n",
        "    hover_style={'fillColor': 'red', 'fillOpacity': 0.4},\n",
        "    name=\"Shapefile\"\n",
        ")\n",
        "m.add(geodata)\n",
        "\n",
        "m"
      ]
    },
    {
      "cell_type": "markdown",
      "metadata": {
        "id": "GXAUtrC8y0C9"
      },
      "source": [
        "Agora vamos buscar alguns `items` utilizando STAC:"
      ]
    },
    {
      "cell_type": "code",
      "execution_count": null,
      "metadata": {
        "id": "9rlvnGhiLh4q"
      },
      "outputs": [],
      "source": [
        "import pystac_client\n",
        "\n",
        "catalogo = pystac_client.Client.open('https://data.inpe.br/bdc/stac/v1/')\n",
        "sentinel2 = catalogo.get_collection(\"S2_L2A-1\")\n",
        "\n",
        "item_search = catalogo.search(\n",
        "    collections=[sentinel2],\n",
        "    bbox=bbox,\n",
        "    datetime='2024-01-01/2025-03-21',\n",
        "    limit = 100\n",
        ")\n",
        "\n",
        "items_list = list(item_search.items())\n",
        "\n",
        "items = item_search.item_collection()\n",
        "\n",
        "item = items[0]"
      ]
    },
    {
      "cell_type": "markdown",
      "metadata": {
        "id": "f228ec2c",
        "papermill": {
          "duration": 0.170967,
          "end_time": "2024-08-22T01:46:06.800208",
          "exception": false,
          "start_time": "2024-08-22T01:46:06.629241",
          "status": "completed"
        },
        "tags": []
      },
      "source": [
        "# Usando o ipyleaflet para visualização de imagens a partir de um serviço TMS\n",
        "<hr style=\"border:1px solid #0077b9;\">"
      ]
    },
    {
      "cell_type": "markdown",
      "metadata": {
        "id": "Axsy8VdVyHtV"
      },
      "source": [
        "Vamos trabalhar específicamente com um poligono, no caso o de índice `22` (vigésimo terceiro poligono do shapefile). Podemos criar uma camada para armazenar as informações desse poligono:"
      ]
    },
    {
      "cell_type": "code",
      "execution_count": null,
      "metadata": {
        "id": "oUiKqyHes_IQ"
      },
      "outputs": [],
      "source": [
        "import shapely\n",
        "\n",
        "polygon = my_shp.iloc[22]\n",
        "geometry = polygon.geometry\n",
        "centroide = geometry.centroid\n",
        "\n",
        "camada_poly = GeoJSON(\n",
        "    name=\"Polígono da Gleba\",\n",
        "    data=shapely.geometry.mapping(geometry),\n",
        "    style={ 'color': 'SteelBlue', 'opacity': 1, 'fillOpacity': 0.1, 'weight': 5 },\n",
        "    hover_style={ 'color': 'IndianRed', 'opacity': 1, 'fillOpacity': 0.1, 'weight': 5 }\n",
        ")"
      ]
    },
    {
      "cell_type": "markdown",
      "metadata": {
        "id": "5ZNQqG7Gzq_-"
      },
      "source": [
        "Vamos visualiza-lo:"
      ]
    },
    {
      "cell_type": "code",
      "execution_count": null,
      "metadata": {
        "colab": {
          "base_uri": "https://localhost:8080/",
          "height": 521,
          "referenced_widgets": [
            "f0a9bdb7a19b47c7a0decfa153f7e206",
            "09cbc33fdfd0466b944098f3012d5b5d",
            "cdbb671b0f1e45f09311dde0a839f1e2",
            "5609213048514fce995f5be77d8b530e",
            "e367651a702c4b17b4e99976029ceff1",
            "71c53306f8f74231a163057946ea12ac",
            "3716944c93444efdb0ecd1d2ef0e689c",
            "feb558b2adac45cb919787f94b93fa6e",
            "b8a6f8d90c634ca9ac32d66cf2633d41"
          ]
        },
        "execution": {
          "iopub.execute_input": "2024-08-22T01:46:09.121918Z",
          "iopub.status.busy": "2024-08-22T01:46:09.121285Z",
          "iopub.status.idle": "2024-08-22T01:46:09.130287Z",
          "shell.execute_reply": "2024-08-22T01:46:09.128911Z"
        },
        "id": "1f8db357",
        "outputId": "926e93ce-92d4-4509-8ed0-1caba3c8490e",
        "papermill": {
          "duration": 0.172854,
          "end_time": "2024-08-22T01:46:09.132854",
          "exception": false,
          "start_time": "2024-08-22T01:46:08.960000",
          "status": "completed"
        },
        "tags": []
      },
      "outputs": [],
      "source": [
        "mapa = Map(zoom=15,\n",
        "           scroll_wheel_zoom=True,\n",
        "           center=(centroide.y, centroide.x),  # [lat, lon]\n",
        "           layout=Layout(width='80%', height='500px')\n",
        "           )\n",
        "\n",
        "mapa.add(camada_poly)\n",
        "\n",
        "mapa"
      ]
    },
    {
      "cell_type": "markdown",
      "metadata": {
        "id": "iTqRutsM08d_"
      },
      "source": [
        "Podemos extrair o bounding box desse poligono com:"
      ]
    },
    {
      "cell_type": "code",
      "execution_count": null,
      "metadata": {
        "id": "BfV2JQifonmZ"
      },
      "outputs": [],
      "source": [
        "bbox_poly = geometry.bounds"
      ]
    },
    {
      "cell_type": "markdown",
      "metadata": {
        "id": "077498f2",
        "papermill": {
          "duration": 0.166364,
          "end_time": "2024-08-22T01:46:09.840224",
          "exception": false,
          "start_time": "2024-08-22T01:46:09.673860",
          "status": "completed"
        },
        "tags": []
      },
      "source": [
        "Neste exemplo, usaremos a imagem em cores verdadeiras disponível no endereço fornecido pelo primeiro *item* do resultado da pesquisa anterior."
      ]
    },
    {
      "cell_type": "code",
      "execution_count": null,
      "metadata": {
        "colab": {
          "base_uri": "https://localhost:8080/"
        },
        "execution": {
          "iopub.execute_input": "2024-08-22T01:46:10.168845Z",
          "iopub.status.busy": "2024-08-22T01:46:10.167923Z",
          "iopub.status.idle": "2024-08-22T01:46:10.178520Z",
          "shell.execute_reply": "2024-08-22T01:46:10.177111Z"
        },
        "id": "1b0f07da",
        "outputId": "ca459f82-fd00-4dbc-d260-685e92715bd2",
        "papermill": {
          "duration": 0.17756,
          "end_time": "2024-08-22T01:46:10.182343",
          "exception": false,
          "start_time": "2024-08-22T01:46:10.004783",
          "status": "completed"
        },
        "tags": []
      },
      "outputs": [],
      "source": [
        "assets = items[0].assets\n",
        "assets"
      ]
    },
    {
      "cell_type": "code",
      "execution_count": null,
      "metadata": {
        "colab": {
          "base_uri": "https://localhost:8080/",
          "height": 36
        },
        "execution": {
          "iopub.execute_input": "2024-08-22T01:46:10.518783Z",
          "iopub.status.busy": "2024-08-22T01:46:10.518304Z",
          "iopub.status.idle": "2024-08-22T01:46:10.526804Z",
          "shell.execute_reply": "2024-08-22T01:46:10.525229Z"
        },
        "id": "d875d2ab",
        "outputId": "7cc7ca89-e180-46e5-ab6c-9ad842b6b547",
        "papermill": {
          "duration": 0.181655,
          "end_time": "2024-08-22T01:46:10.529996",
          "exception": false,
          "start_time": "2024-08-22T01:46:10.348341",
          "status": "completed"
        },
        "tags": []
      },
      "outputs": [],
      "source": [
        "tci_asset = assets['TCI']\n",
        "tci_asset.href"
      ]
    },
    {
      "cell_type": "markdown",
      "metadata": {
        "id": "nylSTg7B1HD2"
      },
      "source": [
        "Vamos criar uma camada para essa cena:"
      ]
    },
    {
      "cell_type": "code",
      "execution_count": null,
      "metadata": {
        "execution": {
          "iopub.execute_input": "2024-08-22T01:46:10.864580Z",
          "iopub.status.busy": "2024-08-22T01:46:10.864132Z",
          "iopub.status.idle": "2024-08-22T01:46:10.871843Z",
          "shell.execute_reply": "2024-08-22T01:46:10.870557Z"
        },
        "id": "e16a4ec9",
        "papermill": {
          "duration": 0.176992,
          "end_time": "2024-08-22T01:46:10.874388",
          "exception": false,
          "start_time": "2024-08-22T01:46:10.697396",
          "status": "completed"
        },
        "tags": []
      },
      "outputs": [],
      "source": [
        "camada_cena = TileLayer(\n",
        "    name=items[0].id,\n",
        "    url=\"https://data.inpe.br/bdc/tms/tiles/WebMercatorQuad/{z}/{x}/{y}\" + f\"?url={tci_asset.href}\"\n",
        ")"
      ]
    },
    {
      "cell_type": "markdown",
      "metadata": {
        "id": "3AVyLAri1LA3"
      },
      "source": [
        "Podemos visualiza-la sobre o mapa:"
      ]
    },
    {
      "cell_type": "code",
      "execution_count": null,
      "metadata": {
        "colab": {
          "base_uri": "https://localhost:8080/",
          "height": 521,
          "referenced_widgets": [
            "298a5d6ad0bb409a967a8ce62ad62e4c",
            "ceb3a9683e6a44df83c973277e33eade",
            "524d4d523cb449a1b1872469ac82c7d4",
            "c8721ef5b80e4e43abe4f9789aedc9d6",
            "8ee6b93f809e43f8bbe11f78567fbb0e",
            "1a599008f4aa4d24867d2d6d2d5c3e04",
            "47ced89f7b834dbe923013aa84666fe6",
            "c69a0dd7f1354e8986eeff9bf205bd31",
            "f125ed38b89a4cc3a2e7305988dbe9e1",
            "3716944c93444efdb0ecd1d2ef0e689c",
            "d8c8428ae92f481eb74631908da5dabf",
            "5b0fd63e0f044d1182db9ba4cc827144",
            "93ed56dcf4ff4aeda395d94c7915a5d4"
          ]
        },
        "execution": {
          "iopub.execute_input": "2024-08-22T01:46:11.212708Z",
          "iopub.status.busy": "2024-08-22T01:46:11.212171Z",
          "iopub.status.idle": "2024-08-22T01:46:11.246152Z",
          "shell.execute_reply": "2024-08-22T01:46:11.244490Z"
        },
        "id": "cfc99145",
        "outputId": "2904607d-4185-4860-bf3e-f46e4e704c91",
        "papermill": {
          "duration": 0.21486,
          "end_time": "2024-08-22T01:46:11.257663",
          "exception": false,
          "start_time": "2024-08-22T01:46:11.042803",
          "status": "completed"
        },
        "tags": []
      },
      "outputs": [],
      "source": [
        "mapa_tms = Map(zoom=12,\n",
        "               scroll_wheel_zoom=True,\n",
        "               layout=Layout(width='80%', height='500px'),\n",
        "               center=(centroide.y, centroide.x),  # [lat, lon]\n",
        "               )\n",
        "\n",
        "mapa_tms.add(camada_poly)\n",
        "mapa_tms.add(camada_cena)\n",
        "\n",
        "mapa_tms.add(LayersControl(position='topright'))\n",
        "mapa_tms.add(FullScreenControl())\n",
        "mapa_tms.add(ScaleControl(position='bottomleft'))\n",
        "\n",
        "mapa_tms.fit_bounds([[bbox_poly[1], bbox_poly[0]], [bbox_poly[3], bbox_poly[2]]])\n",
        "\n",
        "display(mapa_tms)"
      ]
    },
    {
      "cell_type": "markdown",
      "metadata": {
        "id": "6c3b65bf",
        "papermill": {
          "duration": 0.165508,
          "end_time": "2024-08-22T01:46:11.595918",
          "exception": false,
          "start_time": "2024-08-22T01:46:11.430410",
          "status": "completed"
        },
        "tags": []
      },
      "source": [
        "Agora, vamos gerar uma visualização que possibilite comparar duas imagens da mesma região em tempos distintos. As imagems que utilizaremos serão a primeira e a última na nossa lista de itens recuperados do STAC:"
      ]
    },
    {
      "cell_type": "code",
      "execution_count": null,
      "metadata": {
        "colab": {
          "base_uri": "https://localhost:8080/",
          "height": 36
        },
        "execution": {
          "iopub.execute_input": "2024-08-22T01:46:11.934658Z",
          "iopub.status.busy": "2024-08-22T01:46:11.933927Z",
          "iopub.status.idle": "2024-08-22T01:46:11.944296Z",
          "shell.execute_reply": "2024-08-22T01:46:11.942644Z"
        },
        "id": "e061738f",
        "outputId": "8e7d0241-4177-4300-ed15-5be3b798e812",
        "papermill": {
          "duration": 0.184861,
          "end_time": "2024-08-22T01:46:11.947039",
          "exception": false,
          "start_time": "2024-08-22T01:46:11.762178",
          "status": "completed"
        },
        "tags": []
      },
      "outputs": [],
      "source": [
        "items[20].id"
      ]
    },
    {
      "cell_type": "code",
      "execution_count": null,
      "metadata": {
        "colab": {
          "base_uri": "https://localhost:8080/",
          "height": 36
        },
        "execution": {
          "iopub.execute_input": "2024-08-22T01:46:12.281683Z",
          "iopub.status.busy": "2024-08-22T01:46:12.281210Z",
          "iopub.status.idle": "2024-08-22T01:46:12.290392Z",
          "shell.execute_reply": "2024-08-22T01:46:12.289072Z"
        },
        "id": "de2574a0",
        "outputId": "d2227a93-f5f4-498c-9cd7-8e0ac4234b70",
        "papermill": {
          "duration": 0.182928,
          "end_time": "2024-08-22T01:46:12.293875",
          "exception": false,
          "start_time": "2024-08-22T01:46:12.110947",
          "status": "completed"
        },
        "tags": []
      },
      "outputs": [],
      "source": [
        "items[0].id"
      ]
    },
    {
      "cell_type": "markdown",
      "metadata": {
        "id": "7966fb9a",
        "papermill": {
          "duration": 0.225326,
          "end_time": "2024-08-22T01:46:12.688907",
          "exception": false,
          "start_time": "2024-08-22T01:46:12.463581",
          "status": "completed"
        },
        "tags": []
      },
      "source": [
        "Repare no nome dos identificadores das cenas que essas imagens são do dia `17/02/2025` e `19/03/2025`, respectivamente."
      ]
    },
    {
      "cell_type": "code",
      "execution_count": null,
      "metadata": {
        "colab": {
          "base_uri": "https://localhost:8080/",
          "height": 521,
          "referenced_widgets": [
            "796020324aa44d9eb124229b8c41c3c6",
            "771c57117a8043a683ad14af030b3b8d",
            "5dc567cfe6b24a6da80006d3b67de208",
            "be4c590512fd4c4db231a72e9aaac09e",
            "b58ff60369c34ebbb7f8b9655f7a27f0",
            "3c8f5650e9754b0ca11df2a9c179341c",
            "abc0897cf4da4433972a2b5936ec11d2",
            "8c1e4650ff6c4c2b8dfd88ed861e3b39",
            "b1dde8f3a39845b48bee428d222b44f6",
            "297251f04f5045bca956d4daddc4a876",
            "3716944c93444efdb0ecd1d2ef0e689c",
            "60c3851656274d9bb160813cf6da143d",
            "a64d1b9f665f4537a0cdbaaf710dc05e",
            "32e8f712a4114032a74366beb5fa17ca",
            "a92fd1c3fa6d42da82433679e84ec685"
          ]
        },
        "execution": {
          "iopub.execute_input": "2024-08-22T01:46:13.016072Z",
          "iopub.status.busy": "2024-08-22T01:46:13.015369Z",
          "iopub.status.idle": "2024-08-22T01:46:13.054041Z",
          "shell.execute_reply": "2024-08-22T01:46:13.052782Z"
        },
        "id": "32fb0e25",
        "outputId": "c242afde-174b-45de-8588-4d9652437265",
        "papermill": {
          "duration": 0.213168,
          "end_time": "2024-08-22T01:46:13.064102",
          "exception": false,
          "start_time": "2024-08-22T01:46:12.850934",
          "status": "completed"
        },
        "tags": []
      },
      "outputs": [],
      "source": [
        "camada_cena_1 = TileLayer(\n",
        "    name=items[20].id,\n",
        "    url=\"https://data.inpe.br/bdc/tms/tiles/WebMercatorQuad/{z}/{x}/{y}\" + f\"?url={items[20].assets['TCI'].href}\"\n",
        ")\n",
        "\n",
        "camada_cena_2 = TileLayer(\n",
        "    name=items[0].id,\n",
        "    url=\"https://data.inpe.br/bdc/tms/tiles/WebMercatorQuad/{z}/{x}/{y}\" + f\"?url={items[0].assets['TCI'].href}\"\n",
        ")\n",
        "\n",
        "\n",
        "mapa_comp = Map(zoom=13, scroll_wheel_zoom=True, layout=Layout(width='80%', height='500px'), center=(centroide.y, centroide.x))\n",
        "\n",
        "mapa_comp.add(camada_poly)\n",
        "\n",
        "control = SplitMapControl(left_layer=camada_cena_1, right_layer=camada_cena_2)\n",
        "\n",
        "mapa_comp.add(control)\n",
        "\n",
        "\n",
        "mapa_comp.add(LayersControl(position='topright'))\n",
        "mapa_comp.add(FullScreenControl())\n",
        "mapa_comp.add(ScaleControl(position='bottomleft'))\n",
        "\n",
        "mapa_comp.fit_bounds([[polygon.geometry.bounds[1], polygon.geometry.bounds[0]], [polygon.geometry.bounds[3], polygon.geometry.bounds[2]]])\n",
        "\n",
        "display(mapa_comp)"
      ]
    }
  ],
  "metadata": {
    "colab": {
      "provenance": []
    },
    "kernelspec": {
      "display_name": "Python 3",
      "name": "python3"
    },
    "language_info": {
      "name": "python"
    },
    "widgets": {
      "application/vnd.jupyter.widget-state+json": {
        "058923f0e1b5400f96efef28eeecf03c": {
          "model_module": "jupyter-leaflet",
          "model_module_version": "^0.19",
          "model_name": "LeafletMapStyleModel",
          "state": {
            "_model_module": "jupyter-leaflet",
            "_model_module_version": "^0.19",
            "_model_name": "LeafletMapStyleModel",
            "_view_count": null,
            "_view_module": "@jupyter-widgets/base",
            "_view_module_version": "1.2.0",
            "_view_name": "StyleView",
            "cursor": "grab"
          }
        },
        "09cbc33fdfd0466b944098f3012d5b5d": {
          "model_module": "jupyter-leaflet",
          "model_module_version": "^0.19",
          "model_name": "LeafletZoomControlModel",
          "state": {
            "_model_module": "jupyter-leaflet",
            "_model_module_version": "^0.19",
            "_model_name": "LeafletZoomControlModel",
            "_view_count": null,
            "_view_module": "jupyter-leaflet",
            "_view_module_version": "^0.19",
            "_view_name": "LeafletZoomControlView",
            "options": [
              "position",
              "zoom_in_text",
              "zoom_in_title",
              "zoom_out_text",
              "zoom_out_title"
            ],
            "position": "topleft",
            "zoom_in_text": "+",
            "zoom_in_title": "Zoom in",
            "zoom_out_text": "-",
            "zoom_out_title": "Zoom out"
          }
        },
        "0b770c535d89412cb1581e5546ba32d7": {
          "model_module": "jupyter-leaflet",
          "model_module_version": "^0.19",
          "model_name": "LeafletZoomControlModel",
          "state": {
            "_model_module": "jupyter-leaflet",
            "_model_module_version": "^0.19",
            "_model_name": "LeafletZoomControlModel",
            "_view_count": null,
            "_view_module": "jupyter-leaflet",
            "_view_module_version": "^0.19",
            "_view_name": "LeafletZoomControlView",
            "options": [
              "position",
              "zoom_in_text",
              "zoom_in_title",
              "zoom_out_text",
              "zoom_out_title"
            ],
            "position": "topleft",
            "zoom_in_text": "+",
            "zoom_in_title": "Zoom in",
            "zoom_out_text": "-",
            "zoom_out_title": "Zoom out"
          }
        },
        "0c38fa32ab5d40799794bbb929b03028": {
          "model_module": "jupyter-leaflet",
          "model_module_version": "^0.19",
          "model_name": "LeafletMapModel",
          "state": {
            "_dom_classes": [],
            "_model_module": "jupyter-leaflet",
            "_model_module_version": "^0.19",
            "_model_name": "LeafletMapModel",
            "_view_count": null,
            "_view_module": "jupyter-leaflet",
            "_view_module_version": "^0.19",
            "_view_name": "LeafletMapView",
            "bottom": 280424,
            "bounce_at_zoom_limits": true,
            "box_zoom": true,
            "center": [
              -12.318608778298703,
              -45.89650202015532
            ],
            "close_popup_on_click": true,
            "controls": [
              "IPY_MODEL_0b770c535d89412cb1581e5546ba32d7",
              "IPY_MODEL_c812290958cd4aa1b6f91f7d01389e4f"
            ],
            "crs": {
              "custom": false,
              "name": "EPSG3857"
            },
            "default_style": "IPY_MODEL_058923f0e1b5400f96efef28eeecf03c",
            "double_click_zoom": true,
            "dragging": true,
            "dragging_style": "IPY_MODEL_0e9c64d3942b47c083e93dd28fa0950e",
            "east": -45.35911560058594,
            "fullscreen": false,
            "inertia": true,
            "inertia_deceleration": 3000,
            "inertia_max_speed": 1500,
            "interpolation": "bilinear",
            "keyboard": true,
            "keyboard_pan_offset": 80,
            "keyboard_zoom_offset": 1,
            "layers": [
              "IPY_MODEL_0e334db19b0248738480d261c11e1c8c",
              "IPY_MODEL_4126d52c9616435f94927951cc6b7059"
            ],
            "layout": "IPY_MODEL_0d27e181ac8b42af968a53b790925159",
            "left": 194519,
            "max_zoom": null,
            "min_zoom": null,
            "modisdate": "2025-04-23",
            "north": -12.184334435280148,
            "options": [
              "bounce_at_zoom_limits",
              "box_zoom",
              "center",
              "close_popup_on_click",
              "double_click_zoom",
              "dragging",
              "fullscreen",
              "inertia",
              "inertia_deceleration",
              "inertia_max_speed",
              "interpolation",
              "keyboard",
              "keyboard_pan_offset",
              "keyboard_zoom_offset",
              "max_zoom",
              "min_zoom",
              "prefer_canvas",
              "scroll_wheel_zoom",
              "tap",
              "tap_tolerance",
              "touch_zoom",
              "world_copy_jump",
              "zoom",
              "zoom_animation_threshold",
              "zoom_delta",
              "zoom_snap"
            ],
            "panes": {},
            "prefer_canvas": false,
            "right": 196085,
            "scroll_wheel_zoom": false,
            "south": -12.452668840613889,
            "style": "IPY_MODEL_243e1567c6f448de91a341127ea90626",
            "tap": true,
            "tap_tolerance": 15,
            "top": 280024,
            "touch_zoom": true,
            "west": -46.43440246582032,
            "window_url": "https://t6jaursehim-496ff2e9c6d22116-0-colab.googleusercontent.com/outputframe.html?vrz=colab_20250421-060122_RC01_749853848",
            "world_copy_jump": false,
            "zoom": 11,
            "zoom_animation_threshold": 4,
            "zoom_delta": 1,
            "zoom_snap": 1
          }
        },
        "0d27e181ac8b42af968a53b790925159": {
          "model_module": "@jupyter-widgets/base",
          "model_module_version": "1.2.0",
          "model_name": "LayoutModel",
          "state": {
            "_model_module": "@jupyter-widgets/base",
            "_model_module_version": "1.2.0",
            "_model_name": "LayoutModel",
            "_view_count": null,
            "_view_module": "@jupyter-widgets/base",
            "_view_module_version": "1.2.0",
            "_view_name": "LayoutView",
            "align_content": null,
            "align_items": null,
            "align_self": null,
            "border": null,
            "bottom": null,
            "display": null,
            "flex": null,
            "flex_flow": null,
            "grid_area": null,
            "grid_auto_columns": null,
            "grid_auto_flow": null,
            "grid_auto_rows": null,
            "grid_column": null,
            "grid_gap": null,
            "grid_row": null,
            "grid_template_areas": null,
            "grid_template_columns": null,
            "grid_template_rows": null,
            "height": null,
            "justify_content": null,
            "justify_items": null,
            "left": null,
            "margin": null,
            "max_height": null,
            "max_width": null,
            "min_height": null,
            "min_width": null,
            "object_fit": null,
            "object_position": null,
            "order": null,
            "overflow": null,
            "overflow_x": null,
            "overflow_y": null,
            "padding": null,
            "right": null,
            "top": null,
            "visibility": null,
            "width": null
          }
        },
        "0e334db19b0248738480d261c11e1c8c": {
          "model_module": "jupyter-leaflet",
          "model_module_version": "^0.19",
          "model_name": "LeafletTileLayerModel",
          "state": {
            "_model_module": "jupyter-leaflet",
            "_model_module_version": "^0.19",
            "_model_name": "LeafletTileLayerModel",
            "_view_count": null,
            "_view_module": "jupyter-leaflet",
            "_view_module_version": "^0.19",
            "_view_name": "LeafletTileLayerView",
            "attribution": "&copy; <a href=\"https://www.openstreetmap.org/copyright\">OpenStreetMap</a> contributors",
            "base": true,
            "bottom": true,
            "bounds": null,
            "detect_retina": false,
            "loading": false,
            "max_native_zoom": null,
            "max_zoom": 19,
            "min_native_zoom": null,
            "min_zoom": 1,
            "name": "OpenStreetMap.Mapnik",
            "no_wrap": false,
            "opacity": 1,
            "options": [
              "attribution",
              "bounds",
              "detect_retina",
              "max_native_zoom",
              "max_zoom",
              "min_native_zoom",
              "min_zoom",
              "no_wrap",
              "tile_size",
              "tms",
              "zoom_offset"
            ],
            "pane": "",
            "popup": null,
            "popup_max_height": null,
            "popup_max_width": 300,
            "popup_min_width": 50,
            "show_loading": false,
            "subitems": [],
            "tile_size": 256,
            "tms": false,
            "url": "https://tile.openstreetmap.org/{z}/{x}/{y}.png",
            "visible": true,
            "zoom_offset": 0
          }
        },
        "0e9c64d3942b47c083e93dd28fa0950e": {
          "model_module": "jupyter-leaflet",
          "model_module_version": "^0.19",
          "model_name": "LeafletMapStyleModel",
          "state": {
            "_model_module": "jupyter-leaflet",
            "_model_module_version": "^0.19",
            "_model_name": "LeafletMapStyleModel",
            "_view_count": null,
            "_view_module": "@jupyter-widgets/base",
            "_view_module_version": "1.2.0",
            "_view_name": "StyleView",
            "cursor": "move"
          }
        },
        "1a599008f4aa4d24867d2d6d2d5c3e04": {
          "model_module": "jupyter-leaflet",
          "model_module_version": "^0.19",
          "model_name": "LeafletScaleControlModel",
          "state": {
            "_model_module": "jupyter-leaflet",
            "_model_module_version": "^0.19",
            "_model_name": "LeafletScaleControlModel",
            "_view_count": null,
            "_view_module": "jupyter-leaflet",
            "_view_module_version": "^0.19",
            "_view_name": "LeafletScaleControlView",
            "imperial": true,
            "max_width": 100,
            "metric": true,
            "options": [
              "imperial",
              "max_width",
              "metric",
              "position",
              "update_when_idle"
            ],
            "position": "bottomleft",
            "update_when_idle": false
          }
        },
        "243e1567c6f448de91a341127ea90626": {
          "model_module": "jupyter-leaflet",
          "model_module_version": "^0.19",
          "model_name": "LeafletMapStyleModel",
          "state": {
            "_model_module": "jupyter-leaflet",
            "_model_module_version": "^0.19",
            "_model_name": "LeafletMapStyleModel",
            "_view_count": null,
            "_view_module": "@jupyter-widgets/base",
            "_view_module_version": "1.2.0",
            "_view_name": "StyleView",
            "cursor": "grab"
          }
        },
        "297251f04f5045bca956d4daddc4a876": {
          "model_module": "jupyter-leaflet",
          "model_module_version": "^0.19",
          "model_name": "LeafletTileLayerModel",
          "state": {
            "_model_module": "jupyter-leaflet",
            "_model_module_version": "^0.19",
            "_model_name": "LeafletTileLayerModel",
            "_view_count": null,
            "_view_module": "jupyter-leaflet",
            "_view_module_version": "^0.19",
            "_view_name": "LeafletTileLayerView",
            "attribution": "&copy; <a href=\"https://www.openstreetmap.org/copyright\">OpenStreetMap</a> contributors",
            "base": true,
            "bottom": true,
            "bounds": null,
            "detect_retina": false,
            "loading": false,
            "max_native_zoom": null,
            "max_zoom": 19,
            "min_native_zoom": null,
            "min_zoom": 1,
            "name": "OpenStreetMap.Mapnik",
            "no_wrap": false,
            "opacity": 1,
            "options": [
              "attribution",
              "bounds",
              "detect_retina",
              "max_native_zoom",
              "max_zoom",
              "min_native_zoom",
              "min_zoom",
              "no_wrap",
              "tile_size",
              "tms",
              "zoom_offset"
            ],
            "pane": "",
            "popup": null,
            "popup_max_height": null,
            "popup_max_width": 300,
            "popup_min_width": 50,
            "show_loading": false,
            "subitems": [],
            "tile_size": 256,
            "tms": false,
            "url": "https://tile.openstreetmap.org/{z}/{x}/{y}.png",
            "visible": true,
            "zoom_offset": 0
          }
        },
        "298a5d6ad0bb409a967a8ce62ad62e4c": {
          "model_module": "jupyter-leaflet",
          "model_module_version": "^0.19",
          "model_name": "LeafletMapModel",
          "state": {
            "_dom_classes": [],
            "_model_module": "jupyter-leaflet",
            "_model_module_version": "^0.19",
            "_model_name": "LeafletMapModel",
            "_view_count": null,
            "_view_module": "jupyter-leaflet",
            "_view_module_version": "^0.19",
            "_view_name": "LeafletMapView",
            "bottom": 140186,
            "bounce_at_zoom_limits": true,
            "box_zoom": true,
            "center": [
              -12.082944350717423,
              -45.29871388536732
            ],
            "close_popup_on_click": true,
            "controls": [
              "IPY_MODEL_ceb3a9683e6a44df83c973277e33eade",
              "IPY_MODEL_524d4d523cb449a1b1872469ac82c7d4",
              "IPY_MODEL_c8721ef5b80e4e43abe4f9789aedc9d6",
              "IPY_MODEL_8ee6b93f809e43f8bbe11f78567fbb0e",
              "IPY_MODEL_1a599008f4aa4d24867d2d6d2d5c3e04"
            ],
            "crs": {
              "custom": false,
              "name": "EPSG3857"
            },
            "default_style": "IPY_MODEL_47ced89f7b834dbe923013aa84666fe6",
            "double_click_zoom": true,
            "dragging": true,
            "dragging_style": "IPY_MODEL_c69a0dd7f1354e8986eeff9bf205bd31",
            "east": -44.43695068359375,
            "fullscreen": false,
            "inertia": true,
            "inertia_deceleration": 3000,
            "inertia_max_speed": 1500,
            "interpolation": "bilinear",
            "keyboard": true,
            "keyboard_pan_offset": 80,
            "keyboard_zoom_offset": 1,
            "layers": [
              "IPY_MODEL_f125ed38b89a4cc3a2e7305988dbe9e1",
              "IPY_MODEL_3716944c93444efdb0ecd1d2ef0e689c",
              "IPY_MODEL_d8c8428ae92f481eb74631908da5dabf"
            ],
            "layout": "IPY_MODEL_5b0fd63e0f044d1182db9ba4cc827144",
            "left": 97458,
            "max_zoom": null,
            "min_zoom": null,
            "modisdate": "2025-04-23",
            "north": -11.746369681911013,
            "options": [
              "bounce_at_zoom_limits",
              "box_zoom",
              "center",
              "close_popup_on_click",
              "double_click_zoom",
              "dragging",
              "fullscreen",
              "inertia",
              "inertia_deceleration",
              "inertia_max_speed",
              "interpolation",
              "keyboard",
              "keyboard_pan_offset",
              "keyboard_zoom_offset",
              "max_zoom",
              "min_zoom",
              "prefer_canvas",
              "scroll_wheel_zoom",
              "tap",
              "tap_tolerance",
              "touch_zoom",
              "world_copy_jump",
              "zoom",
              "zoom_animation_threshold",
              "zoom_delta",
              "zoom_snap"
            ],
            "panes": {},
            "prefer_canvas": false,
            "right": 98714,
            "scroll_wheel_zoom": true,
            "south": -12.417800925992982,
            "style": "IPY_MODEL_47ced89f7b834dbe923013aa84666fe6",
            "tap": true,
            "tap_tolerance": 15,
            "top": 139686,
            "touch_zoom": true,
            "west": -46.16180419921876,
            "window_url": "https://t6jaursehim-496ff2e9c6d22116-0-colab.googleusercontent.com/outputframe.html?vrz=colab_20250421-060122_RC01_749853848",
            "world_copy_jump": false,
            "zoom": 11,
            "zoom_animation_threshold": 4,
            "zoom_delta": 1,
            "zoom_snap": 1
          }
        },
        "32e8f712a4114032a74366beb5fa17ca": {
          "model_module": "jupyter-leaflet",
          "model_module_version": "^0.19",
          "model_name": "LeafletTileLayerModel",
          "state": {
            "_model_module": "jupyter-leaflet",
            "_model_module_version": "^0.19",
            "_model_name": "LeafletTileLayerModel",
            "_view_count": null,
            "_view_module": "jupyter-leaflet",
            "_view_module_version": "^0.19",
            "_view_name": "LeafletTileLayerView",
            "attribution": null,
            "base": false,
            "bottom": true,
            "bounds": null,
            "detect_retina": false,
            "loading": false,
            "max_native_zoom": null,
            "max_zoom": 18,
            "min_native_zoom": null,
            "min_zoom": 0,
            "name": "S2B_MSIL2A_20250217T132239_N0511_R038_T23LMG_20250217T150809",
            "no_wrap": false,
            "opacity": 1,
            "options": [
              "attribution",
              "bounds",
              "detect_retina",
              "max_native_zoom",
              "max_zoom",
              "min_native_zoom",
              "min_zoom",
              "no_wrap",
              "tile_size",
              "tms",
              "zoom_offset"
            ],
            "pane": "",
            "popup": null,
            "popup_max_height": null,
            "popup_max_width": 300,
            "popup_min_width": 50,
            "show_loading": false,
            "subitems": [],
            "tile_size": 256,
            "tms": false,
            "url": "https://data.inpe.br/bdc/tms/tiles/WebMercatorQuad/{z}/{x}/{y}?url=https://data.inpe.br/bdc/data/S2_L2A/v001/23/L/MG/2025/02/S2B_TCI_20250217T132239_N0511_R038_T23LMG_20250217T150809.tif",
            "visible": true,
            "zoom_offset": 0
          }
        },
        "3716944c93444efdb0ecd1d2ef0e689c": {
          "model_module": "jupyter-leaflet",
          "model_module_version": "^0.19",
          "model_name": "LeafletGeoJSONModel",
          "state": {
            "_model_module": "jupyter-leaflet",
            "_model_module_version": "^0.19",
            "_model_name": "LeafletGeoJSONModel",
            "_view_count": null,
            "_view_module": "jupyter-leaflet",
            "_view_module_version": "^0.19",
            "_view_name": "LeafletGeoJSONView",
            "base": false,
            "bottom": false,
            "data": {
              "coordinates": [
                [
                  [
                    -45.90743870718317,
                    -12.32160015214368
                  ],
                  [
                    -45.90735278740726,
                    -12.321600901958332
                  ],
                  [
                    -45.90726689370047,
                    -12.321603151168311
                  ],
                  [
                    -45.90718105212528,
                    -12.32160689909651
                  ],
                  [
                    -45.9070952887286,
                    -12.321612144614612
                  ],
                  [
                    -45.90700962953486,
                    -12.321618886143444
                  ],
                  [
                    -45.90692410053657,
                    -12.321627121653357
                  ],
                  [
                    -45.90683872768811,
                    -12.321636848664866
                  ],
                  [
                    -45.9067535369006,
                    -12.32164806424893
                  ],
                  [
                    -45.90666855402932,
                    -12.321660765028293
                  ],
                  [
                    -45.906583804867005,
                    -12.32167494717846
                  ],
                  [
                    -45.90649931514207,
                    -12.321690606427671
                  ],
                  [
                    -45.9064151105025,
                    -12.321707738059615
                  ],
                  [
                    -45.906331216517785,
                    -12.321726336912791
                  ],
                  [
                    -45.90624765865806,
                    -12.321746397384715
                  ],
                  [
                    -45.90616446230347,
                    -12.321767913429802
                  ],
                  [
                    -45.9060816527212,
                    -12.321790878564498
                  ],
                  [
                    -45.90599925506616,
                    -12.321815285867137
                  ],
                  [
                    -45.90591729437513,
                    -12.3218411279793
                  ],
                  [
                    -45.90583579555285,
                    -12.321868397109629
                  ],
                  [
                    -45.90575478336687,
                    -12.321897085035445
                  ],
                  [
                    -45.90567428244535,
                    -12.321927183103234
                  ],
                  [
                    -45.90559431726114,
                    -12.321958682233937
                  ],
                  [
                    -45.90551491213205,
                    -12.321991572922753
                  ],
                  [
                    -45.90543609120809,
                    -12.32202584524381
                  ],
                  [
                    -45.90535787846807,
                    -12.322061488851443
                  ],
                  [
                    -45.90528029770838,
                    -12.322098492984685
                  ],
                  [
                    -45.905203372541344,
                    -12.322136846467883
                  ],
                  [
                    -45.90512712638188,
                    -12.322176537716649
                  ],
                  [
                    -45.90505158244605,
                    -12.322217554738335
                  ],
                  [
                    -45.90497676373831,
                    -12.322259885138454
                  ],
                  [
                    -45.90490269305107,
                    -12.322303516120478
                  ],
                  [
                    -45.90482939295163,
                    -12.322348434492971
                  ],
                  [
                    -45.904756885777495,
                    -12.32239462667209
                  ],
                  [
                    -45.904685193632325,
                    -12.322442078683677
                  ],
                  [
                    -45.90461433837562,
                    -12.322490776169419
                  ],
                  [
                    -45.90454434161495,
                    -12.322540704391752
                  ],
                  [
                    -45.90447522470562,
                    -12.322591848233744
                  ],
                  [
                    -45.90440700873668,
                    -12.322644192208552
                  ],
                  [
                    -45.90433971452714,
                    -12.322697720462056
                  ],
                  [
                    -45.904273362623435,
                    -12.322752416774339
                  ],
                  [
                    -45.90420797328516,
                    -12.3228082645706
                  ],
                  [
                    -45.90414356648684,
                    -12.322865246919378
                  ],
                  [
                    -45.90408016190585,
                    -12.32292334654239
                  ],
                  [
                    -45.90401777891853,
                    -12.322982545817704
                  ],
                  [
                    -45.90395643659412,
                    -12.323042826784793
                  ],
                  [
                    -45.903896153689274,
                    -12.323104171149302
                  ],
                  [
                    -45.903836948640205,
                    -12.323166560290415
                  ],
                  [
                    -45.90377883955854,
                    -12.323229975264681
                  ],
                  [
                    -45.90372184422573,
                    -12.3232943968113
                  ],
                  [
                    -45.9036659800863,
                    -12.323359805359186
                  ],
                  [
                    -45.903611264241846,
                    -12.323426181033371
                  ],
                  [
                    -45.90355771344858,
                    -12.323493503657337
                  ],
                  [
                    -45.903505344107835,
                    -12.323561752764055
                  ],
                  [
                    -45.90345417226423,
                    -12.323630907598005
                  ],
                  [
                    -45.903404213598925,
                    -12.323700947123287
                  ],
                  [
                    -45.90335548342469,
                    -12.32377185002997
                  ],
                  [
                    -45.903307996681214,
                    -12.323843594740216
                  ],
                  [
                    -45.90326176793019,
                    -12.323916159414898
                  ],
                  [
                    -45.90321681135078,
                    -12.323989521960005
                  ],
                  [
                    -45.90317314073545,
                    -12.324063660032644
                  ],
                  [
                    -45.90313076948357,
                    -12.324138551051117
                  ],
                  [
                    -45.90308971059984,
                    -12.3242141721971
                  ],
                  [
                    -45.90304997668837,
                    -12.324290500425564
                  ],
                  [
                    -45.903011579948384,
                    -12.324367512472207
                  ],
                  [
                    -45.90297453217181,
                    -12.324445184857531
                  ],
                  [
                    -45.90293884473726,
                    -12.32452349389864
                  ],
                  [
                    -45.902904528608225,
                    -12.324602415712333
                  ],
                  [
                    -45.90287159432877,
                    -12.324681926224152
                  ],
                  [
                    -45.90284005201963,
                    -12.324762001176813
                  ],
                  [
                    -45.90280991137575,
                    -12.324842616135633
                  ],
                  [
                    -45.90278118166247,
                    -12.324923746497817
                  ],
                  [
                    -45.90275387171284,
                    -12.325005367498981
                  ],
                  [
                    -45.90272798992437,
                    -12.325087454221965
                  ],
                  [
                    -45.902703544256795,
                    -12.32516998160298
                  ],
                  [
                    -45.90268054222905,
                    -12.325252924440544
                  ],
                  [
                    -45.90265899091663,
                    -12.325336257404071
                  ],
                  [
                    -45.902638896949924,
                    -12.325419955039411
                  ],
                  [
                    -45.90262026651142,
                    -12.325503991778929
                  ],
                  [
                    -45.90260310533394,
                    -12.325588341948457
                  ],
                  [
                    -45.90258741869869,
                    -12.325672979775549
                  ],
                  [
                    -45.902573211433385,
                    -12.325757879398187
                  ],
                  [
                    -45.902560487911025,
                    -12.3258430148711
                  ],
                  [
                    -45.902549252047976,
                    -12.325928360176349
                  ],
                  [
                    -45.90253950730306,
                    -12.326013889228829
                  ],
                  [
                    -45.90253125667616,
                    -12.32609957588701
                  ],
                  [
                    -45.9025245027074,
                    -12.326185393958983
                  ],
                  [
                    -45.90251924747614,
                    -12.326271317212168
                  ],
                  [
                    -45.902515492600465,
                    -12.326357319380612
                  ],
                  [
                    -45.90251323923648,
                    -12.326443374173815
                  ],
                  [
                    -45.902512488078045,
                    -12.326529455284637
                  ],
                  [
                    -45.902513239356516,
                    -12.326615536397611
                  ],
                  [
                    -45.90251549284062,
                    -12.326701591197489
                  ],
                  [
                    -45.90251924783658,
                    -12.326787593376949
                  ],
                  [
                    -45.90252450318835,
                    -12.3268735166454
                  ],
                  [
                    -45.90253125727796,
                    -12.326959334737072
                  ],
                  [
                    -45.90253950802606,
                    -12.327045021418957
                  ],
                  [
                    -45.902549252892655,
                    -12.327130550499497
                  ],
                  [
                    -45.90256048887784,
                    -12.327215895836316
                  ],
                  [
                    -45.902573212522945,
                    -12.327301031344952
                  ],
                  [
                    -45.902587419911505,
                    -12.327385931006601
                  ],
                  [
                    -45.90260310667073,
                    -12.327470568876583
                  ],
                  [
                    -45.90262026797282,
                    -12.327554919092156
                  ],
                  [
                    -45.9026388985365,
                    -12.327638955880305
                  ],
                  [
                    -45.902658992629156,
                    -12.327722653567683
                  ],
                  [
                    -45.90268054406801,
                    -12.327805986585238
                  ],
                  [
                    -45.902703546223016,
                    -12.32788892947993
                  ],
                  [
                    -45.90272799201827,
                    -12.327971456919586
                  ],
                  [
                    -45.90275387393487,
                    -12.328053543702858
                  ],
                  [
                    -45.902781184013264,
                    -12.328135164766431
                  ],
                  [
                    -45.90280991385565,
                    -12.328216295192181
                  ],
                  [
                    -45.902840054628605,
                    -12.328296910214792
                  ],
                  [
                    -45.90287159706729,
                    -12.328376985232788
                  ],
                  [
                    -45.9029045314761,
                    -12.328456495809778
                  ],
                  [
                    -45.90293884773443,
                    -12.328535417688975
                  ],
                  [
                    -45.9029745352977,
                    -12.328613726794712
                  ],
                  [
                    -45.903011583203075,
                    -12.328691399245367
                  ],
                  [
                    -45.90304998007067,
                    -12.32876841135545
                  ],
                  [
                    -45.903089714108944,
                    -12.328844739646408
                  ],
                  [
                    -45.90313077311825,
                    -12.328920360853319
                  ],
                  [
                    -45.90317314449459,
                    -12.32899525193142
                  ],
                  [
                    -45.90321681523285,
                    -12.329069390061871
                  ],
                  [
                    -45.90326177193301,
                    -12.329142752662019
                  ],
                  [
                    -45.90330800080271,
                    -12.329215317389393
                  ],
                  [
                    -45.903355487662175,
                    -12.329287062149232
                  ],
                  [
                    -45.90340421795039,
                    -12.329357965103618
                  ],
                  [
                    -45.90345417672607,
                    -12.32942800467262
                  ],
                  [
                    -45.903505348676354,
                    -12.329497159546396
                  ],
                  [
                    -45.90355771812083,
                    -12.329565408690392
                  ],
                  [
                    -45.90361126901379,
                    -12.32963273134779
                  ],
                  [
                    -45.903665984952966,
                    -12.329699107050766
                  ],
                  [
                    -45.90372184918296,
                    -12.329764515624017
                  ],
                  [
                    -45.90377884460162,
                    -12.329828937192193
                  ],
                  [
                    -45.90383695376266,
                    -12.329892352182458
                  ],
                  [
                    -45.903896158886354,
                    -12.329954741336316
                  ],
                  [
                    -45.90395644186007,
                    -12.330016085709426
                  ],
                  [
                    -45.904017784246236,
                    -12.33007636667995
                  ],
                  [
                    -45.904080167289365,
                    -12.330135565954922
                  ],
                  [
                    -45.90414357191911,
                    -12.330193665573125
                  ],
                  [
                    -45.90420797875878,
                    -12.330250647912571
                  ],
                  [
                    -45.90427336813082,
                    -12.330306495695153
                  ],
                  [
                    -45.90433972006128,
                    -12.330361191990177
                  ],
                  [
                    -45.90440701428794,
                    -12.330414720221064
                  ],
                  [
                    -45.904475230266996,
                    -12.330467064170263
                  ],
                  [
                    -45.904544347178074,
                    -12.330518207982859
                  ],
                  [
                    -45.90461434393051,
                    -12.330568136171255
                  ],
                  [
                    -45.90468519917194,
                    -12.330616833620782
                  ],
                  [
                    -45.904756891291086,
                    -12.330664285591721
                  ],
                  [
                    -45.904829398430046,
                    -12.330710477727134
                  ],
                  [
                    -45.9049026984868,
                    -12.330755396054169
                  ],
                  [
                    -45.90497676911984,
                    -12.330799026986828
                  ],
                  [
                    -45.90505158776484,
                    -12.330841357335755
                  ],
                  [
                    -45.90512713162835,
                    -12.330882374304105
                  ],
                  [
                    -45.90520337770567,
                    -12.330922065497548
                  ],
                  [
                    -45.90528030278061,
                    -12.330960418923661
                  ],
                  [
                    -45.90535788343925,
                    -12.33099742299882
                  ],
                  [
                    -45.905436096068684,
                    -12.331033066547375
                  ],
                  [
                    -45.90551491687267,
                    -12.331067338808674
                  ],
                  [
                    -45.90559432187178,
                    -12.331100229437062
                  ],
                  [
                    -45.90567428691833,
                    -12.331131728507874
                  ],
                  [
                    -45.90575478769148,
                    -12.331161826515359
                  ],
                  [
                    -45.90583579972141,
                    -12.331190514381829
                  ],
                  [
                    -45.90591729837985,
                    -12.331217783453898
                  ],
                  [
                    -45.90599925889791,
                    -12.331243625508687
                  ],
                  [
                    -45.90608165637087,
                    -12.3312680327551
                  ],
                  [
                    -45.906164465765926,
                    -12.33129099783605
                  ],
                  [
                    -45.90624766192386,
                    -12.331312513828847
                  ],
                  [
                    -45.906331219580956,
                    -12.331332574251062
                  ],
                  [
                    -45.90641511335744,
                    -12.331351173057271
                  ],
                  [
                    -45.90649931778091,
                    -12.3313683046447
                  ],
                  [
                    -45.90658380728432,
                    -12.331383963852513
                  ],
                  [
                    -45.906668556219394,
                    -12.331398145964453
                  ],
                  [
                    -45.906753538861054,
                    -12.33141084670943
                  ],
                  [
                    -45.90683872941304,
                    -12.331422062262508
                  ],
                  [
                    -45.90692410202124,
                    -12.331431789246706
                  ],
                  [
                    -45.907009630777985,
                    -12.331440024733476
                  ],
                  [
                    -45.90709528972672,
                    -12.331446766243136
                  ],
                  [
                    -45.90718105287485,
                    -12.331452011746157
                  ],
                  [
                    -45.90726689420174,
                    -12.3314557596636
                  ],
                  [
                    -45.90735278765756,
                    -12.331458008867052
                  ],
                  [
                    -45.90743870718372,
                    -12.331458758679535
                  ],
                  [
                    -45.907524626710206,
                    -12.331458008875293
                  ],
                  [
                    -45.90761052016678,
                    -12.331455759680084
                  ],
                  [
                    -45.90769636149334,
                    -12.331452011770912
                  ],
                  [
                    -45.90778212464309,
                    -12.331446766276022
                  ],
                  [
                    -45.907867783594526,
                    -12.331440024774409
                  ],
                  [
                    -45.90795331235118,
                    -12.331431789295928
                  ],
                  [
                    -45.90803868496139,
                    -12.331422062319737
                  ],
                  [
                    -45.90812387551602,
                    -12.33141084677457
                  ],
                  [
                    -45.908208858160215,
                    -12.331398146037463
                  ],
                  [
                    -45.90829360709778,
                    -12.331383963933364
                  ],
                  [
                    -45.90837809660459,
                    -12.331368304733157
                  ],
                  [
                    -45.90846230103087,
                    -12.331351173153413
                  ],
                  [
                    -45.90854619481194,
                    -12.33133257435445
                  ],
                  [
                    -45.908629752471725,
                    -12.331312513939855
                  ],
                  [
                    -45.908712948634765,
                    -12.331290997954017
                  ],
                  [
                    -45.908795758034024,
                    -12.331268032880176
                  ],
                  [
                    -45.90887815551136,
                    -12.331243625640719
                  ],
                  [
                    -45.90896011603401,
                    -12.331217783592745
                  ],
                  [
                    -45.909041614698374,
                    -12.331190514526966
                  ],
                  [
                    -45.9091226267323,
                    -12.331161826667346
                  ],
                  [
                    -45.909203127512725,
                    -12.331131728665419
                  ],
                  [
                    -45.90928309256327,
                    -12.331100229601297
                  ],
                  [
                    -45.909362497569674,
                    -12.331067338978166
                  ],
                  [
                    -45.90944131837971,
                    -12.331033066722501
                  ],
                  [
                    -45.909519531015306,
                    -12.330997423179442
                  ],
                  [
                    -45.909597111680974,
                    -12.3309604191092
                  ],
                  [
                    -45.90967403676208,
                    -12.330922065688288
                  ],
                  [
                    -45.90975028284687,
                    -12.330882374499256
                  ],
                  [
                    -45.90982582671705,
                    -12.330841357535562
                  ],
                  [
                    -45.909900645369575,
                    -12.330799027190665
                  ],
                  [
                    -45.90997471601016,
                    -12.33075539626185
                  ],
                  [
                    -45.91004801607428,
                    -12.33071047793861
                  ],
                  [
                    -45.91012052322028,
                    -12.330664285807021
                  ],
                  [
                    -45.910192215348296,
                    -12.330616833838505
                  ],
                  [
                    -45.91026307059724,
                    -12.33056813639211
                  ],
                  [
                    -45.9103330673571,
                    -12.33051820820675
                  ],
                  [
                    -45.910402184276506,
                    -12.330467064396256
                  ],
                  [
                    -45.91047040026361,
                    -12.330414720449198
                  ],
                  [
                    -45.91053769449909,
                    -12.330361192219627
                  ],
                  [
                    -45.91060404643748,
                    -12.33030649592638
                  ],
                  [
                    -45.9106694358175,
                    -12.330250648145288
                  ],
                  [
                    -45.91073384266615,
                    -12.33019366580623
                  ],
                  [
                    -45.91079724730384,
                    -12.330135566189078
                  ],
                  [
                    -45.91085963035547,
                    -12.330076366914343
                  ],
                  [
                    -45.9109209727502,
                    -12.330016085943754
                  ],
                  [
                    -45.91098125573218,
                    -12.329954741570546
                  ],
                  [
                    -45.91104046086366,
                    -12.32989235241682
                  ],
                  [
                    -45.911098570034014,
                    -12.329828937424718
                  ],
                  [
                    -45.91115556546031,
                    -12.329764515856247
                  ],
                  [
                    -45.911211429698994,
                    -12.329699107281197
                  ],
                  [
                    -45.9112661456466,
                    -12.329632731576337
                  ],
                  [
                    -45.911319696547324,
                    -12.329565408917507
                  ],
                  [
                    -45.91137206599952,
                    -12.329497159771826
                  ],
                  [
                    -45.9114232379584,
                    -12.329428004894764
                  ],
                  [
                    -45.91147319674194,
                    -12.329357965323117
                  ],
                  [
                    -45.911521927037334,
                    -12.32928706236662
                  ],
                  [
                    -45.91156941390527,
                    -12.329215317602346
                  ],
                  [
                    -45.91161564278217,
                    -12.329142752872057
                  ],
                  [
                    -45.91166059948962,
                    -12.329069390268362
                  ],
                  [
                    -45.91170427023549,
                    -12.328995252133396
                  ],
                  [
                    -45.91174664161871,
                    -12.328920361051475
                  ],
                  [
                    -45.911787700635095,
                    -12.328844739839905
                  ],
                  [
                    -45.91182743468005,
                    -12.328768411544477
                  ],
                  [
                    -45.91186583155448,
                    -12.328691399429093
                  ],
                  [
                    -45.91190287946627,
                    -12.32861372697335
                  ],
                  [
                    -45.91193856703585,
                    -12.32853541786217
                  ],
                  [
                    -45.91197288330013,
                    -12.328456495977662
                  ],
                  [
                    -45.91200581771498,
                    -12.32837698539448
                  ],
                  [
                    -45.91203736015914,
                    -12.328296910370975
                  ],
                  [
                    -45.912067500937674,
                    -12.328216295341825
                  ],
                  [
                    -45.91209623078526,
                    -12.328135164909776
                  ],
                  [
                    -45.91212354086852,
                    -12.328053543840072
                  ],
                  [
                    -45.91214942278991,
                    -12.32797145704998
                  ],
                  [
                    -45.912173868589804,
                    -12.32788892960307
                  ],
                  [
                    -45.91219687074892,
                    -12.32780598670192
                  ],
                  [
                    -45.91221842219194,
                    -12.327722653676705
                  ],
                  [
                    -45.91223851628825,
                    -12.32763895598252
                  ],
                  [
                    -45.91225714685547,
                    -12.327554919186749
                  ],
                  [
                    -45.91227430816078,
                    -12.327470568963742
                  ],
                  [
                    -45.91228999492294,
                    -12.327385931086331
                  ],
                  [
                    -45.91230420231424,
                    -12.327301031416756
                  ],
                  [
                    -45.91231692596175,
                    -12.32721589590046
                  ],
                  [
                    -45.91232816194908,
                    -12.327130550555765
                  ],
                  [
                    -45.91233790681753,
                    -12.327045021467328
                  ],
                  [
                    -45.91234615756719,
                    -12.326959334777548
                  ],
                  [
                    -45.912352911658104,
                    -12.32687351667778
                  ],
                  [
                    -45.91235816701088,
                    -12.326787593401242
                  ],
                  [
                    -45.91236192200756,
                    -12.32670159121371
                  ],
                  [
                    -45.912364175492094,
                    -12.326615536405756
                  ],
                  [
                    -45.912364926770714,
                    -12.326529455284616
                  ],
                  [
                    -45.91236417561213,
                    -12.326443374165736
                  ],
                  [
                    -45.912361922247726,
                    -12.326357319364385
                  ],
                  [
                    -45.91235816737132,
                    -12.326271317187823
                  ],
                  [
                    -45.91235291213907,
                    -12.326185393926698
                  ],
                  [
                    -45.912346158168994,
                    -12.326099575846563
                  ],
                  [
                    -45.91233790754052,
                    -12.32601388918045
                  ],
                  [
                    -45.91232816279374,
                    -12.32592836011993
                  ],
                  [
                    -45.912316926928575,
                    -12.325843014807083
                  ],
                  [
                    -45.912304203403764,
                    -12.32575787932617
                  ],
                  [
                    -45.912289996135826,
                    -12.325672979696131
                  ],
                  [
                    -45.91227430949757,
                    -12.32558834186124
                  ],
                  [
                    -45.91225714831682,
                    -12.325503991684077
                  ],
                  [
                    -45.91223851787485,
                    -12.325419954937283
                  ],
                  [
                    -45.912218423904406,
                    -12.325336257294808
                  ],
                  [
                    -45.912196872588034,
                    -12.325252924324381
                  ],
                  [
                    -45.91217387055592,
                    -12.325169981479451
                  ],
                  [
                    -45.9121494248838,
                    -12.325087454091497
                  ],
                  [
                    -45.91212354309074,
                    -12.325005367362357
                  ],
                  [
                    -45.91209623313597,
                    -12.324923746354225
                  ],
                  [
                    -45.91206750341754,
                    -12.324842615985915
                  ],
                  [
                    -45.912037362768146,
                    -12.324762001020728
                  ],
                  [
                    -45.91200582045348,
                    -12.324681926062425
                  ],
                  [
                    -45.91197288616795,
                    -12.324602415544314
                  ],
                  [
                    -45.911938570032994,
                    -12.324523493725374
                  ],
                  [
                    -45.91190288259219,
                    -12.32444518467893
                  ],
                  [
                    -45.91186583480911,
                    -12.324367512288347
                  ],
                  [
                    -45.9118274380625,
                    -12.324290500236815
                  ],
                  [
                    -45.91178770414404,
                    -12.324214172003304
                  ],
                  [
                    -45.91174664525346,
                    -12.324138550853034
                  ],
                  [
                    -45.91170427399469,
                    -12.324063659830754
                  ],
                  [
                    -45.911660603371715,
                    -12.32398952175353
                  ],
                  [
                    -45.911615646784924,
                    -12.323916159204721
                  ],
                  [
                    -45.911569418026566,
                    -12.323843594526926
                  ],
                  [
                    -45.91152193127542,
                    -12.323771849813445
                  ],
                  [
                    -45.91147320109323,
                    -12.323700946903529
                  ],
                  [
                    -45.911423242419744,
                    -12.323630907375136
                  ],
                  [
                    -45.911372070568525,
                    -12.323561752539248
                  ],
                  [
                    -45.91131970121965,
                    -12.323493503430301
                  ],
                  [
                    -45.91126615041814,
                    -12.32342618080432
                  ],
                  [
                    -45.911211434565594,
                    -12.323359805128657
                  ],
                  [
                    -45.91115557041767,
                    -12.323294396579161
                  ],
                  [
                    -45.911098575076636,
                    -12.323229975031603
                  ],
                  [
                    -45.91104046598665,
                    -12.323166560056611
                  ],
                  [
                    -45.91098126092952,
                    -12.323104170915327
                  ],
                  [
                    -45.910920978015724,
                    -12.323042826550031
                  ],
                  [
                    -45.91085963568359,
                    -12.322982545583685
                  ],
                  [
                    -45.91079725268726,
                    -12.322923346308144
                  ],
                  [
                    -45.91073384809801,
                    -12.322865246685874
                  ],
                  [
                    -45.91066944129137,
                    -12.322808264338061
                  ],
                  [
                    -45.91060405194482,
                    -12.322752416543072
                  ],
                  [
                    -45.910537700032904,
                    -12.32269772023233
                  ],
                  [
                    -45.910470405815204,
                    -12.32264419198064
                  ],
                  [
                    -45.91040218983832,
                    -12.322591848008054
                  ],
                  [
                    -45.91033307292023,
                    -12.322540704167901
                  ],
                  [
                    -45.91026307615219,
                    -12.322490775948598
                  ],
                  [
                    -45.91019222088737,
                    -12.322442078465578
                  ],
                  [
                    -45.91012052873426,
                    -12.322394626457035
                  ],
                  [
                    -45.910048021553415,
                    -12.322348434281958
                  ],
                  [
                    -45.90997472144497,
                    -12.322303515912228
                  ],
                  [
                    -45.90990065075073,
                    -12.322259884934368
                  ],
                  [
                    -45.909825832036475,
                    -12.322217554538858
                  ],
                  [
                    -45.90975028809286,
                    -12.322176537521225
                  ],
                  [
                    -45.90967404192655,
                    -12.322136846277184
                  ],
                  [
                    -45.909597116753154,
                    -12.322098492799102
                  ],
                  [
                    -45.90951953598673,
                    -12.322061488670919
                  ],
                  [
                    -45.90944132323958,
                    -12.322025845068337
                  ],
                  [
                    -45.90936250231004,
                    -12.321991572753127
                  ],
                  [
                    -45.90928309717462,
                    -12.321958682069978
                  ],
                  [
                    -45.90920313198573,
                    -12.321927182945688
                  ],
                  [
                    -45.90912263105753,
                    -12.321897084883673
                  ],
                  [
                    -45.90904161886629,
                    -12.321868396964266
                  ],
                  [
                    -45.90896012003932,
                    -12.321841127840633
                  ],
                  [
                    -45.90887815934282,
                    -12.32181528573503
                  ],
                  [
                    -45.908795761683706,
                    -12.321790878439431
                  ],
                  [
                    -45.908712952096955,
                    -12.321767913311758
                  ],
                  [
                    -45.9086297557378,
                    -12.321746397273762
                  ],
                  [
                    -45.90854619787516,
                    -12.321726336809382
                  ],
                  [
                    -45.90846230388492,
                    -12.321707737963258
                  ],
                  [
                    -45.90837809924361,
                    -12.321690606339205
                  ],
                  [
                    -45.90829360951569,
                    -12.321674947097703
                  ],
                  [
                    -45.90820886035085,
                    -12.321660764955377
                  ],
                  [
                    -45.90812387747575,
                    -12.321648064183686
                  ],
                  [
                    -45.908038686686005,
                    -12.321636848607579
                  ],
                  [
                    -45.90795331383665,
                    -12.321627121604221
                  ],
                  [
                    -45.90786778483642,
                    -12.321618886102382
                  ],
                  [
                    -45.907782125641106,
                    -12.321612144581689
                  ],
                  [
                    -45.90769636224438,
                    -12.321606899071824
                  ],
                  [
                    -45.9076105206672,
                    -12.321603151151795
                  ],
                  [
                    -45.9075246269614,
                    -12.321600901950104
                  ],
                  [
                    -45.90743870718317,
                    -12.32160015214368
                  ]
                ]
              ],
              "type": "Polygon"
            },
            "hover_style": {
              "color": "IndianRed",
              "fillOpacity": 0.1,
              "opacity": 1,
              "weight": 5
            },
            "layers": [],
            "name": "Polígono da Gleba",
            "options": [],
            "pane": "",
            "point_style": {},
            "popup": null,
            "popup_max_height": null,
            "popup_max_width": 300,
            "popup_min_width": 50,
            "style": {
              "color": "SteelBlue",
              "fillOpacity": 0.1,
              "opacity": 1,
              "weight": 5
            },
            "subitems": [],
            "visible": true
          }
        },
        "3c8f5650e9754b0ca11df2a9c179341c": {
          "model_module": "jupyter-leaflet",
          "model_module_version": "^0.19",
          "model_name": "LeafletFullScreenControlModel",
          "state": {
            "_model_module": "jupyter-leaflet",
            "_model_module_version": "^0.19",
            "_model_name": "LeafletFullScreenControlModel",
            "_view_count": null,
            "_view_module": "jupyter-leaflet",
            "_view_module_version": "^0.19",
            "_view_name": "LeafletFullScreenControlView",
            "options": [
              "position"
            ],
            "position": "topleft"
          }
        },
        "4126d52c9616435f94927951cc6b7059": {
          "model_module": "jupyter-leaflet",
          "model_module_version": "^0.19",
          "model_name": "LeafletGeoJSONModel",
          "state": {
            "_model_module": "jupyter-leaflet",
            "_model_module_version": "^0.19",
            "_model_name": "LeafletGeoJSONModel",
            "_view_count": null,
            "_view_module": "jupyter-leaflet",
            "_view_module_version": "^0.19",
            "_view_name": "LeafletGeoJSONView",
            "base": false,
            "bottom": false,
            "data": {
              "features": [
                {
                  "geometry": {
                    "coordinates": [
                      [
                        [
                          -46.008376087827,
                          -12.340305125329307
                        ],
                        [
                          -46.00871223004139,
                          -12.34016687337496
                        ],
                        [
                          -46.00872784708004,
                          -12.340045841950916
                        ],
                        [
                          -46.00883324275775,
                          -12.335822604963711
                        ],
                        [
                          -46.008833289902434,
                          -12.335821004755704
                        ],
                        [
                          -46.0090213514651,
                          -12.330284586225499
                        ],
                        [
                          -46.008983680882714,
                          -12.330033447891369
                        ],
                        [
                          -46.00877793808323,
                          -12.329686256588182
                        ],
                        [
                          -46.00838334281452,
                          -12.329383263675524
                        ],
                        [
                          -46.008374701848695,
                          -12.329376200379361
                        ],
                        [
                          -46.00822137473664,
                          -12.329242872429841
                        ],
                        [
                          -46.00809404953775,
                          -12.329184997336354
                        ],
                        [
                          -46.007739455193814,
                          -12.329090921290705
                        ],
                        [
                          -46.00773369483398,
                          -12.329089293575699
                        ],
                        [
                          -46.00735647234783,
                          -12.328976126845381
                        ],
                        [
                          -46.00733547950172,
                          -12.328968425972093
                        ],
                        [
                          -46.00667911242796,
                          -12.32868173691164
                        ],
                        [
                          -46.006667570241234,
                          -12.328676213527128
                        ],
                        [
                          -46.00632052560274,
                          -12.328495146751349
                        ],
                        [
                          -46.00630006662296,
                          -12.32848272276204
                        ],
                        [
                          -46.00607373319649,
                          -12.328324289335134
                        ],
                        [
                          -46.006059455641086,
                          -12.3283132095095
                        ],
                        [
                          -46.00604636097201,
                          -12.3283007972769
                        ],
                        [
                          -46.00573015803779,
                          -12.327969887097504
                        ],
                        [
                          -46.00547843324704,
                          -12.327767108742526
                        ],
                        [
                          -46.00531493637766,
                          -12.327671265758214
                        ],
                        [
                          -46.00517027241384,
                          -12.327671265756702
                        ],
                        [
                          -46.00492189386439,
                          -12.32771384494286
                        ],
                        [
                          -46.00491770652084,
                          -12.32771451394107
                        ],
                        [
                          -46.004510306227644,
                          -12.32777486956213
                        ],
                        [
                          -46.00448968615361,
                          -12.327776764995185
                        ],
                        [
                          -46.00446898007626,
                          -12.327776369113622
                        ],
                        [
                          -46.004448450533474,
                          -12.327773686936881
                        ],
                        [
                          -46.00408631693127,
                          -12.327705786905268
                        ],
                        [
                          -46.00406219183807,
                          -12.327699570931742
                        ],
                        [
                          -46.00322099260249,
                          -12.3274216747932
                        ],
                        [
                          -46.002719345059866,
                          -12.32727941655234
                        ],
                        [
                          -46.00270131593149,
                          -12.32727329158099
                        ],
                        [
                          -46.0026840289713,
                          -12.327265363535124
                        ],
                        [
                          -46.00266767012362,
                          -12.327255717691447
                        ],
                        [
                          -46.00220106363136,
                          -12.326947155289398
                        ],
                        [
                          -46.002013613215084,
                          -12.326827187006183
                        ],
                        [
                          -46.001997857408995,
                          -12.326815890543818
                        ],
                        [
                          -46.00198340655903,
                          -12.326803017417378
                        ],
                        [
                          -46.00197042310549,
                          -12.326788712332327
                        ],
                        [
                          -46.001959052993804,
                          -12.326773136090607
                        ],
                        [
                          -46.00174951032956,
                          -12.326451338164482
                        ],
                        [
                          -46.00141473571867,
                          -12.325974105972465
                        ],
                        [
                          -46.001214723889866,
                          -12.325832162053617
                        ],
                        [
                          -46.000922714938774,
                          -12.325669180315503
                        ],
                        [
                          -46.00069005289762,
                          -12.325617477644423
                        ],
                        [
                          -46.00006895917802,
                          -12.325565719853174
                        ],
                        [
                          -46.000051868369475,
                          -12.325563498337523
                        ],
                        [
                          -45.999455856814336,
                          -12.325457876067706
                        ],
                        [
                          -45.99944280145051,
                          -12.325455077508275
                        ],
                        [
                          -45.99876170520528,
                          -12.32528337291642
                        ],
                        [
                          -45.99860841610099,
                          -12.3279520286536
                        ],
                        [
                          -45.99824637834636,
                          -12.336339372492668
                        ],
                        [
                          -45.99810945567165,
                          -12.340367864132885
                        ],
                        [
                          -46.008376087827,
                          -12.340305125329307
                        ]
                      ]
                    ],
                    "type": "Polygon"
                  },
                  "id": "0",
                  "properties": {
                    "Apr_2020": "Cotton",
                    "Aug_2020": "Cotton",
                    "Dec_2019": "Uncultivated soil",
                    "Feb_2020": "Uncultivated soil",
                    "Jan_2020": "Uncultivated soil",
                    "Jul_2020": "Cotton",
                    "Jun_2020": "Cotton",
                    "Mar_2020": "Cotton",
                    "May_2020": "Cotton",
                    "Note": null,
                    "Nov_2019": "Uncultivated soil",
                    "Oct_2019": "Uncultivated soil",
                    "Sep_2020": "Uncultivated soil",
                    "id": "367"
                  },
                  "type": "Feature"
                },
                {
                  "geometry": {
                    "coordinates": [
                      [
                        [
                          -45.99735838312791,
                          -12.348403112564691
                        ],
                        [
                          -45.99819340845196,
                          -12.322980118126479
                        ],
                        [
                          -45.997949998636244,
                          -12.32268546388585
                        ],
                        [
                          -45.9979362457624,
                          -12.32266642389049
                        ],
                        [
                          -45.99705443206785,
                          -12.321261499239977
                        ],
                        [
                          -45.99592631104132,
                          -12.320014627993595
                        ],
                        [
                          -45.99481879262249,
                          -12.319071740363047
                        ],
                        [
                          -45.99481385347011,
                          -12.31906737957255
                        ],
                        [
                          -45.99405726045723,
                          -12.318374725015719
                        ],
                        [
                          -45.99408194902454,
                          -12.320275630443255
                        ],
                        [
                          -45.99408196401329,
                          -12.320277989459056
                        ],
                        [
                          -45.99407447499871,
                          -12.347417259366349
                        ],
                        [
                          -45.99735838312791,
                          -12.348403112564691
                        ]
                      ]
                    ],
                    "type": "Polygon"
                  },
                  "id": "1",
                  "properties": {
                    "Apr_2020": "Cerrado",
                    "Aug_2020": "Cerrado",
                    "Dec_2019": "Cerrado",
                    "Feb_2020": "Cerrado",
                    "Jan_2020": "Cerrado",
                    "Jul_2020": "Cerrado",
                    "Jun_2020": "Cerrado",
                    "Mar_2020": "Cerrado",
                    "May_2020": "Cerrado",
                    "Note": null,
                    "Nov_2019": "Cerrado",
                    "Oct_2019": "Cerrado",
                    "Sep_2020": "Cerrado",
                    "id": "368"
                  },
                  "type": "Feature"
                },
                {
                  "geometry": {
                    "coordinates": [
                      [
                        [
                          -45.98280855389887,
                          -12.337132474969316
                        ],
                        [
                          -45.973232082173986,
                          -12.333368735918254
                        ],
                        [
                          -45.973103240109744,
                          -12.340770298042244
                        ],
                        [
                          -45.978537223349875,
                          -12.342360730775683
                        ],
                        [
                          -45.97853814103069,
                          -12.342361001914346
                        ],
                        [
                          -45.982608560030414,
                          -12.343574988770406
                        ],
                        [
                          -45.98280855389887,
                          -12.337132474969316
                        ]
                      ]
                    ],
                    "type": "Polygon"
                  },
                  "id": "2",
                  "properties": {
                    "Apr_2020": "Uncultivated soil",
                    "Aug_2020": "Sorghum",
                    "Dec_2019": "Uncultivated soil",
                    "Feb_2020": "Soybean",
                    "Jan_2020": "Soybean",
                    "Jul_2020": "Sorghum",
                    "Jun_2020": "Sorghum",
                    "Mar_2020": "Uncultivated soil",
                    "May_2020": "Uncultivated soil",
                    "Note": null,
                    "Nov_2019": "Uncultivated soil",
                    "Oct_2019": "Uncultivated soil",
                    "Sep_2020": "Sorghum",
                    "id": "379"
                  },
                  "type": "Feature"
                },
                {
                  "geometry": {
                    "coordinates": [
                      [
                        [
                          -45.993534693428444,
                          -12.346726647742393
                        ],
                        [
                          -45.993592837866565,
                          -12.342169830005899
                        ],
                        [
                          -45.99356198323236,
                          -12.342111548962936
                        ],
                        [
                          -45.993072737080055,
                          -12.34168520572459
                        ],
                        [
                          -45.983445490637365,
                          -12.336127366155592
                        ],
                        [
                          -45.98336125704688,
                          -12.337967573938512
                        ],
                        [
                          -45.98327281875712,
                          -12.343627873486017
                        ],
                        [
                          -45.985330927633726,
                          -12.344323371829411
                        ],
                        [
                          -45.993534693428444,
                          -12.346726647742393
                        ]
                      ]
                    ],
                    "type": "Polygon"
                  },
                  "id": "3",
                  "properties": {
                    "Apr_2020": "Uncultivated soil",
                    "Aug_2020": "Uncultivated soil",
                    "Dec_2019": "Uncultivated soil",
                    "Feb_2020": "Soybean",
                    "Jan_2020": "Soybean",
                    "Jul_2020": "Millet",
                    "Jun_2020": "Millet",
                    "Mar_2020": "Soybean",
                    "May_2020": "Uncultivated soil",
                    "Note": null,
                    "Nov_2019": "Uncultivated soil",
                    "Oct_2019": "Uncultivated soil",
                    "Sep_2020": "Uncultivated soil",
                    "id": "380"
                  },
                  "type": "Feature"
                },
                {
                  "geometry": {
                    "coordinates": [
                      [
                        [
                          -45.982849170833255,
                          -12.335568321541302
                        ],
                        [
                          -45.97324213777094,
                          -12.332655664143322
                        ],
                        [
                          -45.97323816942957,
                          -12.332981623407012
                        ],
                        [
                          -45.982819084775954,
                          -12.336747115398842
                        ],
                        [
                          -45.982849170833255,
                          -12.335568321541302
                        ]
                      ]
                    ],
                    "type": "Polygon"
                  },
                  "id": "4",
                  "properties": {
                    "Apr_2020": "Uncultivated soil",
                    "Aug_2020": "Sorghum",
                    "Dec_2019": "Uncultivated soil",
                    "Feb_2020": "Soybean",
                    "Jan_2020": "Soybean",
                    "Jul_2020": "Sorghum",
                    "Jun_2020": "Sorghum",
                    "Mar_2020": "Uncultivated soil",
                    "May_2020": "Uncultivated soil",
                    "Note": null,
                    "Nov_2019": "Uncultivated soil",
                    "Oct_2019": "Uncultivated soil",
                    "Sep_2020": "Sorghum",
                    "id": "381"
                  },
                  "type": "Feature"
                },
                {
                  "geometry": {
                    "coordinates": [
                      [
                        [
                          -45.9727128077767,
                          -12.324453062523439
                        ],
                        [
                          -45.9728138601437,
                          -12.31642706312149
                        ],
                        [
                          -45.968264180135485,
                          -12.31616189811851
                        ],
                        [
                          -45.9682353112069,
                          -12.324160141775762
                        ],
                        [
                          -45.9727128077767,
                          -12.324453062523439
                        ]
                      ]
                    ],
                    "type": "Polygon"
                  },
                  "id": "5",
                  "properties": {
                    "Apr_2020": "Corn",
                    "Aug_2020": "Brachiaria",
                    "Dec_2019": "Uncultivated soil",
                    "Feb_2020": "Corn",
                    "Jan_2020": "Corn",
                    "Jul_2020": "Brachiaria",
                    "Jun_2020": "Brachiaria",
                    "Mar_2020": "Corn",
                    "May_2020": "Corn",
                    "Note": null,
                    "Nov_2019": "Uncultivated soil",
                    "Oct_2019": "Uncultivated soil",
                    "Sep_2020": "Brachiaria",
                    "id": "382"
                  },
                  "type": "Feature"
                },
                {
                  "geometry": {
                    "coordinates": [
                      [
                        [
                          -45.97268929654448,
                          -12.329176884117187
                        ],
                        [
                          -45.97269785885005,
                          -12.32725533367379
                        ],
                        [
                          -45.97269788535307,
                          -12.327252955546966
                        ],
                        [
                          -45.97273758403907,
                          -12.325026937186344
                        ],
                        [
                          -45.96822859708106,
                          -12.324646829692755
                        ],
                        [
                          -45.9681311081459,
                          -12.332836381970056
                        ],
                        [
                          -45.97262727203067,
                          -12.333131442832935
                        ],
                        [
                          -45.97268929654448,
                          -12.329176884117187
                        ]
                      ]
                    ],
                    "type": "Polygon"
                  },
                  "id": "6",
                  "properties": {
                    "Apr_2020": "Uncultivated soil",
                    "Aug_2020": "Millet",
                    "Dec_2019": "Uncultivated soil",
                    "Feb_2020": "Soybean",
                    "Jan_2020": "Soybean",
                    "Jul_2020": "Millet",
                    "Jun_2020": "Millet",
                    "Mar_2020": "Soybean",
                    "May_2020": "Uncultivated soil",
                    "Note": null,
                    "Nov_2019": "Uncultivated soil",
                    "Oct_2019": "Uncultivated soil",
                    "Sep_2020": "Uncultivated soil",
                    "id": "383"
                  },
                  "type": "Feature"
                },
                {
                  "geometry": {
                    "coordinates": [
                      [
                        [
                          [
                            -45.97262136884888,
                            -12.333493536728152
                          ],
                          [
                            -45.969093522476996,
                            -12.3332620286876
                          ],
                          [
                            -45.972608772756786,
                            -12.33423513965075
                          ],
                          [
                            -45.97262136884888,
                            -12.333493536728152
                          ]
                        ]
                      ],
                      [
                        [
                          [
                            -45.972606531948855,
                            -12.334729501988138
                          ],
                          [
                            -45.9681207655417,
                            -12.33347376755391
                          ],
                          [
                            -45.96801095770721,
                            -12.339187526985306
                          ],
                          [
                            -45.97252153645926,
                            -12.340558492964242
                          ],
                          [
                            -45.972606531948855,
                            -12.334729501988138
                          ]
                        ]
                      ]
                    ],
                    "type": "MultiPolygon"
                  },
                  "id": "7",
                  "properties": {
                    "Apr_2020": "Uncultivated soil",
                    "Aug_2020": "Millet",
                    "Dec_2019": "Uncultivated soil",
                    "Feb_2020": "Soybean",
                    "Jan_2020": "Soybean",
                    "Jul_2020": "Millet",
                    "Jun_2020": "Millet",
                    "Mar_2020": "Uncultivated soil",
                    "May_2020": "Uncultivated soil",
                    "Note": null,
                    "Nov_2019": "Uncultivated soil",
                    "Oct_2019": "Not identified",
                    "Sep_2020": "Uncultivated soil",
                    "id": "384"
                  },
                  "type": "Feature"
                },
                {
                  "geometry": {
                    "coordinates": [
                      [
                        [
                          -45.95505637251555,
                          -12.341568750382606
                        ],
                        [
                          -45.95508765738288,
                          -12.340830439519824
                        ],
                        [
                          -45.955087675071105,
                          -12.340830033077543
                        ],
                        [
                          -45.955285241700274,
                          -12.336406805401017
                        ],
                        [
                          -45.954271771357995,
                          -12.336082827445447
                        ],
                        [
                          -45.95419914765342,
                          -12.338749224261944
                        ],
                        [
                          -45.95419776755794,
                          -12.338767014655723
                        ],
                        [
                          -45.954194611086486,
                          -12.338784584749796
                        ],
                        [
                          -45.95418970896476,
                          -12.33880176351149
                        ],
                        [
                          -45.95418310891119,
                          -12.338818383717426
                        ],
                        [
                          -45.954174875172406,
                          -12.338834283581354
                        ],
                        [
                          -45.95416508789792,
                          -12.338849308329026
                        ],
                        [
                          -45.95415384235986,
                          -12.338863311704811
                        ],
                        [
                          -45.954141248025614,
                          -12.338876157395434
                        ],
                        [
                          -45.95412742749224,
                          -12.338887720356837
                        ],
                        [
                          -45.95411251529303,
                          -12.338897888031447
                        ],
                        [
                          -45.95409665658801,
                          -12.338906561443865
                        ],
                        [
                          -45.954080005750804,
                          -12.338913656164264
                        ],
                        [
                          -45.95406272486596,
                          -12.338919103130348
                        ],
                        [
                          -45.95404498215118,
                          -12.33892284931956
                        ],
                        [
                          -45.95402695031976,
                          -12.338924858265232
                        ],
                        [
                          -45.95384588351751,
                          -12.33893617494941
                        ],
                        [
                          -45.95382792518989,
                          -12.33893643347134
                        ],
                        [
                          -45.953810026831555,
                          -12.338934968745072
                        ],
                        [
                          -45.953792359099076,
                          -12.33893179473637
                        ],
                        [
                          -45.953775090450044,
                          -12.33892694170864
                        ],
                        [
                          -45.953758385536894,
                          -12.338920455934304
                        ],
                        [
                          -45.95374240363693,
                          -12.338912399253651
                        ],
                        [
                          -45.95372729713365,
                          -12.338902848485176
                        ],
                        [
                          -45.953713210063846,
                          -12.338891894693125
                        ],
                        [
                          -45.95370027674419,
                          -12.33887964231923
                        ],
                        [
                          -45.95368862049058,
                          -12.33886620818687
                        ],
                        [
                          -45.95367835244237,
                          -12.338851720387236
                        ],
                        [
                          -45.95366957050262,
                          -12.338836317057883
                        ],
                        [
                          -45.95366235840472,
                          -12.338820145065753
                        ],
                        [
                          -45.95365678491394,
                          -12.338803358606741
                        ],
                        [
                          -45.9536529031718,
                          -12.338786117735555
                        ],
                        [
                          -45.9536507501894,
                          -12.338768586839489
                        ],
                        [
                          -45.953650346494534,
                          -12.338750933071218
                        ],
                        [
                          -45.95372846408146,
                          -12.33583833876384
                        ],
                        [
                          -45.95372503008824,
                          -12.335830783970115
                        ],
                        [
                          -45.95287875867988,
                          -12.335615068011268
                        ],
                        [
                          -45.95267667505428,
                          -12.341603249173351
                        ],
                        [
                          -45.95424152769688,
                          -12.341869274321285
                        ],
                        [
                          -45.954274328424134,
                          -12.34162873688163
                        ],
                        [
                          -45.954277526455186,
                          -12.34161160057787
                        ],
                        [
                          -45.95428238689196,
                          -12.341594846369517
                        ],
                        [
                          -45.954288864620835,
                          -12.341578629764774
                        ],
                        [
                          -45.95429689951694,
                          -12.341563101281851
                        ],
                        [
                          -45.95430641700223,
                          -12.341548405052023
                        ],
                        [
                          -45.954317328737694,
                          -12.341534677481762
                        ],
                        [
                          -45.954329533443314,
                          -12.341522045986673
                        ],
                        [
                          -45.954342917838126,
                          -12.341510627808859
                        ],
                        [
                          -45.95435735769166,
                          -12.341500528928732
                        ],
                        [
                          -45.954372718977005,
                          -12.341491843081355
                        ],
                        [
                          -45.954388859114836,
                          -12.341484650886342
                        ],
                        [
                          -45.95440562829675,
                          -12.341479019099662
                        ],
                        [
                          -45.954422870875796,
                          -12.341474999993972
                        ],
                        [
                          -45.9544404268111,
                          -12.341472630873492
                        ],
                        [
                          -45.9547007099893,
                          -12.341449997566661
                        ],
                        [
                          -45.95471791845785,
                          -12.341449297070618
                        ],
                        [
                          -45.95473511812624,
                          -12.34145018216123
                        ],
                        [
                          -45.9547521581868,
                          -12.341452645077931
                        ],
                        [
                          -45.954768889231296,
                          -12.34145666422571
                        ],
                        [
                          -45.95478516456095,
                          -12.341462204364424
                        ],
                        [
                          -45.95505637251555,
                          -12.341568750382606
                        ]
                      ]
                    ],
                    "type": "Polygon"
                  },
                  "id": "8",
                  "properties": {
                    "Apr_2020": "Not identified",
                    "Aug_2020": "Millet",
                    "Dec_2019": "Not identified",
                    "Feb_2020": "Soybean",
                    "Jan_2020": "Soybean",
                    "Jul_2020": "Millet",
                    "Jun_2020": "Millet",
                    "Mar_2020": "Not identified",
                    "May_2020": "Millet",
                    "Note": null,
                    "Nov_2019": "Not identified",
                    "Oct_2019": "Not identified",
                    "Sep_2020": "Millet",
                    "id": "386"
                  },
                  "type": "Feature"
                },
                {
                  "geometry": {
                    "coordinates": [
                      [
                        [
                          -45.946121829073185,
                          -12.33360930902206
                        ],
                        [
                          -45.943747173789724,
                          -12.333550676001698
                        ],
                        [
                          -45.94358207238708,
                          -12.33879380637569
                        ],
                        [
                          -45.94594970613128,
                          -12.338817903849002
                        ],
                        [
                          -45.946121829073185,
                          -12.33360930902206
                        ]
                      ]
                    ],
                    "type": "Polygon"
                  },
                  "id": "9",
                  "properties": {
                    "Apr_2020": "Cerrado",
                    "Aug_2020": "Cerrado",
                    "Dec_2019": "Cerrado",
                    "Feb_2020": "Cerrado",
                    "Jan_2020": "Cerrado",
                    "Jul_2020": "Cerrado",
                    "Jun_2020": "Cerrado",
                    "Mar_2020": "Cerrado",
                    "May_2020": "Cerrado",
                    "Note": null,
                    "Nov_2019": "Cerrado",
                    "Oct_2019": "Cerrado",
                    "Sep_2020": "Cerrado",
                    "id": "387"
                  },
                  "type": "Feature"
                },
                {
                  "geometry": {
                    "coordinates": [
                      [
                        [
                          -45.947720229455804,
                          -12.338840242774072
                        ],
                        [
                          -45.94774996869693,
                          -12.33881050354909
                        ],
                        [
                          -45.94783687191068,
                          -12.333987561031416
                        ],
                        [
                          -45.94705296052317,
                          -12.333710323906478
                        ],
                        [
                          -45.94657168545176,
                          -12.333655986585464
                        ],
                        [
                          -45.94642261922918,
                          -12.338830839994142
                        ],
                        [
                          -45.947720229455804,
                          -12.338840242774072
                        ]
                      ]
                    ],
                    "type": "Polygon"
                  },
                  "id": "10",
                  "properties": {
                    "Apr_2020": "Conversion area",
                    "Aug_2020": "Conversion area",
                    "Dec_2019": "Cerrado",
                    "Feb_2020": "Conversion area",
                    "Jan_2020": "Cerrado",
                    "Jul_2020": "Conversion area",
                    "Jun_2020": "Conversion area",
                    "Mar_2020": "Conversion area",
                    "May_2020": "Conversion area",
                    "Note": null,
                    "Nov_2019": "Cerrado",
                    "Oct_2019": "Cerrado",
                    "Sep_2020": "Conversion area",
                    "id": "388"
                  },
                  "type": "Feature"
                },
                {
                  "geometry": {
                    "coordinates": [
                      [
                        [
                          -45.94500229331765,
                          -12.332974310205627
                        ],
                        [
                          -45.945162371811136,
                          -12.3290854111384
                        ],
                        [
                          -45.94478869458653,
                          -12.329625805129144
                        ],
                        [
                          -45.94477826228198,
                          -12.329639457798711
                        ],
                        [
                          -45.94387292913478,
                          -12.33071454165878
                        ],
                        [
                          -45.943858344730415,
                          -12.330729941002152
                        ],
                        [
                          -45.9429190613539,
                          -12.331612641499007
                        ],
                        [
                          -45.942906453188684,
                          -12.331623455094872
                        ],
                        [
                          -45.942892897765034,
                          -12.331633097468245
                        ],
                        [
                          -45.942878507249624,
                          -12.331641488831579
                        ],
                        [
                          -45.94152207970132,
                          -12.332352519769424
                        ],
                        [
                          -45.94121459659727,
                          -12.332881677792944
                        ],
                        [
                          -45.94500229331765,
                          -12.332974310205627
                        ]
                      ]
                    ],
                    "type": "Polygon"
                  },
                  "id": "11",
                  "properties": {
                    "Apr_2020": "Cerrado",
                    "Aug_2020": "Cerrado",
                    "Dec_2019": "Cerrado",
                    "Feb_2020": "Cerrado",
                    "Jan_2020": "Cerrado",
                    "Jul_2020": "Cerrado",
                    "Jun_2020": "Cerrado",
                    "Mar_2020": "Cerrado",
                    "May_2020": "Cerrado",
                    "Note": null,
                    "Nov_2019": "Cerrado",
                    "Oct_2019": "Cerrado",
                    "Sep_2020": "Cerrado",
                    "id": "389"
                  },
                  "type": "Feature"
                },
                {
                  "geometry": {
                    "coordinates": [
                      [
                        [
                          [
                            -45.960740640926744,
                            -12.337291728047735
                          ],
                          [
                            -45.96083312280823,
                            -12.330458687277872
                          ],
                          [
                            -45.9607885087102,
                            -12.330503301328465
                          ],
                          [
                            -45.96037109358669,
                            -12.33128320939946
                          ],
                          [
                            -45.9603573583533,
                            -12.331304976599894
                          ],
                          [
                            -45.95963309195954,
                            -12.332289527040555
                          ],
                          [
                            -45.95962455187838,
                            -12.332300260065598
                          ],
                          [
                            -45.95961521402063,
                            -12.33231033032768
                          ],
                          [
                            -45.958664614036685,
                            -12.33326093084457
                          ],
                          [
                            -45.95864934854037,
                            -12.333274573825804
                          ],
                          [
                            -45.95764216501539,
                            -12.334078057651361
                          ],
                          [
                            -45.9576240571795,
                            -12.334090796759181
                          ],
                          [
                            -45.957604516391925,
                            -12.334101291208368
                          ],
                          [
                            -45.95611071562544,
                            -12.33479160839935
                          ],
                          [
                            -45.95609582034966,
                            -12.334797722327838
                          ],
                          [
                            -45.956080437244374,
                            -12.334802528738855
                          ],
                          [
                            -45.95606468478104,
                            -12.334805990616292
                          ],
                          [
                            -45.953993733312146,
                            -12.335168124315857
                          ],
                          [
                            -45.95397770596194,
                            -12.335170217208155
                          ],
                          [
                            -45.95396155359762,
                            -12.335170918160953
                          ],
                          [
                            -45.95394540102965,
                            -12.335170221757938
                          ],
                          [
                            -45.953744470265164,
                            -12.33515283389659
                          ],
                          [
                            -45.960740640926744,
                            -12.337291728047735
                          ]
                        ]
                      ],
                      [
                        [
                          [
                            -45.948921849471326,
                            -12.333678317558544
                          ],
                          [
                            -45.9474934548366,
                            -12.332658034599984
                          ],
                          [
                            -45.94747928313255,
                            -12.332646818430463
                          ],
                          [
                            -45.9474663077335,
                            -12.332634280603125
                          ],
                          [
                            -45.94745465558495,
                            -12.332620543782614
                          ],
                          [
                            -45.94678697235823,
                            -12.331749160017337
                          ],
                          [
                            -45.94677840227879,
                            -12.331736965761008
                          ],
                          [
                            -45.94616730251792,
                            -12.330786365325116
                          ],
                          [
                            -45.94615836944726,
                            -12.330770819519072
                          ],
                          [
                            -45.94615103915317,
                            -12.33075448333536
                          ],
                          [
                            -45.94576602595943,
                            -12.32976711282945
                          ],
                          [
                            -45.94562034660063,
                            -12.333023524436298
                          ],
                          [
                            -45.94712871464079,
                            -12.333134880042858
                          ],
                          [
                            -45.94714935958363,
                            -12.333137566499088
                          ],
                          [
                            -45.94716956332995,
                            -12.333142530277375
                          ],
                          [
                            -45.948921849471326,
                            -12.333678317558544
                          ]
                        ]
                      ]
                    ],
                    "type": "MultiPolygon"
                  },
                  "id": "12",
                  "properties": {
                    "Apr_2020": "Cerrado",
                    "Aug_2020": "Cerrado",
                    "Dec_2019": "Cerrado",
                    "Feb_2020": "Cerrado",
                    "Jan_2020": "Cerrado",
                    "Jul_2020": "Cerrado",
                    "Jun_2020": "Cerrado",
                    "Mar_2020": "Cerrado",
                    "May_2020": "Cerrado",
                    "Note": null,
                    "Nov_2019": "Cerrado",
                    "Oct_2019": "Cerrado",
                    "Sep_2020": "Cerrado",
                    "id": "390"
                  },
                  "type": "Feature"
                },
                {
                  "geometry": {
                    "coordinates": [
                      [
                        [
                          -45.960798859907264,
                          -12.32776210218575
                        ],
                        [
                          -45.96080024295894,
                          -12.327747738745384
                        ],
                        [
                          -45.96081038288348,
                          -12.327618899932709
                        ],
                        [
                          -45.960818272739246,
                          -12.327489903405834
                        ],
                        [
                          -45.96082391010575,
                          -12.327360788551365
                        ],
                        [
                          -45.960827293253615,
                          -12.327231594792437
                        ],
                        [
                          -45.96082842114496,
                          -12.327102361576863
                        ],
                        [
                          -45.960827293433844,
                          -12.326973128364537
                        ],
                        [
                          -45.96082391046633,
                          -12.32684393461537
                        ],
                        [
                          -45.960818273280395,
                          -12.326714819777203
                        ],
                        [
                          -45.960810383605555,
                          -12.326585823273033
                        ],
                        [
                          -45.96080024386238,
                          -12.326456984489191
                        ],
                        [
                          -45.96078785716165,
                          -12.326328342763045
                        ],
                        [
                          -45.960773227303356,
                          -12.326199937370806
                        ],
                        [
                          -45.96075635877549,
                          -12.32607180751499
                        ],
                        [
                          -45.96073725675261,
                          -12.325943992312444
                        ],
                        [
                          -45.96071592709415,
                          -12.325816530782566
                        ],
                        [
                          -45.96069237634258,
                          -12.325689461834727
                        ],
                        [
                          -45.96066661172121,
                          -12.325562824256336
                        ],
                        [
                          -45.960638641131936,
                          -12.32543665670084
                        ],
                        [
                          -45.96060847315272,
                          -12.325310997675905
                        ],
                        [
                          -45.96057611703469,
                          -12.325185885530873
                        ],
                        [
                          -45.960541582699356,
                          -12.325061358445737
                        ],
                        [
                          -45.960504880735215,
                          -12.324937454418473
                        ],
                        [
                          -45.96046602239479,
                          -12.324814211254848
                        ],
                        [
                          -45.96042501959019,
                          -12.324691666553974
                        ],
                        [
                          -45.96038188489028,
                          -12.32456985769984
                        ],
                        [
                          -45.96033663151571,
                          -12.324448821846918
                        ],
                        [
                          -45.96028927333552,
                          -12.324328595911295
                        ],
                        [
                          -45.96023982486221,
                          -12.324209216557577
                        ],
                        [
                          -45.96018830124685,
                          -12.324090720187389
                        ],
                        [
                          -45.96013471827527,
                          -12.323973142930468
                        ],
                        [
                          -45.96007909236162,
                          -12.32385652063025
                        ],
                        [
                          -45.96002144054448,
                          -12.32374088883612
                        ],
                        [
                          -45.959961780479716,
                          -12.323626282788753
                        ],
                        [
                          -45.95990013043762,
                          -12.323512737414855
                        ],
                        [
                          -45.959836509293545,
                          -12.323400287309717
                        ],
                        [
                          -45.95977093652534,
                          -12.323288966732886
                        ],
                        [
                          -45.95970343220434,
                          -12.323178809592852
                        ],
                        [
                          -45.959634016990606,
                          -12.323069849439399
                        ],
                        [
                          -45.95956271212655,
                          -12.322962119453637
                        ],
                        [
                          -45.95948953942902,
                          -12.322855652436042
                        ],
                        [
                          -45.95941452128257,
                          -12.322750480796849
                        ],
                        [
                          -45.9593376806343,
                          -12.322646636548974
                        ],
                        [
                          -45.95925904098319,
                          -12.322544151293464
                        ],
                        [
                          -45.95917862637624,
                          -12.322443056214857
                        ],
                        [
                          -45.95909646139886,
                          -12.322343382068908
                        ],
                        [
                          -45.95901257116644,
                          -12.32224515917276
                        ],
                        [
                          -45.95892698131944,
                          -12.322148417399113
                        ],
                        [
                          -45.958839718011596,
                          -12.322053186163071
                        ],
                        [
                          -45.95875080790525,
                          -12.321959494417206
                        ],
                        [
                          -45.95866027815962,
                          -12.321867370639245
                        ],
                        [
                          -45.95856815642552,
                          -12.321776842826893
                        ],
                        [
                          -45.95847447083455,
                          -12.321687938487255
                        ],
                        [
                          -45.9583792499912,
                          -12.321600684629525
                        ],
                        [
                          -45.9582825229631,
                          -12.321515107756133
                        ],
                        [
                          -45.958184319273336,
                          -12.32143123385615
                        ],
                        [
                          -45.95808466889087,
                          -12.321349088397131
                        ],
                        [
                          -45.95798360221937,
                          -12.321268696316015
                        ],
                        [
                          -45.95788115009122,
                          -12.321190082014635
                        ],
                        [
                          -45.95777734375508,
                          -12.321113269350125
                        ],
                        [
                          -45.95767221486761,
                          -12.32103828162894
                        ],
                        [
                          -45.95756579548397,
                          -12.320965141600249
                        ],
                        [
                          -45.95745811804505,
                          -12.320893871447158
                        ],
                        [
                          -45.95734921537369,
                          -12.320824492784482
                        ],
                        [
                          -45.95723912065616,
                          -12.320757026646895
                        ],
                        [
                          -45.957127867442466,
                          -12.320691493489283
                        ],
                        [
                          -45.95701548962304,
                          -12.320627913172952
                        ],
                        [
                          -45.956902021432384,
                          -12.320566304968125
                        ],
                        [
                          -45.95678749742629,
                          -12.320506687541181
                        ],
                        [
                          -45.95667195248127,
                          -12.320449078954878
                        ],
                        [
                          -45.956555421775924,
                          -12.320393496658768
                        ],
                        [
                          -45.95643794078703,
                          -12.320339957487633
                        ],
                        [
                          -45.95631954527288,
                          -12.320288477653792
                        ],
                        [
                          -45.9562002712673,
                          -12.320239072744672
                        ],
                        [
                          -45.956080155062814,
                          -12.320191757715717
                        ],
                        [
                          -45.95595923321035,
                          -12.320146546890566
                        ],
                        [
                          -45.95583754249439,
                          -12.320103453951422
                        ],
                        [
                          -45.95571511993315,
                          -12.32006249193939
                        ],
                        [
                          -45.95559200276101,
                          -12.320023673248553
                        ],
                        [
                          -45.95546822842113,
                          -12.319987009623537
                        ],
                        [
                          -45.95534383455041,
                          -12.319952512155218
                        ],
                        [
                          -45.95521885897226,
                          -12.319920191278554
                        ],
                        [
                          -45.9550933396825,
                          -12.319890056768964
                        ],
                        [
                          -45.95496731483898,
                          -12.31986211773973
                        ],
                        [
                          -45.954840822750135,
                          -12.319836382639508
                        ],
                        [
                          -45.95471390186447,
                          -12.319812859250044
                        ],
                        [
                          -45.954586590753706,
                          -12.319791554682984
                        ],
                        [
                          -45.95445892811231,
                          -12.319772475379859
                        ],
                        [
                          -45.954330952733116,
                          -12.319755627108085
                        ],
                        [
                          -45.954202703507256,
                          -12.319741014961119
                        ],
                        [
                          -45.954074219402315,
                          -12.319728643355518
                        ],
                        [
                          -45.95394553945965,
                          -12.319718516031026
                        ],
                        [
                          -45.95381670277566,
                          -12.319710636048452
                        ],
                        [
                          -45.95368774849537,
                          -12.319705005789555
                        ],
                        [
                          -45.95355871579793,
                          -12.319701626956022
                        ],
                        [
                          -45.95342964388783,
                          -12.31970050056905
                        ],
                        [
                          -45.95330057197699,
                          -12.319701626969051
                        ],
                        [
                          -45.95317153928114,
                          -12.319705005815571
                        ],
                        [
                          -45.95304258500129,
                          -12.319710636087471
                        ],
                        [
                          -45.952913748320405,
                          -12.319718516082867
                        ],
                        [
                          -45.95278506837786,
                          -12.319728643420396
                        ],
                        [
                          -45.952656584276646,
                          -12.319741015038659
                        ],
                        [
                          -45.95252833505284,
                          -12.319755627198441
                        ],
                        [
                          -45.95240035967824,
                          -12.319772475482628
                        ],
                        [
                          -45.95227269704044,
                          -12.319791554798245
                        ],
                        [
                          -45.95214538593479,
                          -12.319812859377464
                        ],
                        [
                          -45.9520184650528,
                          -12.319836382779286
                        ],
                        [
                          -45.95189197296915,
                          -12.319862117891486
                        ],
                        [
                          -45.95176594813194,
                          -12.319890056932351
                        ],
                        [
                          -45.95164042884753,
                          -12.319920191453717
                        ],
                        [
                          -45.951515453276485,
                          -12.319952512341587
                        ],
                        [
                          -45.951391059413226,
                          -12.3199870098209
                        ],
                        [
                          -45.951267285079695,
                          -12.320023673457035
                        ],
                        [
                          -45.951144167915906,
                          -12.320062492158323
                        ],
                        [
                          -45.95102174536217,
                          -12.32010345418086
                        ],
                        [
                          -45.95090005465574,
                          -12.3201465471297
                        ],
                        [
                          -45.95077913281082,
                          -12.32019175796507
                        ],
                        [
                          -45.95065901661644,
                          -12.320239073003096
                        ],
                        [
                          -45.950539742619746,
                          -12.320288477921617
                        ],
                        [
                          -45.95042134711569,
                          -12.320339957764139
                        ],
                        [
                          -45.95030386613622,
                          -12.32039349694405
                        ],
                        [
                          -45.950187335441946,
                          -12.320449079247924
                        ],
                        [
                          -45.950071790507295,
                          -12.320506687842139
                        ],
                        [
                          -45.94995726651273,
                          -12.320566305276165
                        ],
                        [
                          -45.94984379833281,
                          -12.32062791348827
                        ],
                        [
                          -45.94973142052518,
                          -12.320691493810981
                        ],
                        [
                          -45.94962016732246,
                          -12.320757026975217
                        ],
                        [
                          -45.9495100726176,
                          -12.320824493118128
                        ],
                        [
                          -45.94940116995796,
                          -12.32089387178642
                        ],
                        [
                          -45.94929349253123,
                          -12.320965141944551
                        ],
                        [
                          -45.94918707316034,
                          -12.321038281977607
                        ],
                        [
                          -45.94908194428487,
                          -12.321113269703316
                        ],
                        [
                          -45.9489781379621,
                          -12.321190082371052
                        ],
                        [
                          -45.94887568584625,
                          -12.3212686966761
                        ],
                        [
                          -45.948774619188534,
                          -12.321349088759357
                        ],
                        [
                          -45.94867496881868,
                          -12.321431234221123
                        ],
                        [
                          -45.94857676514183,
                          -12.321515108123192
                        ],
                        [
                          -45.948480038127094,
                          -12.32160068499789
                        ],
                        [
                          -45.94838481729702,
                          -12.321687938856595
                        ],
                        [
                          -45.948291131719124,
                          -12.32177684319696
                        ],
                        [
                          -45.9481990099984,
                          -12.321867371009311
                        ],
                        [
                          -45.94810848026599,
                          -12.321959494786972
                        ],
                        [
                          -45.94801957017291,
                          -12.322053186532015
                        ],
                        [
                          -45.94793230687851,
                          -12.322148417766535
                        ],
                        [
                          -45.947846717044314,
                          -12.322245159538863
                        ],
                        [
                          -45.947762826825056,
                          -12.322343382432773
                        ],
                        [
                          -45.94768066186041,
                          -12.322443056576427
                        ],
                        [
                          -45.94760024726651,
                          -12.32254415165181
                        ],
                        [
                          -45.947521607628246,
                          -12.322646636903743
                        ],
                        [
                          -45.9474447669923,
                          -12.322750481148145
                        ],
                        [
                          -45.947369748858506,
                          -12.322855652782792
                        ],
                        [
                          -45.947296576173386,
                          -12.322962119795498
                        ],
                        [
                          -45.94722527132101,
                          -12.323069849776795
                        ],
                        [
                          -45.94715585611974,
                          -12.323178809923906
                        ],
                        [
                          -45.947088351810145,
                          -12.323288967058506
                        ],
                        [
                          -45.947022779053384,
                          -12.323400287629122
                        ],
                        [
                          -45.94695915792073,
                          -12.323512737727293
                        ],
                        [
                          -45.94689750788952,
                          -12.323626283094336
                        ],
                        [
                          -45.946837847835845,
                          -12.323740889133619
                        ],
                        [
                          -45.94678019602883,
                          -12.323856520920645
                        ],
                        [
                          -45.94672457012557,
                          -12.3239731432123
                        ],
                        [
                          -45.94667098716374,
                          -12.324090720461067
                        ],
                        [
                          -45.94661946355801,
                          -12.324209216822336
                        ],
                        [
                          -45.94657001509403,
                          -12.32432859616674
                        ],
                        [
                          -45.94652265692268,
                          -12.324448822093167
                        ],
                        [
                          -45.94647740355679,
                          -12.324569857936067
                        ],
                        [
                          -45.946434268865055,
                          -12.324691666780357
                        ],
                        [
                          -45.94639326606831,
                          -12.324814211471013
                        ],
                        [
                          -45.94635440773538,
                          -12.32493745462412
                        ],
                        [
                          -45.94631770577839,
                          -12.325061358640456
                        ],
                        [
                          -45.94628317144979,
                          -12.32518588571457
                        ],
                        [
                          -45.946250815338104,
                          -12.325310997848346
                        ],
                        [
                          -45.94622064736481,
                          -12.325436656861864
                        ],
                        [
                          -45.946192676781024,
                          -12.32556282440585
                        ],
                        [
                          -45.94616691216478,
                          -12.325689461972264
                        ],
                        [
                          -45.94614336141786,
                          -12.325816530908234
                        ],
                        [
                          -45.94613426532654,
                          -12.325870887244617
                        ],
                        [
                          -45.960798859907264,
                          -12.32776210218575
                        ]
                      ]
                    ],
                    "type": "Polygon"
                  },
                  "id": "13",
                  "properties": {
                    "Apr_2020": "Uncultivated soil",
                    "Aug_2020": "Sorghum",
                    "Dec_2019": "Soybean",
                    "Feb_2020": "Soybean",
                    "Jan_2020": "Soybean",
                    "Jul_2020": "Sorghum",
                    "Jun_2020": "Sorghum",
                    "Mar_2020": "Uncultivated soil",
                    "May_2020": "Sorghum",
                    "Note": null,
                    "Nov_2019": "Uncultivated soil",
                    "Oct_2019": "Uncultivated soil",
                    "Sep_2020": "Uncultivated soil",
                    "id": "391"
                  },
                  "type": "Feature"
                },
                {
                  "geometry": {
                    "coordinates": [
                      [
                        [
                          -45.94513638313771,
                          -12.326232701686443
                        ],
                        [
                          -45.930426716855884,
                          -12.324536506954304
                        ],
                        [
                          -45.930423829083075,
                          -12.324566497832251
                        ],
                        [
                          -45.93041367986402,
                          -12.324695457032657
                        ],
                        [
                          -45.930405782816074,
                          -12.324824574100413
                        ],
                        [
                          -45.930400140362046,
                          -12.32495380961241
                        ],
                        [
                          -45.930396754233065,
                          -12.32508312410877
                        ],
                        [
                          -45.930395625468066,
                          -12.32521247810502
                        ],
                        [
                          -45.93039675441343,
                          -12.325341832104622
                        ],
                        [
                          -45.93040014072289,
                          -12.325471146610722
                        ],
                        [
                          -45.93040578335763,
                          -12.325600382138918
                        ],
                        [
                          -45.93041368058663,
                          -12.325729499229377
                        ],
                        [
                          -45.93042382998721,
                          -12.325858458458798
                        ],
                        [
                          -45.93043622844582,
                          -12.325987220453207
                        ],
                        [
                          -45.930450872159064,
                          -12.32611574589989
                        ],
                        [
                          -45.930467756634805,
                          -12.326243995559215
                        ],
                        [
                          -45.93048687669385,
                          -12.326371930277794
                        ],
                        [
                          -45.93050822647139,
                          -12.326499510999911
                        ],
                        [
                          -45.93053179941891,
                          -12.326626698779195
                        ],
                        [
                          -45.93055758830651,
                          -12.326753454792307
                        ],
                        [
                          -45.93058558522497,
                          -12.326879740349243
                        ],
                        [
                          -45.930615781588415,
                          -12.327005516906341
                        ],
                        [
                          -45.93064816813704,
                          -12.327130746077659
                        ],
                        [
                          -45.930682734940206,
                          -12.327255389647739
                        ],
                        [
                          -45.93071947139955,
                          -12.327379409582688
                        ],
                        [
                          -45.93075836625197,
                          -12.327502768040862
                        ],
                        [
                          -45.93079940757433,
                          -12.327625427388021
                        ],
                        [
                          -45.93084258278593,
                          -12.327747350204666
                        ],
                        [
                          -45.930887878653785,
                          -12.32786849930139
                        ],
                        [
                          -45.93093528129569,
                          -12.32798883772691
                        ],
                        [
                          -45.93098477618578,
                          -12.328108328782628
                        ],
                        [
                          -45.931036348158415,
                          -12.328226936031696
                        ],
                        [
                          -45.931089981413024,
                          -12.32834462331061
                        ],
                        [
                          -45.93114565952006,
                          -12.328461354742158
                        ],
                        [
                          -45.93120336542506,
                          -12.328577094743695
                        ],
                        [
                          -45.93126308145461,
                          -12.32869180803952
                        ],
                        [
                          -45.931324789322055,
                          -12.328805459671612
                        ],
                        [
                          -45.93138847013388,
                          -12.32891801501143
                        ],
                        [
                          -45.93145410439374,
                          -12.329029439766778
                        ],
                        [
                          -45.931521672011336,
                          -12.329139699997278
                        ],
                        [
                          -45.93159115230709,
                          -12.329248762121463
                        ],
                        [
                          -45.93166252401802,
                          -12.329356592926155
                        ],
                        [
                          -45.93173576530748,
                          -12.329463159581227
                        ],
                        [
                          -45.931810853768326,
                          -12.329568429643828
                        ],
                        [
                          -45.93188776643364,
                          -12.329672371073517
                        ],
                        [
                          -45.93196647977963,
                          -12.329774952236022
                        ],
                        [
                          -45.93204696973853,
                          -12.329876141920057
                        ],
                        [
                          -45.932129211700946,
                          -12.329975909339977
                        ],
                        [
                          -45.93221318052724,
                          -12.33007422414961
                        ],
                        [
                          -45.932298850553,
                          -12.330171056448485
                        ],
                        [
                          -45.9323861955992,
                          -12.330266376793304
                        ],
                        [
                          -45.932475188979296,
                          -12.330360156205394
                        ],
                        [
                          -45.932565803506975,
                          -12.330452366178893
                        ],
                        [
                          -45.93265801150592,
                          -12.330542978690472
                        ],
                        [
                          -45.93275178481818,
                          -12.330631966207463
                        ],
                        [
                          -45.93284709481083,
                          -12.330719301694138
                        ],
                        [
                          -45.93294391239062,
                          -12.330804958624936
                        ],
                        [
                          -45.93304220800419,
                          -12.330888910984418
                        ],
                        [
                          -45.933141951656815,
                          -12.33097113328341
                        ],
                        [
                          -45.93324311291418,
                          -12.331051600560047
                        ],
                        [
                          -45.933345660915165,
                          -12.331130288390106
                        ],
                        [
                          -45.93344956438215,
                          -12.33120717289459
                        ],
                        [
                          -45.93355479162758,
                          -12.331282230744593
                        ],
                        [
                          -45.93366131056809,
                          -12.331355439171245
                        ],
                        [
                          -45.933769088729456,
                          -12.33142677596886
                        ],
                        [
                          -45.93387809326046,
                          -12.33149621950427
                        ],
                        [
                          -45.93398829094156,
                          -12.33156374872198
                        ],
                        [
                          -45.93409964819316,
                          -12.331629343149382
                        ],
                        [
                          -45.93421213109148,
                          -12.33169298290586
                        ],
                        [
                          -45.93432570537173,
                          -12.331754648704495
                        ],
                        [
                          -45.93444033644259,
                          -12.33181432185993
                        ],
                        [
                          -45.93455598939762,
                          -12.331871984294231
                        ],
                        [
                          -45.93467262902477,
                          -12.331927618541512
                        ],
                        [
                          -45.93479021981508,
                          -12.33198120775195
                        ],
                        [
                          -45.93490872597363,
                          -12.332032735696897
                        ],
                        [
                          -45.93502811143775,
                          -12.332082186776745
                        ],
                        [
                          -45.935148339875326,
                          -12.332129546019921
                        ],
                        [
                          -45.93526937470694,
                          -12.33217479909191
                        ],
                        [
                          -45.93539117911143,
                          -12.332217932297072
                        ],
                        [
                          -45.935513716035395,
                          -12.332258932582139
                        ],
                        [
                          -45.93563694821233,
                          -12.332297787542545
                        ],
                        [
                          -45.93576083816125,
                          -12.33233448542198
                        ],
                        [
                          -45.93588534821373,
                          -12.332369015120554
                        ],
                        [
                          -45.93601044050956,
                          -12.332401366193245
                        ],
                        [
                          -45.93613607701642,
                          -12.33243152885549
                        ],
                        [
                          -45.936262219544204,
                          -12.332459493986441
                        ],
                        [
                          -45.93638882974753,
                          -12.332485253129438
                        ],
                        [
                          -45.93651586914329,
                          -12.33250879849588
                        ],
                        [
                          -45.93664329912216,
                          -12.332530122967283
                        ],
                        [
                          -45.93677108095599,
                          -12.332549220096649
                        ],
                        [
                          -45.93689917581444,
                          -12.332566084111102
                        ],
                        [
                          -45.937027544774345,
                          -12.332580709913103
                        ],
                        [
                          -45.93715614882806,
                          -12.332593093081504
                        ],
                        [
                          -45.93728494890072,
                          -12.33260322987356
                        ],
                        [
                          -45.93741390585911,
                          -12.332611117225532
                        ],
                        [
                          -45.93754298052106,
                          -12.332616752753456
                        ],
                        [
                          -45.937672133672685,
                          -12.332620134754203
                        ],
                        [
                          -45.93780132607572,
                          -12.33262126220566
                        ],
                        [
                          -45.937930518478666,
                          -12.332620134767028
                        ],
                        [
                          -45.93805967163016,
                          -12.332616752779092
                        ],
                        [
                          -45.93818874629535,
                          -12.332611117263841
                        ],
                        [
                          -45.93831770325377,
                          -12.332603229924732
                        ],
                        [
                          -45.93844650332846,
                          -12.332593093145338
                        ],
                        [
                          -45.938575107385184,
                          -12.33258070998946
                        ],
                        [
                          -45.93870347634774,
                          -12.33256608419999
                        ],
                        [
                          -45.938831571209484,
                          -12.332549220197912
                        ],
                        [
                          -45.938959353047615,
                          -12.332530123080723
                        ],
                        [
                          -45.939086783030795,
                          -12.332508798621435
                        ],
                        [
                          -45.93921382243169,
                          -12.332485253266881
                        ],
                        [
                          -45.93934043263982,
                          -12.332459494135744
                        ],
                        [
                          -45.939466575173235,
                          -12.332431529016382
                        ],
                        [
                          -45.939592211686566,
                          -12.332401366365405
                        ],
                        [
                          -45.939717303987585,
                          -12.332369015304202
                        ],
                        [
                          -45.93984181404702,
                          -12.332334485616556
                        ],
                        [
                          -45.93996570400475,
                          -12.332297787747358
                        ],
                        [
                          -45.94008893618709,
                          -12.332258932798073
                        ],
                        [
                          -45.9402114731209,
                          -12.33221793252257
                        ],
                        [
                          -45.94033327753282,
                          -12.332174799327623
                        ],
                        [
                          -45.94045431237245,
                          -12.332129546265483
                        ],
                        [
                          -45.94057454082049,
                          -12.332082187031034
                        ],
                        [
                          -45.940693926292525,
                          -12.332032735960778
                        ],
                        [
                          -45.94081243246198,
                          -12.33198120802395
                        ],
                        [
                          -45.940930023261956,
                          -12.331927618821974
                        ],
                        [
                          -45.94104666289826,
                          -12.33187198458319
                        ],
                        [
                          -45.94116231586469,
                          -12.331814322156069
                        ],
                        [
                          -45.941276946947156,
                          -12.331754649007475
                        ],
                        [
                          -45.941390521237565,
                          -12.331692983216218
                        ],
                        [
                          -45.94150300414703,
                          -12.331629343466297
                        ],
                        [
                          -45.941614361410316,
                          -12.331563749044916
                        ],
                        [
                          -45.94172455910306,
                          -12.331496219832921
                        ],
                        [
                          -45.94183356364611,
                          -12.331426776302754
                        ],
                        [
                          -45.941941341819124,
                          -12.331355439510299
                        ],
                        [
                          -45.942047860772014,
                          -12.33128223108806
                        ],
                        [
                          -45.94215308803023,
                          -12.331207173241845
                        ],
                        [
                          -45.94225699150962,
                          -12.331130288741067
                        ],
                        [
                          -45.94235953952347,
                          -12.331051600914071
                        ],
                        [
                          -45.94246070079306,
                          -12.3309711336406
                        ],
                        [
                          -45.942560444458685,
                          -12.330888911343827
                        ],
                        [
                          -45.94265874008553,
                          -12.330804958985928
                        ],
                        [
                          -45.942755557677614,
                          -12.33071930205717
                        ],
                        [
                          -45.942850867683916,
                          -12.330631966570929
                        ],
                        [
                          -45.94294464100938,
                          -12.330542979054341
                        ],
                        [
                          -45.94303684902105,
                          -12.330452366543184
                        ],
                        [
                          -45.94312746356125,
                          -12.330360156569908
                        ],
                        [
                          -45.94321645695498,
                          -12.330266377156383
                        ],
                        [
                          -45.9433038020141,
                          -12.330171056810407
                        ],
                        [
                          -45.943389472052495,
                          -12.330074224510216
                        ],
                        [
                          -45.943473440892056,
                          -12.329975909698016
                        ],
                        [
                          -45.94355568286709,
                          -12.329876142275761
                        ],
                        [
                          -45.94363617283849,
                          -12.329774952588972
                        ],
                        [
                          -45.943714886197164,
                          -12.329672371422905
                        ],
                        [
                          -45.943791798874614,
                          -12.32956842998979
                        ],
                        [
                          -45.94386688734831,
                          -12.32946315992216
                        ],
                        [
                          -45.94394012864925,
                          -12.32935659326337
                        ],
                        [
                          -45.944011500372845,
                          -12.329248762452526
                        ],
                        [
                          -45.944080980679885,
                          -12.329139700323623
                        ],
                        [
                          -45.94414854830886,
                          -12.329029440087552
                        ],
                        [
                          -45.944214182580275,
                          -12.328918015325558
                        ],
                        [
                          -45.944277863402995,
                          -12.328805459979515
                        ],
                        [
                          -45.94433957128161,
                          -12.328691808339844
                        ],
                        [
                          -45.94439928732153,
                          -12.32857709503711
                        ],
                        [
                          -45.944456993236905,
                          -12.328461355027779
                        ],
                        [
                          -45.94451267135388,
                          -12.328344623588457
                        ],
                        [
                          -45.94456630461841,
                          -12.32822693630075
                        ],
                        [
                          -45.94461787660047,
                          -12.328108329043019
                        ],
                        [
                          -45.94466737149954,
                          -12.327988837978653
                        ],
                        [
                          -45.944714774150235,
                          -12.327868499543857
                        ],
                        [
                          -45.9447600700266,
                          -12.327747350437429
                        ],
                        [
                          -45.9448032452463,
                          -12.327625427610933
                        ],
                        [
                          -45.94484428657638,
                          -12.32750276825371
                        ],
                        [
                          -45.944883181436346,
                          -12.327379409784639
                        ],
                        [
                          -45.9449199179025,
                          -12.327255389839735
                        ],
                        [
                          -45.94495448471239,
                          -12.327130746258495
                        ],
                        [
                          -45.94498687126722,
                          -12.327005517076195
                        ],
                        [
                          -45.94501706763653,
                          -12.326879740507765
                        ],
                        [
                          -45.94504506456043,
                          -12.326753454939276
                        ],
                        [
                          -45.945070853453,
                          -12.32662669891482
                        ],
                        [
                          -45.94509442640518,
                          -12.326499511123439
                        ],
                        [
                          -45.94511577618687,
                          -12.32637193038963
                        ],
                        [
                          -45.94513489624967,
                          -12.32624399565889
                        ],
                        [
                          -45.94513638313771,
                          -12.326232701686443
                        ]
                      ]
                    ],
                    "type": "Polygon"
                  },
                  "id": "14",
                  "properties": {
                    "Apr_2020": "Uncultivated soil",
                    "Aug_2020": "Sorghum",
                    "Dec_2019": "Soybean",
                    "Feb_2020": "Soybean",
                    "Jan_2020": "Soybean",
                    "Jul_2020": "Sorghum",
                    "Jun_2020": "Sorghum",
                    "Mar_2020": "Uncultivated soil",
                    "May_2020": "Sorghum",
                    "Note": null,
                    "Nov_2019": "Uncultivated soil",
                    "Oct_2019": "Uncultivated soil",
                    "Sep_2020": "Sorghum",
                    "id": "392"
                  },
                  "type": "Feature"
                },
                {
                  "geometry": {
                    "coordinates": [
                      [
                        [
                          -45.93514277390631,
                          -12.338751337329654
                        ],
                        [
                          -45.93521390957714,
                          -12.338702089568912
                        ],
                        [
                          -45.93534275559242,
                          -12.338523687523834
                        ],
                        [
                          -45.9353533138635,
                          -12.338510423208943
                        ],
                        [
                          -45.935365081540056,
                          -12.338498182240587
                        ],
                        [
                          -45.93537795653682,
                          -12.338487070809647
                        ],
                        [
                          -45.93539182716251,
                          -12.338477185308287
                        ],
                        [
                          -45.935406573088756,
                          -12.338468611493623
                        ],
                        [
                          -45.93542206639396,
                          -12.338461423743805
                        ],
                        [
                          -45.93567103295809,
                          -12.338359573809067
                        ],
                        [
                          -45.935685169757136,
                          -12.338354447777984
                        ],
                        [
                          -45.93569968586334,
                          -12.338350476589294
                        ],
                        [
                          -45.9357144838636,
                          -12.338347686892424
                        ],
                        [
                          -45.935938835940945,
                          -12.338314694019425
                        ],
                        [
                          -45.93582223901773,
                          -12.333343278445613
                        ],
                        [
                          -45.93250371631407,
                          -12.33334327860917
                        ],
                        [
                          -45.93237643252098,
                          -12.33866813957219
                        ],
                        [
                          -45.93514277390631,
                          -12.338751337329654
                        ]
                      ]
                    ],
                    "type": "Polygon"
                  },
                  "id": "15",
                  "properties": {
                    "Apr_2020": "Cerrado",
                    "Aug_2020": "Cerrado",
                    "Dec_2019": "Cerrado",
                    "Feb_2020": "Cerrado",
                    "Jan_2020": "Cerrado",
                    "Jul_2020": "Cerrado",
                    "Jun_2020": "Cerrado",
                    "Mar_2020": "Cerrado",
                    "May_2020": "Cerrado",
                    "Note": null,
                    "Nov_2019": "Cerrado",
                    "Oct_2019": "Cerrado",
                    "Sep_2020": "Cerrado",
                    "id": "393"
                  },
                  "type": "Feature"
                },
                {
                  "geometry": {
                    "coordinates": [
                      [
                        [
                          -45.92986586356002,
                          -12.332432135914962
                        ],
                        [
                          -45.92987680063217,
                          -12.327107654672215
                        ],
                        [
                          -45.92987680180355,
                          -12.327107278381565
                        ],
                        [
                          -45.92994471292251,
                          -12.310833964902798
                        ],
                        [
                          -45.93001249135869,
                          -12.291780629714776
                        ],
                        [
                          -45.929892390781035,
                          -12.291508093400392
                        ],
                        [
                          -45.92670935957401,
                          -12.287987636208172
                        ],
                        [
                          -45.92670838641416,
                          -12.287986551154845
                        ],
                        [
                          -45.92405386092809,
                          -12.285002785591493
                        ],
                        [
                          -45.9239734413434,
                          -12.28557242648553
                        ],
                        [
                          -45.92397024253193,
                          -12.285589217257078
                        ],
                        [
                          -45.92396544688227,
                          -12.285605636295042
                        ],
                        [
                          -45.92395909718731,
                          -12.285621537086824
                        ],
                        [
                          -45.92360828091654,
                          -12.286391070659612
                        ],
                        [
                          -45.92360136827772,
                          -12.286404671314529
                        ],
                        [
                          -45.92359331825569,
                          -12.286417652856263
                        ],
                        [
                          -45.92190713572852,
                          -12.288896003905048
                        ],
                        [
                          -45.92190539226936,
                          -12.288898520313854
                        ],
                        [
                          -45.919709959875775,
                          -12.292010604998687
                        ],
                        [
                          -45.91970103194401,
                          -12.29202223091095
                        ],
                        [
                          -45.91969118133433,
                          -12.292033112412168
                        ],
                        [
                          -45.9190913980207,
                          -12.292644212739992
                        ],
                        [
                          -45.91907934650553,
                          -12.292655431373964
                        ],
                        [
                          -45.91906631562549,
                          -12.292665536011105
                        ],
                        [
                          -45.918681548849264,
                          -12.29293713618632
                        ],
                        [
                          -45.918668375024495,
                          -12.292945619252565
                        ],
                        [
                          -45.91821345948787,
                          -12.293211911364676
                        ],
                        [
                          -45.917560824038645,
                          -12.293701388165015
                        ],
                        [
                          -45.91690242174027,
                          -12.294510899789936
                        ],
                        [
                          -45.916163184536984,
                          -12.296400682205348
                        ],
                        [
                          -45.915323637000846,
                          -12.299341922855364
                        ],
                        [
                          -45.9149115820825,
                          -12.301114328691678
                        ],
                        [
                          -45.914907207213446,
                          -12.301129906402688
                        ],
                        [
                          -45.914901435530254,
                          -12.30114503785656
                        ],
                        [
                          -45.913781086899455,
                          -12.303725238630054
                        ],
                        [
                          -45.91377873768254,
                          -12.303730422145193
                        ],
                        [
                          -45.91261312225518,
                          -12.306197456270782
                        ],
                        [
                          -45.91260813856934,
                          -12.306207220916546
                        ],
                        [
                          -45.91206821563546,
                          -12.307189881987586
                        ],
                        [
                          -45.91209490064497,
                          -12.307513435234279
                        ],
                        [
                          -45.91242144620174,
                          -12.307513435194288
                        ],
                        [
                          -45.91335847677151,
                          -12.307490856185556
                        ],
                        [
                          -45.913379970925895,
                          -12.307491575074927
                        ],
                        [
                          -45.915054514071045,
                          -12.307644320647988
                        ],
                        [
                          -45.91602176588227,
                          -12.307729167345219
                        ],
                        [
                          -45.91603501688003,
                          -12.307730808429545
                        ],
                        [
                          -45.91677625810187,
                          -12.307849633394044
                        ],
                        [
                          -45.91679135854521,
                          -12.30785269798309
                        ],
                        [
                          -45.916806144860736,
                          -12.307856995546942
                        ],
                        [
                          -45.91749646116111,
                          -12.308088987111242
                        ],
                        [
                          -45.91751432366309,
                          -12.308096036662667
                        ],
                        [
                          -45.917531339065214,
                          -12.308104883285798
                        ],
                        [
                          -45.91754732100066,
                          -12.308115430085095
                        ],
                        [
                          -45.91810749587427,
                          -12.308528488236337
                        ],
                        [
                          -45.918121835604985,
                          -12.30854022509389
                        ],
                        [
                          -45.91813489221177,
                          -12.308553330145388
                        ],
                        [
                          -45.91814653132197,
                          -12.308567668519785
                        ],
                        [
                          -45.91815663315109,
                          -12.308583092653201
                        ],
                        [
                          -45.91816509373554,
                          -12.308599443807667
                        ],
                        [
                          -45.91817182600262,
                          -12.308616553704663
                        ],
                        [
                          -45.91817676066662,
                          -12.308634246257038
                        ],
                        [
                          -45.91825031921049,
                          -12.308962429551933
                        ],
                        [
                          -45.918253252528814,
                          -12.308979264047883
                        ],
                        [
                          -45.918254557605465,
                          -12.30899629557096
                        ],
                        [
                          -45.9182542227987,
                          -12.309013372198221
                        ],
                        [
                          -45.918252251094735,
                          -12.309030341604398
                        ],
                        [
                          -45.91824866008104,
                          -12.309047052420645
                        ],
                        [
                          -45.91815330344603,
                          -12.309406043036601
                        ],
                        [
                          -45.91797426064621,
                          -12.310194952779424
                        ],
                        [
                          -45.917779836742056,
                          -12.311422606292235
                        ],
                        [
                          -45.91781805341038,
                          -12.312481733618688
                        ],
                        [
                          -45.91802142587123,
                          -12.31320178032533
                        ],
                        [
                          -45.91824758949623,
                          -12.313982043069617
                        ],
                        [
                          -45.91825164460895,
                          -12.313999143121753
                        ],
                        [
                          -45.91825399403541,
                          -12.314016549259627
                        ],
                        [
                          -45.91825461562626,
                          -12.31403409738833
                        ],
                        [
                          -45.91820936860136,
                          -12.317269420907706
                        ],
                        [
                          -45.91820936898294,
                          -12.317817035882085
                        ],
                        [
                          -45.91820858580872,
                          -12.317833707155831
                        ],
                        [
                          -45.91820624293012,
                          -12.317850236447567
                        ],
                        [
                          -45.91820236030028,
                          -12.317866482983318
                        ],
                        [
                          -45.91819697098587,
                          -12.317882308397204
                        ],
                        [
                          -45.91819012088547,
                          -12.317897577909884
                        ],
                        [
                          -45.918181868338685,
                          -12.317912161476357
                        ],
                        [
                          -45.91817228362926,
                          -12.317925934893621
                        ],
                        [
                          -45.91816144838656,
                          -12.317938780858364
                        ],
                        [
                          -45.91801999006666,
                          -12.318091555937707
                        ],
                        [
                          -45.918004945388695,
                          -12.318106043465509
                        ],
                        [
                          -45.91798831509684,
                          -12.318118745094097
                        ],
                        [
                          -45.91709429814964,
                          -12.318724187158988
                        ],
                        [
                          -45.91708522155938,
                          -12.318729954858812
                        ],
                        [
                          -45.916393738319584,
                          -12.319141552194045
                        ],
                        [
                          -45.9159321215161,
                          -12.31962368561853
                        ],
                        [
                          -45.91583488249018,
                          -12.319954299040706
                        ],
                        [
                          -45.91568958540847,
                          -12.320960206729989
                        ],
                        [
                          -45.91568594735362,
                          -12.320978535869289
                        ],
                        [
                          -45.91568040622951,
                          -12.320996398370973
                        ],
                        [
                          -45.91567302112668,
                          -12.321013603748174
                        ],
                        [
                          -45.915663870799996,
                          -12.321029968521536
                        ],
                        [
                          -45.915471487580334,
                          -12.321335518644142
                        ],
                        [
                          -45.91546076083386,
                          -12.321350752029378
                        ],
                        [
                          -45.91544850513289,
                          -12.321364826267839
                        ],
                        [
                          -45.91543484912817,
                          -12.321377593618983
                        ],
                        [
                          -45.91541993616978,
                          -12.321388920060897
                        ],
                        [
                          -45.91540392280243,
                          -12.32139868669719
                        ],
                        [
                          -45.915386977122125,
                          -12.321406791005147
                        ],
                        [
                          -45.915369277011656,
                          -12.321413147911866
                        ],
                        [
                          -45.91499582677382,
                          -12.32152631467515
                        ],
                        [
                          -45.91497760853552,
                          -12.321530847534058
                        ],
                        [
                          -45.91495901497034,
                          -12.321533528828716
                        ],
                        [
                          -45.91494024019526,
                          -12.321534330566381
                        ],
                        [
                          -45.91492148021909,
                          -12.321533244376887
                        ],
                        [
                          -45.91369268639542,
                          -12.321399887505045
                        ],
                        [
                          -45.915025747706345,
                          -12.33207524225201
                        ],
                        [
                          -45.919178865503774,
                          -12.332195147541285
                        ],
                        [
                          -45.92986586356002,
                          -12.332432135914962
                        ]
                      ]
                    ],
                    "type": "Polygon"
                  },
                  "id": "16",
                  "properties": {
                    "Apr_2020": "Cerrado",
                    "Aug_2020": "Cerrado",
                    "Dec_2019": "Cerrado",
                    "Feb_2020": "Cerrado",
                    "Jan_2020": "Cerrado",
                    "Jul_2020": "Cerrado",
                    "Jun_2020": "Cerrado",
                    "Mar_2020": "Cerrado",
                    "May_2020": "Cerrado",
                    "Note": null,
                    "Nov_2019": "Cerrado",
                    "Oct_2019": "Cerrado",
                    "Sep_2020": "Cerrado",
                    "id": "394"
                  },
                  "type": "Feature"
                },
                {
                  "geometry": {
                    "coordinates": [
                      [
                        [
                          -45.9319525335853,
                          -12.337142793219865
                        ],
                        [
                          -45.932043871967466,
                          -12.333406017606565
                        ],
                        [
                          -45.93190026692197,
                          -12.33334327750994
                        ],
                        [
                          -45.931579756653576,
                          -12.333343277504332
                        ],
                        [
                          -45.9311749531353,
                          -12.333354522064397
                        ],
                        [
                          -45.93115938290608,
                          -12.333354306205498
                        ],
                        [
                          -45.930345066786344,
                          -12.333309066462457
                        ],
                        [
                          -45.927387228835904,
                          -12.333160111766041
                        ],
                        [
                          -45.927104491183236,
                          -12.342577669675356
                        ],
                        [
                          -45.92885570052453,
                          -12.342472127478079
                        ],
                        [
                          -45.92976570441032,
                          -12.342417283538156
                        ],
                        [
                          -45.931805416350684,
                          -12.342294355199819
                        ],
                        [
                          -45.9319525335853,
                          -12.337142793219865
                        ]
                      ]
                    ],
                    "type": "Polygon"
                  },
                  "id": "17",
                  "properties": {
                    "Apr_2020": "Pasture",
                    "Aug_2020": "Pasture",
                    "Dec_2019": "Pasture",
                    "Feb_2020": "Pasture",
                    "Jan_2020": "Pasture",
                    "Jul_2020": "Pasture",
                    "Jun_2020": "Pasture",
                    "Mar_2020": "Pasture",
                    "May_2020": "Pasture",
                    "Note": null,
                    "Nov_2019": "Pasture",
                    "Oct_2019": "Pasture",
                    "Sep_2020": "Pasture",
                    "id": "395"
                  },
                  "type": "Feature"
                },
                {
                  "geometry": {
                    "coordinates": [
                      [
                        [
                          -45.91994494376552,
                          -12.340370923006455
                        ],
                        [
                          -45.92009083856212,
                          -12.332813035557317
                        ],
                        [
                          -45.91651169276763,
                          -12.332693730908137
                        ],
                        [
                          -45.91635780618165,
                          -12.340347829702532
                        ],
                        [
                          -45.91994494376552,
                          -12.340370923006455
                        ]
                      ]
                    ],
                    "type": "Polygon"
                  },
                  "id": "18",
                  "properties": {
                    "Apr_2020": "Uncultivated soil",
                    "Aug_2020": "Pasture",
                    "Dec_2019": "Soybean",
                    "Feb_2020": "Soybean",
                    "Jan_2020": "Soybean",
                    "Jul_2020": "Pasture",
                    "Jun_2020": "Pasture",
                    "Mar_2020": "Uncultivated soil",
                    "May_2020": "Pasture",
                    "Note": null,
                    "Nov_2019": "Uncultivated soil",
                    "Oct_2019": "Uncultivated soil",
                    "Sep_2020": "Pasture",
                    "id": "401"
                  },
                  "type": "Feature"
                },
                {
                  "geometry": {
                    "coordinates": [
                      [
                        [
                          -45.915892279384096,
                          -12.340347798920133
                        ],
                        [
                          -45.91604217162103,
                          -12.332669134939982
                        ],
                        [
                          -45.91221375141173,
                          -12.332638167092947
                        ],
                        [
                          -45.91211729404077,
                          -12.33899660831572
                        ],
                        [
                          -45.91261789338857,
                          -12.339018509396666
                        ],
                        [
                          -45.91263857218961,
                          -12.339020569806577
                        ],
                        [
                          -45.912658882533826,
                          -12.3390249108137
                        ],
                        [
                          -45.912985651099746,
                          -12.339114029526453
                        ],
                        [
                          -45.91300316912869,
                          -12.339119752281455
                        ],
                        [
                          -45.91302001551074,
                          -12.339127172585869
                        ],
                        [
                          -45.91303602056621,
                          -12.33913621570111
                        ],
                        [
                          -45.91305102308937,
                          -12.339146790543317
                        ],
                        [
                          -45.91306487197211,
                          -12.339158790600854
                        ],
                        [
                          -45.91326857196807,
                          -12.339354003021416
                        ],
                        [
                          -45.91328013076693,
                          -12.339366148365709
                        ],
                        [
                          -45.91329050568781,
                          -12.339379286484853
                        ],
                        [
                          -45.913299608962944,
                          -12.339393306235701
                        ],
                        [
                          -45.913307363582135,
                          -12.33940808901687
                        ],
                        [
                          -45.913455894989156,
                          -12.339726370189629
                        ],
                        [
                          -45.91346266630863,
                          -12.33974300963981
                        ],
                        [
                          -45.913467729213714,
                          -12.339760226337711
                        ],
                        [
                          -45.91347103397958,
                          -12.339777851192355
                        ],
                        [
                          -45.91351771546203,
                          -12.340121594920465
                        ],
                        [
                          -45.91351929890247,
                          -12.340142026042159
                        ],
                        [
                          -45.91351852139112,
                          -12.34016250212623
                        ],
                        [
                          -45.91350724254803,
                          -12.34028012525915
                        ],
                        [
                          -45.915892279384096,
                          -12.340347798920133
                        ]
                      ]
                    ],
                    "type": "Polygon"
                  },
                  "id": "19",
                  "properties": {
                    "Apr_2020": "Uncultivated soil",
                    "Aug_2020": "Pasture",
                    "Dec_2019": "Soybean",
                    "Feb_2020": "Uncultivated soil",
                    "Jan_2020": "Soybean",
                    "Jul_2020": "Pasture",
                    "Jun_2020": "Pasture",
                    "Mar_2020": "Uncultivated soil",
                    "May_2020": "Pasture",
                    "Note": null,
                    "Nov_2019": "Uncultivated soil",
                    "Oct_2019": "Uncultivated soil",
                    "Sep_2020": "Pasture",
                    "id": "402"
                  },
                  "type": "Feature"
                },
                {
                  "geometry": {
                    "coordinates": [
                      [
                        [
                          -45.926578069965466,
                          -12.345887739979482
                        ],
                        [
                          -45.926640258060615,
                          -12.344200401695874
                        ],
                        [
                          -45.92666994058615,
                          -12.341558821234942
                        ],
                        [
                          -45.926670063530196,
                          -12.341553913058624
                        ],
                        [
                          -45.92676336746571,
                          -12.33915350045776
                        ],
                        [
                          -45.92689532762046,
                          -12.332988685232102
                        ],
                        [
                          -45.92577464753928,
                          -12.332948530255239
                        ],
                        [
                          -45.92045856277257,
                          -12.332823472083438
                        ],
                        [
                          -45.92030930073452,
                          -12.340556359516148
                        ],
                        [
                          -45.92030928347205,
                          -12.340557160363208
                        ],
                        [
                          -45.92021936836131,
                          -12.344333704802484
                        ],
                        [
                          -45.926443261551164,
                          -12.345859614434595
                        ],
                        [
                          -45.926578069965466,
                          -12.345887739979482
                        ]
                      ]
                    ],
                    "type": "Polygon"
                  },
                  "id": "20",
                  "properties": {
                    "Apr_2020": "Uncultivated soil",
                    "Aug_2020": "Brachiaria",
                    "Dec_2019": "Uncultivated soil",
                    "Feb_2020": "Soybean",
                    "Jan_2020": "Soybean",
                    "Jul_2020": "Brachiaria",
                    "Jun_2020": "Brachiaria",
                    "Mar_2020": "Uncultivated soil",
                    "May_2020": "Uncultivated soil",
                    "Note": null,
                    "Nov_2019": "Uncultivated soil",
                    "Oct_2019": "Uncultivated soil",
                    "Sep_2020": "Brachiaria",
                    "id": "403"
                  },
                  "type": "Feature"
                },
                {
                  "geometry": {
                    "coordinates": [
                      [
                        [
                          -45.90644710943046,
                          -12.343171486220898
                        ],
                        [
                          -45.906453651744684,
                          -12.343171056330617
                        ],
                        [
                          -45.9080349674839,
                          -12.34309495031764
                        ],
                        [
                          -45.90917496352905,
                          -12.342968284132642
                        ],
                        [
                          -45.90918477607537,
                          -12.342967454711959
                        ],
                        [
                          -45.91049533903866,
                          -12.342891357582063
                        ],
                        [
                          -45.911514168140094,
                          -12.342777248832862
                        ],
                        [
                          -45.91154465477605,
                          -12.342760311822714
                        ],
                        [
                          -45.91157492846909,
                          -12.341905096898266
                        ],
                        [
                          -45.91160037739888,
                          -12.337893090855907
                        ],
                        [
                          -45.911600408939194,
                          -12.337890685082561
                        ],
                        [
                          -45.911707003219654,
                          -12.33252835811015
                        ],
                        [
                          -45.911508285617366,
                          -12.332532677997763
                        ],
                        [
                          -45.911501538292285,
                          -12.33253270296073
                        ],
                        [
                          -45.90736003605865,
                          -12.332473296369528
                        ],
                        [
                          -45.899790788791464,
                          -12.332397011054788
                        ],
                        [
                          -45.89931468475555,
                          -12.332441645872823
                        ],
                        [
                          -45.89931088893418,
                          -12.332444809058858
                        ],
                        [
                          -45.89925348445976,
                          -12.332868169163477
                        ],
                        [
                          -45.89913499814527,
                          -12.335838842385563
                        ],
                        [
                          -45.89913473588776,
                          -12.335843728467179
                        ],
                        [
                          -45.89867017139411,
                          -12.342727801383642
                        ],
                        [
                          -45.89867317537964,
                          -12.342737414120027
                        ],
                        [
                          -45.89881193835248,
                          -12.342775693540343
                        ],
                        [
                          -45.9005401128529,
                          -12.34303702729329
                        ],
                        [
                          -45.902490203199605,
                          -12.343315611756077
                        ],
                        [
                          -45.90363264095597,
                          -12.343357306621169
                        ],
                        [
                          -45.90474252522929,
                          -12.34327322451031
                        ],
                        [
                          -45.904750625436165,
                          -12.34327278724705
                        ],
                        [
                          -45.90553520399241,
                          -12.343247478305496
                        ],
                        [
                          -45.90644710943046,
                          -12.343171486220898
                        ]
                      ]
                    ],
                    "type": "Polygon"
                  },
                  "id": "21",
                  "properties": {
                    "Apr_2020": "Uncultivated soil",
                    "Aug_2020": "Sorghum",
                    "Dec_2019": "Uncultivated soil",
                    "Feb_2020": "Soybean",
                    "Jan_2020": "Soybean",
                    "Jul_2020": "Sorghum",
                    "Jun_2020": "Sorghum",
                    "Mar_2020": "Uncultivated soil",
                    "May_2020": "Uncultivated soil",
                    "Note": null,
                    "Nov_2019": "Uncultivated soil",
                    "Oct_2019": "Uncultivated soil",
                    "Sep_2020": "Sorghum",
                    "id": "406"
                  },
                  "type": "Feature"
                },
                {
                  "geometry": {
                    "coordinates": [
                      [
                        [
                          -45.90743870718317,
                          -12.32160015214368
                        ],
                        [
                          -45.90735278740726,
                          -12.321600901958332
                        ],
                        [
                          -45.90726689370047,
                          -12.321603151168311
                        ],
                        [
                          -45.90718105212528,
                          -12.32160689909651
                        ],
                        [
                          -45.9070952887286,
                          -12.321612144614612
                        ],
                        [
                          -45.90700962953486,
                          -12.321618886143444
                        ],
                        [
                          -45.90692410053657,
                          -12.321627121653357
                        ],
                        [
                          -45.90683872768811,
                          -12.321636848664866
                        ],
                        [
                          -45.9067535369006,
                          -12.32164806424893
                        ],
                        [
                          -45.90666855402932,
                          -12.321660765028293
                        ],
                        [
                          -45.906583804867005,
                          -12.32167494717846
                        ],
                        [
                          -45.90649931514207,
                          -12.321690606427671
                        ],
                        [
                          -45.9064151105025,
                          -12.321707738059615
                        ],
                        [
                          -45.906331216517785,
                          -12.321726336912791
                        ],
                        [
                          -45.90624765865806,
                          -12.321746397384715
                        ],
                        [
                          -45.90616446230347,
                          -12.321767913429802
                        ],
                        [
                          -45.9060816527212,
                          -12.321790878564498
                        ],
                        [
                          -45.90599925506616,
                          -12.321815285867137
                        ],
                        [
                          -45.90591729437513,
                          -12.3218411279793
                        ],
                        [
                          -45.90583579555285,
                          -12.321868397109629
                        ],
                        [
                          -45.90575478336687,
                          -12.321897085035445
                        ],
                        [
                          -45.90567428244535,
                          -12.321927183103234
                        ],
                        [
                          -45.90559431726114,
                          -12.321958682233937
                        ],
                        [
                          -45.90551491213205,
                          -12.321991572922753
                        ],
                        [
                          -45.90543609120809,
                          -12.32202584524381
                        ],
                        [
                          -45.90535787846807,
                          -12.322061488851443
                        ],
                        [
                          -45.90528029770838,
                          -12.322098492984685
                        ],
                        [
                          -45.905203372541344,
                          -12.322136846467883
                        ],
                        [
                          -45.90512712638188,
                          -12.322176537716649
                        ],
                        [
                          -45.90505158244605,
                          -12.322217554738335
                        ],
                        [
                          -45.90497676373831,
                          -12.322259885138454
                        ],
                        [
                          -45.90490269305107,
                          -12.322303516120478
                        ],
                        [
                          -45.90482939295163,
                          -12.322348434492971
                        ],
                        [
                          -45.904756885777495,
                          -12.32239462667209
                        ],
                        [
                          -45.904685193632325,
                          -12.322442078683677
                        ],
                        [
                          -45.90461433837562,
                          -12.322490776169419
                        ],
                        [
                          -45.90454434161495,
                          -12.322540704391752
                        ],
                        [
                          -45.90447522470562,
                          -12.322591848233744
                        ],
                        [
                          -45.90440700873668,
                          -12.322644192208552
                        ],
                        [
                          -45.90433971452714,
                          -12.322697720462056
                        ],
                        [
                          -45.904273362623435,
                          -12.322752416774339
                        ],
                        [
                          -45.90420797328516,
                          -12.3228082645706
                        ],
                        [
                          -45.90414356648684,
                          -12.322865246919378
                        ],
                        [
                          -45.90408016190585,
                          -12.32292334654239
                        ],
                        [
                          -45.90401777891853,
                          -12.322982545817704
                        ],
                        [
                          -45.90395643659412,
                          -12.323042826784793
                        ],
                        [
                          -45.903896153689274,
                          -12.323104171149302
                        ],
                        [
                          -45.903836948640205,
                          -12.323166560290415
                        ],
                        [
                          -45.90377883955854,
                          -12.323229975264681
                        ],
                        [
                          -45.90372184422573,
                          -12.3232943968113
                        ],
                        [
                          -45.9036659800863,
                          -12.323359805359186
                        ],
                        [
                          -45.903611264241846,
                          -12.323426181033371
                        ],
                        [
                          -45.90355771344858,
                          -12.323493503657337
                        ],
                        [
                          -45.903505344107835,
                          -12.323561752764055
                        ],
                        [
                          -45.90345417226423,
                          -12.323630907598005
                        ],
                        [
                          -45.903404213598925,
                          -12.323700947123287
                        ],
                        [
                          -45.90335548342469,
                          -12.32377185002997
                        ],
                        [
                          -45.903307996681214,
                          -12.323843594740216
                        ],
                        [
                          -45.90326176793019,
                          -12.323916159414898
                        ],
                        [
                          -45.90321681135078,
                          -12.323989521960005
                        ],
                        [
                          -45.90317314073545,
                          -12.324063660032644
                        ],
                        [
                          -45.90313076948357,
                          -12.324138551051117
                        ],
                        [
                          -45.90308971059984,
                          -12.3242141721971
                        ],
                        [
                          -45.90304997668837,
                          -12.324290500425564
                        ],
                        [
                          -45.903011579948384,
                          -12.324367512472207
                        ],
                        [
                          -45.90297453217181,
                          -12.324445184857531
                        ],
                        [
                          -45.90293884473726,
                          -12.32452349389864
                        ],
                        [
                          -45.902904528608225,
                          -12.324602415712333
                        ],
                        [
                          -45.90287159432877,
                          -12.324681926224152
                        ],
                        [
                          -45.90284005201963,
                          -12.324762001176813
                        ],
                        [
                          -45.90280991137575,
                          -12.324842616135633
                        ],
                        [
                          -45.90278118166247,
                          -12.324923746497817
                        ],
                        [
                          -45.90275387171284,
                          -12.325005367498981
                        ],
                        [
                          -45.90272798992437,
                          -12.325087454221965
                        ],
                        [
                          -45.902703544256795,
                          -12.32516998160298
                        ],
                        [
                          -45.90268054222905,
                          -12.325252924440544
                        ],
                        [
                          -45.90265899091663,
                          -12.325336257404071
                        ],
                        [
                          -45.902638896949924,
                          -12.325419955039411
                        ],
                        [
                          -45.90262026651142,
                          -12.325503991778929
                        ],
                        [
                          -45.90260310533394,
                          -12.325588341948457
                        ],
                        [
                          -45.90258741869869,
                          -12.325672979775549
                        ],
                        [
                          -45.902573211433385,
                          -12.325757879398187
                        ],
                        [
                          -45.902560487911025,
                          -12.3258430148711
                        ],
                        [
                          -45.902549252047976,
                          -12.325928360176349
                        ],
                        [
                          -45.90253950730306,
                          -12.326013889228829
                        ],
                        [
                          -45.90253125667616,
                          -12.32609957588701
                        ],
                        [
                          -45.9025245027074,
                          -12.326185393958983
                        ],
                        [
                          -45.90251924747614,
                          -12.326271317212168
                        ],
                        [
                          -45.902515492600465,
                          -12.326357319380612
                        ],
                        [
                          -45.90251323923648,
                          -12.326443374173815
                        ],
                        [
                          -45.902512488078045,
                          -12.326529455284637
                        ],
                        [
                          -45.902513239356516,
                          -12.326615536397611
                        ],
                        [
                          -45.90251549284062,
                          -12.326701591197489
                        ],
                        [
                          -45.90251924783658,
                          -12.326787593376949
                        ],
                        [
                          -45.90252450318835,
                          -12.3268735166454
                        ],
                        [
                          -45.90253125727796,
                          -12.326959334737072
                        ],
                        [
                          -45.90253950802606,
                          -12.327045021418957
                        ],
                        [
                          -45.902549252892655,
                          -12.327130550499497
                        ],
                        [
                          -45.90256048887784,
                          -12.327215895836316
                        ],
                        [
                          -45.902573212522945,
                          -12.327301031344952
                        ],
                        [
                          -45.902587419911505,
                          -12.327385931006601
                        ],
                        [
                          -45.90260310667073,
                          -12.327470568876583
                        ],
                        [
                          -45.90262026797282,
                          -12.327554919092156
                        ],
                        [
                          -45.9026388985365,
                          -12.327638955880305
                        ],
                        [
                          -45.902658992629156,
                          -12.327722653567683
                        ],
                        [
                          -45.90268054406801,
                          -12.327805986585238
                        ],
                        [
                          -45.902703546223016,
                          -12.32788892947993
                        ],
                        [
                          -45.90272799201827,
                          -12.327971456919586
                        ],
                        [
                          -45.90275387393487,
                          -12.328053543702858
                        ],
                        [
                          -45.902781184013264,
                          -12.328135164766431
                        ],
                        [
                          -45.90280991385565,
                          -12.328216295192181
                        ],
                        [
                          -45.902840054628605,
                          -12.328296910214792
                        ],
                        [
                          -45.90287159706729,
                          -12.328376985232788
                        ],
                        [
                          -45.9029045314761,
                          -12.328456495809778
                        ],
                        [
                          -45.90293884773443,
                          -12.328535417688975
                        ],
                        [
                          -45.9029745352977,
                          -12.328613726794712
                        ],
                        [
                          -45.903011583203075,
                          -12.328691399245367
                        ],
                        [
                          -45.90304998007067,
                          -12.32876841135545
                        ],
                        [
                          -45.903089714108944,
                          -12.328844739646408
                        ],
                        [
                          -45.90313077311825,
                          -12.328920360853319
                        ],
                        [
                          -45.90317314449459,
                          -12.32899525193142
                        ],
                        [
                          -45.90321681523285,
                          -12.329069390061871
                        ],
                        [
                          -45.90326177193301,
                          -12.329142752662019
                        ],
                        [
                          -45.90330800080271,
                          -12.329215317389393
                        ],
                        [
                          -45.903355487662175,
                          -12.329287062149232
                        ],
                        [
                          -45.90340421795039,
                          -12.329357965103618
                        ],
                        [
                          -45.90345417672607,
                          -12.32942800467262
                        ],
                        [
                          -45.903505348676354,
                          -12.329497159546396
                        ],
                        [
                          -45.90355771812083,
                          -12.329565408690392
                        ],
                        [
                          -45.90361126901379,
                          -12.32963273134779
                        ],
                        [
                          -45.903665984952966,
                          -12.329699107050766
                        ],
                        [
                          -45.90372184918296,
                          -12.329764515624017
                        ],
                        [
                          -45.90377884460162,
                          -12.329828937192193
                        ],
                        [
                          -45.90383695376266,
                          -12.329892352182458
                        ],
                        [
                          -45.903896158886354,
                          -12.329954741336316
                        ],
                        [
                          -45.90395644186007,
                          -12.330016085709426
                        ],
                        [
                          -45.904017784246236,
                          -12.33007636667995
                        ],
                        [
                          -45.904080167289365,
                          -12.330135565954922
                        ],
                        [
                          -45.90414357191911,
                          -12.330193665573125
                        ],
                        [
                          -45.90420797875878,
                          -12.330250647912571
                        ],
                        [
                          -45.90427336813082,
                          -12.330306495695153
                        ],
                        [
                          -45.90433972006128,
                          -12.330361191990177
                        ],
                        [
                          -45.90440701428794,
                          -12.330414720221064
                        ],
                        [
                          -45.904475230266996,
                          -12.330467064170263
                        ],
                        [
                          -45.904544347178074,
                          -12.330518207982859
                        ],
                        [
                          -45.90461434393051,
                          -12.330568136171255
                        ],
                        [
                          -45.90468519917194,
                          -12.330616833620782
                        ],
                        [
                          -45.904756891291086,
                          -12.330664285591721
                        ],
                        [
                          -45.904829398430046,
                          -12.330710477727134
                        ],
                        [
                          -45.9049026984868,
                          -12.330755396054169
                        ],
                        [
                          -45.90497676911984,
                          -12.330799026986828
                        ],
                        [
                          -45.90505158776484,
                          -12.330841357335755
                        ],
                        [
                          -45.90512713162835,
                          -12.330882374304105
                        ],
                        [
                          -45.90520337770567,
                          -12.330922065497548
                        ],
                        [
                          -45.90528030278061,
                          -12.330960418923661
                        ],
                        [
                          -45.90535788343925,
                          -12.33099742299882
                        ],
                        [
                          -45.905436096068684,
                          -12.331033066547375
                        ],
                        [
                          -45.90551491687267,
                          -12.331067338808674
                        ],
                        [
                          -45.90559432187178,
                          -12.331100229437062
                        ],
                        [
                          -45.90567428691833,
                          -12.331131728507874
                        ],
                        [
                          -45.90575478769148,
                          -12.331161826515359
                        ],
                        [
                          -45.90583579972141,
                          -12.331190514381829
                        ],
                        [
                          -45.90591729837985,
                          -12.331217783453898
                        ],
                        [
                          -45.90599925889791,
                          -12.331243625508687
                        ],
                        [
                          -45.90608165637087,
                          -12.3312680327551
                        ],
                        [
                          -45.906164465765926,
                          -12.33129099783605
                        ],
                        [
                          -45.90624766192386,
                          -12.331312513828847
                        ],
                        [
                          -45.906331219580956,
                          -12.331332574251062
                        ],
                        [
                          -45.90641511335744,
                          -12.331351173057271
                        ],
                        [
                          -45.90649931778091,
                          -12.3313683046447
                        ],
                        [
                          -45.90658380728432,
                          -12.331383963852513
                        ],
                        [
                          -45.906668556219394,
                          -12.331398145964453
                        ],
                        [
                          -45.906753538861054,
                          -12.33141084670943
                        ],
                        [
                          -45.90683872941304,
                          -12.331422062262508
                        ],
                        [
                          -45.90692410202124,
                          -12.331431789246706
                        ],
                        [
                          -45.907009630777985,
                          -12.331440024733476
                        ],
                        [
                          -45.90709528972672,
                          -12.331446766243136
                        ],
                        [
                          -45.90718105287485,
                          -12.331452011746157
                        ],
                        [
                          -45.90726689420174,
                          -12.3314557596636
                        ],
                        [
                          -45.90735278765756,
                          -12.331458008867052
                        ],
                        [
                          -45.90743870718372,
                          -12.331458758679535
                        ],
                        [
                          -45.907524626710206,
                          -12.331458008875293
                        ],
                        [
                          -45.90761052016678,
                          -12.331455759680084
                        ],
                        [
                          -45.90769636149334,
                          -12.331452011770912
                        ],
                        [
                          -45.90778212464309,
                          -12.331446766276022
                        ],
                        [
                          -45.907867783594526,
                          -12.331440024774409
                        ],
                        [
                          -45.90795331235118,
                          -12.331431789295928
                        ],
                        [
                          -45.90803868496139,
                          -12.331422062319737
                        ],
                        [
                          -45.90812387551602,
                          -12.33141084677457
                        ],
                        [
                          -45.908208858160215,
                          -12.331398146037463
                        ],
                        [
                          -45.90829360709778,
                          -12.331383963933364
                        ],
                        [
                          -45.90837809660459,
                          -12.331368304733157
                        ],
                        [
                          -45.90846230103087,
                          -12.331351173153413
                        ],
                        [
                          -45.90854619481194,
                          -12.33133257435445
                        ],
                        [
                          -45.908629752471725,
                          -12.331312513939855
                        ],
                        [
                          -45.908712948634765,
                          -12.331290997954017
                        ],
                        [
                          -45.908795758034024,
                          -12.331268032880176
                        ],
                        [
                          -45.90887815551136,
                          -12.331243625640719
                        ],
                        [
                          -45.90896011603401,
                          -12.331217783592745
                        ],
                        [
                          -45.909041614698374,
                          -12.331190514526966
                        ],
                        [
                          -45.9091226267323,
                          -12.331161826667346
                        ],
                        [
                          -45.909203127512725,
                          -12.331131728665419
                        ],
                        [
                          -45.90928309256327,
                          -12.331100229601297
                        ],
                        [
                          -45.909362497569674,
                          -12.331067338978166
                        ],
                        [
                          -45.90944131837971,
                          -12.331033066722501
                        ],
                        [
                          -45.909519531015306,
                          -12.330997423179442
                        ],
                        [
                          -45.909597111680974,
                          -12.3309604191092
                        ],
                        [
                          -45.90967403676208,
                          -12.330922065688288
                        ],
                        [
                          -45.90975028284687,
                          -12.330882374499256
                        ],
                        [
                          -45.90982582671705,
                          -12.330841357535562
                        ],
                        [
                          -45.909900645369575,
                          -12.330799027190665
                        ],
                        [
                          -45.90997471601016,
                          -12.33075539626185
                        ],
                        [
                          -45.91004801607428,
                          -12.33071047793861
                        ],
                        [
                          -45.91012052322028,
                          -12.330664285807021
                        ],
                        [
                          -45.910192215348296,
                          -12.330616833838505
                        ],
                        [
                          -45.91026307059724,
                          -12.33056813639211
                        ],
                        [
                          -45.9103330673571,
                          -12.33051820820675
                        ],
                        [
                          -45.910402184276506,
                          -12.330467064396256
                        ],
                        [
                          -45.91047040026361,
                          -12.330414720449198
                        ],
                        [
                          -45.91053769449909,
                          -12.330361192219627
                        ],
                        [
                          -45.91060404643748,
                          -12.33030649592638
                        ],
                        [
                          -45.9106694358175,
                          -12.330250648145288
                        ],
                        [
                          -45.91073384266615,
                          -12.33019366580623
                        ],
                        [
                          -45.91079724730384,
                          -12.330135566189078
                        ],
                        [
                          -45.91085963035547,
                          -12.330076366914343
                        ],
                        [
                          -45.9109209727502,
                          -12.330016085943754
                        ],
                        [
                          -45.91098125573218,
                          -12.329954741570546
                        ],
                        [
                          -45.91104046086366,
                          -12.32989235241682
                        ],
                        [
                          -45.911098570034014,
                          -12.329828937424718
                        ],
                        [
                          -45.91115556546031,
                          -12.329764515856247
                        ],
                        [
                          -45.911211429698994,
                          -12.329699107281197
                        ],
                        [
                          -45.9112661456466,
                          -12.329632731576337
                        ],
                        [
                          -45.911319696547324,
                          -12.329565408917507
                        ],
                        [
                          -45.91137206599952,
                          -12.329497159771826
                        ],
                        [
                          -45.9114232379584,
                          -12.329428004894764
                        ],
                        [
                          -45.91147319674194,
                          -12.329357965323117
                        ],
                        [
                          -45.911521927037334,
                          -12.32928706236662
                        ],
                        [
                          -45.91156941390527,
                          -12.329215317602346
                        ],
                        [
                          -45.91161564278217,
                          -12.329142752872057
                        ],
                        [
                          -45.91166059948962,
                          -12.329069390268362
                        ],
                        [
                          -45.91170427023549,
                          -12.328995252133396
                        ],
                        [
                          -45.91174664161871,
                          -12.328920361051475
                        ],
                        [
                          -45.911787700635095,
                          -12.328844739839905
                        ],
                        [
                          -45.91182743468005,
                          -12.328768411544477
                        ],
                        [
                          -45.91186583155448,
                          -12.328691399429093
                        ],
                        [
                          -45.91190287946627,
                          -12.32861372697335
                        ],
                        [
                          -45.91193856703585,
                          -12.32853541786217
                        ],
                        [
                          -45.91197288330013,
                          -12.328456495977662
                        ],
                        [
                          -45.91200581771498,
                          -12.32837698539448
                        ],
                        [
                          -45.91203736015914,
                          -12.328296910370975
                        ],
                        [
                          -45.912067500937674,
                          -12.328216295341825
                        ],
                        [
                          -45.91209623078526,
                          -12.328135164909776
                        ],
                        [
                          -45.91212354086852,
                          -12.328053543840072
                        ],
                        [
                          -45.91214942278991,
                          -12.32797145704998
                        ],
                        [
                          -45.912173868589804,
                          -12.32788892960307
                        ],
                        [
                          -45.91219687074892,
                          -12.32780598670192
                        ],
                        [
                          -45.91221842219194,
                          -12.327722653676705
                        ],
                        [
                          -45.91223851628825,
                          -12.32763895598252
                        ],
                        [
                          -45.91225714685547,
                          -12.327554919186749
                        ],
                        [
                          -45.91227430816078,
                          -12.327470568963742
                        ],
                        [
                          -45.91228999492294,
                          -12.327385931086331
                        ],
                        [
                          -45.91230420231424,
                          -12.327301031416756
                        ],
                        [
                          -45.91231692596175,
                          -12.32721589590046
                        ],
                        [
                          -45.91232816194908,
                          -12.327130550555765
                        ],
                        [
                          -45.91233790681753,
                          -12.327045021467328
                        ],
                        [
                          -45.91234615756719,
                          -12.326959334777548
                        ],
                        [
                          -45.912352911658104,
                          -12.32687351667778
                        ],
                        [
                          -45.91235816701088,
                          -12.326787593401242
                        ],
                        [
                          -45.91236192200756,
                          -12.32670159121371
                        ],
                        [
                          -45.912364175492094,
                          -12.326615536405756
                        ],
                        [
                          -45.912364926770714,
                          -12.326529455284616
                        ],
                        [
                          -45.91236417561213,
                          -12.326443374165736
                        ],
                        [
                          -45.912361922247726,
                          -12.326357319364385
                        ],
                        [
                          -45.91235816737132,
                          -12.326271317187823
                        ],
                        [
                          -45.91235291213907,
                          -12.326185393926698
                        ],
                        [
                          -45.912346158168994,
                          -12.326099575846563
                        ],
                        [
                          -45.91233790754052,
                          -12.32601388918045
                        ],
                        [
                          -45.91232816279374,
                          -12.32592836011993
                        ],
                        [
                          -45.912316926928575,
                          -12.325843014807083
                        ],
                        [
                          -45.912304203403764,
                          -12.32575787932617
                        ],
                        [
                          -45.912289996135826,
                          -12.325672979696131
                        ],
                        [
                          -45.91227430949757,
                          -12.32558834186124
                        ],
                        [
                          -45.91225714831682,
                          -12.325503991684077
                        ],
                        [
                          -45.91223851787485,
                          -12.325419954937283
                        ],
                        [
                          -45.912218423904406,
                          -12.325336257294808
                        ],
                        [
                          -45.912196872588034,
                          -12.325252924324381
                        ],
                        [
                          -45.91217387055592,
                          -12.325169981479451
                        ],
                        [
                          -45.9121494248838,
                          -12.325087454091497
                        ],
                        [
                          -45.91212354309074,
                          -12.325005367362357
                        ],
                        [
                          -45.91209623313597,
                          -12.324923746354225
                        ],
                        [
                          -45.91206750341754,
                          -12.324842615985915
                        ],
                        [
                          -45.912037362768146,
                          -12.324762001020728
                        ],
                        [
                          -45.91200582045348,
                          -12.324681926062425
                        ],
                        [
                          -45.91197288616795,
                          -12.324602415544314
                        ],
                        [
                          -45.911938570032994,
                          -12.324523493725374
                        ],
                        [
                          -45.91190288259219,
                          -12.32444518467893
                        ],
                        [
                          -45.91186583480911,
                          -12.324367512288347
                        ],
                        [
                          -45.9118274380625,
                          -12.324290500236815
                        ],
                        [
                          -45.91178770414404,
                          -12.324214172003304
                        ],
                        [
                          -45.91174664525346,
                          -12.324138550853034
                        ],
                        [
                          -45.91170427399469,
                          -12.324063659830754
                        ],
                        [
                          -45.911660603371715,
                          -12.32398952175353
                        ],
                        [
                          -45.911615646784924,
                          -12.323916159204721
                        ],
                        [
                          -45.911569418026566,
                          -12.323843594526926
                        ],
                        [
                          -45.91152193127542,
                          -12.323771849813445
                        ],
                        [
                          -45.91147320109323,
                          -12.323700946903529
                        ],
                        [
                          -45.911423242419744,
                          -12.323630907375136
                        ],
                        [
                          -45.911372070568525,
                          -12.323561752539248
                        ],
                        [
                          -45.91131970121965,
                          -12.323493503430301
                        ],
                        [
                          -45.91126615041814,
                          -12.32342618080432
                        ],
                        [
                          -45.911211434565594,
                          -12.323359805128657
                        ],
                        [
                          -45.91115557041767,
                          -12.323294396579161
                        ],
                        [
                          -45.911098575076636,
                          -12.323229975031603
                        ],
                        [
                          -45.91104046598665,
                          -12.323166560056611
                        ],
                        [
                          -45.91098126092952,
                          -12.323104170915327
                        ],
                        [
                          -45.910920978015724,
                          -12.323042826550031
                        ],
                        [
                          -45.91085963568359,
                          -12.322982545583685
                        ],
                        [
                          -45.91079725268726,
                          -12.322923346308144
                        ],
                        [
                          -45.91073384809801,
                          -12.322865246685874
                        ],
                        [
                          -45.91066944129137,
                          -12.322808264338061
                        ],
                        [
                          -45.91060405194482,
                          -12.322752416543072
                        ],
                        [
                          -45.910537700032904,
                          -12.32269772023233
                        ],
                        [
                          -45.910470405815204,
                          -12.32264419198064
                        ],
                        [
                          -45.91040218983832,
                          -12.322591848008054
                        ],
                        [
                          -45.91033307292023,
                          -12.322540704167901
                        ],
                        [
                          -45.91026307615219,
                          -12.322490775948598
                        ],
                        [
                          -45.91019222088737,
                          -12.322442078465578
                        ],
                        [
                          -45.91012052873426,
                          -12.322394626457035
                        ],
                        [
                          -45.910048021553415,
                          -12.322348434281958
                        ],
                        [
                          -45.90997472144497,
                          -12.322303515912228
                        ],
                        [
                          -45.90990065075073,
                          -12.322259884934368
                        ],
                        [
                          -45.909825832036475,
                          -12.322217554538858
                        ],
                        [
                          -45.90975028809286,
                          -12.322176537521225
                        ],
                        [
                          -45.90967404192655,
                          -12.322136846277184
                        ],
                        [
                          -45.909597116753154,
                          -12.322098492799102
                        ],
                        [
                          -45.90951953598673,
                          -12.322061488670919
                        ],
                        [
                          -45.90944132323958,
                          -12.322025845068337
                        ],
                        [
                          -45.90936250231004,
                          -12.321991572753127
                        ],
                        [
                          -45.90928309717462,
                          -12.321958682069978
                        ],
                        [
                          -45.90920313198573,
                          -12.321927182945688
                        ],
                        [
                          -45.90912263105753,
                          -12.321897084883673
                        ],
                        [
                          -45.90904161886629,
                          -12.321868396964266
                        ],
                        [
                          -45.90896012003932,
                          -12.321841127840633
                        ],
                        [
                          -45.90887815934282,
                          -12.32181528573503
                        ],
                        [
                          -45.908795761683706,
                          -12.321790878439431
                        ],
                        [
                          -45.908712952096955,
                          -12.321767913311758
                        ],
                        [
                          -45.9086297557378,
                          -12.321746397273762
                        ],
                        [
                          -45.90854619787516,
                          -12.321726336809382
                        ],
                        [
                          -45.90846230388492,
                          -12.321707737963258
                        ],
                        [
                          -45.90837809924361,
                          -12.321690606339205
                        ],
                        [
                          -45.90829360951569,
                          -12.321674947097703
                        ],
                        [
                          -45.90820886035085,
                          -12.321660764955377
                        ],
                        [
                          -45.90812387747575,
                          -12.321648064183686
                        ],
                        [
                          -45.908038686686005,
                          -12.321636848607579
                        ],
                        [
                          -45.90795331383665,
                          -12.321627121604221
                        ],
                        [
                          -45.90786778483642,
                          -12.321618886102382
                        ],
                        [
                          -45.907782125641106,
                          -12.321612144581689
                        ],
                        [
                          -45.90769636224438,
                          -12.321606899071824
                        ],
                        [
                          -45.9076105206672,
                          -12.321603151151795
                        ],
                        [
                          -45.9075246269614,
                          -12.321600901950104
                        ],
                        [
                          -45.90743870718317,
                          -12.32160015214368
                        ]
                      ]
                    ],
                    "type": "Polygon"
                  },
                  "id": "22",
                  "properties": {
                    "Apr_2020": "Uncultivated soil",
                    "Aug_2020": "Corn",
                    "Dec_2019": "Soybean",
                    "Feb_2020": "Soybean",
                    "Jan_2020": "Soybean",
                    "Jul_2020": "Corn",
                    "Jun_2020": "Corn",
                    "Mar_2020": "Uncultivated soil",
                    "May_2020": "Corn",
                    "Note": null,
                    "Nov_2019": "Uncultivated soil",
                    "Oct_2019": "Uncultivated soil",
                    "Sep_2020": "Corn",
                    "id": "407"
                  },
                  "type": "Feature"
                },
                {
                  "geometry": {
                    "coordinates": [
                      [
                        [
                          [
                            -45.914328939340365,
                            -12.331551073680957
                          ],
                          [
                            -45.91388469855233,
                            -12.32758114801046
                          ],
                          [
                            -45.91313160494119,
                            -12.321291543991725
                          ],
                          [
                            -45.9086639182691,
                            -12.321305591289377
                          ],
                          [
                            -45.90939526192603,
                            -12.321513617600687
                          ],
                          [
                            -45.909420589258026,
                            -12.32152285218083
                          ],
                          [
                            -45.910006226488335,
                            -12.321785964559547
                          ],
                          [
                            -45.91001867358461,
                            -12.321792127481707
                          ],
                          [
                            -45.910030610358106,
                            -12.321799199388217
                          ],
                          [
                            -45.91079448512333,
                            -12.322291474165091
                          ],
                          [
                            -45.9108151786049,
                            -12.322306972526619
                          ],
                          [
                            -45.91147720353377,
                            -12.322879878534929
                          ],
                          [
                            -45.911491673623615,
                            -12.322893866964312
                          ],
                          [
                            -45.91150448837058,
                            -12.32290933761658
                          ],
                          [
                            -45.91206890732052,
                            -12.323673212356418
                          ],
                          [
                            -45.912083116593365,
                            -12.323695750525518
                          ],
                          [
                            -45.91240564186145,
                            -12.324302606611843
                          ],
                          [
                            -45.91241372604414,
                            -12.324320001015108
                          ],
                          [
                            -45.91269805767704,
                            -12.325028707114859
                          ],
                          [
                            -45.9127033115463,
                            -12.325043696452326
                          ],
                          [
                            -45.91270720997751,
                            -12.325059080638589
                          ],
                          [
                            -45.912868472985245,
                            -12.325839930555286
                          ],
                          [
                            -45.91287172791348,
                            -12.325863650787376
                          ],
                          [
                            -45.912926897214476,
                            -12.326661475770546
                          ],
                          [
                            -45.9129270477094,
                            -12.32668359510872
                          ],
                          [
                            -45.91292445053109,
                            -12.326705567045787
                          ],
                          [
                            -45.912754701155365,
                            -12.327639192180964
                          ],
                          [
                            -45.91275059222062,
                            -12.327656712264856
                          ],
                          [
                            -45.91255962388303,
                            -12.32831873740611
                          ],
                          [
                            -45.912555009370976,
                            -12.328332583248631
                          ],
                          [
                            -45.9125492761733,
                            -12.32834601889738
                          ],
                          [
                            -45.912090951655784,
                            -12.329309350459017
                          ],
                          [
                            -45.912083265443826,
                            -12.329323775297427
                          ],
                          [
                            -45.912074290623735,
                            -12.329337461819641
                          ],
                          [
                            -45.91159899081213,
                            -12.329995243361045
                          ],
                          [
                            -45.91158474236266,
                            -12.330012588938729
                          ],
                          [
                            -45.91118582989818,
                            -12.330441207912243
                          ],
                          [
                            -45.91117284884789,
                            -12.33045383540151
                          ],
                          [
                            -45.911158658270004,
                            -12.330465135074913
                          ],
                          [
                            -45.91014864549381,
                            -12.331190816790533
                          ],
                          [
                            -45.910132512196846,
                            -12.33120117897091
                          ],
                          [
                            -45.910115364762426,
                            -12.33120982461788
                          ],
                          [
                            -45.90936198513043,
                            -12.331541883284826
                          ],
                          [
                            -45.914328939340365,
                            -12.331551073680957
                          ]
                        ]
                      ],
                      [
                        [
                          [
                            -45.90604767664532,
                            -12.32131378333858
                          ],
                          [
                            -45.90523392977412,
                            -12.321316326254797
                          ],
                          [
                            -45.90501521218952,
                            -12.321450378978435
                          ],
                          [
                            -45.90499631584888,
                            -12.32146050202574
                          ],
                          [
                            -45.904976346328574,
                            -12.32146838565673
                          ],
                          [
                            -45.904254908381915,
                            -12.321706035854668
                          ],
                          [
                            -45.90423564641183,
                            -12.321711255578757
                          ],
                          [
                            -45.90328504575567,
                            -12.321914955769772
                          ],
                          [
                            -45.90325832399253,
                            -12.32191868891919
                          ],
                          [
                            -45.90249444842176,
                            -12.321969613993327
                          ],
                          [
                            -45.90247004165401,
                            -12.3219696451453
                          ],
                          [
                            -45.90180801615057,
                            -12.321927207645139
                          ],
                          [
                            -45.90179035137811,
                            -12.321925228552766
                          ],
                          [
                            -45.901772963481015,
                            -12.321921581692417
                          ],
                          [
                            -45.90092421287484,
                            -12.321700906569252
                          ],
                          [
                            -45.900906601832745,
                            -12.321695382888613
                          ],
                          [
                            -45.900193651363296,
                            -12.32143227023109
                          ],
                          [
                            -45.90017782568896,
                            -12.32142558263847
                          ],
                          [
                            -45.90016270572101,
                            -12.321417468640089
                          ],
                          [
                            -45.89929698029469,
                            -12.320899730827042
                          ],
                          [
                            -45.89927613854871,
                            -12.320885226816982
                          ],
                          [
                            -45.89884327591435,
                            -12.320537239115696
                          ],
                          [
                            -45.89884205169697,
                            -12.32053624624301
                          ],
                          [
                            -45.89837523905826,
                            -12.320154308522977
                          ],
                          [
                            -45.89836112867068,
                            -12.320141479252946
                          ],
                          [
                            -45.89834845684309,
                            -12.320127272265388
                          ],
                          [
                            -45.8983373619342,
                            -12.320111842681081
                          ],
                          [
                            -45.89792275298312,
                            -12.319466140170857
                          ],
                          [
                            -45.898622082792244,
                            -12.320810260675897
                          ],
                          [
                            -45.89927482587833,
                            -12.322022496518674
                          ],
                          [
                            -45.90013575848493,
                            -12.323604405482985
                          ],
                          [
                            -45.90122603996732,
                            -12.32556860703704
                          ],
                          [
                            -45.90122730275206,
                            -12.325570921812218
                          ],
                          [
                            -45.90196752220224,
                            -12.326951771189302
                          ],
                          [
                            -45.901941747805324,
                            -12.32630739961681
                          ],
                          [
                            -45.90194240687149,
                            -12.326283432253621
                          ],
                          [
                            -45.90201879493631,
                            -12.32548136345669
                          ],
                          [
                            -45.90202114006237,
                            -12.325464917842156
                          ],
                          [
                            -45.902025009609346,
                            -12.325448753082561
                          ],
                          [
                            -45.90217354120055,
                            -12.324935259367328
                          ],
                          [
                            -45.90217965915836,
                            -12.324917619405586
                          ],
                          [
                            -45.902447015809834,
                            -12.324259838246562
                          ],
                          [
                            -45.90245804407598,
                            -12.324237349259638
                          ],
                          [
                            -45.90290363821,
                            -12.323469230687335
                          ],
                          [
                            -45.902911029844205,
                            -12.323457545602546
                          ],
                          [
                            -45.90291930373505,
                            -12.323446446975774
                          ],
                          [
                            -45.90332670389819,
                            -12.322941440892588
                          ],
                          [
                            -45.903339653066936,
                            -12.322927033971702
                          ],
                          [
                            -45.903887096904064,
                            -12.322379590438956
                          ],
                          [
                            -45.90390073335164,
                            -12.322367262259585
                          ],
                          [
                            -45.90391556186901,
                            -12.3223563453373
                          ],
                          [
                            -45.904479980515475,
                            -12.321982895530448
                          ],
                          [
                            -45.9045028381175,
                            -12.321970008445009
                          ],
                          [
                            -45.90530915032846,
                            -12.321588071175022
                          ],
                          [
                            -45.90532414306988,
                            -12.321581758548035
                          ],
                          [
                            -45.90604767664532,
                            -12.32131378333858
                          ]
                        ]
                      ],
                      [
                        [
                          [
                            -45.905294612537205,
                            -12.331452968163099
                          ],
                          [
                            -45.904682796971045,
                            -12.331189207129608
                          ],
                          [
                            -45.904663514981955,
                            -12.33117952641037
                          ],
                          [
                            -45.90464552354407,
                            -12.331167685036867
                          ],
                          [
                            -45.90392832953278,
                            -12.330632972222713
                          ],
                          [
                            -45.903911385651,
                            -12.330618666289453
                          ],
                          [
                            -45.90385600716166,
                            -12.33056583828659
                          ],
                          [
                            -45.90434817232773,
                            -12.331438516799194
                          ],
                          [
                            -45.905294612537205,
                            -12.331452968163099
                          ]
                        ]
                      ]
                    ],
                    "type": "MultiPolygon"
                  },
                  "id": "23",
                  "properties": {
                    "Apr_2020": "Uncultivated soil",
                    "Aug_2020": "Millet",
                    "Dec_2019": "Uncultivated soil",
                    "Feb_2020": "Soybean",
                    "Jan_2020": "Soybean",
                    "Jul_2020": "Millet",
                    "Jun_2020": "Uncultivated soil",
                    "Mar_2020": "Soybean",
                    "May_2020": "Uncultivated soil",
                    "Note": null,
                    "Nov_2019": "Uncultivated soil",
                    "Oct_2019": "Uncultivated soil",
                    "Sep_2020": "Uncultivated soil",
                    "id": "408"
                  },
                  "type": "Feature"
                },
                {
                  "geometry": {
                    "coordinates": [
                      [
                        [
                          -45.903656663116514,
                          -12.33150306483296
                        ],
                        [
                          -45.902224010981534,
                          -12.328700045830661
                        ],
                        [
                          -45.89059113208275,
                          -12.328641207185894
                        ],
                        [
                          -45.88807889085166,
                          -12.328657008413018
                        ],
                        [
                          -45.88812392663634,
                          -12.331404074374902
                        ],
                        [
                          -45.903656663116514,
                          -12.33150306483296
                        ]
                      ]
                    ],
                    "type": "Polygon"
                  },
                  "id": "24",
                  "properties": {
                    "Apr_2020": "Uncultivated soil",
                    "Aug_2020": "Sorghum",
                    "Dec_2019": "Uncultivated soil",
                    "Feb_2020": "Soybean",
                    "Jan_2020": "Soybean",
                    "Jul_2020": "Sorghum",
                    "Jun_2020": "Sorghum",
                    "Mar_2020": "Uncultivated soil",
                    "May_2020": "Uncultivated soil",
                    "Note": null,
                    "Nov_2019": "Uncultivated soil",
                    "Oct_2019": "Uncultivated soil",
                    "Sep_2020": "Sorghum",
                    "id": "409"
                  },
                  "type": "Feature"
                },
                {
                  "geometry": {
                    "coordinates": [
                      [
                        [
                          -45.887433898313446,
                          -12.331384344678275
                        ],
                        [
                          -45.887343145132014,
                          -12.32681764329936
                        ],
                        [
                          -45.88717274286199,
                          -12.319571298246556
                        ],
                        [
                          -45.88665455811105,
                          -12.319918591902978
                        ],
                        [
                          -45.88664103451527,
                          -12.319926836488314
                        ],
                        [
                          -45.884366383524586,
                          -12.321182987380055
                        ],
                        [
                          -45.884363685958235,
                          -12.321184447989532
                        ],
                        [
                          -45.88215693495334,
                          -12.322355723832455
                        ],
                        [
                          -45.88215121063126,
                          -12.322358635913487
                        ],
                        [
                          -45.88018875961604,
                          -12.323314485169004
                        ],
                        [
                          -45.87864190943717,
                          -12.324227380593411
                        ],
                        [
                          -45.87862460178519,
                          -12.324236398769653
                        ],
                        [
                          -45.878606416879315,
                          -12.324243556038478
                        ],
                        [
                          -45.878587560969684,
                          -12.324248771223287
                        ],
                        [
                          -45.87655055956917,
                          -12.324698609138945
                        ],
                        [
                          -45.87654236198043,
                          -12.324700227885982
                        ],
                        [
                          -45.874692085665885,
                          -12.325022753204896
                        ],
                        [
                          -45.874666839987775,
                          -12.325025403884322
                        ],
                        [
                          -45.873741701790486,
                          -12.325059353952316
                        ],
                        [
                          -45.873726251292474,
                          -12.325059282388464
                        ],
                        [
                          -45.87298783823069,
                          -12.325025332397194
                        ],
                        [
                          -45.87296949316918,
                          -12.32502357989453
                        ],
                        [
                          -45.871628467163205,
                          -12.324828367310303
                        ],
                        [
                          -45.87161661750785,
                          -12.324826250399132
                        ],
                        [
                          -45.87050745301887,
                          -12.32459097315647
                        ],
                        [
                          -45.8683734828264,
                          -12.324405410593366
                        ],
                        [
                          -45.86721879170556,
                          -12.324329555035103
                        ],
                        [
                          -45.86615497721422,
                          -12.324329555087441
                        ],
                        [
                          -45.865074685649496,
                          -12.324421673019227
                        ],
                        [
                          -45.864785258796985,
                          -12.324467372020528
                        ],
                        [
                          -45.86450870929508,
                          -12.324598369182574
                        ],
                        [
                          -45.864218682014375,
                          -12.324843776996575
                        ],
                        [
                          -45.86412330030017,
                          -12.32500087647281
                        ],
                        [
                          -45.86424073296505,
                          -12.325783757114811
                        ],
                        [
                          -45.865198624864476,
                          -12.331266844959607
                        ],
                        [
                          -45.874583256138756,
                          -12.331250144088074
                        ],
                        [
                          -45.87458555037514,
                          -12.331250154034308
                        ],
                        [
                          -45.887433898313446,
                          -12.331384344678275
                        ]
                      ]
                    ],
                    "type": "Polygon"
                  },
                  "id": "25",
                  "properties": {
                    "Apr_2020": "Uncultivated soil",
                    "Aug_2020": "Sorghum",
                    "Dec_2019": "Uncultivated soil",
                    "Feb_2020": "Soybean",
                    "Jan_2020": "Soybean",
                    "Jul_2020": "Sorghum",
                    "Jun_2020": "Sorghum",
                    "Mar_2020": "Uncultivated soil",
                    "May_2020": "Uncultivated soil",
                    "Note": null,
                    "Nov_2019": "Uncultivated soil",
                    "Oct_2019": "Uncultivated soil",
                    "Sep_2020": "Sorghum",
                    "id": "410"
                  },
                  "type": "Feature"
                },
                {
                  "geometry": {
                    "coordinates": [
                      [
                        [
                          -45.876648910489706,
                          -12.339373051155428
                        ],
                        [
                          -45.87667152029177,
                          -12.339305477711546
                        ],
                        [
                          -45.876700026643384,
                          -12.3392150673102
                        ],
                        [
                          -45.87672695120755,
                          -12.339124171714653
                        ],
                        [
                          -45.87675228571035,
                          -12.339032818674772
                        ],
                        [
                          -45.876776022365334,
                          -12.338941036084314
                        ],
                        [
                          -45.876798153876464,
                          -12.338848851971107
                        ],
                        [
                          -45.8768186734403,
                          -12.33875629448896
                        ],
                        [
                          -45.87683757474856,
                          -12.33866339190746
                        ],
                        [
                          -45.87685485199001,
                          -12.33857017260409
                        ],
                        [
                          -45.87687049985209,
                          -12.3384766650566
                        ],
                        [
                          -45.87688451352318,
                          -12.338382897831327
                        ],
                        [
                          -45.87689688869373,
                          -12.33828889957719
                        ],
                        [
                          -45.876907621558,
                          -12.338194699014183
                        ],
                        [
                          -45.87691670881505,
                          -12.338100324926645
                        ],
                        [
                          -45.87692414767002,
                          -12.338005806152452
                        ],
                        [
                          -45.876929935834916,
                          -12.337911171575046
                        ],
                        [
                          -45.87693407152944,
                          -12.337816450114323
                        ],
                        [
                          -45.876936553481535,
                          -12.337721670716926
                        ],
                        [
                          -45.87693738092784,
                          -12.337626862347845
                        ],
                        [
                          -45.876936553613874,
                          -12.337532053981281
                        ],
                        [
                          -45.8769340717942,
                          -12.337437274591133
                        ],
                        [
                          -45.87692993623228,
                          -12.337342553142426
                        ],
                        [
                          -45.876924148200246,
                          -12.337247918581944
                        ],
                        [
                          -45.876916709478486,
                          -12.337153399829324
                        ],
                        [
                          -45.876907622355034,
                          -12.33705902576771
                        ],
                        [
                          -45.87689688962488,
                          -12.336964825235363
                        ],
                        [
                          -45.876884514588966,
                          -12.336870827016
                        ],
                        [
                          -45.87687050105316,
                          -12.336777059829968
                        ],
                        [
                          -45.87685485332697,
                          -12.336683552325324
                        ],
                        [
                          -45.87683757622214,
                          -12.336590333068933
                        ],
                        [
                          -45.876818675051155,
                          -12.336497430537753
                        ],
                        [
                          -45.876798155625295,
                          -12.336404873109105
                        ],
                        [
                          -45.87677602425297,
                          -12.336312689053102
                        ],
                        [
                          -45.87675228773739,
                          -12.3362209065222
                        ],
                        [
                          -45.87672695337469,
                          -12.336129553544591
                        ],
                        [
                          -45.87670002895113,
                          -12.336038658013168
                        ],
                        [
                          -45.87667152274081,
                          -12.335948247678393
                        ],
                        [
                          -45.87664144350317,
                          -12.335858350139944
                        ],
                        [
                          -45.87660980047924,
                          -12.335768992835526
                        ],
                        [
                          -45.87657660338994,
                          -12.33568020303627
                        ],
                        [
                          -45.8765418624318,
                          -12.3355920078352
                        ],
                        [
                          -45.87650558827419,
                          -12.335504434140246
                        ],
                        [
                          -45.876467792055436,
                          -12.335417508664863
                        ],
                        [
                          -45.876428485380295,
                          -12.335331257922611
                        ],
                        [
                          -45.87638768031417,
                          -12.335245708214012
                        ],
                        [
                          -45.87634538938116,
                          -12.335160885623308
                        ],
                        [
                          -45.87630162555946,
                          -12.335076816008662
                        ],
                        [
                          -45.87625640227569,
                          -12.334993524991814
                        ],
                        [
                          -45.87620973340332,
                          -12.334911037955244
                        ],
                        [
                          -45.87616163325562,
                          -12.33482938002974
                        ],
                        [
                          -45.87611211658247,
                          -12.334748576089313
                        ],
                        [
                          -45.87606119856479,
                          -12.334668650742177
                        ],
                        [
                          -45.87600889481063,
                          -12.334589628324846
                        ],
                        [
                          -45.87595522134945,
                          -12.334511532893556
                        ],
                        [
                          -45.87590019462687,
                          -12.33443438821694
                        ],
                        [
                          -45.87584383149967,
                          -12.334358217769138
                        ],
                        [
                          -45.87578614923041,
                          -12.334283044722731
                        ],
                        [
                          -45.87572716548201,
                          -12.33420889194195
                        ],
                        [
                          -45.87566689831198,
                          -12.334135781975501
                        ],
                        [
                          -45.87560536616672,
                          -12.334063737049918
                        ],
                        [
                          -45.87554258787503,
                          -12.333992779062054
                        ],
                        [
                          -45.87547858264343,
                          -12.333922929574234
                        ],
                        [
                          -45.875413370048804,
                          -12.333854209806196
                        ],
                        [
                          -45.875346970033966,
                          -12.333786640630745
                        ],
                        [
                          -45.87527940289787,
                          -12.333720242563897
                        ],
                        [
                          -45.875210689294214,
                          -12.333655035763824
                        ],
                        [
                          -45.875140850219026,
                          -12.333591040019229
                        ],
                        [
                          -45.87506990701075,
                          -12.333528274749629
                        ],
                        [
                          -45.87499788133828,
                          -12.3334667589949
                        ],
                        [
                          -45.87492479519551,
                          -12.333406511410884
                        ],
                        [
                          -45.87485067089622,
                          -12.333347550265373
                        ],
                        [
                          -45.87477553106393,
                          -12.333289893430194
                        ],
                        [
                          -45.87469939863054,
                          -12.333233558380465
                        ],
                        [
                          -45.874622296820995,
                          -12.333178562183113
                        ],
                        [
                          -45.87454424915276,
                          -12.333124921497133
                        ],
                        [
                          -45.874465279427525,
                          -12.333072652567706
                        ],
                        [
                          -45.87438541172016,
                          -12.333021771219231
                        ],
                        [
                          -45.874304670376816,
                          -12.332972292854148
                        ],
                        [
                          -45.87422308000003,
                          -12.332924232444107
                        ],
                        [
                          -45.87414066545129,
                          -12.332877604531653
                        ],
                        [
                          -45.87405745183325,
                          -12.332832423220095
                        ],
                        [
                          -45.873973464488685,
                          -12.332788702173307
                        ],
                        [
                          -45.87388872899089,
                          -12.332746454610811
                        ],
                        [
                          -45.8738032711351,
                          -12.332705693303469
                        ],
                        [
                          -45.87371711692911,
                          -12.332666430569372
                        ],
                        [
                          -45.87363029259381,
                          -12.332628678274164
                        ],
                        [
                          -45.87354282454236,
                          -12.33259244782173
                        ],
                        [
                          -45.873454739381195,
                          -12.332557750155273
                        ],
                        [
                          -45.87336606390203,
                          -12.332524595753872
                        ],
                        [
                          -45.873276825068494,
                          -12.332492994627657
                        ],
                        [
                          -45.873187050011836,
                          -12.332462956316382
                        ],
                        [
                          -45.873096766022336,
                          -12.332434489886683
                        ],
                        [
                          -45.873006000541416,
                          -12.332407603929449
                        ],
                        [
                          -45.87291478115187,
                          -12.33238230655722
                        ],
                        [
                          -45.872823135570385,
                          -12.332358605401893
                        ],
                        [
                          -45.872731091640865,
                          -12.332336507613293
                        ],
                        [
                          -45.87263867732303,
                          -12.332316019856233
                        ],
                        [
                          -45.87254592068773,
                          -12.33229714830955
                        ],
                        [
                          -45.87245284990486,
                          -12.332279898663725
                        ],
                        [
                          -45.87235949324038,
                          -12.332264276120187
                        ],
                        [
                          -45.87226587903836,
                          -12.332250285388298
                        ],
                        [
                          -45.872172035726194,
                          -12.33223793068623
                        ],
                        [
                          -45.87207799179225,
                          -12.332227215737827
                        ],
                        [
                          -45.87198377578939,
                          -12.332218143773014
                        ],
                        [
                          -45.87188941631517,
                          -12.332210717525777
                        ],
                        [
                          -45.87179494201734,
                          -12.332204939234602
                        ],
                        [
                          -45.87170038156857,
                          -12.332200810640666
                        ],
                        [
                          -45.87160576367262,
                          -12.332198332988272
                        ],
                        [
                          -45.871511117051426,
                          -12.332197507024084
                        ],
                        [
                          -45.8714164704284,
                          -12.332198332997002
                        ],
                        [
                          -45.87132185253326,
                          -12.332200810658128
                        ],
                        [
                          -45.871227292086054,
                          -12.332204939260716
                        ],
                        [
                          -45.871132817788734,
                          -12.332210717560582
                        ],
                        [
                          -45.87103845831601,
                          -12.332218143816442
                        ],
                        [
                          -45.8709442423149,
                          -12.332227215789834
                        ],
                        [
                          -45.87085019838313,
                          -12.332237930746707
                        ],
                        [
                          -45.870756355072864,
                          -12.332250285457254
                        ],
                        [
                          -45.870662740874025,
                          -12.332264276197407
                        ],
                        [
                          -45.87056938421217,
                          -12.332279898749247
                        ],
                        [
                          -45.87047631343207,
                          -12.332297148403306
                        ],
                        [
                          -45.87038355680104,
                          -12.332316019957812
                        ],
                        [
                          -45.870291142487055,
                          -12.332336507722792
                        ],
                        [
                          -45.870199098560796,
                          -12.332358605519351
                        ],
                        [
                          -45.87010745298432,
                          -12.332382306682103
                        ],
                        [
                          -45.87001623359981,
                          -12.332407604061691
                        ],
                        [
                          -45.8699254681227,
                          -12.33243449002653
                        ],
                        [
                          -45.869835184139795,
                          -12.332462956462907
                        ],
                        [
                          -45.8697454090878,
                          -12.332492994781378
                        ],
                        [
                          -45.86965617025957,
                          -12.33252459591446
                        ],
                        [
                          -45.869567494786445,
                          -12.332557750322325
                        ],
                        [
                          -45.86947940963231,
                          -12.332592447994786
                        ],
                        [
                          -45.869391941586194,
                          -12.332628678453757
                        ],
                        [
                          -45.86930511725686,
                          -12.332666430755156
                        ],
                        [
                          -45.86921896305915,
                          -12.332705693494212
                        ],
                        [
                          -45.86913350520962,
                          -12.33274645480732
                        ],
                        [
                          -45.86904876971916,
                          -12.332788702374936
                        ],
                        [
                          -45.868964782381774,
                          -12.332832423426721
                        ],
                        [
                          -45.86888156877188,
                          -12.332877604742645
                        ],
                        [
                          -45.86879915422979,
                          -12.332924232660103
                        ],
                        [
                          -45.868717563862106,
                          -12.332972293073556
                        ],
                        [
                          -45.86863682252518,
                          -12.333021771443477
                        ],
                        [
                          -45.868556954826595,
                          -12.333072652795149
                        ],
                        [
                          -45.868477985109514,
                          -12.333124921727935
                        ],
                        [
                          -45.86839993745034,
                          -12.333178562416487
                        ],
                        [
                          -45.8683228356485,
                          -12.333233558617119
                        ],
                        [
                          -45.86824670322388,
                          -12.333289893669159
                        ],
                        [
                          -45.86817156340031,
                          -12.333347550506428
                        ],
                        [
                          -45.86809743910962,
                          -12.33340651165389
                        ],
                        [
                          -45.86802435297581,
                          -12.333466759239338
                        ],
                        [
                          -45.86795232731167,
                          -12.333528274995746
                        ],
                        [
                          -45.867881384111996,
                          -12.33359104026654
                        ],
                        [
                          -45.86781154504668,
                          -12.333655036010905
                        ],
                        [
                          -45.86774283145117,
                          -12.33372024281204
                        ],
                        [
                          -45.867675264324426,
                          -12.333786640878508
                        ],
                        [
                          -45.867608864317546,
                          -12.333854210054692
                        ],
                        [
                          -45.86754365173259,
                          -12.333922929821332
                        ],
                        [
                          -45.86747964650965,
                          -12.333992779308547
                        ],
                        [
                          -45.867416868226705,
                          -12.33406373729533
                        ],
                        [
                          -45.867355336090235,
                          -12.334135782219454
                        ],
                        [
                          -45.86729506892903,
                          -12.334208892184026
                        ],
                        [
                          -45.867236085189255,
                          -12.334283044962774
                        ],
                        [
                          -45.86717840292841,
                          -12.334358218007033
                        ],
                        [
                          -45.86712203980984,
                          -12.334434388452033
                        ],
                        [
                          -45.867067013095394,
                          -12.334511533126088
                        ],
                        [
                          -45.86701333964239,
                          -12.334589628554316
                        ],
                        [
                          -45.866961035896324,
                          -12.334668650968284
                        ],
                        [
                          -45.86691011788687,
                          -12.334748576311345
                        ],
                        [
                          -45.866860601221646,
                          -12.3348293802477
                        ],
                        [
                          -45.866812501081455,
                          -12.334911038169281
                        ],
                        [
                          -45.86676583221666,
                          -12.334993525201304
                        ],
                        [
                          -45.86672060894036,
                          -12.335076816213293
                        ],
                        [
                          -45.866676845125696,
                          -12.335160885823278
                        ],
                        [
                          -45.8666345541999,
                          -12.335245708408383
                        ],
                        [
                          -45.86659374914053,
                          -12.335331258111655
                        ],
                        [
                          -45.866554442471994,
                          -12.335417508848286
                        ],
                        [
                          -45.866516646259804,
                          -12.33550443431743
                        ],
                        [
                          -45.866480372108256,
                          -12.335592008006637
                        ],
                        [
                          -45.86644563115613,
                          -12.335680203201315
                        ],
                        [
                          -45.866412434072565,
                          -12.335768992994096
                        ],
                        [
                          -45.866380791054326,
                          -12.335858350291307
                        ],
                        [
                          -45.86635071182171,
                          -12.335948247823653
                        ],
                        [
                          -45.866322205616584,
                          -12.336038658150828
                        ],
                        [
                          -45.86629528119774,
                          -12.336129553675141
                        ],
                        [
                          -45.866269946839566,
                          -12.33622090664537
                        ],
                        [
                          -45.86624621032828,
                          -12.336312689168507
                        ],
                        [
                          -45.866239018830335,
                          -12.336342644005587
                        ],
                        [
                          -45.86663080398038,
                          -12.33634264385952
                        ],
                        [
                          -45.86664826422254,
                          -12.336343460473826
                        ],
                        [
                          -45.86827786322471,
                          -12.336496235456458
                        ],
                        [
                          -45.86828831629134,
                          -12.336497513292604
                        ],
                        [
                          -45.87008766520626,
                          -12.336769113211712
                        ],
                        [
                          -45.87010228096566,
                          -12.336771918957854
                        ],
                        [
                          -45.8719186049155,
                          -12.337196293787931
                        ],
                        [
                          -45.871932382680775,
                          -12.337200074940004
                        ],
                        [
                          -45.871945819924925,
                          -12.337204897331507
                        ],
                        [
                          -45.87491644346738,
                          -12.338401634279608
                        ],
                        [
                          -45.87493795222345,
                          -12.338411953438264
                        ],
                        [
                          -45.876648910489706,
                          -12.339373051155428
                        ]
                      ]
                    ],
                    "type": "Polygon"
                  },
                  "id": "26",
                  "properties": {
                    "Apr_2020": "Cotton",
                    "Aug_2020": "Cotton",
                    "Dec_2019": "Soybean",
                    "Feb_2020": "Uncultivated soil",
                    "Jan_2020": "Uncultivated soil",
                    "Jul_2020": "Cotton",
                    "Jun_2020": "Cotton",
                    "Mar_2020": "Cotton",
                    "May_2020": "Cotton",
                    "Note": null,
                    "Nov_2019": "Uncultivated soil",
                    "Oct_2019": "Uncultivated soil",
                    "Sep_2020": "Cotton",
                    "id": "411"
                  },
                  "type": "Feature"
                },
                {
                  "geometry": {
                    "coordinates": [
                      [
                        [
                          -45.89878701218507,
                          -12.332350241646909
                        ],
                        [
                          -45.898157626328285,
                          -12.332350241560833
                        ],
                        [
                          -45.89380487486512,
                          -12.332350243132247
                        ],
                        [
                          -45.89369848271576,
                          -12.33379414980937
                        ],
                        [
                          -45.89350336577533,
                          -12.33689060518395
                        ],
                        [
                          -45.893275658619025,
                          -12.3408917954069
                        ],
                        [
                          -45.89355830013653,
                          -12.34091749001418
                        ],
                        [
                          -45.89824572887621,
                          -12.340962760650106
                        ],
                        [
                          -45.89825526179125,
                          -12.340931228759425
                        ],
                        [
                          -45.89838986351242,
                          -12.3385589026032
                        ],
                        [
                          -45.89838997993846,
                          -12.33855702606638
                        ],
                        [
                          -45.89878010673521,
                          -12.332764551435657
                        ],
                        [
                          -45.89878701218507,
                          -12.332350241646909
                        ]
                      ]
                    ],
                    "type": "Polygon"
                  },
                  "id": "27",
                  "properties": {
                    "Apr_2020": "Uncultivated soil",
                    "Aug_2020": "Sorghum",
                    "Dec_2019": "Uncultivated soil",
                    "Feb_2020": "Soybean",
                    "Jan_2020": "Soybean",
                    "Jul_2020": "Sorghum",
                    "Jun_2020": "Sorghum",
                    "Mar_2020": "Uncultivated soil",
                    "May_2020": "Uncultivated soil",
                    "Note": null,
                    "Nov_2019": "Uncultivated soil",
                    "Oct_2019": "Uncultivated soil",
                    "Sep_2020": "Sorghum",
                    "id": "412"
                  },
                  "type": "Feature"
                },
                {
                  "geometry": {
                    "coordinates": [
                      [
                        [
                          -45.89273600565366,
                          -12.340917196118141
                        ],
                        [
                          -45.892737584882624,
                          -12.340903772747305
                        ],
                        [
                          -45.89330153474545,
                          -12.332336804798135
                        ],
                        [
                          -45.89302602723041,
                          -12.332341724487332
                        ],
                        [
                          -45.89302131347237,
                          -12.332341749258529
                        ],
                        [
                          -45.888422623609216,
                          -12.332307935735829
                        ],
                        [
                          -45.888253533825896,
                          -12.332340453015394
                        ],
                        [
                          -45.888216439103,
                          -12.332363280546003
                        ],
                        [
                          -45.88816966819455,
                          -12.332456822478484
                        ],
                        [
                          -45.88807115327629,
                          -12.333515865729817
                        ],
                        [
                          -45.887842314530374,
                          -12.33708409397305
                        ],
                        [
                          -45.88770392420714,
                          -12.340893971577989
                        ],
                        [
                          -45.888169480095996,
                          -12.340900437531149
                        ],
                        [
                          -45.89273600565366,
                          -12.340917196118141
                        ]
                      ]
                    ],
                    "type": "Polygon"
                  },
                  "id": "28",
                  "properties": {
                    "Apr_2020": "Uncultivated soil",
                    "Aug_2020": "Sorghum",
                    "Dec_2019": "Uncultivated soil",
                    "Feb_2020": "Soybean",
                    "Jan_2020": "Soybean",
                    "Jul_2020": "Sorghum",
                    "Jun_2020": "Sorghum",
                    "Mar_2020": "Uncultivated soil",
                    "May_2020": "Uncultivated soil",
                    "Note": null,
                    "Nov_2019": "Uncultivated soil",
                    "Oct_2019": "Uncultivated soil",
                    "Sep_2020": "Sorghum",
                    "id": "413"
                  },
                  "type": "Feature"
                },
                {
                  "geometry": {
                    "coordinates": [
                      [
                        [
                          -45.88710791853429,
                          -12.340877993764941
                        ],
                        [
                          -45.88715241515783,
                          -12.340099312256813
                        ],
                        [
                          -45.88715257082899,
                          -12.3400968806343
                        ],
                        [
                          -45.88770769401416,
                          -12.33226723822608
                        ],
                        [
                          -45.88245770150645,
                          -12.332203601836138
                        ],
                        [
                          -45.88220482812718,
                          -12.333652503936438
                        ],
                        [
                          -45.88254380502016,
                          -12.333673689879822
                        ],
                        [
                          -45.88256215396756,
                          -12.333675750112965
                        ],
                        [
                          -45.88258020028905,
                          -12.333679609106326
                        ],
                        [
                          -45.882597762047205,
                          -12.333685227954735
                        ],
                        [
                          -45.88261466218976,
                          -12.333692550010653
                        ],
                        [
                          -45.88263073033465,
                          -12.333701501455344
                        ],
                        [
                          -45.88264580448769,
                          -12.33371199204307
                        ],
                        [
                          -45.88265973267577,
                          -12.333723916010937
                        ],
                        [
                          -45.88267237447901,
                          -12.333737153145107
                        ],
                        [
                          -45.8826836024464,
                          -12.333751569992797
                        ],
                        [
                          -45.88269330338074,
                          -12.333767021207722
                        ],
                        [
                          -45.88270137947986,
                          -12.33378335101535
                        ],
                        [
                          -45.88270774932266,
                          -12.333800394783458
                        ],
                        [
                          -45.88271234868995,
                          -12.333817980681816
                        ],
                        [
                          -45.8827151312119,
                          -12.333835931414596
                        ],
                        [
                          -45.88280000677564,
                          -12.334659218880564
                        ],
                        [
                          -45.88280068939025,
                          -12.334667935725536
                        ],
                        [
                          -45.88313111862348,
                          -12.340830367737867
                        ],
                        [
                          -45.88710791853429,
                          -12.340877993764941
                        ]
                      ]
                    ],
                    "type": "Polygon"
                  },
                  "id": "29",
                  "properties": {
                    "Apr_2020": "Uncultivated soil",
                    "Aug_2020": "Sorghum",
                    "Dec_2019": "Uncultivated soil",
                    "Feb_2020": "Soybean",
                    "Jan_2020": "Soybean",
                    "Jul_2020": "Sorghum",
                    "Jun_2020": "Sorghum",
                    "Mar_2020": "Uncultivated soil",
                    "May_2020": "Uncultivated soil",
                    "Note": null,
                    "Nov_2019": "Uncultivated soil",
                    "Oct_2019": "Uncultivated soil",
                    "Sep_2020": "Uncultivated soil",
                    "id": "422"
                  },
                  "type": "Feature"
                },
                {
                  "geometry": {
                    "coordinates": [
                      [
                        [
                          -45.88262528892409,
                          -12.340845486268709
                        ],
                        [
                          -45.882331774768,
                          -12.335228436137632
                        ],
                        [
                          -45.880729206135356,
                          -12.33519776453838
                        ],
                        [
                          -45.88071187038199,
                          -12.335196625735973
                        ],
                        [
                          -45.88069472125812,
                          -12.335193883782408
                        ],
                        [
                          -45.88067791178156,
                          -12.335189563143505
                        ],
                        [
                          -45.88066159193952,
                          -12.335183702371335
                        ],
                        [
                          -45.880645907350264,
                          -12.335176353760245
                        ],
                        [
                          -45.88063099796382,
                          -12.335167582880208
                        ],
                        [
                          -45.88061699681323,
                          -12.335157467991843
                        ],
                        [
                          -45.88060402882749,
                          -12.335146099347952
                        ],
                        [
                          -45.88059220971689,
                          -12.335133578388405
                        ],
                        [
                          -45.880581644940484,
                          -12.335120016834805
                        ],
                        [
                          -45.880572428765184,
                          -12.335105535693835
                        ],
                        [
                          -45.880470578823484,
                          -12.334927298116988
                        ],
                        [
                          -45.88046186714405,
                          -12.334909937236498
                        ],
                        [
                          -45.880455092873454,
                          -12.334891760242634
                        ],
                        [
                          -45.88045033363941,
                          -12.334872975430233
                        ],
                        [
                          -45.880447643978755,
                          -12.334853798059214
                        ],
                        [
                          -45.88038272849484,
                          -12.334091034929402
                        ],
                        [
                          -45.880223965083104,
                          -12.332225551354567
                        ],
                        [
                          -45.87706662279026,
                          -12.332195119460273
                        ],
                        [
                          -45.877181782898525,
                          -12.33404533579834
                        ],
                        [
                          -45.877720143637056,
                          -12.340853475189123
                        ],
                        [
                          -45.88262528892409,
                          -12.340845486268709
                        ]
                      ]
                    ],
                    "type": "Polygon"
                  },
                  "id": "30",
                  "properties": {
                    "Apr_2020": "Uncultivated soil",
                    "Aug_2020": "Sorghum",
                    "Dec_2019": "Uncultivated soil",
                    "Feb_2020": "Soybean",
                    "Jan_2020": "Soybean",
                    "Jul_2020": "Sorghum",
                    "Jun_2020": "Sorghum",
                    "Mar_2020": "Uncultivated soil",
                    "May_2020": "Uncultivated soil",
                    "Note": null,
                    "Nov_2019": "Uncultivated soil",
                    "Oct_2019": "Uncultivated soil",
                    "Sep_2020": "Sorghum",
                    "id": "423"
                  },
                  "type": "Feature"
                },
                {
                  "geometry": {
                    "coordinates": [
                      [
                        [
                          -45.880734842777116,
                          -12.333890860823088
                        ],
                        [
                          -45.881644488933,
                          -12.333868260933809
                        ],
                        [
                          -45.88186035936316,
                          -12.33224575965844
                        ],
                        [
                          -45.88059346818516,
                          -12.332229723110576
                        ],
                        [
                          -45.880734842777116,
                          -12.333890860823088
                        ]
                      ]
                    ],
                    "type": "Polygon"
                  },
                  "id": "31",
                  "properties": {
                    "Apr_2020": "Pasture",
                    "Aug_2020": "Pasture",
                    "Dec_2019": "Pasture",
                    "Feb_2020": "Pasture",
                    "Jan_2020": "Pasture",
                    "Jul_2020": "Pasture",
                    "Jun_2020": "Pasture",
                    "Mar_2020": "Pasture",
                    "May_2020": "Pasture",
                    "Note": null,
                    "Nov_2019": "Pasture",
                    "Oct_2019": "Pasture",
                    "Sep_2020": "Pasture",
                    "id": "424"
                  },
                  "type": "Feature"
                },
                {
                  "geometry": {
                    "coordinates": [
                      [
                        [
                          [
                            -45.865747139706485,
                            -12.335923808837771
                          ],
                          [
                            -45.86605872484946,
                            -12.335212756514283
                          ],
                          [
                            -45.86606555274108,
                            -12.335198842573744
                          ],
                          [
                            -45.86647295313155,
                            -12.334451942734654
                          ],
                          [
                            -45.866480291904686,
                            -12.334439673495014
                          ],
                          [
                            -45.866488589361644,
                            -12.334428009728489
                          ],
                          [
                            -45.86706573962223,
                            -12.333681109966037
                          ],
                          [
                            -45.867075898318,
                            -12.333669080661625
                          ],
                          [
                            -45.86708707585454,
                            -12.333657959059291
                          ],
                          [
                            -45.8677660759001,
                            -12.333038371822578
                          ],
                          [
                            -45.86778207310897,
                            -12.333025347371155
                          ],
                          [
                            -45.86836771053666,
                            -12.332600972579769
                          ],
                          [
                            -45.86837947309762,
                            -12.332593120123247
                          ],
                          [
                            -45.86839181740661,
                            -12.332586184420272
                          ],
                          [
                            -45.86907081718498,
                            -12.332238197122534
                          ],
                          [
                            -45.86908944768386,
                            -12.332229909288785
                          ],
                          [
                            -45.869134097893344,
                            -12.332212918599927
                          ],
                          [
                            -45.86491199509915,
                            -12.332206315944328
                          ],
                          [
                            -45.865747139706485,
                            -12.335923808837771
                          ]
                        ]
                      ],
                      [
                        [
                          [
                            -45.87677734034396,
                            -12.33495207828078
                          ],
                          [
                            -45.87657668948101,
                            -12.33219765120726
                          ],
                          [
                            -45.87372506955416,
                            -12.33220069233935
                          ],
                          [
                            -45.87407412126103,
                            -12.332336500087642
                          ],
                          [
                            -45.87408748854824,
                            -12.332342315129795
                          ],
                          [
                            -45.8741003439757,
                            -12.33234915545903
                          ],
                          [
                            -45.874936362427576,
                            -12.332837186484012
                          ],
                          [
                            -45.87494955235866,
                            -12.332845657664741
                          ],
                          [
                            -45.87496195659438,
                            -12.332855207555241
                          ],
                          [
                            -45.875679150252196,
                            -12.333457819798006
                          ],
                          [
                            -45.87569779720694,
                            -12.333475898759104
                          ],
                          [
                            -45.8763428472944,
                            -12.334197335985698
                          ],
                          [
                            -45.876354851987244,
                            -12.334212280894445
                          ],
                          [
                            -45.87636519167819,
                            -12.334228384134489
                          ],
                          [
                            -45.87677734034396,
                            -12.33495207828078
                          ]
                        ]
                      ]
                    ],
                    "type": "MultiPolygon"
                  },
                  "id": "32",
                  "properties": {
                    "Apr_2020": "Uncultivated soil",
                    "Aug_2020": "Uncultivated soil",
                    "Dec_2019": "Uncultivated soil",
                    "Feb_2020": "Soybean",
                    "Jan_2020": "Soybean",
                    "Jul_2020": "Uncultivated soil",
                    "Jun_2020": "Uncultivated soil",
                    "Mar_2020": "Uncultivated soil",
                    "May_2020": "Uncultivated soil",
                    "Note": null,
                    "Nov_2019": "Uncultivated soil",
                    "Oct_2019": "Uncultivated soil",
                    "Sep_2020": "Uncultivated soil",
                    "id": "426"
                  },
                  "type": "Feature"
                },
                {
                  "geometry": {
                    "coordinates": [
                      [
                        [
                          [
                            -45.86077797153691,
                            -12.336027714957709
                          ],
                          [
                            -45.8600252620293,
                            -12.33349798457837
                          ],
                          [
                            -45.85962395952821,
                            -12.333452121416379
                          ],
                          [
                            -45.85895228526362,
                            -12.333936351732795
                          ],
                          [
                            -45.85893967778135,
                            -12.33394467643471
                          ],
                          [
                            -45.858445146255356,
                            -12.334242850070892
                          ],
                          [
                            -45.85842460638176,
                            -12.334639959611295
                          ],
                          [
                            -45.85842288062054,
                            -12.334657126050615
                          ],
                          [
                            -45.858419499176875,
                            -12.3346740527296
                          ],
                          [
                            -45.85841449281691,
                            -12.334690585638905
                          ],
                          [
                            -45.85840790709131,
                            -12.334706574351909
                          ],
                          [
                            -45.85839980192078,
                            -12.334721873393361
                          ],
                          [
                            -45.858390251050956,
                            -12.3347363435631
                          ],
                          [
                            -45.85837934138135,
                            -12.334749853202466
                          ],
                          [
                            -45.85836717217474,
                            -12.334762279392347
                          ],
                          [
                            -45.85835385415401,
                            -12.334773509071464
                          ],
                          [
                            -45.85833950849471,
                            -12.33478344006516
                          ],
                          [
                            -45.85832426572256,
                            -12.334791982014973
                          ],
                          [
                            -45.858308264525796,
                            -12.33479905720086
                          ],
                          [
                            -45.85829165049335,
                            -12.334804601248315
                          ],
                          [
                            -45.858274574790116,
                            -12.334808563714073
                          ],
                          [
                            -45.85825719278163,
                            -12.334810908545087
                          ],
                          [
                            -45.856686755708616,
                            -12.334948131789972
                          ],
                          [
                            -45.8567425532141,
                            -12.335865680236939
                          ],
                          [
                            -45.86077797153691,
                            -12.336027714957709
                          ]
                        ]
                      ],
                      [
                        [
                          [
                            -45.86130475292947,
                            -12.336034709186187
                          ],
                          [
                            -45.86521436846544,
                            -12.336205030006521
                          ],
                          [
                            -45.86458633719164,
                            -12.333468598913747
                          ],
                          [
                            -45.860617959407904,
                            -12.333414450388908
                          ],
                          [
                            -45.86130475292947,
                            -12.336034709186187
                          ]
                        ]
                      ],
                      [
                        [
                          [
                            -45.86445612620591,
                            -12.333005291174134
                          ],
                          [
                            -45.86427520402838,
                            -12.332051612920782
                          ],
                          [
                            -45.86196650262431,
                            -12.332027811383206
                          ],
                          [
                            -45.861722383182276,
                            -12.332051435855968
                          ],
                          [
                            -45.86132326470656,
                            -12.33212969441268
                          ],
                          [
                            -45.8610687356021,
                            -12.332256958988898
                          ],
                          [
                            -45.860858960683224,
                            -12.332401179325393
                          ],
                          [
                            -45.86074193834756,
                            -12.332766874824479
                          ],
                          [
                            -45.86073229340851,
                            -12.332790878795947
                          ],
                          [
                            -45.86067687163302,
                            -12.332904361742772
                          ],
                          [
                            -45.86445612620591,
                            -12.333005291174134
                          ]
                        ]
                      ]
                    ],
                    "type": "MultiPolygon"
                  },
                  "id": "33",
                  "properties": {
                    "Apr_2020": "Cerrado",
                    "Aug_2020": "Cerrado",
                    "Dec_2019": "Cerrado",
                    "Feb_2020": "Cerrado",
                    "Jan_2020": "Cerrado",
                    "Jul_2020": "Cerrado",
                    "Jun_2020": "Cerrado",
                    "Mar_2020": "Cerrado",
                    "May_2020": "Cerrado",
                    "Note": null,
                    "Nov_2019": "Cerrado",
                    "Oct_2019": "Cerrado",
                    "Sep_2020": "Cerrado",
                    "id": "427"
                  },
                  "type": "Feature"
                },
                {
                  "geometry": {
                    "coordinates": [
                      [
                        [
                          -45.85641635787955,
                          -12.339706953825242
                        ],
                        [
                          -45.85550635808793,
                          -12.335551539583086
                        ],
                        [
                          -45.85550612298641,
                          -12.335550449692557
                        ],
                        [
                          -45.85448837641153,
                          -12.330759581391389
                        ],
                        [
                          -45.8537118145377,
                          -12.330646214928741
                        ],
                        [
                          -45.85557458042667,
                          -12.339675308020789
                        ],
                        [
                          -45.85641635787955,
                          -12.339706953825242
                        ]
                      ]
                    ],
                    "type": "Polygon"
                  },
                  "id": "34",
                  "properties": {
                    "Apr_2020": "Uncultivated soil",
                    "Aug_2020": "Uncultivated soil",
                    "Dec_2019": "Uncultivated soil",
                    "Feb_2020": "Soybean",
                    "Jan_2020": "Soybean",
                    "Jul_2020": "Uncultivated soil",
                    "Jun_2020": "Uncultivated soil",
                    "Mar_2020": "Soybean",
                    "May_2020": "Uncultivated soil",
                    "Note": null,
                    "Nov_2019": "Uncultivated soil",
                    "Oct_2019": "Uncultivated soil",
                    "Sep_2020": "Uncultivated soil",
                    "id": "430"
                  },
                  "type": "Feature"
                },
                {
                  "geometry": {
                    "coordinates": [
                      [
                        [
                          [
                            -45.85459877161749,
                            -12.330241342346936
                          ],
                          [
                            -45.85431134028327,
                            -12.329146361784522
                          ],
                          [
                            -45.854309595219235,
                            -12.329139097471012
                          ],
                          [
                            -45.853948287529214,
                            -12.327482977648778
                          ],
                          [
                            -45.85393744133499,
                            -12.327494112275332
                          ],
                          [
                            -45.85392344240027,
                            -12.327505867509007
                          ],
                          [
                            -45.85390831842901,
                            -12.327516187929929
                          ],
                          [
                            -45.853892220934235,
                            -12.32752497014726
                          ],
                          [
                            -45.853875311181845,
                            -12.327532126180019
                          ],
                          [
                            -45.853857758575074,
                            -12.327537584338497
                          ],
                          [
                            -45.85383973895735,
                            -12.327541289942335
                          ],
                          [
                            -45.85382143285067,
                            -12.327543205868508
                          ],
                          [
                            -45.85380302364718,
                            -12.327543312923058
                          ],
                          [
                            -45.85378469577181,
                            -12.32754161003348
                          ],
                          [
                            -45.85346782886731,
                            -12.327496343347246
                          ],
                          [
                            -45.853450808644695,
                            -12.327493100068367
                          ],
                          [
                            -45.85343417460898,
                            -12.327488295554195
                          ],
                          [
                            -45.853418074548784,
                            -12.327481972491421
                          ],
                          [
                            -45.85340265150851,
                            -12.32747418705865
                          ],
                          [
                            -45.85338804251735,
                            -12.327465008427183
                          ],
                          [
                            -45.852933715729876,
                            -12.32714895506457
                          ],
                          [
                            -45.85350801363125,
                            -12.330086404780864
                          ],
                          [
                            -45.85459877161749,
                            -12.330241342346936
                          ]
                        ]
                      ],
                      [
                        [
                          [
                            -45.85275073409849,
                            -12.326213014189815
                          ],
                          [
                            -45.85276034270659,
                            -12.326199523987107
                          ],
                          [
                            -45.85277170197698,
                            -12.326186428281817
                          ],
                          [
                            -45.85278427598563,
                            -12.326174453658318
                          ],
                          [
                            -45.85279795083679,
                            -12.326163708582943
                          ],
                          [
                            -45.85281260266328,
                            -12.326154290384748
                          ],
                          [
                            -45.85282809874854,
                            -12.326146284373902
                          ],
                          [
                            -45.85337129854528,
                            -12.325897317858102
                          ],
                          [
                            -45.85338778191007,
                            -12.325890697893978
                          ],
                          [
                            -45.85340483905637,
                            -12.32588567604945
                          ],
                          [
                            -45.853422310133865,
                            -12.325882299386507
                          ],
                          [
                            -45.853440031413115,
                            -12.32588059954939
                          ],
                          [
                            -45.85345783681997,
                            -12.325880592467973
                          ],
                          [
                            -45.85347555949186,
                            -12.32588227820865
                          ],
                          [
                            -45.853493033341586,
                            -12.325885640973528
                          ],
                          [
                            -45.85351009461375,
                            -12.32589064924859
                          ],
                          [
                            -45.85352658341939,
                            -12.325897256098992
                          ],
                          [
                            -45.853542345234374,
                            -12.325905399608923
                          ],
                          [
                            -45.85355723234746,
                            -12.325915003461803
                          ],
                          [
                            -45.853571105244654,
                            -12.32592597765551
                          ],
                          [
                            -45.85358383391653,
                            -12.325938219345883
                          ],
                          [
                            -45.85359529907674,
                            -12.325951613810348
                          ],
                          [
                            -45.85360539327978,
                            -12.325966035523265
                          ],
                          [
                            -45.85361402192801,
                            -12.32598134933205
                          ],
                          [
                            -45.85362110415811,
                            -12.325997411723918
                          ],
                          [
                            -45.85362657359894,
                            -12.326014072170738
                          ],
                          [
                            -45.85363037899351,
                            -12.326031174539676
                          ],
                          [
                            -45.853632484679366,
                            -12.326048558556424
                          ],
                          [
                            -45.853665419877544,
                            -12.326509646900396
                          ],
                          [
                            -45.85373417637149,
                            -12.326801861256097
                          ],
                          [
                            -45.85380847293612,
                            -12.326842105237658
                          ],
                          [
                            -45.85276944861431,
                            -12.322079381138819
                          ],
                          [
                            -45.852674920564425,
                            -12.322076005116436
                          ],
                          [
                            -45.85265714077746,
                            -12.32207451846886
                          ],
                          [
                            -45.85263959118099,
                            -12.322071344762039
                          ],
                          [
                            -45.85262243695858,
                            -12.322066513868126
                          ],
                          [
                            -45.85260583957236,
                            -12.3220600712573
                          ],
                          [
                            -45.85237667693305,
                            -12.321958221194956
                          ],
                          [
                            -45.85235892811252,
                            -12.321949159615794
                          ],
                          [
                            -45.852342284817944,
                            -12.321938256845634
                          ],
                          [
                            -45.85205370971115,
                            -12.321726069220464
                          ],
                          [
                            -45.85204778058324,
                            -12.321721520800166
                          ],
                          [
                            -45.85196642370446,
                            -12.32165643529624
                          ],
                          [
                            -45.85185868105738,
                            -12.321650097539669
                          ],
                          [
                            -45.85275073409849,
                            -12.326213014189815
                          ]
                        ]
                      ]
                    ],
                    "type": "MultiPolygon"
                  },
                  "id": "35",
                  "properties": {
                    "Apr_2020": "Uncultivated soil",
                    "Aug_2020": "Uncultivated soil",
                    "Dec_2019": "Uncultivated soil",
                    "Feb_2020": "Soybean",
                    "Jan_2020": "Soybean",
                    "Jul_2020": "Uncultivated soil",
                    "Jun_2020": "Uncultivated soil",
                    "Mar_2020": "Uncultivated soil",
                    "May_2020": "Uncultivated soil",
                    "Note": null,
                    "Nov_2019": "Uncultivated soil",
                    "Oct_2019": "Uncultivated soil",
                    "Sep_2020": "Uncultivated soil",
                    "id": "431"
                  },
                  "type": "Feature"
                },
                {
                  "geometry": {
                    "coordinates": [
                      [
                        [
                          -45.855049771122324,
                          -12.339629530692417
                        ],
                        [
                          -45.85318219625839,
                          -12.330593370556933
                        ],
                        [
                          -45.848769493812455,
                          -12.330206434900893
                        ],
                        [
                          -45.84876903649788,
                          -12.330206394230888
                        ],
                        [
                          -45.83804082835943,
                          -12.32923881898476
                        ],
                        [
                          -45.838022366137835,
                          -12.329236219894089
                        ],
                        [
                          -45.83800426652873,
                          -12.329231795884503
                        ],
                        [
                          -45.83798671562978,
                          -12.329225592443033
                        ],
                        [
                          -45.837969893896904,
                          -12.3292176733526
                        ],
                        [
                          -45.83795397428878,
                          -12.329208120036187
                        ],
                        [
                          -45.83793912048849,
                          -12.329197030719602
                        ],
                        [
                          -45.83792548522063,
                          -12.329184519421672
                        ],
                        [
                          -45.83791320868092,
                          -12.32917071478175
                        ],
                        [
                          -45.83790241709477,
                          -12.329155758737164
                        ],
                        [
                          -45.83789322141946,
                          -12.329139805063827
                        ],
                        [
                          -45.837885716203324,
                          -12.329123017795036
                        ],
                        [
                          -45.837879978613536,
                          -12.32910556953501
                        ],
                        [
                          -45.83786205205359,
                          -12.329039838691644
                        ],
                        [
                          -45.832008812984505,
                          -12.328478570434726
                        ],
                        [
                          -45.83205078324536,
                          -12.329096125956513
                        ],
                        [
                          -45.83216341295087,
                          -12.329279149028281
                        ],
                        [
                          -45.83217198841968,
                          -12.329294766463546
                        ],
                        [
                          -45.83217896562,
                          -12.329311135166497
                        ],
                        [
                          -45.83218427735111,
                          -12.329328097483122
                        ],
                        [
                          -45.8322436899951,
                          -12.329557259952555
                        ],
                        [
                          -45.83224723642558,
                          -12.329574340651185
                        ],
                        [
                          -45.83224909369032,
                          -12.329591677728043
                        ],
                        [
                          -45.83224924453049,
                          -12.329609110079371
                        ],
                        [
                          -45.83224768754406,
                          -12.329626475716102
                        ],
                        [
                          -45.83224443719891,
                          -12.329643613269036
                        ],
                        [
                          -45.832239523698355,
                          -12.329660363488443
                        ],
                        [
                          -45.83223299270053,
                          -12.329676570723784
                        ],
                        [
                          -45.83222490489408,
                          -12.329692084370171
                        ],
                        [
                          -45.83221533543427,
                          -12.329706760267845
                        ],
                        [
                          -45.83220437324459,
                          -12.329720462041715
                        ],
                        [
                          -45.83219212019045,
                          -12.32973306236872
                        ],
                        [
                          -45.83217869013261,
                          -12.329744444160834
                        ],
                        [
                          -45.83216420786912,
                          -12.3297545016533
                        ],
                        [
                          -45.832148807975685,
                          -12.329763141387255
                        ],
                        [
                          -45.83213263355508,
                          -12.32977028307835
                        ],
                        [
                          -45.832115834907356,
                          -12.329775860362687
                        ],
                        [
                          -45.831903647268426,
                          -12.329835272913714
                        ],
                        [
                          -45.83188709609782,
                          -12.329839103751493
                        ],
                        [
                          -45.83187025584917,
                          -12.329841415430499
                        ],
                        [
                          -45.83185327044094,
                          -12.32984218819486
                        ],
                        [
                          -45.831717470337885,
                          -12.329842188200839
                        ],
                        [
                          -45.83169902261145,
                          -12.32984127630077
                        ],
                        [
                          -45.83168076092779,
                          -12.329838549804464
                        ],
                        [
                          -45.83166286945315,
                          -12.329834036208213
                        ],
                        [
                          -45.83164552862024,
                          -12.329827781030874
                        ],
                        [
                          -45.83162891330865,
                          -12.329819847354937
                        ],
                        [
                          -45.831613191081104,
                          -12.32981031519026
                        ],
                        [
                          -45.83159852049372,
                          -12.329799280667187
                        ],
                        [
                          -45.831585049496915,
                          -12.32978685506714
                        ],
                        [
                          -45.83157291394338,
                          -12.329773163700285
                        ],
                        [
                          -45.83156223621802,
                          -12.329758344641835
                        ],
                        [
                          -45.831553124003705,
                          -12.329742547339574
                        ],
                        [
                          -45.83154566919534,
                          -12.329725931106697
                        ],
                        [
                          -45.83148625677098,
                          -12.329573156053346
                        ],
                        [
                          -45.831480046345646,
                          -12.329554080921335
                        ],
                        [
                          -45.83147601934232,
                          -12.329534447546683
                        ],
                        [
                          -45.83139219184566,
                          -12.328964417940332
                        ],
                        [
                          -45.83132726994222,
                          -12.328683088922014
                        ],
                        [
                          -45.831158758697015,
                          -12.328485523928897
                        ],
                        [
                          -45.8276512845125,
                          -12.328186681819906
                        ],
                        [
                          -45.827665887871355,
                          -12.32955200317522
                        ],
                        [
                          -45.82789766567013,
                          -12.33041288994533
                        ],
                        [
                          -45.8279013782654,
                          -12.330429978483178
                        ],
                        [
                          -45.82790339613624,
                          -12.330447339543797
                        ],
                        [
                          -45.82798827201712,
                          -12.331720464524729
                        ],
                        [
                          -45.82798836864268,
                          -12.331742570566039
                        ],
                        [
                          -45.82798572133423,
                          -12.331764523041803
                        ],
                        [
                          -45.82787051066827,
                          -12.332389954767498
                        ],
                        [
                          -45.82805863857426,
                          -12.336962207741335
                        ],
                        [
                          -45.83002340493048,
                          -12.33721369735702
                        ],
                        [
                          -45.838176538102935,
                          -12.33796029051241
                        ],
                        [
                          -45.838178618261125,
                          -12.337960492691497
                        ],
                        [
                          -45.84659750014884,
                          -12.338826144246804
                        ],
                        [
                          -45.855049771122324,
                          -12.339629530692417
                        ]
                      ]
                    ],
                    "type": "Polygon"
                  },
                  "id": "36",
                  "properties": {
                    "Apr_2020": "Cerrado",
                    "Aug_2020": "Cerrado",
                    "Dec_2019": "Cerrado",
                    "Feb_2020": "Cerrado",
                    "Jan_2020": "Cerrado",
                    "Jul_2020": "Cerrado",
                    "Jun_2020": "Cerrado",
                    "Mar_2020": "Cerrado",
                    "May_2020": "Cerrado",
                    "Note": null,
                    "Nov_2019": "Cerrado",
                    "Oct_2019": "Cerrado",
                    "Sep_2020": "Cerrado",
                    "id": "432"
                  },
                  "type": "Feature"
                },
                {
                  "geometry": {
                    "coordinates": [
                      [
                        [
                          -45.83769915281958,
                          -12.328489426190268
                        ],
                        [
                          -45.83583335259755,
                          -12.31968183889519
                        ],
                        [
                          -45.8341410970584,
                          -12.319469322747606
                        ],
                        [
                          -45.83119846892201,
                          -12.319180996189504
                        ],
                        [
                          -45.831181322781596,
                          -12.319178509156249
                        ],
                        [
                          -45.8304768597625,
                          -12.31904270908597
                        ],
                        [
                          -45.83045600458696,
                          -12.319037425404078
                        ],
                        [
                          -45.83042233872731,
                          -12.31902679410287
                        ],
                        [
                          -45.830897218122566,
                          -12.32174584735169
                        ],
                        [
                          -45.830897450644535,
                          -12.321747209884974
                        ],
                        [
                          -45.831927075516404,
                          -12.327924937849254
                        ],
                        [
                          -45.83769915281958,
                          -12.328489426190268
                        ]
                      ]
                    ],
                    "type": "Polygon"
                  },
                  "id": "37",
                  "properties": {
                    "Apr_2020": "Cerrado",
                    "Aug_2020": "Cerrado",
                    "Dec_2019": "Cerrado",
                    "Feb_2020": "Cerrado",
                    "Jan_2020": "Cerrado",
                    "Jul_2020": "Cerrado",
                    "Jun_2020": "Cerrado",
                    "Mar_2020": "Cerrado",
                    "May_2020": "Cerrado",
                    "Note": null,
                    "Nov_2019": "Cerrado",
                    "Oct_2019": "Cerrado",
                    "Sep_2020": "Cerrado",
                    "id": "433"
                  },
                  "type": "Feature"
                },
                {
                  "geometry": {
                    "coordinates": [
                      [
                        [
                          -45.85173153088461,
                          -12.320961448884544
                        ],
                        [
                          -45.85161849918593,
                          -12.320067311681354
                        ],
                        [
                          -45.851617737727615,
                          -12.32006011450554
                        ],
                        [
                          -45.85152437596707,
                          -12.318965226814157
                        ],
                        [
                          -45.85152374790436,
                          -12.318947807591227
                        ],
                        [
                          -45.85152482826062,
                          -12.318930409824846
                        ],
                        [
                          -45.851527606999554,
                          -12.318913195131799
                        ],
                        [
                          -45.851532058307676,
                          -12.318896323428191
                        ],
                        [
                          -45.8515381408342,
                          -12.318879951443906
                        ],
                        [
                          -45.85154579807514,
                          -12.318864231266637
                        ],
                        [
                          -45.85155495889821,
                          -12.318849308929057
                        ],
                        [
                          -45.85156553820365,
                          -12.318835323052308
                        ],
                        [
                          -45.851577437714724,
                          -12.318822403558263
                        ],
                        [
                          -45.8515905468907,
                          -12.318810670462572
                        ],
                        [
                          -45.85160474395371,
                          -12.318800232759813
                        ],
                        [
                          -45.85161989702001,
                          -12.318791187411028
                        ],
                        [
                          -45.85163586532512,
                          -12.31878361844297
                        ],
                        [
                          -45.85165250053142,
                          -12.318777596167518
                        ],
                        [
                          -45.85196365097682,
                          -12.318681422517528
                        ],
                        [
                          -45.851784830987725,
                          -12.317742614217703
                        ],
                        [
                          -45.85012486214939,
                          -12.31778139813566
                        ],
                        [
                          -45.85012276858979,
                          -12.317781435320688
                        ],
                        [
                          -45.84733037897609,
                          -12.31781538547139
                        ],
                        [
                          -45.847324824957894,
                          -12.317815370506887
                        ],
                        [
                          -45.84684267767352,
                          -12.317806911805768
                        ],
                        [
                          -45.846411455688035,
                          -12.3178069118238
                        ],
                        [
                          -45.8460040556669,
                          -12.317806911842055
                        ],
                        [
                          -45.84544602302468,
                          -12.317806911877879
                        ],
                        [
                          -45.8444890064911,
                          -12.317916045366033
                        ],
                        [
                          -45.84447582736707,
                          -12.317917077868975
                        ],
                        [
                          -45.84389503525584,
                          -12.317941968999335
                        ],
                        [
                          -45.843500744732566,
                          -12.318015898481187
                        ],
                        [
                          -45.84349672240613,
                          -12.318016607224052
                        ],
                        [
                          -45.84267343431765,
                          -12.318152407359207
                        ],
                        [
                          -45.84264707135472,
                          -12.318154855320628
                        ],
                        [
                          -45.84147579546951,
                          -12.318180317891747
                        ],
                        [
                          -45.84145882023492,
                          -12.31817991599264
                        ],
                        [
                          -45.84144195503883,
                          -12.318177976491544
                        ],
                        [
                          -45.841425343629425,
                          -12.318174515919516
                        ],
                        [
                          -45.84140912759173,
                          -12.31816956377226
                        ],
                        [
                          -45.8409334646613,
                          -12.318000260055916
                        ],
                        [
                          -45.84023560999499,
                          -12.317959687114316
                        ],
                        [
                          -45.83968045852047,
                          -12.317959687150314
                        ],
                        [
                          -45.83948927303893,
                          -12.317993827428941
                        ],
                        [
                          -45.839346280268984,
                          -12.3180724734624
                        ],
                        [
                          -45.83932946911663,
                          -12.318080642589836
                        ],
                        [
                          -45.83931189937171,
                          -12.318087086137247
                        ],
                        [
                          -45.83929375367258,
                          -12.318091737123577
                        ],
                        [
                          -45.83927522064468,
                          -12.318094547201573
                        ],
                        [
                          -45.8392564929398,
                          -12.318095487160322
                        ],
                        [
                          -45.838883042656626,
                          -12.318095487176906
                        ],
                        [
                          -45.83886298307327,
                          -12.318094408355595
                        ],
                        [
                          -45.838843162817554,
                          -12.318091184788447
                        ],
                        [
                          -45.8388238183604,
                          -12.31808585493508
                        ],
                        [
                          -45.838805180496074,
                          -12.318078482384744
                        ],
                        [
                          -45.83852538536862,
                          -12.317949927890464
                        ],
                        [
                          -45.838294483242706,
                          -12.317942712194576
                        ],
                        [
                          -45.83817761579342,
                          -12.317942712204381
                        ],
                        [
                          -45.83781932203587,
                          -12.318038257208775
                        ],
                        [
                          -45.837803147081075,
                          -12.318041809759732
                        ],
                        [
                          -45.83778671255319,
                          -12.3180439161905
                        ],
                        [
                          -45.83722901361625,
                          -12.318090391181363
                        ],
                        [
                          -45.83701595270379,
                          -12.318250186904743
                        ],
                        [
                          -45.83641794974568,
                          -12.318945163796881
                        ],
                        [
                          -45.836341144281995,
                          -12.319116230891826
                        ],
                        [
                          -45.83762759620302,
                          -12.31928201052408
                        ],
                        [
                          -45.83764117303651,
                          -12.31926089101676
                        ],
                        [
                          -45.837650544682454,
                          -12.319247658370564
                        ],
                        [
                          -45.837709957208624,
                          -12.319171270895017
                        ],
                        [
                          -45.83772152863737,
                          -12.319157807503725
                        ],
                        [
                          -45.83773437814285,
                          -12.319145515744047
                        ],
                        [
                          -45.83774838364747,
                          -12.319134512394486
                        ],
                        [
                          -45.837763412091086,
                          -12.319124901992907
                        ],
                        [
                          -45.83777932069509,
                          -12.319116775843419
                        ],
                        [
                          -45.837795958318914,
                          -12.319110211148883
                        ],
                        [
                          -45.83781316689597,
                          -12.319105270277465
                        ],
                        [
                          -45.837830782935306,
                          -12.319102000170155
                        ],
                        [
                          -45.83784863907491,
                          -12.319100431894723
                        ],
                        [
                          -45.83786656567169,
                          -12.319100580350625
                        ],
                        [
                          -45.837884392413166,
                          -12.31910244412744
                        ],
                        [
                          -45.83790194993558,
                          -12.319106005518213
                        ],
                        [
                          -45.837919071432836,
                          -12.319111230687787
                        ],
                        [
                          -45.83793559424134,
                          -12.319118069994175
                        ],
                        [
                          -45.83795136138531,
                          -12.319126458460188
                        ],
                        [
                          -45.83796622306818,
                          -12.319136316390788
                        ],
                        [
                          -45.837980038095694,
                          -12.319147550130204
                        ],
                        [
                          -45.837992675217365,
                          -12.31916005295171
                        ],
                        [
                          -45.838077551854326,
                          -12.319252645605525
                        ],
                        [
                          -45.838270964863376,
                          -12.319412711527235
                        ],
                        [
                          -45.83999741582592,
                          -12.319593577714508
                        ],
                        [
                          -45.8399996107886,
                          -12.319593820770953
                        ],
                        [
                          -45.84083581180879,
                          -12.319691418312779
                        ],
                        [
                          -45.84083040490071,
                          -12.319677737910041
                        ],
                        [
                          -45.840825529537305,
                          -12.319660545056974
                        ],
                        [
                          -45.84082240157546,
                          -12.319642963395053
                        ],
                        [
                          -45.840821051483935,
                          -12.319625164185204
                        ],
                        [
                          -45.840821492413454,
                          -12.319607320807407
                        ],
                        [
                          -45.84082372006863,
                          -12.319589607071869
                        ],
                        [
                          -45.84082771274976,
                          -12.319572195525913
                        ],
                        [
                          -45.8408334315643,
                          -12.319555255773265
                        ],
                        [
                          -45.84084082080566,
                          -12.319538952821913
                        ],
                        [
                          -45.840849808495875,
                          -12.319523445476799
                        ],
                        [
                          -45.84086030708674,
                          -12.319508884792954
                        ],
                        [
                          -45.840872214312625,
                          -12.319495412604105
                        ],
                        [
                          -45.84088541418659,
                          -12.319483160141017
                        ],
                        [
                          -45.84089977813027,
                          -12.319472246753294
                        ],
                        [
                          -45.840915166226296,
                          -12.319462778746736
                        ],
                        [
                          -45.84093142858122,
                          -12.319454848347883
                        ],
                        [
                          -45.84105025353379,
                          -12.319403923379458
                        ],
                        [
                          -45.84106752424438,
                          -12.319397515232874
                        ],
                        [
                          -45.841085361247835,
                          -12.319392841560656
                        ],
                        [
                          -45.84110358487135,
                          -12.319389949440856
                        ],
                        [
                          -45.84112201154771,
                          -12.319388868005895
                        ],
                        [
                          -45.84114045566437,
                          -12.31938960814906
                        ],
                        [
                          -45.8411587314331,
                          -12.319392162414832
                        ],
                        [
                          -45.84117665476145,
                          -12.319396505073998
                        ],
                        [
                          -45.84119404510709,
                          -12.319402592382763
                        ],
                        [
                          -45.84121072729642,
                          -12.31941036302343
                        ],
                        [
                          -45.841226533289095,
                          -12.31941973872203
                        ],
                        [
                          -45.84124130387067,
                          -12.319430625036803
                        ],
                        [
                          -45.841254890256394,
                          -12.319442912309437
                        ],
                        [
                          -45.84141615276046,
                          -12.319604174745105
                        ],
                        [
                          -45.841428715327204,
                          -12.319618104111681
                        ],
                        [
                          -45.841439754863515,
                          -12.319633229598823
                        ],
                        [
                          -45.84144915437264,
                          -12.319649390907307
                        ],
                        [
                          -45.841456814238704,
                          -12.319666416760338
                        ],
                        [
                          -45.84146265328244,
                          -12.319684126718629
                        ],
                        [
                          -45.84148531613364,
                          -12.319767223642597
                        ],
                        [
                          -45.84319893622143,
                          -12.319967216990245
                        ],
                        [
                          -45.844963189313205,
                          -12.320164249719356
                        ],
                        [
                          -45.84495835772125,
                          -12.320141702209742
                        ],
                        [
                          -45.84495544976934,
                          -12.320123653690352
                        ],
                        [
                          -45.84495440908009,
                          -12.320105408763737
                        ],
                        [
                          -45.844955246278836,
                          -12.3200871537154
                        ],
                        [
                          -45.84495795281716,
                          -12.320069074934127
                        ],
                        [
                          -45.84496250106024,
                          -12.320051357008925
                        ],
                        [
                          -45.84496884456896,
                          -12.320034180844328
                        ],
                        [
                          -45.844976918574154,
                          -12.320017721813361
                        ],
                        [
                          -45.845019356113426,
                          -12.319941334330245
                        ],
                        [
                          -45.8450286693176,
                          -12.319926349258116
                        ],
                        [
                          -45.84503941682079,
                          -12.319912323039473
                        ],
                        [
                          -45.84505149727334,
                          -12.319899387942097
                        ],
                        [
                          -45.84506479675594,
                          -12.319887665944446
                        ],
                        [
                          -45.845079189853806,
                          -12.31987726758543
                        ],
                        [
                          -45.84509454083935,
                          -12.319868290921884
                        ],
                        [
                          -45.84511070495217,
                          -12.319860820604086
                        ],
                        [
                          -45.84512752976403,
                          -12.319854927077355
                        ],
                        [
                          -45.84514485661638,
                          -12.319850665917839
                        ],
                        [
                          -45.84516252211639,
                          -12.319848077308372
                        ],
                        [
                          -45.84518035967783,
                          -12.319847185659611
                        ],
                        [
                          -45.845198201091925,
                          -12.319847999379803
                        ],
                        [
                          -45.84521587811358,
                          -12.319850510795531
                        ],
                        [
                          -45.8452332240479,
                          -12.319854696224038
                        ],
                        [
                          -45.845250075322184,
                          -12.319860516196577
                        ],
                        [
                          -45.845419825238906,
                          -12.319928416165155
                        ],
                        [
                          -45.845436687275466,
                          -12.319936160474404
                        ],
                        [
                          -45.845452667038444,
                          -12.319945540643982
                        ],
                        [
                          -45.84546760091301,
                          -12.31995646063153
                        ],
                        [
                          -45.84548133599299,
                          -12.319968808628671
                        ],
                        [
                          -45.8454937316465,
                          -12.319982458205818
                        ],
                        [
                          -45.84550466095576,
                          -12.31999726960661
                        ],
                        [
                          -45.84551401201671,
                          -12.320013091178978
                        ],
                        [
                          -45.845521689084684,
                          -12.320029760927731
                        ],
                        [
                          -45.84552761355478,
                          -12.320047108173307
                        ],
                        [
                          -45.84553172476673,
                          -12.320064955299305
                        ],
                        [
                          -45.84553398062592,
                          -12.320083119571093
                        ],
                        [
                          -45.84553435803451,
                          -12.320101415006729
                        ],
                        [
                          -45.84553285312785,
                          -12.320119654281333
                        ],
                        [
                          -45.845529481314124,
                          -12.320137650644952
                        ],
                        [
                          -45.845524277116596,
                          -12.32015521983476
                        ],
                        [
                          -45.84549993428312,
                          -12.320224191346906
                        ],
                        [
                          -45.84779657615148,
                          -12.32048065921809
                        ],
                        [
                          -45.847798416395605,
                          -12.320480873950174
                        ],
                        [
                          -45.84861590716344,
                          -12.320580371954367
                        ],
                        [
                          -45.84859516876849,
                          -12.320514008931989
                        ],
                        [
                          -45.8485907218288,
                          -12.32049681627059
                        ],
                        [
                          -45.84858800946042,
                          -12.320479277926903
                        ],
                        [
                          -45.84858705776319,
                          -12.320461562666317
                        ],
                        [
                          -45.84858787589459,
                          -12.320443840956584
                        ],
                        [
                          -45.8485904559817,
                          -12.320426283327471
                        ],
                        [
                          -45.84859477319688,
                          -12.320409058729819
                        ],
                        [
                          -45.84860078599677,
                          -12.320392332909814
                        ],
                        [
                          -45.84864322355812,
                          -12.32029048292472
                        ],
                        [
                          -45.848651180303015,
                          -12.320273850611192
                        ],
                        [
                          -45.84866081297308,
                          -12.320258098332241
                        ],
                        [
                          -45.84867202206227,
                          -12.32024338880939
                        ],
                        [
                          -45.84868469178013,
                          -12.32022987399234
                        ],
                        [
                          -45.84869869124794,
                          -12.320217693489482
                        ],
                        [
                          -45.84871387585071,
                          -12.320206973125678
                        ],
                        [
                          -45.84873008873103,
                          -12.320197823642493
                        ],
                        [
                          -45.84874716240941,
                          -12.320190339554259
                        ],
                        [
                          -45.84876492051435,
                          -12.320184598171714
                        ],
                        [
                          -45.84878317960428,
                          -12.320180658803432
                        ],
                        [
                          -45.84880175106246,
                          -12.320178562143115
                        ],
                        [
                          -45.84893755098072,
                          -12.320170074654252
                        ],
                        [
                          -45.848954916440924,
                          -12.320169797213225
                        ],
                        [
                          -45.848972231093875,
                          -12.320171131551325
                        ],
                        [
                          -45.84898934054858,
                          -12.320174065770516
                        ],
                        [
                          -45.849006092243734,
                          -12.320178573707018
                        ],
                        [
                          -45.849022336808105,
                          -12.32018461516448
                        ],
                        [
                          -45.8490379293924,
                          -12.320192136272555
                        ],
                        [
                          -45.849052730960864,
                          -12.320201069967087
                        ],
                        [
                          -45.849066609531015,
                          -12.320211336588262
                        ],
                        [
                          -45.84907944135051,
                          -12.320222844590782
                        ],
                        [
                          -45.849091112000636,
                          -12.320235491360254
                        ],
                        [
                          -45.84910151741651,
                          -12.320249164128091
                        ],
                        [
                          -45.84911056481505,
                          -12.320263740977099
                        ],
                        [
                          -45.84911817352227,
                          -12.320279091928562
                        ],
                        [
                          -45.84917758609248,
                          -12.32041489189781
                        ],
                        [
                          -45.849184155344744,
                          -12.32043232576286
                        ],
                        [
                          -45.84918886945341,
                          -12.32045033067099
                        ],
                        [
                          -45.849191678593925,
                          -12.32046871632553
                        ],
                        [
                          -45.84919255307568,
                          -12.320487288405632
                        ],
                        [
                          -45.849191483655716,
                          -12.320505850620023
                        ],
                        [
                          -45.849188481636496,
                          -12.320524206781677
                        ],
                        [
                          -45.84918357874645,
                          -12.32054216288132
                        ],
                        [
                          -45.84917682680464,
                          -12.320559529137952
                        ],
                        [
                          -45.84913879343414,
                          -12.32064404789026
                        ],
                        [
                          -45.85173153088461,
                          -12.320961448884544
                        ]
                      ]
                    ],
                    "type": "Polygon"
                  },
                  "id": "38",
                  "properties": {
                    "Apr_2020": "Cerrado",
                    "Aug_2020": "Cerrado",
                    "Dec_2019": "Cerrado",
                    "Feb_2020": "Cerrado",
                    "Jan_2020": "Cerrado",
                    "Jul_2020": "Cerrado",
                    "Jun_2020": "Cerrado",
                    "Mar_2020": "Cerrado",
                    "May_2020": "Cerrado",
                    "Note": null,
                    "Nov_2019": "Cerrado",
                    "Oct_2019": "Cerrado",
                    "Sep_2020": "Cerrado",
                    "id": "434"
                  },
                  "type": "Feature"
                },
                {
                  "geometry": {
                    "coordinates": [
                      [
                        [
                          -45.835866976220885,
                          -12.318953518527097
                        ],
                        [
                          -45.83592008336545,
                          -12.318856155470275
                        ],
                        [
                          -45.83593211861512,
                          -12.318837046144106
                        ],
                        [
                          -45.83619523125692,
                          -12.318472083752509
                        ],
                        [
                          -45.836206029209,
                          -12.31845852391313
                        ],
                        [
                          -45.83655784423506,
                          -12.318057618709613
                        ],
                        [
                          -45.83674190208361,
                          -12.31772151344488
                        ],
                        [
                          -45.836833510735445,
                          -12.317538296401274
                        ],
                        [
                          -45.836842652426306,
                          -12.317305187449431
                        ],
                        [
                          -45.835988540794276,
                          -12.317177070477394
                        ],
                        [
                          -45.83074527872835,
                          -12.316506815508223
                        ],
                        [
                          -45.83073159216104,
                          -12.316504546503873
                        ],
                        [
                          -45.83071811858672,
                          -12.3165012691052
                        ],
                        [
                          -45.83026828077109,
                          -12.3163739565311
                        ],
                        [
                          -45.83026291497849,
                          -12.31637235039709
                        ],
                        [
                          -45.83019480277287,
                          -12.316350841295797
                        ],
                        [
                          -45.830111414472555,
                          -12.316415400449582
                        ],
                        [
                          -45.83011295662642,
                          -12.316414480960132
                        ],
                        [
                          -45.83012957597702,
                          -12.316406688756121
                        ],
                        [
                          -45.830146904390126,
                          -12.316400569438121
                        ],
                        [
                          -45.83016476820786,
                          -12.316396184331266
                        ],
                        [
                          -45.830182988406726,
                          -12.31639357738115
                        ],
                        [
                          -45.83020138239183,
                          -12.316392774713501
                        ],
                        [
                          -45.83021976582662,
                          -12.316393784372291
                        ],
                        [
                          -45.83023795448032,
                          -12.316396596239079
                        ],
                        [
                          -45.83025576607413,
                          -12.316401182134596
                        ],
                        [
                          -45.830273022108,
                          -12.316407496100934
                        ],
                        [
                          -45.83028954964939,
                          -12.316415474862236
                        ],
                        [
                          -45.83047627457756,
                          -12.316517324814834
                        ],
                        [
                          -45.8304916607693,
                          -12.316526720006012
                        ],
                        [
                          -45.83050603257064,
                          -12.316537557635101
                        ],
                        [
                          -45.83051925061469,
                          -12.316549732607003
                        ],
                        [
                          -45.83053118672276,
                          -12.316563126858085
                        ],
                        [
                          -45.83054172514735,
                          -12.316577610501067
                        ],
                        [
                          -45.83055076369459,
                          -12.316593043084573
                        ],
                        [
                          -45.83055821471521,
                          -12.316609274955049
                        ],
                        [
                          -45.83062611480756,
                          -12.316779024919784
                        ],
                        [
                          -45.8306319423368,
                          -12.316796024699189
                        ],
                        [
                          -45.83063602826468,
                          -12.316813508544717
                        ],
                        [
                          -45.83063833238432,
                          -12.316831304411096
                        ],
                        [
                          -45.83063883202226,
                          -12.3168492371827
                        ],
                        [
                          -45.8306375222616,
                          -12.316867130396636
                        ],
                        [
                          -45.83063441599031,
                          -12.316884807979273
                        ],
                        [
                          -45.830629543774535,
                          -12.316902095978765
                        ],
                        [
                          -45.83062295355775,
                          -12.316918824276891
                        ],
                        [
                          -45.83061471018903,
                          -12.316934828262932
                        ],
                        [
                          -45.83060489478492,
                          -12.316949950453584
                        ],
                        [
                          -45.83059360393124,
                          -12.316964042042622
                        ],
                        [
                          -45.83058094873268,
                          -12.316976964365143
                        ],
                        [
                          -45.830567053719484,
                          -12.316988590262126
                        ],
                        [
                          -45.83055205562205,
                          -12.316998805331705
                        ],
                        [
                          -45.83053610202546,
                          -12.317007509054898
                        ],
                        [
                          -45.83051934991724,
                          -12.317014615784744
                        ],
                        [
                          -45.830501964142485,
                          -12.317020055589122
                        ],
                        [
                          -45.830484115781815,
                          -12.317023774938898
                        ],
                        [
                          -45.830322853166045,
                          -12.317049237464472
                        ],
                        [
                          -45.83030462378271,
                          -12.317051205280539
                        ],
                        [
                          -45.83028628571639,
                          -12.317051378303667
                        ],
                        [
                          -45.83026802128512,
                          -12.317049754813587
                        ],
                        [
                          -45.83025001207483,
                          -12.31704635095112
                        ],
                        [
                          -45.83023243713401,
                          -12.317041200557641
                        ],
                        [
                          -45.83021547119363,
                          -12.317034354838567
                        ],
                        [
                          -45.8301992829299,
                          -12.317025881854377
                        ],
                        [
                          -45.83018403328728,
                          -12.317015865843901
                        ],
                        [
                          -45.83016987387838,
                          -12.3170044063868
                        ],
                        [
                          -45.8301569454766,
                          -12.316991617413521
                        ],
                        [
                          -45.83014537661654,
                          -12.316977626072637
                        ],
                        [
                          -45.83013528231614,
                          -12.316962571466703
                        ],
                        [
                          -45.83000796988,
                          -12.316750383873387
                        ],
                        [
                          -45.82999936508893,
                          -12.316734233823354
                        ],
                        [
                          -45.82999245781191,
                          -12.316717313945475
                        ],
                        [
                          -45.829987318253266,
                          -12.31669979621117
                        ],
                        [
                          -45.829983998650434,
                          -12.31668185866836
                        ],
                        [
                          -45.82998253274304,
                          -12.316663683631786
                        ],
                        [
                          -45.82998293542999,
                          -12.316645455830033
                        ],
                        [
                          -45.82998520261803,
                          -12.31662736052794
                        ],
                        [
                          -45.829989311263425,
                          -12.316609581643618
                        ],
                        [
                          -45.829995219606104,
                          -12.316592299879066
                        ],
                        [
                          -45.83002916965793,
                          -12.316507424890728
                        ],
                        [
                          -45.83003675797821,
                          -12.31649092990483
                        ],
                        [
                          -45.83004598554453,
                          -12.316475263576233
                        ],
                        [
                          -45.830056759881785,
                          -12.316460582906222
                        ],
                        [
                          -45.83006532160043,
                          -12.316451085489737
                        ],
                        [
                          -45.828809941222474,
                          -12.317422992817923
                        ],
                        [
                          -45.82883676335043,
                          -12.317476636986191
                        ],
                        [
                          -45.829299812561686,
                          -12.31784550654646
                        ],
                        [
                          -45.82996610558726,
                          -12.31828702600722
                        ],
                        [
                          -45.83038194712023,
                          -12.318364033689763
                        ],
                        [
                          -45.831928133842595,
                          -12.318560698358901
                        ],
                        [
                          -45.83193307346239,
                          -12.318532856959486
                        ],
                        [
                          -45.83193698984171,
                          -12.318515736827061
                        ],
                        [
                          -45.831942575283364,
                          -12.318499070505373
                        ],
                        [
                          -45.83194977719839,
                          -12.318483014912944
                        ],
                        [
                          -45.83195852777828,
                          -12.318467721218
                        ],
                        [
                          -45.831968744633436,
                          -12.318453333415292
                        ],
                        [
                          -45.83198033156884,
                          -12.318439986970299
                        ],
                        [
                          -45.83199317948986,
                          -12.318427807543754
                        ],
                        [
                          -45.8320071674293,
                          -12.318416909808587
                        ],
                        [
                          -45.83202216368647,
                          -12.318407396370164
                        ],
                        [
                          -45.83203802706707,
                          -12.318399356800274
                        ],
                        [
                          -45.83205460821266,
                          -12.318392866793856
                        ],
                        [
                          -45.832071751006836,
                          -12.318387987456141
                        ],
                        [
                          -45.83208929404518,
                          -12.318384764727536
                        ],
                        [
                          -45.83210707215486,
                          -12.318383228950943
                        ],
                        [
                          -45.83221740958793,
                          -12.31837898520832
                        ],
                        [
                          -45.8322351134173,
                          -12.31837914278883
                        ],
                        [
                          -45.8322527198155,
                          -12.318380973346816
                        ],
                        [
                          -45.83227006564129,
                          -12.318384459920237
                        ],
                        [
                          -45.832286990167866,
                          -12.31838957020244
                        ],
                        [
                          -45.832303336572174,
                          -12.31839625684141
                        ],
                        [
                          -45.832318953388054,
                          -12.318404457878588
                        ],
                        [
                          -45.832333695909654,
                          -12.318414097322952
                        ],
                        [
                          -45.83234742753234,
                          -12.318425085855155
                        ],
                        [
                          -45.83236002101844,
                          -12.318437321655201
                        ],
                        [
                          -45.83237135967623,
                          -12.318450691345827
                        ],
                        [
                          -45.83238133844122,
                          -12.318465071043104
                        ],
                        [
                          -45.83238986484969,
                          -12.318480327504359
                        ],
                        [
                          -45.832396859895404,
                          -12.318496319362737
                        ],
                        [
                          -45.83240225876181,
                          -12.318512898437218
                        ],
                        [
                          -45.83240601142252,
                          -12.318529911105522
                        ],
                        [
                          -45.83240808310493,
                          -12.318547199727659
                        ],
                        [
                          -45.832413387521996,
                          -12.31862252177278
                        ],
                        [
                          -45.834145881060316,
                          -12.318844636651464
                        ],
                        [
                          -45.83414824012256,
                          -12.318837175062015
                        ],
                        [
                          -45.83415518256759,
                          -12.318820969520484
                        ],
                        [
                          -45.83416369287775,
                          -12.318805503555133
                        ],
                        [
                          -45.83417369059006,
                          -12.318790923392525
                        ],
                        [
                          -45.83418508117861,
                          -12.318777366884138
                        ],
                        [
                          -45.834197756948264,
                          -12.318764962203046
                        ],
                        [
                          -45.83421159805291,
                          -12.318753826632127
                        ],
                        [
                          -45.83422647362856,
                          -12.318744065455132
                        ],
                        [
                          -45.83424224303063,
                          -12.318735770961293
                        ],
                        [
                          -45.8342587571637,
                          -12.318729021572707
                        ],
                        [
                          -45.8342758598912,
                          -12.318723881102965
                        ],
                        [
                          -45.83429338951156,
                          -12.318720398153753
                        ],
                        [
                          -45.8343111802871,
                          -12.318718605655356
                        ],
                        [
                          -45.834391811488395,
                          -12.318714361911432
                        ],
                        [
                          -45.83441029169385,
                          -12.31871430346339
                        ],
                        [
                          -45.834428684578164,
                          -12.318716068774183
                        ],
                        [
                          -45.83444680445049,
                          -12.318719640021564
                        ],
                        [
                          -45.83446446837621,
                          -12.318724981150922
                        ],
                        [
                          -45.834481498023855,
                          -12.318732038239265
                        ],
                        [
                          -45.83449772146545,
                          -12.318740740039596
                        ],
                        [
                          -45.83451297491229,
                          -12.318750998700265
                        ],
                        [
                          -45.8345271043685,
                          -12.318762710651857
                        ],
                        [
                          -45.83453996718569,
                          -12.318775757652766
                        ],
                        [
                          -45.83455143350322,
                          -12.318790007983038
                        ],
                        [
                          -45.8346361106256,
                          -12.31890686236603
                        ],
                        [
                          -45.83544768238814,
                          -12.318968113184315
                        ],
                        [
                          -45.83557809515913,
                          -12.318867339690199
                        ],
                        [
                          -45.83559279088023,
                          -12.318857087694095
                        ],
                        [
                          -45.83560843632435,
                          -12.318848298816096
                        ],
                        [
                          -45.83562488132879,
                          -12.318841057410516
                        ],
                        [
                          -45.83564196805686,
                          -12.318835432979252
                        ],
                        [
                          -45.8356595325127,
                          -12.318831479504684
                        ],
                        [
                          -45.835677406115366,
                          -12.318829234931657
                        ],
                        [
                          -45.83569541731675,
                          -12.318828720803204
                        ],
                        [
                          -45.835713393248135,
                          -12.318829942053831
                        ],
                        [
                          -45.83573116137933,
                          -12.31883288696214
                        ],
                        [
                          -45.83574855117455,
                          -12.318837527263316
                        ],
                        [
                          -45.83576539572919,
                          -12.318843818420477
                        ],
                        [
                          -45.835781533371794,
                          -12.318851700052019
                        ],
                        [
                          -45.83579680921567,
                          -12.31886109651125
                        ],
                        [
                          -45.83581107664553,
                          -12.318871917612352
                        ],
                        [
                          -45.835824198724595,
                          -12.318884059496012
                        ],
                        [
                          -45.83583604950899,
                          -12.318897405626258
                        ],
                        [
                          -45.83584651525645,
                          -12.318911827908888
                        ],
                        [
                          -45.835855495518054,
                          -12.318927187920979
                        ],
                        [
                          -45.83586290410232,
                          -12.318943338239354
                        ],
                        [
                          -45.835866976220885,
                          -12.318953518527097
                        ]
                      ]
                    ],
                    "type": "Polygon"
                  },
                  "id": "39",
                  "properties": {
                    "Apr_2020": "Cerrado",
                    "Aug_2020": "Cerrado",
                    "Dec_2019": "Cerrado",
                    "Feb_2020": "Cerrado",
                    "Jan_2020": "Cerrado",
                    "Jul_2020": "Cerrado",
                    "Jun_2020": "Cerrado",
                    "Mar_2020": "Cerrado",
                    "May_2020": "Cerrado",
                    "Note": null,
                    "Nov_2019": "Cerrado",
                    "Oct_2019": "Cerrado",
                    "Sep_2020": "Cerrado",
                    "id": "435"
                  },
                  "type": "Feature"
                },
                {
                  "geometry": {
                    "coordinates": [
                      [
                        [
                          -45.83116246357949,
                          -12.328122793984623
                        ],
                        [
                          -45.83119034973894,
                          -12.3280847271911
                        ],
                        [
                          -45.829724242139925,
                          -12.319404012628809
                        ],
                        [
                          -45.82771227040553,
                          -12.319253510357212
                        ],
                        [
                          -45.82769805599348,
                          -12.319251898172988
                        ],
                        [
                          -45.826806867827216,
                          -12.319116098110491
                        ],
                        [
                          -45.826799034237474,
                          -12.319114733208293
                        ],
                        [
                          -45.8261319547036,
                          -12.318983811406843
                        ],
                        [
                          -45.826211266059396,
                          -12.319856228636114
                        ],
                        [
                          -45.826956817126764,
                          -12.3241600746246
                        ],
                        [
                          -45.82762153054416,
                          -12.327821100220905
                        ],
                        [
                          -45.83116246357949,
                          -12.328122793984623
                        ]
                      ]
                    ],
                    "type": "Polygon"
                  },
                  "id": "40",
                  "properties": {
                    "Apr_2020": "Pasture",
                    "Aug_2020": "Pasture",
                    "Dec_2019": "Pasture",
                    "Feb_2020": "Pasture",
                    "Jan_2020": "Pasture",
                    "Jul_2020": "Pasture",
                    "Jun_2020": "Pasture",
                    "Mar_2020": "Pasture",
                    "May_2020": "Pasture",
                    "Note": null,
                    "Nov_2019": "Pasture",
                    "Oct_2019": "Pasture",
                    "Sep_2020": "Pasture",
                    "id": "436"
                  },
                  "type": "Feature"
                },
                {
                  "geometry": {
                    "coordinates": [
                      [
                        [
                          -45.84269053091708,
                          -12.32905760310072
                        ],
                        [
                          -45.840972873652056,
                          -12.320298330418488
                        ],
                        [
                          -45.83635850208228,
                          -12.319766505852007
                        ],
                        [
                          -45.83681728284669,
                          -12.321714436142473
                        ],
                        [
                          -45.83681821582715,
                          -12.32171862252425
                        ],
                        [
                          -45.83825127279925,
                          -12.328533957014152
                        ],
                        [
                          -45.84269053091708,
                          -12.32905760310072
                        ]
                      ]
                    ],
                    "type": "Polygon"
                  },
                  "id": "41",
                  "properties": {
                    "Apr_2020": "Brachiaria",
                    "Aug_2020": "Brachiaria",
                    "Dec_2019": "Brachiaria",
                    "Feb_2020": "Brachiaria",
                    "Jan_2020": "Brachiaria",
                    "Jul_2020": "Brachiaria",
                    "Jun_2020": "Brachiaria",
                    "Mar_2020": "Brachiaria",
                    "May_2020": "Brachiaria",
                    "Note": null,
                    "Nov_2019": "Brachiaria",
                    "Oct_2019": "Brachiaria",
                    "Sep_2020": "Brachiaria",
                    "id": "437"
                  },
                  "type": "Feature"
                },
                {
                  "geometry": {
                    "coordinates": [
                      [
                        [
                          -45.843073313878214,
                          -12.329099140977288
                        ],
                        [
                          -45.84811302757938,
                          -12.329558730563456
                        ],
                        [
                          -45.846148810304186,
                          -12.320974745852975
                        ],
                        [
                          -45.84393402769565,
                          -12.320715357164424
                        ],
                        [
                          -45.84388845535042,
                          -12.320936709181705
                        ],
                        [
                          -45.843884067301715,
                          -12.320953727396654
                        ],
                        [
                          -45.843878021620824,
                          -12.32097024704636
                        ],
                        [
                          -45.84387037528658,
                          -12.320986112436993
                        ],
                        [
                          -45.84386120036362,
                          -12.321001174040846
                        ],
                        [
                          -45.84385058332326,
                          -12.321015289905764
                        ],
                        [
                          -45.843838624228454,
                          -12.32102832699289
                        ],
                        [
                          -45.84382543579079,
                          -12.32104016243061
                        ],
                        [
                          -45.84381114230817,
                          -12.321050684672569
                        ],
                        [
                          -45.84379587849337,
                          -12.321059794548942
                        ],
                        [
                          -45.84377978820436,
                          -12.321067406201156
                        ],
                        [
                          -45.8437630230885,
                          -12.32107344789104
                        ],
                        [
                          -45.84374574115329,
                          -12.32107786267698
                        ],
                        [
                          -45.843728105277165,
                          -12.321080608950558
                        ],
                        [
                          -45.84371028167441,
                          -12.321081660828726
                        ],
                        [
                          -45.84369243832859,
                          -12.321081008397755
                        ],
                        [
                          -45.84367474340936,
                          -12.321078657806611
                        ],
                        [
                          -45.843425776558334,
                          -12.321033391117274
                        ],
                        [
                          -45.84340756968109,
                          -12.32102912859702
                        ],
                        [
                          -45.84338989763066,
                          -12.321023068836224
                        ],
                        [
                          -45.84337294339623,
                          -12.321015274581994
                        ],
                        [
                          -45.843356882534174,
                          -12.321005826541663
                        ],
                        [
                          -45.843341881350185,
                          -12.320994822547092
                        ],
                        [
                          -45.843328095177235,
                          -12.320982376541522
                        ],
                        [
                          -45.84331566676713,
                          -12.320968617399878
                        ],
                        [
                          -45.84330472481238,
                          -12.320953687594223
                        ],
                        [
                          -45.84329538261358,
                          -12.320937741718454
                        ],
                        [
                          -45.84328773690629,
                          -12.320920944887579
                        ],
                        [
                          -45.84328186685928,
                          -12.320903471028007
                        ],
                        [
                          -45.84327783325486,
                          -12.320885501076514
                        ],
                        [
                          -45.84322149528723,
                          -12.320555520445076
                        ],
                        [
                          -45.84135611351836,
                          -12.320342267482532
                        ],
                        [
                          -45.843073313878214,
                          -12.329099140977288
                        ]
                      ]
                    ],
                    "type": "Polygon"
                  },
                  "id": "42",
                  "properties": {
                    "Apr_2020": "Pasture",
                    "Aug_2020": "Pasture",
                    "Dec_2019": "Pasture",
                    "Feb_2020": "Pasture",
                    "Jan_2020": "Pasture",
                    "Jul_2020": "Pasture",
                    "Jun_2020": "Pasture",
                    "Mar_2020": "Pasture",
                    "May_2020": "Pasture",
                    "Note": null,
                    "Nov_2019": "Pasture",
                    "Oct_2019": "Pasture",
                    "Sep_2020": "Pasture",
                    "id": "438"
                  },
                  "type": "Feature"
                },
                {
                  "geometry": {
                    "coordinates": [
                      [
                        [
                          -45.853059403403535,
                          -12.330036880369075
                        ],
                        [
                          -45.85270014666319,
                          -12.32830987491759
                        ],
                        [
                          -45.85269983924388,
                          -12.328308364347173
                        ],
                        [
                          -45.85136742455753,
                          -12.321612961796522
                        ],
                        [
                          -45.84653656141603,
                          -12.321021535739904
                        ],
                        [
                          -45.84849830015644,
                          -12.32959462935846
                        ],
                        [
                          -45.853059403403535,
                          -12.330036880369075
                        ]
                      ]
                    ],
                    "type": "Polygon"
                  },
                  "id": "43",
                  "properties": {
                    "Apr_2020": "Pasture",
                    "Aug_2020": "Pasture",
                    "Dec_2019": "Pasture",
                    "Feb_2020": "Pasture",
                    "Jan_2020": "Pasture",
                    "Jul_2020": "Pasture",
                    "Jun_2020": "Pasture",
                    "Mar_2020": "Pasture",
                    "May_2020": "Pasture",
                    "Note": null,
                    "Nov_2019": "Pasture",
                    "Oct_2019": "Pasture",
                    "Sep_2020": "Pasture",
                    "id": "439"
                  },
                  "type": "Feature"
                },
                {
                  "geometry": {
                    "coordinates": [
                      [
                        [
                          -45.8516290431374,
                          -12.317114366675627
                        ],
                        [
                          -45.85024204079305,
                          -12.310408678240524
                        ],
                        [
                          -45.844009111473966,
                          -12.310747014240714
                        ],
                        [
                          -45.84107157653895,
                          -12.310906471593341
                        ],
                        [
                          -45.84252339685427,
                          -12.317357772464653
                        ],
                        [
                          -45.8516290431374,
                          -12.317114366675627
                        ]
                      ]
                    ],
                    "type": "Polygon"
                  },
                  "id": "44",
                  "properties": {
                    "Apr_2020": "Pasture",
                    "Aug_2020": "Pasture",
                    "Dec_2019": "Pasture",
                    "Feb_2020": "Pasture",
                    "Jan_2020": "Pasture",
                    "Jul_2020": "Pasture",
                    "Jun_2020": "Pasture",
                    "Mar_2020": "Pasture",
                    "May_2020": "Pasture",
                    "Note": null,
                    "Nov_2019": "Pasture",
                    "Oct_2019": "Pasture",
                    "Sep_2020": "Pasture",
                    "id": "441"
                  },
                  "type": "Feature"
                },
                {
                  "geometry": {
                    "coordinates": [
                      [
                        [
                          -45.85017040426864,
                          -12.310050327572823
                        ],
                        [
                          -45.8491371059289,
                          -12.304742416462346
                        ],
                        [
                          -45.84570928737495,
                          -12.303737517823004
                        ],
                        [
                          -45.845692060891,
                          -12.303731536544053
                        ],
                        [
                          -45.845675522878004,
                          -12.303723904216223
                        ],
                        [
                          -45.84565983652186,
                          -12.303714696150163
                        ],
                        [
                          -45.845645156604846,
                          -12.303704003204814
                        ],
                        [
                          -45.84563162797831,
                          -12.30369193089091
                        ],
                        [
                          -45.845619384133414,
                          -12.303678598329844
                        ],
                        [
                          -45.845608545883934,
                          -12.303664137078261
                        ],
                        [
                          -45.84559922017409,
                          -12.303648689829927
                        ],
                        [
                          -45.845591499023364,
                          -12.303632409007726
                        ],
                        [
                          -45.8455854586185,
                          -12.303615455259678
                        ],
                        [
                          -45.84558115856175,
                          -12.30359799587375
                        ],
                        [
                          -45.84557864128277,
                          -12.303580203127128
                        ],
                        [
                          -45.84557793161998,
                          -12.30356225258637
                        ],
                        [
                          -45.845579036575465,
                          -12.303544321374995
                        ],
                        [
                          -45.84558194524593,
                          -12.30352658642577
                        ],
                        [
                          -45.84558662893028,
                          -12.303509222734814
                        ],
                        [
                          -45.84559304141283,
                          -12.30349240163493
                        ],
                        [
                          -45.84560111941936,
                          -12.303476289104953
                        ],
                        [
                          -45.84572559468477,
                          -12.30325628714881
                        ],
                        [
                          -45.84548682930856,
                          -12.303413369177537
                        ],
                        [
                          -45.84415113408577,
                          -12.304360914019092
                        ],
                        [
                          -45.842565886523644,
                          -12.30579415283383
                        ],
                        [
                          -45.84412879779131,
                          -12.310378278629067
                        ],
                        [
                          -45.85017040426864,
                          -12.310050327572823
                        ]
                      ]
                    ],
                    "type": "Polygon"
                  },
                  "id": "45",
                  "properties": {
                    "Apr_2020": "Pasture",
                    "Aug_2020": "Pasture",
                    "Dec_2019": "Pasture",
                    "Feb_2020": "Pasture",
                    "Jan_2020": "Pasture",
                    "Jul_2020": "Pasture",
                    "Jun_2020": "Pasture",
                    "Mar_2020": "Pasture",
                    "May_2020": "Pasture",
                    "Note": null,
                    "Nov_2019": "Pasture",
                    "Oct_2019": "Pasture",
                    "Sep_2020": "Pasture",
                    "id": "442"
                  },
                  "type": "Feature"
                },
                {
                  "geometry": {
                    "coordinates": [
                      [
                        [
                          [
                            -45.858851170071475,
                            -12.311483137922215
                          ],
                          [
                            -45.85884303625166,
                            -12.31146294357979
                          ],
                          [
                            -45.85878301082988,
                            -12.311498368478862
                          ],
                          [
                            -45.858851170071475,
                            -12.311483137922215
                          ]
                        ]
                      ],
                      [
                        [
                          [
                            -45.85529336590244,
                            -12.312247853255673
                          ],
                          [
                            -45.85527401651917,
                            -12.312246362888164
                          ],
                          [
                            -45.85422621201062,
                            -12.312090919409712
                          ],
                          [
                            -45.854211316460606,
                            -12.31208808734821
                          ],
                          [
                            -45.85419670897627,
                            -12.312084057751301
                          ],
                          [
                            -45.854182488956184,
                            -12.312078858038882
                          ],
                          [
                            -45.85335921408363,
                            -12.311739185196064
                          ],
                          [
                            -45.853343486064155,
                            -12.311731816040407
                          ],
                          [
                            -45.85332853775111,
                            -12.311723016599514
                          ],
                          [
                            -45.85258010618865,
                            -12.311233657423518
                          ],
                          [
                            -45.85256768781841,
                            -12.311224781009896
                          ],
                          [
                            -45.85255606562182,
                            -12.31121491709545
                          ],
                          [
                            -45.85180763424407,
                            -12.31052405711116
                          ],
                          [
                            -45.85179646209075,
                            -12.310512806670381
                          ],
                          [
                            -45.85139813454283,
                            -12.310075138094188
                          ],
                          [
                            -45.85203371796061,
                            -12.31289162724369
                          ],
                          [
                            -45.85529336590244,
                            -12.312247853255673
                          ]
                        ]
                      ]
                    ],
                    "type": "MultiPolygon"
                  },
                  "id": "46",
                  "properties": {
                    "Apr_2020": "Pasture",
                    "Aug_2020": "Pasture",
                    "Dec_2019": "Pasture",
                    "Feb_2020": "Pasture",
                    "Jan_2020": "Pasture",
                    "Jul_2020": "Pasture",
                    "Jun_2020": "Pasture",
                    "Mar_2020": "Pasture",
                    "May_2020": "Pasture",
                    "Note": null,
                    "Nov_2019": "Pasture",
                    "Oct_2019": "Pasture",
                    "Sep_2020": "Pasture",
                    "id": "443"
                  },
                  "type": "Feature"
                },
                {
                  "geometry": {
                    "coordinates": [
                      [
                        [
                          -45.86402788278259,
                          -12.315621313826227
                        ],
                        [
                          -45.86444103738631,
                          -12.31085560149938
                        ],
                        [
                          -45.85981283806601,
                          -12.311818440044885
                        ],
                        [
                          -45.85981045780874,
                          -12.311818919076844
                        ],
                        [
                          -45.856053063587936,
                          -12.312549683542032
                        ],
                        [
                          -45.85219408979026,
                          -12.31338954715453
                        ],
                        [
                          -45.85288318923008,
                          -12.315993931085611
                        ],
                        [
                          -45.85505546816187,
                          -12.315461509117107
                        ],
                        [
                          -45.85507154906397,
                          -12.315458309220245
                        ],
                        [
                          -45.85508785599979,
                          -12.315456531173478
                        ],
                        [
                          -45.85510425920279,
                          -12.315456189126058
                        ],
                        [
                          -45.85974096800412,
                          -12.315562916657898
                        ],
                        [
                          -45.86402788278259,
                          -12.315621313826227
                        ]
                      ]
                    ],
                    "type": "Polygon"
                  },
                  "id": "47",
                  "properties": {
                    "Apr_2020": "Uncultivated soil",
                    "Aug_2020": "Uncultivated soil",
                    "Dec_2019": "Uncultivated soil",
                    "Feb_2020": "Soybean",
                    "Jan_2020": "Soybean",
                    "Jul_2020": "Uncultivated soil",
                    "Jun_2020": "Uncultivated soil",
                    "Mar_2020": "Uncultivated soil",
                    "May_2020": "Uncultivated soil",
                    "Note": null,
                    "Nov_2019": "Uncultivated soil",
                    "Oct_2019": "Uncultivated soil",
                    "Sep_2020": "Uncultivated soil",
                    "id": "444"
                  },
                  "type": "Feature"
                },
                {
                  "geometry": {
                    "coordinates": [
                      [
                        [
                          -45.86187175616147,
                          -12.322238926029314
                        ],
                        [
                          -45.86341216774243,
                          -12.321383732416662
                        ],
                        [
                          -45.86392783103589,
                          -12.316143060523867
                        ],
                        [
                          -45.86391569855278,
                          -12.31611706231888
                        ],
                        [
                          -45.85513250853549,
                          -12.315890398322788
                        ],
                        [
                          -45.85499205594251,
                          -12.315926149935823
                        ],
                        [
                          -45.855024055026874,
                          -12.31627413708987
                        ],
                        [
                          -45.855024688945086,
                          -12.3162967686033
                        ],
                        [
                          -45.85501893189394,
                          -12.316457969184475
                        ],
                        [
                          -45.85501767154324,
                          -12.31647368372906
                        ],
                        [
                          -45.854988185643684,
                          -12.316709572267449
                        ],
                        [
                          -45.85510627020048,
                          -12.31705869110838
                        ],
                        [
                          -45.85551776047915,
                          -12.318120436542475
                        ],
                        [
                          -45.85648080625272,
                          -12.317965750206529
                        ],
                        [
                          -45.85649859037346,
                          -12.317963761354683
                        ],
                        [
                          -45.85651648689132,
                          -12.317963481635239
                        ],
                        [
                          -45.85653432631587,
                          -12.31796491369727
                        ],
                        [
                          -45.856551939697376,
                          -12.317968043978286
                        ],
                        [
                          -45.85656916022688,
                          -12.31797284283269
                        ],
                        [
                          -45.85658582481595,
                          -12.317979264812514
                        ],
                        [
                          -45.85660177564116,
                          -12.317987249097857
                        ],
                        [
                          -45.85661686163886,
                          -12.317996720072859
                        ],
                        [
                          -45.85663093993574,
                          -12.318007588041853
                        ],
                        [
                          -45.856643877201996,
                          -12.318019750078776
                        ],
                        [
                          -45.85665555091397,
                          -12.318033091002004
                        ],
                        [
                          -45.85666585051458,
                          -12.318047484465176
                        ],
                        [
                          -45.85667467846033,
                          -12.318062794153679
                        ],
                        [
                          -45.8566819511451,
                          -12.31807887507576
                        ],
                        [
                          -45.85668759969199,
                          -12.318095574935553
                        ],
                        [
                          -45.85682538855118,
                          -12.318580590646087
                        ],
                        [
                          -45.85695799031151,
                          -12.31880866542912
                        ],
                        [
                          -45.8569664026979,
                          -12.318825002789298
                        ],
                        [
                          -45.85697309165885,
                          -12.318842092883996
                        ],
                        [
                          -45.85702490621984,
                          -12.318997536266417
                        ],
                        [
                          -45.8570298132666,
                          -12.319015249224663
                        ],
                        [
                          -45.85703286864734,
                          -12.319033360081637
                        ],
                        [
                          -45.85703404087527,
                          -12.319051682200834
                        ],
                        [
                          -45.857033317869934,
                          -12.319070026768589
                        ],
                        [
                          -45.85703070708167,
                          -12.319088204739842
                        ],
                        [
                          -45.85702623541488,
                          -12.319106028786333
                        ],
                        [
                          -45.857019948950764,
                          -12.319123315227053
                        ],
                        [
                          -45.8570119124725,
                          -12.319139885921066
                        ],
                        [
                          -45.85697902574689,
                          -12.319199680050499
                        ],
                        [
                          -45.85745259652459,
                          -12.321849539096842
                        ],
                        [
                          -45.85983131610612,
                          -12.321763235754627
                        ],
                        [
                          -45.859849929758376,
                          -12.321763487244768
                        ],
                        [
                          -45.85986842221855,
                          -12.321765587439646
                        ],
                        [
                          -45.859886604052626,
                          -12.321769514825165
                        ],
                        [
                          -45.859904289008604,
                          -12.321775229169731
                        ],
                        [
                          -45.859921295924394,
                          -12.321782671936447
                        ],
                        [
                          -45.85993745058361,
                          -12.321791766882658
                        ],
                        [
                          -45.859952587500196,
                          -12.321802420841067
                        ],
                        [
                          -45.85996655161369,
                          -12.321814524674053
                        ],
                        [
                          -45.86034223095398,
                          -12.322174973735482
                        ],
                        [
                          -45.86187175616147,
                          -12.322238926029314
                        ]
                      ]
                    ],
                    "type": "Polygon"
                  },
                  "id": "48",
                  "properties": {
                    "Apr_2020": "Uncultivated soil",
                    "Aug_2020": "Uncultivated soil",
                    "Dec_2019": "Uncultivated soil",
                    "Feb_2020": "Soybean",
                    "Jan_2020": "Soybean",
                    "Jul_2020": "Uncultivated soil",
                    "Jun_2020": "Uncultivated soil",
                    "Mar_2020": "Uncultivated soil",
                    "May_2020": "Uncultivated soil",
                    "Note": null,
                    "Nov_2019": "Uncultivated soil",
                    "Oct_2019": "Uncultivated soil",
                    "Sep_2020": "Uncultivated soil",
                    "id": "445"
                  },
                  "type": "Feature"
                },
                {
                  "geometry": {
                    "coordinates": [
                      [
                        [
                          -45.855943377788094,
                          -12.301893575108338
                        ],
                        [
                          -45.85585685661743,
                          -12.301894330171063
                        ],
                        [
                          -45.85577036169873,
                          -12.30189659512411
                        ],
                        [
                          -45.85568391927851,
                          -12.30190036928555
                        ],
                        [
                          -45.85559755558955,
                          -12.301905651518924
                        ],
                        [
                          -45.85551129683614,
                          -12.301912440233894
                        ],
                        [
                          -45.85542516919631,
                          -12.301920733386247
                        ],
                        [
                          -45.855339198806035,
                          -12.30193052847883
                        ],
                        [
                          -45.85525341175869,
                          -12.301941822561774
                        ],
                        [
                          -45.85516783409089,
                          -12.301954612233871
                        ],
                        [
                          -45.85508249178138,
                          -12.301968893642638
                        ],
                        [
                          -45.85499741073509,
                          -12.3019846624866
                        ],
                        [
                          -45.854912616782,
                          -12.302001914015504
                        ],
                        [
                          -45.85482813567019,
                          -12.302020643031403
                        ],
                        [
                          -45.8547439930525,
                          -12.302040843891103
                        ],
                        [
                          -45.85466021448349,
                          -12.30206251050689
                        ],
                        [
                          -45.854576825410234,
                          -12.302085636348442
                        ],
                        [
                          -45.8544938511651,
                          -12.302110214444662
                        ],
                        [
                          -45.85441131696015,
                          -12.30213623738486
                        ],
                        [
                          -45.8543292478722,
                          -12.30216369732322
                        ],
                        [
                          -45.85424766884863,
                          -12.30219258597656
                        ],
                        [
                          -45.85416660468454,
                          -12.302222894631916
                        ],
                        [
                          -45.854086080028914,
                          -12.30225461414409
                        ],
                        [
                          -45.854006119367355,
                          -12.302287734941794
                        ],
                        [
                          -45.85392674702198,
                          -12.30232224702753
                        ],
                        [
                          -45.85384798713622,
                          -12.302358139983625
                        ],
                        [
                          -45.853769863676504,
                          -12.302395402971307
                        ],
                        [
                          -45.85369240041795,
                          -12.302434024736861
                        ],
                        [
                          -45.85361562094246,
                          -12.302473993612209
                        ],
                        [
                          -45.853539548625385,
                          -12.30251529752133
                        ],
                        [
                          -45.853464206634435,
                          -12.302557923980672
                        ],
                        [
                          -45.85338961791941,
                          -12.302601860104245
                        ],
                        [
                          -45.85331580520678,
                          -12.302647092606346
                        ],
                        [
                          -45.853242790991196,
                          -12.30269360780634
                        ],
                        [
                          -45.85317059752796,
                          -12.302741391632956
                        ],
                        [
                          -45.853099246830816,
                          -12.302790429625322
                        ],
                        [
                          -45.85302876065867,
                          -12.302840706941364
                        ],
                        [
                          -45.852959160514,
                          -12.302892208358548
                        ],
                        [
                          -45.852890467633536,
                          -12.302944918280327
                        ],
                        [
                          -45.85282270298298,
                          -12.302998820739406
                        ],
                        [
                          -45.85275588724919,
                          -12.303053899403583
                        ],
                        [
                          -45.852690040834844,
                          -12.303110137579573
                        ],
                        [
                          -45.85262518385245,
                          -12.303167518217478
                        ],
                        [
                          -45.852561336116125,
                          -12.303226023917485
                        ],
                        [
                          -45.85249851713754,
                          -12.303285636932998
                        ],
                        [
                          -45.85243674611809,
                          -12.303346339177452
                        ],
                        [
                          -45.85237604194503,
                          -12.30340811222757
                        ],
                        [
                          -45.852316423181854,
                          -12.303470937332358
                        ],
                        [
                          -45.85225790806673,
                          -12.30353479541434
                        ],
                        [
                          -45.85220051450361,
                          -12.30359966707845
                        ],
                        [
                          -45.85214426005793,
                          -12.30366553261622
                        ],
                        [
                          -45.85208916195046,
                          -12.303732372012536
                        ],
                        [
                          -45.852035237052974,
                          -12.303800164950013
                        ],
                        [
                          -45.851982501880386,
                          -12.303868890818121
                        ],
                        [
                          -45.85193097258835,
                          -12.303938528715934
                        ],
                        [
                          -45.851880664967204,
                          -12.304009057459352
                        ],
                        [
                          -45.85183159443394,
                          -12.304080455591604
                        ],
                        [
                          -45.85178377603278,
                          -12.304152701382067
                        ],
                        [
                          -45.85173722442601,
                          -12.304225772838885
                        ],
                        [
                          -45.851691953890274,
                          -12.304299647714306
                        ],
                        [
                          -45.851647978312826,
                          -12.304374303510063
                        ],
                        [
                          -45.851605311186525,
                          -12.304449717485024
                        ],
                        [
                          -45.85156396560521,
                          -12.304525866662523
                        ],
                        [
                          -45.85152395425939,
                          -12.304602727837672
                        ],
                        [
                          -45.8514852894335,
                          -12.304680277581712
                        ],
                        [
                          -45.85144798299962,
                          -12.3047584922537
                        ],
                        [
                          -45.851412046415206,
                          -12.304837348004625
                        ],
                        [
                          -45.85137749071956,
                          -12.304916820784218
                        ],
                        [
                          -45.85134432652874,
                          -12.304996886351619
                        ],
                        [
                          -45.85131256403329,
                          -12.305077520280248
                        ],
                        [
                          -45.851282212995166,
                          -12.305158697964593
                        ],
                        [
                          -45.85125328274285,
                          -12.305240394632081
                        ],
                        [
                          -45.85122578217072,
                          -12.305322585344495
                        ],
                        [
                          -45.851199719733536,
                          -12.305405245012684
                        ],
                        [
                          -45.85117510344607,
                          -12.305488348397592
                        ],
                        [
                          -45.851151940878516,
                          -12.305571870123778
                        ],
                        [
                          -45.8511302391555,
                          -12.305655784682854
                        ],
                        [
                          -45.851110004952474,
                          -12.305740066445582
                        ],
                        [
                          -45.85109124449465,
                          -12.305824689665464
                        ],
                        [
                          -45.85107396355405,
                          -12.305909628490808
                        ],
                        [
                          -45.851058167448166,
                          -12.305994856969958
                        ],
                        [
                          -45.851043861037915,
                          -12.306080349061096
                        ],
                        [
                          -45.85103104872624,
                          -12.30616607863906
                        ],
                        [
                          -45.851019734456386,
                          -12.306252019505243
                        ],
                        [
                          -45.8510099217109,
                          -12.306338145393608
                        ],
                        [
                          -45.85100161351025,
                          -12.306424429981126
                        ],
                        [
                          -45.850994812411955,
                          -12.306510846894152
                        ],
                        [
                          -45.85098952050969,
                          -12.306597369718109
                        ],
                        [
                          -45.85098573943258,
                          -12.306683972004755
                        ],
                        [
                          -45.8509834703447,
                          -12.306770627281306
                        ],
                        [
                          -45.850982713944646,
                          -12.306857309057982
                        ],
                        [
                          -45.850983470465366,
                          -12.306943990836878
                        ],
                        [
                          -45.85098573967399,
                          -12.30703064612005
                        ],
                        [
                          -45.85098952087202,
                          -12.307117248417848
                        ],
                        [
                          -45.85099481289543,
                          -12.307203771257155
                        ],
                        [
                          -45.851001614115184,
                          -12.307290188189912
                        ],
                        [
                          -45.85100992243768,
                          -12.307376472801293
                        ],
                        [
                          -45.85101973530548,
                          -12.307462598717818
                        ],
                        [
                          -45.8510310496981,
                          -12.307548539615652
                        ],
                        [
                          -45.851043862133174,
                          -12.307634269229663
                        ],
                        [
                          -45.85105816866734,
                          -12.30771976136006
                        ],
                        [
                          -45.85107396489785,
                          -12.307804989882296
                        ],
                        [
                          -45.85109124596361,
                          -12.307889928753436
                        ],
                        [
                          -45.85111000654741,
                          -12.307974552022948
                        ],
                        [
                          -45.85113024087688,
                          -12.308058833837286
                        ],
                        [
                          -45.85115194272722,
                          -12.308142748451516
                        ],
                        [
                          -45.85117510542248,
                          -12.30822627023434
                        ],
                        [
                          -45.85119972183834,
                          -12.308309373678398
                        ],
                        [
                          -45.851225784404384,
                          -12.308392033407362
                        ],
                        [
                          -45.85125328510603,
                          -12.30847422418275
                        ],
                        [
                          -45.85128221548775,
                          -12.308555920913117
                        ],
                        [
                          -45.85131256665609,
                          -12.308637098662789
                        ],
                        [
                          -45.85134432928139,
                          -12.308717732656167
                        ],
                        [
                          -45.85137749360228,
                          -12.308797798289184
                        ],
                        [
                          -45.851412049428085,
                          -12.308877271135017
                        ],
                        [
                          -45.85144798614196,
                          -12.308956126951085
                        ],
                        [
                          -45.851485292704794,
                          -12.30903434168765
                        ],
                        [
                          -45.85152395765936,
                          -12.309111891496277
                        ],
                        [
                          -45.851563969132535,
                          -12.309188752734057
                        ],
                        [
                          -45.8516053148401,
                          -12.309264901972814
                        ],
                        [
                          -45.85164798209168,
                          -12.309340316008011
                        ],
                        [
                          -45.85169195779247,
                          -12.309414971861488
                        ],
                        [
                          -45.8517372284494,
                          -12.30948884679195
                        ],
                        [
                          -45.85178378017578,
                          -12.309561918302249
                        ],
                        [
                          -45.85183159869374,
                          -12.309634164142881
                        ],
                        [
                          -45.85188066934061,
                          -12.30970556232166
                        ],
                        [
                          -45.85193097707346,
                          -12.309776091110043
                        ],
                        [
                          -45.8519825064731,
                          -12.309845729048433
                        ],
                        [
                          -45.852035241749185,
                          -12.309914454952995
                        ],
                        [
                          -45.85208916674679,
                          -12.309982247923976
                        ],
                        [
                          -45.85214426495002,
                          -12.310049087349876
                        ],
                        [
                          -45.852200519486196,
                          -12.310114952912539
                        ],
                        [
                          -45.85225791313559,
                          -12.31017982459824
                        ],
                        [
                          -45.852316428330894,
                          -12.310243682696797
                        ],
                        [
                          -45.85237604716919,
                          -12.310306507814493
                        ],
                        [
                          -45.85243675141097,
                          -12.310368280872751
                        ],
                        [
                          -45.85249852249277,
                          -12.31042898312091
                        ],
                        [
                          -45.85256134152747,
                          -12.310488596136114
                        ],
                        [
                          -45.852625189312846,
                          -12.31054710183129
                        ],
                        [
                          -45.852690046336285,
                          -12.310604482459368
                        ],
                        [
                          -45.85275589278483,
                          -12.310660720621838
                        ],
                        [
                          -45.852822708544814,
                          -12.310715799268111
                        ],
                        [
                          -45.8528904732138,
                          -12.310769701705418
                        ],
                        [
                          -45.852959166104185,
                          -12.31082241160123
                        ],
                        [
                          -45.85302876624958,
                          -12.31087391298815
                        ],
                        [
                          -45.85309925241513,
                          -12.310924190271233
                        ],
                        [
                          -45.85317060309529,
                          -12.310973228226105
                        ],
                        [
                          -45.85324279653313,
                          -12.311021012012379
                        ],
                        [
                          -45.85331581071356,
                          -12.311067527168563
                        ],
                        [
                          -45.853389623382874,
                          -12.311112759624718
                        ],
                        [
                          -45.85346421204292,
                          -12.31115669569836
                        ],
                        [
                          -45.85353955397144,
                          -12.311199322106619
                        ],
                        [
                          -45.853615626215564,
                          -12.311240625961986
                        ],
                        [
                          -45.853692405608456,
                          -12.311280594781698
                        ],
                        [
                          -45.85376986877479,
                          -12.311319216490046
                        ],
                        [
                          -45.85384799213285,
                          -12.311356479419352
                        ],
                        [
                          -45.853926751906336,
                          -12.311392372315561
                        ],
                        [
                          -45.85400612413206,
                          -12.311426884341643
                        ],
                        [
                          -45.85408608466418,
                          -12.311460005079116
                        ],
                        [
                          -45.85416660917967,
                          -12.311491724530367
                        ],
                        [
                          -45.85424767319562,
                          -12.311522033125494
                        ],
                        [
                          -45.85432925206248,
                          -12.311550921719222
                        ],
                        [
                          -45.85441132098409,
                          -12.311578381598475
                        ],
                        [
                          -45.85449385501667,
                          -12.311604404481486
                        ],
                        [
                          -45.854576829079164,
                          -12.311628982521299
                        ],
                        [
                          -45.854660217962135,
                          -12.31165210830824
                        ],
                        [
                          -45.854743996335934,
                          -12.31167377487209
                        ],
                        [
                          -45.854828138748886,
                          -12.311693975681553
                        ],
                        [
                          -45.854912619650555,
                          -12.311712704650075
                        ],
                        [
                          -45.85499741338636,
                          -12.311729956134243
                        ],
                        [
                          -45.85508249421056,
                          -12.311745724936687
                        ],
                        [
                          -45.85516783629449,
                          -12.311760006307495
                        ],
                        [
                          -45.85525341372782,
                          -12.311772795944488
                        ],
                        [
                          -45.855339200539824,
                          -12.311784089996465
                        ],
                        [
                          -45.855425170687944,
                          -12.31179388506154
                        ],
                        [
                          -45.85551129808531,
                          -12.311802178190625
                        ],
                        [
                          -45.85559755659237,
                          -12.31180896688635
                        ],
                        [
                          -45.85568392003366,
                          -12.311814249104678
                        ],
                        [
                          -45.85577036220165,
                          -12.3118180232552
                        ],
                        [
                          -45.855856856869046,
                          -12.311820288201728
                        ],
                        [
                          -45.855943377788925,
                          -12.31182104326228
                        ],
                        [
                          -45.85602989870782,
                          -12.311820288209573
                        ],
                        [
                          -45.85611639337602,
                          -12.311818023270872
                        ],
                        [
                          -45.85620283554562,
                          -12.311814249128094
                        ],
                        [
                          -45.85628919898718,
                          -12.311808966917598
                        ],
                        [
                          -45.85637545749502,
                          -12.311802178229676
                        ],
                        [
                          -45.85646158489381,
                          -12.311793885108289
                        ],
                        [
                          -45.856547555045445,
                          -12.311784090050656
                        ],
                        [
                          -45.85663334185781,
                          -12.31177279600646
                        ],
                        [
                          -45.85671891929465,
                          -12.3117600063768
                        ],
                        [
                          -45.856804261380674,
                          -12.311745725013475
                        ],
                        [
                          -45.85688934220724,
                          -12.311729956218434
                        ],
                        [
                          -45.85697413594686,
                          -12.31171270474132
                        ],
                        [
                          -45.85705861685143,
                          -12.311693975780013
                        ],
                        [
                          -45.85714275926966,
                          -12.311673774977141
                        ],
                        [
                          -45.85722653764478,
                          -12.311652108420786
                        ],
                        [
                          -45.857309926534064,
                          -12.311628982639936
                        ],
                        [
                          -45.857392900599905,
                          -12.311604404606998
                        ],
                        [
                          -45.857475434637934,
                          -12.311578381730113
                        ],
                        [
                          -45.85755750356396,
                          -12.31155092185724
                        ],
                        [
                          -45.857639082435924,
                          -12.311522033269565
                        ],
                        [
                          -45.8577201464562,
                          -12.311491724680689
                        ],
                        [
                          -45.85780067097904,
                          -12.311460005234387
                        ],
                        [
                          -45.857880631515606,
                          -12.31142688450293
                        ],
                        [
                          -45.85796000374704,
                          -12.311392372482237
                        ],
                        [
                          -45.8580387635279,
                          -12.311356479590515
                        ],
                        [
                          -45.858116886891075,
                          -12.311319216666668
                        ],
                        [
                          -45.85819435006435,
                          -12.311280594962708
                        ],
                        [
                          -45.85827112946421,
                          -12.311240626147265
                        ],
                        [
                          -45.85834720171482,
                          -12.311199322296224
                        ],
                        [
                          -45.85842254364949,
                          -12.31115669589237
                        ],
                        [
                          -45.85849713231687,
                          -12.311112759822281
                        ],
                        [
                          -45.85857094499306,
                          -12.31106752736981
                        ],
                        [
                          -45.85864395918169,
                          -12.311021012216269
                        ],
                        [
                          -45.85871615262618,
                          -12.31097322843348
                        ],
                        [
                          -45.8587875033152,
                          -12.310924190480401
                        ],
                        [
                          -45.85885798948678,
                          -12.310873913200936
                        ],
                        [
                          -45.85892758964026,
                          -12.310822411815904
                        ],
                        [
                          -45.858996282538875,
                          -12.310769701921648
                        ],
                        [
                          -45.8590640472147,
                          -12.31071579948682
                        ],
                        [
                          -45.85913086298335,
                          -12.31066072084128
                        ],
                        [
                          -45.85919670943918,
                          -12.310604482680496
                        ],
                        [
                          -45.85926156647107,
                          -12.310547102052858
                        ],
                        [
                          -45.85932541426469,
                          -12.310488596358029
                        ],
                        [
                          -45.85938823330649,
                          -12.310428983343993
                        ],
                        [
                          -45.85945000439642,
                          -12.310368281095755
                        ],
                        [
                          -45.8595107086468,
                          -12.310306508036666
                        ],
                        [
                          -45.85957032749217,
                          -12.310243682919445
                        ],
                        [
                          -45.85962884269615,
                          -12.31017982481935
                        ],
                        [
                          -45.85968623635346,
                          -12.310114953132617
                        ],
                        [
                          -45.85974249089727,
                          -12.310049087568931
                        ],
                        [
                          -45.8597975891082,
                          -12.309982248141624
                        ],
                        [
                          -45.85985151411348,
                          -12.309914455168931
                        ],
                        [
                          -45.859904249397836,
                          -12.309845729261529
                        ],
                        [
                          -45.85995577880451,
                          -12.309776091321577
                        ],
                        [
                          -45.86000608654489,
                          -12.309705562530558
                        ],
                        [
                          -45.860055157199405,
                          -12.309634164348576
                        ],
                        [
                          -45.860102975724324,
                          -12.309561918505379
                        ],
                        [
                          -45.86014952745803,
                          -12.309488846991556
                        ],
                        [
                          -45.86019479812217,
                          -12.309414972057265
                        ],
                        [
                          -45.860238773829764,
                          -12.309340316200181
                        ],
                        [
                          -45.86028144108809,
                          -12.309264902160999
                        ],
                        [
                          -45.86032278680251,
                          -12.309188752917587
                        ],
                        [
                          -45.86036279828198,
                          -12.309111891675666
                        ],
                        [
                          -45.860401463242596,
                          -12.30903434186286
                        ],
                        [
                          -45.86043876981197,
                          -12.308956127120528
                        ],
                        [
                          -45.86047470653165,
                          -12.308877271299725
                        ],
                        [
                          -45.86050926236325,
                          -12.308797798448524
                        ],
                        [
                          -45.860542426689676,
                          -12.308717732810091
                        ],
                        [
                          -45.86057418932048,
                          -12.308637098810733
                        ],
                        [
                          -45.860604540493746,
                          -12.308555921055813
                        ],
                        [
                          -45.860633470880614,
                          -12.308474224318887
                        ],
                        [
                          -45.86066097158704,
                          -12.308392033537219
                        ],
                        [
                          -45.86068703415743,
                          -12.308309373802409
                        ],
                        [
                          -45.86071165057769,
                          -12.308226270351517
                        ],
                        [
                          -45.86073481327701,
                          -12.308142748561993
                        ],
                        [
                          -45.860756515131115,
                          -12.308058833941207
                        ],
                        [
                          -45.86077674946418,
                          -12.307974552119873
                        ],
                        [
                          -45.86079551005129,
                          -12.307889928843416
                        ],
                        [
                          -45.86081279112014,
                          -12.307804989965081
                        ],
                        [
                          -45.86082858735344,
                          -12.307719761435745
                        ],
                        [
                          -45.860842893890194,
                          -12.307634269297909
                        ],
                        [
                          -45.86085570632753,
                          -12.307548539676766
                        ],
                        [
                          -45.86086702072221,
                          -12.307462598771215
                        ],
                        [
                          -45.86087683359177,
                          -12.307376472847219
                        ],
                        [
                          -45.86088514191576,
                          -12.307290188228372
                        ],
                        [
                          -45.86089194313674,
                          -12.307203771287892
                        ],
                        [
                          -45.86089723516112,
                          -12.307117248440933
                        ],
                        [
                          -45.860901016359826,
                          -12.307030646135495
                        ],
                        [
                          -45.86090328556886,
                          -12.306943990844584
                        ],
                        [
                          -45.86090404208972,
                          -12.306857309057973
                        ],
                        [
                          -45.86090328568953,
                          -12.306770627273579
                        ],
                        [
                          -45.86090101660124,
                          -12.30668397198939
                        ],
                        [
                          -45.86089723552344,
                          -12.306597369695
                        ],
                        [
                          -45.86089194362022,
                          -12.306510846863366
                        ],
                        [
                          -45.8608851425207,
                          -12.306424429942716
                        ],
                        [
                          -45.86087683431855,
                          -12.306338145347677
                        ],
                        [
                          -45.8608670215713,
                          -12.306252019451778
                        ],
                        [
                          -45.860855707299415,
                          -12.306166078578167
                        ],
                        [
                          -45.860842894985424,
                          -12.30608034899271
                        ],
                        [
                          -45.860828588572645,
                          -12.305994856894408
                        ],
                        [
                          -45.86081279246391,
                          -12.305909628407893
                        ],
                        [
                          -45.860795511520294,
                          -12.3058246895757
                        ],
                        [
                          -45.860776751059056,
                          -12.305740066348395
                        ],
                        [
                          -45.86075651685258,
                          -12.305655784579281
                        ],
                        [
                          -45.86073481512563,
                          -12.305571870012963
                        ],
                        [
                          -45.86071165255414,
                          -12.305488348280496
                        ],
                        [
                          -45.86068703626225,
                          -12.305405244888686
                        ],
                        [
                          -45.860660973820714,
                          -12.305322585214688
                        ],
                        [
                          -45.86063347324364,
                          -12.305240394495462
                        ],
                        [
                          -45.86060454298659,
                          -12.30515869782256
                        ],
                        [
                          -45.86057419194313,
                          -12.305077520131933
                        ],
                        [
                          -45.8605424294424,
                          -12.304996886197818
                        ],
                        [
                          -45.860509265245945,
                          -12.304916820624806
                        ],
                        [
                          -45.86047470954451,
                          -12.304837347839886
                        ],
                        [
                          -45.86043877295424,
                          -12.30475849208406
                        ],
                        [
                          -45.86040146651424,
                          -12.304680277407206
                        ],
                        [
                          -45.86036280168187,
                          -12.304602727658132
                        ],
                        [
                          -45.8603227903298,
                          -12.304525866478928
                        ],
                        [
                          -45.86028144474167,
                          -12.304449717296823
                        ],
                        [
                          -45.860238777608565,
                          -12.304374303317784
                        ],
                        [
                          -45.86019480202434,
                          -12.304299647518471
                        ],
                        [
                          -45.86014953148132,
                          -12.304225772639109
                        ],
                        [
                          -45.860102979867406,
                          -12.304152701179024
                        ],
                        [
                          -45.860055161459115,
                          -12.304080455385744
                        ],
                        [
                          -45.860006090918596,
                          -12.304009057250854
                        ],
                        [
                          -45.85995578328962,
                          -12.303938528504412
                        ],
                        [
                          -45.85990425398988,
                          -12.303868890604116
                        ],
                        [
                          -45.859851518810174,
                          -12.303800164734668
                        ],
                        [
                          -45.85979759390455,
                          -12.303732371794908
                        ],
                        [
                          -45.859742495789256,
                          -12.30366553239703
                        ],
                        [
                          -45.859686241336206,
                          -12.303599666858519
                        ],
                        [
                          -45.85962884776476,
                          -12.30353479519295
                        ],
                        [
                          -45.85957033264154,
                          -12.303470937110053
                        ],
                        [
                          -45.859510713871,
                          -12.30340811200543
                        ],
                        [
                          -45.85945000968922,
                          -12.303346338954347
                        ],
                        [
                          -45.859388238661644,
                          -12.303285636709807
                        ],
                        [
                          -45.859325419675784,
                          -12.303226023695313
                        ],
                        [
                          -45.85926157193146,
                          -12.303167517995886
                        ],
                        [
                          -45.859196714940644,
                          -12.30311013735844
                        ],
                        [
                          -45.859130868518974,
                          -12.30305389918409
                        ],
                        [
                          -45.85906405277743,
                          -12.302998820521406
                        ],
                        [
                          -45.858996288118625,
                          -12.302944918063652
                        ],
                        [
                          -45.858927595230256,
                          -12.302892208143737
                        ],
                        [
                          -45.85885799507816,
                          -12.302840706728906
                        ],
                        [
                          -45.858787508898516,
                          -12.302790429415419
                        ],
                        [
                          -45.858716158193964,
                          -12.302741391425872
                        ],
                        [
                          -45.85864396472335,
                          -12.302693607602233
                        ],
                        [
                          -45.8585709505002,
                          -12.302647092405312
                        ],
                        [
                          -45.85849713778031,
                          -12.30260185990665
                        ],
                        [
                          -45.858422549058325,
                          -12.302557923786878
                        ],
                        [
                          -45.85834720706101,
                          -12.302515297331777
                        ],
                        [
                          -45.85827113473657,
                          -12.302473993426535
                        ],
                        [
                          -45.858194355254795,
                          -12.302434024555806
                        ],
                        [
                          -45.85811689198981,
                          -12.30239540279491
                        ],
                        [
                          -45.85803876852332,
                          -12.302358139811858
                        ],
                        [
                          -45.85796000863253,
                          -12.30232224686132
                        ],
                        [
                          -45.857880636280655,
                          -12.302287734780629
                        ],
                        [
                          -45.857800675612935,
                          -12.302254613988234
                        ],
                        [
                          -45.857720150952375,
                          -12.302222894481988
                        ],
                        [
                          -45.857639086783244,
                          -12.302192585832593
                        ],
                        [
                          -45.857557507753505,
                          -12.30216369718491
                        ],
                        [
                          -45.8574754386621,
                          -12.302136237253283
                        ],
                        [
                          -45.85739290445141,
                          -12.302110214319113
                        ],
                        [
                          -45.85730993020227,
                          -12.302085636229565
                        ],
                        [
                          -45.85722654112455,
                          -12.302062510394627
                        ],
                        [
                          -45.85714276255259,
                          -12.30204084378592
                        ],
                        [
                          -45.85705861993008,
                          -12.30202064293291
                        ],
                        [
                          -45.856974138815254,
                          -12.302001913924181
                        ],
                        [
                          -45.85688934485938,
                          -12.301984662402544
                        ],
                        [
                          -45.856804263810616,
                          -12.301968893565975
                        ],
                        [
                          -45.856718921496565,
                          -12.301954612164307
                        ],
                        [
                          -45.85663334382799,
                          -12.301941822499943
                        ],
                        [
                          -45.85654755677777,
                          -12.301930528424467
                        ],
                        [
                          -45.85646158638681,
                          -12.301920733339621
                        ],
                        [
                          -45.85637545874485,
                          -12.301912440194924
                        ],
                        [
                          -45.85628919998967,
                          -12.301905651487655
                        ],
                        [
                          -45.85620283629902,
                          -12.301900369262025
                        ],
                        [
                          -45.856116393879894,
                          -12.301896595108456
                        ],
                        [
                          -45.85602989896035,
                          -12.301894330163238
                        ],
                        [
                          -45.855943377788094,
                          -12.301893575108338
                        ]
                      ]
                    ],
                    "type": "Polygon"
                  },
                  "id": "49",
                  "properties": {
                    "Apr_2020": "Pasture",
                    "Aug_2020": "Pasture",
                    "Dec_2019": "Pasture",
                    "Feb_2020": "Pasture",
                    "Jan_2020": "Pasture",
                    "Jul_2020": "Pasture",
                    "Jun_2020": "Pasture",
                    "Mar_2020": "Pasture",
                    "May_2020": "Pasture",
                    "Note": null,
                    "Nov_2019": "Pasture",
                    "Oct_2019": "Pasture",
                    "Sep_2020": "Pasture",
                    "id": "446"
                  },
                  "type": "Feature"
                },
                {
                  "geometry": {
                    "coordinates": [
                      [
                        [
                          -45.86171415704864,
                          -12.276835454813353
                        ],
                        [
                          -45.86190790605534,
                          -12.27710301223415
                        ],
                        [
                          -45.86191783307669,
                          -12.277118287269756
                        ],
                        [
                          -45.86245900680399,
                          -12.278050947461015
                        ],
                        [
                          -45.86246799166663,
                          -12.278068607225071
                        ],
                        [
                          -45.86247496505359,
                          -12.278087125080281
                        ],
                        [
                          -45.86279736680911,
                          -12.27911189998232
                        ],
                        [
                          -45.86280191600818,
                          -12.279129417556556
                        ],
                        [
                          -45.862804663847065,
                          -12.279147294287128
                        ],
                        [
                          -45.86280558286106,
                          -12.279165351498252
                        ],
                        [
                          -45.86280558398828,
                          -12.280788871597988
                        ],
                        [
                          -45.86280489840833,
                          -12.28080447293923
                        ],
                        [
                          -45.862802846751904,
                          -12.28081995795318
                        ],
                        [
                          -45.862799444316586,
                          -12.280835211178685
                        ],
                        [
                          -45.86244250102299,
                          -12.282159359011278
                        ],
                        [
                          -45.86243547497506,
                          -12.282180214936387
                        ],
                        [
                          -45.86203247408407,
                          -12.283170447310606
                        ],
                        [
                          -45.86202347717421,
                          -12.283189320924171
                        ],
                        [
                          -45.86201233156214,
                          -12.283207051079554
                        ],
                        [
                          -45.8612408719925,
                          -12.284289398258267
                        ],
                        [
                          -45.86122741037953,
                          -12.28430609723591
                        ],
                        [
                          -45.861212044753174,
                          -12.284321123098401
                        ],
                        [
                          -45.860509670740925,
                          -12.284931382766691
                        ],
                        [
                          -45.860497252475966,
                          -12.28494126208485
                        ],
                        [
                          -45.86048400928595,
                          -12.284950044431266
                        ],
                        [
                          -45.85964346311472,
                          -12.285456675150327
                        ],
                        [
                          -45.85962452162928,
                          -12.28546664447428
                        ],
                        [
                          -45.85873791801518,
                          -12.28586964621009
                        ],
                        [
                          -45.858724578468895,
                          -12.285875095047533
                        ],
                        [
                          -45.858710845192746,
                          -12.285879497515767
                        ],
                        [
                          -45.85759395477966,
                          -12.286190384603175
                        ],
                        [
                          -45.85757458173654,
                          -12.286194681112972
                        ],
                        [
                          -45.857554850521296,
                          -12.286196898214826
                        ],
                        [
                          -45.85638038832645,
                          -12.286265984278932
                        ],
                        [
                          -45.85635960075758,
                          -12.286266049594493
                        ],
                        [
                          -45.8563389384998,
                          -12.286263807450682
                        ],
                        [
                          -45.85501478995214,
                          -12.286045035141411
                        ],
                        [
                          -45.85499538351149,
                          -12.286040756433273
                        ],
                        [
                          -45.85497656041613,
                          -12.286034441892939
                        ],
                        [
                          -45.85381361268297,
                          -12.285573868548216
                        ],
                        [
                          -45.85379710815674,
                          -12.285566379735702
                        ],
                        [
                          -45.85378143603197,
                          -12.285557325255041
                        ],
                        [
                          -45.85271060317372,
                          -12.284866465242034
                        ],
                        [
                          -45.85269547298116,
                          -12.284855579914602
                        ],
                        [
                          -45.85268154835094,
                          -12.284843236344805
                        ],
                        [
                          -45.85204826029731,
                          -12.284221462365966
                        ],
                        [
                          -45.85203356934248,
                          -12.284205188308219
                        ],
                        [
                          -45.852020972507134,
                          -12.284187296789888
                        ],
                        [
                          -45.851435902159295,
                          -12.283239079084016
                        ],
                        [
                          -45.846452893108356,
                          -12.285332597393754
                        ],
                        [
                          -45.846624425160414,
                          -12.286371874916787
                        ],
                        [
                          -45.84745174463461,
                          -12.289704124914547
                        ],
                        [
                          -45.847452849018204,
                          -12.289708846684636
                        ],
                        [
                          -45.848162139637346,
                          -12.292938839809345
                        ],
                        [
                          -45.848957344437856,
                          -12.292763154804787
                        ],
                        [
                          -45.84938379165633,
                          -12.292596736432152
                        ],
                        [
                          -45.84975623157439,
                          -12.29225533332642
                        ],
                        [
                          -45.84998244089341,
                          -12.291910633713892
                        ],
                        [
                          -45.85022137177901,
                          -12.29148966070959
                        ],
                        [
                          -45.85023044989261,
                          -12.291475289668035
                        ],
                        [
                          -45.85024085393986,
                          -12.291461815725945
                        ],
                        [
                          -45.85043659755783,
                          -12.291231529272855
                        ],
                        [
                          -45.85045080397165,
                          -12.291216616001027
                        ],
                        [
                          -45.850466630581806,
                          -12.29120337395791
                        ],
                        [
                          -45.850483875317295,
                          -12.291191972215072
                        ],
                        [
                          -45.850898390968155,
                          -12.290950171487754
                        ],
                        [
                          -45.85091560585384,
                          -12.290941303496519
                        ],
                        [
                          -45.85093367625775,
                          -12.290934271429727
                        ],
                        [
                          -45.85095240038713,
                          -12.290929153814634
                        ],
                        [
                          -45.85097156914911,
                          -12.290926007799765
                        ],
                        [
                          -45.85159334242274,
                          -12.29085692190837
                        ],
                        [
                          -45.85160907112697,
                          -12.290855843128424
                        ],
                        [
                          -45.852017286809044,
                          -12.290845100650625
                        ],
                        [
                          -45.85241568828494,
                          -12.290705121757803
                        ],
                        [
                          -45.85243011742491,
                          -12.290700700542544
                        ],
                        [
                          -45.85244486701268,
                          -12.290697459348198
                        ],
                        [
                          -45.85245983743402,
                          -12.290695420064754
                        ],
                        [
                          -45.85292404213188,
                          -12.290651210130937
                        ],
                        [
                          -45.85326703392578,
                          -12.290544025208689
                        ],
                        [
                          -45.85358248238622,
                          -12.29041784586402
                        ],
                        [
                          -45.85384414718723,
                          -12.290218980678597
                        ],
                        [
                          -45.854206743682596,
                          -12.289890377753958
                        ],
                        [
                          -45.8542227302616,
                          -12.289877447696686
                        ],
                        [
                          -45.85479844651978,
                          -12.289462932141241
                        ],
                        [
                          -45.85481351043101,
                          -12.289453164933487
                        ],
                        [
                          -45.854829475177326,
                          -12.28944489640962
                        ],
                        [
                          -45.85484618707272,
                          -12.289438206167267
                        ],
                        [
                          -45.854863485238674,
                          -12.289433158610553
                        ],
                        [
                          -45.85515134325233,
                          -12.289364072702538
                        ],
                        [
                          -45.855157083359,
                          -12.28936279043157
                        ],
                        [
                          -45.85548531284508,
                          -12.289294880902718
                        ],
                        [
                          -45.85565535118488,
                          -12.289248506845226
                        ],
                        [
                          -45.85573759261915,
                          -12.289090877602208
                        ],
                        [
                          -45.855748022931394,
                          -12.288694536235107
                        ],
                        [
                          -45.85574966858382,
                          -12.288674630344584
                        ],
                        [
                          -45.855818754889434,
                          -12.288179514285748
                        ],
                        [
                          -45.85582200398506,
                          -12.28816239635422
                        ],
                        [
                          -45.85582691222679,
                          -12.288145665078154
                        ],
                        [
                          -45.855833434106074,
                          -12.28812947558658
                        ],
                        [
                          -45.85584150915308,
                          -12.288113977985189
                        ],
                        [
                          -45.855851062497344,
                          -12.288099315964542
                        ],
                        [
                          -45.85586200556199,
                          -12.28808562546788
                        ],
                        [
                          -45.85587423688497,
                          -12.288073033430619
                        ],
                        [
                          -45.85588764305984,
                          -12.28806165660351
                        ],
                        [
                          -45.856177589632146,
                          -12.287838620877247
                        ],
                        [
                          -45.856410999688194,
                          -12.28760521093922
                        ],
                        [
                          -45.85642354300184,
                          -12.287593782578837
                        ],
                        [
                          -45.85643711151859,
                          -12.2875835493002
                        ],
                        [
                          -45.85645158792926,
                          -12.287574599576974
                        ],
                        [
                          -45.85646684707536,
                          -12.287567010785573
                        ],
                        [
                          -45.856858334029646,
                          -12.287394295991875
                        ],
                        [
                          -45.85687640918824,
                          -12.287387422214657
                        ],
                        [
                          -45.856895119566566,
                          -12.287382457117582
                        ],
                        [
                          -45.85691425738408,
                          -12.287379455838485
                        ],
                        [
                          -45.85693361011347,
                          -12.287378451706855
                        ],
                        [
                          -45.85736162956856,
                          -12.287378451760738
                        ],
                        [
                          -45.85743469385542,
                          -12.287341919632796
                        ],
                        [
                          -45.85755105317564,
                          -12.286934662875515
                        ],
                        [
                          -45.85755719876568,
                          -12.286916791287737
                        ],
                        [
                          -45.85756520421123,
                          -12.286899646542924
                        ],
                        [
                          -45.85757498239083,
                          -12.286883415222652
                        ],
                        [
                          -45.85783981206954,
                          -12.286491928225153
                        ],
                        [
                          -45.85785039738433,
                          -12.286477815459047
                        ],
                        [
                          -45.857862322928426,
                          -12.28646477725426
                        ],
                        [
                          -45.85787547656462,
                          -12.286452936210218
                        ],
                        [
                          -45.85788973460792,
                          -12.28644240366934
                        ],
                        [
                          -45.858580594081616,
                          -12.285981830839516
                        ],
                        [
                          -45.858597897903934,
                          -12.285971610984786
                        ],
                        [
                          -45.85861623645593,
                          -12.285963317580418
                        ],
                        [
                          -45.85863538880973,
                          -12.2859570505385
                        ],
                        [
                          -45.858655124233536,
                          -12.285952885359134
                        ],
                        [
                          -45.85932295479776,
                          -12.285849256509627
                        ],
                        [
                          -45.85934484520037,
                          -12.285847168953552
                        ],
                        [
                          -45.85936683248029,
                          -12.285847666153673
                        ],
                        [
                          -45.859923440595296,
                          -12.28589310358448
                        ],
                        [
                          -45.860304765176394,
                          -12.285893103654457
                        ],
                        [
                          -45.86044558678936,
                          -12.285735714844517
                        ],
                        [
                          -45.86045706640975,
                          -12.285723993142103
                        ],
                        [
                          -45.860469571096445,
                          -12.2857133337355
                        ],
                        [
                          -45.8608840868265,
                          -12.285390932740961
                        ],
                        [
                          -45.860898971632146,
                          -12.285380494960997
                        ],
                        [
                          -45.8609148367402,
                          -12.285371562084949
                        ],
                        [
                          -45.86093152536382,
                          -12.285364222391848
                        ],
                        [
                          -45.86132301229983,
                          -12.28521453624216
                        ],
                        [
                          -45.86134733242159,
                          -12.28520709821212
                        ],
                        [
                          -45.86181477309997,
                          -12.28509839112809
                        ],
                        [
                          -45.86216574702901,
                          -12.284891935926488
                        ],
                        [
                          -45.86261802206135,
                          -12.284483785467886
                        ],
                        [
                          -45.863196121542444,
                          -12.283861217206862
                        ],
                        [
                          -45.863474079189025,
                          -12.283356776177236
                        ],
                        [
                          -45.86347407938241,
                          -12.283079550415689
                        ],
                        [
                          -45.86334144392965,
                          -12.282560060164641
                        ],
                        [
                          -45.86333837522561,
                          -12.282545545819676
                        ],
                        [
                          -45.863336525719106,
                          -12.282530833069133
                        ],
                        [
                          -45.8633359078385,
                          -12.282516020781697
                        ],
                        [
                          -45.86333590854215,
                          -12.281502759916085
                        ],
                        [
                          -45.86333671480221,
                          -12.281485844208508
                        ],
                        [
                          -45.863339126484576,
                          -12.281469076827022
                        ],
                        [
                          -45.86352279970642,
                          -12.280516275412218
                        ],
                        [
                          -45.86363503596484,
                          -12.279809190098682
                        ],
                        [
                          -45.863625389082536,
                          -12.279259296540905
                        ],
                        [
                          -45.86350468661052,
                          -12.279174094744334
                        ],
                        [
                          -45.8634898146518,
                          -12.2791624037494
                        ],
                        [
                          -45.86347625159894,
                          -12.279149263222063
                        ],
                        [
                          -45.86346414284075,
                          -12.279134814022092
                        ],
                        [
                          -45.86345361817669,
                          -12.279119211037498
                        ],
                        [
                          -45.863444790425504,
                          -12.279102621524281
                        ],
                        [
                          -45.863437754215816,
                          -12.27908522331343
                        ],
                        [
                          -45.863432584971804,
                          -12.279067202904795
                        ],
                        [
                          -45.86333154515239,
                          -12.27862936244705
                        ],
                        [
                          -45.8631931635953,
                          -12.278256796097123
                        ],
                        [
                          -45.86279777596096,
                          -12.277663714148126
                        ],
                        [
                          -45.86237829956507,
                          -12.27720121433324
                        ],
                        [
                          -45.86171415704864,
                          -12.276835454813353
                        ]
                      ]
                    ],
                    "type": "Polygon"
                  },
                  "id": "50",
                  "properties": {
                    "Apr_2020": "Cerrado",
                    "Aug_2020": "Cerrado",
                    "Dec_2019": "Cerrado",
                    "Feb_2020": "Cerrado",
                    "Jan_2020": "Cerrado",
                    "Jul_2020": "Cerrado",
                    "Jun_2020": "Cerrado",
                    "Mar_2020": "Cerrado",
                    "May_2020": "Cerrado",
                    "Note": null,
                    "Nov_2019": "Cerrado",
                    "Oct_2019": "Cerrado",
                    "Sep_2020": "Cerrado",
                    "id": "447"
                  },
                  "type": "Feature"
                },
                {
                  "geometry": {
                    "coordinates": [
                      [
                        [
                          -45.83935676522318,
                          -12.296030532164398
                        ],
                        [
                          -45.84169874099699,
                          -12.295413101504996
                        ],
                        [
                          -45.8422599177377,
                          -12.295186472506325
                        ],
                        [
                          -45.84332021479758,
                          -12.294306651822128
                        ],
                        [
                          -45.843339136317276,
                          -12.294292888608915
                        ],
                        [
                          -45.845697013189074,
                          -12.292797384827896
                        ],
                        [
                          -45.84547126695186,
                          -12.292264622612601
                        ],
                        [
                          -45.84503728006333,
                          -12.291442330726204
                        ],
                        [
                          -45.84503062842334,
                          -12.291428287030083
                        ],
                        [
                          -45.845025223486836,
                          -12.291413735039706
                        ],
                        [
                          -45.84502110491856,
                          -12.291398781547082
                        ],
                        [
                          -45.844894447660685,
                          -12.290846093723152
                        ],
                        [
                          -45.844891283452476,
                          -12.290828086337514
                        ],
                        [
                          -45.84488998344645,
                          -12.290809856867417
                        ],
                        [
                          -45.84489056091648,
                          -12.290791591452773
                        ],
                        [
                          -45.84489300996569,
                          -12.290773476600531
                        ],
                        [
                          -45.84489730558661,
                          -12.290755697280185
                        ],
                        [
                          -45.8449034039166,
                          -12.290738435035081
                        ],
                        [
                          -45.844911242685704,
                          -12.290721866128777
                        ],
                        [
                          -45.844920741852505,
                          -12.290706159745117
                        ],
                        [
                          -45.844931804421456,
                          -12.290691476260745
                        ],
                        [
                          -45.844944317433274,
                          -12.290677965607559
                        ],
                        [
                          -45.84495815311839,
                          -12.290665765741752
                        ],
                        [
                          -45.84545356309442,
                          -12.290271460143261
                        ],
                        [
                          -45.845431190697845,
                          -12.286982376253352
                        ],
                        [
                          -45.84528269916955,
                          -12.285626146518858
                        ],
                        [
                          -45.837266464294935,
                          -12.28782538769515
                        ],
                        [
                          -45.837572598490986,
                          -12.28915196439525
                        ],
                        [
                          -45.83935676522318,
                          -12.296030532164398
                        ]
                      ]
                    ],
                    "type": "Polygon"
                  },
                  "id": "51",
                  "properties": {
                    "Apr_2020": "Pasture",
                    "Aug_2020": "Pasture",
                    "Dec_2019": "Pasture",
                    "Feb_2020": "Pasture",
                    "Jan_2020": "Pasture",
                    "Jul_2020": "Pasture",
                    "Jun_2020": "Pasture",
                    "Mar_2020": "Pasture",
                    "May_2020": "Pasture",
                    "Note": null,
                    "Nov_2019": "Pasture",
                    "Oct_2019": "Pasture",
                    "Sep_2020": "Pasture",
                    "id": "448"
                  },
                  "type": "Feature"
                },
                {
                  "geometry": {
                    "coordinates": [
                      [
                        [
                          -45.845095446090696,
                          -12.285139003563152
                        ],
                        [
                          -45.84325806850237,
                          -12.27628514635302
                        ],
                        [
                          -45.834956566336956,
                          -12.277288383195552
                        ],
                        [
                          -45.83717510916045,
                          -12.287310619873756
                        ],
                        [
                          -45.845095446090696,
                          -12.285139003563152
                        ]
                      ]
                    ],
                    "type": "Polygon"
                  },
                  "id": "52",
                  "properties": {
                    "Apr_2020": "Uncultivated soil",
                    "Aug_2020": "Sorghum",
                    "Dec_2019": "Uncultivated soil",
                    "Feb_2020": "Soybean",
                    "Jan_2020": "Uncultivated soil",
                    "Jul_2020": "Sorghum",
                    "Jun_2020": "Uncultivated soil",
                    "Mar_2020": "Soybean",
                    "May_2020": "Uncultivated soil",
                    "Note": null,
                    "Nov_2019": "Uncultivated soil",
                    "Oct_2019": "Uncultivated soil",
                    "Sep_2020": "Sorghum",
                    "id": "449"
                  },
                  "type": "Feature"
                },
                {
                  "geometry": {
                    "coordinates": [
                      [
                        [
                          -45.846392503856926,
                          -12.284860863638594
                        ],
                        [
                          -45.85110967435527,
                          -12.282868518496166
                        ],
                        [
                          -45.850827442735955,
                          -12.282308464026611
                        ],
                        [
                          -45.85082137789273,
                          -12.282295094623839
                        ],
                        [
                          -45.85081643254352,
                          -12.28228128662193
                        ],
                        [
                          -45.85058614641665,
                          -12.281544369488785
                        ],
                        [
                          -45.85058147069652,
                          -12.281526049103595
                        ],
                        [
                          -45.85057876362097,
                          -12.281507349046658
                        ],
                        [
                          -45.85047513544626,
                          -12.280367430506269
                        ],
                        [
                          -45.850474503669226,
                          -12.280357252173186
                        ],
                        [
                          -45.85045147549104,
                          -12.279666392477445
                        ],
                        [
                          -45.85045155429731,
                          -12.27965252330576
                        ],
                        [
                          -45.85045271367824,
                          -12.279638700860286
                        ],
                        [
                          -45.85055634320581,
                          -12.278798154984125
                        ],
                        [
                          -45.850559371992794,
                          -12.278780750359804
                        ],
                        [
                          -45.85056411232918,
                          -12.278763719176622
                        ],
                        [
                          -45.850570519022575,
                          -12.278747223801586
                        ],
                        [
                          -45.85085837756468,
                          -12.278102421614289
                        ],
                        [
                          -45.85086058334721,
                          -12.278097668408828
                        ],
                        [
                          -45.851321156949524,
                          -12.277141979471116
                        ],
                        [
                          -45.851328828103355,
                          -12.277127738452176
                        ],
                        [
                          -45.85133775798381,
                          -12.277114225580625
                        ],
                        [
                          -45.85145631117246,
                          -12.276951215612474
                        ],
                        [
                          -45.847086922094526,
                          -12.27957871089651
                        ],
                        [
                          -45.84708654527136,
                          -12.279578936880299
                        ],
                        [
                          -45.84590684689926,
                          -12.28028449839967
                        ],
                        [
                          -45.84549765396713,
                          -12.280737018035598
                        ],
                        [
                          -45.846392503856926,
                          -12.284860863638594
                        ]
                      ]
                    ],
                    "type": "Polygon"
                  },
                  "id": "53",
                  "properties": {
                    "Apr_2020": "Pasture",
                    "Aug_2020": "Pasture",
                    "Dec_2019": "Pasture",
                    "Feb_2020": "Pasture",
                    "Jan_2020": "Pasture",
                    "Jul_2020": "Pasture",
                    "Jun_2020": "Pasture",
                    "Mar_2020": "Pasture",
                    "May_2020": "Pasture",
                    "Note": null,
                    "Nov_2019": "Pasture",
                    "Oct_2019": "Pasture",
                    "Sep_2020": "Pasture",
                    "id": "450"
                  },
                  "type": "Feature"
                },
                {
                  "geometry": {
                    "coordinates": [
                      [
                        [
                          -45.84539403850498,
                          -12.279824215088361
                        ],
                        [
                          -45.851531445637654,
                          -12.276222504576978
                        ],
                        [
                          -45.85081919305833,
                          -12.27614409075279
                        ],
                        [
                          -45.850801881204205,
                          -12.276141357667278
                        ],
                        [
                          -45.85078491272056,
                          -12.276137015598065
                        ],
                        [
                          -45.85076844186569,
                          -12.276131104018324
                        ],
                        [
                          -45.85075261837396,
                          -12.276123676669409
                        ],
                        [
                          -45.85073758609462,
                          -12.276114801072401
                        ],
                        [
                          -45.85072348168409,
                          -12.276104557914163
                        ],
                        [
                          -45.8507104333636,
                          -12.27609304031387
                        ],
                        [
                          -45.850698559753575,
                          -12.276080352976495
                        ],
                        [
                          -45.85068796879524,
                          -12.276066611240905
                        ],
                        [
                          -45.85051963583036,
                          -12.275825090013338
                        ],
                        [
                          -45.84841040316262,
                          -12.277030365233959
                        ],
                        [
                          -45.84839458105255,
                          -12.277038424473586
                        ],
                        [
                          -45.848378040078735,
                          -12.277044939981359
                        ],
                        [
                          -45.84836093553987,
                          -12.277049850584895
                        ],
                        [
                          -45.84834342802586,
                          -12.277053110179832
                        ],
                        [
                          -45.848325681910055,
                          -12.277054688162682
                        ],
                        [
                          -45.848307863806006,
                          -12.277054569718166
                        ],
                        [
                          -45.84829014100315,
                          -12.277052755958321
                        ],
                        [
                          -45.84827267989614,
                          -12.27704926391199
                        ],
                        [
                          -45.848255644422665,
                          -12.277044126365103
                        ],
                        [
                          -45.848239194524204,
                          -12.277037391552625
                        ],
                        [
                          -45.84822348464442,
                          -12.27702912270594
                        ],
                        [
                          -45.84820866227909,
                          -12.277019397458998
                        ],
                        [
                          -45.848194866591314,
                          -12.277008307119504
                        ],
                        [
                          -45.84818222710496,
                          -12.276995955811637
                        ],
                        [
                          -45.84817086248859,
                          -12.276982459498466
                        ],
                        [
                          -45.84816087944128,
                          -12.276967944893208
                        ],
                        [
                          -45.848152371690915,
                          -12.276952548269485
                        ],
                        [
                          -45.84727728358659,
                          -12.27516782693428
                        ],
                        [
                          -45.84727015379178,
                          -12.275151216511416
                        ],
                        [
                          -45.84726474125218,
                          -12.275133990470659
                        ],
                        [
                          -45.8472610997651,
                          -12.275116320029328
                        ],
                        [
                          -45.847259265524556,
                          -12.275098380821765
                        ],
                        [
                          -45.84725925676149,
                          -12.275080351153681
                        ],
                        [
                          -45.84726107356264,
                          -12.27506241022986
                        ],
                        [
                          -45.84726469786966,
                          -12.275044736372996
                        ],
                        [
                          -45.847270093658615,
                          -12.275027505251247
                        ],
                        [
                          -45.84727720729807,
                          -12.275010888132218
                        ],
                        [
                          -45.847285968082176,
                          -12.27499505018062
                        ],
                        [
                          -45.847296288933435,
                          -12.274980148816658
                        ],
                        [
                          -45.84730806726823,
                          -12.27496633215135
                        ],
                        [
                          -45.84732118601643,
                          -12.274953737514418
                        ],
                        [
                          -45.84733551478504,
                          -12.2749424900893
                        ],
                        [
                          -45.8473509111542,
                          -12.274932701668915
                        ],
                        [
                          -45.84845161525722,
                          -12.274307123441739
                        ],
                        [
                          -45.84726468764499,
                          -12.274198514466162
                        ],
                        [
                          -45.847244609155446,
                          -12.274195570447857
                        ],
                        [
                          -45.84722498298228,
                          -12.274190467894988
                        ],
                        [
                          -45.84534814645964,
                          -12.273591722556178
                        ],
                        [
                          -45.845334804928726,
                          -12.273586898290144
                        ],
                        [
                          -45.84395170528996,
                          -12.2730261833481
                        ],
                        [
                          -45.84539403850498,
                          -12.279824215088361
                        ]
                      ]
                    ],
                    "type": "Polygon"
                  },
                  "id": "54",
                  "properties": {
                    "Apr_2020": "Pasture",
                    "Aug_2020": "Pasture",
                    "Dec_2019": "Pasture",
                    "Feb_2020": "Pasture",
                    "Jan_2020": "Pasture",
                    "Jul_2020": "Pasture",
                    "Jun_2020": "Pasture",
                    "Mar_2020": "Pasture",
                    "May_2020": "Pasture",
                    "Note": null,
                    "Nov_2019": "Pasture",
                    "Oct_2019": "Pasture",
                    "Sep_2020": "Pasture",
                    "id": "451"
                  },
                  "type": "Feature"
                },
                {
                  "geometry": {
                    "coordinates": [
                      [
                        [
                          -45.843227308327016,
                          -12.275919830803144
                        ],
                        [
                          -45.84322821190647,
                          -12.275898747622085
                        ],
                        [
                          -45.84245050632499,
                          -12.272251189815604
                        ],
                        [
                          -45.8336891547381,
                          -12.273412733344827
                        ],
                        [
                          -45.83414609652032,
                          -12.27606298512021
                        ],
                        [
                          -45.83444364744715,
                          -12.276026698338024
                        ],
                        [
                          -45.83446220865292,
                          -12.276025367947968
                        ],
                        [
                          -45.83448081154055,
                          -12.27602588929153
                        ],
                        [
                          -45.834499265583084,
                          -12.276028257029179
                        ],
                        [
                          -45.83451738177798,
                          -12.276032446911005
                        ],
                        [
                          -45.83453497458286,
                          -12.276038416025083
                        ],
                        [
                          -45.834551863815754,
                          -12.276046103236931
                        ],
                        [
                          -45.834567876500536,
                          -12.276055429815662
                        ],
                        [
                          -45.83458284863841,
                          -12.276066300240316
                        ],
                        [
                          -45.83459662688765,
                          -12.276078603178163
                        ],
                        [
                          -45.83460907013401,
                          -12.276092212624981
                        ],
                        [
                          -45.83462005093603,
                          -12.27610698919549
                        ],
                        [
                          -45.834629456830264,
                          -12.276122781550962
                        ],
                        [
                          -45.834637191483104,
                          -12.276139427949165
                        ],
                        [
                          -45.83464317567741,
                          -12.276156757900885
                        ],
                        [
                          -45.83468492099074,
                          -12.276301295192697
                        ],
                        [
                          -45.83488347628857,
                          -12.27630596754317
                        ],
                        [
                          -45.834888404410655,
                          -12.276306148556548
                        ],
                        [
                          -45.83663434408827,
                          -12.276393340866244
                        ],
                        [
                          -45.83833084590217,
                          -12.276367683434408
                        ],
                        [
                          -45.843227308327016,
                          -12.275919830803144
                        ]
                      ],
                      [
                        [
                          -45.84283913624999,
                          -12.274902716012022
                        ],
                        [
                          -45.84285688192952,
                          -12.274903196704857
                        ],
                        [
                          -45.842874497788955,
                          -12.274905357908139
                        ],
                        [
                          -45.84289181966097,
                          -12.274909179480911
                        ],
                        [
                          -45.842908686117944,
                          -12.274914625808846
                        ],
                        [
                          -45.842924939976406,
                          -12.274921646135963
                        ],
                        [
                          -45.84294042976183,
                          -12.274930175037762
                        ],
                        [
                          -45.84295501112028,
                          -12.27494013303089
                        ],
                        [
                          -45.842968548163675,
                          -12.274951427313832
                        ],
                        [
                          -45.842980914736174,
                          -12.274963952631825
                        ],
                        [
                          -45.84299199558985,
                          -12.274977592257683
                        ],
                        [
                          -45.84300168745872,
                          -12.274992219079662
                        ],
                        [
                          -45.84300990002112,
                          -12.275007696786007
                        ],
                        [
                          -45.84301655674146,
                          -12.275023881135285
                        ],
                        [
                          -45.843021595583465,
                          -12.275040621300661
                        ],
                        [
                          -45.84302496958833,
                          -12.275057761275404
                        ],
                        [
                          -45.843059512726455,
                          -12.275293804955906
                        ],
                        [
                          -45.84306121694399,
                          -12.275311766717548
                        ],
                        [
                          -45.84306109302036,
                          -12.275329806088505
                        ],
                        [
                          -45.843059142188324,
                          -12.275347743566735
                        ],
                        [
                          -45.84305538385941,
                          -12.275365400664121
                        ],
                        [
                          -45.843049855430756,
                          -12.275382601682388
                        ],
                        [
                          -45.843042611913084,
                          -12.275399175461517
                        ],
                        [
                          -45.84303372538325,
                          -12.275414957082825
                        ],
                        [
                          -45.843023284267076,
                          -12.275429789510063
                        ],
                        [
                          -45.84301139245948,
                          -12.27544352515192
                        ],
                        [
                          -45.84299816829064,
                          -12.275456027330774
                        ],
                        [
                          -45.84298374334858,
                          -12.275467171642617
                        ],
                        [
                          -45.842968261169766,
                          -12.275476847195026
                        ],
                        [
                          -45.84295187581085,
                          -12.275484957710528
                        ],
                        [
                          -45.84293475031569,
                          -12.27549142248473
                        ],
                        [
                          -45.84291705509301,
                          -12.275496177189295
                        ],
                        [
                          -45.84289896622068,
                          -12.275499174512099
                        ],
                        [
                          -45.84288066369364,
                          -12.275500384627978
                        ],
                        [
                          -45.84254099080169,
                          -12.275506141810725
                        ],
                        [
                          -45.84252279491869,
                          -12.275505563848679
                        ],
                        [
                          -45.84250474631501,
                          -12.275503219364792
                        ],
                        [
                          -45.842487021883656,
                          -12.27549913133715
                        ],
                        [
                          -45.84246979534048,
                          -12.27549333983218
                        ],
                        [
                          -45.842453235521496,
                          -12.275485901611999
                        ],
                        [
                          -45.8424375047282,
                          -12.275476889577993
                        ],
                        [
                          -45.84242275713682,
                          -12.275466392056398
                        ],
                        [
                          -45.842409137287255,
                          -12.275454511932628
                        ],
                        [
                          -45.84239677866644,
                          -12.275441365642791
                        ],
                        [
                          -45.84238580240005,
                          -12.275427082032659
                        ],
                        [
                          -45.84237631606536,
                          -12.27541180109469
                        ],
                        [
                          -45.842368412636915,
                          -12.275395672596117
                        ],
                        [
                          -45.84236216957525,
                          -12.275378854610995
                        ],
                        [
                          -45.84235764806778,
                          -12.275361511970914
                        ],
                        [
                          -45.842354892429064,
                          -12.275343814649618
                        ],
                        [
                          -45.842353929666515,
                          -12.275325936096923
                        ],
                        [
                          -45.842354769215724,
                          -12.27530805153892
                        ],
                        [
                          -45.84237779803434,
                          -12.275072007830056
                        ],
                        [
                          -45.84238035804643,
                          -12.275054661718956
                        ],
                        [
                          -45.84238461357573,
                          -12.275037640802967
                        ],
                        [
                          -45.842390524646206,
                          -12.275021104973712
                        ],
                        [
                          -45.84239803572995,
                          -12.27500520956592
                        ],
                        [
                          -45.84240707626886,
                          -12.274990103898313
                        ],
                        [
                          -45.84241756133742,
                          -12.274975929870916
                        ],
                        [
                          -45.8424293924405,
                          -12.274962820632028
                        ],
                        [
                          -45.84244245843863,
                          -12.274950899327502
                        ],
                        [
                          -45.842456636591976,
                          -12.274940277943948
                        ],
                        [
                          -45.84247179371339,
                          -12.274931056256701
                        ],
                        [
                          -45.84248778741952,
                          -12.274923320892624
                        ],
                        [
                          -45.84250446746832,
                          -12.274917144516284
                        ],
                        [
                          -45.842521677170424,
                          -12.274912585147415
                        ],
                        [
                          -45.84253925486103,
                          -12.274909685615896
                        ],
                        [
                          -45.84255703541854,
                          -12.274908473159334
                        ],
                        [
                          -45.84283913624999,
                          -12.274902716012022
                        ]
                      ]
                    ],
                    "type": "Polygon"
                  },
                  "id": "55",
                  "properties": {
                    "Apr_2020": "Uncultivated soil",
                    "Aug_2020": "Uncultivated soil",
                    "Dec_2019": "Uncultivated soil",
                    "Feb_2020": "Soybean",
                    "Jan_2020": "Uncultivated soil",
                    "Jul_2020": "Millet",
                    "Jun_2020": "Millet",
                    "Mar_2020": "Soybean",
                    "May_2020": "Uncultivated soil",
                    "Note": null,
                    "Nov_2019": "Uncultivated soil",
                    "Oct_2019": "Uncultivated soil",
                    "Sep_2020": "Uncultivated soil",
                    "id": "452"
                  },
                  "type": "Feature"
                },
                {
                  "geometry": {
                    "coordinates": [
                      [
                        [
                          -45.841355488589244,
                          -12.266182644540763
                        ],
                        [
                          -45.84034641145412,
                          -12.261458821861762
                        ],
                        [
                          -45.83591020338731,
                          -12.262410226717504
                        ],
                        [
                          -45.83589221091194,
                          -12.26241317465206
                        ],
                        [
                          -45.83587400998783,
                          -12.262414354973881
                        ],
                        [
                          -45.835855779706066,
                          -12.262413756068927
                        ],
                        [
                          -45.835837699446635,
                          -12.262411383830207
                        ],
                        [
                          -45.835819947113336,
                          -12.262407261599785
                        ],
                        [
                          -45.835802697383265,
                          -12.26240142993897
                        ],
                        [
                          -45.83578611998808,
                          -12.26239394622942
                        ],
                        [
                          -45.8357703780438,
                          -12.262384884108299
                        ],
                        [
                          -45.83575562644588,
                          -12.262374332743867
                        ],
                        [
                          -45.83574201034502,
                          -12.262362395958062
                        ],
                        [
                          -45.835729663718986,
                          -12.26234919120482
                        ],
                        [
                          -45.83571870805426,
                          -12.262334848414524
                        ],
                        [
                          -45.83570925115067,
                          -12.262319508715375
                        ],
                        [
                          -45.83570138606071,
                          -12.262303323044863
                        ],
                        [
                          -45.83569519017392,
                          -12.262286450664442
                        ],
                        [
                          -45.83569072445539,
                          -12.262269057592631
                        ],
                        [
                          -45.83522216728213,
                          -12.259968862215928
                        ],
                        [
                          -45.83141100531684,
                          -12.260927096214443
                        ],
                        [
                          -45.83117076298873,
                          -12.26108725786158
                        ],
                        [
                          -45.83116171238088,
                          -12.261503599173736
                        ],
                        [
                          -45.832780071963676,
                          -12.269436933791667
                        ],
                        [
                          -45.83295864874324,
                          -12.269471275444713
                        ],
                        [
                          -45.83297561688118,
                          -12.26947537025146
                        ],
                        [
                          -45.83299211328055,
                          -12.269481030256948
                        ],
                        [
                          -45.83300798902751,
                          -12.269488204368024
                        ],
                        [
                          -45.83302310081083,
                          -12.269496827823584
                        ],
                        [
                          -45.833037312215595,
                          -12.269506822779237
                        ],
                        [
                          -45.833050494954605,
                          -12.269518099009982
                        ],
                        [
                          -45.833062530026446,
                          -12.269530554724657
                        ],
                        [
                          -45.83307330878971,
                          -12.269544077484843
                        ],
                        [
                          -45.833082733943705,
                          -12.2695585452198
                        ],
                        [
                          -45.83309072040682,
                          -12.269573827328491
                        ],
                        [
                          -45.833097196084545,
                          -12.26958978585838
                        ],
                        [
                          -45.83310210252025,
                          -12.269606276750865
                        ],
                        [
                          -45.83310539542297,
                          -12.269623151141632
                        ],
                        [
                          -45.833197510460636,
                          -12.27025643906567
                        ],
                        [
                          -45.83319925297058,
                          -12.27027577846755
                        ],
                        [
                          -45.83319887729807,
                          -12.27029519012907
                        ],
                        [
                          -45.83319638777253,
                          -12.270314450318107
                        ],
                        [
                          -45.83313881634533,
                          -12.27062533718416
                        ],
                        [
                          -45.83313366604958,
                          -12.270646100478599
                        ],
                        [
                          -45.833126060983595,
                          -12.270666121247974
                        ],
                        [
                          -45.83304656023781,
                          -12.270842789865124
                        ],
                        [
                          -45.833493919946775,
                          -12.272902719909304
                        ],
                        [
                          -45.84235788813244,
                          -12.271796107937366
                        ],
                        [
                          -45.841355488589244,
                          -12.266182644540763
                        ]
                      ]
                    ],
                    "type": "Polygon"
                  },
                  "id": "56",
                  "properties": {
                    "Apr_2020": "Uncultivated soil",
                    "Aug_2020": "Uncultivated soil",
                    "Dec_2019": "Uncultivated soil",
                    "Feb_2020": "Soybean",
                    "Jan_2020": "Soybean",
                    "Jul_2020": "Millet",
                    "Jun_2020": "Millet",
                    "Mar_2020": "Soybean",
                    "May_2020": "Uncultivated soil",
                    "Note": null,
                    "Nov_2019": "Uncultivated soil",
                    "Oct_2019": "Uncultivated soil",
                    "Sep_2020": "Uncultivated soil",
                    "id": "453"
                  },
                  "type": "Feature"
                },
                {
                  "geometry": {
                    "coordinates": [
                      [
                        [
                          -45.85146801306206,
                          -12.257112003901883
                        ],
                        [
                          -45.849218460881076,
                          -12.254686874118837
                        ],
                        [
                          -45.8492143279815,
                          -12.2546822636061
                        ],
                        [
                          -45.84802485083574,
                          -12.253308958095364
                        ],
                        [
                          -45.84781662335098,
                          -12.253368451624938
                        ],
                        [
                          -45.84779990494257,
                          -12.253372404908834
                        ],
                        [
                          -45.84778288416285,
                          -12.253374804996712
                        ],
                        [
                          -45.847172624401516,
                          -12.253432376699434
                        ],
                        [
                          -45.84715403690888,
                          -12.253433200118005
                        ],
                        [
                          -45.84713545996678,
                          -12.253432171867894
                        ],
                        [
                          -45.84711708378695,
                          -12.253429302477453
                        ],
                        [
                          -45.847099096525525,
                          -12.253424621326715
                        ],
                        [
                          -45.84669609481762,
                          -12.25329796365924
                        ],
                        [
                          -45.84667871010704,
                          -12.253291531252987
                        ],
                        [
                          -45.84666207390881,
                          -12.253283406728038
                        ],
                        [
                          -45.84664635597642,
                          -12.253273672985946
                        ],
                        [
                          -45.84663171669343,
                          -12.253262429348457
                        ],
                        [
                          -45.84661830543698,
                          -12.253249790544148
                        ],
                        [
                          -45.84660625905352,
                          -12.253235885537629
                        ],
                        [
                          -45.84631840092853,
                          -12.252867426902684
                        ],
                        [
                          -45.84630840165159,
                          -12.252853280857165
                        ],
                        [
                          -45.84629981644512,
                          -12.252838263174302
                        ],
                        [
                          -45.84629272322683,
                          -12.252822510152155
                        ],
                        [
                          -45.84628718637336,
                          -12.252806164762587
                        ],
                        [
                          -45.84610295751348,
                          -12.252161362280928
                        ],
                        [
                          -45.846102756448424,
                          -12.25216065300855
                        ],
                        [
                          -45.84573870963847,
                          -12.250866262375016
                        ],
                        [
                          -45.839736396483154,
                          -12.252685475373204
                        ],
                        [
                          -45.84052983898376,
                          -12.256300033156208
                        ],
                        [
                          -45.84053047547996,
                          -12.256303057672424
                        ],
                        [
                          -45.842171067799974,
                          -12.264448427567816
                        ],
                        [
                          -45.84283749894721,
                          -12.267569165080264
                        ],
                        [
                          -45.84293800637788,
                          -12.26698744164721
                        ],
                        [
                          -45.84294202537217,
                          -12.266969657865825
                        ],
                        [
                          -45.84294784327125,
                          -12.266952361973445
                        ],
                        [
                          -45.84318388733359,
                          -12.266353617067592
                        ],
                        [
                          -45.84318932501667,
                          -12.266341218392265
                        ],
                        [
                          -45.843195688201284,
                          -12.2663292532867
                        ],
                        [
                          -45.84351521103702,
                          -12.26577944431731
                        ],
                        [
                          -45.84352023451792,
                          -12.265771305381712
                        ],
                        [
                          -45.84385483740116,
                          -12.26526003274064
                        ],
                        [
                          -45.84389690689299,
                          -12.264713134240457
                        ],
                        [
                          -45.843908327113056,
                          -12.263182966971208
                        ],
                        [
                          -45.843805137397254,
                          -12.261635105186393
                        ],
                        [
                          -45.84380486537961,
                          -12.26161668883055
                        ],
                        [
                          -45.843806499433434,
                          -12.2615983407759
                        ],
                        [
                          -45.84381002260909,
                          -12.261580251337765
                        ],
                        [
                          -45.84381539836204,
                          -12.261562608148903
                        ],
                        [
                          -45.844056529188464,
                          -12.260896629005993
                        ],
                        [
                          -45.84437606029354,
                          -12.259949449420764
                        ],
                        [
                          -45.844728778927724,
                          -12.258549956716022
                        ],
                        [
                          -45.84493468907958,
                          -12.256994199225128
                        ],
                        [
                          -45.84493781027233,
                          -12.256977089251343
                        ],
                        [
                          -45.84494258735267,
                          -12.256960353041226
                        ],
                        [
                          -45.84494897618314,
                          -12.256944145226534
                        ],
                        [
                          -45.84495691773478,
                          -12.256928615557056
                        ],
                        [
                          -45.844966338632496,
                          -12.256913907516855
                        ],
                        [
                          -45.844977151833085,
                          -12.25690015699869
                        ],
                        [
                          -45.844989257429376,
                          -12.256887491048396
                        ],
                        [
                          -45.84500254357336,
                          -12.25687602669107
                        ],
                        [
                          -45.8450168875096,
                          -12.256865869849916
                        ],
                        [
                          -45.84503215670938,
                          -12.256857114367467
                        ],
                        [
                          -45.845048210095214,
                          -12.256849841138619
                        ],
                        [
                          -45.84506489934428,
                          -12.25684411736323
                        ],
                        [
                          -45.84508207025886,
                          -12.256839995925189
                        ],
                        [
                          -45.84509956419096,
                          -12.256837514903879
                        ],
                        [
                          -45.84511721950816,
                          -12.256836697222253
                        ],
                        [
                          -45.84513487308696,
                          -12.25683755043514
                        ],
                        [
                          -45.84515236181991,
                          -12.256840066659407
                        ],
                        [
                          -45.84516952412265,
                          -12.256844222646768
                        ],
                        [
                          -45.84518620142679,
                          -12.256849979998607
                        ],
                        [
                          -45.84520223964497,
                          -12.25685728552078
                        ],
                        [
                          -45.84521749059455,
                          -12.256866071715011
                        ],
                        [
                          -45.84579957552155,
                          -12.257239484688963
                        ],
                        [
                          -45.84676909505317,
                          -12.257448812766878
                        ],
                        [
                          -45.847859002196905,
                          -12.257550991597743
                        ],
                        [
                          -45.84881240263162,
                          -12.257595335896504
                        ],
                        [
                          -45.84977774423135,
                          -12.257299151573504
                        ],
                        [
                          -45.85052209467794,
                          -12.256904420345863
                        ],
                        [
                          -45.850540008853116,
                          -12.256896112217722
                        ],
                        [
                          -45.850558727688394,
                          -12.256889747244674
                        ],
                        [
                          -45.850578034012244,
                          -12.256885399271587
                        ],
                        [
                          -45.85059770383729,
                          -12.256883118742575
                        ],
                        [
                          -45.8509661620693,
                          -12.256860090119472
                        ],
                        [
                          -45.850986378558986,
                          -12.25685992185464
                        ],
                        [
                          -45.85100649163758,
                          -12.256861937369791
                        ],
                        [
                          -45.85102625816851,
                          -12.25686611230037
                        ],
                        [
                          -45.85104543920441,
                          -12.25687239617778
                        ],
                        [
                          -45.85125269698133,
                          -12.25695299642738
                        ],
                        [
                          -45.85126929555888,
                          -12.256960407000344
                        ],
                        [
                          -45.85128506652569,
                          -12.256969397491655
                        ],
                        [
                          -45.85129985489225,
                          -12.256979879547114
                        ],
                        [
                          -45.85146801306206,
                          -12.257112003901883
                        ]
                      ]
                    ],
                    "type": "Polygon"
                  },
                  "id": "57",
                  "properties": {
                    "Apr_2020": "Soybean",
                    "Aug_2020": "Uncultivated soil",
                    "Dec_2019": "Uncultivated soil",
                    "Feb_2020": "Soybean",
                    "Jan_2020": "Soybean",
                    "Jul_2020": "Uncultivated soil",
                    "Jun_2020": "Uncultivated soil",
                    "Mar_2020": "Soybean",
                    "May_2020": "Uncultivated soil",
                    "Note": null,
                    "Nov_2019": "Uncultivated soil",
                    "Oct_2019": "Uncultivated soil",
                    "Sep_2020": "Uncultivated soil",
                    "id": "454"
                  },
                  "type": "Feature"
                },
                {
                  "geometry": {
                    "coordinates": [
                      [
                        [
                          -45.84426272615279,
                          -12.264752180970985
                        ],
                        [
                          -45.844280027937934,
                          -12.264731034313941
                        ],
                        [
                          -45.844291441119374,
                          -12.264718350053748
                        ],
                        [
                          -45.844304010865734,
                          -12.264706771524832
                        ],
                        [
                          -45.84508698506963,
                          -12.264050455199698
                        ],
                        [
                          -45.84510028024557,
                          -12.26404030596043
                        ],
                        [
                          -45.8451144632817,
                          -12.26403139471818
                        ],
                        [
                          -45.84580532268944,
                          -12.263639907828516
                        ],
                        [
                          -45.84582473924882,
                          -12.26363035952747
                        ],
                        [
                          -45.845845164677904,
                          -12.263623128165891
                        ],
                        [
                          -45.84694875451548,
                          -12.26330339689463
                        ],
                        [
                          -45.84701442293043,
                          -12.260775230862203
                        ],
                        [
                          -45.847015671672196,
                          -12.260758311474234
                        ],
                        [
                          -45.84701852689864,
                          -12.260741581598007
                        ],
                        [
                          -45.84702296348609,
                          -12.260725188440857
                        ],
                        [
                          -45.84702894239645,
                          -12.260709276247246
                        ],
                        [
                          -45.84703641102059,
                          -12.260693985029631
                        ],
                        [
                          -45.84704530364138,
                          -12.260679449336408
                        ],
                        [
                          -45.84705554201183,
                          -12.260665797068045
                        ],
                        [
                          -45.847067036043704,
                          -12.260653148351665
                        ],
                        [
                          -45.84707968460013,
                          -12.2606416144841
                        ],
                        [
                          -45.847093376385594,
                          -12.260631296952504
                        ],
                        [
                          -45.84710799092515,
                          -12.260622286541405
                        ],
                        [
                          -45.84796005085163,
                          -12.260150199412358
                        ],
                        [
                          -45.847978585113026,
                          -12.260141239530757
                        ],
                        [
                          -45.84799802406927,
                          -12.260134380171737
                        ],
                        [
                          -45.848827055175455,
                          -12.259892579482164
                        ],
                        [
                          -45.848845195773166,
                          -12.259888260165127
                        ],
                        [
                          -45.850146313960515,
                          -12.259646459502292
                        ],
                        [
                          -45.850164634798595,
                          -12.259643985418775
                        ],
                        [
                          -45.850183115660904,
                          -12.259643333620808
                        ],
                        [
                          -45.8502015696322,
                          -12.259644510700632
                        ],
                        [
                          -45.850219810069206,
                          -12.259647504753291
                        ],
                        [
                          -45.85023765248835,
                          -12.259652285496898
                        ],
                        [
                          -45.850254916431574,
                          -12.259658804579065
                        ],
                        [
                          -45.850271427291496,
                          -12.259666996065825
                        ],
                        [
                          -45.85028701807737,
                          -12.25967677710855
                        ],
                        [
                          -45.850301531104,
                          -12.259688048781832
                        ],
                        [
                          -45.850314819586636,
                          -12.259700697084012
                        ],
                        [
                          -45.850533591809,
                          -12.259930983527589
                        ],
                        [
                          -45.850544515754194,
                          -12.259943593834315
                        ],
                        [
                          -45.85055422053208,
                          -12.259957134357727
                        ],
                        [
                          -45.85097315039035,
                          -12.260602512281045
                        ],
                        [
                          -45.851772644079084,
                          -12.261514610235793
                        ],
                        [
                          -45.85243149266752,
                          -12.26206365059621
                        ],
                        [
                          -45.85341385265498,
                          -12.262478424826783
                        ],
                        [
                          -45.853620265670834,
                          -12.262492660241644
                        ],
                        [
                          -45.85429694061077,
                          -12.261657389919465
                        ],
                        [
                          -45.85430731215794,
                          -12.261645659639166
                        ],
                        [
                          -45.854318669679955,
                          -12.261634848658554
                        ],
                        [
                          -45.8543309292608,
                          -12.261625036855325
                        ],
                        [
                          -45.85499106871792,
                          -12.261141555001517
                        ],
                        [
                          -45.85360110536365,
                          -12.259534972177393
                        ],
                        [
                          -45.85335244228759,
                          -12.259458460441467
                        ],
                        [
                          -45.85333390764257,
                          -12.259451660927317
                        ],
                        [
                          -45.85331622295703,
                          -12.259442942561211
                        ],
                        [
                          -45.853299592906374,
                          -12.259432406245956
                        ],
                        [
                          -45.85328420996002,
                          -12.259420173924664
                        ],
                        [
                          -45.85267395050813,
                          -12.25887900026807
                        ],
                        [
                          -45.85266487040787,
                          -12.25887037418074
                        ],
                        [
                          -45.85200855371992,
                          -12.258202542874983
                        ],
                        [
                          -45.852003191147325,
                          -12.258196846447799
                        ],
                        [
                          -45.85138037672176,
                          -12.257506088325886
                        ],
                        [
                          -45.85109183957993,
                          -12.257279380525008
                        ],
                        [
                          -45.850948448376194,
                          -12.257223617285653
                        ],
                        [
                          -45.85066120286291,
                          -12.257241570142556
                        ],
                        [
                          -45.84993669068286,
                          -12.257625781174722
                        ],
                        [
                          -45.84992076537607,
                          -12.257633279237734
                        ],
                        [
                          -45.849904182281016,
                          -12.257639240571606
                        ],
                        [
                          -45.84889092089503,
                          -12.257950127651304
                        ],
                        [
                          -45.84887538701009,
                          -12.257954170386604
                        ],
                        [
                          -45.84885955357084,
                          -12.257956863932668
                        ],
                        [
                          -45.84884354148555,
                          -12.257958187720856
                        ],
                        [
                          -45.848827473026695,
                          -12.257958131642345
                        ],
                        [
                          -45.84783724018626,
                          -12.257912074345994
                        ],
                        [
                          -45.84782847824768,
                          -12.257911460217938
                        ],
                        [
                          -45.846723102056615,
                          -12.257807831250538
                        ],
                        [
                          -45.84670112287044,
                          -12.257804440984335
                        ],
                        [
                          -45.845687861390154,
                          -12.25758566866151
                        ],
                        [
                          -45.84567179666445,
                          -12.257581442965886
                        ],
                        [
                          -45.84565618580311,
                          -12.257575807171062
                        ],
                        [
                          -45.84564115648129,
                          -12.257568807370022
                        ],
                        [
                          -45.845626831617956,
                          -12.257560500811387
                        ],
                        [
                          -45.84526161073434,
                          -12.257326208447578
                        ],
                        [
                          -45.845092116862986,
                          -12.258606834471744
                        ],
                        [
                          -45.845088254028866,
                          -12.258627000545912
                        ],
                        [
                          -45.84473131080258,
                          -12.260043262995485
                        ],
                        [
                          -45.84472735713582,
                          -12.260056701126521
                        ],
                        [
                          -45.844404956553625,
                          -12.261012390472153
                        ],
                        [
                          -45.8444036567364,
                          -12.261016107820714
                        ],
                        [
                          -45.84417460321187,
                          -12.261648733090798
                        ],
                        [
                          -45.84427574713674,
                          -12.263165875967289
                        ],
                        [
                          -45.84427613616661,
                          -12.263179035027006
                        ],
                        [
                          -45.84426462290985,
                          -12.26472195484722
                        ],
                        [
                          -45.844264103921084,
                          -12.264734269799078
                        ],
                        [
                          -45.84426272615279,
                          -12.264752180970985
                        ]
                      ]
                    ],
                    "type": "Polygon"
                  },
                  "id": "58",
                  "properties": {
                    "Apr_2020": "Pasture",
                    "Aug_2020": "Pasture",
                    "Dec_2019": "Pasture",
                    "Feb_2020": "Pasture",
                    "Jan_2020": "Pasture",
                    "Jul_2020": "Pasture",
                    "Jun_2020": "Pasture",
                    "Mar_2020": "Pasture",
                    "May_2020": "Pasture",
                    "Note": null,
                    "Nov_2019": "Pasture",
                    "Oct_2019": "Pasture",
                    "Sep_2020": "Pasture",
                    "id": "455"
                  },
                  "type": "Feature"
                },
                {
                  "geometry": {
                    "coordinates": [
                      [
                        [
                          -45.848223021211,
                          -12.263683632476996
                        ],
                        [
                          -45.84813705786386,
                          -12.263684382671608
                        ],
                        [
                          -45.84805112059927,
                          -12.263686633021903
                        ],
                        [
                          -45.84796523549699,
                          -12.263690382850262
                        ],
                        [
                          -45.847879428617055,
                          -12.263695631027682
                        ],
                        [
                          -45.847793725997555,
                          -12.2637023759739
                        ],
                        [
                          -45.84770815364919,
                          -12.263710615657688
                        ],
                        [
                          -45.84762273753674,
                          -12.26372034759826
                        ],
                        [
                          -45.84753750358817,
                          -12.263731568864303
                        ],
                        [
                          -45.84745247767089,
                          -12.263744276076677
                        ],
                        [
                          -45.84736768559629,
                          -12.263758465407632
                        ],
                        [
                          -45.84728315310383,
                          -12.263774132583086
                        ],
                        [
                          -45.84719890585634,
                          -12.263791272883433
                        ],
                        [
                          -45.847114969436,
                          -12.263809881144068
                        ],
                        [
                          -45.847031369330836,
                          -12.263829951757975
                        ],
                        [
                          -45.84694813093053,
                          -12.263851478676562
                        ],
                        [
                          -45.84686527951818,
                          -12.26387445541148
                        ],
                        [
                          -45.846782840264005,
                          -12.263898875036082
                        ],
                        [
                          -45.846700838215696,
                          -12.26392473018788
                        ],
                        [
                          -45.846619298291465,
                          -12.263952013070428
                        ],
                        [
                          -45.846538245274644,
                          -12.263980715454961
                        ],
                        [
                          -45.846457703803146,
                          -12.264010828683473
                        ],
                        [
                          -45.846377698365735,
                          -12.264042343670054
                        ],
                        [
                          -45.846298253290946,
                          -12.264075250904622
                        ],
                        [
                          -45.84621939274227,
                          -12.264109540454733
                        ],
                        [
                          -45.846141140711666,
                          -12.264145201967802
                        ],
                        [
                          -45.846063521006954,
                          -12.264182224676585
                        ],
                        [
                          -45.84598655725182,
                          -12.264220597398792
                        ],
                        [
                          -45.84591027287572,
                          -12.26426030854159
                        ],
                        [
                          -45.845834691103605,
                          -12.264301346106398
                        ],
                        [
                          -45.84575983495392,
                          -12.264343697689844
                        ],
                        [
                          -45.84568572722775,
                          -12.264387350489153
                        ],
                        [
                          -45.84561239050528,
                          -12.264432291303981
                        ],
                        [
                          -45.845539847135306,
                          -12.264478506542062
                        ],
                        [
                          -45.845468119231704,
                          -12.264525982221313
                        ],
                        [
                          -45.845397228664275,
                          -12.264574703975091
                        ],
                        [
                          -45.8453271970515,
                          -12.264624657056874
                        ],
                        [
                          -45.845258045758314,
                          -12.264675826341238
                        ],
                        [
                          -45.84518979588429,
                          -12.264728196331985
                        ],
                        [
                          -45.84512246825735,
                          -12.264781751166542
                        ],
                        [
                          -45.845056083434336,
                          -12.264836474615045
                        ],
                        [
                          -45.844990661683816,
                          -12.264892350093598
                        ],
                        [
                          -45.84492622298905,
                          -12.26494936066157
                        ],
                        [
                          -45.84486278703672,
                          -12.265007489030754
                        ],
                        [
                          -45.84480037321192,
                          -12.26506671756936
                        ],
                        [
                          -45.84473900059176,
                          -12.26512702830758
                        ],
                        [
                          -45.84467868794221,
                          -12.265188402940124
                        ],
                        [
                          -45.84461945370621,
                          -12.265250822837436
                        ],
                        [
                          -45.844561316004345,
                          -12.265314269044708
                        ],
                        [
                          -45.844504292624805,
                          -12.26537872229192
                        ],
                        [
                          -45.84444840102054,
                          -12.265444162996536
                        ],
                        [
                          -45.844393658299175,
                          -12.265510571274556
                        ],
                        [
                          -45.84434008122442,
                          -12.265577926938395
                        ],
                        [
                          -45.84428768620489,
                          -12.265646209509875
                        ],
                        [
                          -45.844236489291255,
                          -12.265715398223502
                        ],
                        [
                          -45.844186506171226,
                          -12.265785472032512
                        ],
                        [
                          -45.84413775216323,
                          -12.265856409617
                        ],
                        [
                          -45.84409024221381,
                          -12.26592818938703
                        ],
                        [
                          -45.84404399088991,
                          -12.266000789493464
                        ],
                        [
                          -45.84399901237612,
                          -12.266074187831602
                        ],
                        [
                          -45.84395532047088,
                          -12.266148362046705
                        ],
                        [
                          -45.843912928578035,
                          -12.26622328954734
                        ],
                        [
                          -45.843871849708115,
                          -12.266298947502655
                        ],
                        [
                          -45.84383209646914,
                          -12.266375312858209
                        ],
                        [
                          -45.84379368106596,
                          -12.266452362336695
                        ],
                        [
                          -45.84375661529366,
                          -12.266530072450102
                        ],
                        [
                          -45.843720910536284,
                          -12.266608419501882
                        ],
                        [
                          -45.843686577760835,
                          -12.266687379598935
                        ],
                        [
                          -45.843653627515366,
                          -12.266766928655285
                        ],
                        [
                          -45.84362206992424,
                          -12.26684704240261
                        ],
                        [
                          -45.843591914686144,
                          -12.266927696394548
                        ],
                        [
                          -45.84356317106945,
                          -12.267008866017763
                        ],
                        [
                          -45.8435358479106,
                          -12.267090526496116
                        ],
                        [
                          -45.84350995361026,
                          -12.267172652900612
                        ],
                        [
                          -45.843485496130604,
                          -12.267255220157402
                        ],
                        [
                          -45.843462482993495,
                          -12.267338203052816
                        ],
                        [
                          -45.843440921276866,
                          -12.267421576245162
                        ],
                        [
                          -45.8434208176135,
                          -12.267505314268663
                        ],
                        [
                          -45.843402178187894,
                          -12.267589391544861
                        ],
                        [
                          -45.84338500873505,
                          -12.26767378238755
                        ],
                        [
                          -45.84336931453779,
                          -12.267758461013884
                        ],
                        [
                          -45.84335510042573,
                          -12.267843401549246
                        ],
                        [
                          -45.84334237077322,
                          -12.267928578037925
                        ],
                        [
                          -45.843331129498054,
                          -12.268013964449873
                        ],
                        [
                          -45.84332138006019,
                          -12.268099534689258
                        ],
                        [
                          -45.843313125460554,
                          -12.268185262602724
                        ],
                        [
                          -45.843306368240135,
                          -12.268271121987139
                        ],
                        [
                          -45.843301110479025,
                          -12.268357086598312
                        ],
                        [
                          -45.84329735379582,
                          -12.268443130159104
                        ],
                        [
                          -45.84329509934707,
                          -12.26852922636731
                        ],
                        [
                          -45.84329434782684,
                          -12.268615348904675
                        ],
                        [
                          -45.84329509946655,
                          -12.268701471444196
                        ],
                        [
                          -45.843297354034874,
                          -12.268787567659091
                        ],
                        [
                          -45.84330111083781,
                          -12.268873611230756
                        ],
                        [
                          -45.843306368718885,
                          -12.268959575857274
                        ],
                        [
                          -45.84331312605958,
                          -12.269045435261182
                        ],
                        [
                          -45.84332138077986,
                          -12.26913116319831
                        ],
                        [
                          -45.84333113033883,
                          -12.269216733465477
                        ],
                        [
                          -45.84334237173559,
                          -12.269302119909028
                        ],
                        [
                          -45.843355101510284,
                          -12.26938729643332
                        ],
                        [
                          -45.84336931574506,
                          -12.269472237007605
                        ],
                        [
                          -45.84338501006569,
                          -12.269556915676379
                        ],
                        [
                          -45.84340217964259,
                          -12.269641306565054
                        ],
                        [
                          -45.84342081919278,
                          -12.269725383889671
                        ],
                        [
                          -45.84344092298151,
                          -12.26980912196489
                        ],
                        [
                          -45.843462484824094,
                          -12.269892495211439
                        ],
                        [
                          -45.84348549808775,
                          -12.269975478163254
                        ],
                        [
                          -45.8435099556945,
                          -12.270058045478471
                        ],
                        [
                          -45.84353585012252,
                          -12.270140171943428
                        ],
                        [
                          -45.84356317340953,
                          -12.270221832483832
                        ],
                        [
                          -45.84359191715448,
                          -12.27030300216967
                        ],
                        [
                          -45.84362207252143,
                          -12.270383656226077
                        ],
                        [
                          -45.8436536302413,
                          -12.270463770037928
                        ],
                        [
                          -45.84368658061555,
                          -12.270543319159238
                        ],
                        [
                          -45.843720913519746,
                          -12.270622279321564
                        ],
                        [
                          -45.843756618405365,
                          -12.270700626437941
                        ],
                        [
                          -45.84379368430546,
                          -12.270778336615518
                        ],
                        [
                          -45.84383209983605,
                          -12.270855386157965
                        ],
                        [
                          -45.84387185320114,
                          -12.270931751575533
                        ],
                        [
                          -45.843912932196474,
                          -12.27100740959227
                        ],
                        [
                          -45.843955324212445,
                          -12.2710823371509
                        ],
                        [
                          -45.84399901624049,
                          -12.271156511424303
                        ],
                        [
                          -45.84404399487438,
                          -12.271229909817123
                        ],
                        [
                          -45.84409024631638,
                          -12.271302509975943
                        ],
                        [
                          -45.8441377563814,
                          -12.271374289795581
                        ],
                        [
                          -45.84418651050264,
                          -12.271445227427249
                        ],
                        [
                          -45.84423649373231,
                          -12.271515301279443
                        ],
                        [
                          -45.84428769075281,
                          -12.27158449003367
                        ],
                        [
                          -45.84434008587559,
                          -12.271652772642247
                        ],
                        [
                          -45.84439366304895,
                          -12.271720128338586
                        ],
                        [
                          -45.84444840586463,
                          -12.271786536645287
                        ],
                        [
                          -45.844504297559446,
                          -12.271851977375645
                        ],
                        [
                          -45.84456132102376,
                          -12.271916430643566
                        ],
                        [
                          -45.844619458805525,
                          -12.271979876867789
                        ],
                        [
                          -45.84467869311525,
                          -12.272042296777158
                        ],
                        [
                          -45.84473900583297,
                          -12.272103671417886
                        ],
                        [
                          -45.844800378515316,
                          -12.272163982160222
                        ],
                        [
                          -45.844862792395,
                          -12.272223210697883
                        ],
                        [
                          -45.84492622839604,
                          -12.27228133906242
                        ],
                        [
                          -45.84499066713206,
                          -12.272338349621217
                        ],
                        [
                          -45.84505608891603,
                          -12.272394225086032
                        ],
                        [
                          -45.84512247376556,
                          -12.272448948517287
                        ],
                        [
                          -45.84518980140964,
                          -12.272502503329392
                        ],
                        [
                          -45.84525805129417,
                          -12.272554873294984
                        ],
                        [
                          -45.84532720258886,
                          -12.272606042549942
                        ],
                        [
                          -45.84539723419349,
                          -12.272655995597953
                        ],
                        [
                          -45.84546812474517,
                          -12.272704717315353
                        ],
                        [
                          -45.84553985262309,
                          -12.272752192954288
                        ],
                        [
                          -45.845612395958376,
                          -12.272798408149075
                        ],
                        [
                          -45.84568573263784,
                          -12.272843348918325
                        ],
                        [
                          -45.84575984030946,
                          -12.272887001668167
                        ],
                        [
                          -45.845834696397674,
                          -12.272929353201212
                        ],
                        [
                          -45.84591027809715,
                          -12.272970390712564
                        ],
                        [
                          -45.845986562391694,
                          -12.273010101800402
                        ],
                        [
                          -45.84606352605542,
                          -12.273048474465941
                        ],
                        [
                          -45.84614114565938,
                          -12.27308549711683
                        ],
                        [
                          -45.84621939757996,
                          -12.273121158571124
                        ],
                        [
                          -45.84629825800924,
                          -12.273155448061766
                        ],
                        [
                          -45.84637770295498,
                          -12.27318835523634
                        ],
                        [
                          -45.84645770825454,
                          -12.273219870162977
                        ],
                        [
                          -45.846538249578884,
                          -12.273249983331668
                        ],
                        [
                          -45.84661930243995,
                          -12.27327868565695
                        ],
                        [
                          -45.84670084220075,
                          -12.273305968481424
                        ],
                        [
                          -45.846782844077346,
                          -12.273331823576246
                        ],
                        [
                          -45.84686528315181,
                          -12.273356243145326
                        ],
                        [
                          -45.84694813437573,
                          -12.273379219826188
                        ],
                        [
                          -45.84703137258148,
                          -12.273400746693017
                        ],
                        [
                          -45.84711497248408,
                          -12.273420817257241
                        ],
                        [
                          -45.84719890869722,
                          -12.273439425471143
                        ],
                        [
                          -45.84728315572955,
                          -12.273456565727177
                        ],
                        [
                          -45.847367688002294,
                          -12.273472232861568
                        ],
                        [
                          -45.84745247985116,
                          -12.273486422154555
                        ],
                        [
                          -45.84753750553913,
                          -12.273499129332583
                        ],
                        [
                          -45.84762273925301,
                          -12.273510350567767
                        ],
                        [
                          -45.8477081551269,
                          -12.273520082481198
                        ],
                        [
                          -45.847793727235505,
                          -12.273528322142017
                        ],
                        [
                          -45.847879429609634,
                          -12.27353506706906
                        ],
                        [
                          -45.84796523624354,
                          -12.273540315231523
                        ],
                        [
                          -45.84805112109806,
                          -12.27354406504914
                        ],
                        [
                          -45.84813705811209,
                          -12.273546315392943
                        ],
                        [
                          -45.84822302121141,
                          -12.273547065585412
                        ],
                        [
                          -45.8483089843095,
                          -12.273546315400676
                        ],
                        [
                          -45.848394921325266,
                          -12.27354406506455
                        ],
                        [
                          -45.84848080617948,
                          -12.273540315254664
                        ],
                        [
                          -45.8485666128154,
                          -12.273535067099777
                        ],
                        [
                          -45.84865231519051,
                          -12.273528322180388
                        ],
                        [
                          -45.848737887300835,
                          -12.27352008252715
                        ],
                        [
                          -45.84882330317542,
                          -12.273510350621345
                        ],
                        [
                          -45.848908536892424,
                          -12.273499129393464
                        ],
                        [
                          -45.84899356258175,
                          -12.273486422222957
                        ],
                        [
                          -45.84907835443377,
                          -12.273472232937186
                        ],
                        [
                          -45.84916288670917,
                          -12.273456565810033
                        ],
                        [
                          -45.849247133745536,
                          -12.2734394255609
                        ],
                        [
                          -45.84933106996058,
                          -12.273420817354282
                        ],
                        [
                          -45.84941466986798,
                          -12.273400746796653
                        ],
                        [
                          -45.84949790807675,
                          -12.273379219936775
                        ],
                        [
                          -45.84958075930601,
                          -12.273356243262185
                        ],
                        [
                          -45.84966319838407,
                          -12.27333182369976
                        ],
                        [
                          -45.849745200264486,
                          -12.273305968611455
                        ],
                        [
                          -45.849826740030664,
                          -12.273278685792924
                        ],
                        [
                          -45.849907792896666,
                          -12.27324998347362
                        ],
                        [
                          -45.84998833422673,
                          -12.27321987031053
                        ],
                        [
                          -45.85006833953137,
                          -12.273188355389637
                        ],
                        [
                          -45.85014778448247,
                          -12.273155448220574
                        ],
                        [
                          -45.850226644917576,
                          -12.27312115873516
                        ],
                        [
                          -45.85030489684533,
                          -12.273085497285324
                        ],
                        [
                          -45.85038251645464,
                          -12.273048474639634
                        ],
                        [
                          -45.85045948012395,
                          -12.273010101979063
                        ],
                        [
                          -45.85053576442554,
                          -12.272970390895324
                        ],
                        [
                          -45.85061134613208,
                          -12.272929353387873
                        ],
                        [
                          -45.85068620222588,
                          -12.272887001859408
                        ],
                        [
                          -45.85076030990584,
                          -12.272843349112424
                        ],
                        [
                          -45.85083364659147,
                          -12.272798408347168
                        ],
                        [
                          -45.8509061899345,
                          -12.272752193155197
                        ],
                        [
                          -45.850977917819336,
                          -12.272704717519462
                        ],
                        [
                          -45.85104880837846,
                          -12.272655995804707
                        ],
                        [
                          -45.851118839991024,
                          -12.272606042758827
                        ],
                        [
                          -45.85118799129269,
                          -12.272554873506454
                        ],
                        [
                          -45.85125624118494,
                          -12.272502503542714
                        ],
                        [
                          -45.85132356883668,
                          -12.272448948732308
                        ],
                        [
                          -45.85138995369392,
                          -12.272394225302474
                        ],
                        [
                          -45.851455375485926,
                          -12.272338349838584
                        ],
                        [
                          -45.85151981422945,
                          -12.272281339280934
                        ],
                        [
                          -45.85158325023838,
                          -12.272223210916964
                        ],
                        [
                          -45.85164566412613,
                          -12.272163982379428
                        ],
                        [
                          -45.851707036816016,
                          -12.272103671637476
                        ],
                        [
                          -45.851767349541674,
                          -12.272042296996473
                        ],
                        [
                          -45.851826583859506,
                          -12.271979877086322
                        ],
                        [
                          -45.851884721648645,
                          -12.27191643086185
                        ],
                        [
                          -45.85194174512093,
                          -12.271851977592748
                        ],
                        [
                          -45.85199763682367,
                          -12.271786536860937
                        ],
                        [
                          -45.852052379646715,
                          -12.27172012855311
                        ],
                        [
                          -45.85210595682836,
                          -12.271652772854132
                        ],
                        [
                          -45.852158351958245,
                          -12.27158449024411
                        ],
                        [
                          -45.85220954898598,
                          -12.271515301487922
                        ],
                        [
                          -45.85225953222346,
                          -12.271445227632608
                        ],
                        [
                          -45.852308286351565,
                          -12.271374289998752
                        ],
                        [
                          -45.852355796424085,
                          -12.271302510175623
                        ],
                        [
                          -45.852402047873355,
                          -12.271229910013203
                        ],
                        [
                          -45.85244702651389,
                          -12.271156511617361
                        ],
                        [
                          -45.8524907185486,
                          -12.271082337340495
                        ],
                        [
                          -45.85253311057153,
                          -12.271007409777358
                        ],
                        [
                          -45.852574189573296,
                          -12.270931751756631
                        ],
                        [
                          -45.85261394294476,
                          -12.270855386334649
                        ],
                        [
                          -45.852652358481514,
                          -12.27077833678769
                        ],
                        [
                          -45.85268942438759,
                          -12.270700626605409
                        ],
                        [
                          -45.85272512927926,
                          -12.270622279483591
                        ],
                        [
                          -45.85275946218909,
                          -12.270543319316165
                        ],
                        [
                          -45.85279241256877,
                          -12.270463770189576
                        ],
                        [
                          -45.85282397029407,
                          -12.270383656371795
                        ],
                        [
                          -45.85285412566602,
                          -12.270303002309857
                        ],
                        [
                          -45.8528828694159,
                          -12.270221832617954
                        ],
                        [
                          -45.85291019270742,
                          -12.270140172071882
                        ],
                        [
                          -45.85293608714004,
                          -12.270058045600216
                        ],
                        [
                          -45.85296054475092,
                          -12.269975478278925
                        ],
                        [
                          -45.85298355801865,
                          -12.26989249532023
                        ],
                        [
                          -45.85300511986496,
                          -12.269809122067242
                        ],
                        [
                          -45.853025223657205,
                          -12.269725383985184
                        ],
                        [
                          -45.8530438632107,
                          -12.269641306653485
                        ],
                        [
                          -45.85306103279059,
                          -12.269556915758036
                        ],
                        [
                          -45.853076727113994,
                          -12.269472237082121
                        ],
                        [
                          -45.853090941351304,
                          -12.269387296500554
                        ],
                        [
                          -45.85310367112823,
                          -12.269302119969181
                        ],
                        [
                          -45.853114912527005,
                          -12.269216733518194
                        ],
                        [
                          -45.85312466208772,
                          -12.269131163243486
                        ],
                        [
                          -45.85313291680948,
                          -12.269045435299034
                        ],
                        [
                          -45.853139674151386,
                          -12.268959575887509
                        ],
                        [
                          -45.8531449320334,
                          -12.268873611253563
                        ],
                        [
                          -45.853148688837,
                          -12.268787567674265
                        ],
                        [
                          -45.85315094340574,
                          -12.268701471451774
                        ],
                        [
                          -45.85315169504558,
                          -12.268615348904673
                        ],
                        [
                          -45.85315094352522,
                          -12.268529226359776
                        ],
                        [
                          -45.85314868907606,
                          -12.268443130143867
                        ],
                        [
                          -45.85314493239218,
                          -12.268357086575605
                        ],
                        [
                          -45.85313967463013,
                          -12.268271121956772
                        ],
                        [
                          -45.85313291740851,
                          -12.268185262564986
                        ],
                        [
                          -45.853124662807396,
                          -12.268099534644016
                        ],
                        [
                          -45.8531149133678,
                          -12.268013964397259
                        ],
                        [
                          -45.85310367209061,
                          -12.267928577977846
                        ],
                        [
                          -45.85309094243584,
                          -12.267843401481949
                        ],
                        [
                          -45.85307672832126,
                          -12.267758460939335
                        ],
                        [
                          -45.85306103412127,
                          -12.26767378230611
                        ],
                        [
                          -45.85304386466532,
                          -12.267589391456063
                        ],
                        [
                          -45.85302522523651,
                          -12.267505314173249
                        ],
                        [
                          -45.85300512156959,
                          -12.267421576142791
                        ],
                        [
                          -45.85298355984927,
                          -12.267338202944032
                        ],
                        [
                          -45.85296054670812,
                          -12.267255220041902
                        ],
                        [
                          -45.852936089224265,
                          -12.26717265277878
                        ],
                        [
                          -45.852910194919446,
                          -12.26709052636793
                        ],
                        [
                          -45.85288287175589,
                          -12.267008865883371
                        ],
                        [
                          -45.85285412813437,
                          -12.266927696254356
                        ],
                        [
                          -45.85282397289115,
                          -12.266847042256597
                        ],
                        [
                          -45.85279241529487,
                          -12.266766928504017
                        ],
                        [
                          -45.85275946504378,
                          -12.266687379441953
                        ],
                        [
                          -45.852725132262556,
                          -12.266608419339441
                        ],
                        [
                          -45.8526894274995,
                          -12.266530072283048
                        ],
                        [
                          -45.852652361721205,
                          -12.266452362164914
                        ],
                        [
                          -45.85261394631156,
                          -12.266375312681289
                        ],
                        [
                          -45.852574193066324,
                          -12.266298947321552
                        ],
                        [
                          -45.852533114189804,
                          -12.266223289361898
                        ],
                        [
                          -45.85249072229044,
                          -12.266148361857603
                        ],
                        [
                          -45.85244703037805,
                          -12.266074187638178
                        ],
                        [
                          -45.8524020518576,
                          -12.266000789296974
                        ],
                        [
                          -45.85235580052676,
                          -12.265928189187507
                        ],
                        [
                          -45.85230829056997,
                          -12.26585640941415
                        ],
                        [
                          -45.85225953655479,
                          -12.265785471827009
                        ],
                        [
                          -45.85220955342729,
                          -12.265715398015367
                        ],
                        [
                          -45.85215835650611,
                          -12.26564620929936
                        ],
                        [
                          -45.85210596147902,
                          -12.265577926725827
                        ],
                        [
                          -45.85205238439657,
                          -12.26551057106015
                        ],
                        [
                          -45.85199764166768,
                          -12.265444162780806
                        ],
                        [
                          -45.851941750055666,
                          -12.26537872207492
                        ],
                        [
                          -45.851884726668054,
                          -12.265314268826367
                        ],
                        [
                          -45.85182658895853,
                          -12.26525082261854
                        ],
                        [
                          -45.85176735471531,
                          -12.265188402721416
                        ],
                        [
                          -45.85170704205685,
                          -12.265127028087626
                        ],
                        [
                          -45.8516456694299,
                          -12.265066717350493
                        ],
                        [
                          -45.8515832555969,
                          -12.265007488811902
                        ],
                        [
                          -45.85151981963617,
                          -12.264949360442836
                        ],
                        [
                          -45.85145538093366,
                          -12.264892349875753
                        ],
                        [
                          -45.851389959175954,
                          -12.264836474398873
                        ],
                        [
                          -45.85132357434489,
                          -12.264781750951508
                        ],
                        [
                          -45.85125624671106,
                          -12.264728196119245
                        ],
                        [
                          -45.85118799682815,
                          -12.264675826129455
                        ],
                        [
                          -45.85111884552765,
                          -12.264624656847438
                        ],
                        [
                          -45.851048813908015,
                          -12.264574703768552
                        ],
                        [
                          -45.8509779233325,
                          -12.264525982016965
                        ],
                        [
                          -45.85090619542186,
                          -12.264478506340817
                        ],
                        [
                          -45.85083365204531,
                          -12.264432291106306
                        ],
                        [
                          -45.85076031531548,
                          -12.264387350294765
                        ],
                        [
                          -45.850686207582626,
                          -12.26434369749925
                        ],
                        [
                          -45.85061135142524,
                          -12.264301345919215
                        ],
                        [
                          -45.850535769647244,
                          -12.264260308358951
                        ],
                        [
                          -45.850459485263784,
                          -12.264220597220095
                        ],
                        [
                          -45.850382521503526,
                          -12.264182224503065
                        ],
                        [
                          -45.850304901792114,
                          -12.26414520179885
                        ],
                        [
                          -45.85022664975529,
                          -12.264109540290699
                        ],
                        [
                          -45.850147789200875,
                          -12.26407525074583
                        ],
                        [
                          -45.85006834412064,
                          -12.264042343516767
                        ],
                        [
                          -45.849988338678244,
                          -12.264010828535952
                        ],
                        [
                          -45.84990779720115,
                          -12.263980715313062
                        ],
                        [
                          -45.84982674417948,
                          -12.263952012934576
                        ],
                        [
                          -45.84974520424968,
                          -12.263924730057889
                        ],
                        [
                          -45.84966320219725,
                          -12.26389887491253
                        ],
                        [
                          -45.849580762938736,
                          -12.263874455294376
                        ],
                        [
                          -45.8494979115226,
                          -12.263851478566133
                        ],
                        [
                          -45.849414673117806,
                          -12.263829951654115
                        ],
                        [
                          -45.84933107300989,
                          -12.263809881047285
                        ],
                        [
                          -45.849247136585625,
                          -12.263791272793506
                        ],
                        [
                          -45.84916288933497,
                          -12.263774132500238
                        ],
                        [
                          -45.84907835684027,
                          -12.26375846533209
                        ],
                        [
                          -45.84899356476214,
                          -12.263744276008284
                        ],
                        [
                          -45.84890853884308,
                          -12.263731568803378
                        ],
                        [
                          -45.848823304891795,
                          -12.263720347544673
                        ],
                        [
                          -45.84873788877924,
                          -12.263710615611842
                        ],
                        [
                          -45.84865231642705,
                          -12.263702375935418
                        ],
                        [
                          -45.848566613807556,
                          -12.26369563099689
                        ],
                        [
                          -45.848480806926446,
                          -12.263690382827143
                        ],
                        [
                          -45.84839492182358,
                          -12.263686633006465
                        ],
                        [
                          -45.84830898455909,
                          -12.263684382663895
                        ],
                        [
                          -45.848223021211,
                          -12.263683632476996
                        ]
                      ],
                      [
                        [
                          -45.851891641693335,
                          -12.266646547185228
                        ],
                        [
                          -45.85188353817583,
                          -12.266637898275228
                        ],
                        [
                          -45.85138842213526,
                          -12.266073695976932
                        ],
                        [
                          -45.851378033438856,
                          -12.266060701372083
                        ],
                        [
                          -45.85136889462398,
                          -12.266046828156385
                        ],
                        [
                          -45.85111557956713,
                          -12.26562079788456
                        ],
                        [
                          -45.85111227453198,
                          -12.265614997242592
                        ],
                        [
                          -45.850974102701265,
                          -12.265361681950573
                        ],
                        [
                          -45.85096623882629,
                          -12.26534535608769
                        ],
                        [
                          -45.85096007036952,
                          -12.265328340092148
                        ],
                        [
                          -45.850955658882505,
                          -12.265310803757929
                        ],
                        [
                          -45.85095304838492,
                          -12.265292922071206
                        ],
                        [
                          -45.85095226492521,
                          -12.265274873464167
                        ],
                        [
                          -45.85095331632075,
                          -12.26525683803464
                        ],
                        [
                          -45.85095619207983,
                          -12.265238995748863
                        ],
                        [
                          -45.850960863506366,
                          -12.265221524645803
                        ],
                        [
                          -45.85096728398626,
                          -12.265204599060514
                        ],
                        [
                          -45.85097538945254,
                          -12.265188387884626
                        ],
                        [
                          -45.85098509902472,
                          -12.265173052880959
                        ],
                        [
                          -45.850996315815756,
                          -12.265158747069478
                        ],
                        [
                          -45.85100892789897,
                          -12.265145613200346
                        ],
                        [
                          -45.851022809424826,
                          -12.26513378232948
                        ],
                        [
                          -45.851037821876744,
                          -12.265123372510885
                        ],
                        [
                          -45.85105381545331,
                          -12.2651144876186
                        ],
                        [
                          -45.851070630563036,
                          -12.265107216310218
                        ],
                        [
                          -45.85116274513575,
                          -12.26507267335267
                        ],
                        [
                          -45.85118032394517,
                          -12.265067058942279
                        ],
                        [
                          -45.851198387032895,
                          -12.265063208341786
                        ],
                        [
                          -45.85121675191749,
                          -12.265061160451685
                        ],
                        [
                          -45.85123523306863,
                          -12.265060935960642
                        ],
                        [
                          -45.851253643781455,
                          -12.26506253713656
                        ],
                        [
                          -45.851271798062676,
                          -12.265065947803599
                        ],
                        [
                          -45.85128951250961,
                          -12.26507113350565
                        ],
                        [
                          -45.851306608162936,
                          -12.265078041854405
                        ],
                        [
                          -45.851322912314636,
                          -12.265086603058599
                        ],
                        [
                          -45.85133826025276,
                          -12.26509673062905
                        ],
                        [
                          -45.85135249692541,
                          -12.26510832225248
                        ],
                        [
                          -45.851365478507134,
                          -12.26512126082503
                        ],
                        [
                          -45.85137707385193,
                          -12.26513541563537
                        ],
                        [
                          -45.85173125929502,
                          -12.265615279459182
                        ],
                        [
                          -45.85208466033418,
                          -12.266045986746734
                        ],
                        [
                          -45.85235756105843,
                          -12.266264307249715
                        ],
                        [
                          -45.852370913259634,
                          -12.266276099113142
                        ],
                        [
                          -45.85238303314123,
                          -12.266289114794667
                        ],
                        [
                          -45.85239380527399,
                          -12.266303230333731
                        ],
                        [
                          -45.85240312706453,
                          -12.266318311294711
                        ],
                        [
                          -45.85241090973239,
                          -12.266334214047346
                        ],
                        [
                          -45.85241707915559,
                          -12.266350787134709
                        ],
                        [
                          -45.85242157657657,
                          -12.266367872715554
                        ],
                        [
                          -45.85242435916178,
                          -12.266385308067672
                        ],
                        [
                          -45.8524254004097,
                          -12.26640292713761
                        ],
                        [
                          -45.852424690403176,
                          -12.266420562122176
                        ],
                        [
                          -45.85242223590392,
                          -12.266438045066575
                        ],
                        [
                          -45.852418060288166,
                          -12.266455209463974
                        ],
                        [
                          -45.85241220332394,
                          -12.26647189184139
                        ],
                        [
                          -45.85240472079243,
                          -12.2664879333165
                        ],
                        [
                          -45.85239568395669,
                          -12.266503181110885
                        ],
                        [
                          -45.85238517888296,
                          -12.266517490005098
                        ],
                        [
                          -45.8522354926725,
                          -12.266701719319373
                        ],
                        [
                          -45.85222338784949,
                          -12.266715186603962
                        ],
                        [
                          -45.85220998343735,
                          -12.266727405605227
                        ],
                        [
                          -45.85219541185611,
                          -12.266738255613369
                        ],
                        [
                          -45.85217981705619,
                          -12.26674762944272
                        ],
                        [
                          -45.852163353096294,
                          -12.266755434490552
                        ],
                        [
                          -45.85214618262146,
                          -12.266761593651882
                        ],
                        [
                          -45.85212847525636,
                          -12.266766046081202
                        ],
                        [
                          -45.85211040592953,
                          -12.26676874779355
                        ],
                        [
                          -45.85209215314533,
                          -12.266769672099064
                        ],
                        [
                          -45.85207389722048,
                          -12.266768809866663
                        ],
                        [
                          -45.85205581850271,
                          -12.266766169614169
                        ],
                        [
                          -45.85203809558919,
                          -12.266761777424259
                        ],
                        [
                          -45.85202090356207,
                          -12.266755676686728
                        ],
                        [
                          -45.852004412258964,
                          -12.266747927669893
                        ],
                        [
                          -45.85198878459508,
                          -12.266738606925193
                        ],
                        [
                          -45.85197417495382,
                          -12.266727806530907
                        ],
                        [
                          -45.851960727661634,
                          -12.266715633182601
                        ],
                        [
                          -45.851891641693335,
                          -12.266646547185228
                        ]
                      ]
                    ],
                    "type": "Polygon"
                  },
                  "id": "59",
                  "properties": {
                    "Apr_2020": "Uncultivated soil",
                    "Aug_2020": "Sorghum",
                    "Dec_2019": "Soybean",
                    "Feb_2020": "Soybean",
                    "Jan_2020": "Soybean",
                    "Jul_2020": "Sorghum",
                    "Jun_2020": "Sorghum",
                    "Mar_2020": "Uncultivated soil",
                    "May_2020": "Sorghum",
                    "Note": null,
                    "Nov_2019": "Uncultivated soil",
                    "Oct_2019": "Uncultivated soil",
                    "Sep_2020": "Uncultivated soil",
                    "id": "456"
                  },
                  "type": "Feature"
                },
                {
                  "geometry": {
                    "coordinates": [
                      [
                        [
                          -45.839623269818475,
                          -12.252183947345618
                        ],
                        [
                          -45.84555784423175,
                          -12.250355838237528
                        ],
                        [
                          -45.84539971199854,
                          -12.249853939239221
                        ],
                        [
                          -45.83944420123374,
                          -12.251432639873121
                        ],
                        [
                          -45.839623269818475,
                          -12.252183947345618
                        ]
                      ]
                    ],
                    "type": "Polygon"
                  },
                  "id": "60",
                  "properties": {
                    "Apr_2020": "Pasture",
                    "Aug_2020": "Pasture",
                    "Dec_2019": "Pasture",
                    "Feb_2020": "Pasture",
                    "Jan_2020": "Pasture",
                    "Jul_2020": "Pasture",
                    "Jun_2020": "Pasture",
                    "Mar_2020": "Pasture",
                    "May_2020": "Pasture",
                    "Note": null,
                    "Nov_2019": "Pasture",
                    "Oct_2019": "Pasture",
                    "Sep_2020": "Pasture",
                    "id": "457"
                  },
                  "type": "Feature"
                },
                {
                  "geometry": {
                    "coordinates": [
                      [
                        [
                          -45.8354018175583,
                          -12.248858188397625
                        ],
                        [
                          -45.83535301704863,
                          -12.248858614275381
                        ],
                        [
                          -45.83530423130279,
                          -12.248859891777217
                        ],
                        [
                          -45.83525547508192,
                          -12.248862020521933
                        ],
                        [
                          -45.83520676313894,
                          -12.248864999874142
                        ],
                        [
                          -45.8351581102111,
                          -12.24886882894471
                        ],
                        [
                          -45.83510953102139,
                          -12.248873506590776
                        ],
                        [
                          -45.83506104027209,
                          -12.248879031415932
                        ],
                        [
                          -45.835012652639406,
                          -12.248885401770794
                        ],
                        [
                          -45.83496438276906,
                          -12.24889261575343
                        ],
                        [
                          -45.83491624527454,
                          -12.248900671209578
                        ],
                        [
                          -45.834868254732605,
                          -12.248909565733031
                        ],
                        [
                          -45.83482042567492,
                          -12.248919296667117
                        ],
                        [
                          -45.834772772588174,
                          -12.248929861104488
                        ],
                        [
                          -45.834725309911896,
                          -12.248941255887368
                        ],
                        [
                          -45.834678052026774,
                          -12.248953477610012
                        ],
                        [
                          -45.834631013253706,
                          -12.248966522618991
                        ],
                        [
                          -45.83458420785879,
                          -12.2489803870114
                        ],
                        [
                          -45.83453765003177,
                          -12.248995066640827
                        ],
                        [
                          -45.83449135389507,
                          -12.249010557114609
                        ],
                        [
                          -45.83444533349847,
                          -12.249026853795073
                        ],
                        [
                          -45.834399602806705,
                          -12.24904395180364
                        ],
                        [
                          -45.83435417570709,
                          -12.249061846017815
                        ],
                        [
                          -45.83430906599215,
                          -12.249080531077556
                        ],
                        [
                          -45.83426428737151,
                          -12.249100001380233
                        ],
                        [
                          -45.8342198534493,
                          -12.249120251089844
                        ],
                        [
                          -45.834175777737194,
                          -12.249141274131057
                        ],
                        [
                          -45.834132073640134,
                          -12.249163064195347
                        ],
                        [
                          -45.83408875445402,
                          -12.249185614742
                        ],
                        [
                          -45.83404583336416,
                          -12.249208918998526
                        ],
                        [
                          -45.83400332344028,
                          -12.249232969962849
                        ],
                        [
                          -45.833961237631165,
                          -12.24925776040604
                        ],
                        [
                          -45.83391958876059,
                          -12.249283282874375
                        ],
                        [
                          -45.833878389526724,
                          -12.249309529689226
                        ],
                        [
                          -45.833837652495895,
                          -12.249336492950514
                        ],
                        [
                          -45.833797390095256,
                          -12.249364164541236
                        ],
                        [
                          -45.83375761461699,
                          -12.249392536124246
                        ],
                        [
                          -45.83371833820672,
                          -12.249421599149821
                        ],
                        [
                          -45.83367957286496,
                          -12.249451344854355
                        ],
                        [
                          -45.83364133043981,
                          -12.249481764265262
                        ],
                        [
                          -45.83360362262472,
                          -12.249512848202519
                        ],
                        [
                          -45.833566460955716,
                          -12.249544587280422
                        ],
                        [
                          -45.83352985680686,
                          -12.24957697191083
                        ],
                        [
                          -45.83349382138579,
                          -12.24960999230667
                        ],
                        [
                          -45.833458365730095,
                          -12.24964363848484
                        ],
                        [
                          -45.83342350070723,
                          -12.249677900265716
                        ],
                        [
                          -45.83338923700574,
                          -12.249712767281197
                        ],
                        [
                          -45.83335558513579,
                          -12.249748228973681
                        ],
                        [
                          -45.833322555424466,
                          -12.249784274600552
                        ],
                        [
                          -45.83329015801017,
                          -12.249820893239544
                        ],
                        [
                          -45.83325840284606,
                          -12.249858073784612
                        ],
                        [
                          -45.83322729968658,
                          -12.249895804960707
                        ],
                        [
                          -45.83319685809436,
                          -12.24993407531528
                        ],
                        [
                          -45.83316708743024,
                          -12.249972873229945
                        ],
                        [
                          -45.83313799685338,
                          -12.250012186919884
                        ],
                        [
                          -45.83310959531684,
                          -12.250052004439127
                        ],
                        [
                          -45.83308189156592,
                          -12.25009231368238
                        ],
                        [
                          -45.83305489413301,
                          -12.250133102391805
                        ],
                        [
                          -45.83302861133779,
                          -12.250174358156295
                        ],
                        [
                          -45.83300305128209,
                          -12.250216068418602
                        ],
                        [
                          -45.832978221847064,
                          -12.25025822047948
                        ],
                        [
                          -45.83295413069273,
                          -12.25030080149809
                        ],
                        [
                          -45.83293078525365,
                          -12.250343798498367
                        ],
                        [
                          -45.83290819273575,
                          -12.250387198374792
                        ],
                        [
                          -45.83288636011653,
                          -12.250430987891
                        ],
                        [
                          -45.83286529413924,
                          -12.250475153690864
                        ],
                        [
                          -45.83284500131383,
                          -12.2505196822959
                        ],
                        [
                          -45.83282548791282,
                          -12.250564560113446
                        ],
                        [
                          -45.83280675996932,
                          -12.250609773440635
                        ],
                        [
                          -45.8327888232754,
                          -12.250655308467522
                        ],
                        [
                          -45.832771683380145,
                          -12.25070115128146
                        ],
                        [
                          -45.83275534558742,
                          -12.25074728787207
                        ],
                        [
                          -45.832739814954074,
                          -12.25079370413564
                        ],
                        [
                          -45.832725096288435,
                          -12.25084038587904
                        ],
                        [
                          -45.832711194148374,
                          -12.250887318824706
                        ],
                        [
                          -45.83269811283999,
                          -12.250934488614524
                        ],
                        [
                          -45.832685856415885,
                          -12.250981880815171
                        ],
                        [
                          -45.8326744286739,
                          -12.251029480921964
                        ],
                        [
                          -45.83266383315565,
                          -12.251077274364128
                        ],
                        [
                          -45.83265407314549,
                          -12.251125246508876
                        ],
                        [
                          -45.832645151669304,
                          -12.251173382665868
                        ],
                        [
                          -45.83263707149326,
                          -12.251221668093205
                        ],
                        [
                          -45.8326298351232,
                          -12.251270087999993
                        ],
                        [
                          -45.83262344480335,
                          -12.251318627553541
                        ],
                        [
                          -45.83261790251593,
                          -12.251367271881925
                        ],
                        [
                          -45.83261320998019,
                          -12.25141600608
                        ],
                        [
                          -45.83260936865193,
                          -12.251464815213684
                        ],
                        [
                          -45.83260637972295,
                          -12.251513684325188
                        ],
                        [
                          -45.83260424412064,
                          -12.251562598437033
                        ],
                        [
                          -45.832602962507686,
                          -12.25161154255753
                        ],
                        [
                          -45.83260253528177,
                          -12.251660501685578
                        ],
                        [
                          -45.83260296257551,
                          -12.25170946081489
                        ],
                        [
                          -45.832604244256345,
                          -12.251758404939343
                        ],
                        [
                          -45.83260637992662,
                          -12.251807319057644
                        ],
                        [
                          -45.83260936892372,
                          -12.251856188178115
                        ],
                        [
                          -45.83261321032028,
                          -12.251904997323335
                        ],
                        [
                          -45.832617902924554,
                          -12.25195373153531
                        ],
                        [
                          -45.8326234452808,
                          -12.252002375880158
                        ],
                        [
                          -45.83262983566974,
                          -12.252050915452267
                        ],
                        [
                          -45.832637072109286,
                          -12.252099335380171
                        ],
                        [
                          -45.8326451523551,
                          -12.252147620830232
                        ],
                        [
                          -45.83265407390154,
                          -12.252195757012597
                        ],
                        [
                          -45.83266383398223,
                          -12.252243729184016
                        ],
                        [
                          -45.83267442957154,
                          -12.25229152265526
                        ],
                        [
                          -45.83268585738491,
                          -12.252339122792334
                        ],
                        [
                          -45.83269811388084,
                          -12.252386515024975
                        ],
                        [
                          -45.83271119526137,
                          -12.25243368484799
                        ],
                        [
                          -45.83272509747409,
                          -12.252480617828576
                        ],
                        [
                          -45.83273981621245,
                          -12.252527299607113
                        ],
                        [
                          -45.83275534691912,
                          -12.252573715907674
                        ],
                        [
                          -45.83277168478528,
                          -12.252619852535624
                        ],
                        [
                          -45.832788824754026,
                          -12.252665695387126
                        ],
                        [
                          -45.83280676152163,
                          -12.252711230452203
                        ],
                        [
                          -45.83282548953908,
                          -12.252756443818331
                        ],
                        [
                          -45.8328450030137,
                          -12.252801321674207
                        ],
                        [
                          -45.832865295912725,
                          -12.252845850317728
                        ],
                        [
                          -45.83288636196313,
                          -12.252890016155215
                        ],
                        [
                          -45.83290819465571,
                          -12.252933805709835
                        ],
                        [
                          -45.83293078724595,
                          -12.252977205622958
                        ],
                        [
                          -45.832954132757095,
                          -12.253020202659767
                        ],
                        [
                          -45.832978223982295,
                          -12.253062783713025
                        ],
                        [
                          -45.8330030534876,
                          -12.253104935808034
                        ],
                        [
                          -45.83302861361287,
                          -12.25314664610365
                        ],
                        [
                          -45.83305489647582,
                          -12.253187901899024
                        ],
                        [
                          -45.83308189397543,
                          -12.253228690638272
                        ],
                        [
                          -45.83310959779194,
                          -12.253268999910246
                        ],
                        [
                          -45.83313799939145,
                          -12.253308817455059
                        ],
                        [
                          -45.83316709003024,
                          -12.253348131169773
                        ],
                        [
                          -45.833196860753596,
                          -12.253386929106336
                        ],
                        [
                          -45.833227302402946,
                          -12.253425199480882
                        ],
                        [
                          -45.8332584056169,
                          -12.2534629306744
                        ],
                        [
                          -45.83329016083421,
                          -12.253500111236216
                        ],
                        [
                          -45.833322558296565,
                          -12.253536729886914
                        ],
                        [
                          -45.83335558805488,
                          -12.253572775525205
                        ],
                        [
                          -45.83338923996785,
                          -12.253608237225823
                        ],
                        [
                          -45.833423503708524,
                          -12.25364310424647
                        ],
                        [
                          -45.83345836876803,
                          -12.25367736603102
                        ],
                        [
                          -45.83349382445546,
                          -12.253711012209218
                        ],
                        [
                          -45.83352985990525,
                          -12.253744032603434
                        ],
                        [
                          -45.83356646407851,
                          -12.253776417229513
                        ],
                        [
                          -45.83360362576692,
                          -12.253808156299993
                        ],
                        [
                          -45.83364133359736,
                          -12.253839240227741
                        ],
                        [
                          -45.83367957603333,
                          -12.253869659626792
                        ],
                        [
                          -45.833718341381875,
                          -12.253899405317675
                        ],
                        [
                          -45.83375761779293,
                          -12.25392846832653
                        ],
                        [
                          -45.83379739326755,
                          -12.253956839891092
                        ],
                        [
                          -45.833837655658606,
                          -12.253984511460729
                        ],
                        [
                          -45.833878392676674,
                          -12.254011474700356
                        ],
                        [
                          -45.8339195918909,
                          -12.254037721490668
                        ],
                        [
                          -45.83396124073568,
                          -12.254063243932292
                        ],
                        [
                          -45.83400332651564,
                          -12.254088034348474
                        ],
                        [
                          -45.834045836403504,
                          -12.254112085283575
                        ],
                        [
                          -45.83408875745242,
                          -12.25413538950991
                        ],
                        [
                          -45.83413207659159,
                          -12.254157940025054
                        ],
                        [
                          -45.83417578063727,
                          -12.25417973005743
                        ],
                        [
                          -45.83421985629181,
                          -12.254200753065627
                        ],
                        [
                          -45.83426429015043,
                          -12.254221002741337
                        ],
                        [
                          -45.83430906870317,
                          -12.254240473010228
                        ],
                        [
                          -45.834354178343645,
                          -12.254259158035415
                        ],
                        [
                          -45.83439960536512,
                          -12.254277052215619
                        ],
                        [
                          -45.83444533597252,
                          -12.2542941501899
                        ],
                        [
                          -45.83449135627984,
                          -12.254310446836424
                        ],
                        [
                          -45.83453765232152,
                          -12.254325937276484
                        ],
                        [
                          -45.83458421005057,
                          -12.254340616873426
                        ],
                        [
                          -45.834631015342914,
                          -12.254354481234174
                        ],
                        [
                          -45.834678054006915,
                          -12.254367526211867
                        ],
                        [
                          -45.834725311781106,
                          -12.254379747905025
                        ],
                        [
                          -45.834772774341886,
                          -12.254391142659557
                        ],
                        [
                          -45.83482042730773,
                          -12.2544017070697
                        ],
                        [
                          -45.834868256242515,
                          -12.254411437978469
                        ],
                        [
                          -45.83491624665821,
                          -12.25442033247832
                        ],
                        [
                          -45.834964384023635,
                          -12.254428387912766
                        ],
                        [
                          -45.83501265376084,
                          -12.254435601875457
                        ],
                        [
                          -45.83506104125929,
                          -12.254441972212646
                        ],
                        [
                          -45.83510953187154,
                          -12.254447497022229
                        ],
                        [
                          -45.83515811092205,
                          -12.25445217465496
                        ],
                        [
                          -45.8352067637096,
                          -12.254456003714564
                        ],
                        [
                          -45.835255475511545,
                          -12.254458983058194
                        ],
                        [
                          -45.835304231590165,
                          -12.25446111179673
                        ],
                        [
                          -45.83535301719144,
                          -12.254462389294854
                        ],
                        [
                          -45.83540181755925,
                          -12.25446281517137
                        ],
                        [
                          -45.83545061792455,
                          -12.254462389299183
                        ],
                        [
                          -45.83549940352774,
                          -12.254461111805352
                        ],
                        [
                          -45.835548159606496,
                          -12.254458983071116
                        ],
                        [
                          -45.83559687140889,
                          -12.254456003731772
                        ],
                        [
                          -45.83564552419734,
                          -12.25445217467642
                        ],
                        [
                          -45.83569410324838,
                          -12.25444749704794
                        ],
                        [
                          -45.83574259386146,
                          -12.254441972242583
                        ],
                        [
                          -45.83579098136106,
                          -12.254435601909586
                        ],
                        [
                          -45.8358392511004,
                          -12.254428387950883
                        ],
                        [
                          -45.835887388466126,
                          -12.254420332520706
                        ],
                        [
                          -45.83593537888417,
                          -12.254411438024723
                        ],
                        [
                          -45.835983207820036,
                          -12.254401707120063
                        ],
                        [
                          -45.836030860788846,
                          -12.254391142713603
                        ],
                        [
                          -45.8360783233506,
                          -12.254379747963135
                        ],
                        [
                          -45.836125581127604,
                          -12.25436752627358
                        ],
                        [
                          -45.8361726197939,
                          -12.254354481299574
                        ],
                        [
                          -45.836219425088245,
                          -12.25434061694257
                        ],
                        [
                          -45.83626598282028,
                          -12.254325937349009
                        ],
                        [
                          -45.836312278864156,
                          -12.254310446912545
                        ],
                        [
                          -45.836358299174776,
                          -12.25429415026916
                        ],
                        [
                          -45.83640402978448,
                          -12.254277052298322
                        ],
                        [
                          -45.83644945680979,
                          -12.25425915812096
                        ],
                        [
                          -45.836494566452075,
                          -12.254240473099362
                        ],
                        [
                          -45.8365393450091,
                          -12.254221002832939
                        ],
                        [
                          -45.83658377887181,
                          -12.254200753159687
                        ],
                        [
                          -45.83662785452871,
                          -12.254179730154696
                        ],
                        [
                          -45.83667155857824,
                          -12.254157940124735
                        ],
                        [
                          -45.83671487772107,
                          -12.254135389612033
                        ],
                        [
                          -45.83675779877264,
                          -12.254112085388599
                        ],
                        [
                          -45.83680030866584,
                          -12.254088034454814
                        ],
                        [
                          -45.83684239444831,
                          -12.254063244041479
                        ],
                        [
                          -45.83688404329782,
                          -12.254037721601307
                        ],
                        [
                          -45.836925242516735,
                          -12.254011474812362
                        ],
                        [
                          -45.836965979537794,
                          -12.253984511575105
                        ],
                        [
                          -45.837006241933125,
                          -12.25395684000687
                        ],
                        [
                          -45.83704601741253,
                          -12.253928468443252
                        ],
                        [
                          -45.837085293827506,
                          -12.253899405435828
                        ],
                        [
                          -45.83712405917957,
                          -12.253869659746595
                        ],
                        [
                          -45.83716230162051,
                          -12.25383924034793
                        ],
                        [
                          -45.83720000945512,
                          -12.253808156421112
                        ],
                        [
                          -45.837237171148594,
                          -12.25377641735066
                        ],
                        [
                          -45.83727377532553,
                          -12.25374403272568
                        ],
                        [
                          -45.83730981077971,
                          -12.25371101233182
                        ],
                        [
                          -45.837345266472006,
                          -12.25367736615335
                        ],
                        [
                          -45.83738013153482,
                          -12.253643104369909
                        ],
                        [
                          -45.83741439528102,
                          -12.25360823734799
                        ],
                        [
                          -45.837448047197874,
                          -12.253572775647637
                        ],
                        [
                          -45.837481076960714,
                          -12.253536730008781
                        ],
                        [
                          -45.83751347442758,
                          -12.253500111357353
                        ],
                        [
                          -45.8375452296487,
                          -12.253462930795454
                        ],
                        [
                          -45.837576332867314,
                          -12.253425199600642
                        ],
                        [
                          -45.8376067745207,
                          -12.253386929225385
                        ],
                        [
                          -45.83763654524873,
                          -12.253348131287114
                        ],
                        [
                          -45.83766563589106,
                          -12.253308817571998
                        ],
                        [
                          -45.83769403749532,
                          -12.253269000024872
                        ],
                        [
                          -45.837721741315725,
                          -12.253228690751637
                        ],
                        [
                          -45.83774873881908,
                          -12.253187902011101
                        ],
                        [
                          -45.837775021686234,
                          -12.253146646213507
                        ],
                        [
                          -45.83780058181548,
                          -12.253104935915767
                        ],
                        [
                          -45.837825411324125,
                          -12.253062783819496
                        ],
                        [
                          -45.837849502553375,
                          -12.253020202763425
                        ],
                        [
                          -45.83787284806838,
                          -12.252977205723928
                        ],
                        [
                          -45.837895440662116,
                          -12.252933805808487
                        ],
                        [
                          -45.837917273357995,
                          -12.252890016251637
                        ],
                        [
                          -45.8379383394119,
                          -12.252845850411177
                        ],
                        [
                          -45.837958632314056,
                          -12.25280132176516
                        ],
                        [
                          -45.83797814579198,
                          -12.252756443906074
                        ],
                        [
                          -45.83799687381248,
                          -12.252711230537006
                        ],
                        [
                          -45.83801481058298,
                          -12.252665695468941
                        ],
                        [
                          -45.838031950554715,
                          -12.25261985261385
                        ],
                        [
                          -45.83804828842361,
                          -12.252573715982603
                        ],
                        [
                          -45.838063819132714,
                          -12.252527299679125
                        ],
                        [
                          -45.838078537873756,
                          -12.25248061789651
                        ],
                        [
                          -45.83809244008871,
                          -12.252433684912763
                        ],
                        [
                          -45.83810552147151,
                          -12.252386515085945
                        ],
                        [
                          -45.83811777796955,
                          -12.252339122849556
                        ],
                        [
                          -45.83812920578492,
                          -12.252291522708564
                        ],
                        [
                          -45.838139801376016,
                          -12.252243729233628
                        ],
                        [
                          -45.83814956145845,
                          -12.252195757058074
                        ],
                        [
                          -45.83815848300639,
                          -12.252147620872012
                        ],
                        [
                          -45.83816656325361,
                          -12.252099335417912
                        ],
                        [
                          -45.83817379969444,
                          -12.252050915485821
                        ],
                        [
                          -45.838180190084515,
                          -12.252002375909534
                        ],
                        [
                          -45.83818573244171,
                          -12.251953731560727
                        ],
                        [
                          -45.83819042504682,
                          -12.251904997344491
                        ],
                        [
                          -45.83819426644407,
                          -12.251856188194989
                        ],
                        [
                          -45.83819725544169,
                          -12.251807319070368
                        ],
                        [
                          -45.83819939111235,
                          -12.251758404947838
                        ],
                        [
                          -45.838200672793405,
                          -12.251709460819123
                        ],
                        [
                          -45.83820110008721,
                          -12.25166050168558
                        ],
                        [
                          -45.83820067286123,
                          -12.251611542553333
                        ],
                        [
                          -45.83819939124804,
                          -12.251562598428544
                        ],
                        [
                          -45.83819725564536,
                          -12.251513684312405
                        ],
                        [
                          -45.83819426671585,
                          -12.251464815196773
                        ],
                        [
                          -45.83819042538692,
                          -12.251416006058896
                        ],
                        [
                          -45.83818573285034,
                          -12.251367271856571
                        ],
                        [
                          -45.83818019056194,
                          -12.251318627524045
                        ],
                        [
                          -45.838173800241,
                          -12.251270087966503
                        ],
                        [
                          -45.83816656386964,
                          -12.251221668055441
                        ],
                        [
                          -45.83815848369222,
                          -12.251173382624298
                        ],
                        [
                          -45.83814956221446,
                          -12.251125246463173
                        ],
                        [
                          -45.838139802202626,
                          -12.251077274314591
                        ],
                        [
                          -45.83812920668254,
                          -12.251029480868512
                        ],
                        [
                          -45.8381177789386,
                          -12.250981880758072
                        ],
                        [
                          -45.83810552251233,
                          -12.25093448855343
                        ],
                        [
                          -45.838092441201766,
                          -12.250887318760123
                        ],
                        [
                          -45.83807853905933,
                          -12.250840385810848
                        ],
                        [
                          -45.838063820391234,
                          -12.250793704064048
                        ],
                        [
                          -45.83804828975518,
                          -12.25074728779677
                        ],
                        [
                          -45.83803195195982,
                          -12.250701151203106
                        ],
                        [
                          -45.8380148120617,
                          -12.250655308385939
                        ],
                        [
                          -45.837996875364794,
                          -12.250609773355857
                        ],
                        [
                          -45.83797814741824,
                          -12.250564560025678
                        ],
                        [
                          -45.83795863401386,
                          -12.250519682204768
                        ],
                        [
                          -45.83793834118544,
                          -12.250475153597534
                        ],
                        [
                          -45.83791727520475,
                          -12.250430987794934
                        ],
                        [
                          -45.837895442581924,
                          -12.250387198275869
                        ],
                        [
                          -45.83787285006042,
                          -12.25034379839691
                        ],
                        [
                          -45.83784950461765,
                          -12.250300801394204
                        ],
                        [
                          -45.83782541345971,
                          -12.250258220373622
                        ],
                        [
                          -45.83780058402101,
                          -12.250216068310854
                        ],
                        [
                          -45.837775023961264,
                          -12.250174358046333
                        ],
                        [
                          -45.83774874116219,
                          -12.250133102280184
                        ],
                        [
                          -45.837721743725034,
                          -12.250092313568715
                        ],
                        [
                          -45.837694039970195,
                          -12.250052004324138
                        ],
                        [
                          -45.83766563842958,
                          -12.25001218680355
                        ],
                        [
                          -45.837636547848334,
                          -12.249972873112076
                        ],
                        [
                          -45.83760677717995,
                          -12.24993407519625
                        ],
                        [
                          -45.83757633558351,
                          -12.249895804840698
                        ],
                        [
                          -45.837545232420275,
                          -12.249858073664456
                        ],
                        [
                          -45.83751347725116,
                          -12.249820893117885
                        ],
                        [
                          -45.83748107983315,
                          -12.249784274479055
                        ],
                        [
                          -45.83744805011693,
                          -12.24974822885121
                        ],
                        [
                          -45.837414398242366,
                          -12.249712767158208
                        ],
                        [
                          -45.837380134536886,
                          -12.24967790014304
                        ],
                        [
                          -45.837345269509655,
                          -12.249643638362237
                        ],
                        [
                          -45.83730981384932,
                          -12.24960999218404
                        ],
                        [
                          -45.83727377842426,
                          -12.249576971788896
                        ],
                        [
                          -45.83723717427062,
                          -12.249544587158608
                        ],
                        [
                          -45.837200012597215,
                          -12.249512848081286
                        ],
                        [
                          -45.83716230477852,
                          -12.249481764145415
                        ],
                        [
                          -45.83712406234866,
                          -12.249451344735103
                        ],
                        [
                          -45.83708529700207,
                          -12.249421599031239
                        ],
                        [
                          -45.837046020588375,
                          -12.249392536007468
                        ],
                        [
                          -45.83700624510546,
                          -12.249364164425481
                        ],
                        [
                          -45.83696598270089,
                          -12.249336492836399
                        ],
                        [
                          -45.83692524566609,
                          -12.249309529576827
                        ],
                        [
                          -45.836884046427606,
                          -12.249283282763388
                        ],
                        [
                          -45.83684239755417,
                          -12.249257760297645
                        ],
                        [
                          -45.83680031174015,
                          -12.249232969855889
                        ],
                        [
                          -45.83675780181299,
                          -12.249208918894055
                        ],
                        [
                          -45.83671488071959,
                          -12.24918561463995
                        ],
                        [
                          -45.836671561529336,
                          -12.249163064095482
                        ],
                        [
                          -45.83662785742874,
                          -12.249141274033754
                        ],
                        [
                          -45.836583781713706,
                          -12.249120250995475
                        ],
                        [
                          -45.83653934778825,
                          -12.249100001288735
                        ],
                        [
                          -45.83649456916331,
                          -12.249080530988504
                        ],
                        [
                          -45.836449459446676,
                          -12.249061845932399
                        ],
                        [
                          -45.83640403234232,
                          -12.249043951720676
                        ],
                        [
                          -45.8363583016491,
                          -12.2490268537159
                        ],
                        [
                          -45.836312281248794,
                          -12.249010557038462
                        ],
                        [
                          -45.83626598511014,
                          -12.248995066568357
                        ],
                        [
                          -45.836219427280646,
                          -12.248980386942474
                        ],
                        [
                          -45.836172621881815,
                          -12.24896652255322
                        ],
                        [
                          -45.83612558310826,
                          -12.248953477548424
                        ],
                        [
                          -45.83607832522001,
                          -12.24894125582929
                        ],
                        [
                          -45.836030862542074,
                          -12.248929861050334
                        ],
                        [
                          -45.83598320945314,
                          -12.248919296616796
                        ],
                        [
                          -45.835935380394154,
                          -12.248909565686768
                        ],
                        [
                          -45.835887389849454,
                          -12.248900671167124
                        ],
                        [
                          -45.83583925235497,
                          -12.248892615715297
                        ],
                        [
                          -45.83579098248263,
                          -12.24888540173668
                        ],
                        [
                          -45.83574259484874,
                          -12.248879031385998
                        ],
                        [
                          -45.83569410409893,
                          -12.248873506565099
                        ],
                        [
                          -45.83564552490806,
                          -12.24886882892323
                        ],
                        [
                          -45.83559687197981,
                          -12.248864999856929
                        ],
                        [
                          -45.83554816003545,
                          -12.248862020508978
                        ],
                        [
                          -45.835499403814374,
                          -12.248859891768577
                        ],
                        [
                          -45.83545061806936,
                          -12.24885861427106
                        ],
                        [
                          -45.8354018175583,
                          -12.248858188397625
                        ]
                      ]
                    ],
                    "type": "Polygon"
                  },
                  "id": "61",
                  "properties": {
                    "Apr_2020": "Uncultivated soil",
                    "Aug_2020": "Corn",
                    "Dec_2019": "Soybean",
                    "Feb_2020": "Soybean",
                    "Jan_2020": "Soybean",
                    "Jul_2020": "Corn",
                    "Jun_2020": "Corn",
                    "Mar_2020": "Uncultivated soil",
                    "May_2020": "Corn",
                    "Note": null,
                    "Nov_2019": "Uncultivated soil",
                    "Oct_2019": "Uncultivated soil",
                    "Sep_2020": "Uncultivated soil",
                    "id": "458"
                  },
                  "type": "Feature"
                },
                {
                  "geometry": {
                    "coordinates": [
                      [
                        [
                          -45.96075784854485,
                          -12.328121588961215
                        ],
                        [
                          -45.946082747629106,
                          -12.326229020660497
                        ],
                        [
                          -45.94607143136475,
                          -12.326328342839476
                        ],
                        [
                          -45.946059044666505,
                          -12.326456984552948
                        ],
                        [
                          -45.94604890492537,
                          -12.326585823324113
                        ],
                        [
                          -45.946041015252135,
                          -12.326714819815555
                        ],
                        [
                          -45.94603537806733,
                          -12.326843934640975
                        ],
                        [
                          -45.9460319951005,
                          -12.326973128377327
                        ],
                        [
                          -45.9460308673896,
                          -12.327102361576845
                        ],
                        [
                          -45.94603199528073,
                          -12.327231594779636
                        ],
                        [
                          -45.94603537842791,
                          -12.327360788525768
                        ],
                        [
                          -45.94604101579328,
                          -12.327489903367484
                        ],
                        [
                          -45.94604890564744,
                          -12.327618899881559
                        ],
                        [
                          -45.94605904556995,
                          -12.327747738681605
                        ],
                        [
                          -45.94607143245014,
                          -12.327876380430338
                        ],
                        [
                          -45.94608606248807,
                          -12.328004785851203
                        ],
                        [
                          -45.946102931195874,
                          -12.328132915741637
                        ],
                        [
                          -45.946122033399035,
                          -12.328260730984338
                        ],
                        [
                          -45.9461433632382,
                          -12.328388192559887
                        ],
                        [
                          -45.94616691417098,
                          -12.32851526155876
                        ],
                        [
                          -45.946192678974064,
                          -12.328641899193098
                        ],
                        [
                          -45.94622064974553,
                          -12.328768066808987
                        ],
                        [
                          -45.946250817907554,
                          -12.328893725899034
                        ],
                        [
                          -45.946283174208894,
                          -12.329018838113168
                        ],
                        [
                          -45.94631770872796,
                          -12.329143365270847
                        ],
                        [
                          -45.946354410876225,
                          -12.329267269373865
                        ],
                        [
                          -45.946393269401234,
                          -12.329390512616525
                        ],
                        [
                          -45.946434272390455,
                          -12.329513057398284
                        ],
                        [
                          -45.946477407275374,
                          -12.329634866336196
                        ],
                        [
                          -45.94652266083474,
                          -12.329755902273964
                        ],
                        [
                          -45.946570019199484,
                          -12.329876128295622
                        ],
                        [
                          -45.94661946785733,
                          -12.329995507737031
                        ],
                        [
                          -45.946670991656,
                          -12.330114004193844
                        ],
                        [
                          -45.94672457481071,
                          -12.330231581538815
                        ],
                        [
                          -45.94678020090593,
                          -12.330348203925475
                        ],
                        [
                          -45.946837852903805,
                          -12.330463835806304
                        ],
                        [
                          -45.9468975131468,
                          -12.330578441937343
                        ],
                        [
                          -45.94695916336598,
                          -12.330691987394735
                        ],
                        [
                          -45.9470227846841,
                          -12.330804437579944
                        ],
                        [
                          -45.94708835762432,
                          -12.330915758235422
                        ],
                        [
                          -45.9471558621138,
                          -12.331025915450391
                        ],
                        [
                          -45.94722527749271,
                          -12.331134875675714
                        ],
                        [
                          -45.947296582517694,
                          -12.331242605729106
                        ],
                        [
                          -45.94736975537273,
                          -12.331349072811644
                        ],
                        [
                          -45.94744477367099,
                          -12.331454244510072
                        ],
                        [
                          -45.94752161446632,
                          -12.331558088813237
                        ],
                        [
                          -45.947600254258916,
                          -12.331660574119251
                        ],
                        [
                          -45.94768066900079,
                          -12.331761669242676
                        ],
                        [
                          -45.94776283410697,
                          -12.331861343428667
                        ],
                        [
                          -45.947846724460604,
                          -12.331959566358758
                        ],
                        [
                          -45.94793231442217,
                          -12.332056308161688
                        ],
                        [
                          -45.94801957783529,
                          -12.332151539419767
                        ],
                        [
                          -45.94810848803956,
                          -12.332245231182982
                        ],
                        [
                          -45.94819901787342,
                          -12.332337354971543
                        ],
                        [
                          -45.94829113968612,
                          -12.332427882788254
                        ],
                        [
                          -45.94838482534668,
                          -12.332516787127044
                        ],
                        [
                          -45.94848004624908,
                          -12.33260404097768
                        ],
                        [
                          -45.948576773324994,
                          -12.332689617837536
                        ],
                        [
                          -45.94867497705153,
                          -12.332773491718182
                        ],
                        [
                          -45.948774627459414,
                          -12.332855637152278
                        ],
                        [
                          -45.9488756941445,
                          -12.332936029202859
                        ],
                        [
                          -45.94897814627352,
                          -12.33301464346788
                        ],
                        [
                          -45.94908195259863,
                          -12.333091456091294
                        ],
                        [
                          -45.949187081461325,
                          -12.333166443765695
                        ],
                        [
                          -45.949293500807975,
                          -12.333239583743476
                        ],
                        [
                          -45.94940117819616,
                          -12.333310853840908
                        ],
                        [
                          -45.949510080803364,
                          -12.333380232443796
                        ],
                        [
                          -45.94962017544216,
                          -12.333447698517226
                        ],
                        [
                          -45.949731428564455,
                          -12.333513231607887
                        ],
                        [
                          -45.94984380627755,
                          -12.33357681185355
                        ],
                        [
                          -45.94995727434897,
                          -12.333638419985588
                        ],
                        [
                          -45.95007179821999,
                          -12.333698037336422
                        ],
                        [
                          -45.95018734301752,
                          -12.333755645845496
                        ],
                        [
                          -45.950303873561055,
                          -12.333811228062654
                        ],
                        [
                          -45.95042135437389,
                          -12.33386476715357
                        ],
                        [
                          -45.95053974969844,
                          -12.333916246906638
                        ],
                        [
                          -45.95065902350213,
                          -12.33396565173534
                        ],
                        [
                          -45.95077913948891,
                          -12.334012966683042
                        ],
                        [
                          -45.95090006111361,
                          -12.334058177428831
                        ],
                        [
                          -45.951021751586865,
                          -12.334101270288915
                        ],
                        [
                          -45.951144173894185,
                          -12.334142232223893
                        ],
                        [
                          -45.951267290799336,
                          -12.334181050839378
                        ],
                        [
                          -45.95139106486303,
                          -12.334217714392134
                        ],
                        [
                          -45.95151545844448,
                          -12.334252211790528
                        ],
                        [
                          -45.951640433724606,
                          -12.334284532601004
                        ],
                        [
                          -45.9517659527043,
                          -12.334314667047595
                        ],
                        [
                          -45.95189197722967,
                          -12.334342606018133
                        ],
                        [
                          -45.95201846899201,
                          -12.334368341064135
                        ],
                        [
                          -45.952145389543276,
                          -12.33439186440413
                        ],
                        [
                          -45.95227270031003,
                          -12.33441316892636
                        ],
                        [
                          -45.952400362603655,
                          -12.334432248190437
                        ],
                        [
                          -45.95252833762738,
                          -12.33444909642846
                        ],
                        [
                          -45.952656586493674,
                          -12.334463708547606
                        ],
                        [
                          -45.9527850702334,
                          -12.334476080131209
                        ],
                        [
                          -45.952913749809156,
                          -12.334486207440046
                        ],
                        [
                          -45.95304258612115,
                          -12.334494087413066
                        ],
                        [
                          -45.95317154002883,
                          -12.334499717668848
                        ],
                        [
                          -45.953300572351345,
                          -12.334503096505665
                        ],
                        [
                          -45.953429643887546,
                          -12.334504222902414
                        ],
                        [
                          -45.95355871542384,
                          -12.334503096518691
                        ],
                        [
                          -45.9536877477479,
                          -12.334499717694838
                        ],
                        [
                          -45.953816701655846,
                          -12.33449408745209
                        ],
                        [
                          -45.95394553796966,
                          -12.334486207491981
                        ],
                        [
                          -45.95407421754725,
                          -12.334476080196042
                        ],
                        [
                          -45.95420270129074,
                          -12.334463708625107
                        ],
                        [
                          -45.95433095015935,
                          -12.33444909651871
                        ],
                        [
                          -45.95445892518671,
                          -12.33443224829323
                        ],
                        [
                          -45.9545865874829,
                          -12.334413169041811
                        ],
                        [
                          -45.95471389825523,
                          -12.33439186453166
                        ],
                        [
                          -45.95484081881225,
                          -12.334368341203637
                        ],
                        [
                          -45.95496731057837,
                          -12.33434260616989
                        ],
                        [
                          -45.95509333510957,
                          -12.33431466721109
                        ],
                        [
                          -45.95521885409631,
                          -12.334284532775856
                        ],
                        [
                          -45.9553438293821,
                          -12.334252211976947
                        ],
                        [
                          -45.95546822297139,
                          -12.334217714589421
                        ],
                        [
                          -45.9555919970407,
                          -12.33418105104804
                        ],
                        [
                          -45.95571511395541,
                          -12.334142232442598
                        ],
                        [
                          -45.95583753626973,
                          -12.334101270518332
                        ],
                        [
                          -45.95595922675243,
                          -12.334058177667934
                        ],
                        [
                          -45.956080148384714,
                          -12.334012966932379
                        ],
                        [
                          -45.9562002643818,
                          -12.333965651993665
                        ],
                        [
                          -45.95631953819386,
                          -12.33391624717457
                        ],
                        [
                          -45.956437933528456,
                          -12.3338647674302
                        ],
                        [
                          -45.95655541435235,
                          -12.333811228347315
                        ],
                        [
                          -45.95667194490475,
                          -12.333755646138982
                        ],
                        [
                          -45.95678748971397,
                          -12.333698037637147
                        ],
                        [
                          -45.95690201359551,
                          -12.333638420293918
                        ],
                        [
                          -45.957015481679036,
                          -12.333576812168396
                        ],
                        [
                          -45.95712785940247,
                          -12.333513231929945
                        ],
                        [
                          -45.95723911253684,
                          -12.333447698845275
                        ],
                        [
                          -45.95734920718785,
                          -12.333380232777435
                        ],
                        [
                          -45.957458109806964,
                          -12.333310854180073
                        ],
                        [
                          -45.95756578720701,
                          -12.333239584087881
                        ],
                        [
                          -45.95767220656625,
                          -12.333166444114532
                        ],
                        [
                          -45.957777335442074,
                          -12.333091456443888
                        ],
                        [
                          -45.9578811417799,
                          -12.333014643824171
                        ],
                        [
                          -45.95798359392106,
                          -12.33293602956296
                        ],
                        [
                          -45.958084660619434,
                          -12.332855637514928
                        ],
                        [
                          -45.958184311040576,
                          -12.332773492083017
                        ],
                        [
                          -45.958282514780315,
                          -12.332689618204226
                        ],
                        [
                          -45.95837924186938,
                          -12.332604041345848
                        ],
                        [
                          -45.95847446278459,
                          -12.332516787496628
                        ],
                        [
                          -45.958568148458596,
                          -12.332427883158221
                        ],
                        [
                          -45.95866027028461,
                          -12.332337355341563
                        ],
                        [
                          -45.958750800131654,
                          -12.332245231552726
                        ],
                        [
                          -45.958839710349125,
                          -12.33215153978875
                        ],
                        [
                          -45.95892697377574,
                          -12.332056308529094
                        ],
                        [
                          -45.95901256375015,
                          -12.331959566724834
                        ],
                        [
                          -45.95909645411664,
                          -12.331861343792847
                        ],
                        [
                          -45.959178619235864,
                          -12.331761669604193
                        ],
                        [
                          -45.959259033990946,
                          -12.331660574477327
                        ],
                        [
                          -45.95933767379599,
                          -12.331558089168244
                        ],
                        [
                          -45.959414514603935,
                          -12.331454244861241
                        ],
                        [
                          -45.959489532914986,
                          -12.331349073158059
                        ],
                        [
                          -45.959562705781806,
                          -12.331242606071552
                        ],
                        [
                          -45.959634010819514,
                          -12.331134876012115
                        ],
                        [
                          -45.95970342620984,
                          -12.331025915782078
                        ],
                        [
                          -45.95977093071133,
                          -12.330915758560721
                        ],
                        [
                          -45.959836503662956,
                          -12.33080443789909
                        ],
                        [
                          -45.95990012499234,
                          -12.330691987707194
                        ],
                        [
                          -45.959961775222354,
                          -12.330578442243048
                        ],
                        [
                          -45.96002143547649,
                          -12.330463836103785
                        ],
                        [
                          -45.96007908748448,
                          -12.330348204215934
                        ],
                        [
                          -45.960134713590165,
                          -12.330231581820511
                        ],
                        [
                          -45.9601882967545,
                          -12.33011400446766
                        ],
                        [
                          -45.960239820563075,
                          -12.329995508001295
                        ],
                        [
                          -45.96028926922992,
                          -12.329876128551392
                        ],
                        [
                          -45.96033662760364,
                          -12.329755902520189
                        ],
                        [
                          -45.96038188117162,
                          -12.329634866572569
                        ],
                        [
                          -45.96042501606476,
                          -12.329513057624714
                        ],
                        [
                          -45.96046601906193,
                          -12.329390512832417
                        ],
                        [
                          -45.96050487759442,
                          -12.32926726957932
                        ],
                        [
                          -45.96054157974977,
                          -12.329143365465619
                        ],
                        [
                          -45.96057611427557,
                          -12.329018838296912
                        ],
                        [
                          -45.960608470583246,
                          -12.32889372607153
                        ],
                        [
                          -45.96063863875115,
                          -12.32876806697022
                        ],
                        [
                          -45.96066660952821,
                          -12.328641899342362
                        ],
                        [
                          -45.96069237433638,
                          -12.328515261696253
                        ],
                        [
                          -45.96071592527379,
                          -12.32838819268568
                        ],
                        [
                          -45.960737255117245,
                          -12.328260731097739
                        ],
                        [
                          -45.960756357324215,
                          -12.328132915842847
                        ],
                        [
                          -45.96075784854485,
                          -12.328121588961215
                        ]
                      ]
                    ],
                    "type": "Polygon"
                  },
                  "id": "62",
                  "properties": {
                    "Apr_2020": "Uncultivated soil",
                    "Aug_2020": "Corn",
                    "Dec_2019": "Soybean",
                    "Feb_2020": "Soybean",
                    "Jan_2020": "Soybean",
                    "Jul_2020": "Corn",
                    "Jun_2020": "Corn",
                    "Mar_2020": "Uncultivated soil",
                    "May_2020": "Corn",
                    "Note": null,
                    "Nov_2019": "Uncultivated soil",
                    "Oct_2019": "Not identified",
                    "Sep_2020": "Corn",
                    "id": "1599"
                  },
                  "type": "Feature"
                },
                {
                  "geometry": {
                    "coordinates": [
                      [
                        [
                          -45.94518855462204,
                          -12.32573480644387
                        ],
                        [
                          -45.945188972308536,
                          -12.325729499279639
                        ],
                        [
                          -45.945196869539096,
                          -12.325600382176725
                        ],
                        [
                          -45.94520251217496,
                          -12.325471146635895
                        ],
                        [
                          -45.94520589848509,
                          -12.325341832117239
                        ],
                        [
                          -45.94520702743067,
                          -12.32521247810501
                        ],
                        [
                          -45.94520589866545,
                          -12.325083124096118
                        ],
                        [
                          -45.9452025125358,
                          -12.324953809587196
                        ],
                        [
                          -45.94519687008065,
                          -12.324824574062697
                        ],
                        [
                          -45.94518897303115,
                          -12.324695456982424
                        ],
                        [
                          -45.945178823810075,
                          -12.324566497769478
                        ],
                        [
                          -45.94516642553108,
                          -12.324437735797758
                        ],
                        [
                          -45.94515178199769,
                          -12.324309210380022
                        ],
                        [
                          -45.94513489770205,
                          -12.324180960755388
                        ],
                        [
                          -45.94511577782348,
                          -12.324053026077145
                        ],
                        [
                          -45.945094428226916,
                          -12.323925445401262
                        ],
                        [
                          -45.94507085546079,
                          -12.323798257673142
                        ],
                        [
                          -45.94504506675509,
                          -12.323671501716044
                        ],
                        [
                          -45.9450170700191,
                          -12.323545216219932
                        ],
                        [
                          -45.94498687383872,
                          -12.323419439728337
                        ],
                        [
                          -45.9449544874735,
                          -12.32329421062574
                        ],
                        [
                          -45.94491992085443,
                          -12.323169567128865
                        ],
                        [
                          -45.94488318457953,
                          -12.323045547270095
                        ],
                        [
                          -45.94484428991175,
                          -12.322922188890539
                        ],
                        [
                          -45.94480324877456,
                          -12.32279952962532
                        ],
                        [
                          -45.94476007374794,
                          -12.322677606891792
                        ],
                        [
                          -45.94471477806533,
                          -12.322556457880651
                        ],
                        [
                          -45.94466737560828,
                          -12.322436119541397
                        ],
                        [
                          -45.94461788090283,
                          -12.32231662857321
                        ],
                        [
                          -45.94456630911417,
                          -12.322198021411769
                        ],
                        [
                          -45.94451267604268,
                          -12.322080334220365
                        ],
                        [
                          -45.94445699811752,
                          -12.321963602875556
                        ],
                        [
                          -45.944399292393534,
                          -12.321847862960794
                        ],
                        [
                          -45.944339576542916,
                          -12.321733149749594
                        ],
                        [
                          -45.944277868852396,
                          -12.321619498200329
                        ],
                        [
                          -45.94421418821544,
                          -12.321506942941664
                        ],
                        [
                          -45.94414855412737,
                          -12.321395518264197
                        ],
                        [
                          -45.94408098667875,
                          -12.321285258109057
                        ],
                        [
                          -45.944011506548776,
                          -12.321176196057321
                        ],
                        [
                          -45.94394013499904,
                          -12.321068365320311
                        ],
                        [
                          -45.94386689386711,
                          -12.320961798729886
                        ],
                        [
                          -45.94379180555838,
                          -12.320856528726631
                        ],
                        [
                          -45.943714893040706,
                          -12.320752587352665
                        ],
                        [
                          -45.94363617983601,
                          -12.320650006240111
                        ],
                        [
                          -45.94355569001282,
                          -12.32054881660158
                        ],
                        [
                          -45.94347344817951,
                          -12.320449049221786
                        ],
                        [
                          -45.94338947947461,
                          -12.320350734446023
                        ],
                        [
                          -45.94330380956349,
                          -12.320253902176198
                        ],
                        [
                          -45.943216464623184,
                          -12.320158581853821
                        ],
                        [
                          -45.94312747134081,
                          -12.320064802458564
                        ],
                        [
                          -45.94303685690195,
                          -12.319972592496004
                        ],
                        [
                          -45.94294464898261,
                          -12.319881979989505
                        ],
                        [
                          -45.94285087573949,
                          -12.319792992470969
                        ],
                        [
                          -45.94275556580556,
                          -12.319705656976634
                        ],
                        [
                          -45.942658748274695,
                          -12.319620000033026
                        ],
                        [
                          -45.9425604526979,
                          -12.319536047653985
                        ],
                        [
                          -45.94246070907075,
                          -12.319453825329848
                        ],
                        [
                          -45.94235954782768,
                          -12.319373358022997
                        ],
                        [
                          -45.94225699982779,
                          -12.319294670156534
                        ],
                        [
                          -45.94215309634961,
                          -12.319217785610563
                        ],
                        [
                          -45.94204786908009,
                          -12.319142727714052
                        ],
                        [
                          -45.94194135010226,
                          -12.319069519236045
                        ],
                        [
                          -45.941833571889845,
                          -12.31899818238228
                        ],
                        [
                          -45.9417245672953,
                          -12.318928738787301
                        ],
                        [
                          -45.941614369536076,
                          -12.318861209505554
                        ],
                        [
                          -45.94150301219255,
                          -12.318795615010691
                        ],
                        [
                          -45.941390529188425,
                          -12.318731975183617
                        ],
                        [
                          -45.94127695478873,
                          -12.318670309311852
                        ],
                        [
                          -45.94116232358365,
                          -12.318610636080539
                        ],
                        [
                          -45.94104667047994,
                          -12.318552973568188
                        ],
                        [
                          -45.940930030691234,
                          -12.318497339241885
                        ],
                        [
                          -45.94081243972591,
                          -12.31844374995152
                        ],
                        [
                          -45.940693933377396,
                          -12.318392221925414
                        ],
                        [
                          -45.94057454771038,
                          -12.318342770764502
                        ],
                        [
                          -45.94045431905644,
                          -12.318295411440413
                        ],
                        [
                          -45.94033328399521,
                          -12.318250158288153
                        ],
                        [
                          -45.94021147934946,
                          -12.31820702500423
                        ],
                        [
                          -45.940088942171364,
                          -12.318166024641863
                        ],
                        [
                          -45.939965709728554,
                          -12.318127169606187
                        ],
                        [
                          -45.939841819500565,
                          -12.318090471653475
                        ],
                        [
                          -45.93971730916017,
                          -12.318055941885154
                        ],
                        [
                          -45.93959221656646,
                          -12.318023590746105
                        ],
                        [
                          -45.93946657974898,
                          -12.317993428020495
                        ],
                        [
                          -45.93934043690304,
                          -12.31796546283064
                        ],
                        [
                          -45.939213826373624,
                          -12.317939703633327
                        ],
                        [
                          -45.93908678664165,
                          -12.317916158216885
                        ],
                        [
                          -45.938959356320936,
                          -12.317894833700832
                        ],
                        [
                          -45.938831574137375,
                          -12.317875736531906
                        ],
                        [
                          -45.93870347892379,
                          -12.317858872483564
                        ],
                        [
                          -45.93857510960333,
                          -12.317844246653396
                        ],
                        [
                          -45.93844650518557,
                          -12.317831863462928
                        ],
                        [
                          -45.93831770474451,
                          -12.31782172665489
                        ],
                        [
                          -45.938188747414756,
                          -12.317813839293192
                        ],
                        [
                          -45.93805967237897,
                          -12.317808203761915
                        ],
                        [
                          -45.93793051885308,
                          -12.317804821764282
                        ],
                        [
                          -45.93780132607579,
                          -12.317803694322413
                        ],
                        [
                          -45.93767213329806,
                          -12.317804821777102
                        ],
                        [
                          -45.93754297977247,
                          -12.317808203787559
                        ],
                        [
                          -45.9374139047383,
                          -12.317813839331592
                        ],
                        [
                          -45.93728494741119,
                          -12.317821726705944
                        ],
                        [
                          -45.937156146971475,
                          -12.317831863526713
                        ],
                        [
                          -45.937027542555626,
                          -12.317844246729841
                        ],
                        [
                          -45.93689917323917,
                          -12.317858872572348
                        ],
                        [
                          -45.93677107802869,
                          -12.317875736633123
                        ],
                        [
                          -45.936643295848,
                          -12.317894833814453
                        ],
                        [
                          -45.936515865532634,
                          -12.317916158342449
                        ],
                        [
                          -45.93638882580563,
                          -12.31793970377078
                        ],
                        [
                          -45.93626221528051,
                          -12.317965462980077
                        ],
                        [
                          -45.93613607243998,
                          -12.317993428181554
                        ],
                        [
                          -45.93601043563007,
                          -12.318023590918198
                        ],
                        [
                          -45.93588534304092,
                          -12.318055942068884
                        ],
                        [
                          -45.935760832708645,
                          -12.318090471847821
                        ],
                        [
                          -45.93563694248753,
                          -12.318127169811328
                        ],
                        [
                          -45.93551371005257,
                          -12.318166024857359
                        ],
                        [
                          -45.93539117288131,
                          -12.318207025230299
                        ],
                        [
                          -45.935269368245045,
                          -12.31825015852371
                        ],
                        [
                          -45.9351483331916,
                          -12.318295411685906
                        ],
                        [
                          -45.9350281045476,
                          -12.31834277101894
                        ],
                        [
                          -45.934908718889695,
                          -12.318392222188955
                        ],
                        [
                          -45.93479021255025,
                          -12.318443750223953
                        ],
                        [
                          -45.934672621594935,
                          -12.318497339522633
                        ],
                        [
                          -45.934555981816374,
                          -12.318552973856976
                        ],
                        [
                          -45.934440328724214,
                          -12.318610636376436
                        ],
                        [
                          -45.93432569752878,
                          -12.318670309615595
                        ],
                        [
                          -45.934212123141066,
                          -12.31873197549373
                        ],
                        [
                          -45.93409964014795,
                          -12.318795615327447
                        ],
                        [
                          -45.93398828281579,
                          -12.318861209828519
                        ],
                        [
                          -45.93387808506821,
                          -12.318928739116014
                        ],
                        [
                          -45.933769080485234,
                          -12.318998182716527
                        ],
                        [
                          -45.93366130228521,
                          -12.319069519574974
                        ],
                        [
                          -45.93355478332008,
                          -12.319142728057153
                        ],
                        [
                          -45.93344955606225,
                          -12.319217785958237
                        ],
                        [
                          -45.93334565259719,
                          -12.319294670507396
                        ],
                        [
                          -45.933243104610185,
                          -12.319373358376877
                        ],
                        [
                          -45.93314194337912,
                          -12.319453825687104
                        ],
                        [
                          -45.93304219976538,
                          -12.319536048013093
                        ],
                        [
                          -45.93294390420085,
                          -12.319620000394597
                        ],
                        [
                          -45.93284708668355,
                          -12.31970565733912
                        ],
                        [
                          -45.93275177676183,
                          -12.319792992835193
                        ],
                        [
                          -45.932658003532985,
                          -12.319881980353127
                        ],
                        [
                          -45.93256579562602,
                          -12.319972592860402
                        ],
                        [
                          -45.93247518119981,
                          -12.320064802823042
                        ],
                        [
                          -45.93238618793117,
                          -12.32015858221677
                        ],
                        [
                          -45.93229884300347,
                          -12.320253902538356
                        ],
                        [
                          -45.93221317310516,
                          -12.32035073480663
                        ],
                        [
                          -45.932129204413336,
                          -12.320449049580063
                        ],
                        [
                          -45.93204696259276,
                          -12.320548816957373
                        ],
                        [
                          -45.93196647278252,
                          -12.320650006592576
                        ],
                        [
                          -45.93188775958994,
                          -12.320752587702314
                        ],
                        [
                          -45.931810847084726,
                          -12.320856529072447
                        ],
                        [
                          -45.93173575878834,
                          -12.320961799071352
                        ],
                        [
                          -45.93166251766853,
                          -12.321068365657137
                        ],
                        [
                          -45.93159114613088,
                          -12.321176196388874
                        ],
                        [
                          -45.93152166601241,
                          -12.321285258435521
                        ],
                        [
                          -45.931454098575365,
                          -12.321395518584739
                        ],
                        [
                          -45.93138846449891,
                          -12.321506943255528
                        ],
                        [
                          -45.93132478387271,
                          -12.321619498508174
                        ],
                        [
                          -45.931263076193254,
                          -12.321733150050088
                        ],
                        [
                          -45.93120336035314,
                          -12.321847863254144
                        ],
                        [
                          -45.93114565463922,
                          -12.321963603161704
                        ],
                        [
                          -45.9310899767245,
                          -12.322080334497642
                        ],
                        [
                          -45.93103634366242,
                          -12.322198021681405
                        ],
                        [
                          -45.930984771883445,
                          -12.322316628833555
                        ],
                        [
                          -45.93093527718694,
                          -12.322436119793204
                        ],
                        [
                          -45.930887874738794,
                          -12.322556458122861
                        ],
                        [
                          -45.930842579064574,
                          -12.3226776071246
                        ],
                        [
                          -45.93079940404612,
                          -12.322799529848092
                        ],
                        [
                          -45.93075836291667,
                          -12.32292218910321
                        ],
                        [
                          -45.93071946825618,
                          -12.323045547472688
                        ],
                        [
                          -45.93068273198841,
                          -12.323169567320418
                        ],
                        [
                          -45.9306481653759,
                          -12.323294210806688
                        ],
                        [
                          -45.93061577901695,
                          -12.323419439898082
                        ],
                        [
                          -45.93058558284241,
                          -12.323545216378427
                        ],
                        [
                          -45.930557586111796,
                          -12.323671501863336
                        ],
                        [
                          -45.9305317974112,
                          -12.323798257808384
                        ],
                        [
                          -45.93050822464962,
                          -12.323925445525012
                        ],
                        [
                          -45.93049212708266,
                          -12.324021641201147
                        ],
                        [
                          -45.94518855462204,
                          -12.32573480644387
                        ]
                      ]
                    ],
                    "type": "Polygon"
                  },
                  "id": "63",
                  "properties": {
                    "Apr_2020": "Uncultivated soil",
                    "Aug_2020": "Corn",
                    "Dec_2019": "Soybean",
                    "Feb_2020": "Uncultivated soil",
                    "Jan_2020": "Soybean",
                    "Jul_2020": "Corn",
                    "Jun_2020": "Corn",
                    "Mar_2020": "Uncultivated soil",
                    "May_2020": "Corn",
                    "Note": null,
                    "Nov_2019": "Uncultivated soil",
                    "Oct_2019": "Uncultivated soil",
                    "Sep_2020": "Corn",
                    "id": "1600"
                  },
                  "type": "Feature"
                },
                {
                  "geometry": {
                    "coordinates": [
                      [
                        [
                          -45.94321414861458,
                          -12.338790061317988
                        ],
                        [
                          -45.94337942534994,
                          -12.333541595877895
                        ],
                        [
                          -45.94091639435239,
                          -12.333480780425363
                        ],
                        [
                          -45.94085134991344,
                          -12.33790401706952
                        ],
                        [
                          -45.94084236146395,
                          -12.338515260062957
                        ],
                        [
                          -45.941541870522805,
                          -12.338569767073183
                        ],
                        [
                          -45.94156000310235,
                          -12.338572076267884
                        ],
                        [
                          -45.941577812907134,
                          -12.338576144045017
                        ],
                        [
                          -45.94159512394804,
                          -12.338581930208477
                        ],
                        [
                          -45.941611765164524,
                          -12.33858937758176
                        ],
                        [
                          -45.941627572114925,
                          -12.338598412573008
                        ],
                        [
                          -45.941642388601416,
                          -12.33860894590212
                        ],
                        [
                          -45.94165606821347,
                          -12.338620873483093
                        ],
                        [
                          -45.94166847577465,
                          -12.338634077452422
                        ],
                        [
                          -45.94167948867833,
                          -12.338648427333931
                        ],
                        [
                          -45.94168899809928,
                          -12.338663781327899
                        ],
                        [
                          -45.94169691006901,
                          -12.338679987712423
                        ],
                        [
                          -45.941703146404365,
                          -12.338696886342563
                        ],
                        [
                          -45.94170764548006,
                          -12.338714310232886
                        ],
                        [
                          -45.9417103628377,
                          -12.338732087207477
                        ],
                        [
                          -45.941711271625095,
                          -12.338750041601415
                        ],
                        [
                          -45.94171127164172,
                          -12.338774764790232
                        ],
                        [
                          -45.94321414861458,
                          -12.338790061317988
                        ]
                      ]
                    ],
                    "type": "Polygon"
                  },
                  "id": "64",
                  "properties": {
                    "Apr_2020": "Cerrado",
                    "Aug_2020": "Conversion area",
                    "Dec_2019": "Cerrado",
                    "Feb_2020": "Cerrado",
                    "Jan_2020": "Cerrado",
                    "Jul_2020": "Conversion area",
                    "Jun_2020": "Cerrado",
                    "Mar_2020": "Cerrado",
                    "May_2020": "Cerrado",
                    "Note": null,
                    "Nov_2019": "Cerrado",
                    "Oct_2019": "Cerrado",
                    "Sep_2020": "Conversion area",
                    "id": "1601"
                  },
                  "type": "Feature"
                },
                {
                  "geometry": {
                    "coordinates": [
                      [
                        [
                          -45.94054868807824,
                          -12.333467828954717
                        ],
                        [
                          -45.93833624919377,
                          -12.333365568318424
                        ],
                        [
                          -45.93825823985878,
                          -12.33702411611972
                        ],
                        [
                          -45.93834540704509,
                          -12.337278254100744
                        ],
                        [
                          -45.93835049886778,
                          -12.337296059340177
                        ],
                        [
                          -45.93835371429431,
                          -12.337314282802765
                        ],
                        [
                          -45.93840149081518,
                          -12.337701862260658
                        ],
                        [
                          -45.93841820175863,
                          -12.337757010519457
                        ],
                        [
                          -45.94048610201176,
                          -12.33772347936512
                        ],
                        [
                          -45.94054868807824,
                          -12.333467828954717
                        ]
                      ]
                    ],
                    "type": "Polygon"
                  },
                  "id": "65",
                  "properties": {
                    "Apr_2020": "Conversion area",
                    "Aug_2020": "Conversion area",
                    "Dec_2019": "Cerrado",
                    "Feb_2020": "Cerrado",
                    "Jan_2020": "Cerrado",
                    "Jul_2020": "Conversion area",
                    "Jun_2020": "Conversion area",
                    "Mar_2020": "Conversion area",
                    "May_2020": "Conversion area",
                    "Note": null,
                    "Nov_2019": "Cerrado",
                    "Oct_2019": "Cerrado",
                    "Sep_2020": "Conversion area",
                    "id": "1602"
                  },
                  "type": "Feature"
                },
                {
                  "geometry": {
                    "coordinates": [
                      [
                        [
                          -45.983203027513056,
                          -12.321703949439247
                        ],
                        [
                          -45.97341027551604,
                          -12.318844830307603
                        ],
                        [
                          -45.9732467284448,
                          -12.33227857251933
                        ],
                        [
                          -45.982858756308865,
                          -12.335192749338676
                        ],
                        [
                          -45.983203027513056,
                          -12.321703949439247
                        ]
                      ]
                    ],
                    "type": "Polygon"
                  },
                  "id": "66",
                  "properties": {
                    "Apr_2020": "Uncultivated soil",
                    "Aug_2020": "Millet",
                    "Dec_2019": "Uncultivated soil",
                    "Feb_2020": "Soybean",
                    "Jan_2020": "Soybean",
                    "Jul_2020": "Millet",
                    "Jun_2020": "Millet",
                    "Mar_2020": "Uncultivated soil",
                    "May_2020": "Uncultivated soil",
                    "Note": null,
                    "Nov_2019": "Uncultivated soil",
                    "Oct_2019": "Uncultivated soil",
                    "Sep_2020": "Uncultivated soil",
                    "id": "1603"
                  },
                  "type": "Feature"
                },
                {
                  "geometry": {
                    "coordinates": [
                      [
                        [
                          -45.97341485268552,
                          -12.318468879832794
                        ],
                        [
                          -45.983212585566804,
                          -12.321329458210316
                        ],
                        [
                          -45.983390362361206,
                          -12.314364032251923
                        ],
                        [
                          -45.981786993235445,
                          -12.31363267045568
                        ],
                        [
                          -45.97776579916099,
                          -12.312201908565788
                        ],
                        [
                          -45.97775719731924,
                          -12.312198605472902
                        ],
                        [
                          -45.97351251858441,
                          -12.31044660999306
                        ],
                        [
                          -45.97341485268552,
                          -12.318468879832794
                        ]
                      ]
                    ],
                    "type": "Polygon"
                  },
                  "id": "67",
                  "properties": {
                    "Apr_2020": "Uncultivated soil",
                    "Aug_2020": "Uncultivated soil",
                    "Dec_2019": "Uncultivated soil",
                    "Feb_2020": "Soybean",
                    "Jan_2020": "Soybean",
                    "Jul_2020": "Uncultivated soil",
                    "Jun_2020": "Uncultivated soil",
                    "Mar_2020": "Uncultivated soil",
                    "May_2020": "Uncultivated soil",
                    "Note": null,
                    "Nov_2019": "Uncultivated soil",
                    "Oct_2019": "Uncultivated soil",
                    "Sep_2020": "Uncultivated soil",
                    "id": "1604"
                  },
                  "type": "Feature"
                }
              ],
              "type": "FeatureCollection"
            },
            "hover_style": {
              "fillColor": "red",
              "fillOpacity": 0.4
            },
            "layers": [],
            "name": "Shapefile",
            "options": [],
            "pane": "",
            "point_style": {},
            "popup": null,
            "popup_max_height": null,
            "popup_max_width": 300,
            "popup_min_width": 50,
            "style": {
              "color": "blue",
              "fillColor": "green",
              "fillOpacity": 0.2,
              "opacity": 0.8,
              "weight": 1.5
            },
            "subitems": [],
            "visible": true
          }
        },
        "47ced89f7b834dbe923013aa84666fe6": {
          "model_module": "jupyter-leaflet",
          "model_module_version": "^0.19",
          "model_name": "LeafletMapStyleModel",
          "state": {
            "_model_module": "jupyter-leaflet",
            "_model_module_version": "^0.19",
            "_model_name": "LeafletMapStyleModel",
            "_view_count": null,
            "_view_module": "@jupyter-widgets/base",
            "_view_module_version": "1.2.0",
            "_view_name": "StyleView",
            "cursor": "grab"
          }
        },
        "524d4d523cb449a1b1872469ac82c7d4": {
          "model_module": "jupyter-leaflet",
          "model_module_version": "^0.19",
          "model_name": "LeafletAttributionControlModel",
          "state": {
            "_model_module": "jupyter-leaflet",
            "_model_module_version": "^0.19",
            "_model_name": "LeafletAttributionControlModel",
            "_view_count": null,
            "_view_module": "jupyter-leaflet",
            "_view_module_version": "^0.19",
            "_view_name": "LeafletAttributionControlView",
            "options": [
              "position",
              "prefix"
            ],
            "position": "bottomright",
            "prefix": "ipyleaflet"
          }
        },
        "5609213048514fce995f5be77d8b530e": {
          "model_module": "jupyter-leaflet",
          "model_module_version": "^0.19",
          "model_name": "LeafletMapStyleModel",
          "state": {
            "_model_module": "jupyter-leaflet",
            "_model_module_version": "^0.19",
            "_model_name": "LeafletMapStyleModel",
            "_view_count": null,
            "_view_module": "@jupyter-widgets/base",
            "_view_module_version": "1.2.0",
            "_view_name": "StyleView",
            "cursor": "grab"
          }
        },
        "5b0fd63e0f044d1182db9ba4cc827144": {
          "model_module": "@jupyter-widgets/base",
          "model_module_version": "1.2.0",
          "model_name": "LayoutModel",
          "state": {
            "_model_module": "@jupyter-widgets/base",
            "_model_module_version": "1.2.0",
            "_model_name": "LayoutModel",
            "_view_count": null,
            "_view_module": "@jupyter-widgets/base",
            "_view_module_version": "1.2.0",
            "_view_name": "LayoutView",
            "align_content": null,
            "align_items": null,
            "align_self": null,
            "border": null,
            "bottom": null,
            "display": null,
            "flex": null,
            "flex_flow": null,
            "grid_area": null,
            "grid_auto_columns": null,
            "grid_auto_flow": null,
            "grid_auto_rows": null,
            "grid_column": null,
            "grid_gap": null,
            "grid_row": null,
            "grid_template_areas": null,
            "grid_template_columns": null,
            "grid_template_rows": null,
            "height": "500px",
            "justify_content": null,
            "justify_items": null,
            "left": null,
            "margin": null,
            "max_height": null,
            "max_width": null,
            "min_height": null,
            "min_width": null,
            "object_fit": null,
            "object_position": null,
            "order": null,
            "overflow": null,
            "overflow_x": null,
            "overflow_y": null,
            "padding": null,
            "right": null,
            "top": null,
            "visibility": null,
            "width": "80%"
          }
        },
        "5dc567cfe6b24a6da80006d3b67de208": {
          "model_module": "jupyter-leaflet",
          "model_module_version": "^0.19",
          "model_name": "LeafletAttributionControlModel",
          "state": {
            "_model_module": "jupyter-leaflet",
            "_model_module_version": "^0.19",
            "_model_name": "LeafletAttributionControlModel",
            "_view_count": null,
            "_view_module": "jupyter-leaflet",
            "_view_module_version": "^0.19",
            "_view_name": "LeafletAttributionControlView",
            "options": [
              "position",
              "prefix"
            ],
            "position": "bottomright",
            "prefix": "ipyleaflet"
          }
        },
        "60c3851656274d9bb160813cf6da143d": {
          "model_module": "@jupyter-widgets/base",
          "model_module_version": "1.2.0",
          "model_name": "LayoutModel",
          "state": {
            "_model_module": "@jupyter-widgets/base",
            "_model_module_version": "1.2.0",
            "_model_name": "LayoutModel",
            "_view_count": null,
            "_view_module": "@jupyter-widgets/base",
            "_view_module_version": "1.2.0",
            "_view_name": "LayoutView",
            "align_content": null,
            "align_items": null,
            "align_self": null,
            "border": null,
            "bottom": null,
            "display": null,
            "flex": null,
            "flex_flow": null,
            "grid_area": null,
            "grid_auto_columns": null,
            "grid_auto_flow": null,
            "grid_auto_rows": null,
            "grid_column": null,
            "grid_gap": null,
            "grid_row": null,
            "grid_template_areas": null,
            "grid_template_columns": null,
            "grid_template_rows": null,
            "height": "500px",
            "justify_content": null,
            "justify_items": null,
            "left": null,
            "margin": null,
            "max_height": null,
            "max_width": null,
            "min_height": null,
            "min_width": null,
            "object_fit": null,
            "object_position": null,
            "order": null,
            "overflow": null,
            "overflow_x": null,
            "overflow_y": null,
            "padding": null,
            "right": null,
            "top": null,
            "visibility": null,
            "width": "80%"
          }
        },
        "71c53306f8f74231a163057946ea12ac": {
          "model_module": "jupyter-leaflet",
          "model_module_version": "^0.19",
          "model_name": "LeafletTileLayerModel",
          "state": {
            "_model_module": "jupyter-leaflet",
            "_model_module_version": "^0.19",
            "_model_name": "LeafletTileLayerModel",
            "_view_count": null,
            "_view_module": "jupyter-leaflet",
            "_view_module_version": "^0.19",
            "_view_name": "LeafletTileLayerView",
            "attribution": "&copy; <a href=\"https://www.openstreetmap.org/copyright\">OpenStreetMap</a> contributors",
            "base": true,
            "bottom": true,
            "bounds": null,
            "detect_retina": false,
            "loading": false,
            "max_native_zoom": null,
            "max_zoom": 19,
            "min_native_zoom": null,
            "min_zoom": 1,
            "name": "OpenStreetMap.Mapnik",
            "no_wrap": false,
            "opacity": 1,
            "options": [
              "attribution",
              "bounds",
              "detect_retina",
              "max_native_zoom",
              "max_zoom",
              "min_native_zoom",
              "min_zoom",
              "no_wrap",
              "tile_size",
              "tms",
              "zoom_offset"
            ],
            "pane": "",
            "popup": null,
            "popup_max_height": null,
            "popup_max_width": 300,
            "popup_min_width": 50,
            "show_loading": false,
            "subitems": [],
            "tile_size": 256,
            "tms": false,
            "url": "https://tile.openstreetmap.org/{z}/{x}/{y}.png",
            "visible": true,
            "zoom_offset": 0
          }
        },
        "771c57117a8043a683ad14af030b3b8d": {
          "model_module": "jupyter-leaflet",
          "model_module_version": "^0.19",
          "model_name": "LeafletZoomControlModel",
          "state": {
            "_model_module": "jupyter-leaflet",
            "_model_module_version": "^0.19",
            "_model_name": "LeafletZoomControlModel",
            "_view_count": null,
            "_view_module": "jupyter-leaflet",
            "_view_module_version": "^0.19",
            "_view_name": "LeafletZoomControlView",
            "options": [
              "position",
              "zoom_in_text",
              "zoom_in_title",
              "zoom_out_text",
              "zoom_out_title"
            ],
            "position": "topleft",
            "zoom_in_text": "+",
            "zoom_in_title": "Zoom in",
            "zoom_out_text": "-",
            "zoom_out_title": "Zoom out"
          }
        },
        "796020324aa44d9eb124229b8c41c3c6": {
          "model_module": "jupyter-leaflet",
          "model_module_version": "^0.19",
          "model_name": "LeafletMapModel",
          "state": {
            "_dom_classes": [],
            "_model_module": "jupyter-leaflet",
            "_model_module_version": "^0.19",
            "_model_name": "LeafletMapModel",
            "_view_count": null,
            "_view_module": "jupyter-leaflet",
            "_view_module_version": "^0.19",
            "_view_name": "LeafletMapView",
            "bottom": 280528,
            "bounce_at_zoom_limits": true,
            "box_zoom": true,
            "center": [
              -12.354758614865027,
              -45.56442260742188
            ],
            "close_popup_on_click": true,
            "controls": [
              "IPY_MODEL_771c57117a8043a683ad14af030b3b8d",
              "IPY_MODEL_5dc567cfe6b24a6da80006d3b67de208",
              "IPY_MODEL_be4c590512fd4c4db231a72e9aaac09e",
              "IPY_MODEL_b58ff60369c34ebbb7f8b9655f7a27f0",
              "IPY_MODEL_3c8f5650e9754b0ca11df2a9c179341c",
              "IPY_MODEL_abc0897cf4da4433972a2b5936ec11d2"
            ],
            "crs": {
              "custom": false,
              "name": "EPSG3857"
            },
            "default_style": "IPY_MODEL_8c1e4650ff6c4c2b8dfd88ed861e3b39",
            "double_click_zoom": true,
            "dragging": true,
            "dragging_style": "IPY_MODEL_b1dde8f3a39845b48bee428d222b44f6",
            "east": -45.13320922851563,
            "fullscreen": false,
            "inertia": true,
            "inertia_deceleration": 3000,
            "inertia_max_speed": 1500,
            "interpolation": "bilinear",
            "keyboard": true,
            "keyboard_pan_offset": 80,
            "keyboard_zoom_offset": 1,
            "layers": [
              "IPY_MODEL_297251f04f5045bca956d4daddc4a876",
              "IPY_MODEL_3716944c93444efdb0ecd1d2ef0e689c"
            ],
            "layout": "IPY_MODEL_60c3851656274d9bb160813cf6da143d",
            "left": 195158,
            "max_zoom": null,
            "min_zoom": null,
            "modisdate": "2025-04-23",
            "north": -12.187019133226132,
            "options": [
              "bounce_at_zoom_limits",
              "box_zoom",
              "center",
              "close_popup_on_click",
              "double_click_zoom",
              "dragging",
              "fullscreen",
              "inertia",
              "inertia_deceleration",
              "inertia_max_speed",
              "interpolation",
              "keyboard",
              "keyboard_pan_offset",
              "keyboard_zoom_offset",
              "max_zoom",
              "min_zoom",
              "prefer_canvas",
              "scroll_wheel_zoom",
              "tap",
              "tap_tolerance",
              "touch_zoom",
              "world_copy_jump",
              "zoom",
              "zoom_animation_threshold",
              "zoom_delta",
              "zoom_snap"
            ],
            "panes": {},
            "prefer_canvas": false,
            "right": 196414,
            "scroll_wheel_zoom": true,
            "south": -12.522390602069187,
            "style": "IPY_MODEL_8c1e4650ff6c4c2b8dfd88ed861e3b39",
            "tap": true,
            "tap_tolerance": 15,
            "top": 280028,
            "touch_zoom": true,
            "west": -45.995635986328125,
            "window_url": "https://t6jaursehim-496ff2e9c6d22116-0-colab.googleusercontent.com/outputframe.html?vrz=colab_20250421-060122_RC01_749853848",
            "world_copy_jump": false,
            "zoom": 12,
            "zoom_animation_threshold": 4,
            "zoom_delta": 1,
            "zoom_snap": 1
          }
        },
        "8c1e4650ff6c4c2b8dfd88ed861e3b39": {
          "model_module": "jupyter-leaflet",
          "model_module_version": "^0.19",
          "model_name": "LeafletMapStyleModel",
          "state": {
            "_model_module": "jupyter-leaflet",
            "_model_module_version": "^0.19",
            "_model_name": "LeafletMapStyleModel",
            "_view_count": null,
            "_view_module": "@jupyter-widgets/base",
            "_view_module_version": "1.2.0",
            "_view_name": "StyleView",
            "cursor": "grab"
          }
        },
        "8ee6b93f809e43f8bbe11f78567fbb0e": {
          "model_module": "jupyter-leaflet",
          "model_module_version": "^0.19",
          "model_name": "LeafletFullScreenControlModel",
          "state": {
            "_model_module": "jupyter-leaflet",
            "_model_module_version": "^0.19",
            "_model_name": "LeafletFullScreenControlModel",
            "_view_count": null,
            "_view_module": "jupyter-leaflet",
            "_view_module_version": "^0.19",
            "_view_name": "LeafletFullScreenControlView",
            "options": [
              "position"
            ],
            "position": "topleft"
          }
        },
        "93ed56dcf4ff4aeda395d94c7915a5d4": {
          "model_module": "jupyter-leaflet",
          "model_module_version": "^0.19",
          "model_name": "LeafletMapStyleModel",
          "state": {
            "_model_module": "jupyter-leaflet",
            "_model_module_version": "^0.19",
            "_model_name": "LeafletMapStyleModel",
            "_view_count": null,
            "_view_module": "@jupyter-widgets/base",
            "_view_module_version": "1.2.0",
            "_view_name": "StyleView",
            "cursor": "grab"
          }
        },
        "a64d1b9f665f4537a0cdbaaf710dc05e": {
          "model_module": "jupyter-leaflet",
          "model_module_version": "^0.19",
          "model_name": "LeafletMapStyleModel",
          "state": {
            "_model_module": "jupyter-leaflet",
            "_model_module_version": "^0.19",
            "_model_name": "LeafletMapStyleModel",
            "_view_count": null,
            "_view_module": "@jupyter-widgets/base",
            "_view_module_version": "1.2.0",
            "_view_name": "StyleView",
            "cursor": "grab"
          }
        },
        "a92fd1c3fa6d42da82433679e84ec685": {
          "model_module": "jupyter-leaflet",
          "model_module_version": "^0.19",
          "model_name": "LeafletTileLayerModel",
          "state": {
            "_model_module": "jupyter-leaflet",
            "_model_module_version": "^0.19",
            "_model_name": "LeafletTileLayerModel",
            "_view_count": null,
            "_view_module": "jupyter-leaflet",
            "_view_module_version": "^0.19",
            "_view_name": "LeafletTileLayerView",
            "attribution": null,
            "base": false,
            "bottom": true,
            "bounds": null,
            "detect_retina": false,
            "loading": false,
            "max_native_zoom": null,
            "max_zoom": 18,
            "min_native_zoom": null,
            "min_zoom": 0,
            "name": "S2B_MSIL2A_20250319T132239_N0511_R038_T23LLG_20250319T183254",
            "no_wrap": false,
            "opacity": 1,
            "options": [
              "attribution",
              "bounds",
              "detect_retina",
              "max_native_zoom",
              "max_zoom",
              "min_native_zoom",
              "min_zoom",
              "no_wrap",
              "tile_size",
              "tms",
              "zoom_offset"
            ],
            "pane": "",
            "popup": null,
            "popup_max_height": null,
            "popup_max_width": 300,
            "popup_min_width": 50,
            "show_loading": false,
            "subitems": [],
            "tile_size": 256,
            "tms": false,
            "url": "https://data.inpe.br/bdc/tms/tiles/WebMercatorQuad/{z}/{x}/{y}?url=https://data.inpe.br/bdc/data/S2_L2A/v001/23/L/LG/2025/03/S2B_TCI_20250319T132239_N0511_R038_T23LLG_20250319T183254.tif",
            "visible": true,
            "zoom_offset": 0
          }
        },
        "abc0897cf4da4433972a2b5936ec11d2": {
          "model_module": "jupyter-leaflet",
          "model_module_version": "^0.19",
          "model_name": "LeafletScaleControlModel",
          "state": {
            "_model_module": "jupyter-leaflet",
            "_model_module_version": "^0.19",
            "_model_name": "LeafletScaleControlModel",
            "_view_count": null,
            "_view_module": "jupyter-leaflet",
            "_view_module_version": "^0.19",
            "_view_name": "LeafletScaleControlView",
            "imperial": true,
            "max_width": 100,
            "metric": true,
            "options": [
              "imperial",
              "max_width",
              "metric",
              "position",
              "update_when_idle"
            ],
            "position": "bottomleft",
            "update_when_idle": false
          }
        },
        "b1dde8f3a39845b48bee428d222b44f6": {
          "model_module": "jupyter-leaflet",
          "model_module_version": "^0.19",
          "model_name": "LeafletMapStyleModel",
          "state": {
            "_model_module": "jupyter-leaflet",
            "_model_module_version": "^0.19",
            "_model_name": "LeafletMapStyleModel",
            "_view_count": null,
            "_view_module": "@jupyter-widgets/base",
            "_view_module_version": "1.2.0",
            "_view_name": "StyleView",
            "cursor": "move"
          }
        },
        "b58ff60369c34ebbb7f8b9655f7a27f0": {
          "model_module": "jupyter-leaflet",
          "model_module_version": "^0.19",
          "model_name": "LeafletLayersControlModel",
          "state": {
            "_model_module": "jupyter-leaflet",
            "_model_module_version": "^0.19",
            "_model_name": "LeafletLayersControlModel",
            "_view_count": null,
            "_view_module": "jupyter-leaflet",
            "_view_module_version": "^0.19",
            "_view_name": "LeafletLayersControlView",
            "collapsed": true,
            "options": [
              "collapsed",
              "position"
            ],
            "position": "topright"
          }
        },
        "b8a6f8d90c634ca9ac32d66cf2633d41": {
          "model_module": "jupyter-leaflet",
          "model_module_version": "^0.19",
          "model_name": "LeafletMapStyleModel",
          "state": {
            "_model_module": "jupyter-leaflet",
            "_model_module_version": "^0.19",
            "_model_name": "LeafletMapStyleModel",
            "_view_count": null,
            "_view_module": "@jupyter-widgets/base",
            "_view_module_version": "1.2.0",
            "_view_name": "StyleView",
            "cursor": "grab"
          }
        },
        "be4c590512fd4c4db231a72e9aaac09e": {
          "model_module": "jupyter-leaflet",
          "model_module_version": "^0.19",
          "model_name": "LeafletSplitMapControlModel",
          "state": {
            "_model_module": "jupyter-leaflet",
            "_model_module_version": "^0.19",
            "_model_name": "LeafletSplitMapControlModel",
            "_view_count": null,
            "_view_module": "jupyter-leaflet",
            "_view_module_version": "^0.19",
            "_view_name": "LeafletSplitMapControlView",
            "left_layer": "IPY_MODEL_32e8f712a4114032a74366beb5fa17ca",
            "options": [
              "position"
            ],
            "position": "topleft",
            "right_layer": "IPY_MODEL_a92fd1c3fa6d42da82433679e84ec685"
          }
        },
        "c69a0dd7f1354e8986eeff9bf205bd31": {
          "model_module": "jupyter-leaflet",
          "model_module_version": "^0.19",
          "model_name": "LeafletMapStyleModel",
          "state": {
            "_model_module": "jupyter-leaflet",
            "_model_module_version": "^0.19",
            "_model_name": "LeafletMapStyleModel",
            "_view_count": null,
            "_view_module": "@jupyter-widgets/base",
            "_view_module_version": "1.2.0",
            "_view_name": "StyleView",
            "cursor": "move"
          }
        },
        "c812290958cd4aa1b6f91f7d01389e4f": {
          "model_module": "jupyter-leaflet",
          "model_module_version": "^0.19",
          "model_name": "LeafletAttributionControlModel",
          "state": {
            "_model_module": "jupyter-leaflet",
            "_model_module_version": "^0.19",
            "_model_name": "LeafletAttributionControlModel",
            "_view_count": null,
            "_view_module": "jupyter-leaflet",
            "_view_module_version": "^0.19",
            "_view_name": "LeafletAttributionControlView",
            "options": [
              "position",
              "prefix"
            ],
            "position": "bottomright",
            "prefix": "ipyleaflet"
          }
        },
        "c8721ef5b80e4e43abe4f9789aedc9d6": {
          "model_module": "jupyter-leaflet",
          "model_module_version": "^0.19",
          "model_name": "LeafletLayersControlModel",
          "state": {
            "_model_module": "jupyter-leaflet",
            "_model_module_version": "^0.19",
            "_model_name": "LeafletLayersControlModel",
            "_view_count": null,
            "_view_module": "jupyter-leaflet",
            "_view_module_version": "^0.19",
            "_view_name": "LeafletLayersControlView",
            "collapsed": true,
            "options": [
              "collapsed",
              "position"
            ],
            "position": "topright"
          }
        },
        "cdbb671b0f1e45f09311dde0a839f1e2": {
          "model_module": "jupyter-leaflet",
          "model_module_version": "^0.19",
          "model_name": "LeafletAttributionControlModel",
          "state": {
            "_model_module": "jupyter-leaflet",
            "_model_module_version": "^0.19",
            "_model_name": "LeafletAttributionControlModel",
            "_view_count": null,
            "_view_module": "jupyter-leaflet",
            "_view_module_version": "^0.19",
            "_view_name": "LeafletAttributionControlView",
            "options": [
              "position",
              "prefix"
            ],
            "position": "bottomright",
            "prefix": "ipyleaflet"
          }
        },
        "ceb3a9683e6a44df83c973277e33eade": {
          "model_module": "jupyter-leaflet",
          "model_module_version": "^0.19",
          "model_name": "LeafletZoomControlModel",
          "state": {
            "_model_module": "jupyter-leaflet",
            "_model_module_version": "^0.19",
            "_model_name": "LeafletZoomControlModel",
            "_view_count": null,
            "_view_module": "jupyter-leaflet",
            "_view_module_version": "^0.19",
            "_view_name": "LeafletZoomControlView",
            "options": [
              "position",
              "zoom_in_text",
              "zoom_in_title",
              "zoom_out_text",
              "zoom_out_title"
            ],
            "position": "topleft",
            "zoom_in_text": "+",
            "zoom_in_title": "Zoom in",
            "zoom_out_text": "-",
            "zoom_out_title": "Zoom out"
          }
        },
        "d8c8428ae92f481eb74631908da5dabf": {
          "model_module": "jupyter-leaflet",
          "model_module_version": "^0.19",
          "model_name": "LeafletTileLayerModel",
          "state": {
            "_model_module": "jupyter-leaflet",
            "_model_module_version": "^0.19",
            "_model_name": "LeafletTileLayerModel",
            "_view_count": null,
            "_view_module": "jupyter-leaflet",
            "_view_module_version": "^0.19",
            "_view_name": "LeafletTileLayerView",
            "attribution": null,
            "base": false,
            "bottom": true,
            "bounds": null,
            "detect_retina": false,
            "loading": false,
            "max_native_zoom": null,
            "max_zoom": 18,
            "min_native_zoom": null,
            "min_zoom": 0,
            "name": "S2B_MSIL2A_20250319T132239_N0511_R038_T23LLG_20250319T183254",
            "no_wrap": false,
            "opacity": 1,
            "options": [
              "attribution",
              "bounds",
              "detect_retina",
              "max_native_zoom",
              "max_zoom",
              "min_native_zoom",
              "min_zoom",
              "no_wrap",
              "tile_size",
              "tms",
              "zoom_offset"
            ],
            "pane": "",
            "popup": null,
            "popup_max_height": null,
            "popup_max_width": 300,
            "popup_min_width": 50,
            "show_loading": false,
            "subitems": [],
            "tile_size": 256,
            "tms": false,
            "url": "https://data.inpe.br/bdc/tms/tiles/WebMercatorQuad/{z}/{x}/{y}?url=https://data.inpe.br/bdc/data/S2_L2A/v001/23/L/LG/2025/03/S2B_TCI_20250319T132239_N0511_R038_T23LLG_20250319T183254.tif",
            "visible": true,
            "zoom_offset": 0
          }
        },
        "e367651a702c4b17b4e99976029ceff1": {
          "model_module": "jupyter-leaflet",
          "model_module_version": "^0.19",
          "model_name": "LeafletMapStyleModel",
          "state": {
            "_model_module": "jupyter-leaflet",
            "_model_module_version": "^0.19",
            "_model_name": "LeafletMapStyleModel",
            "_view_count": null,
            "_view_module": "@jupyter-widgets/base",
            "_view_module_version": "1.2.0",
            "_view_name": "StyleView",
            "cursor": "move"
          }
        },
        "f0a9bdb7a19b47c7a0decfa153f7e206": {
          "model_module": "jupyter-leaflet",
          "model_module_version": "^0.19",
          "model_name": "LeafletMapModel",
          "state": {
            "_dom_classes": [],
            "_model_module": "jupyter-leaflet",
            "_model_module_version": "^0.19",
            "_model_name": "LeafletMapModel",
            "_view_count": null,
            "_view_module": "jupyter-leaflet",
            "_view_module_version": "^0.19",
            "_view_name": "LeafletMapView",
            "bottom": 4484025,
            "bounce_at_zoom_limits": true,
            "box_zoom": true,
            "center": [
              -12.326529454512425,
              -45.90743870742327
            ],
            "close_popup_on_click": true,
            "controls": [
              "IPY_MODEL_09cbc33fdfd0466b944098f3012d5b5d",
              "IPY_MODEL_cdbb671b0f1e45f09311dde0a839f1e2"
            ],
            "crs": {
              "custom": false,
              "name": "EPSG3857"
            },
            "default_style": "IPY_MODEL_5609213048514fce995f5be77d8b530e",
            "double_click_zoom": true,
            "dragging": true,
            "dragging_style": "IPY_MODEL_e367651a702c4b17b4e99976029ceff1",
            "east": -45.88049411773682,
            "fullscreen": false,
            "inertia": true,
            "inertia_deceleration": 3000,
            "inertia_max_speed": 1500,
            "interpolation": "bilinear",
            "keyboard": true,
            "keyboard_pan_offset": 80,
            "keyboard_zoom_offset": 1,
            "layers": [
              "IPY_MODEL_71c53306f8f74231a163057946ea12ac",
              "IPY_MODEL_3716944c93444efdb0ecd1d2ef0e689c"
            ],
            "layout": "IPY_MODEL_feb558b2adac45cb919787f94b93fa6e",
            "left": 3123955,
            "max_zoom": null,
            "min_zoom": null,
            "modisdate": "2025-04-23",
            "north": -12.316062220049485,
            "options": [
              "bounce_at_zoom_limits",
              "box_zoom",
              "center",
              "close_popup_on_click",
              "double_click_zoom",
              "dragging",
              "fullscreen",
              "inertia",
              "inertia_deceleration",
              "inertia_max_speed",
              "interpolation",
              "keyboard",
              "keyboard_pan_offset",
              "keyboard_zoom_offset",
              "max_zoom",
              "min_zoom",
              "prefer_canvas",
              "scroll_wheel_zoom",
              "tap",
              "tap_tolerance",
              "touch_zoom",
              "world_copy_jump",
              "zoom",
              "zoom_animation_threshold",
              "zoom_delta",
              "zoom_snap"
            ],
            "panes": {},
            "prefer_canvas": false,
            "right": 3125211,
            "scroll_wheel_zoom": true,
            "south": -12.33702522355867,
            "style": "IPY_MODEL_b8a6f8d90c634ca9ac32d66cf2633d41",
            "tap": true,
            "tap_tolerance": 15,
            "top": 4483525,
            "touch_zoom": true,
            "west": -45.934395790100105,
            "window_url": "https://t6jaursehim-496ff2e9c6d22116-0-colab.googleusercontent.com/outputframe.html?vrz=colab_20250421-060122_RC01_749853848",
            "world_copy_jump": false,
            "zoom": 15,
            "zoom_animation_threshold": 4,
            "zoom_delta": 1,
            "zoom_snap": 1
          }
        },
        "f125ed38b89a4cc3a2e7305988dbe9e1": {
          "model_module": "jupyter-leaflet",
          "model_module_version": "^0.19",
          "model_name": "LeafletTileLayerModel",
          "state": {
            "_model_module": "jupyter-leaflet",
            "_model_module_version": "^0.19",
            "_model_name": "LeafletTileLayerModel",
            "_view_count": null,
            "_view_module": "jupyter-leaflet",
            "_view_module_version": "^0.19",
            "_view_name": "LeafletTileLayerView",
            "attribution": "&copy; <a href=\"https://www.openstreetmap.org/copyright\">OpenStreetMap</a> contributors",
            "base": true,
            "bottom": true,
            "bounds": null,
            "detect_retina": false,
            "loading": false,
            "max_native_zoom": null,
            "max_zoom": 19,
            "min_native_zoom": null,
            "min_zoom": 1,
            "name": "OpenStreetMap.Mapnik",
            "no_wrap": false,
            "opacity": 1,
            "options": [
              "attribution",
              "bounds",
              "detect_retina",
              "max_native_zoom",
              "max_zoom",
              "min_native_zoom",
              "min_zoom",
              "no_wrap",
              "tile_size",
              "tms",
              "zoom_offset"
            ],
            "pane": "",
            "popup": null,
            "popup_max_height": null,
            "popup_max_width": 300,
            "popup_min_width": 50,
            "show_loading": false,
            "subitems": [],
            "tile_size": 256,
            "tms": false,
            "url": "https://tile.openstreetmap.org/{z}/{x}/{y}.png",
            "visible": true,
            "zoom_offset": 0
          }
        },
        "feb558b2adac45cb919787f94b93fa6e": {
          "model_module": "@jupyter-widgets/base",
          "model_module_version": "1.2.0",
          "model_name": "LayoutModel",
          "state": {
            "_model_module": "@jupyter-widgets/base",
            "_model_module_version": "1.2.0",
            "_model_name": "LayoutModel",
            "_view_count": null,
            "_view_module": "@jupyter-widgets/base",
            "_view_module_version": "1.2.0",
            "_view_name": "LayoutView",
            "align_content": null,
            "align_items": null,
            "align_self": null,
            "border": null,
            "bottom": null,
            "display": null,
            "flex": null,
            "flex_flow": null,
            "grid_area": null,
            "grid_auto_columns": null,
            "grid_auto_flow": null,
            "grid_auto_rows": null,
            "grid_column": null,
            "grid_gap": null,
            "grid_row": null,
            "grid_template_areas": null,
            "grid_template_columns": null,
            "grid_template_rows": null,
            "height": "500px",
            "justify_content": null,
            "justify_items": null,
            "left": null,
            "margin": null,
            "max_height": null,
            "max_width": null,
            "min_height": null,
            "min_width": null,
            "object_fit": null,
            "object_position": null,
            "order": null,
            "overflow": null,
            "overflow_x": null,
            "overflow_y": null,
            "padding": null,
            "right": null,
            "top": null,
            "visibility": null,
            "width": "80%"
          }
        }
      }
    }
  },
  "nbformat": 4,
  "nbformat_minor": 0
}
