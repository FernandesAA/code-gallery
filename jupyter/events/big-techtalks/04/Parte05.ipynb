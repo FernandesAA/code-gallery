{
 "cells": [
  {
   "cell_type": "markdown",
   "id": "fd2f53a6-1acf-4eb2-8451-bcdabb314db5",
   "metadata": {
    "execution": {
     "iopub.execute_input": "2025-05-16T18:01:29.389492Z",
     "iopub.status.busy": "2025-05-16T18:01:29.387960Z",
     "iopub.status.idle": "2025-05-16T18:01:29.401437Z",
     "shell.execute_reply": "2025-05-16T18:01:29.399942Z"
    }
   },
   "source": [
    "## <span style=\"color: #336699\">Parte 05 - Comparações e plots usando o ACOLITE e o Sen2COR </span>\n",
    "<hr style=\"border:0.5px solid #0077b9;\">\n",
    "\n",
    "\n",
    "Agora que conseguimos baixar e rodar a correção atmosférica com o ACOLITE, podemos aplicar o modelo de Chl-a na imagem e avaliar os resultados com ela também.\n",
    "\n",
    "\n",
    "<br>\n",
    "\n"
   ]
  },
  {
   "cell_type": "code",
   "execution_count": null,
   "id": "c8c7fd9d-f1bf-4afc-96c6-b7580bcb93a3",
   "metadata": {},
   "outputs": [],
   "source": [
    "require(data.table)\n",
    "require(dplyr)\n",
    "require(rstac)\n",
    "require(terra)\n",
    "require(httr)\n",
    "library(rasterVis)\n",
    "require(RColorBrewer)\n",
    "\n",
    "options(warn = -1)\n",
    "options(repr.plot.width = 20, repr.plot.height = 10) \n"
   ]
  },
  {
   "cell_type": "code",
   "execution_count": null,
   "id": "5bd1614c-ac5d-4809-bf2a-bbdf7c53653f",
   "metadata": {},
   "outputs": [],
   "source": [
    "# Carregando o modelo de NDCI\n",
    "modelo_ndci = readRDS('Outputs/emp_chla.R')"
   ]
  },
  {
   "cell_type": "code",
   "execution_count": null,
   "id": "00cc396c-842c-4c4f-a66e-5e6a60373329",
   "metadata": {},
   "outputs": [],
   "source": [
    "# Carregando os resultados do Sen2Cor\n",
    "\n",
    "chla_sen2cor = rast(\"Outputs/chla_sen2cor.tif\")\n",
    "\n",
    "names(chla_sen2cor) = \"Chla Sen2Cor\""
   ]
  },
  {
   "cell_type": "code",
   "execution_count": null,
   "id": "39675ed4-4339-4f3d-bbf4-0f5ee69f6c85",
   "metadata": {},
   "outputs": [],
   "source": [
    "## Carregando o ACOLITE\n",
    "\n",
    "b5_acolite = rast(\"Outputs/ACOLITE/S2B_MSIL1C_20250306T131249_N0511_R138_T23KLP_20250306T144532.SAFE//S2B_MSI_2025_03_06_13_18_59_T23KLP_L2W_Rrs_704.tif\")\n",
    "b4_acolite = rast(\"Outputs/ACOLITE/S2B_MSIL1C_20250306T131249_N0511_R138_T23KLP_20250306T144532.SAFE//S2B_MSI_2025_03_06_13_18_59_T23KLP_L2W_Rrs_665.tif\")\n",
    "b3_acolite = rast(\"Outputs/ACOLITE/S2B_MSIL1C_20250306T131249_N0511_R138_T23KLP_20250306T144532.SAFE//S2B_MSI_2025_03_06_13_18_59_T23KLP_L2W_Rrs_559.tif\")\n",
    "b2_acolite = rast(\"Outputs/ACOLITE/S2B_MSIL1C_20250306T131249_N0511_R138_T23KLP_20250306T144532.SAFE//S2B_MSI_2025_03_06_13_18_59_T23KLP_L2W_Rrs_492.tif\")\n",
    "\n",
    "\n",
    "# Mosaico\n",
    "mosaico = c(b2_acolite, b3_acolite, b4_acolite, b5_acolite)\n",
    "\n",
    "# Cálculo do NDCI\n",
    "ndci_acolite = ((b5_acolite-b4_acolite)/(b5_acolite+b4_acolite))+1\n",
    "names(ndci_acolite)[1] = \"NDCI\"\n",
    "\n",
    "# Cálculo da concentração de clorofila-a\n",
    "\n",
    "chla_acolite = predict(ndci_acolite, modelo_ndci, na.rm = T)\n",
    "\n",
    "names(chla_acolite) = \"Chla ACOLITE\"\n"
   ]
  },
  {
   "cell_type": "code",
   "execution_count": null,
   "id": "3671b5b6-3346-46c1-9b79-0056d1c0ca9d",
   "metadata": {},
   "outputs": [],
   "source": [
    "\n",
    "plotRGB(mosaico, r = 3, g = 2, b = 1, stretch = 'lin')\n",
    "\n"
   ]
  },
  {
   "cell_type": "code",
   "execution_count": null,
   "id": "63307d88-3fe5-40d9-886c-2e05a3b920c9",
   "metadata": {},
   "outputs": [],
   "source": [
    "# Escala de cores\n",
    "colr <- colorRampPalette(rev(brewer.pal(11, 'RdBu')))\n",
    "\n",
    "# Reprojetando para a mesma escala do ACOLITE\n",
    "sen2cor = project(x = chla_sen2cor, y = chla_acolite)\n",
    "\n",
    "# Colocndo no mesmo arquivo\n",
    "rasters = c(chla_acolite, sen2cor)\n",
    "\n",
    "#plot \n",
    "levelplot(raster::stack(rasters),col.regions = colr, layout = c(2, 1),\n",
    "                    at = seq(0, 250, length = 100),\n",
    "          maxpixels = 1e9,\n",
    "          main = \"Chlorophyll-a Concentration (ug/L)\") "
   ]
  },
  {
   "cell_type": "code",
   "execution_count": null,
   "id": "108d1004-db50-42a7-8f08-5234397e42ed",
   "metadata": {},
   "outputs": [],
   "source": [
    "df = data.frame(acolite = values(chla_acolite), sen2cor = values(sen2cor)) %>% na.omit()"
   ]
  },
  {
   "cell_type": "code",
   "execution_count": null,
   "id": "193833f1-d4c5-4d79-9fb5-482c5cb6c3c9",
   "metadata": {},
   "outputs": [],
   "source": [
    "require(ggplot2)\n",
    "ggplot(df, aes(x = Chla.ACOLITE, y = Chla.Sen2Cor)) + \n",
    "                    geom_point() + \n",
    "                    theme_bw() +\n",
    "                    scale_x_continuous(limits = c(0,600)) + \n",
    "                    scale_y_continuous(limits = c(0,600)) + geom_abline(slope = 1, intercept = 0)"
   ]
  },
  {
   "cell_type": "markdown",
   "id": "e02a2be9-48af-49cf-b1de-cc01ca836087",
   "metadata": {},
   "source": [
    "\n",
    "## <span style=\"color: #336699\">E agora o que fazer?????? </span>\n",
    "<hr style=\"border:0.5px solid #0077b9;\">\n",
    "\n",
    "\n",
    "\n",
    "\n",
    "Como comentado - o ideal é sempre aplicar correções atmosféricas específicas para água. Nesse caso abordado - essa imagem - os resultados são muito diferentes. Assim, precisamos ter consciência de qual dado é melhor para nossa aplicação. Observamos que houve um resídual de correção atmosférica nos dados do Sen2Cor - que é resolvido com a subtração da banda do SWIR (Não mostrado aqui no curso). Porém, temos que ter claro que estamos comparando coisas iguais - ou seja, dados no mesmo formato - os dados do ACOLITE não possuem a correção resídual ou correção de glint. \n",
    "\n",
    "Assim, recomendamos novamente fortemente o uso de métodos específios para água para aplicação de correção atmosférica. \n",
    "\n",
    "<br>\n",
    "\n",
    "\n",
    "\n"
   ]
  },
  {
   "cell_type": "code",
   "execution_count": null,
   "id": "fb223e4e-d3bd-4316-8822-c583a71edad0",
   "metadata": {},
   "outputs": [],
   "source": []
  },
  {
   "cell_type": "code",
   "execution_count": null,
   "id": "ee0e98aa-1e81-48af-b2b6-2fbc240bd028",
   "metadata": {},
   "outputs": [],
   "source": []
  }
 ],
 "metadata": {
  "kernelspec": {
   "display_name": "R (Geospatial)",
   "language": "R",
   "name": "ir"
  },
  "language_info": {
   "codemirror_mode": "r",
   "file_extension": ".r",
   "mimetype": "text/x-r-source",
   "name": "R",
   "pygments_lexer": "r",
   "version": "4.4.3"
  }
 },
 "nbformat": 4,
 "nbformat_minor": 5
}
