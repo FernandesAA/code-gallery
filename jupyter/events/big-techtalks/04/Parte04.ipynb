{
 "cells": [
  {
   "cell_type": "markdown",
   "id": "7dbf7e5a-c50a-4c55-add0-424231fdbd0f",
   "metadata": {
    "execution": {
     "iopub.execute_input": "2025-05-16T15:43:55.278613Z",
     "iopub.status.busy": "2025-05-16T15:43:55.220426Z",
     "iopub.status.idle": "2025-05-16T15:43:55.296030Z",
     "shell.execute_reply": "2025-05-16T15:43:55.293571Z"
    }
   },
   "source": [
    "## <span style=\"color: #336699\">Parte 04A - Download de imagens pelo BDC Lab / STAC BDC L1C</span>\n",
    "<hr style=\"border:0.5px solid #0077b9;\">\n",
    "\n",
    "\n",
    "\n",
    "Para aplicar a correção do ACOLITE precisamos de duas coisas: Primeiro, precisamos baixar os bundles em nível 1 - sem correção atmosférica. Por sorte, o BDC fornece esses dados pra gente - o que facilita imensamente o acesso aos dados. \n",
    "\n",
    "Usaremos o RSTAC ainda para fazer as buscas nos dados - imagem Sentinel-2/MSI do dia 06 de março de 2025.\n",
    "\n",
    "\n",
    "<br>\n"
   ]
  },
  {
   "cell_type": "code",
   "execution_count": null,
   "id": "e6632887-1380-4b4a-a125-a8ceb57b987d",
   "metadata": {},
   "outputs": [],
   "source": [
    "require(data.table)\n",
    "require(dplyr)\n",
    "require(rstac)"
   ]
  },
  {
   "cell_type": "code",
   "execution_count": null,
   "id": "bd8fc195-3651-4cf1-a9bb-bbfc14bc2533",
   "metadata": {},
   "outputs": [],
   "source": [
    "# Mesma busca anterior\n",
    "\n",
    "stac_obj <- stac(\"https://data.inpe.br/bdc/stac/v1/\")\n",
    "\n",
    "dates = c(\"2025-03-05/2025-03-07\")\n",
    "\n",
    "BBOX = c(-46.632525, -23.770232, -46.6369, -23.758501) #xmin, ymin, xmax, ymax\n",
    "\n",
    "it_obj <- stac_obj %>%\n",
    "  stac_search(collections = \"S2_L1C_BUNDLE-1\", ### Veja que só a minha collection que mudou!\n",
    "              bbox = BBOX,\n",
    "              datetime = dates) %>%\n",
    "  get_request() #%>% items_filter(properties$`eo:cloud_cover` <= 50) \n",
    "\n",
    "\n",
    "print(it_obj)\n",
    "\n"
   ]
  },
  {
   "cell_type": "code",
   "execution_count": null,
   "id": "f4a7768f-b2ce-4634-a74c-02520e557964",
   "metadata": {},
   "outputs": [],
   "source": [
    "\n",
    "for(i in 1:length(it_obj$features)) {\n",
    "  \n",
    "  \n",
    "  assets_download(items = it_obj, asset_names = NULL, output_dir = 'Outputs', overwrite = T)\n",
    "  \n",
    "  \n",
    "}"
   ]
  },
  {
   "cell_type": "code",
   "execution_count": null,
   "id": "e2321b31-a45f-46a2-916d-f93274330523",
   "metadata": {},
   "outputs": [],
   "source": [
    "getwd()"
   ]
  },
  {
   "cell_type": "code",
   "execution_count": null,
   "id": "0c8dfe1e-c80b-4972-b56d-7ba39594d1ea",
   "metadata": {},
   "outputs": [],
   "source": [
    "unlink('/home/jovyan/Desktop/Cursos/TechTalks/Desktop/', recursive = T, expand = T)"
   ]
  }
 ],
 "metadata": {
  "kernelspec": {
   "display_name": "R (Geospatial)",
   "language": "R",
   "name": "ir"
  },
  "language_info": {
   "codemirror_mode": "r",
   "file_extension": ".r",
   "mimetype": "text/x-r-source",
   "name": "R",
   "pygments_lexer": "r",
   "version": "4.4.3"
  }
 },
 "nbformat": 4,
 "nbformat_minor": 5
}
