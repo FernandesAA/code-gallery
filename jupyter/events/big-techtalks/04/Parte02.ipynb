{
 "cells": [
  {
   "cell_type": "markdown",
   "id": "af6f36f9-a4df-49b8-a432-282e2ea580a7",
   "metadata": {},
   "source": [
    "## <span style=\"color: #336699\">Parte 02 - Geração de modelo empírico para Clorofila-a</span>\n",
    "<hr style=\"border:0.5px solid #0077b9;\">\n",
    "\n",
    "\n",
    "Agora que nós já fizemos as primeiras organizações nos dados, podemos começar a fazer um treinamento e validação de um algoritmo empírico com o NDCI. \n",
    "\n",
    "Este código irá utilizar os dados organizados anteriormente (NDCI e concentração de Chl-a) para gerar um algoritmo empírico para estimativa da concentração de Chl-a.\n",
    "\n",
    "Este código é apenas um exemplo. Idealmente, deveríamos validar o modelo aplicado na imagem em dados coletados ao mesmo tempo da passagem do satélite.\n",
    "\n",
    "Como estes dados não estão disponíveis, iremos treinar e validar utilizando apenas os dados de campo do GLORIA.\n",
    "\n",
    "\n",
    "<br>\n",
    "\n"
   ]
  },
  {
   "cell_type": "code",
   "execution_count": null,
   "id": "8342363a-dab8-443d-a354-4082093d102f",
   "metadata": {
    "execution": {
     "iopub.execute_input": "2025-05-21T12:16:08.836756Z",
     "iopub.status.busy": "2025-05-21T12:16:08.835838Z",
     "iopub.status.idle": "2025-05-21T12:21:20.773929Z",
     "shell.execute_reply": "2025-05-21T12:21:20.772711Z"
    },
    "vscode": {
     "languageId": "r"
    }
   },
   "outputs": [],
   "source": [
    "zip('/home/jovyan/Desktop/Cursos/TechTalks', zipfile = 'Tech_talk.zip')"
   ]
  },
  {
   "cell_type": "code",
   "execution_count": null,
   "id": "ec4e266f-3445-4802-8c2b-861610a3c413",
   "metadata": {
    "execution": {
     "iopub.execute_input": "2025-05-20T10:42:13.102995Z",
     "iopub.status.busy": "2025-05-20T10:42:13.101796Z",
     "iopub.status.idle": "2025-05-20T10:42:13.115509Z",
     "shell.execute_reply": "2025-05-20T10:42:13.114242Z"
    },
    "scrolled": true,
    "vscode": {
     "languageId": "r"
    }
   },
   "outputs": [],
   "source": [
    "## Model generation: Generate a empirical regression general model for Chl-a retrieval\n",
    "\n",
    "# loading require packages\n",
    "\n",
    "require(data.table)\n",
    "require(dplyr)\n",
    "require(Metrics)\n",
    "require(randomForest)\n",
    "\n",
    "options(warn = -1)\n",
    "\n",
    "\n"
   ]
  },
  {
   "cell_type": "code",
   "execution_count": null,
   "id": "f5900192-adb8-4924-97d7-6bc323cc696b",
   "metadata": {
    "execution": {
     "iopub.execute_input": "2025-05-20T10:42:30.082874Z",
     "iopub.status.busy": "2025-05-20T10:42:30.081904Z",
     "iopub.status.idle": "2025-05-20T10:42:30.195335Z",
     "shell.execute_reply": "2025-05-20T10:42:30.194442Z"
    },
    "vscode": {
     "languageId": "r"
    }
   },
   "outputs": [],
   "source": [
    "data = fread(\"Outputs/sentinel2_simulated_filtered.csv\")\n",
    "\n",
    "set.seed(13) # To allow replicability\n",
    "\n",
    "\n",
    "## Random samples ; train / test\n",
    "\n",
    "samples = sample(x = 1:nrow(data),\n",
    "                 size = 0.7*nrow(data), \n",
    "                 replace = F)\n",
    "\n",
    "\n",
    "train = data[samples,]\n",
    "valid = data[-samples,]\n",
    "\n",
    "\n",
    "dim(train)\n",
    "dim(valid)\n",
    "\n",
    "\n",
    "## Creating an empirical (simple model) based on Normalized Difference Chlorophyll Index\n",
    "\n",
    "# Ajuste do modelo de potência: y = a * x^b\n",
    "\n",
    "\n",
    "train = filter(train, NDCI > 0 & NDCI < 2)\n",
    "\n",
    "matplot(x = train$Chla, y = train$NDCI)\n",
    "\n",
    "emp.chla <- nls(Chla ~ a * NDCI^b, start = list(a = 1, b = 1), data = train)\n",
    "\n",
    "\n",
    "summary(emp.chla)\n",
    "\n",
    "\n",
    "valid$NDCI_CHLA = predict(emp.chla, valid)\n",
    "\n"
   ]
  },
  {
   "cell_type": "code",
   "execution_count": null,
   "id": "4b9a8f03-74e5-487c-badb-ccb9f2b6b3b4",
   "metadata": {
    "execution": {
     "iopub.execute_input": "2025-05-20T10:42:32.559502Z",
     "iopub.status.busy": "2025-05-20T10:42:32.558565Z",
     "iopub.status.idle": "2025-05-20T10:42:32.598753Z",
     "shell.execute_reply": "2025-05-20T10:42:32.597839Z"
    },
    "vscode": {
     "languageId": "r"
    }
   },
   "outputs": [],
   "source": [
    "\n",
    "plot(valid$Chla, \n",
    "     valid$NDCI_CHLA , pch = 20, xlab = \"Measured Chla\",\n",
    "     ylab = \"Predicted Chla\", xlim = c(0,400), ylim = c(0,400))\n",
    "\n",
    "abline(0,1)"
   ]
  },
  {
   "cell_type": "code",
   "execution_count": null,
   "id": "4c0557d9-8038-4000-99ad-1c63d5808150",
   "metadata": {
    "vscode": {
     "languageId": "r"
    }
   },
   "outputs": [],
   "source": [
    "## Modelo completo"
   ]
  },
  {
   "cell_type": "code",
   "execution_count": null,
   "id": "15589c60-b8ee-49a9-bfe1-2a8f07cee90e",
   "metadata": {
    "execution": {
     "iopub.execute_input": "2025-05-20T10:42:46.816598Z",
     "iopub.status.busy": "2025-05-20T10:42:46.815646Z",
     "iopub.status.idle": "2025-05-20T10:42:46.925599Z",
     "shell.execute_reply": "2025-05-20T10:42:46.924683Z"
    },
    "vscode": {
     "languageId": "r"
    }
   },
   "outputs": [],
   "source": [
    "data = filter(data, NDCI > 0 & NDCI < 2)\n",
    "\n",
    "matplot(x = data$Chla, y = data$NDCI, pch = 20)\n",
    "]\n",
    "\n",
    "emp.chla <- nls(Chla ~ a * NDCI^b, start = list(a = 1, b = 1), data = data)\n",
    "\n",
    "\n",
    "saveRDS(emp.chla, file = 'Outputs/emp_chla.R')"
   ]
  },
  {
   "cell_type": "code",
   "execution_count": null,
   "id": "64b79b17-528d-48af-863e-adcc286abcd5",
   "metadata": {
    "vscode": {
     "languageId": "r"
    }
   },
   "outputs": [],
   "source": []
  },
  {
   "cell_type": "code",
   "execution_count": null,
   "id": "a3e19d75-18ec-44ba-b02d-b95b9e7fe10f",
   "metadata": {
    "vscode": {
     "languageId": "r"
    }
   },
   "outputs": [],
   "source": []
  }
 ],
 "metadata": {
  "kernelspec": {
   "display_name": "R (Geospatial)",
   "language": "R",
   "name": "ir"
  },
  "language_info": {
   "codemirror_mode": "r",
   "file_extension": ".r",
   "mimetype": "text/x-r-source",
   "name": "R",
   "pygments_lexer": "r",
   "version": "4.4.3"
  }
 },
 "nbformat": 4,
 "nbformat_minor": 5
}
