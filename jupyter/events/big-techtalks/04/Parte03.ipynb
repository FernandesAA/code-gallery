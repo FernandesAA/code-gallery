{
 "cells": [
  {
   "cell_type": "markdown",
   "id": "c709cbe5-7022-4e63-9a34-055e2ffa8e86",
   "metadata": {},
   "source": [
    "## <span style=\"color: #336699\">Parte 03 - Aplicando o algoritmo em uma imagem Sentinel-2/A Nível 2</span>\n",
    "<hr style=\"border:0.5px solid #0077b9;\">\n",
    "\n",
    "\n",
    "Agora, após a geração do nosso modelo nós iremos aplicar ele em uma imagem do Sentinel-2/MSI obtida através do STAC do BDC em Nível 2.\n",
    "\n",
    "As imagems em nível 2 já são corrigidas dos efeitos atmosféricos. Porém, o método adotado pela ESA para o produto pronto não é totalmente adequado para aplicações em ambientes aquáticos, tendo alguns problemas. Nesse sentido, iremos avaliar qual é a diferença depois usando os métodos L2A (Sen2Cor) e ACOLITE. \n",
    "<br>\n",
    "\n",
    "# \n"
   ]
  },
  {
   "cell_type": "code",
   "execution_count": null,
   "id": "09fa55d3-7569-4f89-b8ae-914e4ca409f6",
   "metadata": {},
   "outputs": [],
   "source": [
    "# Using RSTAC to get Sentinel-2 image and apply the algorithm developed\n",
    "\n",
    "require(data.table)\n",
    "require(dplyr)\n",
    "require(rstac)\n",
    "require(terra)\n",
    "require(mapview)\n",
    "require(httr)\n",
    "require(rstac)\n",
    "require(randomForest)\n",
    "library(rasterVis)\n",
    "require(RColorBrewer)\n",
    "require(terrainr)\n",
    "\n",
    "options(warn = -1)\n",
    "options(repr.plot.width = 15, repr.plot.height = 15) \n"
   ]
  },
  {
   "cell_type": "code",
   "execution_count": null,
   "id": "51344fc0-5dcf-4948-b259-91bfaf3a278e",
   "metadata": {},
   "outputs": [],
   "source": [
    "\n",
    "# We gonna use the BDC STAC to get Sentinel-2 images\n",
    "\n",
    "stac_obj <- stac(\"https://data.inpe.br/bdc/stac/v1/\")\n"
   ]
  },
  {
   "cell_type": "code",
   "execution_count": null,
   "id": "117f056a-debc-47e8-8007-56db44d621e2",
   "metadata": {},
   "outputs": [],
   "source": [
    "\n",
    "#\n",
    "# query to the data catalog\n",
    "#\n",
    "catalog <- stac_obj %>% get_request()\n",
    "\n",
    "print(catalog)\n"
   ]
  },
  {
   "cell_type": "code",
   "execution_count": null,
   "id": "07f3e4ad-04a1-499b-a417-557857ee3d2f",
   "metadata": {},
   "outputs": [],
   "source": [
    "\n",
    "#\n",
    "# query the available product collections\n",
    "#\n",
    "collections <- stac_obj %>%\n",
    "    collections() %>%\n",
    "    get_request()\n",
    "\n",
    "print(collections, n = 100)"
   ]
  },
  {
   "cell_type": "code",
   "execution_count": null,
   "id": "fa723a37-8acf-4669-b16d-2203c88d8ef9",
   "metadata": {},
   "outputs": [],
   "source": [
    "# Vamos usar sentinel-2 MSI Surface reflectance (inicialmente)\n",
    "\n",
    "\n",
    "collection_info <- stac_obj %>%\n",
    "    collections(\"S2_L2A-1\") %>%\n",
    "    get_request()\n",
    "\n",
    "print(collection_info)\n"
   ]
  },
  {
   "cell_type": "code",
   "execution_count": null,
   "id": "0adcce29-21ab-4b0c-8282-42e3eb8b47c5",
   "metadata": {},
   "outputs": [],
   "source": [
    "dates = c(\"2025-03-05/2025-03-07\")\n",
    "\n",
    "BBOX = c(-46.632525, -23.770232, -46.6369, -23.758501) #xmin, ymin, xmax, ymax\n",
    "\n",
    "it_obj <- stac_obj %>%\n",
    "  stac_search(collections = \"S2_L2A-1\",\n",
    "              bbox = BBOX,\n",
    "              datetime = dates) %>%\n",
    "  get_request() \n",
    "\n",
    "print(it_obj)\n",
    "\n"
   ]
  },
  {
   "cell_type": "code",
   "execution_count": null,
   "id": "a3386320-c60c-4a76-ae64-d0a106e2d566",
   "metadata": {},
   "outputs": [],
   "source": [
    "## Filtrara para cloud-cover < 50 - se eu quiser...\n",
    "\n",
    "item_filtered <- items_filter(it_obj, properties$`eo:cloud_cover` < 50)\n",
    "\n",
    "print(item_filtered)\n",
    "\n"
   ]
  },
  {
   "cell_type": "code",
   "execution_count": null,
   "id": "41ffe855-1a15-4984-b6c2-20534926d74b",
   "metadata": {},
   "outputs": [],
   "source": [
    "## Carregando as bandas para o NDCI e para cor verdadeira\n",
    "\n",
    "\n",
    "## Carregar os links dos assests (ou seja, os links para onde carregar as imagens)\n",
    "b2.url  <- assets_url(item_filtered, asset_names = \"B02\", append_gdalvsi = TRUE) \n",
    "b3.url  <- assets_url(item_filtered, asset_names = \"B03\", append_gdalvsi = TRUE) \n",
    "b4.url  <- assets_url(item_filtered, asset_names = \"B04\", append_gdalvsi = TRUE) \n",
    "b5.url <- assets_url(item_filtered, asset_names = \"B05\", append_gdalvsi = TRUE) \n",
    "b12.url <- assets_url(item_filtered, asset_names = \"B12\", append_gdalvsi = TRUE) \n",
    "SCL.url <- assets_url(item_filtered, asset_names = \"SCL\", append_gdalvsi = TRUE) \n",
    "\n",
    "# Extensão do reservatório (poderia tmbém ser um shapefile, se quiser).\n",
    "\n",
    "shp_billings = vect(\"Data/Billings_shape/billings.shp\") %>% project(rast(b2.url))\n",
    "\n",
    "# Cropar para area do reservatório apenas\n",
    "\n",
    "b2 = rast(b2.url[1]) %>% crop(shp_billings)\n",
    "b3 = rast(b3.url[1]) %>% crop(shp_billings)\n",
    "b4 = rast(b4.url[1]) %>% crop(shp_billings)\n",
    "b5 = rast(b5.url[1]) %>% project(b4)  %>% crop(shp_billings)\n",
    "\n",
    "# Banda de nuvem\n",
    "SCL = rast(SCL.url[1]) %>% project(b4)  %>% crop(shp_billings)\n",
    "\n"
   ]
  },
  {
   "cell_type": "code",
   "execution_count": null,
   "id": "f02913fb-d6de-4d8d-897a-f9afcebd6385",
   "metadata": {},
   "outputs": [],
   "source": [
    "plot(b2)"
   ]
  },
  {
   "cell_type": "code",
   "execution_count": null,
   "id": "e3fef0af-5624-466a-a415-6b41a56786be",
   "metadata": {},
   "outputs": [],
   "source": [
    "mosaico = c(b2, b3, b4, b5)\n",
    "\n",
    "names(mosaico) = c(\"B2\", \"B3\", \"B4\", \"B5\")\n",
    "\n",
    "# Remover as nuvens (Classes 7 8 e 9 são baixas, médias e altas probabilidades de nuvem)\n",
    "mosaico[SCL == 7] = NA\n",
    "mosaico[SCL == 8] = NA\n",
    "mosaico[SCL == 9] = NA\n",
    "\n",
    "\n",
    "plotRGB(mosaico, r = 3, g = 2, b = 1, stretch = 'lin')\n",
    "\n"
   ]
  },
  {
   "cell_type": "code",
   "execution_count": null,
   "id": "6c81a2bf-be6a-441a-9bf4-cf76de835365",
   "metadata": {},
   "outputs": [],
   "source": [
    "## Carregar o modelo de NDCI\n",
    "\n",
    "modelo_NDCI = readRDS(\"Outputs/emp_chla.R\")\n",
    "\n",
    "\n",
    "## Criar a banda de NDCI no raster\n",
    "\n",
    "mosaico$NDCI = ((mosaico$B5-mosaico$B4)/(mosaico$B5+mosaico$B4))+1\n",
    "\n",
    "## aplicar a máscara de água do SCL\n",
    "\n",
    "mosaico[SCL != 6] = NA\n",
    "\n",
    "## Mosaico na água\n",
    "\n",
    "plotRGB(mosaico, r = 3, g = 2, b = 1, stretch = 'lin')\n",
    "\n"
   ]
  },
  {
   "cell_type": "code",
   "execution_count": null,
   "id": "bccc8d34-10d3-4ba7-a498-a9cf345b32b4",
   "metadata": {},
   "outputs": [],
   "source": [
    "mosaico$Chla_NDCI = predict(mosaico, modelo_NDCI)"
   ]
  },
  {
   "cell_type": "code",
   "execution_count": null,
   "id": "bb36a0f9-b4fd-4def-8827-fe087a3545ad",
   "metadata": {},
   "outputs": [],
   "source": [
    "colr <- colorRampPalette(rev(brewer.pal(11, 'RdBu')))\n",
    "\n",
    "levelplot(raster::stack(mosaico$Chla_NDCI),col.regions = colr, \n",
    "          at = seq(0, 250, length = 100),\n",
    "          maxpixels = 1e6, main = \"Chlorophyll-a Concentration (ug/L)\") "
   ]
  },
  {
   "cell_type": "code",
   "execution_count": null,
   "id": "b3c9523f-3eb6-4eac-97f3-b909bf45b739",
   "metadata": {},
   "outputs": [],
   "source": [
    "writeRaster(mosaico$Chla_NDCI, \"Outputs/chla_sen2cor.tif\", overwrite = T)"
   ]
  },
  {
   "cell_type": "code",
   "execution_count": null,
   "id": "7d7b167b-d1dc-42fc-9a32-50dc7534e236",
   "metadata": {},
   "outputs": [],
   "source": []
  },
  {
   "cell_type": "code",
   "execution_count": null,
   "id": "ecfd3061-378f-4196-a7cf-64f72327ff1b",
   "metadata": {},
   "outputs": [],
   "source": []
  }
 ],
 "metadata": {
  "kernelspec": {
   "display_name": "R (Geospatial)",
   "language": "R",
   "name": "ir"
  },
  "language_info": {
   "codemirror_mode": "r",
   "file_extension": ".r",
   "mimetype": "text/x-r-source",
   "name": "R",
   "pygments_lexer": "r",
   "version": "4.4.3"
  }
 },
 "nbformat": 4,
 "nbformat_minor": 5
}
