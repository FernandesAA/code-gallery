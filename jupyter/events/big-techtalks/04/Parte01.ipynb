{
 "cells": [
  {
   "cell_type": "markdown",
   "id": "5a9e8cb3-6ff8-4aee-9363-3ca07ac1b3bc",
   "metadata": {},
   "source": [
    "<img src=\"https://github.com/brazil-data-cube/code-gallery/blob/master/img/logo-bdc.png?raw=true\" align=\"right\" width=\"110\" />\n",
    "\n",
    "\n",
    "# <span style=\"color:#336699\"> Sensoriamento Remoto aplicado ao estudo de ecossistemas de água doce</span>\n",
    "<hr style=\"border:2px solid #0077b9;\">\n",
    "\n",
    "<br>\n",
    "\n",
    "<div style=\"text-align: center;font-size: 90%;\">\n",
    "    Daniel Andrade Maciel<sup><a href=\"http://www.dpi.inpe.br/labisa/authors/daniel_maciel/\"><i class=\"fab fa-lg fa-orcid\" style=\"color: #a6ce39\"></i></a></sup>\n",
    "    <br/><br/>\n",
    "    Earth Observation and Geoinformatics Division, National Institute for Space Research (INPE)\n",
    "    <br/>\n",
    "    Avenida dos Astronautas, 1758, Jardim da Granja, São José dos Campos, SP 12227-010, Brazil\n",
    "    <br/><br/>\n",
    "    Contact: <a href=\"mailto:daniel.maciel@inpe.br\">daniel.maciel@inpe.br</a>\n",
    "    <br/><br/>\n",
    "    Last Update: May, 2025\n",
    "</div>\n",
    "\n",
    "<br>\n",
    "\n",
    "<div style=\"text-align: justify;  margin-left: 25%; margin-right: 25%;\">\n",
    "<b>Abstract.</b> O uso de dados de sensoriamento remoto para prever parâmetros de qualidade da água (QA) que são opticamente ativos (ou seja, que interagem com a luz) tem sido aplicado a águas oceânicas e costeiras há cerca de 50 anos. Graças à nova geração de sensores com resolução espectral, radiométrica e espacial adequadas (como Landsat, Sentinel-2, etc.), nos últimos 15 anos a comunidade científica começou a aplicar o sensoriamento remoto (SR) em estudos de águas interiores. O sensoriamento remoto permite prever alguns parâmetros de qualidade da água: sedimentos em suspensão, clorofila-a, ficocianina, matéria orgânica dissolvida, carbono, profundidade do disco de Secchi, turbidez... É uma fonte importante de dados que pode auxiliar biólogos, limnólogos e toda a comunidade de ciências aquáticas na compreensão dos padrões da água. Neste workshop, vamos aprender como usar dados de Sensoriamento Remoto aplicados às ciências aquáticas. Utilizaremos dados in situ disponíveis no conjunto de dados GLORIA (Lehmann et al. 2023) para gerar um modelo empírico de concentração de clorofila-a com base no Índice de Diferença Normalizada da Clorofila-a (NDCI). Assim, com um algoritmo calibrado, aplicaremos o modeloo desenvolvido aos dados de Reflectância de Superfície do Sentinel-2/MSI, corrigidos atmosfericamente usando o Sen2Cor e disponíveis na plataforma STAC da Microsoft Planetary Computer. Iremos também aprender como realizar o downl\n",
    "\n",
    "O fluxo de processamento está dividido em três tópicos:\n",
    "\n",
    "1) Instalação dos pacotes, download dos dados, simulação das bandas e remoção de outliers (etapa de pré-processamento);\n",
    "\n",
    "2) Desenvolvimento do modelo (treinamento, validação e desenvolvimento do modelo final);\n",
    "\n",
    "3) Aplicação do modelo: aplicação dos algoritmos aos dados de satélite usando o STAC do Brazil Data Cube\n",
    "\n",
    "4) Aplicação da correção atmosférica no nível L1C e comparação com os resultados do Sen2Cor.\n",
    "\n",
    "## O que esperamos obter como resultado?\n",
    "\n",
    "1) Um algoritmo de clorofila-a utilizando um model empírico (NDCI) (Veja mais informações em Lobo et al. (2020) (https://www.mdpi.com/2072-4292/13/15/2874);\n",
    "\n",
    "2) Aplicação deste algoritmo (NDCI) em uma imagem Sentinel-2/MSI obtida através do STAC do Brazil Data Cube (BDC) no nível 2A;\n",
    "\n",
    "3) Introdução a correção atmosférica de imagens para ambientes aquáticos com o ACOLITE (Vanhellemont and Ruddick, 2018) (https://www.sciencedirect.com/science/article/pii/S0034425718303481);\n",
    "\n",
    "4) Download e aplicação da correção atmosférica ACOLITE em dados Sentinel-2 L1C obtidos através do STAC do BDC\n",
    "\n",
    "5) Comparação dos resultados entre os dois métodos\n",
    "\n",
    "\n",
    "</em>.\n",
    "</div>    \n",
    "\n",
    "   \n",
    "\n"
   ]
  },
  {
   "cell_type": "markdown",
   "id": "31577151-7fe3-49a3-a2fa-089501d020f4",
   "metadata": {
    "execution": {
     "iopub.execute_input": "2025-05-21T15:58:32.001837Z",
     "iopub.status.busy": "2025-05-21T15:58:32.000935Z",
     "iopub.status.idle": "2025-05-21T15:58:32.010925Z",
     "shell.execute_reply": "2025-05-21T15:58:32.009994Z"
    }
   },
   "source": [
    "## <span style=\"color: #336699\">Parte 01 - Pré-processamento e download de dados</span>\n",
    "<hr style=\"border:0.5px solid #0077b9;\">\n",
    "\n",
    "<br>\n"
   ]
  },
  {
   "cell_type": "code",
   "execution_count": null,
   "id": "662034f8-ed61-4667-bb38-72ece1ded135",
   "metadata": {},
   "outputs": [],
   "source": [
    "## Set directory\n",
    "\n",
    "## Instalar pacotes necessários - simulação de bandas\n",
    "\n",
    "devtools::install_github(\"dmaciel123/BandSimulation\")\n",
    "\n",
    "require(bandSimulation)\n",
    "\n",
    "options(warn = -1)\n",
    "options(repr.plot.width = 15, repr.plot.height = 15) \n",
    "\n"
   ]
  },
  {
   "cell_type": "code",
   "execution_count": null,
   "id": "719803cc-3426-4617-80de-59310b0ca030",
   "metadata": {
    "scrolled": true
   },
   "outputs": [],
   "source": [
    "require(data.table)\n",
    "require(dplyr)\n",
    "require(PerformanceAnalytics)\n"
   ]
  },
  {
   "cell_type": "code",
   "execution_count": null,
   "id": "2387baab-1138-4c43-ab03-c8a36f363c76",
   "metadata": {},
   "outputs": [],
   "source": [
    "## Configure the Project Directories \n",
    "\n",
    "dir.create(\"Data\")\n",
    "dir.create(\"Outputs\")\n",
    "dir.create(\"Scripts\")"
   ]
  },
  {
   "cell_type": "markdown",
   "id": "9a3cbb03-31a7-4578-98cf-741f9c175da5",
   "metadata": {},
   "source": [
    "# GLORIA Dataset\n",
    "\n",
    "O conjunto de dados GLORIA é uma compilação de dados de reflectância de sensoriamento remoto (Rrs) e qualidade da água para corpos d’água em escala global, com dados dedicados a ecossistemas de água doce. É gratuito, acessível a todos e cobre grande parte do planeta, com mais de 7.000 amostras (Figura 01).\n",
    "\n",
    "Vale lembrar que a Reflectância de Sensoriamento Remoto (Rrs) é a razão entre a radiância emergente da água e a irradiância descendente, compensada pela radiância do céu e corrigida pelos efeitos de brilho especular (glint) (Equação 01).\n",
    "\n",
    "Para mais informações, consulte a publicação [(Lehmann et al. 2023)](https://www.nature.com/articles/s41597-023-01973-y) e o dataset disponível no [PANGAEA](http://https://doi.pangaea.de/10.1594/PANGAEA.948492) e [Nature Earth and Environmment blog post](https://communities.springernature.com/posts/gloria-challenges-in-developing-a-globally-representative-hyperspectral-in-situ-dataset-for-the-remote-sensing-of-water-resources)\n",
    "\n",
    "\n",
    "\n",
    "![Figure 01](https://earthenvironmentcommunity.nature.com/cdn-cgi/image/metadata=copyright,fit=scale-down,format=auto,sharpen=1,quality=95/https://images.zapnito.com/uploads/hiCMOprnTtSCTJNv78gu_locations.jpg)\n"
   ]
  },
  {
   "cell_type": "code",
   "execution_count": null,
   "id": "b9766a38-57fe-45ff-ba43-9dbc10575aa8",
   "metadata": {},
   "outputs": [],
   "source": [
    "\n",
    "###### Download GLORIA data ##########\n",
    "\n",
    "URL = 'https://download.pangaea.de/dataset/948492/files/GLORIA-2022.zip'\n",
    "\n",
    "# Before download, let`s set timeout to 200s (sometimes PANGAEA download is slow)\n",
    "\n",
    "options(timeout=300)\n",
    "\n",
    "# If the directory with files doesn't exist, let's download GLORIA data.\n",
    "\n",
    "if(dir.exists('Data/GLORIA_2022/') == FALSE) {\n",
    "  \n",
    "  # Download\n",
    "  download.file(URL, 'Data/GLORIA.zip')\n",
    "  \n",
    "  # Extract\n",
    "  unzip(zipfile = 'Data/GLORIA.zip', exdir = 'Data')\n",
    "  \n",
    "}"
   ]
  },
  {
   "cell_type": "code",
   "execution_count": null,
   "id": "b9a97720-d351-404f-81bd-f80b83216577",
   "metadata": {},
   "outputs": [],
   "source": [
    "\n",
    "##### Analyzing GLORIA data #######\n",
    "\n",
    "meta_and_lab = fread(\"Data/GLORIA_2022/GLORIA_meta_and_lab.csv\")\n",
    "rrs = fread(\"Data/GLORIA_2022/GLORIA_Rrs.csv\")\n",
    "\n",
    "##### Plot for different concentrations #######\n",
    "\n",
    "# High Chl-a\n",
    "\n",
    "par(mfrow=c(2,2))\n",
    "\n",
    "matplot(t(select(rrs, paste(\"Rrs_\", 400:900, sep = ''))[rrs$GLORIA_ID == 'GID_7403',]), ylim = c(0,0.06),\n",
    "        x= c(400:900), pch = 20, xlab = '', ylab = '', type = 'l', main = \"Alta Clorofila\", cex.main = 2 )\n",
    "\n",
    "# High TSS\n",
    "\n",
    "matplot(t(select(rrs, paste(\"Rrs_\", 400:900, sep = ''))[rrs$GLORIA_ID == 'GID_1805',]), ylim = c(0,0.06),\n",
    "        x= c(400:900), pch = 20, xlab = '', ylab = '', type = 'l', main = \"Alto Sedimento\" , cex.main = 2)\n",
    "\n",
    "\n",
    "# High aCDOM\n",
    "\n",
    "matplot(t(select(rrs, paste(\"Rrs_\", 400:900, sep = ''))[rrs$GLORIA_ID == 'GID_2468',]), ylim = c(0,0.0005),\n",
    "        x= c(400:900), pch = 20, xlab = '', ylab = '', type = 'l', main = \"Alto aCDOM\", cex.main = 2)\n"
   ]
  },
  {
   "cell_type": "markdown",
   "id": "f31fa0ed-de36-4e84-a109-6cd093b35625",
   "metadata": {},
   "source": [
    "# Simulação de Bandas\n",
    "\n",
    "Quando simulamos uma banda de satélite, estamos compensando as diferenças na sensibilidade dos detectores a cada comprimento de onda. A figura abaixo mostra as diferenças na função de resposta espectral para os sensores Sentinel-2A/MSI, Landsat-8/OLI e Landsat-7/ETM+. É possível notar que valores de resposta espectral relativa próximos de \"1\" indicam que o detector consegue medir (ou detectar) toda a radiância naquele comprimento de onda.\n",
    "\n",
    "Uma banda de um sensor é composta por um intervalo desses comprimentos de onda e, portanto, a banda simulada é a integração da R[rs] considerando a curva de Resposta Espectral Relativa.\n",
    "\n",
    "Deixar só do sentinel\n",
    "\n",
    "![Figure 02](https://upload.wikimedia.org/wikipedia/commons/7/7d/Spectral_responses_of_Landsat_7_ETM%2B%2C_Landsat_8_OLI_and_Sentinel_2_MSI_in_the_visible_and_near_infrared.png)\n"
   ]
  },
  {
   "cell_type": "code",
   "execution_count": null,
   "id": "11131b25-8b66-4caf-82d9-01d80a950f4d",
   "metadata": {},
   "outputs": [],
   "source": [
    "require(bandSimulation)\n",
    "\n",
    "# Selecionar as bandas entre 400 e 900 nm e transpor (Wavelength tem que ser nas linhas)\n",
    "spectra_formated = select(rrs, paste(\"Rrs_\", 400:900, sep = '')) %>% t()\n",
    "\n",
    "# Simulação para MSI\n",
    "MSI_sim = msi_simulation(spectra = spectra_formated, \n",
    "                         point_name = rrs$GLORIA_ID)\n",
    "\n",
    "\n",
    "#It simulates for Sentinel-2A and Sentinel-2B and gives the results in a list.\n",
    "# Let's select only Sentinel-2A.\n",
    "\n",
    "# Pegando os dados do Sentinel-2/A\n",
    "MSI = MSI_sim$s2a[,-1] %>% t() %>% data.frame()\n",
    "\n",
    "\n",
    "# Add names to a collumn\n",
    "MSI$GLORIA_ID = row.names(MSI)\n",
    "\n",
    "# Change band names\n",
    "\n",
    "names(MSI) = c('x440', \"x490\", 'x560', 'x660', \"x705\", 'x740', 'x780', 'x850', 'x865', \"GLORIA_ID\")\n",
    "\n",
    "\n",
    "selection = filter(rrs, GLORIA_ID == 'GID_207')\n",
    "selection.s = filter(MSI, GLORIA_ID == 'GID_207')\n",
    "meta.s = filter(meta_and_lab, GLORIA_ID == 'GID_207')\n"
   ]
  },
  {
   "cell_type": "code",
   "execution_count": null,
   "id": "949a044b-cbfc-43ad-996f-b379e2c4936b",
   "metadata": {},
   "outputs": [],
   "source": [
    "\n",
    "##### Plot example #####\n",
    "\n",
    "par(mar = c(8,8,8,8))\n",
    "matplot(t(select(selection, paste(\"Rrs_\", 400:900, sep = ''))[,]), ylim = c(0,0.01),\n",
    "        x= c(400:900), pch = 20, xlab = '', ylab = '', cex.axis = 2, cex.lab = 2, cex = 2)\n",
    "\n",
    "par(new=T)\n",
    "\n",
    "matplot(t(selection.s[,-10]), x= c(440,490,560,660,705,740,780,842,860), pch = 20,\n",
    "        ylim = c(0,0.01), xlim = c(400,900), col = 'red', , xlab = 'Wavelength (nm)', \n",
    "        ylab = 'Rrs (sr-1)', cex.axis = 2, cex.lab = 2, cex = 2)\n",
    "\n",
    "legend('topleft', legend = c(paste(\"Chl-a = \", meta.s$Chla),\n",
    "                             paste(\"Secchi = \", meta.s$Secchi_depth)), cex = 2)\n"
   ]
  },
  {
   "cell_type": "code",
   "execution_count": null,
   "id": "62969e0e-51f2-4127-8373-b4c1a69752f6",
   "metadata": {},
   "outputs": [],
   "source": [
    "## Como eu tenho duas planilhas separadas, vamos fazer uma junção das duas ####\n",
    "\n",
    "## Merge with water quality, lat long (By GLORIA_ID)\n",
    "\n",
    "merged = merge(select(meta_and_lab, c('GLORIA_ID', 'Chla', \"Latitude\", \"Longitude\")),\n",
    "               MSI, by = \"GLORIA_ID\")\n",
    "\n",
    "###### Index calculation and NA remove #######\n",
    "\n",
    "# Remover os NAs\n",
    "\n",
    "merged = merged[is.na(merged$Chla) == FALSE, ]\n",
    "\n",
    "# Remover valores muito altos > 1000 e menor/igual a zero\n",
    "\n",
    "merged = merged[(merged$Chla < 1000 & merged$Chla > 0), ]\n",
    "\n",
    "# Calculo do NDCI\n",
    "\n",
    "## Adicionra +1 para o mmodelo de potencial - veja em Lobo et al. (2021)\n",
    "\n",
    "merged$NDCI = ((merged$x705-merged$x660)/(merged$x705+merged$x660))+1\n",
    "\n",
    "merged = filter(merged, NDCI > 0 & NDCI < 2)\n",
    "\n",
    "# Correlations\n",
    "\n",
    "chart.Correlation((select(merged, c(\"Chla\", \n",
    "                                   \"NDCI\"))))"
   ]
  },
  {
   "cell_type": "code",
   "execution_count": null,
   "id": "1afcd3d3-fc17-43d3-94b9-6b1e961838cc",
   "metadata": {},
   "outputs": [],
   "source": [
    "write.table(merged, file = 'Outputs/sentinel2_simulated_filtered.csv', row.names = F)"
   ]
  },
  {
   "cell_type": "code",
   "execution_count": null,
   "id": "062ae269-c200-499b-bcee-2e4de46cd38e",
   "metadata": {},
   "outputs": [],
   "source": [
    "getwd()\n",
    "\n"
   ]
  }
 ],
 "metadata": {
  "kernelspec": {
   "display_name": "R (Geospatial)",
   "language": "R",
   "name": "ir"
  },
  "language_info": {
   "codemirror_mode": "r",
   "file_extension": ".r",
   "mimetype": "text/x-r-source",
   "name": "R",
   "pygments_lexer": "r",
   "version": "4.4.3"
  }
 },
 "nbformat": 4,
 "nbformat_minor": 5
}
