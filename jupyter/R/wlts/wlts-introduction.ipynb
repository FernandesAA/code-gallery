{
 "cells": [
  {
   "cell_type": "markdown",
   "metadata": {},
   "source": [
    "<img src=\"../../../img/logo-bdc.png\" align=\"right\" width=\"64\"/>\n",
    "\n",
    "# <span style=\"color:#336699\">Introduction to the Web Land Trajectory Service (WLTS) in R</span>\n",
    "<hr style=\"border:2px solid #0077b9;\">\n",
    "\n",
    "<div style=\"text-align: left;\">\n",
    "    <a href=\"https://nbviewer.jupyter.org/github/brazil-data-cube/code-gallery/blob/master/jupyter/R/wlts/wlts-introduction.ipynb\"><img src=\"https://raw.githubusercontent.com/jupyter/design/master/logos/Badges/nbviewer_badge.svg\" align=\"center\"/></a>\n",
    "</div>\n",
    "\n",
    "<br/>\n",
    "\n",
    "<div style=\"text-align: center;font-size: 90%;\">\n",
    "    Fabiana Zioti<sup><a href=\"https://orcid.org/0000-0002-7305-6043\"><i class=\"fab fa-lg fa-orcid\" style=\"color: #a6ce39\"></i></a></sup>, Felipe Carvalho de Souza<sup><a href=\"https://orcid.org/0000-0002-5826-1700\"><i class=\"fab fa-lg fa-orcid\" style=\"color: #a6ce39\"></i></a></sup>, Felipe Menino Carlos<sup><a href=\"https://orcid.org/0000-0002-3334-4315\"><i class=\"fab fa-lg fa-orcid\" style=\"color: #a6ce39\"></i></a></sup>,  Gilberto R. Queiroz<sup><a href=\"https://orcid.org/0000-0001-7534-0219\"><i class=\"fab fa-lg fa-orcid\" style=\"color: #a6ce39\"></i></a></sup>\n",
    "    <br/><br/>\n",
    "    Earth Observation and Geoinformatics Division, National Institute for Space Research (INPE)\n",
    "    <br/>\n",
    "    Avenida dos Astronautas, 1758, Jardim da Granja, São José dos Campos, SP 12227-010, Brazil\n",
    "    <br/><br/>\n",
    "    Contact: <a href=\"mailto:brazildatacube@inpe.br\">brazildatacube@inpe.br</a>\n",
    "    <br/><br/>\n",
    "    Last Update: March 24, 2021\n",
    "</div>\n",
    "\n",
    "</br>\n",
    "<div style=\"text-align: justify;  margin-left: 25%; margin-right: 25%;\">\n",
    "<b>Abstract.</b> This Jupyter Notebook gives an overview on how to use WLTS to discover and access land use and cover trajectories data from well-known projects, including PRODES, DETER, and TerraClass.\n",
    "</div>    \n",
    "\n",
    "<br/>\n",
    "\n",
    "<div style=\"text-align: justify;  margin-left: 15%; margin-right: 15%;font-size: 75%; border-style: solid; border-color: #0077b9; border-width: 1px; padding: 5px;\">\n",
    "    <b>This Jupyter Notebook is supplement to the <a href=\"https://www.mdpi.com/2072-4292/12/24/4033/htm#sec5-remotesensing-12-04033\" target=\"_blank\">Section 5</a> of the following paper:</b>\n",
    "    <div style=\"margin-left: 10px; margin-right: 10px; margin-top:10px\">\n",
    "      <p> Ferreira, K.R.; Queiroz, G.R.; Vinhas, L.; Marujo, R.F.B.; Simoes, R.E.O.; Picoli, M.C.A.; Camara, G.; Cartaxo, R.; Gomes, V.C.F.; Santos, L.A.; Sanchez, A.H.; Arcanjo, J.S.; Fronza, J.G.; Noronha, C.A.; Costa, R.W.; Zaglia, M.C.; Zioti, F.; Korting, T.S.; Soares, A.R.; Chaves, M.E.D.; Fonseca, L.M.G. 2020. Earth Observation Data Cubes for Brazil: Requirements, Methodology and Products. Remote Sens. 12, no. 24: 4033. DOI: <a href=\"https://doi.org/10.3390/rs12244033\" target=\"_blank\">10.3390/rs12244033</a>. </p>\n",
    "      <p> Zioti, F.; Gomes, V.C.F.; Ferreira, K.R.; Queiroz, G.R.; Rodriguez, E. L. 2019. Um ambiente para acesso e análise de trajetórias de uso e cobertura da Terra. Anais do XIX Simpósio Brasileiro de Sensoriamento Remoto.São José dos Campos, INPE, 2019. <a href=\"https://proceedings.science/sbsr-2019/papers/um-ambiente-para-acesso-e-analise-de-trajetorias-de-uso-e-cobertura-da-terra\" target=\"_blank\"> Online </a>. </p>\n",
    "    </div>\n",
    "</div>"
   ]
  },
  {
   "cell_type": "markdown",
   "metadata": {},
   "source": [
    "# Introduction\n",
    "<hr style=\"border:1px solid #0077b9;\">"
   ]
  },
  {
   "cell_type": "markdown",
   "metadata": {},
   "source": [
    "The **W**eb **L**and **T**rajectory **S**ervice (WLTS) is a web service designed to access and retrieve trajectories of land use and coverage from different type of data sources. Through a simple API, it brings the concept of Land Use and Cover Trajectories as a high level abstraction. Given a location and a time interval you can retrieve the land trajectory from many data collections, including information from the PRODES, DETER, and TerraClass projects.\n",
    "\n",
    "`Figure 1` shows an example of representation of land use and cover trajectories extracted from a set of classified images, temporally ordered:\n",
    "\n",
    "\n",
    "<center>\n",
    "    <img src=\"../../../img/wlts/trajectory_def.png\" width=\"600\" />\n",
    "    <br/>\n",
    "    <b>Figure 1</b> - Land use and cover Trajectory.\n",
    "</center>\n",
    "\n",
    "The WLTS introduces the following concepts:\n",
    "\n",
    "- **Collections**: refers to a specific dataset from a given data source. A collection can be either represented by vector or raster structures. It has a time interval delimited by time (tmin, tmax). In this way, each Collection has an associated time attribute, which is aligned according to the time granularity of each project that makes the Collection available.\n",
    "\n",
    "- **Class**: It is the label associated with a particular data item, which corresponds to the specific types of land use or cover, defined by the data source classification system. A Collection consists of a set of Class.\n",
    "\n",
    "- **Trajectory**: Given a spatial location (x, y), a trajectory is represented by a set of observations that contains the land use and land cover class, the name of collection and time associated with an x, y location in space.\n",
    "\n",
    "WLTS is based on three operations:\n",
    "\n",
    "- ``list_collections``: returns the list of collections available in the service.\n",
    "\n",
    "- ``describe_collection``: returns the metadata of a given data collection.\n",
    "\n",
    "- ``trajectory``: returns the land use and cover trajectory from the collections given a location in space. The property result contains the feature identifier information, class, time, and the collection associated to the data item.\n",
    "\n",
    "This Jupyter Notebook shows how to use the [R Client Library](https://github.com/brazil-data-cube/rwlts) for Web Land Trajectory Service."
   ]
  },
  {
   "cell_type": "markdown",
   "metadata": {},
   "source": [
    "# R Client API\n",
    "<hr style=\"border:1px solid #0077b9;\">"
   ]
  },
  {
   "cell_type": "markdown",
   "metadata": {},
   "source": [
    "For running the examples in this Jupyter Notebook you will need to install the [WLTS client for R](https://github.com/brazil-data-cube/rwlts). The command below installs `rwlts` direct from the code repository of the Brazil Data Cube project using [remotes](https://CRAN.R-project.org/package=remotes)."
   ]
  },
  {
   "cell_type": "code",
   "execution_count": null,
   "metadata": {},
   "outputs": [],
   "source": [
    "# Remove '#' to install the package\n",
    "#install.packages(c(\"remotes\", tibble\"), quiet = TRUE)"
   ]
  },
  {
   "cell_type": "code",
   "execution_count": null,
   "metadata": {},
   "outputs": [],
   "source": [
    "# Remove '#' to install the package\n",
    "# remotes::install_github(\"brazil-data-cube/rwlts\", upgrade = \"never\")"
   ]
  },
  {
   "cell_type": "markdown",
   "metadata": {},
   "source": [
    "With the package installed, to make use of its features, you need to load the package. In the R language, the package can be loaded as shown below:"
   ]
  },
  {
   "cell_type": "code",
   "execution_count": null,
   "metadata": {},
   "outputs": [],
   "source": [
    "library(rwlts)  # Package rwlts\n",
    "library(tibble) # Package to represent data frame structure"
   ]
  },
  {
   "cell_type": "markdown",
   "metadata": {},
   "source": [
    "WLTS is a client-server service. On the server-side, the data is stored, which is accessible through each of the API operations, described earlier. On the client-side (what this tutorial covers), you can use the operations and consume the data. In this tutorial, we will use the R client to access the data. We need to define the URL where the WLTS server is operating. The code below defines the URL of the WLTS server"
   ]
  },
  {
   "cell_type": "code",
   "execution_count": null,
   "metadata": {
    "scrolled": true
   },
   "outputs": [],
   "source": [
    "wlts_service <- \"https://brazildatacube.dpi.inpe.br/wlts/\""
   ]
  },
  {
   "cell_type": "markdown",
   "metadata": {},
   "source": [
    "# Listing the Available Collections\n",
    "<hr style=\"border:1px solid #0077b9;\">"
   ]
  },
  {
   "cell_type": "markdown",
   "metadata": {},
   "source": [
    "In WLTS, datasets that aggregate features from different classification systems, which various projects can generate, are represented through collections. \n",
    "\n",
    "Thus, the first operation presented is `list_collections`. This operation returns the list of all data collections that are available in the WLTS. In the rwlts client, this operation is used via the `list_collections` function. The function takes as a parameter the address of the server to be queried."
   ]
  },
  {
   "cell_type": "code",
   "execution_count": null,
   "metadata": {},
   "outputs": [],
   "source": [
    "rwlts::list_collections(wlts_service)"
   ]
  },
  {
   "cell_type": "markdown",
   "metadata": {},
   "source": [
    "The names returned can be used in subsequent operations."
   ]
  },
  {
   "cell_type": "markdown",
   "metadata": {},
   "source": [
    "# Retrieving the Metadata of a collection\n",
    "<hr style=\"border:1px solid #0077b9;\">\n"
   ]
  },
  {
   "cell_type": "markdown",
   "metadata": {},
   "source": [
    "Each collection is associated with a set of metadata that describes it. In WLTS a, there is the describe_collection operation, which allows the retrieval of this information. In rwlts, this operation is used through the `describe_collection`.\n",
    "\n",
    "> The example below retrieves the metadata from the collection named `mapbiomas5_amazonia`\n",
    "It is possible to access the metadata of a specific collection with the `describe_collection`:"
   ]
  },
  {
   "cell_type": "code",
   "execution_count": null,
   "metadata": {},
   "outputs": [],
   "source": [
    "rwlts::describe_collection(wlts_service, \"mapbiomas5_amazonia\")"
   ]
  },
  {
   "cell_type": "markdown",
   "metadata": {},
   "source": [
    "# Retrieving the Trajectory\n",
    "<hr style=\"border:1px solid #0077b9;\">"
   ]
  },
  {
   "cell_type": "markdown",
   "metadata": {},
   "source": [
    "<br>\n",
    "\n",
    "**Single collection**\n",
    "\n",
    "In WLTS, since a collection is associated with a dataset with time variation, it is possible to retrieve the land use and land cover trajectory of a given point. The figure below illustrates this process."
   ]
  },
  {
   "cell_type": "markdown",
   "metadata": {},
   "source": [
    "<br>\n",
    "<div align=\"center\">\n",
    "  <img src=\"../../../img/wlts/traj1.png\" width=\"700px\">\n",
    "   \n",
    "   \n",
    "  <div align=\"center\">\n",
    "      <b>Figure 1</b> - WLTS trajectory extraction\n",
    "  </div>\n",
    "</div>"
   ]
  },
  {
   "cell_type": "markdown",
   "metadata": {},
   "source": [
    "The operation in WLTS that allows the retrieval of the trajectory as shown in the figure is `trajectory`. This operation is used in rwlts through the `get_trajectory` function.\n",
    "\n",
    "> The `get_trajectory` function receives the service URL to be queried, the location, and the collection name.\n",
    "\n",
    "The example below shows get_trajectory to retrieve the point with the location at `latitude -12.0` and `longitude -54.0`. \n",
    "\n",
    "> The CRS of the requests is EPSG:4326"
   ]
  },
  {
   "cell_type": "markdown",
   "metadata": {},
   "source": [
    "In order to retrieve the trajectory in the location of `latitude -12.0` and `longitude -54.0` use the `get_trajectory` function:"
   ]
  },
  {
   "cell_type": "code",
   "execution_count": null,
   "metadata": {},
   "outputs": [],
   "source": [
    "tj = rwlts::get_trajectory(wlts_service, latitude=-12.0, longitude=-54.0, collections='mapbiomas5_amazonia')\n",
    "tj"
   ]
  },
  {
   "cell_type": "markdown",
   "metadata": {},
   "source": [
    "One more point can be passed. To do this, it is necessary to pass pairs of values to the `latitude` and `longitude` arguments\n",
    "\n",
    "> In the example below the points `(-12.0, -54.0)` and `(-12.59, -54.5)` are being recovered.\n",
    "\n",
    "> **Note**, the returned `id` column is inserted to identify each of the points being passed to the function. Thus, the point of `id` 1 represents the first latitude/longitude pair gave. The `id` 2 represents the second pair, and so on.\n"
   ]
  },
  {
   "cell_type": "code",
   "execution_count": null,
   "metadata": {},
   "outputs": [],
   "source": [
    "tj = rwlts::get_trajectory(wlts_service, latitude = c(-12.0, -12.59), longitude = c(-54.0, -54.5), collections = 'mapbiomas5_amazonia')\n",
    "tj"
   ]
  },
  {
   "cell_type": "markdown",
   "metadata": {},
   "source": [
    "<br>\n",
    "\n",
    "**Multiple collections**\n",
    "\n",
    "So far, all our queries have been made considering only one data collection. WLTS allows more than one collection to be accessed at the same time for the same point.  By doing this, a trajectory for each project will be extracted. This way of operation is illustrated by the figure below.\n",
    "\n",
    "<br>\n",
    "\n",
    "<div align=\"center\">\n",
    "  <img src=\"../../../img/wlts/traj2.png\" width=\"800px\">\n",
    "   \n",
    "   \n",
    "  <div align=\"center\">\n",
    "      <b>Figure 2</b> - WLTS trajectory extraction using multiple collections\n",
    "  </div>\n",
    "</div>\n",
    "\n"
   ]
  },
  {
   "cell_type": "markdown",
   "metadata": {},
   "source": [
    "To retrieve multiple collections, insert each collection's name that needs to be queried into the get_trajectory function. The names are entered in the collections parameter and must be separated by a comma.\n",
    "\n",
    "\n",
    "As an example, the code below retrieves the trajectories considering the collections `mapbiomas5_amazonia` and `terraclass_amazonia`.\n"
   ]
  },
  {
   "cell_type": "code",
   "execution_count": null,
   "metadata": {},
   "outputs": [],
   "source": [
    "tj = rwlts::get_trajectory(wlts_service, latitude = -12.0, longitude = -54.0, collections = 'mapbiomas5_amazonia,terraclass_amazonia')\n",
    "tj"
   ]
  },
  {
   "cell_type": "markdown",
   "metadata": {},
   "source": [
    "# Visualizing the Trajectory with Tibble\n",
    "<hr style=\"border:1px solid #0077b9;\">"
   ]
  },
  {
   "cell_type": "markdown",
   "metadata": {},
   "source": [
    "When data is retrieved from the server, it is inserted in a [tibble](https://tibble.tidyverse.org/), allowing easy manipulation. To make its use is necessary to access the information present in the `result` key in the result returned by the `get_trajectory` function."
   ]
  },
  {
   "cell_type": "code",
   "execution_count": null,
   "metadata": {},
   "outputs": [],
   "source": [
    "tj = rwlts::get_trajectory(wlts_service, latitude = -12.0, longitude = -54.0, collections = \"mapbiomas5_amazonia\")\n",
    "head(tj$result, 5)"
   ]
  },
  {
   "cell_type": "code",
   "execution_count": null,
   "metadata": {},
   "outputs": [],
   "source": [
    "tj = rwlts::get_trajectory(wlts_service, latitude = -4.090, longitude = -63.353, collections = \"mapbiomas5_amazonia\")\n",
    "head(tj$result, 5)"
   ]
  },
  {
   "cell_type": "code",
   "execution_count": null,
   "metadata": {},
   "outputs": [],
   "source": [
    "tj = rwlts::get_trajectory(wlts_service, latitude = c(-12.0, -12.59), longitude = c(-54.0, -54.5), collections = \"mapbiomas5_amazonia\")\n",
    "head(tj$result, 5)"
   ]
  },
  {
   "cell_type": "markdown",
   "metadata": {},
   "source": [
    "# 6. References\n",
    "<hr style=\"border:1px solid #0077b9;\">"
   ]
  },
  {
   "cell_type": "markdown",
   "metadata": {},
   "source": [
    "To learn more about the WLTS ecosystem, see the Brazil Data Cube project repositories on github\n",
    "\n",
    "\n",
    "- [WLTS Server](https://github.com/brazil-data-cube/wlts)\n",
    "\n",
    "- [WLTS OpenAPI 3 Specification](https://github.com/brazil-data-cube/wlts-spec)\n",
    "\n",
    "- [R Client Library for Web Land Trajectory Service - GitHub Repository](https://github.com/brazil-data-cube/rwlts)"
   ]
  }
 ],
 "metadata": {
  "celltoolbar": "Raw Cell Format",
  "kernelspec": {
   "display_name": "R",
   "language": "R",
   "name": "ir"
  },
  "language_info": {
   "codemirror_mode": "r",
   "file_extension": ".r",
   "mimetype": "text/x-r-source",
   "name": "R",
   "pygments_lexer": "r",
   "version": "4.0.4"
  }
 },
 "nbformat": 4,
 "nbformat_minor": 4
}
