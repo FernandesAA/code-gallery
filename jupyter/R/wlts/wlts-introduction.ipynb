{
 "cells": [
  {
   "cell_type": "markdown",
   "metadata": {},
   "source": [
    "<img src=\"../../../img/logo-bdc.png\" align=\"right\" width=\"64\"/>\n",
    "\n",
    "# <span style=\"color:#336699\"> Web Land Trajectory Service (WLTS)</span>\n",
    "<hr style=\"border:2px solid #0077b9;\">\n"
   ]
  },
  {
   "cell_type": "markdown",
   "metadata": {},
   "source": [
    "**W**eb **L**and **T**rajectory **S**ervice (WLTS) is a service that aims to facilitate the access to various land use and cover data collections through a tailored API. WLTS brings the concept of Land Use and Cover Trajectories as a high level abstraction.  Given a location and a time interval you can retrieve the trajectory of the these various data collections.\n",
    "\n",
    "\n",
    "\n",
    "WTSS is based on three operations:\n",
    "\n",
    "- ``list_collections``: returns the list of collections available in the service.\n",
    "\n",
    "- ``describe_collection``: returns the metadata of a given data collection.\n",
    "\n",
    "- ``trajectory``: returns the land use and cover trajectory from the collections given a location in space. The property result contains the feature identifier information, class, time, and the collection associated to the data item.\n",
    "\n",
    "This Jupyter Notebook shows how to use R Client Library for Web Land Trajectory Service."
   ]
  },
  {
   "cell_type": "markdown",
   "metadata": {},
   "source": [
    "# 1. R Client API\n",
    "<hr style=\"border:1px solid #0077b9;\">"
   ]
  },
  {
   "cell_type": "markdown",
   "metadata": {},
   "source": [
    "For running the examples in this Jupyter Notebook you will need to install the [WLTS client for R](https://github.com/brazil-data-cube/rwlts). In order to access the funcionalities of the client API, you should import the wlts package, as follows:"
   ]
  },
  {
   "cell_type": "code",
   "execution_count": 1,
   "metadata": {},
   "outputs": [],
   "source": [
    "library(rwlts)"
   ]
  },
  {
   "cell_type": "markdown",
   "metadata": {},
   "source": [
    "With the package loaded, the definition of a variable with the URL of the WLTS server will be consulted during the use of the functionalities. In this case, the development server will be used."
   ]
  },
  {
   "cell_type": "code",
   "execution_count": 2,
   "metadata": {
    "scrolled": true
   },
   "outputs": [],
   "source": [
    "wlts_service <- \"http://brazildatacube.dpi.inpe.br/dev/wlts\""
   ]
  },
  {
   "cell_type": "markdown",
   "metadata": {},
   "source": [
    "# 2. Listing the Available Collections\n",
    "<hr style=\"border:1px solid #0077b9;\">"
   ]
  },
  {
   "cell_type": "markdown",
   "metadata": {},
   "source": [
    "To list the collections available on the WLTS server, you can use the `list_collections` function."
   ]
  },
  {
   "cell_type": "code",
   "execution_count": 3,
   "metadata": {},
   "outputs": [
    {
     "data": {
      "text/html": [
       "<ol class=list-inline>\n",
       "\t<li>'terraclass_amazonia'</li>\n",
       "\t<li>'deter_amazonia_legal'</li>\n",
       "\t<li>'deter_cerrado'</li>\n",
       "\t<li>'prodes_cerrado'</li>\n",
       "\t<li>'prodes_amazonia_legal'</li>\n",
       "\t<li>'lapig_cerrado_pasture'</li>\n",
       "\t<li>'ibge_cobertura_uso_terra'</li>\n",
       "\t<li>'mapbiomas5_amazonia'</li>\n",
       "\t<li>'mapbiomas5_cerrado'</li>\n",
       "\t<li>'mapbiomas5_caatinga'</li>\n",
       "\t<li>'mapbiomas5_mata_atlantica'</li>\n",
       "\t<li>'mapbiomas5_pampa'</li>\n",
       "\t<li>'mapbiomas5_pantanal'</li>\n",
       "</ol>\n"
      ],
      "text/latex": [
       "\\begin{enumerate*}\n",
       "\\item 'terraclass\\_amazonia'\n",
       "\\item 'deter\\_amazonia\\_legal'\n",
       "\\item 'deter\\_cerrado'\n",
       "\\item 'prodes\\_cerrado'\n",
       "\\item 'prodes\\_amazonia\\_legal'\n",
       "\\item 'lapig\\_cerrado\\_pasture'\n",
       "\\item 'ibge\\_cobertura\\_uso\\_terra'\n",
       "\\item 'mapbiomas5\\_amazonia'\n",
       "\\item 'mapbiomas5\\_cerrado'\n",
       "\\item 'mapbiomas5\\_caatinga'\n",
       "\\item 'mapbiomas5\\_mata\\_atlantica'\n",
       "\\item 'mapbiomas5\\_pampa'\n",
       "\\item 'mapbiomas5\\_pantanal'\n",
       "\\end{enumerate*}\n"
      ],
      "text/markdown": [
       "1. 'terraclass_amazonia'\n",
       "2. 'deter_amazonia_legal'\n",
       "3. 'deter_cerrado'\n",
       "4. 'prodes_cerrado'\n",
       "5. 'prodes_amazonia_legal'\n",
       "6. 'lapig_cerrado_pasture'\n",
       "7. 'ibge_cobertura_uso_terra'\n",
       "8. 'mapbiomas5_amazonia'\n",
       "9. 'mapbiomas5_cerrado'\n",
       "10. 'mapbiomas5_caatinga'\n",
       "11. 'mapbiomas5_mata_atlantica'\n",
       "12. 'mapbiomas5_pampa'\n",
       "13. 'mapbiomas5_pantanal'\n",
       "\n",
       "\n"
      ],
      "text/plain": [
       " [1] \"terraclass_amazonia\"       \"deter_amazonia_legal\"     \n",
       " [3] \"deter_cerrado\"             \"prodes_cerrado\"           \n",
       " [5] \"prodes_amazonia_legal\"     \"lapig_cerrado_pasture\"    \n",
       " [7] \"ibge_cobertura_uso_terra\"  \"mapbiomas5_amazonia\"      \n",
       " [9] \"mapbiomas5_cerrado\"        \"mapbiomas5_caatinga\"      \n",
       "[11] \"mapbiomas5_mata_atlantica\" \"mapbiomas5_pampa\"         \n",
       "[13] \"mapbiomas5_pantanal\"      "
      ]
     },
     "metadata": {},
     "output_type": "display_data"
    }
   ],
   "source": [
    "list_collections(wlts_service)"
   ]
  },
  {
   "cell_type": "markdown",
   "metadata": {},
   "source": [
    "The names returned can be used in subsequent operations."
   ]
  },
  {
   "cell_type": "markdown",
   "metadata": {},
   "source": [
    "# 3. Retrieving the Metadata of a collection\n",
    "<hr style=\"border:1px solid #0077b9;\">\n"
   ]
  },
  {
   "cell_type": "markdown",
   "metadata": {},
   "source": [
    "It is possible to access the metadata of a specific collection with the `describe_collection`:"
   ]
  },
  {
   "cell_type": "code",
   "execution_count": 4,
   "metadata": {},
   "outputs": [
    {
     "data": {
      "text/html": [
       "<dl>\n",
       "\t<dt>$classification_system</dt>\n",
       "\t\t<dd><dl>\n",
       "\t<dt>$classification_system_id</dt>\n",
       "\t\t<dd>'17'</dd>\n",
       "\t<dt>$classification_system_name</dt>\n",
       "\t\t<dd>'PRODES_Cerrado'</dd>\n",
       "\t<dt>$type</dt>\n",
       "\t\t<dd>'Self'</dd>\n",
       "</dl>\n",
       "</dd>\n",
       "\t<dt>$collection_type</dt>\n",
       "\t\t<dd>'Feature'</dd>\n",
       "\t<dt>$description</dt>\n",
       "\t\t<dd>'PRODES Cerrado que consiste no mapeamento do desmatamento para toda extensão do Cerrado'</dd>\n",
       "\t<dt>$detail</dt>\n",
       "\t\t<dd>'Assim, o Brasil se viu encorajado a estruturar um sistema oficial de monitoramento sistemático do desmatamento para esta região. Neste contexto, o Instituto Nacional de Pesquisas Espaciais (INPE) está divulgando os resultados do projeto PRODES Cerrado que consiste no mapeamento do desmatamento para toda extensão do Cerrado de 2000 a 2018. Por meio do projeto foi construída uma séria histórica bienal da remoção antrópica da vegetação natural para o período de 2000 a 2012 e anual para os anos de 2013 a 2018. Mais informações: http://cerrado.obt.inpe.br/'</dd>\n",
       "\t<dt>$name</dt>\n",
       "\t\t<dd>'prodes_cerrado'</dd>\n",
       "\t<dt>$period</dt>\n",
       "\t\t<dd><dl>\n",
       "\t<dt>$end_date</dt>\n",
       "\t\t<dd>'2019'</dd>\n",
       "\t<dt>$start_date</dt>\n",
       "\t\t<dd>'2000'</dd>\n",
       "</dl>\n",
       "</dd>\n",
       "\t<dt>$resolution_unit</dt>\n",
       "\t\t<dd><dl>\n",
       "\t<dt>$unit</dt>\n",
       "\t\t<dd>'YEAR'</dd>\n",
       "\t<dt>$value</dt>\n",
       "\t\t<dd>'1'</dd>\n",
       "</dl>\n",
       "</dd>\n",
       "\t<dt>$spatial_extent</dt>\n",
       "\t\t<dd><dl>\n",
       "\t<dt>$xmax</dt>\n",
       "\t\t<dd>-24.6851196289062</dd>\n",
       "\t<dt>$xmin</dt>\n",
       "\t\t<dd>-60.0939559936523</dd>\n",
       "\t<dt>$ymax</dt>\n",
       "\t\t<dd>-2.32670903205872</dd>\n",
       "\t<dt>$ymin</dt>\n",
       "\t\t<dd>-41.5224685668945</dd>\n",
       "</dl>\n",
       "</dd>\n",
       "</dl>\n"
      ],
      "text/latex": [
       "\\begin{description}\n",
       "\\item[\\$classification\\_system] \\begin{description}\n",
       "\\item[\\$classification\\_system\\_id] '17'\n",
       "\\item[\\$classification\\_system\\_name] 'PRODES\\_Cerrado'\n",
       "\\item[\\$type] 'Self'\n",
       "\\end{description}\n",
       "\n",
       "\\item[\\$collection\\_type] 'Feature'\n",
       "\\item[\\$description] 'PRODES Cerrado que consiste no mapeamento do desmatamento para toda extensão do Cerrado'\n",
       "\\item[\\$detail] 'Assim, o Brasil se viu encorajado a estruturar um sistema oficial de monitoramento sistemático do desmatamento para esta região. Neste contexto, o Instituto Nacional de Pesquisas Espaciais (INPE) está divulgando os resultados do projeto PRODES Cerrado que consiste no mapeamento do desmatamento para toda extensão do Cerrado de 2000 a 2018. Por meio do projeto foi construída uma séria histórica bienal da remoção antrópica da vegetação natural para o período de 2000 a 2012 e anual para os anos de 2013 a 2018. Mais informações: http://cerrado.obt.inpe.br/'\n",
       "\\item[\\$name] 'prodes\\_cerrado'\n",
       "\\item[\\$period] \\begin{description}\n",
       "\\item[\\$end\\_date] '2019'\n",
       "\\item[\\$start\\_date] '2000'\n",
       "\\end{description}\n",
       "\n",
       "\\item[\\$resolution\\_unit] \\begin{description}\n",
       "\\item[\\$unit] 'YEAR'\n",
       "\\item[\\$value] '1'\n",
       "\\end{description}\n",
       "\n",
       "\\item[\\$spatial\\_extent] \\begin{description}\n",
       "\\item[\\$xmax] -24.6851196289062\n",
       "\\item[\\$xmin] -60.0939559936523\n",
       "\\item[\\$ymax] -2.32670903205872\n",
       "\\item[\\$ymin] -41.5224685668945\n",
       "\\end{description}\n",
       "\n",
       "\\end{description}\n"
      ],
      "text/markdown": [
       "$classification_system\n",
       ":   $classification_system_id\n",
       ":   '17'\n",
       "$classification_system_name\n",
       ":   'PRODES_Cerrado'\n",
       "$type\n",
       ":   'Self'\n",
       "\n",
       "\n",
       "\n",
       "$collection_type\n",
       ":   'Feature'\n",
       "$description\n",
       ":   'PRODES Cerrado que consiste no mapeamento do desmatamento para toda extensão do Cerrado'\n",
       "$detail\n",
       ":   'Assim, o Brasil se viu encorajado a estruturar um sistema oficial de monitoramento sistemático do desmatamento para esta região. Neste contexto, o Instituto Nacional de Pesquisas Espaciais (INPE) está divulgando os resultados do projeto PRODES Cerrado que consiste no mapeamento do desmatamento para toda extensão do Cerrado de 2000 a 2018. Por meio do projeto foi construída uma séria histórica bienal da remoção antrópica da vegetação natural para o período de 2000 a 2012 e anual para os anos de 2013 a 2018. Mais informações: http://cerrado.obt.inpe.br/'\n",
       "$name\n",
       ":   'prodes_cerrado'\n",
       "$period\n",
       ":   $end_date\n",
       ":   '2019'\n",
       "$start_date\n",
       ":   '2000'\n",
       "\n",
       "\n",
       "\n",
       "$resolution_unit\n",
       ":   $unit\n",
       ":   'YEAR'\n",
       "$value\n",
       ":   '1'\n",
       "\n",
       "\n",
       "\n",
       "$spatial_extent\n",
       ":   $xmax\n",
       ":   -24.6851196289062\n",
       "$xmin\n",
       ":   -60.0939559936523\n",
       "$ymax\n",
       ":   -2.32670903205872\n",
       "$ymin\n",
       ":   -41.5224685668945\n",
       "\n",
       "\n",
       "\n",
       "\n",
       "\n"
      ],
      "text/plain": [
       "$classification_system\n",
       "$classification_system$classification_system_id\n",
       "[1] \"17\"\n",
       "\n",
       "$classification_system$classification_system_name\n",
       "[1] \"PRODES_Cerrado\"\n",
       "\n",
       "$classification_system$type\n",
       "[1] \"Self\"\n",
       "\n",
       "\n",
       "$collection_type\n",
       "[1] \"Feature\"\n",
       "\n",
       "$description\n",
       "[1] \"PRODES Cerrado que consiste no mapeamento do desmatamento para toda extensão do Cerrado\"\n",
       "\n",
       "$detail\n",
       "[1] \"Assim, o Brasil se viu encorajado a estruturar um sistema oficial de monitoramento sistemático do desmatamento para esta região. Neste contexto, o Instituto Nacional de Pesquisas Espaciais (INPE) está divulgando os resultados do projeto PRODES Cerrado que consiste no mapeamento do desmatamento para toda extensão do Cerrado de 2000 a 2018. Por meio do projeto foi construída uma séria histórica bienal da remoção antrópica da vegetação natural para o período de 2000 a 2012 e anual para os anos de 2013 a 2018. Mais informações: http://cerrado.obt.inpe.br/\"\n",
       "\n",
       "$name\n",
       "[1] \"prodes_cerrado\"\n",
       "\n",
       "$period\n",
       "$period$end_date\n",
       "[1] \"2019\"\n",
       "\n",
       "$period$start_date\n",
       "[1] \"2000\"\n",
       "\n",
       "\n",
       "$resolution_unit\n",
       "$resolution_unit$unit\n",
       "[1] \"YEAR\"\n",
       "\n",
       "$resolution_unit$value\n",
       "[1] \"1\"\n",
       "\n",
       "\n",
       "$spatial_extent\n",
       "$spatial_extent$xmax\n",
       "[1] -24.68512\n",
       "\n",
       "$spatial_extent$xmin\n",
       "[1] -60.09396\n",
       "\n",
       "$spatial_extent$ymax\n",
       "[1] -2.326709\n",
       "\n",
       "$spatial_extent$ymin\n",
       "[1] -41.52247\n",
       "\n"
      ]
     },
     "metadata": {},
     "output_type": "display_data"
    }
   ],
   "source": [
    "describe_collection(wlts_service, 'prodes_cerrado')"
   ]
  },
  {
   "cell_type": "markdown",
   "metadata": {},
   "source": [
    "# 4. Retrieving the Trajectory\n",
    "<hr style=\"border:1px solid #0077b9;\">"
   ]
  },
  {
   "cell_type": "markdown",
   "metadata": {},
   "source": [
    "In order to retrieve the trajectory in the location of `latitude -12.0` and `longitude -54.0` use the `get_trajectory` function:"
   ]
  },
  {
   "cell_type": "code",
   "execution_count": 5,
   "metadata": {},
   "outputs": [
    {
     "data": {
      "text/plain": [
       "$query\n",
       "NULL\n",
       "\n",
       "$result\n",
       "\u001b[38;5;246m# A tibble: 20 x 4\u001b[39m\n",
       "   class              collection          date  point_id\n",
       "   \u001b[3m\u001b[38;5;246m<chr>\u001b[39m\u001b[23m              \u001b[3m\u001b[38;5;246m<chr>\u001b[39m\u001b[23m               \u001b[3m\u001b[38;5;246m<chr>\u001b[39m\u001b[23m    \u001b[3m\u001b[38;5;246m<int>\u001b[39m\u001b[23m\n",
       "\u001b[38;5;250m 1\u001b[39m Formação Florestal mapbiomas5_amazonia 2000         1\n",
       "\u001b[38;5;250m 2\u001b[39m Formação Florestal mapbiomas5_amazonia 2001         1\n",
       "\u001b[38;5;250m 3\u001b[39m Formação Florestal mapbiomas5_amazonia 2002         1\n",
       "\u001b[38;5;250m 4\u001b[39m Formação Florestal mapbiomas5_amazonia 2003         1\n",
       "\u001b[38;5;250m 5\u001b[39m Formação Florestal mapbiomas5_amazonia 2004         1\n",
       "\u001b[38;5;250m 6\u001b[39m Formação Florestal mapbiomas5_amazonia 2005         1\n",
       "\u001b[38;5;250m 7\u001b[39m Formação Florestal mapbiomas5_amazonia 2006         1\n",
       "\u001b[38;5;250m 8\u001b[39m Formação Florestal mapbiomas5_amazonia 2007         1\n",
       "\u001b[38;5;250m 9\u001b[39m Formação Florestal mapbiomas5_amazonia 2008         1\n",
       "\u001b[38;5;250m10\u001b[39m Formação Florestal mapbiomas5_amazonia 2009         1\n",
       "\u001b[38;5;250m11\u001b[39m Formação Florestal mapbiomas5_amazonia 2010         1\n",
       "\u001b[38;5;250m12\u001b[39m Formação Florestal mapbiomas5_amazonia 2011         1\n",
       "\u001b[38;5;250m13\u001b[39m Formação Florestal mapbiomas5_amazonia 2012         1\n",
       "\u001b[38;5;250m14\u001b[39m Formação Florestal mapbiomas5_amazonia 2013         1\n",
       "\u001b[38;5;250m15\u001b[39m Formação Florestal mapbiomas5_amazonia 2014         1\n",
       "\u001b[38;5;250m16\u001b[39m Formação Florestal mapbiomas5_amazonia 2015         1\n",
       "\u001b[38;5;250m17\u001b[39m Formação Florestal mapbiomas5_amazonia 2016         1\n",
       "\u001b[38;5;250m18\u001b[39m Formação Florestal mapbiomas5_amazonia 2017         1\n",
       "\u001b[38;5;250m19\u001b[39m Formação Florestal mapbiomas5_amazonia 2018         1\n",
       "\u001b[38;5;250m20\u001b[39m Formação Florestal mapbiomas5_amazonia 2019         1\n",
       "\n",
       "attr(,\"class\")\n",
       "[1] \"wlts\""
      ]
     },
     "metadata": {},
     "output_type": "display_data"
    }
   ],
   "source": [
    "tj = get_trajectory(wlts_service, latitude=-12.0, longitude=-54.0, collections='mapbiomas5_amazonia')\n",
    "tj"
   ]
  },
  {
   "cell_type": "markdown",
   "metadata": {},
   "source": [
    "One more point can be passed. To do this, it is necessary to pass pairs of values to the `latitude` and `longitude` arguments\n",
    "\n",
    "> In the example below the points `(-12.0, -54.0)` and `(-12.59, -54.5)` are being recovered\n"
   ]
  },
  {
   "cell_type": "code",
   "execution_count": 6,
   "metadata": {},
   "outputs": [
    {
     "data": {
      "text/plain": [
       "$query\n",
       "NULL\n",
       "\n",
       "$result\n",
       "\u001b[38;5;246m# A tibble: 40 x 4\u001b[39m\n",
       "   class              collection          date  point_id\n",
       "   \u001b[3m\u001b[38;5;246m<chr>\u001b[39m\u001b[23m              \u001b[3m\u001b[38;5;246m<chr>\u001b[39m\u001b[23m               \u001b[3m\u001b[38;5;246m<chr>\u001b[39m\u001b[23m    \u001b[3m\u001b[38;5;246m<int>\u001b[39m\u001b[23m\n",
       "\u001b[38;5;250m 1\u001b[39m Formação Florestal mapbiomas5_amazonia 2000         1\n",
       "\u001b[38;5;250m 2\u001b[39m Formação Florestal mapbiomas5_amazonia 2001         1\n",
       "\u001b[38;5;250m 3\u001b[39m Formação Florestal mapbiomas5_amazonia 2002         1\n",
       "\u001b[38;5;250m 4\u001b[39m Formação Florestal mapbiomas5_amazonia 2003         1\n",
       "\u001b[38;5;250m 5\u001b[39m Formação Florestal mapbiomas5_amazonia 2004         1\n",
       "\u001b[38;5;250m 6\u001b[39m Formação Florestal mapbiomas5_amazonia 2005         1\n",
       "\u001b[38;5;250m 7\u001b[39m Formação Florestal mapbiomas5_amazonia 2006         1\n",
       "\u001b[38;5;250m 8\u001b[39m Formação Florestal mapbiomas5_amazonia 2007         1\n",
       "\u001b[38;5;250m 9\u001b[39m Formação Florestal mapbiomas5_amazonia 2008         1\n",
       "\u001b[38;5;250m10\u001b[39m Formação Florestal mapbiomas5_amazonia 2009         1\n",
       "\u001b[38;5;246m# … with 30 more rows\u001b[39m\n",
       "\n",
       "attr(,\"class\")\n",
       "[1] \"wlts\""
      ]
     },
     "metadata": {},
     "output_type": "display_data"
    }
   ],
   "source": [
    "tj = get_trajectory(wlts_service, latitude=c(-12.0, -12.59), longitude=c(-54.0, -54.5), collections='mapbiomas5_amazonia')\n",
    "tj"
   ]
  },
  {
   "cell_type": "markdown",
   "metadata": {},
   "source": [
    "# 5. Visualizing the Trajectory with Tibble\n",
    "<hr style=\"border:1px solid #0077b9;\">"
   ]
  },
  {
   "cell_type": "markdown",
   "metadata": {},
   "source": [
    "When data is retrieved from the server, it is inserted in a [tibble](https://tibble.tidyverse.org/), allowing easy manipulation. To make its use is necessary to access the information present in the `result` key in the result returned by the `get_trajectory` function."
   ]
  },
  {
   "cell_type": "code",
   "execution_count": 7,
   "metadata": {},
   "outputs": [
    {
     "data": {
      "text/html": [
       "<table>\n",
       "<thead><tr><th scope=col>class</th><th scope=col>collection</th><th scope=col>date</th><th scope=col>point_id</th></tr></thead>\n",
       "<tbody>\n",
       "\t<tr><td>Formação Florestal </td><td>mapbiomas5_amazonia</td><td>2000               </td><td>1                  </td></tr>\n",
       "\t<tr><td>Formação Florestal </td><td>mapbiomas5_amazonia</td><td>2001               </td><td>1                  </td></tr>\n",
       "\t<tr><td>Formação Florestal </td><td>mapbiomas5_amazonia</td><td>2002               </td><td>1                  </td></tr>\n",
       "\t<tr><td>Formação Florestal </td><td>mapbiomas5_amazonia</td><td>2003               </td><td>1                  </td></tr>\n",
       "\t<tr><td>Formação Florestal </td><td>mapbiomas5_amazonia</td><td>2004               </td><td>1                  </td></tr>\n",
       "\t<tr><td>Formação Florestal </td><td>mapbiomas5_amazonia</td><td>2005               </td><td>1                  </td></tr>\n",
       "\t<tr><td>Formação Florestal </td><td>mapbiomas5_amazonia</td><td>2006               </td><td>1                  </td></tr>\n",
       "\t<tr><td>Formação Florestal </td><td>mapbiomas5_amazonia</td><td>2007               </td><td>1                  </td></tr>\n",
       "\t<tr><td>Formação Florestal </td><td>mapbiomas5_amazonia</td><td>2008               </td><td>1                  </td></tr>\n",
       "\t<tr><td>Formação Florestal </td><td>mapbiomas5_amazonia</td><td>2009               </td><td>1                  </td></tr>\n",
       "\t<tr><td>Formação Florestal </td><td>mapbiomas5_amazonia</td><td>2010               </td><td>1                  </td></tr>\n",
       "\t<tr><td>Formação Florestal </td><td>mapbiomas5_amazonia</td><td>2011               </td><td>1                  </td></tr>\n",
       "\t<tr><td>Formação Florestal </td><td>mapbiomas5_amazonia</td><td>2012               </td><td>1                  </td></tr>\n",
       "\t<tr><td>Formação Florestal </td><td>mapbiomas5_amazonia</td><td>2013               </td><td>1                  </td></tr>\n",
       "\t<tr><td>Formação Florestal </td><td>mapbiomas5_amazonia</td><td>2014               </td><td>1                  </td></tr>\n",
       "\t<tr><td>Formação Florestal </td><td>mapbiomas5_amazonia</td><td>2015               </td><td>1                  </td></tr>\n",
       "\t<tr><td>Formação Florestal </td><td>mapbiomas5_amazonia</td><td>2016               </td><td>1                  </td></tr>\n",
       "\t<tr><td>Formação Florestal </td><td>mapbiomas5_amazonia</td><td>2017               </td><td>1                  </td></tr>\n",
       "\t<tr><td>Formação Florestal </td><td>mapbiomas5_amazonia</td><td>2018               </td><td>1                  </td></tr>\n",
       "\t<tr><td>Formação Florestal </td><td>mapbiomas5_amazonia</td><td>2019               </td><td>1                  </td></tr>\n",
       "</tbody>\n",
       "</table>\n"
      ],
      "text/latex": [
       "\\begin{tabular}{r|llll}\n",
       " class & collection & date & point\\_id\\\\\n",
       "\\hline\n",
       "\t Formação Florestal    & mapbiomas5\\_amazonia & 2000                  & 1                    \\\\\n",
       "\t Formação Florestal    & mapbiomas5\\_amazonia & 2001                  & 1                    \\\\\n",
       "\t Formação Florestal    & mapbiomas5\\_amazonia & 2002                  & 1                    \\\\\n",
       "\t Formação Florestal    & mapbiomas5\\_amazonia & 2003                  & 1                    \\\\\n",
       "\t Formação Florestal    & mapbiomas5\\_amazonia & 2004                  & 1                    \\\\\n",
       "\t Formação Florestal    & mapbiomas5\\_amazonia & 2005                  & 1                    \\\\\n",
       "\t Formação Florestal    & mapbiomas5\\_amazonia & 2006                  & 1                    \\\\\n",
       "\t Formação Florestal    & mapbiomas5\\_amazonia & 2007                  & 1                    \\\\\n",
       "\t Formação Florestal    & mapbiomas5\\_amazonia & 2008                  & 1                    \\\\\n",
       "\t Formação Florestal    & mapbiomas5\\_amazonia & 2009                  & 1                    \\\\\n",
       "\t Formação Florestal    & mapbiomas5\\_amazonia & 2010                  & 1                    \\\\\n",
       "\t Formação Florestal    & mapbiomas5\\_amazonia & 2011                  & 1                    \\\\\n",
       "\t Formação Florestal    & mapbiomas5\\_amazonia & 2012                  & 1                    \\\\\n",
       "\t Formação Florestal    & mapbiomas5\\_amazonia & 2013                  & 1                    \\\\\n",
       "\t Formação Florestal    & mapbiomas5\\_amazonia & 2014                  & 1                    \\\\\n",
       "\t Formação Florestal    & mapbiomas5\\_amazonia & 2015                  & 1                    \\\\\n",
       "\t Formação Florestal    & mapbiomas5\\_amazonia & 2016                  & 1                    \\\\\n",
       "\t Formação Florestal    & mapbiomas5\\_amazonia & 2017                  & 1                    \\\\\n",
       "\t Formação Florestal    & mapbiomas5\\_amazonia & 2018                  & 1                    \\\\\n",
       "\t Formação Florestal    & mapbiomas5\\_amazonia & 2019                  & 1                    \\\\\n",
       "\\end{tabular}\n"
      ],
      "text/markdown": [
       "\n",
       "| class | collection | date | point_id |\n",
       "|---|---|---|---|\n",
       "| Formação Florestal  | mapbiomas5_amazonia | 2000                | 1                   |\n",
       "| Formação Florestal  | mapbiomas5_amazonia | 2001                | 1                   |\n",
       "| Formação Florestal  | mapbiomas5_amazonia | 2002                | 1                   |\n",
       "| Formação Florestal  | mapbiomas5_amazonia | 2003                | 1                   |\n",
       "| Formação Florestal  | mapbiomas5_amazonia | 2004                | 1                   |\n",
       "| Formação Florestal  | mapbiomas5_amazonia | 2005                | 1                   |\n",
       "| Formação Florestal  | mapbiomas5_amazonia | 2006                | 1                   |\n",
       "| Formação Florestal  | mapbiomas5_amazonia | 2007                | 1                   |\n",
       "| Formação Florestal  | mapbiomas5_amazonia | 2008                | 1                   |\n",
       "| Formação Florestal  | mapbiomas5_amazonia | 2009                | 1                   |\n",
       "| Formação Florestal  | mapbiomas5_amazonia | 2010                | 1                   |\n",
       "| Formação Florestal  | mapbiomas5_amazonia | 2011                | 1                   |\n",
       "| Formação Florestal  | mapbiomas5_amazonia | 2012                | 1                   |\n",
       "| Formação Florestal  | mapbiomas5_amazonia | 2013                | 1                   |\n",
       "| Formação Florestal  | mapbiomas5_amazonia | 2014                | 1                   |\n",
       "| Formação Florestal  | mapbiomas5_amazonia | 2015                | 1                   |\n",
       "| Formação Florestal  | mapbiomas5_amazonia | 2016                | 1                   |\n",
       "| Formação Florestal  | mapbiomas5_amazonia | 2017                | 1                   |\n",
       "| Formação Florestal  | mapbiomas5_amazonia | 2018                | 1                   |\n",
       "| Formação Florestal  | mapbiomas5_amazonia | 2019                | 1                   |\n",
       "\n"
      ],
      "text/plain": [
       "   class              collection          date point_id\n",
       "1  Formação Florestal mapbiomas5_amazonia 2000 1       \n",
       "2  Formação Florestal mapbiomas5_amazonia 2001 1       \n",
       "3  Formação Florestal mapbiomas5_amazonia 2002 1       \n",
       "4  Formação Florestal mapbiomas5_amazonia 2003 1       \n",
       "5  Formação Florestal mapbiomas5_amazonia 2004 1       \n",
       "6  Formação Florestal mapbiomas5_amazonia 2005 1       \n",
       "7  Formação Florestal mapbiomas5_amazonia 2006 1       \n",
       "8  Formação Florestal mapbiomas5_amazonia 2007 1       \n",
       "9  Formação Florestal mapbiomas5_amazonia 2008 1       \n",
       "10 Formação Florestal mapbiomas5_amazonia 2009 1       \n",
       "11 Formação Florestal mapbiomas5_amazonia 2010 1       \n",
       "12 Formação Florestal mapbiomas5_amazonia 2011 1       \n",
       "13 Formação Florestal mapbiomas5_amazonia 2012 1       \n",
       "14 Formação Florestal mapbiomas5_amazonia 2013 1       \n",
       "15 Formação Florestal mapbiomas5_amazonia 2014 1       \n",
       "16 Formação Florestal mapbiomas5_amazonia 2015 1       \n",
       "17 Formação Florestal mapbiomas5_amazonia 2016 1       \n",
       "18 Formação Florestal mapbiomas5_amazonia 2017 1       \n",
       "19 Formação Florestal mapbiomas5_amazonia 2018 1       \n",
       "20 Formação Florestal mapbiomas5_amazonia 2019 1       "
      ]
     },
     "metadata": {},
     "output_type": "display_data"
    }
   ],
   "source": [
    "tj = get_trajectory(wlts_service, latitude=-12.0, longitude=-54.0, collections='mapbiomas5_amazonia')\n",
    "tj$result"
   ]
  },
  {
   "cell_type": "code",
   "execution_count": 8,
   "metadata": {},
   "outputs": [
    {
     "data": {
      "text/html": [
       "<table>\n",
       "<thead><tr><th scope=col>class</th><th scope=col>collection</th><th scope=col>date</th><th scope=col>point_id</th></tr></thead>\n",
       "<tbody>\n",
       "\t<tr><td>Rio, Lago e Oceano </td><td>mapbiomas5_amazonia</td><td>2000               </td><td>1                  </td></tr>\n",
       "\t<tr><td>Rio, Lago e Oceano </td><td>mapbiomas5_amazonia</td><td>2001               </td><td>1                  </td></tr>\n",
       "\t<tr><td>Rio, Lago e Oceano </td><td>mapbiomas5_amazonia</td><td>2002               </td><td>1                  </td></tr>\n",
       "\t<tr><td>Rio, Lago e Oceano </td><td>mapbiomas5_amazonia</td><td>2003               </td><td>1                  </td></tr>\n",
       "\t<tr><td>Rio, Lago e Oceano </td><td>mapbiomas5_amazonia</td><td>2004               </td><td>1                  </td></tr>\n",
       "\t<tr><td>Rio, Lago e Oceano </td><td>mapbiomas5_amazonia</td><td>2005               </td><td>1                  </td></tr>\n",
       "\t<tr><td>Rio, Lago e Oceano </td><td>mapbiomas5_amazonia</td><td>2006               </td><td>1                  </td></tr>\n",
       "\t<tr><td>Rio, Lago e Oceano </td><td>mapbiomas5_amazonia</td><td>2007               </td><td>1                  </td></tr>\n",
       "\t<tr><td>Rio, Lago e Oceano </td><td>mapbiomas5_amazonia</td><td>2008               </td><td>1                  </td></tr>\n",
       "\t<tr><td>Rio, Lago e Oceano </td><td>mapbiomas5_amazonia</td><td>2009               </td><td>1                  </td></tr>\n",
       "\t<tr><td>Rio, Lago e Oceano </td><td>mapbiomas5_amazonia</td><td>2010               </td><td>1                  </td></tr>\n",
       "\t<tr><td>Rio, Lago e Oceano </td><td>mapbiomas5_amazonia</td><td>2011               </td><td>1                  </td></tr>\n",
       "\t<tr><td>Rio, Lago e Oceano </td><td>mapbiomas5_amazonia</td><td>2012               </td><td>1                  </td></tr>\n",
       "\t<tr><td>Rio, Lago e Oceano </td><td>mapbiomas5_amazonia</td><td>2013               </td><td>1                  </td></tr>\n",
       "\t<tr><td>Rio, Lago e Oceano </td><td>mapbiomas5_amazonia</td><td>2014               </td><td>1                  </td></tr>\n",
       "\t<tr><td>Rio, Lago e Oceano </td><td>mapbiomas5_amazonia</td><td>2015               </td><td>1                  </td></tr>\n",
       "\t<tr><td>Rio, Lago e Oceano </td><td>mapbiomas5_amazonia</td><td>2016               </td><td>1                  </td></tr>\n",
       "\t<tr><td>Rio, Lago e Oceano </td><td>mapbiomas5_amazonia</td><td>2017               </td><td>1                  </td></tr>\n",
       "\t<tr><td>Rio, Lago e Oceano </td><td>mapbiomas5_amazonia</td><td>2018               </td><td>1                  </td></tr>\n",
       "\t<tr><td>Rio, Lago e Oceano </td><td>mapbiomas5_amazonia</td><td>2019               </td><td>1                  </td></tr>\n",
       "</tbody>\n",
       "</table>\n"
      ],
      "text/latex": [
       "\\begin{tabular}{r|llll}\n",
       " class & collection & date & point\\_id\\\\\n",
       "\\hline\n",
       "\t Rio, Lago e Oceano    & mapbiomas5\\_amazonia & 2000                  & 1                    \\\\\n",
       "\t Rio, Lago e Oceano    & mapbiomas5\\_amazonia & 2001                  & 1                    \\\\\n",
       "\t Rio, Lago e Oceano    & mapbiomas5\\_amazonia & 2002                  & 1                    \\\\\n",
       "\t Rio, Lago e Oceano    & mapbiomas5\\_amazonia & 2003                  & 1                    \\\\\n",
       "\t Rio, Lago e Oceano    & mapbiomas5\\_amazonia & 2004                  & 1                    \\\\\n",
       "\t Rio, Lago e Oceano    & mapbiomas5\\_amazonia & 2005                  & 1                    \\\\\n",
       "\t Rio, Lago e Oceano    & mapbiomas5\\_amazonia & 2006                  & 1                    \\\\\n",
       "\t Rio, Lago e Oceano    & mapbiomas5\\_amazonia & 2007                  & 1                    \\\\\n",
       "\t Rio, Lago e Oceano    & mapbiomas5\\_amazonia & 2008                  & 1                    \\\\\n",
       "\t Rio, Lago e Oceano    & mapbiomas5\\_amazonia & 2009                  & 1                    \\\\\n",
       "\t Rio, Lago e Oceano    & mapbiomas5\\_amazonia & 2010                  & 1                    \\\\\n",
       "\t Rio, Lago e Oceano    & mapbiomas5\\_amazonia & 2011                  & 1                    \\\\\n",
       "\t Rio, Lago e Oceano    & mapbiomas5\\_amazonia & 2012                  & 1                    \\\\\n",
       "\t Rio, Lago e Oceano    & mapbiomas5\\_amazonia & 2013                  & 1                    \\\\\n",
       "\t Rio, Lago e Oceano    & mapbiomas5\\_amazonia & 2014                  & 1                    \\\\\n",
       "\t Rio, Lago e Oceano    & mapbiomas5\\_amazonia & 2015                  & 1                    \\\\\n",
       "\t Rio, Lago e Oceano    & mapbiomas5\\_amazonia & 2016                  & 1                    \\\\\n",
       "\t Rio, Lago e Oceano    & mapbiomas5\\_amazonia & 2017                  & 1                    \\\\\n",
       "\t Rio, Lago e Oceano    & mapbiomas5\\_amazonia & 2018                  & 1                    \\\\\n",
       "\t Rio, Lago e Oceano    & mapbiomas5\\_amazonia & 2019                  & 1                    \\\\\n",
       "\\end{tabular}\n"
      ],
      "text/markdown": [
       "\n",
       "| class | collection | date | point_id |\n",
       "|---|---|---|---|\n",
       "| Rio, Lago e Oceano  | mapbiomas5_amazonia | 2000                | 1                   |\n",
       "| Rio, Lago e Oceano  | mapbiomas5_amazonia | 2001                | 1                   |\n",
       "| Rio, Lago e Oceano  | mapbiomas5_amazonia | 2002                | 1                   |\n",
       "| Rio, Lago e Oceano  | mapbiomas5_amazonia | 2003                | 1                   |\n",
       "| Rio, Lago e Oceano  | mapbiomas5_amazonia | 2004                | 1                   |\n",
       "| Rio, Lago e Oceano  | mapbiomas5_amazonia | 2005                | 1                   |\n",
       "| Rio, Lago e Oceano  | mapbiomas5_amazonia | 2006                | 1                   |\n",
       "| Rio, Lago e Oceano  | mapbiomas5_amazonia | 2007                | 1                   |\n",
       "| Rio, Lago e Oceano  | mapbiomas5_amazonia | 2008                | 1                   |\n",
       "| Rio, Lago e Oceano  | mapbiomas5_amazonia | 2009                | 1                   |\n",
       "| Rio, Lago e Oceano  | mapbiomas5_amazonia | 2010                | 1                   |\n",
       "| Rio, Lago e Oceano  | mapbiomas5_amazonia | 2011                | 1                   |\n",
       "| Rio, Lago e Oceano  | mapbiomas5_amazonia | 2012                | 1                   |\n",
       "| Rio, Lago e Oceano  | mapbiomas5_amazonia | 2013                | 1                   |\n",
       "| Rio, Lago e Oceano  | mapbiomas5_amazonia | 2014                | 1                   |\n",
       "| Rio, Lago e Oceano  | mapbiomas5_amazonia | 2015                | 1                   |\n",
       "| Rio, Lago e Oceano  | mapbiomas5_amazonia | 2016                | 1                   |\n",
       "| Rio, Lago e Oceano  | mapbiomas5_amazonia | 2017                | 1                   |\n",
       "| Rio, Lago e Oceano  | mapbiomas5_amazonia | 2018                | 1                   |\n",
       "| Rio, Lago e Oceano  | mapbiomas5_amazonia | 2019                | 1                   |\n",
       "\n"
      ],
      "text/plain": [
       "   class              collection          date point_id\n",
       "1  Rio, Lago e Oceano mapbiomas5_amazonia 2000 1       \n",
       "2  Rio, Lago e Oceano mapbiomas5_amazonia 2001 1       \n",
       "3  Rio, Lago e Oceano mapbiomas5_amazonia 2002 1       \n",
       "4  Rio, Lago e Oceano mapbiomas5_amazonia 2003 1       \n",
       "5  Rio, Lago e Oceano mapbiomas5_amazonia 2004 1       \n",
       "6  Rio, Lago e Oceano mapbiomas5_amazonia 2005 1       \n",
       "7  Rio, Lago e Oceano mapbiomas5_amazonia 2006 1       \n",
       "8  Rio, Lago e Oceano mapbiomas5_amazonia 2007 1       \n",
       "9  Rio, Lago e Oceano mapbiomas5_amazonia 2008 1       \n",
       "10 Rio, Lago e Oceano mapbiomas5_amazonia 2009 1       \n",
       "11 Rio, Lago e Oceano mapbiomas5_amazonia 2010 1       \n",
       "12 Rio, Lago e Oceano mapbiomas5_amazonia 2011 1       \n",
       "13 Rio, Lago e Oceano mapbiomas5_amazonia 2012 1       \n",
       "14 Rio, Lago e Oceano mapbiomas5_amazonia 2013 1       \n",
       "15 Rio, Lago e Oceano mapbiomas5_amazonia 2014 1       \n",
       "16 Rio, Lago e Oceano mapbiomas5_amazonia 2015 1       \n",
       "17 Rio, Lago e Oceano mapbiomas5_amazonia 2016 1       \n",
       "18 Rio, Lago e Oceano mapbiomas5_amazonia 2017 1       \n",
       "19 Rio, Lago e Oceano mapbiomas5_amazonia 2018 1       \n",
       "20 Rio, Lago e Oceano mapbiomas5_amazonia 2019 1       "
      ]
     },
     "metadata": {},
     "output_type": "display_data"
    }
   ],
   "source": [
    "tj = get_trajectory(wlts_service, latitude=-4.090, longitude=-63.353, collections='mapbiomas5_amazonia')\n",
    "tj$result"
   ]
  },
  {
   "cell_type": "code",
   "execution_count": 9,
   "metadata": {},
   "outputs": [
    {
     "data": {
      "text/html": [
       "<table>\n",
       "<thead><tr><th scope=col>class</th><th scope=col>collection</th><th scope=col>date</th><th scope=col>point_id</th></tr></thead>\n",
       "<tbody>\n",
       "\t<tr><td>Formação Florestal         </td><td>mapbiomas5_amazonia        </td><td>2000                       </td><td>1                          </td></tr>\n",
       "\t<tr><td>Formação Florestal         </td><td>mapbiomas5_amazonia        </td><td>2001                       </td><td>1                          </td></tr>\n",
       "\t<tr><td>Formação Florestal         </td><td>mapbiomas5_amazonia        </td><td>2002                       </td><td>1                          </td></tr>\n",
       "\t<tr><td>Formação Florestal         </td><td>mapbiomas5_amazonia        </td><td>2003                       </td><td>1                          </td></tr>\n",
       "\t<tr><td>Formação Florestal         </td><td>mapbiomas5_amazonia        </td><td>2004                       </td><td>1                          </td></tr>\n",
       "\t<tr><td>Formação Florestal         </td><td>mapbiomas5_amazonia        </td><td>2005                       </td><td>1                          </td></tr>\n",
       "\t<tr><td>Formação Florestal         </td><td>mapbiomas5_amazonia        </td><td>2006                       </td><td>1                          </td></tr>\n",
       "\t<tr><td>Formação Florestal         </td><td>mapbiomas5_amazonia        </td><td>2007                       </td><td>1                          </td></tr>\n",
       "\t<tr><td>Formação Florestal         </td><td>mapbiomas5_amazonia        </td><td>2008                       </td><td>1                          </td></tr>\n",
       "\t<tr><td>Formação Florestal         </td><td>mapbiomas5_amazonia        </td><td>2009                       </td><td>1                          </td></tr>\n",
       "\t<tr><td>Formação Florestal         </td><td>mapbiomas5_amazonia        </td><td>2010                       </td><td>1                          </td></tr>\n",
       "\t<tr><td>Formação Florestal         </td><td>mapbiomas5_amazonia        </td><td>2011                       </td><td>1                          </td></tr>\n",
       "\t<tr><td>Formação Florestal         </td><td>mapbiomas5_amazonia        </td><td>2012                       </td><td>1                          </td></tr>\n",
       "\t<tr><td>Formação Florestal         </td><td>mapbiomas5_amazonia        </td><td>2013                       </td><td>1                          </td></tr>\n",
       "\t<tr><td>Formação Florestal         </td><td>mapbiomas5_amazonia        </td><td>2014                       </td><td>1                          </td></tr>\n",
       "\t<tr><td>Formação Florestal         </td><td>mapbiomas5_amazonia        </td><td>2015                       </td><td>1                          </td></tr>\n",
       "\t<tr><td>Formação Florestal         </td><td>mapbiomas5_amazonia        </td><td>2016                       </td><td>1                          </td></tr>\n",
       "\t<tr><td>Formação Florestal         </td><td>mapbiomas5_amazonia        </td><td>2017                       </td><td>1                          </td></tr>\n",
       "\t<tr><td>Formação Florestal         </td><td>mapbiomas5_amazonia        </td><td>2018                       </td><td>1                          </td></tr>\n",
       "\t<tr><td>Formação Florestal         </td><td>mapbiomas5_amazonia        </td><td>2019                       </td><td>1                          </td></tr>\n",
       "\t<tr><td>Formação Florestal         </td><td>mapbiomas5_amazonia        </td><td>2000                       </td><td>2                          </td></tr>\n",
       "\t<tr><td>Formação Florestal         </td><td>mapbiomas5_amazonia        </td><td>2001                       </td><td>2                          </td></tr>\n",
       "\t<tr><td>Formação Florestal         </td><td>mapbiomas5_amazonia        </td><td>2002                       </td><td>2                          </td></tr>\n",
       "\t<tr><td>Formação Florestal         </td><td>mapbiomas5_amazonia        </td><td>2003                       </td><td>2                          </td></tr>\n",
       "\t<tr><td>Pastagem                   </td><td>mapbiomas5_amazonia        </td><td>2004                       </td><td>2                          </td></tr>\n",
       "\t<tr><td>Formação Florestal         </td><td>mapbiomas5_amazonia        </td><td>2005                       </td><td>2                          </td></tr>\n",
       "\t<tr><td>Pastagem                   </td><td>mapbiomas5_amazonia        </td><td>2006                       </td><td>2                          </td></tr>\n",
       "\t<tr><td>Formação Florestal         </td><td>mapbiomas5_amazonia        </td><td>2007                       </td><td>2                          </td></tr>\n",
       "\t<tr><td>Formação Florestal         </td><td>mapbiomas5_amazonia        </td><td>2008                       </td><td>2                          </td></tr>\n",
       "\t<tr><td>Pastagem                   </td><td>mapbiomas5_amazonia        </td><td>2009                       </td><td>2                          </td></tr>\n",
       "\t<tr><td>Pastagem                   </td><td>mapbiomas5_amazonia        </td><td>2010                       </td><td>2                          </td></tr>\n",
       "\t<tr><td>Pastagem                   </td><td>mapbiomas5_amazonia        </td><td>2011                       </td><td>2                          </td></tr>\n",
       "\t<tr><td>Pastagem                   </td><td>mapbiomas5_amazonia        </td><td>2012                       </td><td>2                          </td></tr>\n",
       "\t<tr><td>Formação Florestal         </td><td>mapbiomas5_amazonia        </td><td>2013                       </td><td>2                          </td></tr>\n",
       "\t<tr><td>Outras Lavouras Temporárias</td><td>mapbiomas5_amazonia        </td><td>2014                       </td><td>2                          </td></tr>\n",
       "\t<tr><td>Outras Lavouras Temporárias</td><td>mapbiomas5_amazonia        </td><td>2015                       </td><td>2                          </td></tr>\n",
       "\t<tr><td>Outras Lavouras Temporárias</td><td>mapbiomas5_amazonia        </td><td>2016                       </td><td>2                          </td></tr>\n",
       "\t<tr><td>Outras Lavouras Temporárias</td><td>mapbiomas5_amazonia        </td><td>2017                       </td><td>2                          </td></tr>\n",
       "\t<tr><td>Soja                       </td><td>mapbiomas5_amazonia        </td><td>2018                       </td><td>2                          </td></tr>\n",
       "\t<tr><td>Soja                       </td><td>mapbiomas5_amazonia        </td><td>2019                       </td><td>2                          </td></tr>\n",
       "</tbody>\n",
       "</table>\n"
      ],
      "text/latex": [
       "\\begin{tabular}{r|llll}\n",
       " class & collection & date & point\\_id\\\\\n",
       "\\hline\n",
       "\t Formação Florestal          & mapbiomas5\\_amazonia       & 2000                        & 1                          \\\\\n",
       "\t Formação Florestal          & mapbiomas5\\_amazonia       & 2001                        & 1                          \\\\\n",
       "\t Formação Florestal          & mapbiomas5\\_amazonia       & 2002                        & 1                          \\\\\n",
       "\t Formação Florestal          & mapbiomas5\\_amazonia       & 2003                        & 1                          \\\\\n",
       "\t Formação Florestal          & mapbiomas5\\_amazonia       & 2004                        & 1                          \\\\\n",
       "\t Formação Florestal          & mapbiomas5\\_amazonia       & 2005                        & 1                          \\\\\n",
       "\t Formação Florestal          & mapbiomas5\\_amazonia       & 2006                        & 1                          \\\\\n",
       "\t Formação Florestal          & mapbiomas5\\_amazonia       & 2007                        & 1                          \\\\\n",
       "\t Formação Florestal          & mapbiomas5\\_amazonia       & 2008                        & 1                          \\\\\n",
       "\t Formação Florestal          & mapbiomas5\\_amazonia       & 2009                        & 1                          \\\\\n",
       "\t Formação Florestal          & mapbiomas5\\_amazonia       & 2010                        & 1                          \\\\\n",
       "\t Formação Florestal          & mapbiomas5\\_amazonia       & 2011                        & 1                          \\\\\n",
       "\t Formação Florestal          & mapbiomas5\\_amazonia       & 2012                        & 1                          \\\\\n",
       "\t Formação Florestal          & mapbiomas5\\_amazonia       & 2013                        & 1                          \\\\\n",
       "\t Formação Florestal          & mapbiomas5\\_amazonia       & 2014                        & 1                          \\\\\n",
       "\t Formação Florestal          & mapbiomas5\\_amazonia       & 2015                        & 1                          \\\\\n",
       "\t Formação Florestal          & mapbiomas5\\_amazonia       & 2016                        & 1                          \\\\\n",
       "\t Formação Florestal          & mapbiomas5\\_amazonia       & 2017                        & 1                          \\\\\n",
       "\t Formação Florestal          & mapbiomas5\\_amazonia       & 2018                        & 1                          \\\\\n",
       "\t Formação Florestal          & mapbiomas5\\_amazonia       & 2019                        & 1                          \\\\\n",
       "\t Formação Florestal          & mapbiomas5\\_amazonia       & 2000                        & 2                          \\\\\n",
       "\t Formação Florestal          & mapbiomas5\\_amazonia       & 2001                        & 2                          \\\\\n",
       "\t Formação Florestal          & mapbiomas5\\_amazonia       & 2002                        & 2                          \\\\\n",
       "\t Formação Florestal          & mapbiomas5\\_amazonia       & 2003                        & 2                          \\\\\n",
       "\t Pastagem                    & mapbiomas5\\_amazonia       & 2004                        & 2                          \\\\\n",
       "\t Formação Florestal          & mapbiomas5\\_amazonia       & 2005                        & 2                          \\\\\n",
       "\t Pastagem                    & mapbiomas5\\_amazonia       & 2006                        & 2                          \\\\\n",
       "\t Formação Florestal          & mapbiomas5\\_amazonia       & 2007                        & 2                          \\\\\n",
       "\t Formação Florestal          & mapbiomas5\\_amazonia       & 2008                        & 2                          \\\\\n",
       "\t Pastagem                    & mapbiomas5\\_amazonia       & 2009                        & 2                          \\\\\n",
       "\t Pastagem                    & mapbiomas5\\_amazonia       & 2010                        & 2                          \\\\\n",
       "\t Pastagem                    & mapbiomas5\\_amazonia       & 2011                        & 2                          \\\\\n",
       "\t Pastagem                    & mapbiomas5\\_amazonia       & 2012                        & 2                          \\\\\n",
       "\t Formação Florestal          & mapbiomas5\\_amazonia       & 2013                        & 2                          \\\\\n",
       "\t Outras Lavouras Temporárias & mapbiomas5\\_amazonia       & 2014                        & 2                          \\\\\n",
       "\t Outras Lavouras Temporárias & mapbiomas5\\_amazonia       & 2015                        & 2                          \\\\\n",
       "\t Outras Lavouras Temporárias & mapbiomas5\\_amazonia       & 2016                        & 2                          \\\\\n",
       "\t Outras Lavouras Temporárias & mapbiomas5\\_amazonia       & 2017                        & 2                          \\\\\n",
       "\t Soja                        & mapbiomas5\\_amazonia       & 2018                        & 2                          \\\\\n",
       "\t Soja                        & mapbiomas5\\_amazonia       & 2019                        & 2                          \\\\\n",
       "\\end{tabular}\n"
      ],
      "text/markdown": [
       "\n",
       "| class | collection | date | point_id |\n",
       "|---|---|---|---|\n",
       "| Formação Florestal          | mapbiomas5_amazonia         | 2000                        | 1                           |\n",
       "| Formação Florestal          | mapbiomas5_amazonia         | 2001                        | 1                           |\n",
       "| Formação Florestal          | mapbiomas5_amazonia         | 2002                        | 1                           |\n",
       "| Formação Florestal          | mapbiomas5_amazonia         | 2003                        | 1                           |\n",
       "| Formação Florestal          | mapbiomas5_amazonia         | 2004                        | 1                           |\n",
       "| Formação Florestal          | mapbiomas5_amazonia         | 2005                        | 1                           |\n",
       "| Formação Florestal          | mapbiomas5_amazonia         | 2006                        | 1                           |\n",
       "| Formação Florestal          | mapbiomas5_amazonia         | 2007                        | 1                           |\n",
       "| Formação Florestal          | mapbiomas5_amazonia         | 2008                        | 1                           |\n",
       "| Formação Florestal          | mapbiomas5_amazonia         | 2009                        | 1                           |\n",
       "| Formação Florestal          | mapbiomas5_amazonia         | 2010                        | 1                           |\n",
       "| Formação Florestal          | mapbiomas5_amazonia         | 2011                        | 1                           |\n",
       "| Formação Florestal          | mapbiomas5_amazonia         | 2012                        | 1                           |\n",
       "| Formação Florestal          | mapbiomas5_amazonia         | 2013                        | 1                           |\n",
       "| Formação Florestal          | mapbiomas5_amazonia         | 2014                        | 1                           |\n",
       "| Formação Florestal          | mapbiomas5_amazonia         | 2015                        | 1                           |\n",
       "| Formação Florestal          | mapbiomas5_amazonia         | 2016                        | 1                           |\n",
       "| Formação Florestal          | mapbiomas5_amazonia         | 2017                        | 1                           |\n",
       "| Formação Florestal          | mapbiomas5_amazonia         | 2018                        | 1                           |\n",
       "| Formação Florestal          | mapbiomas5_amazonia         | 2019                        | 1                           |\n",
       "| Formação Florestal          | mapbiomas5_amazonia         | 2000                        | 2                           |\n",
       "| Formação Florestal          | mapbiomas5_amazonia         | 2001                        | 2                           |\n",
       "| Formação Florestal          | mapbiomas5_amazonia         | 2002                        | 2                           |\n",
       "| Formação Florestal          | mapbiomas5_amazonia         | 2003                        | 2                           |\n",
       "| Pastagem                    | mapbiomas5_amazonia         | 2004                        | 2                           |\n",
       "| Formação Florestal          | mapbiomas5_amazonia         | 2005                        | 2                           |\n",
       "| Pastagem                    | mapbiomas5_amazonia         | 2006                        | 2                           |\n",
       "| Formação Florestal          | mapbiomas5_amazonia         | 2007                        | 2                           |\n",
       "| Formação Florestal          | mapbiomas5_amazonia         | 2008                        | 2                           |\n",
       "| Pastagem                    | mapbiomas5_amazonia         | 2009                        | 2                           |\n",
       "| Pastagem                    | mapbiomas5_amazonia         | 2010                        | 2                           |\n",
       "| Pastagem                    | mapbiomas5_amazonia         | 2011                        | 2                           |\n",
       "| Pastagem                    | mapbiomas5_amazonia         | 2012                        | 2                           |\n",
       "| Formação Florestal          | mapbiomas5_amazonia         | 2013                        | 2                           |\n",
       "| Outras Lavouras Temporárias | mapbiomas5_amazonia         | 2014                        | 2                           |\n",
       "| Outras Lavouras Temporárias | mapbiomas5_amazonia         | 2015                        | 2                           |\n",
       "| Outras Lavouras Temporárias | mapbiomas5_amazonia         | 2016                        | 2                           |\n",
       "| Outras Lavouras Temporárias | mapbiomas5_amazonia         | 2017                        | 2                           |\n",
       "| Soja                        | mapbiomas5_amazonia         | 2018                        | 2                           |\n",
       "| Soja                        | mapbiomas5_amazonia         | 2019                        | 2                           |\n",
       "\n"
      ],
      "text/plain": [
       "   class                       collection          date point_id\n",
       "1  Formação Florestal          mapbiomas5_amazonia 2000 1       \n",
       "2  Formação Florestal          mapbiomas5_amazonia 2001 1       \n",
       "3  Formação Florestal          mapbiomas5_amazonia 2002 1       \n",
       "4  Formação Florestal          mapbiomas5_amazonia 2003 1       \n",
       "5  Formação Florestal          mapbiomas5_amazonia 2004 1       \n",
       "6  Formação Florestal          mapbiomas5_amazonia 2005 1       \n",
       "7  Formação Florestal          mapbiomas5_amazonia 2006 1       \n",
       "8  Formação Florestal          mapbiomas5_amazonia 2007 1       \n",
       "9  Formação Florestal          mapbiomas5_amazonia 2008 1       \n",
       "10 Formação Florestal          mapbiomas5_amazonia 2009 1       \n",
       "11 Formação Florestal          mapbiomas5_amazonia 2010 1       \n",
       "12 Formação Florestal          mapbiomas5_amazonia 2011 1       \n",
       "13 Formação Florestal          mapbiomas5_amazonia 2012 1       \n",
       "14 Formação Florestal          mapbiomas5_amazonia 2013 1       \n",
       "15 Formação Florestal          mapbiomas5_amazonia 2014 1       \n",
       "16 Formação Florestal          mapbiomas5_amazonia 2015 1       \n",
       "17 Formação Florestal          mapbiomas5_amazonia 2016 1       \n",
       "18 Formação Florestal          mapbiomas5_amazonia 2017 1       \n",
       "19 Formação Florestal          mapbiomas5_amazonia 2018 1       \n",
       "20 Formação Florestal          mapbiomas5_amazonia 2019 1       \n",
       "21 Formação Florestal          mapbiomas5_amazonia 2000 2       \n",
       "22 Formação Florestal          mapbiomas5_amazonia 2001 2       \n",
       "23 Formação Florestal          mapbiomas5_amazonia 2002 2       \n",
       "24 Formação Florestal          mapbiomas5_amazonia 2003 2       \n",
       "25 Pastagem                    mapbiomas5_amazonia 2004 2       \n",
       "26 Formação Florestal          mapbiomas5_amazonia 2005 2       \n",
       "27 Pastagem                    mapbiomas5_amazonia 2006 2       \n",
       "28 Formação Florestal          mapbiomas5_amazonia 2007 2       \n",
       "29 Formação Florestal          mapbiomas5_amazonia 2008 2       \n",
       "30 Pastagem                    mapbiomas5_amazonia 2009 2       \n",
       "31 Pastagem                    mapbiomas5_amazonia 2010 2       \n",
       "32 Pastagem                    mapbiomas5_amazonia 2011 2       \n",
       "33 Pastagem                    mapbiomas5_amazonia 2012 2       \n",
       "34 Formação Florestal          mapbiomas5_amazonia 2013 2       \n",
       "35 Outras Lavouras Temporárias mapbiomas5_amazonia 2014 2       \n",
       "36 Outras Lavouras Temporárias mapbiomas5_amazonia 2015 2       \n",
       "37 Outras Lavouras Temporárias mapbiomas5_amazonia 2016 2       \n",
       "38 Outras Lavouras Temporárias mapbiomas5_amazonia 2017 2       \n",
       "39 Soja                        mapbiomas5_amazonia 2018 2       \n",
       "40 Soja                        mapbiomas5_amazonia 2019 2       "
      ]
     },
     "metadata": {},
     "output_type": "display_data"
    }
   ],
   "source": [
    "tj = get_trajectory(wlts_service, latitude=c(-12.0, -12.59), longitude=c(-54.0, -54.5), collections='mapbiomas5_amazonia')\n",
    "tj$result"
   ]
  },
  {
   "cell_type": "markdown",
   "metadata": {},
   "source": [
    "# 6. References\n",
    "<hr style=\"border:1px solid #0077b9;\">"
   ]
  },
  {
   "cell_type": "markdown",
   "metadata": {},
   "source": [
    "- [R Client Library for Web Land Trajectory Service - GitHub Repository](https://github.com/brazil-data-cube/rwlts)\n",
    "\n",
    "\n",
    "- [WLTS OpenAPI 3 Specification](https://github.com/brazil-data-cube/wlts-spec)\n",
    "\n",
    "\n",
    "- [WLTS Server](https://github.com/brazil-data-cube/wlts)"
   ]
  }
 ],
 "metadata": {
  "celltoolbar": "Raw Cell Format",
  "kernelspec": {
   "display_name": "R",
   "language": "R",
   "name": "ir"
  },
  "language_info": {
   "codemirror_mode": "r",
   "file_extension": ".r",
   "mimetype": "text/x-r-source",
   "name": "R",
   "pygments_lexer": "r",
   "version": "3.6.3"
  }
 },
 "nbformat": 4,
 "nbformat_minor": 4
}
