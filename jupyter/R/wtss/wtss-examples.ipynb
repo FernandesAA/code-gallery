{
 "cells": [
  {
   "cell_type": "markdown",
   "metadata": {},
   "source": [
    "<img src=\"https://raw.githubusercontent.com/brazil-data-cube/code-gallery/master/img/logo-bdc.png\" align=\"right\" width=\"64\"/>\n",
    "\n",
    "# <span style=\"color:#336699\">Web Time Series Service (WTSS) - Examples</span>\n",
    "<hr style=\"border:2px solid #0077b9;\">\n",
    "\n",
    "<div style=\"text-align: left;\">\n",
    "    <a href=\"https://nbviewer.jupyter.org/github/brazil-data-cube/code-gallery/blob/master/jupyter/R/wtss/wtss-examples.ipynb\"><img src=\"https://raw.githubusercontent.com/jupyter/design/master/logos/Badges/nbviewer_badge.svg\" align=\"center\"/></a>\n",
    "</div>\n",
    "\n",
    "<br>\n",
    "\n",
    "<div style=\"text-align: center;font-size: 90%;\">\n",
    "    Felipe Carvalho de Souza<sup><a href=\"https://orcid.org/0000-0002-5826-1700\"><i class=\"fab fa-lg fa-orcid\" style=\"color: #a6ce39\"></i></a></sup>, Felipe Menino Carlos<sup><a href=\"https://orcid.org/0000-0002-3334-4315\"><i class=\"fab fa-lg fa-orcid\" style=\"color: #a6ce39\"></i></a></sup>, Rennan F. B. Marujo<sup><a href=\"https://orcid.org/0000-0002-0082-9498\"><i class=\"fab fa-lg fa-orcid\" style=\"color: #a6ce39\"></i></a></sup>\n",
    "    <br/><br/>\n",
    "    Earth Observation and Geoinformatics Division, National Institute for Space Research (INPE)\n",
    "    <br/>\n",
    "    Avenida dos Astronautas, 1758, Jardim da Granja, São José dos Campos, SP 12227-010, Brazil\n",
    "    <br/><br/>\n",
    "    Contact: <a href=\"mailto:brazildatacube@inpe.br\">brazildatacube@inpe.br</a>\n",
    "    <br/><br/>\n",
    "    Last Update: March 24, 2021\n",
    "</div>\n",
    "\n",
    "<br>\n",
    "\n",
    "<div style=\"text-align: justify;  margin-left: 25%; margin-right: 25%;\">\n",
    "<b>Abstract.</b> This Jupyter Notebook shows how to use the WTSS service to extract time series from <em>Brazil Data Cube</em>' service and how to perform a basic time series manipulation.\n",
    "</div>    \n",
    "\n",
    "<br>\n",
    "<div style=\"text-align: justify;  margin-left: 25%; margin-right: 25%;font-size: 75%; border-style: solid; border-color: #0077b9; border-width: 1px; padding: 5px;\">\n",
    "    <b>This Jupyter Notebook is a supplement to the following paper:</b>\n",
    "    <div style=\"margin-left: 10px; margin-right: 10px\">\n",
    "    Vinhas, L.; Queiroz, G. R.; Ferreira, K. R.; Camara, G. <a href=\"http://www.seer.ufu.br/index.php/revistabrasileiracartografia/article/view/44004\" target=\"_blank\">Web Services for Big Earth Observation Data</a>. Revista Brasileira de Cartografia, v. 69, n. 5, 18 maio 2017.\n",
    "    </div>\n",
    "</div>"
   ]
  },
  {
   "cell_type": "markdown",
   "metadata": {},
   "source": [
    "# R Client API\n",
    "<hr style=\"border:1px solid #0077b9;\">"
   ]
  },
  {
   "cell_type": "markdown",
   "metadata": {},
   "source": [
    "The command below installs the additional packages that are required to run this Jupyter Notebook."
   ]
  },
  {
   "cell_type": "code",
   "execution_count": null,
   "metadata": {},
   "outputs": [],
   "source": [
    "# Remove '#' to install the packages\n",
    "# install.packages(c(\"remotes\", \"magrittr\", \"dplyr\", \"tibble\", \"tidyr\"))"
   ]
  },
  {
   "cell_type": "markdown",
   "metadata": {},
   "source": [
    "For running the examples in this Jupyter Notebook you will need to install the [Rwtss client for R](https://github.com/e-sensing/Rwtss). The command below installs `Rwtss` direct from the code repository of the Brazil Data Cube project using [remotes](https://CRAN.R-project.org/package=remotes)."
   ]
  },
  {
   "cell_type": "code",
   "execution_count": null,
   "metadata": {},
   "outputs": [],
   "source": [
    "# Remove '#' to install the package\n",
    "# remotes::install_github(\"e-sensing/Rwtss\", upgrade = \"never\")"
   ]
  },
  {
   "cell_type": "code",
   "execution_count": null,
   "metadata": {},
   "outputs": [],
   "source": [
    "library(Rwtss)    # Package Rwtss\n",
    "library(magrittr) # Package to use pipe operator %>%\n",
    "library(dplyr)    # Package to handle with data frame\n",
    "library(tibble)   # Package to represent data frame structure\n",
    "library(tidyr)    # Package to transform data frame structure"
   ]
  },
  {
   "cell_type": "markdown",
   "metadata": {},
   "source": [
    "Before we start, let's create a variable that corresponds to the URL of the INPE WTSS service."
   ]
  },
  {
   "cell_type": "code",
   "execution_count": null,
   "metadata": {},
   "outputs": [],
   "source": [
    "wtss_inpe <- \"https://brazildatacube.dpi.inpe.br/esensing/wtss\""
   ]
  },
  {
   "cell_type": "markdown",
   "metadata": {},
   "source": [
    "# Retrieving the Time Series\n",
    "<hr style=\"border:1px solid #0077b9;\">"
   ]
  },
  {
   "cell_type": "markdown",
   "metadata": {},
   "source": [
    "Let's suppose we have some labeled point. We can create a tibble to represent this sample set with the following code:"
   ]
  },
  {
   "cell_type": "code",
   "execution_count": null,
   "metadata": {},
   "outputs": [],
   "source": [
    "points <- tibble::tibble(longitude = c(-46.197, -45.666, -45.893,\n",
    "                                       -46.536, -46.545, -46.548,\n",
    "                                       -45.953, -45.627, -45.265),\n",
    "                         latitude  = c(-12.434, -12.461, -12.662,\n",
    "                                       -12.306, -12.310, -12.317,\n",
    "                                       -12.840, -13.157, -12.292),\n",
    "                         label     = c(\"Crop\", \"Crop\", \"Crop\",\n",
    "                                       \"Pasture\", \"Pasture\", \"Pasture\",\n",
    "                                       \"Cerradao\", \"Cerradao\", \"Cerradao\"))\n",
    "\n",
    "points"
   ]
  },
  {
   "cell_type": "markdown",
   "metadata": {},
   "source": [
    "Thus, let's extract the time series for each sample in the that tibble."
   ]
  },
  {
   "cell_type": "code",
   "execution_count": null,
   "metadata": {},
   "outputs": [],
   "source": [
    "tibble_ts <- list()\n",
    "\n",
    "#\n",
    "# get time series from each samples point\n",
    "#\n",
    "for(i in seq_len(nrow(points))) {\n",
    "    time_series <- Rwtss::time_series(wtss_inpe,\n",
    "                                      attributes = c(\"ndvi\", \"evi\"), \n",
    "                                      latitude   = points[i,]$latitude, \n",
    "                                      longitude  = points[i,]$longitude,\n",
    "                                      name       = \"MOD13Q1\",\n",
    "                                      start_date = \"2018-08-01\",\n",
    "                                      end_date   = \"2019-09-01\")\n",
    "    \n",
    "    tibble_ts[i] <- list(time_series)\n",
    "}\n",
    "\n",
    "#\n",
    "# joining time series into a tibble\n",
    "#\n",
    "tibble_ts <- dplyr::bind_rows(tibble_ts)"
   ]
  },
  {
   "cell_type": "markdown",
   "metadata": {},
   "source": [
    "Finally, let's add the labels to our time series tibble."
   ]
  },
  {
   "cell_type": "code",
   "execution_count": null,
   "metadata": {},
   "outputs": [],
   "source": [
    "#\n",
    "# add id to each point\n",
    "#\n",
    "tibble_ts <- tibble_ts %>% dplyr::mutate(id    = 1:nrow(tibble_ts),\n",
    "                                         label = factor(points$label))\n",
    "#\n",
    "# view the first five lines\n",
    "#\n",
    "head(tibble_ts$time_series[[1]], 5)"
   ]
  },
  {
   "cell_type": "markdown",
   "metadata": {},
   "source": [
    "# Time series plots\n",
    "<hr style=\"border:1px solid #0077b9;\">"
   ]
  },
  {
   "cell_type": "markdown",
   "metadata": {},
   "source": [
    "Let's create different plots to present our time series, they are variants of the parallel coordinate plot. First, let's start creating a function to transform our tibble in long format. \n",
    "\n",
    "> For more about tibble format, please refer to [converting data between wide and long format](http://www.cookbook-r.com/Manipulating_data/Converting_data_between_wide_and_long_format/).\n",
    "\n",
    "**Auxiliary function**\n",
    "\n",
    "The function above `wide2long` transforms a wide format tibble to a long format."
   ]
  },
  {
   "cell_type": "code",
   "execution_count": null,
   "metadata": {},
   "outputs": [],
   "source": [
    "#' @description This function transforms a wide tibble to long format\n",
    "#' @param wtss_ts a tibble retrived from wtss time series function\n",
    "#' @param ...     columns to add or remove in long form\n",
    "#' @return a tibble in long format\n",
    "wide2long <- function(wtss_ts, ...) {\n",
    "     \n",
    "     if (!\"wtss\" %in% class(wtss_ts))\n",
    "         stop(\"Provide a wtss time series pattern.\")\n",
    "     \n",
    "    wtss_ts <- wtss_ts %>% \n",
    "     dplyr::group_by(longitude,\n",
    "                     latitude,\n",
    "                     start_date,\n",
    "                     end_date,\n",
    "                     label,\n",
    "                     cube) %>%\n",
    "     tidyr::unnest(cols = c(time_series)) %>% \n",
    "     tidyr::gather(indice, valor, -longitude:-Index, -id, ...)\n",
    "     \n",
    "     return(wtss_ts)\n",
    " } "
   ]
  },
  {
   "cell_type": "markdown",
   "metadata": {},
   "source": [
    "In order to create our plots, we will use [ggplot2](https://CRAN.R-project.org/package=ggplot2 ) package and its complementary packages. So, if you do not have these packages, you can install them using the command in below cell. "
   ]
  },
  {
   "cell_type": "code",
   "execution_count": null,
   "metadata": {},
   "outputs": [],
   "source": [
    "# Remove '#' to install the packages\n",
    "# install.packages(c(\"ggplot2\", \"scales\", \"cowplot\"), quiet = TRUE)"
   ]
  },
  {
   "cell_type": "code",
   "execution_count": null,
   "metadata": {},
   "outputs": [],
   "source": [
    "library(ggplot2)\n",
    "library(scales)\n",
    "library(cowplot)\n",
    "\n",
    "theme_set(theme_cowplot())"
   ]
  },
  {
   "cell_type": "markdown",
   "metadata": {},
   "source": [
    "**Parallel Coordinates by bands - greyscale plot**\n",
    "\n",
    "This graph shows the values of the vegetation indices on the Y axis and the dates of each point in the time series X."
   ]
  },
  {
   "cell_type": "code",
   "execution_count": null,
   "metadata": {},
   "outputs": [],
   "source": [
    "#\n",
    "# change figure size\n",
    "#\n",
    "options(repr.plot.width=14, repr.plot.height=10)\n",
    "\n",
    "tibble_ts %>% \n",
    "  \n",
    "  #\n",
    "  # transform time series to long format\n",
    "  #\n",
    "  \n",
    "  wide2long() %>%\n",
    "\n",
    "  #\n",
    "  # create a base plot with ggplot package\n",
    "  #\n",
    "\n",
    "  ggplot(aes(x=Index,y= valor, group = id)) +\n",
    "  geom_line() + \n",
    "  facet_grid(indice ~ label, scales = \"free\", space = \"free\") +\n",
    "  scale_x_date(name=\"Month\",labels = date_format(\"%Y-%m\"),\n",
    "               breaks='1 month') + \n",
    " \n",
    "  #\n",
    "  # formating axis \n",
    "  #\n",
    "\n",
    "  theme(strip.text.x = element_text(size = 16, colour = \"black\"),\n",
    "        strip.text.y = element_text(size = 16, colour = \"black\"),\n",
    "        plot.title = element_text(size = 12,\n",
    "                                  hjust= 0.5,\n",
    "                                  margin = margin(b = 7)),\n",
    "        axis.text.x = element_text(angle = 90,\n",
    "                                   hjust=-0.5),\n",
    "        legend.position=\"right\",\n",
    "        legend.text = element_text(size = 11)) +\n",
    "\n",
    "  #\n",
    "  # add axis legend\n",
    "  #\n",
    "\n",
    "  labs(title = \"Time series - Greyscale Plot\",\n",
    "       y = \"Values\") + \n",
    "  guides(colour = guide_legend(nrow = 3, override.aes = list(size = 2))) +\n",
    "  panel_border() +\n",
    "  background_grid()"
   ]
  },
  {
   "cell_type": "markdown",
   "metadata": {},
   "source": [
    "**Parallel Coordinates by bands - Color plot**\n",
    "\n",
    "But, to better visualization, lets add different colors to each time series."
   ]
  },
  {
   "cell_type": "code",
   "execution_count": null,
   "metadata": {},
   "outputs": [],
   "source": [
    "#\n",
    "# change figure size\n",
    "#\n",
    "options(repr.plot.width=14, repr.plot.height=10)\n",
    "\n",
    "tibble_ts %>% \n",
    "  \n",
    "  #\n",
    "  # transform time series to long format\n",
    "  #\n",
    "  \n",
    "  wide2long() %>%\n",
    "\n",
    "  #\n",
    "  # create a base plot with ggplot package\n",
    "  #\n",
    "\n",
    "  ggplot(aes(x=Index,y= valor, group = id, color = label)) +\n",
    "  geom_line() + \n",
    "  facet_grid(indice ~ label, scales = \"free\", space = \"free\") +\n",
    "  scale_x_date(name=\"Month\",labels = date_format(\"%Y-%m\"),\n",
    "               breaks='1 month') + \n",
    " \n",
    "  #\n",
    "  # formating axis \n",
    "  #\n",
    "\n",
    "  theme(strip.text.x = element_text(size = 16, colour = \"black\"),\n",
    "        strip.text.y = element_text(size = 16, colour = \"black\"),\n",
    "        plot.title = element_text(size = 12,\n",
    "                                  hjust= 0.5,\n",
    "                                  margin = margin(b = 7)),\n",
    "        axis.text.x = element_text(angle = 90,\n",
    "                                   hjust=-0.5),\n",
    "        legend.position=\"right\",\n",
    "        legend.text = element_text(size = 11)) +\n",
    "\n",
    "  #\n",
    "  # add axis legend\n",
    "  #\n",
    "\n",
    "  labs(title = \"Time series - Colors by class\",\n",
    "       y = \"Values\") + \n",
    "  guides(colour = guide_legend(nrow = 3, override.aes = list(size = 2))) +\n",
    "\n",
    "  #\n",
    "  # add colors by labels\n",
    "  #  \n",
    "\n",
    "  scale_color_manual(name = \"Labels: \",\n",
    "                     labels = c(\"Cerradão\",\n",
    "                                \"Crop\",\n",
    "                                \"Pasture\"),\n",
    "                     values = c(\"#a1dd70\" ,\n",
    "                                \"#ffd319\",\n",
    "                                \"#ff0000\")) +  \n",
    "  panel_border() +\n",
    "  background_grid()"
   ]
  },
  {
   "cell_type": "markdown",
   "metadata": {},
   "source": [
    "**Parallel Coordinates by bands - with statistics**\n",
    "\n",
    "To extract more information of the patterns to each label, we can add some statical measure in it. In below example, its presented a plot based on mean value of each class."
   ]
  },
  {
   "cell_type": "code",
   "execution_count": null,
   "metadata": {},
   "outputs": [],
   "source": [
    "#\n",
    "# change figure size\n",
    "#\n",
    "options(repr.plot.width=14, repr.plot.height=10)\n",
    "\n",
    "tibble_ts %>% \n",
    "  \n",
    "  #\n",
    "  # transform time series to long format\n",
    "  #\n",
    "  \n",
    "  wide2long() %>%\n",
    "\n",
    "  #\n",
    "  # create a base plot with ggplot package (with statistics)\n",
    "  #\n",
    "\n",
    "  ggplot(aes(x=Index,y= valor, group = id, color = label)) +\n",
    "  stat_summary(fun = \"mean\", geom = \"smooth\", size = 1, aes(colour = label, group = label)) +\n",
    "  geom_line(colour = \"#819BB1\", alpha = 0.5) + \n",
    "  facet_grid(indice ~ label, scales = \"free\", space = \"free\") +\n",
    "  scale_x_date(name=\"Month\",labels = date_format(\"%Y-%m\"),\n",
    "               breaks='1 month') + \n",
    " \n",
    "  #\n",
    "  # formating axis \n",
    "  #\n",
    "\n",
    "  theme(strip.text.x = element_text(size = 16, colour = \"black\"),\n",
    "        strip.text.y = element_text(size = 16, colour = \"black\"),\n",
    "        plot.title = element_text(size = 12,\n",
    "                                  hjust= 0.5,\n",
    "                                  margin = margin(b = 7)),\n",
    "        axis.text.x = element_text(angle = 90,\n",
    "                                   hjust=-0.5),\n",
    "        legend.position=\"right\",\n",
    "        legend.text = element_text(size = 11)) +\n",
    "\n",
    "  #\n",
    "  # add axis legend\n",
    "  #\n",
    "\n",
    "  labs(title = \"Time series - with statistics\",\n",
    "       y = \"Values\") + \n",
    "  guides(colour = guide_legend(nrow = 3, override.aes = list(size = 2))) +\n",
    "\n",
    "  #\n",
    "  # add colors by labels\n",
    "  #  \n",
    "\n",
    "  scale_color_manual(name = \"Labels: \",\n",
    "                     labels = c(\"Cerradão\",\n",
    "                                \"Crop\",\n",
    "                                \"Pasture\"),\n",
    "                     values = c(\"#a1dd70\" ,\n",
    "                                \"#ffd319\",\n",
    "                                \"#ff0000\")) +  \n",
    "  panel_border() +\n",
    "  background_grid()"
   ]
  },
  {
   "cell_type": "markdown",
   "metadata": {},
   "source": [
    "# Time Series Smoothing\n",
    "<hr style=\"border:1px solid #0077b9;\">"
   ]
  },
  {
   "cell_type": "markdown",
   "metadata": {},
   "source": [
    "Now, let's see an example of how to apply a smoothing filter to our extracted time series. Firstly, its necessary to install `signal` to use sav-golay filter."
   ]
  },
  {
   "cell_type": "code",
   "execution_count": null,
   "metadata": {},
   "outputs": [],
   "source": [
    "# Remove '#' to install the packages\n",
    "# install.packages(\"signal\", quiet = TRUE)"
   ]
  },
  {
   "cell_type": "code",
   "execution_count": null,
   "metadata": {},
   "outputs": [],
   "source": [
    "# importing signal package\n",
    "library(signal)"
   ]
  },
  {
   "cell_type": "markdown",
   "metadata": {},
   "source": [
    "Let's add each smooth series within our time series list, as presented in the cell below"
   ]
  },
  {
   "cell_type": "code",
   "execution_count": null,
   "metadata": {},
   "outputs": [],
   "source": [
    "# lets add to other variable\n",
    "tibble_ts_smoothed <- tibble_ts\n",
    "\n",
    "for(i in seq_len(nrow(tibble_ts_smoothed))) {\n",
    "    # smoothing the original time series\n",
    "    tibble_ts_smoothed[i,]$time_series[[1]] <- tibble_ts_smoothed[i,]$time_series[[1]] %>% \n",
    "                                                 dplyr::mutate(smooth_ndvi = signal::sgolayfilt(ndvi, n = 7),\n",
    "                                                               smooth_evi  = signal::sgolayfilt(evi, n = 7))\n",
    "}"
   ]
  },
  {
   "cell_type": "markdown",
   "metadata": {},
   "source": [
    "Let's create a plot that presents our smoothed time series and our original time series."
   ]
  },
  {
   "cell_type": "code",
   "execution_count": null,
   "metadata": {},
   "outputs": [],
   "source": [
    "#\n",
    "# change figure size\n",
    "#\n",
    "options(repr.plot.width=14, repr.plot.height=10)\n",
    "\n",
    "\n",
    "tibble_ts_smoothed %>%\n",
    "    \n",
    "  #\n",
    "  # transform time series to long format\n",
    "  #\n",
    "  \n",
    "  wide2long(-evi, -smooth_evi) %>%\n",
    "\n",
    "  #\n",
    "  # create a base plot with ggplot package\n",
    "  #  \n",
    "\n",
    "  ggplot(aes(x = Index, y = valor, group = id)) +\n",
    "  geom_line(aes(colour = indice), alpha = 1, ) + \n",
    "  facet_grid(indice ~ label, scales = \"free\", space = \"free\") +\n",
    "  scale_x_date(name = \"Month\",labels = date_format(\"%Y-%m\"),\n",
    "               breaks = '1 month')  + \n",
    "\n",
    "  #\n",
    "  # formating axis \n",
    "  #\n",
    "\n",
    "  theme(strip.text.x = element_text(size = 16, colour = \"black\"),\n",
    "        strip.text.y = element_text(size = 16, colour = \"black\"),\n",
    "        plot.title = element_text(size = 12,\n",
    "                                  hjust = 0.5,\n",
    "                                  margin = margin(b = 7)),\n",
    "        axis.text.x = element_text(angle = 90,\n",
    "                                   hjust = -0.5),\n",
    "        legend.position=\"right\",\n",
    "        legend.text = element_text(size = 11)) +\n",
    "\n",
    "  #\n",
    "  # add axis legend\n",
    "  #\n",
    "\n",
    "  labs(title = \"Time series - Original x Smooth\",\n",
    "       y = \"Values\") + \n",
    "  guides(colour = guide_legend(nrow = 3, override.aes = list(size = 2))) +\n",
    "\n",
    "  #\n",
    "  # add colors by labels\n",
    "  #\n",
    "\n",
    "  scale_color_manual(name = \"Lines: \",\n",
    "                     labels = c(\"Original NDVI\",\n",
    "                                \"Smoothed NDVI\"),\n",
    "                     values = c(\"#c44569\" ,\n",
    "                                \"#192a56\")) + \n",
    "  panel_border() +\n",
    "  background_grid()"
   ]
  },
  {
   "cell_type": "markdown",
   "metadata": {},
   "source": [
    "# References\n",
    "<hr style=\"border:1px solid #0077b9;\">"
   ]
  },
  {
   "cell_type": "markdown",
   "metadata": {},
   "source": [
    "- [WTSS Server](https://github.com/brazil-data-cube/wtss)\n",
    "\n",
    "- [WTSS OpenAPI 3 Specification](https://github.com/brazil-data-cube/wtss-spec)\n",
    "\n",
    "- [R Client Library for Web Time Series Service - Github Repository](https://github.com/e-sensing/wtss)\n",
    "\n"
   ]
  }
 ],
 "metadata": {
  "kernelspec": {
   "display_name": "R",
   "language": "R",
   "name": "ir"
  },
  "language_info": {
   "codemirror_mode": "r",
   "file_extension": ".r",
   "mimetype": "text/x-r-source",
   "name": "R",
   "pygments_lexer": "r",
   "version": "4.0.3"
  }
 },
 "nbformat": 4,
 "nbformat_minor": 4
}
