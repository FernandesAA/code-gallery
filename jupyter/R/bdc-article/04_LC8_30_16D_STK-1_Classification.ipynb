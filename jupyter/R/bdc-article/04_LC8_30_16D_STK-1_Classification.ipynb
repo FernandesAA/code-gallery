{
 "cells": [
  {
   "cell_type": "markdown",
   "metadata": {},
   "source": [
    "<img src=\"../../../img/logo-bdc.png\" align=\"right\" width=\"64\"/>\n",
    "\n",
    "# <span style=\"color: #336699\">Earth Observation Data Cubes for Brazil: Requirements, Methodology and Products</span>\n",
    "<hr style=\"border:2px solid #0077b9;\">\n",
    "\n",
    "<br/>\n",
    "\n",
    "<div style=\"text-align: center;font-size: 90%;\">\n",
    "    Rolf E. O. Simões <sup><a href=\"mailto:rolf.simoes@inpe.br\"><i class=\"far fa-lg fa-envelope\"></i></a> <a href=\"https://orcid.org/0000-0003-0953-4132\"><i class=\"fab fa-lg fa-orcid\" style=\"color: #a6ce39\"></i></a></sup>, Alber H. Sanchez <sup><a href=\"mailto:alber.ipia@inpe.br\"><i class=\"far fa-lg fa-envelope\"></i></a> <a href=\"https://orcid.org/0000-0001-7966-2880\"><i class=\"fab fa-lg fa-orcid\" style=\"color: #a6ce39\"></i></a></sup>, Felipe M. Carlos <sup><a href=\"mailto:felipe.carlos@inpe.br\"><i class=\"far fa-lg fa-envelope\"></i></a> <a href=\"https://orcid.org/0000-0002-3334-4315\"><i class=\"fab fa-lg fa-orcid\" style=\"color: #a6ce39\"></i></a></sup>, Leonardo S. Vieira <sup><a href=\"mailto:leonardo.vieira@inpe.br\"><i class=\"far fa-lg fa-envelope\"></i></a> <a href=\"https://orcid.org/0000-0002-3397-6232\"><i class=\"fab fa-lg fa-orcid\" style=\"color: #a6ce39\"></i></a></sup>,<br/>\n",
    "    Karine R. Ferreira <sup><a href=\"mailto:karine.ferreira@inpe.br\"><i class=\"far fa-lg fa-envelope\"></i></a> <a href=\"https://orcid.org/0000-0003-2656-5504\"><i class=\"fab fa-lg fa-orcid\" style=\"color: #a6ce39\"></i></a></sup>, Lubia Vinhas <sup><a href=\"mailto:lubia.vinhas@inpe.br\"><i class=\"far fa-lg fa-envelope\"></i></a> <a href=\"https://orcid.org/0000-0003-1104-3607\"><i class=\"fab fa-lg fa-orcid\" style=\"color: #a6ce39\"></i></a></sup>, Gilberto R. Queiroz<sup>* <a href=\"mailto:gilberto.queiroz@inpe.br\"><i class=\"far fa-lg fa-envelope\"></i></a> <a href=\"https://orcid.org/0000-0001-7534-0219\"><i class=\"fab fa-lg fa-orcid\" style=\"color: #a6ce39\"></i></a></sup>\n",
    "    <br/><br/>\n",
    "    Earth Observation and Geoinformatics Division, National Institute for Space Research (INPE)\n",
    "    <br/>\n",
    "    Avenida dos Astronautas, 1758, Jardim da Granja, São José dos Campos, SP 12227-010, Brazil\n",
    "    <br/><br/>\n",
    "    <sup>*</sup> Author to whom correspondence should be addressed.\n",
    "    <br/><br/>\n",
    "    February 24, 2021\n",
    "</div>\n",
    "\n",
    "<br/>\n",
    "\n",
    "<div style=\"text-align: justify;  margin-left: 10%; margin-right: 10%;\">\n",
    "<b>Abstract.</b> This Jupyter Notebook compendium contains useful information for the creation of land use and land cover (LULC) maps using Earth observations data cubes and machine learning (ML) techniques. The code is based on the research pipeline described in the paper <em>Earth Observation Data Cubes for Brazil: Requirements, Methodology and Products</em>. All the datasets required to the reproducibility of the work is also available. \n",
    "</div>    \n",
    "\n",
    "<br/>\n",
    "<div style=\"text-align: justify;  margin-left: 15%; margin-right: 15%;font-size: 75%; border-style: solid; border-color: #0077b9; border-width: 1px; padding: 5px;\">\n",
    "    <b>This Jupyter Notebook is supplement to the <a href=\"https://www.mdpi.com/2072-4292/12/24/4033/htm#sec5-remotesensing-12-04033\" target=\"_blank\">Section 5</a> of the following paper:</b>\n",
    "    <div style=\"margin-left: 10px; margin-right: 10px\">\n",
    "    Ferreira, K.R.; Queiroz, G.R.; Vinhas, L.; Marujo, R.F.B.; Simoes, R.E.O.; Picoli, M.C.A.; Camara, G.; Cartaxo, R.; Gomes, V.C.F.; Santos, L.A.; Sanchez, A.H.; Arcanjo, J.S.; Fronza, J.G.; Noronha, C.A.; Costa, R.W.; Zaglia, M.C.; Zioti, F.; Korting, T.S.; Soares, A.R.; Chaves, M.E.D.; Fonseca, L.M.G. 2020. Earth Observation Data Cubes for Brazil: Requirements, Methodology and Products. Remote Sens. 12, no. 24: 4033. DOI: <a href=\"https://doi.org/10.3390/rs12244033\" target=\"_blank\">10.3390/rs12244033</a>.\n",
    "    </div>\n",
    "</div>"
   ]
  },
  {
   "cell_type": "markdown",
   "metadata": {},
   "source": [
    "# <span style=\"color: #336699\">Land Use and Cover Mapping from Landsat-8/OLI Data Cubes</span>\n",
    "<hr style=\"border:1px solid #0077b9;\">\n",
    "\n",
    "This document will present the steps used to generate the Landsat-8/OLI classification map presented in the paper. As presented in the article, the classification process was done using the [SITS R package](https://github.com/e-sensing/sits).\n"
   ]
  },
  {
   "cell_type": "markdown",
   "metadata": {},
   "source": [
    "## <span style=\"color: #336699\">Study Area and samples</span>\n",
    "<hr style=\"border:0.5px solid #0077b9;\">\n",
    "\n",
    "The article associated with this example of reproduction uses a region of Bahia, Brazil, between the Cerrado and Caatinga biomes, as the study area. In this example, the classification will be done using a small region within the research paper study area to reduce computational complexity.\n",
    "\n",
    "On the other hand, the samples used will be the same ones presented in the article, with the difference that these will have the time series associated with each sample extracted again. The figure below shows the selected region for the classification and used samples.\n",
    "\n",
    "<div align=\"center\">\n",
    "  <img src=\"../../../img/bdc-article/study-area.png\" width=\"600px\">\n",
    "</div>\n",
    "<br/>\n",
    "<center><b>Figure 1</b> - Study area in relation to Brazil and its biomes.</center>"
   ]
  },
  {
   "cell_type": "markdown",
   "metadata": {},
   "source": [
    "## <span style=\"color: #336699\">Parameters</span>\n",
    "<hr style=\"border:0.5px solid #0077b9;\">\n",
    "\n",
    "If you want to download and run this notebook in a workflow as a script, you can perform its parameterization through the [papermill library](https://github.com/nteract/papermill)."
   ]
  },
  {
   "cell_type": "code",
   "execution_count": 1,
   "metadata": {
    "tags": [
     "parameters"
    ]
   },
   "outputs": [],
   "source": [
    "classification_memsize    <- 20 # in GB\n",
    "classification_multicores <- 20\n",
    "\n",
    "start_date  <- \"2018-09-01\"\n",
    "end_date    <- \"2019-08-31\"\n",
    "\n",
    "MY_ACCESS_KEY <- \"My-Token\"\n",
    "Sys.setenv(BDC_ACCESS_KEY = MY_ACCESS_KEY)"
   ]
  },
  {
   "cell_type": "markdown",
   "metadata": {},
   "source": [
    "## <span style=\"color: #336699\">Samples and ROI definition</span>\n",
    "<hr style=\"border:0.5px solid #0077b9;\">"
   ]
  },
  {
   "cell_type": "code",
   "execution_count": 2,
   "metadata": {},
   "outputs": [],
   "source": [
    "# fixed parameters\n",
    "collection  <- \"LC8_30_16D_STK-1\"\n",
    "\n",
    "# define the roi and load samples file\n",
    "roi     <- readRDS(url(\"https://brazildatacube.dpi.inpe.br/geo-knowledge-hub/bdc-article/roi/roi.rds\"))\n",
    "samples <- readRDS(url(\"https://brazildatacube.dpi.inpe.br/geo-knowledge-hub/bdc-article/training-samples/rds/LC8_30_16D_STK_1.rds\"))"
   ]
  },
  {
   "cell_type": "markdown",
   "metadata": {},
   "source": [
    "> All the results generated in this document will be saved in your user's `/home` directory, inside `out` directory"
   ]
  },
  {
   "cell_type": "code",
   "execution_count": 3,
   "metadata": {},
   "outputs": [],
   "source": [
    "output_dir <- paste0(path.expand('~/work'), \"/bdc-article\", \"/results\", \"/LC8_30_16D_STK_1\")\n",
    "\n",
    "dir.create(\n",
    "    path         = output_dir,\n",
    "    showWarnings = FALSE,\n",
    "    recursive    = TRUE\n",
    ")"
   ]
  },
  {
   "cell_type": "code",
   "execution_count": 5,
   "metadata": {},
   "outputs": [
    {
     "name": "stderr",
     "output_type": "stream",
     "text": [
      "SITS - satellite image time series analysis.\n",
      "\n",
      "Loaded sits v0.10.0.\n",
      "        See ?sits for help, citation(\"sits\") for use in publication.\n",
      "        See demo(package = \"sits\") for examples.\n",
      "\n",
      "Using configuration file: /home/jovyan/R/x86_64-pc-linux-gnu-library/4.0/sits/extdata/config.yml\n",
      "\n",
      "Users can provide additional configurations in ~/.sits/config.yml\n",
      "\n",
      "Loading required package: sp\n",
      "\n",
      "rgdal: version: 1.5-23, (SVN revision 1121)\n",
      "Geospatial Data Abstraction Library extensions to R successfully loaded\n",
      "Loaded GDAL runtime: GDAL 3.0.4, released 2020/01/28\n",
      "Path to GDAL shared files: /usr/share/gdal\n",
      "GDAL binary built with GEOS: TRUE \n",
      "Loaded PROJ runtime: Rel. 6.3.1, February 10th, 2020, [PJ_VERSION: 631]\n",
      "Path to PROJ shared files: /usr/share/proj\n",
      "Linking to sp version:1.4-5\n",
      "To mute warnings of possible GDAL/OSR exportToProj4() degradation,\n",
      "use options(\"rgdal_show_exportToProj4_warnings\"=\"none\") before loading rgdal.\n",
      "\n"
     ]
    }
   ],
   "source": [
    "set.seed(777) # pseudo-randomic seed\n",
    "\n",
    "library(sits)\n",
    "library(rgdal)"
   ]
  },
  {
   "cell_type": "markdown",
   "metadata": {},
   "source": [
    "## <span style=\"color: #336699\">Generating datacube using BDC-STAC</span>\n",
    "<hr style=\"border:0.5px solid #0077b9;\">\n",
    "\n",
    "The classification process was done with the use of STAC. In this approach, the data cubes used for the classification are consumed directly through the STAC service. This process is useful for avoiding data movement.\n",
    "\n",
    "Following the definitions of the article, below is the definition of the data cube used. The spectral bands `Red`, `Green`, `Blue`, `Near-Infrared (NIR)` and the vegetation indices `EVI` and `NDVI` are applied in the created cube. The temporal extension used in the research paper covers the period of `2018-09` to `2019-08`."
   ]
  },
  {
   "cell_type": "code",
   "execution_count": 7,
   "metadata": {},
   "outputs": [],
   "source": [
    "cube <- sits_cube(\n",
    "  type        = \"BDC\",\n",
    "  name        = \"cube_to_classify\",\n",
    "  url         = \"https://brazildatacube.dpi.inpe.br/stac/\",\n",
    "  collection  = collection,\n",
    "  start_date  = start_date,\n",
    "  end_date    = end_date,\n",
    "  roi         = roi$search_roi\n",
    ")"
   ]
  },
  {
   "cell_type": "markdown",
   "metadata": {},
   "source": [
    "## <span style=\"color: #336699\">MultiLayer Perceptron model definition</span>\n",
    "<hr style=\"border:0.5px solid #0077b9;\">\n",
    "\n",
    "For the classification of data cubes, the article presents the use of an MLP network with five hidden layers with 512 neurons, trained with the backpropagation algorithm, using the Adam optimizer. The model uses the ReLu activation function.\n",
    "\n",
    "Below is the definition of this model using the [SITS package](https://github.com/e-sensing/sits).\n"
   ]
  },
  {
   "cell_type": "code",
   "execution_count": 9,
   "metadata": {},
   "outputs": [],
   "source": [
    "mlp_model <- sits_deeplearning(layers        = c(512, 512, 512, 512, 512),\n",
    "                               activation    = \"relu\",\n",
    "                               optimizer     = keras::optimizer_adam(lr = 0.001),\n",
    "                               epochs        = 200)"
   ]
  },
  {
   "cell_type": "markdown",
   "metadata": {},
   "source": [
    "Below, the defined model is trained using the same samples used in the article."
   ]
  },
  {
   "cell_type": "code",
   "execution_count": 10,
   "metadata": {},
   "outputs": [],
   "source": [
    "dl_model <- sits_train(samples, mlp_model)"
   ]
  },
  {
   "cell_type": "markdown",
   "metadata": {},
   "source": [
    "## <span style=\"color: #336699\">Classify the datacube</span>\n",
    "<hr style=\"border:0.5px solid #0077b9;\">\n",
    "\n",
    "> This is a time-consuming process\n"
   ]
  },
  {
   "cell_type": "code",
   "execution_count": null,
   "metadata": {},
   "outputs": [
    {
     "name": "stderr",
     "output_type": "stream",
     "text": [
      "Using 6 blocks of size 468 x 5812\n",
      "\n",
      "Starting classification at 2021-02-17 18:51:26\n",
      "\n",
      "Elapsed time 23.5 minute(s).\n",
      "         Estimated total process time 141.1 minute(s)...\n",
      "\n",
      "Elapsed time 47.2 minute(s).\n",
      "         Estimated total process time 141.5 minute(s)...\n",
      "\n",
      "Elapsed time 70.1 minute(s).\n",
      "         Estimated total process time 140.2 minute(s)...\n",
      "\n",
      "Elapsed time 92.7 minute(s).\n",
      "         Estimated total process time 139 minute(s)...\n",
      "\n",
      "Elapsed time 115.9 minute(s).\n",
      "         Estimated total process time 139 minute(s)...\n",
      "\n",
      "Classification finished at 2021-02-17 21:10:35. Total elapsed time: 139.2minute(s).\n",
      "\n",
      "Using 2 blocks of size 494 x 5812\n",
      "\n",
      "Starting classification at 2021-02-17 21:10:40\n",
      "\n"
     ]
    }
   ],
   "source": [
    "probs <- sits_classify(data       = cube,\n",
    "                       ml_model   = dl_model,\n",
    "                       memsize    = classification_memsize,\n",
    "                       multicores = classification_multicores,\n",
    "                       roi        = roi$classification_roi,\n",
    "                       output_dir = output_dir)"
   ]
  },
  {
   "cell_type": "markdown",
   "metadata": {},
   "source": [
    "## <span style=\"color: #336699\">Generate classification label map</span>\n",
    "<hr style=\"border:0.5px solid #0077b9;\">"
   ]
  },
  {
   "cell_type": "code",
   "execution_count": null,
   "metadata": {},
   "outputs": [],
   "source": [
    "probs_smoothed <- sits_smooth(probs, type = \"bayes\", output_dir = output_dir)\n",
    "labels         <- sits_label_classification(probs_smoothed, output_dir = output_dir)"
   ]
  },
  {
   "cell_type": "markdown",
   "metadata": {},
   "source": [
    "## <span style=\"color: #336699\">Visualizing classification map</span>\n",
    "<hr style=\"border:0.5px solid #0077b9;\">\n",
    "\n",
    "> The raster load in this step was generated automaticaly with `sits_label_classification` function\n"
   ]
  },
  {
   "cell_type": "code",
   "execution_count": null,
   "metadata": {},
   "outputs": [],
   "source": [
    "gdalUtils::mosaic_rasters(c(\n",
    "    paste0(output_dir, \"/cube_to_classify_044048_probs_class_2018_8_2019_7_v1.tif\"),\n",
    "    paste0(output_dir, \"/cube_to_classify_044049_probs_class_2018_8_2019_7_v1.tif\")\n",
    "), paste0(output_dir, \"/cube_to_classify_merged_probs_class_2018_8_2019_7_v1.tif\"))\n",
    "\n",
    "plot(\n",
    "    raster::raster(paste0(output_dir, \"/cube_to_classify_merged_probs_class_2018_8_2019_7_v1.tif\"))\n",
    ")"
   ]
  },
  {
   "cell_type": "markdown",
   "metadata": {},
   "source": [
    "## <span style=\"color: #336699\">Save the results</span>\n",
    "<hr style=\"border:0.5px solid #0077b9;\">"
   ]
  },
  {
   "cell_type": "code",
   "execution_count": null,
   "metadata": {},
   "outputs": [],
   "source": [
    "# labels\n",
    "saveRDS(\n",
    "    labels, file = paste0(output_dir, \"/labels.rds\")\n",
    ")\n",
    "\n",
    "# probs\n",
    "saveRDS(\n",
    "    probs, file = paste0(output_dir, \"/probs_cube.rds\")\n",
    ")\n",
    "\n",
    "# smoothed probs\n",
    "saveRDS(\n",
    "    probs_smoothed, file = paste0(output_dir, \"/probs_smoothed_cube.rds\")\n",
    ")"
   ]
  }
 ],
 "metadata": {
  "kernelspec": {
   "display_name": "SITS",
   "language": "R",
   "name": "sits"
  },
  "language_info": {
   "codemirror_mode": "r",
   "file_extension": ".r",
   "mimetype": "text/x-r-source",
   "name": "R",
   "pygments_lexer": "r",
   "version": "4.0.3"
  }
 },
 "nbformat": 4,
 "nbformat_minor": 5
}
