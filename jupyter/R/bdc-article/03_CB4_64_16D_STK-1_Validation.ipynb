{
 "cells": [
  {
   "cell_type": "markdown",
   "metadata": {},
   "source": [
    "<img src=\"../../../img/logo-bdc.png\" align=\"right\" width=\"64\"/>\n",
    "\n",
    "# <span style=\"color: #336699\">Earth Observation Data Cubes for Brazil: Requirements, Methodology and Products</span>\n",
    "<hr style=\"border:2px solid #0077b9;\">\n",
    "\n",
    "<br/>\n",
    "\n",
    "<div style=\"text-align: center;font-size: 90%;\">\n",
    "    Rolf E. O. Simões <sup><a href=\"mailto:rolf.simoes@inpe.br\"><i class=\"far fa-lg fa-envelope\"></i></a> <a href=\"https://orcid.org/0000-0003-0953-4132\"><i class=\"fab fa-lg fa-orcid\" style=\"color: #a6ce39\"></i></a></sup>, Alber H. Sanchez <sup><a href=\"mailto:alber.ipia@inpe.br\"><i class=\"far fa-lg fa-envelope\"></i></a> <a href=\"https://orcid.org/0000-0001-7966-2880\"><i class=\"fab fa-lg fa-orcid\" style=\"color: #a6ce39\"></i></a></sup>, Felipe M. Carlos <sup><a href=\"mailto:felipe.carlos@inpe.br\"><i class=\"far fa-lg fa-envelope\"></i></a> <a href=\"https://orcid.org/0000-0002-3334-4315\"><i class=\"fab fa-lg fa-orcid\" style=\"color: #a6ce39\"></i></a></sup>, Leonardo S. Vieira <sup><a href=\"mailto:leonardo.vieira@inpe.br\"><i class=\"far fa-lg fa-envelope\"></i></a> <a href=\"https://orcid.org/0000-0002-3397-6232\"><i class=\"fab fa-lg fa-orcid\" style=\"color: #a6ce39\"></i></a></sup>,<br/>\n",
    "    Karine R. Ferreira <sup><a href=\"mailto:karine.ferreira@inpe.br\"><i class=\"far fa-lg fa-envelope\"></i></a> <a href=\"https://orcid.org/0000-0003-2656-5504\"><i class=\"fab fa-lg fa-orcid\" style=\"color: #a6ce39\"></i></a></sup>, Lubia Vinhas <sup><a href=\"mailto:lubia.vinhas@inpe.br\"><i class=\"far fa-lg fa-envelope\"></i></a> <a href=\"https://orcid.org/0000-0003-1104-3607\"><i class=\"fab fa-lg fa-orcid\" style=\"color: #a6ce39\"></i></a></sup>, Gilberto R. Queiroz<sup>* <a href=\"mailto:gilberto.queiroz@inpe.br\"><i class=\"far fa-lg fa-envelope\"></i></a> <a href=\"https://orcid.org/0000-0001-7534-0219\"><i class=\"fab fa-lg fa-orcid\" style=\"color: #a6ce39\"></i></a></sup>\n",
    "    <br/><br/>\n",
    "    Earth Observation and Geoinformatics Division, National Institute for Space Research (INPE)\n",
    "    <br/>\n",
    "    Avenida dos Astronautas, 1758, Jardim da Granja, São José dos Campos, SP 12227-010, Brazil\n",
    "    <br/><br/>\n",
    "    <sup>*</sup> Author to whom correspondence should be addressed.\n",
    "    <br/><br/>\n",
    "    February 24, 2021\n",
    "</div>\n",
    "\n",
    "<br/>\n",
    "\n",
    "<div style=\"text-align: justify;  margin-left: 10%; margin-right: 10%;\">\n",
    "<b>Abstract.</b> This Jupyter Notebook compendium contains useful information for the creation of land use and land cover (LULC) maps using Earth observations data cubes and machine learning (ML) techniques. The code is based on the research pipeline described in the paper <em>Earth Observation Data Cubes for Brazil: Requirements, Methodology and Products</em>. All the datasets required to the reproducibility of the work is also available. \n",
    "</div>    \n",
    "\n",
    "<br/>\n",
    "<div style=\"text-align: justify;  margin-left: 15%; margin-right: 15%;font-size: 75%; border-style: solid; border-color: #0077b9; border-width: 1px; padding: 5px;\">\n",
    "    <b>This Jupyter Notebook is supplement to the <a href=\"https://www.mdpi.com/2072-4292/12/24/4033/htm#sec5-remotesensing-12-04033\" target=\"_blank\">Section 5</a> of the following paper:</b>\n",
    "    <div style=\"margin-left: 10px; margin-right: 10px\">\n",
    "    Ferreira, K.R.; Queiroz, G.R.; Vinhas, L.; Marujo, R.F.B.; Simoes, R.E.O.; Picoli, M.C.A.; Camara, G.; Cartaxo, R.; Gomes, V.C.F.; Santos, L.A.; Sanchez, A.H.; Arcanjo, J.S.; Fronza, J.G.; Noronha, C.A.; Costa, R.W.; Zaglia, M.C.; Zioti, F.; Korting, T.S.; Soares, A.R.; Chaves, M.E.D.; Fonseca, L.M.G. 2020. Earth Observation Data Cubes for Brazil: Requirements, Methodology and Products. Remote Sens. 12, no. 24: 4033. DOI: <a href=\"https://doi.org/10.3390/rs12244033\" target=\"_blank\">10.3390/rs12244033</a>.\n",
    "    </div>\n",
    "</div>"
   ]
  },
  {
   "cell_type": "markdown",
   "metadata": {},
   "source": [
    "# <span style=\"color: #336699\">Validation results for CBERS-4/AWFI classification</span>\n",
    "<hr style=\"border:1px solid #0077b9;\">\n",
    "\n",
    "This document presents the process for the validation of the results generated in the classification made using the CBERS-4/AWFI data cube. In this example, the validation process was done using the [SITS R package](https://github.com/e-sensing/sits)\n"
   ]
  },
  {
   "cell_type": "code",
   "execution_count": 1,
   "metadata": {},
   "outputs": [
    {
     "name": "stderr",
     "output_type": "stream",
     "text": [
      "Linking to GEOS 3.8.0, GDAL 3.0.4, PROJ 6.3.1\n",
      "\n",
      "SITS - satellite image time series analysis.\n",
      "\n",
      "Loaded sits v0.10.0.\n",
      "        See ?sits for help, citation(\"sits\") for use in publication.\n",
      "        See demo(package = \"sits\") for examples.\n",
      "\n",
      "Using configuration file: /home/jovyan/R/x86_64-pc-linux-gnu-library/4.0/sits/extdata/config.yml\n",
      "\n",
      "Users can provide additional configurations in ~/.sits/config.yml\n",
      "\n",
      "Loading required package: sp\n",
      "\n"
     ]
    }
   ],
   "source": [
    "library(sf)\n",
    "library(sits)\n",
    "library(raster)"
   ]
  },
  {
   "cell_type": "markdown",
   "metadata": {},
   "source": [
    "## <span style=\"color: #336699\">Load data</span>\n",
    "\n",
    "To perform the validation, it is initially necessary to load the classification results and the samples used as a reference.\n"
   ]
  },
  {
   "cell_type": "code",
   "execution_count": 2,
   "metadata": {},
   "outputs": [
    {
     "name": "stderr",
     "output_type": "stream",
     "text": [
      "Warning message in showSRID(uprojargs, format = \"PROJ\", multiline = \"NO\", prefer_proj = prefer_proj):\n",
      "“Discarded datum Unknown based on GRS80 ellipsoid in Proj4 definition”\n"
     ]
    }
   ],
   "source": [
    "# Load classification results\n",
    "output_dir             <- paste0(path.expand('~/work'), \"/bdc-article\", \"/results\", \"/CB4_64_16D_STK_1\")\n",
    "classification_results <- raster::raster(paste0(output_dir, \"/cube_to_classify_022024_probs_class_2018_8_2019_7_v1.tif\"))\n",
    "\n",
    "# Load classification reference\n",
    "validation_samples <- readRDS(url(\"https://brazildatacube.dpi.inpe.br/geo-knowledge-hub/bdc-article/validation-samples/validation-samples.rds\"))"
   ]
  },
  {
   "cell_type": "markdown",
   "metadata": {},
   "source": [
    "## <span style=\"color: #336699\">Extract predicted values</span>\n",
    "\n",
    "With the rasters and reference samples loaded, it will now be necessary to extract the values corresponding to each of the validation samples' locations from the classified raster. This extraction allows the comparison of the predicted and reference values.\n",
    "\n",
    "> For extraction at each location, the `extract` function of the [raster package](https://cran.r-project.org/web/packages/raster/raster.pdf) is used.\n"
   ]
  },
  {
   "cell_type": "code",
   "execution_count": 40,
   "metadata": {},
   "outputs": [
    {
     "name": "stderr",
     "output_type": "stream",
     "text": [
      "Warning message in .local(x, y, ...):\n",
      "“Transforming SpatialPoints to the CRS of the Raster”\n"
     ]
    }
   ],
   "source": [
    "predicted_values <- raster::extract(\n",
    "  x = classification_results, \n",
    "  y = validation_samples$geom\n",
    ")"
   ]
  },
  {
   "cell_type": "markdown",
   "metadata": {},
   "source": [
    "## <span style=\"color: #336699\">Transform extracted values</span>\n",
    "\n",
    "As described in the article, the classified elements were converted so that the evaluation process could be carried out. Here, the `Agriculture` and `Pasture` elements are unified to represent the `Anthropic` class of PRODES. The `Natural Vegetation` class is not changed for comparison.\n",
    "\n",
    "> When the classification process is carried out, there is no way to specify the values assigned to each of the classes being identified. Thus, it may be necessary to check the classification values and their corresponding elements so that the values are used for comparison. \n"
   ]
  },
  {
   "cell_type": "code",
   "execution_count": null,
   "metadata": {},
   "outputs": [],
   "source": [
    "# Natural Vegetation (2)\n",
    "predicted_values[predicted_values == 2] <- 5\n",
    "\n",
    "# Pasture (2) and Agriculture (3) to PRODES Anthropic class\n",
    "predicted_values[predicted_values == 1] <- 2\n",
    "predicted_values[predicted_values == 3] <- 2\n",
    "\n",
    "# Natural Vegetation (1)\n",
    "predicted_values[predicted_values == 5] <- 1"
   ]
  },
  {
   "cell_type": "markdown",
   "metadata": {},
   "source": [
    "## <span style=\"color: #336699\">Evaluating</span>"
   ]
  },
  {
   "cell_type": "code",
   "execution_count": 42,
   "metadata": {},
   "outputs": [
    {
     "name": "stdout",
     "output_type": "stream",
     "text": [
      "Confusion Matrix and Statistics\n",
      "\n",
      "          Reference\n",
      "Prediction   2   1\n",
      "         2 508  24\n",
      "         1 155 571\n",
      "                               \n",
      "    Accuracy : 0.8577          \n",
      "      95% CI : (0.8372, 0.8766)\n",
      "                               \n",
      "       Kappa : 0.7178          \n",
      "                               \n",
      " Prod Acc  2 : 0.7662          \n",
      " Prod Acc  1 : 0.9597          \n",
      " User Acc  2 : 0.9549          \n",
      " User Acc  1 : 0.7865          \n",
      "                               \n"
     ]
    }
   ],
   "source": [
    "sits_conf_matrix(list(\n",
    "  predicted = predicted_values,\n",
    "  reference = validation_samples$reference\n",
    "))"
   ]
  }
 ],
 "metadata": {
  "kernelspec": {
   "display_name": "SITS",
   "language": "R",
   "name": "sits"
  },
  "language_info": {
   "codemirror_mode": "r",
   "file_extension": ".r",
   "mimetype": "text/x-r-source",
   "name": "R",
   "pygments_lexer": "r",
   "version": "4.0.3"
  }
 },
 "nbformat": 4,
 "nbformat_minor": 5
}
