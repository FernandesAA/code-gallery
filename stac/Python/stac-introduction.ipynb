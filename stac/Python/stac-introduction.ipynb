{
 "cells": [
  {
   "cell_type": "markdown",
   "metadata": {},
   "source": [
    "<img src=\"../../img/logo-bdc.png\" align=\"right\" width=\"64\" />\n",
    "\n",
    "# <span style=\"color:#336699\">SpatioTemporal Asset Catalog (STAC)</span>\n",
    "<hr style=\"border:2px solid #0077b9;\">"
   ]
  },
  {
   "cell_type": "markdown",
   "metadata": {
    "id": "yZn7b78KPQDG"
   },
   "source": [
    "The [**S**patio**T**emporal **A**sset **C**atalog (STAC)](https://stacspec.org/) is a specification created through the colaboration of several organizations intended to increase satellite image search interoperability.\n",
    "\n",
    "The diagram depicted in the picture contains the most important concepts behind the STAC data model:"
   ]
  },
  {
   "cell_type": "markdown",
   "metadata": {},
   "source": [
    "<img src=\"../../img/stac/stac-model.png\" width=\"480\" />\n",
    "<br/>\n",
    "<b>Figura 1</b> - STAC model."
   ]
  },
  {
   "cell_type": "markdown",
   "metadata": {
    "id": "01at9HEIPQDJ"
   },
   "source": [
    "# 1. STAC API\n",
    "<hr style=\"border:1px solid #0077b9;\">\n",
    "\n",
    "The STAC API is the dynamic version of a STAC. It returns `STAC Catalog`, `Collection`, `Item`, `ItemCollection` objects through several *endpoints*.\n",
    "\n",
    "The description of the concepts below are adapted from the [STAC Specification](https://github.com/radiantearth/stac-spec):\n",
    "\n",
    "- **Item**: a `STAC Item` is the atomic unit of metadata in STAC, providing links to the actual `assets` (including thumbnails) that they represent. It is a `GeoJSON Feature` with additional fields for things like time, links to related entities and mainly to the assets. According to the specification, this is the atomic unit that describes the data to be discovered in a `STAC Catalog` or `Collection`.\n",
    "\n",
    "- **Asset**: a `spatiotemporal asset` is any file that represents information about the earth captured in a certain space and time.\n",
    "\n",
    "\n",
    "- **Catalog**: provides a structure to link various `STAC Items` together or even to other `STAC Catalogs` or `Collections`.\n",
    "\n",
    "\n",
    "- **Collection:** is a specialization of the `Catalog` that allows additional information about a spatio-temporal collection of data."
   ]
  },
  {
   "cell_type": "markdown",
   "metadata": {},
   "source": [
    "For running the examples in this Jupyter Notebook you will need to install the [STAC client for Python](https://github.com/brazil-data-cube/stac.py). To install it from the Brazil Data Cube's GitHub repository, you can use `pip` with the following command:"
   ]
  },
  {
   "cell_type": "code",
   "execution_count": null,
   "metadata": {
    "colab": {
     "base_uri": "https://localhost:8080/",
     "height": 311
    },
    "id": "RhG89dwJPQDM",
    "outputId": "c50d7fb0-3ca0-4481-e80f-acfd4ad4017e"
   },
   "outputs": [],
   "source": [
    "!pip install stac.py"
   ]
  },
  {
   "cell_type": "markdown",
   "metadata": {},
   "source": [
    "Let's import the `stac` package, as follows:"
   ]
  },
  {
   "cell_type": "code",
   "execution_count": null,
   "metadata": {
    "id": "Nbh1DWTaPQDY"
   },
   "outputs": [],
   "source": [
    "import stac"
   ]
  },
  {
   "cell_type": "markdown",
   "metadata": {},
   "source": [
    "After that, you can check the installed version of stac package:"
   ]
  },
  {
   "cell_type": "code",
   "execution_count": null,
   "metadata": {},
   "outputs": [],
   "source": [
    "stac.__version__"
   ]
  },
  {
   "cell_type": "markdown",
   "metadata": {},
   "source": [
    "Then, create a `STAC` object called `service` attached to the service address, which will allow us to comunicate to the given `STAC` service."
   ]
  },
  {
   "cell_type": "code",
   "execution_count": null,
   "metadata": {},
   "outputs": [],
   "source": [
    "service = stac.STAC(\"http://brazildatacube.dpi.inpe.br/stac/\")"
   ]
  },
  {
   "cell_type": "markdown",
   "metadata": {},
   "source": [
    "# 2. Listing the Available Data Products\n",
    "<hr style=\"border:1px solid #0077b9;\">"
   ]
  },
  {
   "cell_type": "markdown",
   "metadata": {},
   "source": [
    "calling the `STAC` object retrieves the image collections and data cube collections available in the server."
   ]
  },
  {
   "cell_type": "code",
   "execution_count": null,
   "metadata": {
    "colab": {
     "base_uri": "https://localhost:8080/",
     "height": 406
    },
    "id": "3IKREEUpPQDg",
    "outputId": "9877684a-c575-47b8-d964-3e89c4f61944"
   },
   "outputs": [],
   "source": [
    "service"
   ]
  },
  {
   "cell_type": "markdown",
   "metadata": {},
   "source": [
    "# 3. Retrieving the Metadata of a Data Product\n",
    "<hr style=\"border:1px solid #0077b9;\">"
   ]
  },
  {
   "cell_type": "markdown",
   "metadata": {},
   "source": [
    "The `collection` method returns information about a given image or data cube collection identified by its name. In this example we are retrieving inormation about the datacube collection `CB4_64_16D_STK-1`:"
   ]
  },
  {
   "cell_type": "code",
   "execution_count": null,
   "metadata": {
    "id": "dA0RhGdSPQDn"
   },
   "outputs": [],
   "source": [
    "collection = service.collection('CB4_64_16D_STK-1')\n",
    "collection"
   ]
  },
  {
   "cell_type": "markdown",
   "metadata": {},
   "source": [
    "# 4. Retrieving data\n",
    "<hr style=\"border:1px solid #0077b9;\">"
   ]
  },
  {
   "cell_type": "markdown",
   "metadata": {},
   "source": [
    "The `get_items` method returns a consult given a `bbox` and `datetime`:"
   ]
  },
  {
   "cell_type": "code",
   "execution_count": null,
   "metadata": {
    "colab": {
     "base_uri": "https://localhost:8080/",
     "height": 614
    },
    "id": "6hCWnHXePQDt",
    "outputId": "b32aff37-22a3-43c6-8723-3f47c416cffb",
    "scrolled": true
   },
   "outputs": [],
   "source": [
    "items = collection.get_items(filter={'bbox':'-46.62597656250001,-13.19716452328198,-45.03570556640626,-12.297068292853805',\n",
    "                       'datetime':'2018-08-01/2019-07-31', \n",
    "                       'limit':10})\n",
    "items"
   ]
  },
  {
   "cell_type": "code",
   "execution_count": null,
   "metadata": {
    "colab": {
     "base_uri": "https://localhost:8080/",
     "height": 36
    },
    "id": "TyimexxXPQD1",
    "outputId": "2eb3dfee-bc47-4de8-a4a4-e3485cb37e18"
   },
   "outputs": [],
   "source": [
    "first_date_blue_url = items['features'][0]['assets']['BAND13']['href']\n",
    "first_date_green_url = items['features'][0]['assets']['BAND14']['href']\n",
    "first_date_red_url = items['features'][0]['assets']['BAND15']['href']\n",
    "first_date_blue_url"
   ]
  },
  {
   "cell_type": "code",
   "execution_count": null,
   "metadata": {
    "id": "YWzxK1JIPQD_"
   },
   "outputs": [],
   "source": [
    "import numpy\n",
    "import rasterio\n",
    "\n",
    "from matplotlib import pyplot as plt\n",
    "from rasterio.windows import Window\n",
    "%matplotlib inline"
   ]
  },
  {
   "cell_type": "markdown",
   "metadata": {},
   "source": [
    "Let's use `Window` from the `rasterio` package to read a subset of the original image, in this case from row 0 to row 3000 and column 0 to column 3000"
   ]
  },
  {
   "cell_type": "code",
   "execution_count": null,
   "metadata": {
    "id": "SBW91SsdPQEF"
   },
   "outputs": [],
   "source": [
    "with rasterio.open(first_date_red_url) as dataset:\n",
    "    red = dataset.read(1, window=Window(0, 0, 3000, 3000)) # Window(col_off, row_off, width, height)\n",
    "\n",
    "with rasterio.open(first_date_green_url) as dataset:\n",
    "    green = dataset.read(1, window=Window(0, 0, 3000, 3000)) # Window(col_off, row_off, width, height)\n",
    "    \n",
    "with rasterio.open(first_date_blue_url) as dataset:\n",
    "    blue = dataset.read(1, window=Window(0, 0, 3000, 3000)) # Window(col_off, row_off, width, height)"
   ]
  },
  {
   "cell_type": "markdown",
   "metadata": {},
   "source": [
    "# 5. Visualizing the Images\n",
    "<hr style=\"border:1px solid #0077b9;\">"
   ]
  },
  {
   "cell_type": "code",
   "execution_count": null,
   "metadata": {
    "colab": {
     "base_uri": "https://localhost:8080/",
     "height": 249
    },
    "id": "XBOIh1ifPQEK",
    "outputId": "1fb666b0-c501-47f4-ebde-cb19032b8725"
   },
   "outputs": [],
   "source": [
    "fig, (ax1, ax2, ax3) = plt.subplots(1,3, figsize=(12, 4))\n",
    "ax1.imshow(red, cmap='gray')\n",
    "ax2.imshow(green, cmap='gray')\n",
    "ax3.imshow(blue, cmap='gray')\n",
    "fig.show()"
   ]
  },
  {
   "cell_type": "code",
   "execution_count": null,
   "metadata": {
    "id": "IW8PNPNIPQEO"
   },
   "outputs": [],
   "source": [
    "def normalize(array):\n",
    "    \"\"\"Normalizes numpy arrays into scale 0.0 - 1.0\"\"\"\n",
    "    array_min, array_max = array.min(), array.max()\n",
    "    return ((array - array_min)/(array_max - array_min))"
   ]
  },
  {
   "cell_type": "code",
   "execution_count": null,
   "metadata": {
    "colab": {
     "base_uri": "https://localhost:8080/",
     "height": 287
    },
    "id": "JAOSp8VnPQEV",
    "outputId": "1c7fa67f-050e-43c0-f0c2-b4f11c0bbe95"
   },
   "outputs": [],
   "source": [
    "rgb = numpy.dstack((normalize(red), normalize(green), normalize(blue)))\n",
    "plt.imshow(rgb)"
   ]
  },
  {
   "cell_type": "markdown",
   "metadata": {},
   "source": [
    "# 6. Retrieving data using latlong\n",
    "<hr style=\"border:1px solid #0077b9;\">"
   ]
  },
  {
   "cell_type": "markdown",
   "metadata": {},
   "source": [
    "A function to use latlong instead of the image row and column is defined next:"
   ]
  },
  {
   "cell_type": "code",
   "execution_count": null,
   "metadata": {
    "colab": {
     "base_uri": "https://localhost:8080/",
     "height": 109
    },
    "id": "saQLQ7VTPQEb",
    "outputId": "091173ff-d87a-4918-d0a8-83a7d127b4fa"
   },
   "outputs": [],
   "source": [
    "!pip install pyproj"
   ]
  },
  {
   "cell_type": "code",
   "execution_count": null,
   "metadata": {
    "id": "q6WQd6AfPQEg"
   },
   "outputs": [],
   "source": [
    "from math import floor, ceil\n",
    "from pyproj import Proj\n",
    "\n",
    "def longlat2window(lon, lat, dataset):\n",
    "    \"\"\"\n",
    "    Args:\n",
    "        lon (tuple): Tuple of min and max lon\n",
    "        lat (tuple): Tuple of min and max lat\n",
    "        dataset: Rasterio dataset\n",
    "\n",
    "    Returns:\n",
    "        rasterio.windows.Window\n",
    "    \"\"\"\n",
    "    p = Proj(dataset.crs)\n",
    "    t = dataset.transform\n",
    "    xmin, ymin = p(lon[0], lat[0])\n",
    "    xmax, ymax = p(lon[1], lat[1])\n",
    "    col_min, row_min = ~t * (xmin, ymin)\n",
    "    col_max, row_max = ~t * (xmax, ymax)\n",
    "    return Window.from_slices(rows=(floor(row_max), ceil(row_min)),\n",
    "                              cols=(floor(col_min), ceil(col_max)))"
   ]
  },
  {
   "cell_type": "code",
   "execution_count": null,
   "metadata": {
    "colab": {
     "base_uri": "https://localhost:8080/",
     "height": 249
    },
    "id": "M4vaxmO-PQEk",
    "outputId": "f3f7e348-5fa8-4ecd-8945-07728efa1dff"
   },
   "outputs": [],
   "source": [
    "w = -45.90\n",
    "n = -12.6\n",
    "e = -45.40\n",
    "s = -12.90\n",
    "\n",
    "with rasterio.open(first_date_red_url) as dataset_red:\n",
    "    red = dataset_red.read(1, window = longlat2window((w,e), (s,n), dataset_red))\n",
    "    plt.imshow(red, cmap='gray')\n",
    "    plt.show()"
   ]
  },
  {
   "cell_type": "markdown",
   "metadata": {},
   "source": [
    "# 7. Visualizing Composed Images\n",
    "<hr style=\"border:1px solid #0077b9;\">"
   ]
  },
  {
   "cell_type": "markdown",
   "metadata": {},
   "source": [
    "A color composition can also be made:"
   ]
  },
  {
   "cell_type": "code",
   "execution_count": null,
   "metadata": {
    "id": "sc9sKLDdPQEq"
   },
   "outputs": [],
   "source": [
    "with rasterio.open(first_date_blue_url) as dataset_blue:\n",
    "    blue = dataset_blue.read(1, window = longlat2window((w,e), (s,n), dataset_blue))\n",
    "with rasterio.open(first_date_green_url) as dataset_green:\n",
    "    green = dataset_green.read(1, window = longlat2window((w,e), (s,n), dataset_green))"
   ]
  },
  {
   "cell_type": "code",
   "execution_count": null,
   "metadata": {
    "colab": {
     "base_uri": "https://localhost:8080/",
     "height": 267
    },
    "id": "rX6SWOqCPQEt",
    "outputId": "2a2457fd-f599-4a27-bd87-e7e2b5a9d317"
   },
   "outputs": [],
   "source": [
    "rgb = numpy.dstack((normalize(red), normalize(green), normalize(blue)))\n",
    "plt.imshow(rgb)"
   ]
  },
  {
   "cell_type": "markdown",
   "metadata": {},
   "source": [
    "# 8. References\n",
    "<hr style=\"border:1px solid #0077b9;\">"
   ]
  },
  {
   "cell_type": "markdown",
   "metadata": {},
   "source": [
    "- [Spatio Temporal Asset Catalog Specification](https://stacspec.org/)\n",
    "\n",
    "\n",
    "- [Brazil Data Cube Python Client Library for STAC Service - GitHub Repository](https://github.com/brazil-data-cube/stac.py)"
   ]
  }
 ],
 "metadata": {
  "colab": {
   "name": "techtalk.ipynb",
   "provenance": [],
   "toc_visible": true
  },
  "kernelspec": {
   "display_name": "Python 3",
   "language": "python",
   "name": "python3"
  },
  "language_info": {
   "codemirror_mode": {
    "name": "ipython",
    "version": 3
   },
   "file_extension": ".py",
   "mimetype": "text/x-python",
   "name": "python",
   "nbconvert_exporter": "python",
   "pygments_lexer": "ipython3",
   "version": "3.7.3"
  }
 },
 "nbformat": 4,
 "nbformat_minor": 4
}
